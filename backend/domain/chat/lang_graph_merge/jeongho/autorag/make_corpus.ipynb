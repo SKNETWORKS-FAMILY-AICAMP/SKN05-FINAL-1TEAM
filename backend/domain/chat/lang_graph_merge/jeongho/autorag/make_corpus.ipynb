{
 "cells": [
  {
   "cell_type": "code",
   "execution_count": 10,
   "metadata": {},
   "outputs": [],
   "source": [
    "import os\n",
    "import re\n",
    "from CameraDocument import CameraDocument\n",
    "from glob import glob\n",
    "\n",
    "def extract_number(file_path):\n",
    "    match = re.search(r'(\\d+)\\.json$', file_path)\n",
    "    return int(match.group(1)) if match else None\n",
    "\n",
    "camera_model_list = [\"gfx100ii\", \"x-e4\", \"x-s20\", \"x-t5\", \"x100v\"]\n",
    "json_dir = \"../../indexing/data/json\"\n",
    "\n",
    "documents = []\n",
    "for camera_model in camera_model_list:\n",
    "    detail_json_dir = os.path.join(json_dir, camera_model, \"LlamaParseMultimodal\", \"processed_data\")\n",
    "    json_path = os.path.join(detail_json_dir, \"*.json\")\n",
    "    json_list = glob(json_path)\n",
    "    json_list = sorted(json_list, key=extract_number)\n",
    "\n",
    "    for i, path in enumerate(json_list):\n",
    "        document = CameraDocument()\n",
    "        document.load_json(path)\n",
    "        documents.append(document)"
   ]
  },
  {
   "cell_type": "code",
   "execution_count": 82,
   "metadata": {},
   "outputs": [],
   "source": [
    "import pandas as pd\n",
    "\n",
    "doc_id = []\n",
    "contents = []\n",
    "metadata = []\n",
    "for i, document in enumerate(documents):\n",
    "    doc_id.append(f\"{document.metadata['model']}_page{document.metadata['page']}\")\n",
    "    contents.append(document.parsing_result)\n",
    "    metadata.append(\n",
    "        {\n",
    "            \"page\": document.metadata['page'],\n",
    "            \"model\": document.metadata['model'],\n",
    "            \"chapter\": document.metadata['chapter'],\n",
    "            \"section\": document.metadata['section'],\n",
    "            \"subsection\": list(document.metadata['subsection'])\n",
    "        }\n",
    "    )\n",
    "    \n",
    "corpus_df = pd.DataFrame(\n",
    "    {\n",
    "        \"doc_id\": doc_id,\n",
    "        \"contents\": contents,\n",
    "        \"metadata\": metadata\n",
    "    }\n",
    ")"
   ]
  },
  {
   "cell_type": "code",
   "execution_count": 83,
   "metadata": {},
   "outputs": [],
   "source": [
    "corpus_df.to_parquet(\"./project_dir/data/corpus.parquet\")"
   ]
  },
  {
   "cell_type": "code",
   "execution_count": 90,
   "metadata": {},
   "outputs": [],
   "source": [
    "import pandas as pd\n",
    "a = pd.read_parquet(\"./project_dir/data/corpus.parquet\", engine=\"pyarrow\")"
   ]
  },
  {
   "cell_type": "code",
   "execution_count": 91,
   "metadata": {},
   "outputs": [
    {
     "data": {
      "text/html": [
       "<div>\n",
       "<style scoped>\n",
       "    .dataframe tbody tr th:only-of-type {\n",
       "        vertical-align: middle;\n",
       "    }\n",
       "\n",
       "    .dataframe tbody tr th {\n",
       "        vertical-align: top;\n",
       "    }\n",
       "\n",
       "    .dataframe thead th {\n",
       "        text-align: right;\n",
       "    }\n",
       "</style>\n",
       "<table border=\"1\" class=\"dataframe\">\n",
       "  <thead>\n",
       "    <tr style=\"text-align: right;\">\n",
       "      <th></th>\n",
       "      <th>doc_id</th>\n",
       "      <th>contents</th>\n",
       "      <th>metadata</th>\n",
       "    </tr>\n",
       "  </thead>\n",
       "  <tbody>\n",
       "    <tr>\n",
       "      <th>0</th>\n",
       "      <td>gfx100ii_page2</td>\n",
       "      <td># Parts of the Camera\\n\\n!Parts of the Camera\\...</td>\n",
       "      <td>{'chapter': 'Before You Begin', 'model': 'gfx1...</td>\n",
       "    </tr>\n",
       "    <tr>\n",
       "      <th>1</th>\n",
       "      <td>gfx100ii_page3</td>\n",
       "      <td># Parts of the Camera\\n\\n!Camera Diagram\\n\\n##...</td>\n",
       "      <td>{'chapter': 'Before You Begin', 'model': 'gfx1...</td>\n",
       "    </tr>\n",
       "    <tr>\n",
       "      <th>2</th>\n",
       "      <td>gfx100ii_page4</td>\n",
       "      <td># Before You Begin\\n\\n!Camera Diagram\\n\\n### D...</td>\n",
       "      <td>{'chapter': 'Before You Begin', 'model': 'gfx1...</td>\n",
       "    </tr>\n",
       "    <tr>\n",
       "      <th>3</th>\n",
       "      <td>gfx100ii_page5</td>\n",
       "      <td># The Cable Protector\\n\\nAttach the protector ...</td>\n",
       "      <td>{'chapter': 'Before You Begin', 'model': 'gfx1...</td>\n",
       "    </tr>\n",
       "    <tr>\n",
       "      <th>4</th>\n",
       "      <td>gfx100ii_page6</td>\n",
       "      <td># Before You Begin\\n\\n## The Serial Number Pla...</td>\n",
       "      <td>{'chapter': 'Before You Begin', 'model': 'gfx1...</td>\n",
       "    </tr>\n",
       "    <tr>\n",
       "      <th>...</th>\n",
       "      <td>...</td>\n",
       "      <td>...</td>\n",
       "      <td>...</td>\n",
       "    </tr>\n",
       "    <tr>\n",
       "      <th>1838</th>\n",
       "      <td>x100v_page319</td>\n",
       "      <td># Specifications\\n\\n## System\\n\\n### Metering\\...</td>\n",
       "      <td>{'chapter': 'Technical Notes', 'model': 'x100v...</td>\n",
       "    </tr>\n",
       "    <tr>\n",
       "      <th>1839</th>\n",
       "      <td>x100v_page320</td>\n",
       "      <td>\\n# System\\n\\n## Continuous\\n\\n| CONTINUOUS MO...</td>\n",
       "      <td>{'chapter': 'Technical Notes', 'model': 'x100v...</td>\n",
       "    </tr>\n",
       "    <tr>\n",
       "      <th>1840</th>\n",
       "      <td>x100v_page321</td>\n",
       "      <td>\\n# Specifications\\n\\n## System\\n\\n### Flash M...</td>\n",
       "      <td>{'chapter': 'Technical Notes', 'model': 'x100v...</td>\n",
       "    </tr>\n",
       "    <tr>\n",
       "      <th>1841</th>\n",
       "      <td>x100v_page322</td>\n",
       "      <td>\\n# Power Supply/Other\\n\\n## Power Supply\\n- *...</td>\n",
       "      <td>{'chapter': 'Technical Notes', 'model': 'x100v...</td>\n",
       "    </tr>\n",
       "    <tr>\n",
       "      <th>1842</th>\n",
       "      <td>x100v_page323</td>\n",
       "      <td>\\n# Specifications\\n\\n## Wireless Transmitter\\...</td>\n",
       "      <td>{'chapter': 'Technical Notes', 'model': 'x100v...</td>\n",
       "    </tr>\n",
       "  </tbody>\n",
       "</table>\n",
       "<p>1843 rows × 3 columns</p>\n",
       "</div>"
      ],
      "text/plain": [
       "              doc_id                                           contents  \\\n",
       "0     gfx100ii_page2  # Parts of the Camera\\n\\n!Parts of the Camera\\...   \n",
       "1     gfx100ii_page3  # Parts of the Camera\\n\\n!Camera Diagram\\n\\n##...   \n",
       "2     gfx100ii_page4  # Before You Begin\\n\\n!Camera Diagram\\n\\n### D...   \n",
       "3     gfx100ii_page5  # The Cable Protector\\n\\nAttach the protector ...   \n",
       "4     gfx100ii_page6  # Before You Begin\\n\\n## The Serial Number Pla...   \n",
       "...              ...                                                ...   \n",
       "1838   x100v_page319  # Specifications\\n\\n## System\\n\\n### Metering\\...   \n",
       "1839   x100v_page320  \\n# System\\n\\n## Continuous\\n\\n| CONTINUOUS MO...   \n",
       "1840   x100v_page321  \\n# Specifications\\n\\n## System\\n\\n### Flash M...   \n",
       "1841   x100v_page322  \\n# Power Supply/Other\\n\\n## Power Supply\\n- *...   \n",
       "1842   x100v_page323  \\n# Specifications\\n\\n## Wireless Transmitter\\...   \n",
       "\n",
       "                                               metadata  \n",
       "0     {'chapter': 'Before You Begin', 'model': 'gfx1...  \n",
       "1     {'chapter': 'Before You Begin', 'model': 'gfx1...  \n",
       "2     {'chapter': 'Before You Begin', 'model': 'gfx1...  \n",
       "3     {'chapter': 'Before You Begin', 'model': 'gfx1...  \n",
       "4     {'chapter': 'Before You Begin', 'model': 'gfx1...  \n",
       "...                                                 ...  \n",
       "1838  {'chapter': 'Technical Notes', 'model': 'x100v...  \n",
       "1839  {'chapter': 'Technical Notes', 'model': 'x100v...  \n",
       "1840  {'chapter': 'Technical Notes', 'model': 'x100v...  \n",
       "1841  {'chapter': 'Technical Notes', 'model': 'x100v...  \n",
       "1842  {'chapter': 'Technical Notes', 'model': 'x100v...  \n",
       "\n",
       "[1843 rows x 3 columns]"
      ]
     },
     "execution_count": 91,
     "metadata": {},
     "output_type": "execute_result"
    }
   ],
   "source": [
    "a"
   ]
  },
  {
   "cell_type": "code",
   "execution_count": 59,
   "metadata": {},
   "outputs": [
    {
     "data": {
      "text/plain": [
       "{'page': 2,\n",
       " 'model': 'gfx100ii',\n",
       " 'chapter': 'Before You Begin',\n",
       " 'section': 'Parts of the Camera',\n",
       " 'subsection': ['Parts of the Camera']}"
      ]
     },
     "execution_count": 59,
     "metadata": {},
     "output_type": "execute_result"
    }
   ],
   "source": [
    "corpus_df['metadata'][0]"
   ]
  },
  {
   "cell_type": "code",
   "execution_count": 65,
   "metadata": {},
   "outputs": [
    {
     "data": {
      "text/plain": [
       "{'page': 2,\n",
       " 'model': 'gfx100ii',\n",
       " 'chapter': 'Before You Begin',\n",
       " 'section': 'Parts of the Camera',\n",
       " 'subsection': ['Parts of the Camera']}"
      ]
     },
     "execution_count": 65,
     "metadata": {},
     "output_type": "execute_result"
    }
   ],
   "source": [
    "corpus_df['metadata'][0]"
   ]
  },
  {
   "cell_type": "code",
   "execution_count": 104,
   "metadata": {},
   "outputs": [
    {
     "data": {
      "text/plain": [
       "1843"
      ]
     },
     "execution_count": 104,
     "metadata": {},
     "output_type": "execute_result"
    }
   ],
   "source": [
    "len(a)"
   ]
  },
  {
   "cell_type": "code",
   "execution_count": 109,
   "metadata": {},
   "outputs": [],
   "source": [
    "for i in range(len(a)):\n",
    "    a[\"metadata\"][i][\"subsection\"] = list(a[\"metadata\"][i][\"subsection\"])"
   ]
  },
  {
   "cell_type": "code",
   "execution_count": 110,
   "metadata": {},
   "outputs": [
    {
     "data": {
      "text/plain": [
       "{'chapter': 'Before You Begin',\n",
       " 'model': 'gfx100ii',\n",
       " 'page': 2,\n",
       " 'section': 'Parts of the Camera',\n",
       " 'subsection': ['Parts of the Camera']}"
      ]
     },
     "execution_count": 110,
     "metadata": {},
     "output_type": "execute_result"
    }
   ],
   "source": [
    "a.loc[corpus_df[\"doc_id\"] == \"gfx100ii_page2\", \"metadata\"].values[0]"
   ]
  },
  {
   "cell_type": "code",
   "execution_count": 93,
   "metadata": {},
   "outputs": [
    {
     "data": {
      "text/plain": [
       "{'chapter': 'The Setup Menus',\n",
       " 'model': 'x-t5',\n",
       " 'page': 287,\n",
       " 'section': 'SCREEN SETTING',\n",
       " 'subsection': array(['F-Log VIEW ASSIST', 'ELECTRONIC LEVEL SETTING'], dtype=object)}"
      ]
     },
     "execution_count": 93,
     "metadata": {},
     "output_type": "execute_result"
    }
   ],
   "source": [
    "a['metadata'][1422]"
   ]
  },
  {
   "cell_type": "code",
   "execution_count": 75,
   "metadata": {},
   "outputs": [
    {
     "data": {
      "text/plain": [
       "{'chapter': 'The Setup Menus',\n",
       " 'model': 'x-t5',\n",
       " 'page': 287,\n",
       " 'section': 'SCREEN SETTING',\n",
       " 'subsection': array(['F-Log VIEW ASSIST', 'ELECTRONIC LEVEL SETTING'], dtype=object)}"
      ]
     },
     "execution_count": 75,
     "metadata": {},
     "output_type": "execute_result"
    }
   ],
   "source": [
    "a['metadata'][1422]"
   ]
  },
  {
   "cell_type": "code",
   "execution_count": 52,
   "metadata": {},
   "outputs": [
    {
     "name": "stdout",
     "output_type": "stream",
     "text": [
      "None\n"
     ]
    }
   ],
   "source": [
    "print(a['metadata'][0][\"embedding_model\"])"
   ]
  }
 ],
 "metadata": {
  "kernelspec": {
   "display_name": "RAGprojects_env",
   "language": "python",
   "name": "python3"
  },
  "language_info": {
   "codemirror_mode": {
    "name": "ipython",
    "version": 3
   },
   "file_extension": ".py",
   "mimetype": "text/x-python",
   "name": "python",
   "nbconvert_exporter": "python",
   "pygments_lexer": "ipython3",
   "version": "3.12.3"
  }
 },
 "nbformat": 4,
 "nbformat_minor": 2
}
