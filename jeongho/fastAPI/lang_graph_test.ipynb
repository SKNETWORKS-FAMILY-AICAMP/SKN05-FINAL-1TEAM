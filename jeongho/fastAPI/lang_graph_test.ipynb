{
 "cells": [
  {
   "cell_type": "markdown",
   "metadata": {},
   "source": [
    "# Compile app"
   ]
  },
  {
   "cell_type": "code",
   "execution_count": 1,
   "metadata": {},
   "outputs": [
    {
     "data": {
      "text/html": [
       "<pre style=\"white-space:pre;overflow-x:auto;line-height:normal;font-family:Menlo,'DejaVu Sans Mono',consolas,'Courier New',monospace\"><span style=\"color: #7fbfbf; text-decoration-color: #7fbfbf\">[02/09/25 04:34:27] </span><span style=\"color: #000080; text-decoration-color: #000080\">INFO    </span> <span style=\"font-weight: bold\">[</span>__init__.py:<span style=\"color: #008080; text-decoration-color: #008080; font-weight: bold\">81</span><span style=\"font-weight: bold\">]</span> &gt;&gt; You are using API version of AutoRAG.To use local   <a href=\"file:///home/jeongho/git/SKN05-FINAL-1TEAM/jeongho/RAG_env/lib/python3.12/site-packages/autorag/__init__.py\" target=\"_blank\"><span style=\"color: #7f7f7f; text-decoration-color: #7f7f7f\">__init__.py</span></a><span style=\"color: #7f7f7f; text-decoration-color: #7f7f7f\">:</span><a href=\"file:///home/jeongho/git/SKN05-FINAL-1TEAM/jeongho/RAG_env/lib/python3.12/site-packages/autorag/__init__.py#81\" target=\"_blank\"><span style=\"color: #7f7f7f; text-decoration-color: #7f7f7f\">81</span></a>\n",
       "<span style=\"color: #7fbfbf; text-decoration-color: #7fbfbf\">                    </span>         version, run pip install <span style=\"color: #008000; text-decoration-color: #008000\">'AutoRAG[gpu]'</span>                                 <span style=\"color: #7f7f7f; text-decoration-color: #7f7f7f\">              </span>\n",
       "</pre>\n"
      ],
      "text/plain": [
       "\u001b[2;36m[02/09/25 04:34:27]\u001b[0m\u001b[2;36m \u001b[0m\u001b[34mINFO    \u001b[0m \u001b[1m[\u001b[0m__init__.py:\u001b[1;36m81\u001b[0m\u001b[1m]\u001b[0m >> You are using API version of AutoRAG.To use local   \u001b]8;id=987818;file:///home/jeongho/git/SKN05-FINAL-1TEAM/jeongho/RAG_env/lib/python3.12/site-packages/autorag/__init__.py\u001b\\\u001b[2m__init__.py\u001b[0m\u001b]8;;\u001b\\\u001b[2m:\u001b[0m\u001b]8;id=979906;file:///home/jeongho/git/SKN05-FINAL-1TEAM/jeongho/RAG_env/lib/python3.12/site-packages/autorag/__init__.py#81\u001b\\\u001b[2m81\u001b[0m\u001b]8;;\u001b\\\n",
       "\u001b[2;36m                    \u001b[0m         version, run pip install \u001b[32m'AutoRAG\u001b[0m\u001b[32m[\u001b[0m\u001b[32mgpu\u001b[0m\u001b[32m]\u001b[0m\u001b[32m'\u001b[0m                                 \u001b[2m              \u001b[0m\n"
      ]
     },
     "metadata": {},
     "output_type": "display_data"
    },
    {
     "data": {
      "text/html": [
       "<pre style=\"white-space:pre;overflow-x:auto;line-height:normal;font-family:Menlo,'DejaVu Sans Mono',consolas,'Courier New',monospace\"><span style=\"color: #7fbfbf; text-decoration-color: #7fbfbf\">                    </span><span style=\"color: #000080; text-decoration-color: #000080\">INFO    </span> <span style=\"font-weight: bold\">[</span>base.py:<span style=\"color: #008080; text-decoration-color: #008080; font-weight: bold\">17</span><span style=\"font-weight: bold\">]</span> &gt;&gt; Initialize query expansion node - QueryDecompose module<span style=\"color: #808000; text-decoration-color: #808000\">...</span>  <a href=\"file:///home/jeongho/git/SKN05-FINAL-1TEAM/jeongho/RAG_env/lib/python3.12/site-packages/autorag/nodes/queryexpansion/base.py\" target=\"_blank\"><span style=\"color: #7f7f7f; text-decoration-color: #7f7f7f\">base.py</span></a><span style=\"color: #7f7f7f; text-decoration-color: #7f7f7f\">:</span><a href=\"file:///home/jeongho/git/SKN05-FINAL-1TEAM/jeongho/RAG_env/lib/python3.12/site-packages/autorag/nodes/queryexpansion/base.py#17\" target=\"_blank\"><span style=\"color: #7f7f7f; text-decoration-color: #7f7f7f\">17</span></a>\n",
       "</pre>\n"
      ],
      "text/plain": [
       "\u001b[2;36m                   \u001b[0m\u001b[2;36m \u001b[0m\u001b[34mINFO    \u001b[0m \u001b[1m[\u001b[0mbase.py:\u001b[1;36m17\u001b[0m\u001b[1m]\u001b[0m >> Initialize query expansion node - QueryDecompose module\u001b[33m...\u001b[0m  \u001b]8;id=241126;file:///home/jeongho/git/SKN05-FINAL-1TEAM/jeongho/RAG_env/lib/python3.12/site-packages/autorag/nodes/queryexpansion/base.py\u001b\\\u001b[2mbase.py\u001b[0m\u001b]8;;\u001b\\\u001b[2m:\u001b[0m\u001b]8;id=696900;file:///home/jeongho/git/SKN05-FINAL-1TEAM/jeongho/RAG_env/lib/python3.12/site-packages/autorag/nodes/queryexpansion/base.py#17\u001b\\\u001b[2m17\u001b[0m\u001b]8;;\u001b\\\n"
      ]
     },
     "metadata": {},
     "output_type": "display_data"
    },
    {
     "data": {
      "text/html": [
       "<pre style=\"white-space:pre;overflow-x:auto;line-height:normal;font-family:Menlo,'DejaVu Sans Mono',consolas,'Courier New',monospace\"><span style=\"color: #7fbfbf; text-decoration-color: #7fbfbf\">                    </span><span style=\"color: #000080; text-decoration-color: #000080\">INFO    </span> <span style=\"font-weight: bold\">[</span>base.py:<span style=\"color: #008080; text-decoration-color: #008080; font-weight: bold\">19</span><span style=\"font-weight: bold\">]</span> &gt;&gt; Initialize generator node - LlamaIndexLLM                   <a href=\"file:///home/jeongho/git/SKN05-FINAL-1TEAM/jeongho/RAG_env/lib/python3.12/site-packages/autorag/nodes/generator/base.py\" target=\"_blank\"><span style=\"color: #7f7f7f; text-decoration-color: #7f7f7f\">base.py</span></a><span style=\"color: #7f7f7f; text-decoration-color: #7f7f7f\">:</span><a href=\"file:///home/jeongho/git/SKN05-FINAL-1TEAM/jeongho/RAG_env/lib/python3.12/site-packages/autorag/nodes/generator/base.py#19\" target=\"_blank\"><span style=\"color: #7f7f7f; text-decoration-color: #7f7f7f\">19</span></a>\n",
       "</pre>\n"
      ],
      "text/plain": [
       "\u001b[2;36m                   \u001b[0m\u001b[2;36m \u001b[0m\u001b[34mINFO    \u001b[0m \u001b[1m[\u001b[0mbase.py:\u001b[1;36m19\u001b[0m\u001b[1m]\u001b[0m >> Initialize generator node - LlamaIndexLLM                   \u001b]8;id=862488;file:///home/jeongho/git/SKN05-FINAL-1TEAM/jeongho/RAG_env/lib/python3.12/site-packages/autorag/nodes/generator/base.py\u001b\\\u001b[2mbase.py\u001b[0m\u001b]8;;\u001b\\\u001b[2m:\u001b[0m\u001b]8;id=768345;file:///home/jeongho/git/SKN05-FINAL-1TEAM/jeongho/RAG_env/lib/python3.12/site-packages/autorag/nodes/generator/base.py#19\u001b\\\u001b[2m19\u001b[0m\u001b]8;;\u001b\\\n"
      ]
     },
     "metadata": {},
     "output_type": "display_data"
    },
    {
     "data": {
      "text/html": [
       "<pre style=\"white-space:pre;overflow-x:auto;line-height:normal;font-family:Menlo,'DejaVu Sans Mono',consolas,'Courier New',monospace\"><span style=\"color: #7fbfbf; text-decoration-color: #7fbfbf\">                    </span><span style=\"color: #000080; text-decoration-color: #000080\">INFO    </span> <span style=\"font-weight: bold\">[</span>base.py:<span style=\"color: #008080; text-decoration-color: #008080; font-weight: bold\">17</span><span style=\"font-weight: bold\">]</span> &gt;&gt; Initialize query expansion node - MultiQueryExpansion       <a href=\"file:///home/jeongho/git/SKN05-FINAL-1TEAM/jeongho/RAG_env/lib/python3.12/site-packages/autorag/nodes/queryexpansion/base.py\" target=\"_blank\"><span style=\"color: #7f7f7f; text-decoration-color: #7f7f7f\">base.py</span></a><span style=\"color: #7f7f7f; text-decoration-color: #7f7f7f\">:</span><a href=\"file:///home/jeongho/git/SKN05-FINAL-1TEAM/jeongho/RAG_env/lib/python3.12/site-packages/autorag/nodes/queryexpansion/base.py#17\" target=\"_blank\"><span style=\"color: #7f7f7f; text-decoration-color: #7f7f7f\">17</span></a>\n",
       "<span style=\"color: #7fbfbf; text-decoration-color: #7fbfbf\">                    </span>         module<span style=\"color: #808000; text-decoration-color: #808000\">...</span>                                                                   <span style=\"color: #7f7f7f; text-decoration-color: #7f7f7f\">          </span>\n",
       "</pre>\n"
      ],
      "text/plain": [
       "\u001b[2;36m                   \u001b[0m\u001b[2;36m \u001b[0m\u001b[34mINFO    \u001b[0m \u001b[1m[\u001b[0mbase.py:\u001b[1;36m17\u001b[0m\u001b[1m]\u001b[0m >> Initialize query expansion node - MultiQueryExpansion       \u001b]8;id=312957;file:///home/jeongho/git/SKN05-FINAL-1TEAM/jeongho/RAG_env/lib/python3.12/site-packages/autorag/nodes/queryexpansion/base.py\u001b\\\u001b[2mbase.py\u001b[0m\u001b]8;;\u001b\\\u001b[2m:\u001b[0m\u001b]8;id=463610;file:///home/jeongho/git/SKN05-FINAL-1TEAM/jeongho/RAG_env/lib/python3.12/site-packages/autorag/nodes/queryexpansion/base.py#17\u001b\\\u001b[2m17\u001b[0m\u001b]8;;\u001b\\\n",
       "\u001b[2;36m                    \u001b[0m         module\u001b[33m...\u001b[0m                                                                   \u001b[2m          \u001b[0m\n"
      ]
     },
     "metadata": {},
     "output_type": "display_data"
    },
    {
     "data": {
      "text/html": [
       "<pre style=\"white-space:pre;overflow-x:auto;line-height:normal;font-family:Menlo,'DejaVu Sans Mono',consolas,'Courier New',monospace\"><span style=\"color: #7fbfbf; text-decoration-color: #7fbfbf\">                    </span><span style=\"color: #000080; text-decoration-color: #000080\">INFO    </span> <span style=\"font-weight: bold\">[</span>base.py:<span style=\"color: #008080; text-decoration-color: #008080; font-weight: bold\">19</span><span style=\"font-weight: bold\">]</span> &gt;&gt; Initialize generator node - LlamaIndexLLM                   <a href=\"file:///home/jeongho/git/SKN05-FINAL-1TEAM/jeongho/RAG_env/lib/python3.12/site-packages/autorag/nodes/generator/base.py\" target=\"_blank\"><span style=\"color: #7f7f7f; text-decoration-color: #7f7f7f\">base.py</span></a><span style=\"color: #7f7f7f; text-decoration-color: #7f7f7f\">:</span><a href=\"file:///home/jeongho/git/SKN05-FINAL-1TEAM/jeongho/RAG_env/lib/python3.12/site-packages/autorag/nodes/generator/base.py#19\" target=\"_blank\"><span style=\"color: #7f7f7f; text-decoration-color: #7f7f7f\">19</span></a>\n",
       "</pre>\n"
      ],
      "text/plain": [
       "\u001b[2;36m                   \u001b[0m\u001b[2;36m \u001b[0m\u001b[34mINFO    \u001b[0m \u001b[1m[\u001b[0mbase.py:\u001b[1;36m19\u001b[0m\u001b[1m]\u001b[0m >> Initialize generator node - LlamaIndexLLM                   \u001b]8;id=165854;file:///home/jeongho/git/SKN05-FINAL-1TEAM/jeongho/RAG_env/lib/python3.12/site-packages/autorag/nodes/generator/base.py\u001b\\\u001b[2mbase.py\u001b[0m\u001b]8;;\u001b\\\u001b[2m:\u001b[0m\u001b]8;id=613430;file:///home/jeongho/git/SKN05-FINAL-1TEAM/jeongho/RAG_env/lib/python3.12/site-packages/autorag/nodes/generator/base.py#19\u001b\\\u001b[2m19\u001b[0m\u001b]8;;\u001b\\\n"
      ]
     },
     "metadata": {},
     "output_type": "display_data"
    },
    {
     "data": {
      "text/html": [
       "<pre style=\"white-space:pre;overflow-x:auto;line-height:normal;font-family:Menlo,'DejaVu Sans Mono',consolas,'Courier New',monospace\"><span style=\"color: #7fbfbf; text-decoration-color: #7fbfbf\">                    </span><span style=\"color: #000080; text-decoration-color: #000080\">INFO    </span> <span style=\"font-weight: bold\">[</span>config.py:<span style=\"color: #008080; text-decoration-color: #008080; font-weight: bold\">54</span><span style=\"font-weight: bold\">]</span> &gt;&gt; PyTorch version <span style=\"color: #008080; text-decoration-color: #008080; font-weight: bold\">2.6</span>.<span style=\"color: #008080; text-decoration-color: #008080; font-weight: bold\">0</span> available.                        <a href=\"file:///home/jeongho/git/SKN05-FINAL-1TEAM/jeongho/RAG_env/lib/python3.12/site-packages/datasets/config.py\" target=\"_blank\"><span style=\"color: #7f7f7f; text-decoration-color: #7f7f7f\">config.py</span></a><span style=\"color: #7f7f7f; text-decoration-color: #7f7f7f\">:</span><a href=\"file:///home/jeongho/git/SKN05-FINAL-1TEAM/jeongho/RAG_env/lib/python3.12/site-packages/datasets/config.py#54\" target=\"_blank\"><span style=\"color: #7f7f7f; text-decoration-color: #7f7f7f\">54</span></a>\n",
       "</pre>\n"
      ],
      "text/plain": [
       "\u001b[2;36m                   \u001b[0m\u001b[2;36m \u001b[0m\u001b[34mINFO    \u001b[0m \u001b[1m[\u001b[0mconfig.py:\u001b[1;36m54\u001b[0m\u001b[1m]\u001b[0m >> PyTorch version \u001b[1;36m2.6\u001b[0m.\u001b[1;36m0\u001b[0m available.                        \u001b]8;id=21302;file:///home/jeongho/git/SKN05-FINAL-1TEAM/jeongho/RAG_env/lib/python3.12/site-packages/datasets/config.py\u001b\\\u001b[2mconfig.py\u001b[0m\u001b]8;;\u001b\\\u001b[2m:\u001b[0m\u001b]8;id=389554;file:///home/jeongho/git/SKN05-FINAL-1TEAM/jeongho/RAG_env/lib/python3.12/site-packages/datasets/config.py#54\u001b\\\u001b[2m54\u001b[0m\u001b]8;;\u001b\\\n"
      ]
     },
     "metadata": {},
     "output_type": "display_data"
    },
    {
     "data": {
      "text/html": [
       "<pre style=\"white-space:pre;overflow-x:auto;line-height:normal;font-family:Menlo,'DejaVu Sans Mono',consolas,'Courier New',monospace\"><span style=\"color: #7fbfbf; text-decoration-color: #7fbfbf\">[02/09/25 04:34:29] </span><span style=\"color: #000080; text-decoration-color: #000080\">INFO    </span> <span style=\"font-weight: bold\">[</span>base.py:<span style=\"color: #008080; text-decoration-color: #008080; font-weight: bold\">64</span><span style=\"font-weight: bold\">]</span> &gt;&gt; You are using API version of AutoRAG.To use local version,  <a href=\"file:///home/jeongho/git/SKN05-FINAL-1TEAM/jeongho/RAG_env/lib/python3.12/site-packages/autorag/embedding/base.py\" target=\"_blank\"><span style=\"color: #7f7f7f; text-decoration-color: #7f7f7f\">base.py</span></a><span style=\"color: #7f7f7f; text-decoration-color: #7f7f7f\">:</span><a href=\"file:///home/jeongho/git/SKN05-FINAL-1TEAM/jeongho/RAG_env/lib/python3.12/site-packages/autorag/embedding/base.py#64\" target=\"_blank\"><span style=\"color: #7f7f7f; text-decoration-color: #7f7f7f\">64</span></a>\n",
       "<span style=\"color: #7fbfbf; text-decoration-color: #7fbfbf\">                    </span>         run pip install <span style=\"color: #008000; text-decoration-color: #008000\">'AutoRAG[gpu]'</span>                                              <span style=\"color: #7f7f7f; text-decoration-color: #7f7f7f\">          </span>\n",
       "</pre>\n"
      ],
      "text/plain": [
       "\u001b[2;36m[02/09/25 04:34:29]\u001b[0m\u001b[2;36m \u001b[0m\u001b[34mINFO    \u001b[0m \u001b[1m[\u001b[0mbase.py:\u001b[1;36m64\u001b[0m\u001b[1m]\u001b[0m >> You are using API version of AutoRAG.To use local version,  \u001b]8;id=640997;file:///home/jeongho/git/SKN05-FINAL-1TEAM/jeongho/RAG_env/lib/python3.12/site-packages/autorag/embedding/base.py\u001b\\\u001b[2mbase.py\u001b[0m\u001b]8;;\u001b\\\u001b[2m:\u001b[0m\u001b]8;id=528207;file:///home/jeongho/git/SKN05-FINAL-1TEAM/jeongho/RAG_env/lib/python3.12/site-packages/autorag/embedding/base.py#64\u001b\\\u001b[2m64\u001b[0m\u001b]8;;\u001b\\\n",
       "\u001b[2;36m                    \u001b[0m         run pip install \u001b[32m'AutoRAG\u001b[0m\u001b[32m[\u001b[0m\u001b[32mgpu\u001b[0m\u001b[32m]\u001b[0m\u001b[32m'\u001b[0m                                              \u001b[2m          \u001b[0m\n"
      ]
     },
     "metadata": {},
     "output_type": "display_data"
    },
    {
     "data": {
      "text/html": [
       "<pre style=\"white-space:pre;overflow-x:auto;line-height:normal;font-family:Menlo,'DejaVu Sans Mono',consolas,'Courier New',monospace\"><span style=\"color: #7fbfbf; text-decoration-color: #7fbfbf\">                    </span><span style=\"color: #000080; text-decoration-color: #000080\">INFO    </span> <span style=\"font-weight: bold\">[</span>discover_namespace_packages.py:<span style=\"color: #008080; text-decoration-color: #008080; font-weight: bold\">12</span><span style=\"font-weight: bold\">]</span> &gt;&gt; Discovering   <a href=\"file:///home/jeongho/git/SKN05-FINAL-1TEAM/jeongho/RAG_env/lib/python3.12/site-packages/pinecone_plugin_interface/actions/discover_namespace_packages.py\" target=\"_blank\"><span style=\"color: #7f7f7f; text-decoration-color: #7f7f7f\">discover_namespace_packages.py</span></a><span style=\"color: #7f7f7f; text-decoration-color: #7f7f7f\">:</span><a href=\"file:///home/jeongho/git/SKN05-FINAL-1TEAM/jeongho/RAG_env/lib/python3.12/site-packages/pinecone_plugin_interface/actions/discover_namespace_packages.py#12\" target=\"_blank\"><span style=\"color: #7f7f7f; text-decoration-color: #7f7f7f\">12</span></a>\n",
       "<span style=\"color: #7fbfbf; text-decoration-color: #7fbfbf\">                    </span>         subpackages in                                       <span style=\"color: #7f7f7f; text-decoration-color: #7f7f7f\">                                 </span>\n",
       "<span style=\"color: #7fbfbf; text-decoration-color: #7fbfbf\">                    </span>         <span style=\"color: #800080; text-decoration-color: #800080; font-weight: bold\">_NamespacePath</span><span style=\"font-weight: bold\">([</span><span style=\"color: #008000; text-decoration-color: #008000\">'/home/jeongho/git/SKN05-FINAL-1TEAM</span> <span style=\"color: #7f7f7f; text-decoration-color: #7f7f7f\">                                 </span>\n",
       "<span style=\"color: #7fbfbf; text-decoration-color: #7fbfbf\">                    </span>         <span style=\"color: #008000; text-decoration-color: #008000\">/jeongho/RAG_env/lib/python3.12/site-packages/pineco</span> <span style=\"color: #7f7f7f; text-decoration-color: #7f7f7f\">                                 </span>\n",
       "<span style=\"color: #7fbfbf; text-decoration-color: #7fbfbf\">                    </span>         <span style=\"color: #008000; text-decoration-color: #008000\">ne_plugins'</span><span style=\"font-weight: bold\">])</span>                                        <span style=\"color: #7f7f7f; text-decoration-color: #7f7f7f\">                                 </span>\n",
       "</pre>\n"
      ],
      "text/plain": [
       "\u001b[2;36m                   \u001b[0m\u001b[2;36m \u001b[0m\u001b[34mINFO    \u001b[0m \u001b[1m[\u001b[0mdiscover_namespace_packages.py:\u001b[1;36m12\u001b[0m\u001b[1m]\u001b[0m >> Discovering   \u001b]8;id=104934;file:///home/jeongho/git/SKN05-FINAL-1TEAM/jeongho/RAG_env/lib/python3.12/site-packages/pinecone_plugin_interface/actions/discover_namespace_packages.py\u001b\\\u001b[2mdiscover_namespace_packages.py\u001b[0m\u001b]8;;\u001b\\\u001b[2m:\u001b[0m\u001b]8;id=967218;file:///home/jeongho/git/SKN05-FINAL-1TEAM/jeongho/RAG_env/lib/python3.12/site-packages/pinecone_plugin_interface/actions/discover_namespace_packages.py#12\u001b\\\u001b[2m12\u001b[0m\u001b]8;;\u001b\\\n",
       "\u001b[2;36m                    \u001b[0m         subpackages in                                       \u001b[2m                                 \u001b[0m\n",
       "\u001b[2;36m                    \u001b[0m         \u001b[1;35m_NamespacePath\u001b[0m\u001b[1m(\u001b[0m\u001b[1m[\u001b[0m\u001b[32m'/home/jeongho/git/SKN05-FINAL-1TEAM\u001b[0m \u001b[2m                                 \u001b[0m\n",
       "\u001b[2;36m                    \u001b[0m         \u001b[32m/jeongho/RAG_env/lib/python3.12/site-packages/pineco\u001b[0m \u001b[2m                                 \u001b[0m\n",
       "\u001b[2;36m                    \u001b[0m         \u001b[32mne_plugins'\u001b[0m\u001b[1m]\u001b[0m\u001b[1m)\u001b[0m                                        \u001b[2m                                 \u001b[0m\n"
      ]
     },
     "metadata": {},
     "output_type": "display_data"
    },
    {
     "data": {
      "text/html": [
       "<pre style=\"white-space:pre;overflow-x:auto;line-height:normal;font-family:Menlo,'DejaVu Sans Mono',consolas,'Courier New',monospace\"><span style=\"color: #7fbfbf; text-decoration-color: #7fbfbf\">                    </span><span style=\"color: #000080; text-decoration-color: #000080\">INFO    </span> <span style=\"font-weight: bold\">[</span>discover_plugins.py:<span style=\"color: #008080; text-decoration-color: #008080; font-weight: bold\">9</span><span style=\"font-weight: bold\">]</span> &gt;&gt; Looking for plugins in                <a href=\"file:///home/jeongho/git/SKN05-FINAL-1TEAM/jeongho/RAG_env/lib/python3.12/site-packages/pinecone_plugin_interface/actions/discover_plugins.py\" target=\"_blank\"><span style=\"color: #7f7f7f; text-decoration-color: #7f7f7f\">discover_plugins.py</span></a><span style=\"color: #7f7f7f; text-decoration-color: #7f7f7f\">:</span><a href=\"file:///home/jeongho/git/SKN05-FINAL-1TEAM/jeongho/RAG_env/lib/python3.12/site-packages/pinecone_plugin_interface/actions/discover_plugins.py#9\" target=\"_blank\"><span style=\"color: #7f7f7f; text-decoration-color: #7f7f7f\">9</span></a>\n",
       "<span style=\"color: #7fbfbf; text-decoration-color: #7fbfbf\">                    </span>         pinecone_plugins.inference                                       <span style=\"color: #7f7f7f; text-decoration-color: #7f7f7f\">                     </span>\n",
       "</pre>\n"
      ],
      "text/plain": [
       "\u001b[2;36m                   \u001b[0m\u001b[2;36m \u001b[0m\u001b[34mINFO    \u001b[0m \u001b[1m[\u001b[0mdiscover_plugins.py:\u001b[1;36m9\u001b[0m\u001b[1m]\u001b[0m >> Looking for plugins in                \u001b]8;id=790183;file:///home/jeongho/git/SKN05-FINAL-1TEAM/jeongho/RAG_env/lib/python3.12/site-packages/pinecone_plugin_interface/actions/discover_plugins.py\u001b\\\u001b[2mdiscover_plugins.py\u001b[0m\u001b]8;;\u001b\\\u001b[2m:\u001b[0m\u001b]8;id=206716;file:///home/jeongho/git/SKN05-FINAL-1TEAM/jeongho/RAG_env/lib/python3.12/site-packages/pinecone_plugin_interface/actions/discover_plugins.py#9\u001b\\\u001b[2m9\u001b[0m\u001b]8;;\u001b\\\n",
       "\u001b[2;36m                    \u001b[0m         pinecone_plugins.inference                                       \u001b[2m                     \u001b[0m\n"
      ]
     },
     "metadata": {},
     "output_type": "display_data"
    },
    {
     "data": {
      "text/html": [
       "<pre style=\"white-space:pre;overflow-x:auto;line-height:normal;font-family:Menlo,'DejaVu Sans Mono',consolas,'Courier New',monospace\"><span style=\"color: #7fbfbf; text-decoration-color: #7fbfbf\">                    </span><span style=\"color: #000080; text-decoration-color: #000080\">INFO    </span> <span style=\"font-weight: bold\">[</span>installation.py:<span style=\"color: #008080; text-decoration-color: #008080; font-weight: bold\">10</span><span style=\"font-weight: bold\">]</span> &gt;&gt; Installing plugin inference into            <a href=\"file:///home/jeongho/git/SKN05-FINAL-1TEAM/jeongho/RAG_env/lib/python3.12/site-packages/pinecone_plugin_interface/actions/installation.py\" target=\"_blank\"><span style=\"color: #7f7f7f; text-decoration-color: #7f7f7f\">installation.py</span></a><span style=\"color: #7f7f7f; text-decoration-color: #7f7f7f\">:</span><a href=\"file:///home/jeongho/git/SKN05-FINAL-1TEAM/jeongho/RAG_env/lib/python3.12/site-packages/pinecone_plugin_interface/actions/installation.py#10\" target=\"_blank\"><span style=\"color: #7f7f7f; text-decoration-color: #7f7f7f\">10</span></a>\n",
       "<span style=\"color: #7fbfbf; text-decoration-color: #7fbfbf\">                    </span>         PineconeGRPC                                                        <span style=\"color: #7f7f7f; text-decoration-color: #7f7f7f\">                  </span>\n",
       "</pre>\n"
      ],
      "text/plain": [
       "\u001b[2;36m                   \u001b[0m\u001b[2;36m \u001b[0m\u001b[34mINFO    \u001b[0m \u001b[1m[\u001b[0minstallation.py:\u001b[1;36m10\u001b[0m\u001b[1m]\u001b[0m >> Installing plugin inference into            \u001b]8;id=449910;file:///home/jeongho/git/SKN05-FINAL-1TEAM/jeongho/RAG_env/lib/python3.12/site-packages/pinecone_plugin_interface/actions/installation.py\u001b\\\u001b[2minstallation.py\u001b[0m\u001b]8;;\u001b\\\u001b[2m:\u001b[0m\u001b]8;id=517461;file:///home/jeongho/git/SKN05-FINAL-1TEAM/jeongho/RAG_env/lib/python3.12/site-packages/pinecone_plugin_interface/actions/installation.py#10\u001b\\\u001b[2m10\u001b[0m\u001b]8;;\u001b\\\n",
       "\u001b[2;36m                    \u001b[0m         PineconeGRPC                                                        \u001b[2m                  \u001b[0m\n"
      ]
     },
     "metadata": {},
     "output_type": "display_data"
    },
    {
     "data": {
      "text/html": [
       "<pre style=\"white-space:pre;overflow-x:auto;line-height:normal;font-family:Menlo,'DejaVu Sans Mono',consolas,'Courier New',monospace\"><span style=\"color: #7fbfbf; text-decoration-color: #7fbfbf\">[02/09/25 04:34:31] </span><span style=\"color: #000080; text-decoration-color: #000080\">INFO    </span> <span style=\"font-weight: bold\">[</span>discover_namespace_packages.py:<span style=\"color: #008080; text-decoration-color: #008080; font-weight: bold\">12</span><span style=\"font-weight: bold\">]</span> &gt;&gt; Discovering   <a href=\"file:///home/jeongho/git/SKN05-FINAL-1TEAM/jeongho/RAG_env/lib/python3.12/site-packages/pinecone_plugin_interface/actions/discover_namespace_packages.py\" target=\"_blank\"><span style=\"color: #7f7f7f; text-decoration-color: #7f7f7f\">discover_namespace_packages.py</span></a><span style=\"color: #7f7f7f; text-decoration-color: #7f7f7f\">:</span><a href=\"file:///home/jeongho/git/SKN05-FINAL-1TEAM/jeongho/RAG_env/lib/python3.12/site-packages/pinecone_plugin_interface/actions/discover_namespace_packages.py#12\" target=\"_blank\"><span style=\"color: #7f7f7f; text-decoration-color: #7f7f7f\">12</span></a>\n",
       "<span style=\"color: #7fbfbf; text-decoration-color: #7fbfbf\">                    </span>         subpackages in                                       <span style=\"color: #7f7f7f; text-decoration-color: #7f7f7f\">                                 </span>\n",
       "<span style=\"color: #7fbfbf; text-decoration-color: #7fbfbf\">                    </span>         <span style=\"color: #800080; text-decoration-color: #800080; font-weight: bold\">_NamespacePath</span><span style=\"font-weight: bold\">([</span><span style=\"color: #008000; text-decoration-color: #008000\">'/home/jeongho/git/SKN05-FINAL-1TEAM</span> <span style=\"color: #7f7f7f; text-decoration-color: #7f7f7f\">                                 </span>\n",
       "<span style=\"color: #7fbfbf; text-decoration-color: #7fbfbf\">                    </span>         <span style=\"color: #008000; text-decoration-color: #008000\">/jeongho/RAG_env/lib/python3.12/site-packages/pineco</span> <span style=\"color: #7f7f7f; text-decoration-color: #7f7f7f\">                                 </span>\n",
       "<span style=\"color: #7fbfbf; text-decoration-color: #7fbfbf\">                    </span>         <span style=\"color: #008000; text-decoration-color: #008000\">ne_plugins'</span><span style=\"font-weight: bold\">])</span>                                        <span style=\"color: #7f7f7f; text-decoration-color: #7f7f7f\">                                 </span>\n",
       "</pre>\n"
      ],
      "text/plain": [
       "\u001b[2;36m[02/09/25 04:34:31]\u001b[0m\u001b[2;36m \u001b[0m\u001b[34mINFO    \u001b[0m \u001b[1m[\u001b[0mdiscover_namespace_packages.py:\u001b[1;36m12\u001b[0m\u001b[1m]\u001b[0m >> Discovering   \u001b]8;id=870207;file:///home/jeongho/git/SKN05-FINAL-1TEAM/jeongho/RAG_env/lib/python3.12/site-packages/pinecone_plugin_interface/actions/discover_namespace_packages.py\u001b\\\u001b[2mdiscover_namespace_packages.py\u001b[0m\u001b]8;;\u001b\\\u001b[2m:\u001b[0m\u001b]8;id=962226;file:///home/jeongho/git/SKN05-FINAL-1TEAM/jeongho/RAG_env/lib/python3.12/site-packages/pinecone_plugin_interface/actions/discover_namespace_packages.py#12\u001b\\\u001b[2m12\u001b[0m\u001b]8;;\u001b\\\n",
       "\u001b[2;36m                    \u001b[0m         subpackages in                                       \u001b[2m                                 \u001b[0m\n",
       "\u001b[2;36m                    \u001b[0m         \u001b[1;35m_NamespacePath\u001b[0m\u001b[1m(\u001b[0m\u001b[1m[\u001b[0m\u001b[32m'/home/jeongho/git/SKN05-FINAL-1TEAM\u001b[0m \u001b[2m                                 \u001b[0m\n",
       "\u001b[2;36m                    \u001b[0m         \u001b[32m/jeongho/RAG_env/lib/python3.12/site-packages/pineco\u001b[0m \u001b[2m                                 \u001b[0m\n",
       "\u001b[2;36m                    \u001b[0m         \u001b[32mne_plugins'\u001b[0m\u001b[1m]\u001b[0m\u001b[1m)\u001b[0m                                        \u001b[2m                                 \u001b[0m\n"
      ]
     },
     "metadata": {},
     "output_type": "display_data"
    },
    {
     "data": {
      "text/html": [
       "<pre style=\"white-space:pre;overflow-x:auto;line-height:normal;font-family:Menlo,'DejaVu Sans Mono',consolas,'Courier New',monospace\"><span style=\"color: #7fbfbf; text-decoration-color: #7fbfbf\">                    </span><span style=\"color: #000080; text-decoration-color: #000080\">INFO    </span> <span style=\"font-weight: bold\">[</span>discover_plugins.py:<span style=\"color: #008080; text-decoration-color: #008080; font-weight: bold\">9</span><span style=\"font-weight: bold\">]</span> &gt;&gt; Looking for plugins in                <a href=\"file:///home/jeongho/git/SKN05-FINAL-1TEAM/jeongho/RAG_env/lib/python3.12/site-packages/pinecone_plugin_interface/actions/discover_plugins.py\" target=\"_blank\"><span style=\"color: #7f7f7f; text-decoration-color: #7f7f7f\">discover_plugins.py</span></a><span style=\"color: #7f7f7f; text-decoration-color: #7f7f7f\">:</span><a href=\"file:///home/jeongho/git/SKN05-FINAL-1TEAM/jeongho/RAG_env/lib/python3.12/site-packages/pinecone_plugin_interface/actions/discover_plugins.py#9\" target=\"_blank\"><span style=\"color: #7f7f7f; text-decoration-color: #7f7f7f\">9</span></a>\n",
       "<span style=\"color: #7fbfbf; text-decoration-color: #7fbfbf\">                    </span>         pinecone_plugins.inference                                       <span style=\"color: #7f7f7f; text-decoration-color: #7f7f7f\">                     </span>\n",
       "</pre>\n"
      ],
      "text/plain": [
       "\u001b[2;36m                   \u001b[0m\u001b[2;36m \u001b[0m\u001b[34mINFO    \u001b[0m \u001b[1m[\u001b[0mdiscover_plugins.py:\u001b[1;36m9\u001b[0m\u001b[1m]\u001b[0m >> Looking for plugins in                \u001b]8;id=269237;file:///home/jeongho/git/SKN05-FINAL-1TEAM/jeongho/RAG_env/lib/python3.12/site-packages/pinecone_plugin_interface/actions/discover_plugins.py\u001b\\\u001b[2mdiscover_plugins.py\u001b[0m\u001b]8;;\u001b\\\u001b[2m:\u001b[0m\u001b]8;id=430817;file:///home/jeongho/git/SKN05-FINAL-1TEAM/jeongho/RAG_env/lib/python3.12/site-packages/pinecone_plugin_interface/actions/discover_plugins.py#9\u001b\\\u001b[2m9\u001b[0m\u001b]8;;\u001b\\\n",
       "\u001b[2;36m                    \u001b[0m         pinecone_plugins.inference                                       \u001b[2m                     \u001b[0m\n"
      ]
     },
     "metadata": {},
     "output_type": "display_data"
    },
    {
     "data": {
      "text/html": [
       "<pre style=\"white-space:pre;overflow-x:auto;line-height:normal;font-family:Menlo,'DejaVu Sans Mono',consolas,'Courier New',monospace\"><span style=\"color: #7fbfbf; text-decoration-color: #7fbfbf\">                    </span><span style=\"color: #000080; text-decoration-color: #000080\">INFO    </span> <span style=\"font-weight: bold\">[</span>base.py:<span style=\"color: #008080; text-decoration-color: #008080; font-weight: bold\">18</span><span style=\"font-weight: bold\">]</span> &gt;&gt; Initialize retrieval node - BM25                            <a href=\"file:///home/jeongho/git/SKN05-FINAL-1TEAM/jeongho/RAG_env/lib/python3.12/site-packages/autorag/nodes/retrieval/base.py\" target=\"_blank\"><span style=\"color: #7f7f7f; text-decoration-color: #7f7f7f\">base.py</span></a><span style=\"color: #7f7f7f; text-decoration-color: #7f7f7f\">:</span><a href=\"file:///home/jeongho/git/SKN05-FINAL-1TEAM/jeongho/RAG_env/lib/python3.12/site-packages/autorag/nodes/retrieval/base.py#18\" target=\"_blank\"><span style=\"color: #7f7f7f; text-decoration-color: #7f7f7f\">18</span></a>\n",
       "</pre>\n"
      ],
      "text/plain": [
       "\u001b[2;36m                   \u001b[0m\u001b[2;36m \u001b[0m\u001b[34mINFO    \u001b[0m \u001b[1m[\u001b[0mbase.py:\u001b[1;36m18\u001b[0m\u001b[1m]\u001b[0m >> Initialize retrieval node - BM25                            \u001b]8;id=985576;file:///home/jeongho/git/SKN05-FINAL-1TEAM/jeongho/RAG_env/lib/python3.12/site-packages/autorag/nodes/retrieval/base.py\u001b\\\u001b[2mbase.py\u001b[0m\u001b]8;;\u001b\\\u001b[2m:\u001b[0m\u001b]8;id=101004;file:///home/jeongho/git/SKN05-FINAL-1TEAM/jeongho/RAG_env/lib/python3.12/site-packages/autorag/nodes/retrieval/base.py#18\u001b\\\u001b[2m18\u001b[0m\u001b]8;;\u001b\\\n"
      ]
     },
     "metadata": {},
     "output_type": "display_data"
    },
    {
     "data": {
      "image/png": "[encoded data removed]",
      "text/plain": [
       "<IPython.core.display.Image object>"
      ]
     },
     "metadata": {},
     "output_type": "display_data"
    }
   ],
   "source": [
    "from domain.chat.lang_graph_merge.graph import app\n",
    "\n",
    "from IPython.display import display, Image\n",
    "display(Image(app.get_graph(xray=True).draw_mermaid_png()))\n",
    "# display(Image(app.get_graph(xray=True).draw_mermaid_png(output_file_path='./graph_node_route.png')))"
   ]
  },
  {
   "cell_type": "markdown",
   "metadata": {},
   "source": [
    "# Fuji"
   ]
  },
  {
   "cell_type": "code",
   "execution_count": 5,
   "metadata": {},
   "outputs": [
    {
     "data": {
      "text/html": [
       "<pre style=\"white-space:pre;overflow-x:auto;line-height:normal;font-family:Menlo,'DejaVu Sans Mono',consolas,'Courier New',monospace\"><span style=\"color: #7fbfbf; text-decoration-color: #7fbfbf\">[02/08/25 19:23:59] </span><span style=\"color: #000080; text-decoration-color: #000080\">INFO    </span> <span style=\"font-weight: bold\">[</span>_client.py:<span style=\"color: #008080; text-decoration-color: #008080; font-weight: bold\">1026</span><span style=\"font-weight: bold\">]</span> &gt;&gt; HTTP Request: <span style=\"color: #808000; text-decoration-color: #808000; font-weight: bold\">POST</span>                                <a href=\"file:///home/jeongho/git/SKN05-FINAL-1TEAM/jeongho/RAG_env/lib/python3.12/site-packages/httpx/_client.py\" target=\"_blank\"><span style=\"color: #7f7f7f; text-decoration-color: #7f7f7f\">_client.py</span></a><span style=\"color: #7f7f7f; text-decoration-color: #7f7f7f\">:</span><a href=\"file:///home/jeongho/git/SKN05-FINAL-1TEAM/jeongho/RAG_env/lib/python3.12/site-packages/httpx/_client.py#1026\" target=\"_blank\"><span style=\"color: #7f7f7f; text-decoration-color: #7f7f7f\">1026</span></a>\n",
       "<span style=\"color: #7fbfbf; text-decoration-color: #7fbfbf\">                    </span>         <span style=\"color: #0000ff; text-decoration-color: #0000ff; text-decoration: underline\">https://api.openai.com/v1/chat/completions</span> <span style=\"color: #008000; text-decoration-color: #008000\">\"HTTP/1.1 200 OK\"</span>           <span style=\"color: #7f7f7f; text-decoration-color: #7f7f7f\">               </span>\n",
       "</pre>\n"
      ],
      "text/plain": [
       "\u001b[2;36m[02/08/25 19:23:59]\u001b[0m\u001b[2;36m \u001b[0m\u001b[34mINFO    \u001b[0m \u001b[1m[\u001b[0m_client.py:\u001b[1;36m1026\u001b[0m\u001b[1m]\u001b[0m >> HTTP Request: \u001b[1;33mPOST\u001b[0m                                \u001b]8;id=153699;file:///home/jeongho/git/SKN05-FINAL-1TEAM/jeongho/RAG_env/lib/python3.12/site-packages/httpx/_client.py\u001b\\\u001b[2m_client.py\u001b[0m\u001b]8;;\u001b\\\u001b[2m:\u001b[0m\u001b]8;id=479990;file:///home/jeongho/git/SKN05-FINAL-1TEAM/jeongho/RAG_env/lib/python3.12/site-packages/httpx/_client.py#1026\u001b\\\u001b[2m1026\u001b[0m\u001b]8;;\u001b\\\n",
       "\u001b[2;36m                    \u001b[0m         \u001b[4;94mhttps://api.openai.com/v1/chat/completions\u001b[0m \u001b[32m\"HTTP/1.1 200 OK\"\u001b[0m           \u001b[2m               \u001b[0m\n"
      ]
     },
     "metadata": {},
     "output_type": "display_data"
    },
    {
     "name": "stdout",
     "output_type": "stream",
     "text": [
      "{'question': 'How to adjust focus?', 'brand': 'fuji', 'next_step': 'ask_brand', 'validation_results': {'camera_question': True, 'is_setting': True, 'choose_brand': None}, 'sessionId': 1, 'messageId': 1}\n",
      "✅chunk from lang graph: ('custom', {'currentNode': 'reverseQ', 'answer': '알고 싶은 모델이 있으신가요?', 'keywords': [], 'suggestQuestions': [], 'sessionId': 1, 'messageId': 1})\n"
     ]
    }
   ],
   "source": [
    "import asyncio\n",
    "thread = {\"configurable\": {\"thread_id\": \"abcd\"}}\n",
    "def sync_function():\n",
    "    async def run():\n",
    "        async for chunk in app.astream(input={\"question\": \"How to adjust focus?\", \"sessionId\": 1, \"messageId\": 1},config=thread, stream_mode=[\"custom\"]):\n",
    "            print(f\"✅chunk from lang graph: {chunk}\")\n",
    "\n",
    "    asyncio.run(run()) \n",
    "\n",
    "sync_function()"
   ]
  },
  {
   "cell_type": "code",
   "execution_count": 6,
   "metadata": {},
   "outputs": [
    {
     "name": "stdout",
     "output_type": "stream",
     "text": [
      "{'question': 'How to adjust focus?', 'brand': 'fuji', 'next_step': 'ask_brand', 'validation_results': {'camera_question': True, 'is_setting': True, 'choose_brand': None}, 'sessionId': 1, 'messageId': 1}\n"
     ]
    },
    {
     "data": {
      "text/html": [
       "<pre style=\"white-space:pre;overflow-x:auto;line-height:normal;font-family:Menlo,'DejaVu Sans Mono',consolas,'Courier New',monospace\"><span style=\"color: #7fbfbf; text-decoration-color: #7fbfbf\">[02/08/25 19:24:00] </span><span style=\"color: #000080; text-decoration-color: #000080\">INFO    </span> <span style=\"font-weight: bold\">[</span>base.py:<span style=\"color: #008080; text-decoration-color: #008080; font-weight: bold\">31</span><span style=\"font-weight: bold\">]</span> &gt;&gt; Running query expansion node - QueryDecompose module<span style=\"color: #808000; text-decoration-color: #808000\">...</span>     <a href=\"file:///home/jeongho/git/SKN05-FINAL-1TEAM/jeongho/RAG_env/lib/python3.12/site-packages/autorag/nodes/queryexpansion/base.py\" target=\"_blank\"><span style=\"color: #7f7f7f; text-decoration-color: #7f7f7f\">base.py</span></a><span style=\"color: #7f7f7f; text-decoration-color: #7f7f7f\">:</span><a href=\"file:///home/jeongho/git/SKN05-FINAL-1TEAM/jeongho/RAG_env/lib/python3.12/site-packages/autorag/nodes/queryexpansion/base.py#31\" target=\"_blank\"><span style=\"color: #7f7f7f; text-decoration-color: #7f7f7f\">31</span></a>\n",
       "</pre>\n"
      ],
      "text/plain": [
       "\u001b[2;36m[02/08/25 19:24:00]\u001b[0m\u001b[2;36m \u001b[0m\u001b[34mINFO    \u001b[0m \u001b[1m[\u001b[0mbase.py:\u001b[1;36m31\u001b[0m\u001b[1m]\u001b[0m >> Running query expansion node - QueryDecompose module\u001b[33m...\u001b[0m     \u001b]8;id=557511;file:///home/jeongho/git/SKN05-FINAL-1TEAM/jeongho/RAG_env/lib/python3.12/site-packages/autorag/nodes/queryexpansion/base.py\u001b\\\u001b[2mbase.py\u001b[0m\u001b]8;;\u001b\\\u001b[2m:\u001b[0m\u001b]8;id=460229;file:///home/jeongho/git/SKN05-FINAL-1TEAM/jeongho/RAG_env/lib/python3.12/site-packages/autorag/nodes/queryexpansion/base.py#31\u001b\\\u001b[2m31\u001b[0m\u001b]8;;\u001b\\\n"
      ]
     },
     "metadata": {},
     "output_type": "display_data"
    },
    {
     "data": {
      "text/html": [
       "<pre style=\"white-space:pre;overflow-x:auto;line-height:normal;font-family:Menlo,'DejaVu Sans Mono',consolas,'Courier New',monospace\"><span style=\"color: #7fbfbf; text-decoration-color: #7fbfbf\">                    </span><span style=\"color: #000080; text-decoration-color: #000080\">INFO    </span> <span style=\"font-weight: bold\">[</span>base.py:<span style=\"color: #008080; text-decoration-color: #008080; font-weight: bold\">26</span><span style=\"font-weight: bold\">]</span> &gt;&gt; Running generator node - LlamaIndexLLM module<span style=\"color: #808000; text-decoration-color: #808000\">...</span>            <a href=\"file:///home/jeongho/git/SKN05-FINAL-1TEAM/jeongho/RAG_env/lib/python3.12/site-packages/autorag/nodes/generator/base.py\" target=\"_blank\"><span style=\"color: #7f7f7f; text-decoration-color: #7f7f7f\">base.py</span></a><span style=\"color: #7f7f7f; text-decoration-color: #7f7f7f\">:</span><a href=\"file:///home/jeongho/git/SKN05-FINAL-1TEAM/jeongho/RAG_env/lib/python3.12/site-packages/autorag/nodes/generator/base.py#26\" target=\"_blank\"><span style=\"color: #7f7f7f; text-decoration-color: #7f7f7f\">26</span></a>\n",
       "</pre>\n"
      ],
      "text/plain": [
       "\u001b[2;36m                   \u001b[0m\u001b[2;36m \u001b[0m\u001b[34mINFO    \u001b[0m \u001b[1m[\u001b[0mbase.py:\u001b[1;36m26\u001b[0m\u001b[1m]\u001b[0m >> Running generator node - LlamaIndexLLM module\u001b[33m...\u001b[0m            \u001b]8;id=291033;file:///home/jeongho/git/SKN05-FINAL-1TEAM/jeongho/RAG_env/lib/python3.12/site-packages/autorag/nodes/generator/base.py\u001b\\\u001b[2mbase.py\u001b[0m\u001b]8;;\u001b\\\u001b[2m:\u001b[0m\u001b]8;id=962259;file:///home/jeongho/git/SKN05-FINAL-1TEAM/jeongho/RAG_env/lib/python3.12/site-packages/autorag/nodes/generator/base.py#26\u001b\\\u001b[2m26\u001b[0m\u001b]8;;\u001b\\\n"
      ]
     },
     "metadata": {},
     "output_type": "display_data"
    },
    {
     "data": {
      "text/html": [
       "<pre style=\"white-space:pre;overflow-x:auto;line-height:normal;font-family:Menlo,'DejaVu Sans Mono',consolas,'Courier New',monospace\"><span style=\"color: #7fbfbf; text-decoration-color: #7fbfbf\">[02/08/25 19:24:01] </span><span style=\"color: #000080; text-decoration-color: #000080\">INFO    </span> <span style=\"font-weight: bold\">[</span>_client.py:<span style=\"color: #008080; text-decoration-color: #008080; font-weight: bold\">1773</span><span style=\"font-weight: bold\">]</span> &gt;&gt; HTTP Request: <span style=\"color: #808000; text-decoration-color: #808000; font-weight: bold\">POST</span>                                <a href=\"file:///home/jeongho/git/SKN05-FINAL-1TEAM/jeongho/RAG_env/lib/python3.12/site-packages/httpx/_client.py\" target=\"_blank\"><span style=\"color: #7f7f7f; text-decoration-color: #7f7f7f\">_client.py</span></a><span style=\"color: #7f7f7f; text-decoration-color: #7f7f7f\">:</span><a href=\"file:///home/jeongho/git/SKN05-FINAL-1TEAM/jeongho/RAG_env/lib/python3.12/site-packages/httpx/_client.py#1773\" target=\"_blank\"><span style=\"color: #7f7f7f; text-decoration-color: #7f7f7f\">1773</span></a>\n",
       "<span style=\"color: #7fbfbf; text-decoration-color: #7fbfbf\">                    </span>         <span style=\"color: #0000ff; text-decoration-color: #0000ff; text-decoration: underline\">https://api.openai.com/v1/chat/completions</span> <span style=\"color: #008000; text-decoration-color: #008000\">\"HTTP/1.1 200 OK\"</span>           <span style=\"color: #7f7f7f; text-decoration-color: #7f7f7f\">               </span>\n",
       "</pre>\n"
      ],
      "text/plain": [
       "\u001b[2;36m[02/08/25 19:24:01]\u001b[0m\u001b[2;36m \u001b[0m\u001b[34mINFO    \u001b[0m \u001b[1m[\u001b[0m_client.py:\u001b[1;36m1773\u001b[0m\u001b[1m]\u001b[0m >> HTTP Request: \u001b[1;33mPOST\u001b[0m                                \u001b]8;id=572765;file:///home/jeongho/git/SKN05-FINAL-1TEAM/jeongho/RAG_env/lib/python3.12/site-packages/httpx/_client.py\u001b\\\u001b[2m_client.py\u001b[0m\u001b]8;;\u001b\\\u001b[2m:\u001b[0m\u001b]8;id=867330;file:///home/jeongho/git/SKN05-FINAL-1TEAM/jeongho/RAG_env/lib/python3.12/site-packages/httpx/_client.py#1773\u001b\\\u001b[2m1773\u001b[0m\u001b]8;;\u001b\\\n",
       "\u001b[2;36m                    \u001b[0m         \u001b[4;94mhttps://api.openai.com/v1/chat/completions\u001b[0m \u001b[32m\"HTTP/1.1 200 OK\"\u001b[0m           \u001b[2m               \u001b[0m\n"
      ]
     },
     "metadata": {},
     "output_type": "display_data"
    },
    {
     "name": "stdout",
     "output_type": "stream",
     "text": [
      "queryDecompose노드\n",
      "['How to adjust focus?']\n"
     ]
    },
    {
     "name": "stderr",
     "output_type": "stream",
     "text": [
      "/home/jeongho/git/SKN05-FINAL-1TEAM/jeongho/RAG_env/lib/python3.12/site-packages/transformers/tokenization_utils_base.py:1601: FutureWarning: `clean_up_tokenization_spaces` was not set. It will be set to `True` by default. This behavior will be depracted in transformers v4.45, and will be then set to `False` by default. For more details check this issue: https://github.com/huggingface/transformers/issues/31884\n",
      "  warnings.warn(\n"
     ]
    },
    {
     "data": {
      "text/html": [
       "<pre style=\"white-space:pre;overflow-x:auto;line-height:normal;font-family:Menlo,'DejaVu Sans Mono',consolas,'Courier New',monospace\"><span style=\"color: #7fbfbf; text-decoration-color: #7fbfbf\">                    </span><span style=\"color: #000080; text-decoration-color: #000080\">INFO    </span> <span style=\"font-weight: bold\">[</span>base.py:<span style=\"color: #008080; text-decoration-color: #008080; font-weight: bold\">31</span><span style=\"font-weight: bold\">]</span> &gt;&gt; Running query expansion node - MultiQueryExpansion          <a href=\"file:///home/jeongho/git/SKN05-FINAL-1TEAM/jeongho/RAG_env/lib/python3.12/site-packages/autorag/nodes/queryexpansion/base.py\" target=\"_blank\"><span style=\"color: #7f7f7f; text-decoration-color: #7f7f7f\">base.py</span></a><span style=\"color: #7f7f7f; text-decoration-color: #7f7f7f\">:</span><a href=\"file:///home/jeongho/git/SKN05-FINAL-1TEAM/jeongho/RAG_env/lib/python3.12/site-packages/autorag/nodes/queryexpansion/base.py#31\" target=\"_blank\"><span style=\"color: #7f7f7f; text-decoration-color: #7f7f7f\">31</span></a>\n",
       "<span style=\"color: #7fbfbf; text-decoration-color: #7fbfbf\">                    </span>         module<span style=\"color: #808000; text-decoration-color: #808000\">...</span>                                                                   <span style=\"color: #7f7f7f; text-decoration-color: #7f7f7f\">          </span>\n",
       "</pre>\n"
      ],
      "text/plain": [
       "\u001b[2;36m                   \u001b[0m\u001b[2;36m \u001b[0m\u001b[34mINFO    \u001b[0m \u001b[1m[\u001b[0mbase.py:\u001b[1;36m31\u001b[0m\u001b[1m]\u001b[0m >> Running query expansion node - MultiQueryExpansion          \u001b]8;id=392325;file:///home/jeongho/git/SKN05-FINAL-1TEAM/jeongho/RAG_env/lib/python3.12/site-packages/autorag/nodes/queryexpansion/base.py\u001b\\\u001b[2mbase.py\u001b[0m\u001b]8;;\u001b\\\u001b[2m:\u001b[0m\u001b]8;id=191645;file:///home/jeongho/git/SKN05-FINAL-1TEAM/jeongho/RAG_env/lib/python3.12/site-packages/autorag/nodes/queryexpansion/base.py#31\u001b\\\u001b[2m31\u001b[0m\u001b]8;;\u001b\\\n",
       "\u001b[2;36m                    \u001b[0m         module\u001b[33m...\u001b[0m                                                                   \u001b[2m          \u001b[0m\n"
      ]
     },
     "metadata": {},
     "output_type": "display_data"
    },
    {
     "data": {
      "text/html": [
       "<pre style=\"white-space:pre;overflow-x:auto;line-height:normal;font-family:Menlo,'DejaVu Sans Mono',consolas,'Courier New',monospace\"><span style=\"color: #7fbfbf; text-decoration-color: #7fbfbf\">                    </span><span style=\"color: #000080; text-decoration-color: #000080\">INFO    </span> <span style=\"font-weight: bold\">[</span>base.py:<span style=\"color: #008080; text-decoration-color: #008080; font-weight: bold\">26</span><span style=\"font-weight: bold\">]</span> &gt;&gt; Running generator node - LlamaIndexLLM module<span style=\"color: #808000; text-decoration-color: #808000\">...</span>            <a href=\"file:///home/jeongho/git/SKN05-FINAL-1TEAM/jeongho/RAG_env/lib/python3.12/site-packages/autorag/nodes/generator/base.py\" target=\"_blank\"><span style=\"color: #7f7f7f; text-decoration-color: #7f7f7f\">base.py</span></a><span style=\"color: #7f7f7f; text-decoration-color: #7f7f7f\">:</span><a href=\"file:///home/jeongho/git/SKN05-FINAL-1TEAM/jeongho/RAG_env/lib/python3.12/site-packages/autorag/nodes/generator/base.py#26\" target=\"_blank\"><span style=\"color: #7f7f7f; text-decoration-color: #7f7f7f\">26</span></a>\n",
       "</pre>\n"
      ],
      "text/plain": [
       "\u001b[2;36m                   \u001b[0m\u001b[2;36m \u001b[0m\u001b[34mINFO    \u001b[0m \u001b[1m[\u001b[0mbase.py:\u001b[1;36m26\u001b[0m\u001b[1m]\u001b[0m >> Running generator node - LlamaIndexLLM module\u001b[33m...\u001b[0m            \u001b]8;id=218434;file:///home/jeongho/git/SKN05-FINAL-1TEAM/jeongho/RAG_env/lib/python3.12/site-packages/autorag/nodes/generator/base.py\u001b\\\u001b[2mbase.py\u001b[0m\u001b]8;;\u001b\\\u001b[2m:\u001b[0m\u001b]8;id=141608;file:///home/jeongho/git/SKN05-FINAL-1TEAM/jeongho/RAG_env/lib/python3.12/site-packages/autorag/nodes/generator/base.py#26\u001b\\\u001b[2m26\u001b[0m\u001b]8;;\u001b\\\n"
      ]
     },
     "metadata": {},
     "output_type": "display_data"
    },
    {
     "data": {
      "text/html": [
       "<pre style=\"white-space:pre;overflow-x:auto;line-height:normal;font-family:Menlo,'DejaVu Sans Mono',consolas,'Courier New',monospace\"><span style=\"color: #7fbfbf; text-decoration-color: #7fbfbf\">[02/08/25 19:24:03] </span><span style=\"color: #000080; text-decoration-color: #000080\">INFO    </span> <span style=\"font-weight: bold\">[</span>_client.py:<span style=\"color: #008080; text-decoration-color: #008080; font-weight: bold\">1773</span><span style=\"font-weight: bold\">]</span> &gt;&gt; HTTP Request: <span style=\"color: #808000; text-decoration-color: #808000; font-weight: bold\">POST</span>                                <a href=\"file:///home/jeongho/git/SKN05-FINAL-1TEAM/jeongho/RAG_env/lib/python3.12/site-packages/httpx/_client.py\" target=\"_blank\"><span style=\"color: #7f7f7f; text-decoration-color: #7f7f7f\">_client.py</span></a><span style=\"color: #7f7f7f; text-decoration-color: #7f7f7f\">:</span><a href=\"file:///home/jeongho/git/SKN05-FINAL-1TEAM/jeongho/RAG_env/lib/python3.12/site-packages/httpx/_client.py#1773\" target=\"_blank\"><span style=\"color: #7f7f7f; text-decoration-color: #7f7f7f\">1773</span></a>\n",
       "<span style=\"color: #7fbfbf; text-decoration-color: #7fbfbf\">                    </span>         <span style=\"color: #0000ff; text-decoration-color: #0000ff; text-decoration: underline\">https://api.openai.com/v1/chat/completions</span> <span style=\"color: #008000; text-decoration-color: #008000\">\"HTTP/1.1 200 OK\"</span>           <span style=\"color: #7f7f7f; text-decoration-color: #7f7f7f\">               </span>\n",
       "</pre>\n"
      ],
      "text/plain": [
       "\u001b[2;36m[02/08/25 19:24:03]\u001b[0m\u001b[2;36m \u001b[0m\u001b[34mINFO    \u001b[0m \u001b[1m[\u001b[0m_client.py:\u001b[1;36m1773\u001b[0m\u001b[1m]\u001b[0m >> HTTP Request: \u001b[1;33mPOST\u001b[0m                                \u001b]8;id=670624;file:///home/jeongho/git/SKN05-FINAL-1TEAM/jeongho/RAG_env/lib/python3.12/site-packages/httpx/_client.py\u001b\\\u001b[2m_client.py\u001b[0m\u001b]8;;\u001b\\\u001b[2m:\u001b[0m\u001b]8;id=580697;file:///home/jeongho/git/SKN05-FINAL-1TEAM/jeongho/RAG_env/lib/python3.12/site-packages/httpx/_client.py#1773\u001b\\\u001b[2m1773\u001b[0m\u001b]8;;\u001b\\\n",
       "\u001b[2;36m                    \u001b[0m         \u001b[4;94mhttps://api.openai.com/v1/chat/completions\u001b[0m \u001b[32m\"HTTP/1.1 200 OK\"\u001b[0m           \u001b[2m               \u001b[0m\n"
      ]
     },
     "metadata": {},
     "output_type": "display_data"
    },
    {
     "name": "stderr",
     "output_type": "stream",
     "text": [
      "/home/jeongho/git/SKN05-FINAL-1TEAM/jeongho/RAG_env/lib/python3.12/site-packages/transformers/tokenization_utils_base.py:1601: FutureWarning: `clean_up_tokenization_spaces` was not set. It will be set to `True` by default. This behavior will be depracted in transformers v4.45, and will be then set to `False` by default. For more details check this issue: https://github.com/huggingface/transformers/issues/31884\n",
      "  warnings.warn(\n"
     ]
    },
    {
     "name": "stdout",
     "output_type": "stream",
     "text": [
      "multiQueryExpansion노드\n",
      "[['How to adjust focus?', 'How can I change the focus settings?', 'What steps are needed to modify the focus?', 'How do I alter the focus on my camera?']]\n"
     ]
    },
    {
     "data": {
      "text/html": [
       "<pre style=\"white-space:pre;overflow-x:auto;line-height:normal;font-family:Menlo,'DejaVu Sans Mono',consolas,'Courier New',monospace\"><span style=\"color: #7fbfbf; text-decoration-color: #7fbfbf\">[02/08/25 19:24:04] </span><span style=\"color: #000080; text-decoration-color: #000080\">INFO    </span> <span style=\"font-weight: bold\">[</span>_client.py:<span style=\"color: #008080; text-decoration-color: #008080; font-weight: bold\">1026</span><span style=\"font-weight: bold\">]</span> &gt;&gt; HTTP Request: <span style=\"color: #808000; text-decoration-color: #808000; font-weight: bold\">POST</span>                                <a href=\"file:///home/jeongho/git/SKN05-FINAL-1TEAM/jeongho/RAG_env/lib/python3.12/site-packages/httpx/_client.py\" target=\"_blank\"><span style=\"color: #7f7f7f; text-decoration-color: #7f7f7f\">_client.py</span></a><span style=\"color: #7f7f7f; text-decoration-color: #7f7f7f\">:</span><a href=\"file:///home/jeongho/git/SKN05-FINAL-1TEAM/jeongho/RAG_env/lib/python3.12/site-packages/httpx/_client.py#1026\" target=\"_blank\"><span style=\"color: #7f7f7f; text-decoration-color: #7f7f7f\">1026</span></a>\n",
       "<span style=\"color: #7fbfbf; text-decoration-color: #7fbfbf\">                    </span>         <span style=\"color: #0000ff; text-decoration-color: #0000ff; text-decoration: underline\">https://api.openai.com/v1/embeddings</span> <span style=\"color: #008000; text-decoration-color: #008000\">\"HTTP/1.1 200 OK\"</span>                 <span style=\"color: #7f7f7f; text-decoration-color: #7f7f7f\">               </span>\n",
       "</pre>\n"
      ],
      "text/plain": [
       "\u001b[2;36m[02/08/25 19:24:04]\u001b[0m\u001b[2;36m \u001b[0m\u001b[34mINFO    \u001b[0m \u001b[1m[\u001b[0m_client.py:\u001b[1;36m1026\u001b[0m\u001b[1m]\u001b[0m >> HTTP Request: \u001b[1;33mPOST\u001b[0m                                \u001b]8;id=724614;file:///home/jeongho/git/SKN05-FINAL-1TEAM/jeongho/RAG_env/lib/python3.12/site-packages/httpx/_client.py\u001b\\\u001b[2m_client.py\u001b[0m\u001b]8;;\u001b\\\u001b[2m:\u001b[0m\u001b]8;id=830253;file:///home/jeongho/git/SKN05-FINAL-1TEAM/jeongho/RAG_env/lib/python3.12/site-packages/httpx/_client.py#1026\u001b\\\u001b[2m1026\u001b[0m\u001b]8;;\u001b\\\n",
       "\u001b[2;36m                    \u001b[0m         \u001b[4;94mhttps://api.openai.com/v1/embeddings\u001b[0m \u001b[32m\"HTTP/1.1 200 OK\"\u001b[0m                 \u001b[2m               \u001b[0m\n"
      ]
     },
     "metadata": {},
     "output_type": "display_data"
    },
    {
     "data": {
      "text/html": [
       "<pre style=\"white-space:pre;overflow-x:auto;line-height:normal;font-family:Menlo,'DejaVu Sans Mono',consolas,'Courier New',monospace\"><span style=\"color: #7fbfbf; text-decoration-color: #7fbfbf\">[02/08/25 19:24:05] </span><span style=\"color: #000080; text-decoration-color: #000080\">INFO    </span> <span style=\"font-weight: bold\">[</span>_client.py:<span style=\"color: #008080; text-decoration-color: #008080; font-weight: bold\">1026</span><span style=\"font-weight: bold\">]</span> &gt;&gt; HTTP Request: <span style=\"color: #808000; text-decoration-color: #808000; font-weight: bold\">POST</span>                                <a href=\"file:///home/jeongho/git/SKN05-FINAL-1TEAM/jeongho/RAG_env/lib/python3.12/site-packages/httpx/_client.py\" target=\"_blank\"><span style=\"color: #7f7f7f; text-decoration-color: #7f7f7f\">_client.py</span></a><span style=\"color: #7f7f7f; text-decoration-color: #7f7f7f\">:</span><a href=\"file:///home/jeongho/git/SKN05-FINAL-1TEAM/jeongho/RAG_env/lib/python3.12/site-packages/httpx/_client.py#1026\" target=\"_blank\"><span style=\"color: #7f7f7f; text-decoration-color: #7f7f7f\">1026</span></a>\n",
       "<span style=\"color: #7fbfbf; text-decoration-color: #7fbfbf\">                    </span>         <span style=\"color: #0000ff; text-decoration-color: #0000ff; text-decoration: underline\">https://api.openai.com/v1/embeddings</span> <span style=\"color: #008000; text-decoration-color: #008000\">\"HTTP/1.1 200 OK\"</span>                 <span style=\"color: #7f7f7f; text-decoration-color: #7f7f7f\">               </span>\n",
       "</pre>\n"
      ],
      "text/plain": [
       "\u001b[2;36m[02/08/25 19:24:05]\u001b[0m\u001b[2;36m \u001b[0m\u001b[34mINFO    \u001b[0m \u001b[1m[\u001b[0m_client.py:\u001b[1;36m1026\u001b[0m\u001b[1m]\u001b[0m >> HTTP Request: \u001b[1;33mPOST\u001b[0m                                \u001b]8;id=878214;file:///home/jeongho/git/SKN05-FINAL-1TEAM/jeongho/RAG_env/lib/python3.12/site-packages/httpx/_client.py\u001b\\\u001b[2m_client.py\u001b[0m\u001b]8;;\u001b\\\u001b[2m:\u001b[0m\u001b]8;id=374378;file:///home/jeongho/git/SKN05-FINAL-1TEAM/jeongho/RAG_env/lib/python3.12/site-packages/httpx/_client.py#1026\u001b\\\u001b[2m1026\u001b[0m\u001b]8;;\u001b\\\n",
       "\u001b[2;36m                    \u001b[0m         \u001b[4;94mhttps://api.openai.com/v1/embeddings\u001b[0m \u001b[32m\"HTTP/1.1 200 OK\"\u001b[0m                 \u001b[2m               \u001b[0m\n"
      ]
     },
     "metadata": {},
     "output_type": "display_data"
    },
    {
     "data": {
      "text/html": [
       "<pre style=\"white-space:pre;overflow-x:auto;line-height:normal;font-family:Menlo,'DejaVu Sans Mono',consolas,'Courier New',monospace\"><span style=\"color: #7fbfbf; text-decoration-color: #7fbfbf\">[02/08/25 19:24:06] </span><span style=\"color: #000080; text-decoration-color: #000080\">INFO    </span> <span style=\"font-weight: bold\">[</span>_client.py:<span style=\"color: #008080; text-decoration-color: #008080; font-weight: bold\">1026</span><span style=\"font-weight: bold\">]</span> &gt;&gt; HTTP Request: <span style=\"color: #808000; text-decoration-color: #808000; font-weight: bold\">POST</span>                                <a href=\"file:///home/jeongho/git/SKN05-FINAL-1TEAM/jeongho/RAG_env/lib/python3.12/site-packages/httpx/_client.py\" target=\"_blank\"><span style=\"color: #7f7f7f; text-decoration-color: #7f7f7f\">_client.py</span></a><span style=\"color: #7f7f7f; text-decoration-color: #7f7f7f\">:</span><a href=\"file:///home/jeongho/git/SKN05-FINAL-1TEAM/jeongho/RAG_env/lib/python3.12/site-packages/httpx/_client.py#1026\" target=\"_blank\"><span style=\"color: #7f7f7f; text-decoration-color: #7f7f7f\">1026</span></a>\n",
       "<span style=\"color: #7fbfbf; text-decoration-color: #7fbfbf\">                    </span>         <span style=\"color: #0000ff; text-decoration-color: #0000ff; text-decoration: underline\">https://api.openai.com/v1/embeddings</span> <span style=\"color: #008000; text-decoration-color: #008000\">\"HTTP/1.1 200 OK\"</span>                 <span style=\"color: #7f7f7f; text-decoration-color: #7f7f7f\">               </span>\n",
       "</pre>\n"
      ],
      "text/plain": [
       "\u001b[2;36m[02/08/25 19:24:06]\u001b[0m\u001b[2;36m \u001b[0m\u001b[34mINFO    \u001b[0m \u001b[1m[\u001b[0m_client.py:\u001b[1;36m1026\u001b[0m\u001b[1m]\u001b[0m >> HTTP Request: \u001b[1;33mPOST\u001b[0m                                \u001b]8;id=558787;file:///home/jeongho/git/SKN05-FINAL-1TEAM/jeongho/RAG_env/lib/python3.12/site-packages/httpx/_client.py\u001b\\\u001b[2m_client.py\u001b[0m\u001b]8;;\u001b\\\u001b[2m:\u001b[0m\u001b]8;id=802805;file:///home/jeongho/git/SKN05-FINAL-1TEAM/jeongho/RAG_env/lib/python3.12/site-packages/httpx/_client.py#1026\u001b\\\u001b[2m1026\u001b[0m\u001b]8;;\u001b\\\n",
       "\u001b[2;36m                    \u001b[0m         \u001b[4;94mhttps://api.openai.com/v1/embeddings\u001b[0m \u001b[32m\"HTTP/1.1 200 OK\"\u001b[0m                 \u001b[2m               \u001b[0m\n"
      ]
     },
     "metadata": {},
     "output_type": "display_data"
    },
    {
     "data": {
      "text/html": [
       "<pre style=\"white-space:pre;overflow-x:auto;line-height:normal;font-family:Menlo,'DejaVu Sans Mono',consolas,'Courier New',monospace\"><span style=\"color: #7fbfbf; text-decoration-color: #7fbfbf\">[02/08/25 19:24:07] </span><span style=\"color: #000080; text-decoration-color: #000080\">INFO    </span> <span style=\"font-weight: bold\">[</span>_client.py:<span style=\"color: #008080; text-decoration-color: #008080; font-weight: bold\">1026</span><span style=\"font-weight: bold\">]</span> &gt;&gt; HTTP Request: <span style=\"color: #808000; text-decoration-color: #808000; font-weight: bold\">POST</span>                                <a href=\"file:///home/jeongho/git/SKN05-FINAL-1TEAM/jeongho/RAG_env/lib/python3.12/site-packages/httpx/_client.py\" target=\"_blank\"><span style=\"color: #7f7f7f; text-decoration-color: #7f7f7f\">_client.py</span></a><span style=\"color: #7f7f7f; text-decoration-color: #7f7f7f\">:</span><a href=\"file:///home/jeongho/git/SKN05-FINAL-1TEAM/jeongho/RAG_env/lib/python3.12/site-packages/httpx/_client.py#1026\" target=\"_blank\"><span style=\"color: #7f7f7f; text-decoration-color: #7f7f7f\">1026</span></a>\n",
       "<span style=\"color: #7fbfbf; text-decoration-color: #7fbfbf\">                    </span>         <span style=\"color: #0000ff; text-decoration-color: #0000ff; text-decoration: underline\">https://api.openai.com/v1/embeddings</span> <span style=\"color: #008000; text-decoration-color: #008000\">\"HTTP/1.1 200 OK\"</span>                 <span style=\"color: #7f7f7f; text-decoration-color: #7f7f7f\">               </span>\n",
       "</pre>\n"
      ],
      "text/plain": [
       "\u001b[2;36m[02/08/25 19:24:07]\u001b[0m\u001b[2;36m \u001b[0m\u001b[34mINFO    \u001b[0m \u001b[1m[\u001b[0m_client.py:\u001b[1;36m1026\u001b[0m\u001b[1m]\u001b[0m >> HTTP Request: \u001b[1;33mPOST\u001b[0m                                \u001b]8;id=924213;file:///home/jeongho/git/SKN05-FINAL-1TEAM/jeongho/RAG_env/lib/python3.12/site-packages/httpx/_client.py\u001b\\\u001b[2m_client.py\u001b[0m\u001b]8;;\u001b\\\u001b[2m:\u001b[0m\u001b]8;id=996268;file:///home/jeongho/git/SKN05-FINAL-1TEAM/jeongho/RAG_env/lib/python3.12/site-packages/httpx/_client.py#1026\u001b\\\u001b[2m1026\u001b[0m\u001b]8;;\u001b\\\n",
       "\u001b[2;36m                    \u001b[0m         \u001b[4;94mhttps://api.openai.com/v1/embeddings\u001b[0m \u001b[32m\"HTTP/1.1 200 OK\"\u001b[0m                 \u001b[2m               \u001b[0m\n"
      ]
     },
     "metadata": {},
     "output_type": "display_data"
    },
    {
     "data": {
      "text/html": [
       "<pre style=\"white-space:pre;overflow-x:auto;line-height:normal;font-family:Menlo,'DejaVu Sans Mono',consolas,'Courier New',monospace\"><span style=\"color: #7fbfbf; text-decoration-color: #7fbfbf\">                    </span><span style=\"color: #000080; text-decoration-color: #000080\">INFO    </span> <span style=\"font-weight: bold\">[</span>base.py:<span style=\"color: #008080; text-decoration-color: #008080; font-weight: bold\">31</span><span style=\"font-weight: bold\">]</span> &gt;&gt; Running retrieval node - BM25 module<span style=\"color: #808000; text-decoration-color: #808000\">...</span>                     <a href=\"file:///home/jeongho/git/SKN05-FINAL-1TEAM/jeongho/RAG_env/lib/python3.12/site-packages/autorag/nodes/retrieval/base.py\" target=\"_blank\"><span style=\"color: #7f7f7f; text-decoration-color: #7f7f7f\">base.py</span></a><span style=\"color: #7f7f7f; text-decoration-color: #7f7f7f\">:</span><a href=\"file:///home/jeongho/git/SKN05-FINAL-1TEAM/jeongho/RAG_env/lib/python3.12/site-packages/autorag/nodes/retrieval/base.py#31\" target=\"_blank\"><span style=\"color: #7f7f7f; text-decoration-color: #7f7f7f\">31</span></a>\n",
       "</pre>\n"
      ],
      "text/plain": [
       "\u001b[2;36m                   \u001b[0m\u001b[2;36m \u001b[0m\u001b[34mINFO    \u001b[0m \u001b[1m[\u001b[0mbase.py:\u001b[1;36m31\u001b[0m\u001b[1m]\u001b[0m >> Running retrieval node - BM25 module\u001b[33m...\u001b[0m                     \u001b]8;id=182952;file:///home/jeongho/git/SKN05-FINAL-1TEAM/jeongho/RAG_env/lib/python3.12/site-packages/autorag/nodes/retrieval/base.py\u001b\\\u001b[2mbase.py\u001b[0m\u001b]8;;\u001b\\\u001b[2m:\u001b[0m\u001b]8;id=911450;file:///home/jeongho/git/SKN05-FINAL-1TEAM/jeongho/RAG_env/lib/python3.12/site-packages/autorag/nodes/retrieval/base.py#31\u001b\\\u001b[2m31\u001b[0m\u001b]8;;\u001b\\\n"
      ]
     },
     "metadata": {},
     "output_type": "display_data"
    },
    {
     "name": "stdout",
     "output_type": "stream",
     "text": [
      "hybridCC노드\n",
      "[[['x100v_page73', 'x-e4_page77', 'x100v_page8', 'x-s20_page100', 'gfx100ii_page343', 'x100v_page72', 'x100v_page7', 'x-e4_page76', 'x-s20_page99', 'gfx100ii_page344'], ['x-s20_page99', 'x100v_page120', 'x100v_page72', 'x-e4_page69', 'x-s20_page92', 'x-s20_page152', 'x100v_page125', 'gfx100ii_page100', 'x-t5_page90', 'gfx100ii_page58'], ['x-s20_page152', 'x100v_page125', 'x-t5_page147', 'gfx100ii_page221', 'x-t5_page226', 'x-s20_page99', 'x-t5_page90', 'x-t5_page164', 'x100v_page143', 'x100v_page72'], ['x100v_page73', 'x-t5_page91', 'x-s20_page92', 'x-s20_page72', 'x100v_page57', 'gfx100ii_page77', 'x-e4_page69', 'x-e4_page77', 'x-t5_page73', 'x-e4_page76']]]\n"
     ]
    },
    {
     "data": {
      "text/html": [
       "<pre style=\"white-space:pre;overflow-x:auto;line-height:normal;font-family:Menlo,'DejaVu Sans Mono',consolas,'Courier New',monospace\"><span style=\"color: #7fbfbf; text-decoration-color: #7fbfbf\">                    </span><span style=\"color: #000080; text-decoration-color: #000080\">INFO    </span> <span style=\"font-weight: bold\">[</span>_client.py:<span style=\"color: #008080; text-decoration-color: #008080; font-weight: bold\">1026</span><span style=\"font-weight: bold\">]</span> &gt;&gt; HTTP Request: <span style=\"color: #808000; text-decoration-color: #808000; font-weight: bold\">POST</span>                                <a href=\"file:///home/jeongho/git/SKN05-FINAL-1TEAM/jeongho/RAG_env/lib/python3.12/site-packages/httpx/_client.py\" target=\"_blank\"><span style=\"color: #7f7f7f; text-decoration-color: #7f7f7f\">_client.py</span></a><span style=\"color: #7f7f7f; text-decoration-color: #7f7f7f\">:</span><a href=\"file:///home/jeongho/git/SKN05-FINAL-1TEAM/jeongho/RAG_env/lib/python3.12/site-packages/httpx/_client.py#1026\" target=\"_blank\"><span style=\"color: #7f7f7f; text-decoration-color: #7f7f7f\">1026</span></a>\n",
       "<span style=\"color: #7fbfbf; text-decoration-color: #7fbfbf\">                    </span>         <span style=\"color: #0000ff; text-decoration-color: #0000ff; text-decoration: underline\">https://api.cohere.com/v2/rerank</span> <span style=\"color: #008000; text-decoration-color: #008000\">\"HTTP/1.1 200 OK\"</span>                     <span style=\"color: #7f7f7f; text-decoration-color: #7f7f7f\">               </span>\n",
       "</pre>\n"
      ],
      "text/plain": [
       "\u001b[2;36m                   \u001b[0m\u001b[2;36m \u001b[0m\u001b[34mINFO    \u001b[0m \u001b[1m[\u001b[0m_client.py:\u001b[1;36m1026\u001b[0m\u001b[1m]\u001b[0m >> HTTP Request: \u001b[1;33mPOST\u001b[0m                                \u001b]8;id=618399;file:///home/jeongho/git/SKN05-FINAL-1TEAM/jeongho/RAG_env/lib/python3.12/site-packages/httpx/_client.py\u001b\\\u001b[2m_client.py\u001b[0m\u001b]8;;\u001b\\\u001b[2m:\u001b[0m\u001b]8;id=291107;file:///home/jeongho/git/SKN05-FINAL-1TEAM/jeongho/RAG_env/lib/python3.12/site-packages/httpx/_client.py#1026\u001b\\\u001b[2m1026\u001b[0m\u001b]8;;\u001b\\\n",
       "\u001b[2;36m                    \u001b[0m         \u001b[4;94mhttps://api.cohere.com/v2/rerank\u001b[0m \u001b[32m\"HTTP/1.1 200 OK\"\u001b[0m                     \u001b[2m               \u001b[0m\n"
      ]
     },
     "metadata": {},
     "output_type": "display_data"
    },
    {
     "data": {
      "text/html": [
       "<pre style=\"white-space:pre;overflow-x:auto;line-height:normal;font-family:Menlo,'DejaVu Sans Mono',consolas,'Courier New',monospace\"><span style=\"color: #7fbfbf; text-decoration-color: #7fbfbf\">[02/08/25 19:24:08] </span><span style=\"color: #000080; text-decoration-color: #000080\">INFO    </span> <span style=\"font-weight: bold\">[</span>_client.py:<span style=\"color: #008080; text-decoration-color: #008080; font-weight: bold\">1026</span><span style=\"font-weight: bold\">]</span> &gt;&gt; HTTP Request: <span style=\"color: #808000; text-decoration-color: #808000; font-weight: bold\">POST</span>                                <a href=\"file:///home/jeongho/git/SKN05-FINAL-1TEAM/jeongho/RAG_env/lib/python3.12/site-packages/httpx/_client.py\" target=\"_blank\"><span style=\"color: #7f7f7f; text-decoration-color: #7f7f7f\">_client.py</span></a><span style=\"color: #7f7f7f; text-decoration-color: #7f7f7f\">:</span><a href=\"file:///home/jeongho/git/SKN05-FINAL-1TEAM/jeongho/RAG_env/lib/python3.12/site-packages/httpx/_client.py#1026\" target=\"_blank\"><span style=\"color: #7f7f7f; text-decoration-color: #7f7f7f\">1026</span></a>\n",
       "<span style=\"color: #7fbfbf; text-decoration-color: #7fbfbf\">                    </span>         <span style=\"color: #0000ff; text-decoration-color: #0000ff; text-decoration: underline\">https://api.cohere.com/v2/rerank</span> <span style=\"color: #008000; text-decoration-color: #008000\">\"HTTP/1.1 200 OK\"</span>                     <span style=\"color: #7f7f7f; text-decoration-color: #7f7f7f\">               </span>\n",
       "</pre>\n"
      ],
      "text/plain": [
       "\u001b[2;36m[02/08/25 19:24:08]\u001b[0m\u001b[2;36m \u001b[0m\u001b[34mINFO    \u001b[0m \u001b[1m[\u001b[0m_client.py:\u001b[1;36m1026\u001b[0m\u001b[1m]\u001b[0m >> HTTP Request: \u001b[1;33mPOST\u001b[0m                                \u001b]8;id=876662;file:///home/jeongho/git/SKN05-FINAL-1TEAM/jeongho/RAG_env/lib/python3.12/site-packages/httpx/_client.py\u001b\\\u001b[2m_client.py\u001b[0m\u001b]8;;\u001b\\\u001b[2m:\u001b[0m\u001b]8;id=421966;file:///home/jeongho/git/SKN05-FINAL-1TEAM/jeongho/RAG_env/lib/python3.12/site-packages/httpx/_client.py#1026\u001b\\\u001b[2m1026\u001b[0m\u001b]8;;\u001b\\\n",
       "\u001b[2;36m                    \u001b[0m         \u001b[4;94mhttps://api.cohere.com/v2/rerank\u001b[0m \u001b[32m\"HTTP/1.1 200 OK\"\u001b[0m                     \u001b[2m               \u001b[0m\n"
      ]
     },
     "metadata": {},
     "output_type": "display_data"
    },
    {
     "data": {
      "text/html": [
       "<pre style=\"white-space:pre;overflow-x:auto;line-height:normal;font-family:Menlo,'DejaVu Sans Mono',consolas,'Courier New',monospace\"><span style=\"color: #7fbfbf; text-decoration-color: #7fbfbf\">                    </span><span style=\"color: #000080; text-decoration-color: #000080\">INFO    </span> <span style=\"font-weight: bold\">[</span>_client.py:<span style=\"color: #008080; text-decoration-color: #008080; font-weight: bold\">1026</span><span style=\"font-weight: bold\">]</span> &gt;&gt; HTTP Request: <span style=\"color: #808000; text-decoration-color: #808000; font-weight: bold\">POST</span>                                <a href=\"file:///home/jeongho/git/SKN05-FINAL-1TEAM/jeongho/RAG_env/lib/python3.12/site-packages/httpx/_client.py\" target=\"_blank\"><span style=\"color: #7f7f7f; text-decoration-color: #7f7f7f\">_client.py</span></a><span style=\"color: #7f7f7f; text-decoration-color: #7f7f7f\">:</span><a href=\"file:///home/jeongho/git/SKN05-FINAL-1TEAM/jeongho/RAG_env/lib/python3.12/site-packages/httpx/_client.py#1026\" target=\"_blank\"><span style=\"color: #7f7f7f; text-decoration-color: #7f7f7f\">1026</span></a>\n",
       "<span style=\"color: #7fbfbf; text-decoration-color: #7fbfbf\">                    </span>         <span style=\"color: #0000ff; text-decoration-color: #0000ff; text-decoration: underline\">https://api.cohere.com/v2/rerank</span> <span style=\"color: #008000; text-decoration-color: #008000\">\"HTTP/1.1 200 OK\"</span>                     <span style=\"color: #7f7f7f; text-decoration-color: #7f7f7f\">               </span>\n",
       "</pre>\n"
      ],
      "text/plain": [
       "\u001b[2;36m                   \u001b[0m\u001b[2;36m \u001b[0m\u001b[34mINFO    \u001b[0m \u001b[1m[\u001b[0m_client.py:\u001b[1;36m1026\u001b[0m\u001b[1m]\u001b[0m >> HTTP Request: \u001b[1;33mPOST\u001b[0m                                \u001b]8;id=586909;file:///home/jeongho/git/SKN05-FINAL-1TEAM/jeongho/RAG_env/lib/python3.12/site-packages/httpx/_client.py\u001b\\\u001b[2m_client.py\u001b[0m\u001b]8;;\u001b\\\u001b[2m:\u001b[0m\u001b]8;id=84320;file:///home/jeongho/git/SKN05-FINAL-1TEAM/jeongho/RAG_env/lib/python3.12/site-packages/httpx/_client.py#1026\u001b\\\u001b[2m1026\u001b[0m\u001b]8;;\u001b\\\n",
       "\u001b[2;36m                    \u001b[0m         \u001b[4;94mhttps://api.cohere.com/v2/rerank\u001b[0m \u001b[32m\"HTTP/1.1 200 OK\"\u001b[0m                     \u001b[2m               \u001b[0m\n"
      ]
     },
     "metadata": {},
     "output_type": "display_data"
    },
    {
     "data": {
      "text/html": [
       "<pre style=\"white-space:pre;overflow-x:auto;line-height:normal;font-family:Menlo,'DejaVu Sans Mono',consolas,'Courier New',monospace\"><span style=\"color: #7fbfbf; text-decoration-color: #7fbfbf\">                    </span><span style=\"color: #000080; text-decoration-color: #000080\">INFO    </span> <span style=\"font-weight: bold\">[</span>_client.py:<span style=\"color: #008080; text-decoration-color: #008080; font-weight: bold\">1026</span><span style=\"font-weight: bold\">]</span> &gt;&gt; HTTP Request: <span style=\"color: #808000; text-decoration-color: #808000; font-weight: bold\">POST</span>                                <a href=\"file:///home/jeongho/git/SKN05-FINAL-1TEAM/jeongho/RAG_env/lib/python3.12/site-packages/httpx/_client.py\" target=\"_blank\"><span style=\"color: #7f7f7f; text-decoration-color: #7f7f7f\">_client.py</span></a><span style=\"color: #7f7f7f; text-decoration-color: #7f7f7f\">:</span><a href=\"file:///home/jeongho/git/SKN05-FINAL-1TEAM/jeongho/RAG_env/lib/python3.12/site-packages/httpx/_client.py#1026\" target=\"_blank\"><span style=\"color: #7f7f7f; text-decoration-color: #7f7f7f\">1026</span></a>\n",
       "<span style=\"color: #7fbfbf; text-decoration-color: #7fbfbf\">                    </span>         <span style=\"color: #0000ff; text-decoration-color: #0000ff; text-decoration: underline\">https://api.cohere.com/v2/rerank</span> <span style=\"color: #008000; text-decoration-color: #008000\">\"HTTP/1.1 200 OK\"</span>                     <span style=\"color: #7f7f7f; text-decoration-color: #7f7f7f\">               </span>\n",
       "</pre>\n"
      ],
      "text/plain": [
       "\u001b[2;36m                   \u001b[0m\u001b[2;36m \u001b[0m\u001b[34mINFO    \u001b[0m \u001b[1m[\u001b[0m_client.py:\u001b[1;36m1026\u001b[0m\u001b[1m]\u001b[0m >> HTTP Request: \u001b[1;33mPOST\u001b[0m                                \u001b]8;id=219936;file:///home/jeongho/git/SKN05-FINAL-1TEAM/jeongho/RAG_env/lib/python3.12/site-packages/httpx/_client.py\u001b\\\u001b[2m_client.py\u001b[0m\u001b]8;;\u001b\\\u001b[2m:\u001b[0m\u001b]8;id=759093;file:///home/jeongho/git/SKN05-FINAL-1TEAM/jeongho/RAG_env/lib/python3.12/site-packages/httpx/_client.py#1026\u001b\\\u001b[2m1026\u001b[0m\u001b]8;;\u001b\\\n",
       "\u001b[2;36m                    \u001b[0m         \u001b[4;94mhttps://api.cohere.com/v2/rerank\u001b[0m \u001b[32m\"HTTP/1.1 200 OK\"\u001b[0m                     \u001b[2m               \u001b[0m\n"
      ]
     },
     "metadata": {},
     "output_type": "display_data"
    },
    {
     "name": "stdout",
     "output_type": "stream",
     "text": [
      "cohere노드\n",
      "[[[{'chapter': 'Taking Photographs', 'model': 'x100v', 'page': 73, 'section': 'Manual Focus', 'subsection': ['Manual Focus']}, {'chapter': 'Taking Photographs', 'model': 'x-e4', 'page': 77, 'section': 'Manual Focus', 'subsection': ['Manual Focus']}, {'chapter': 'Taking Photographs', 'model': 'x-s20', 'page': 100, 'section': 'Manual Focus', 'subsection': ['Manual Focus']}], [{'chapter': 'The Shooting Menus', 'model': 'x100v', 'page': 120, 'section': 'AF/MF SETTING', 'subsection': ['FOCUS AREA']}, {'chapter': 'The Shooting Menus', 'model': 'x-s20', 'page': 152, 'section': 'AF/MF SETTING (Still Photography)', 'subsection': ['AF-C CUSTOM SETTINGS']}, {'chapter': 'Taking Photographs', 'model': 'x-e4', 'page': 69, 'section': 'Autofocus', 'subsection': ['Focus Mode']}], [{'chapter': 'The Shooting Menus', 'model': 'x-s20', 'page': 152, 'section': 'AF/MF SETTING (Still Photography)', 'subsection': ['AF-C CUSTOM SETTINGS']}, {'chapter': 'The Shooting Menus', 'model': 'x-t5', 'page': 164, 'section': 'SHOOTING SETTING (Still Photography)', 'subsection': ['DRIVE SETTING']}, {'chapter': 'The Shooting Menus', 'model': 'x100v', 'page': 125, 'section': 'AF/MF SETTING', 'subsection': ['AF-C CUSTOM SETTINGS']}], [{'chapter': 'Taking Photographs', 'model': 'x-e4', 'page': 69, 'section': 'Autofocus', 'subsection': ['Focus Mode']}, {'chapter': 'Taking Photographs', 'model': 'x-t5', 'page': 91, 'section': 'Manual Focus', 'subsection': ['Manual Focus']}, {'chapter': 'Taking Photographs', 'model': 'x-s20', 'page': 92, 'section': 'Autofocus', 'subsection': ['Focus Mode']}]]]\n"
     ]
    },
    {
     "data": {
      "text/html": [
       "<pre style=\"white-space:pre;overflow-x:auto;line-height:normal;font-family:Menlo,'DejaVu Sans Mono',consolas,'Courier New',monospace\"><span style=\"color: #7fbfbf; text-decoration-color: #7fbfbf\">[02/08/25 19:24:13] </span><span style=\"color: #000080; text-decoration-color: #000080\">INFO    </span> <span style=\"font-weight: bold\">[</span>_client.py:<span style=\"color: #008080; text-decoration-color: #008080; font-weight: bold\">1773</span><span style=\"font-weight: bold\">]</span> &gt;&gt; HTTP Request: <span style=\"color: #808000; text-decoration-color: #808000; font-weight: bold\">POST</span>                                <a href=\"file:///home/jeongho/git/SKN05-FINAL-1TEAM/jeongho/RAG_env/lib/python3.12/site-packages/httpx/_client.py\" target=\"_blank\"><span style=\"color: #7f7f7f; text-decoration-color: #7f7f7f\">_client.py</span></a><span style=\"color: #7f7f7f; text-decoration-color: #7f7f7f\">:</span><a href=\"file:///home/jeongho/git/SKN05-FINAL-1TEAM/jeongho/RAG_env/lib/python3.12/site-packages/httpx/_client.py#1773\" target=\"_blank\"><span style=\"color: #7f7f7f; text-decoration-color: #7f7f7f\">1773</span></a>\n",
       "<span style=\"color: #7fbfbf; text-decoration-color: #7fbfbf\">                    </span>         <span style=\"color: #0000ff; text-decoration-color: #0000ff; text-decoration: underline\">https://api.openai.com/v1/chat/completions</span> <span style=\"color: #008000; text-decoration-color: #008000\">\"HTTP/1.1 200 OK\"</span>           <span style=\"color: #7f7f7f; text-decoration-color: #7f7f7f\">               </span>\n",
       "</pre>\n"
      ],
      "text/plain": [
       "\u001b[2;36m[02/08/25 19:24:13]\u001b[0m\u001b[2;36m \u001b[0m\u001b[34mINFO    \u001b[0m \u001b[1m[\u001b[0m_client.py:\u001b[1;36m1773\u001b[0m\u001b[1m]\u001b[0m >> HTTP Request: \u001b[1;33mPOST\u001b[0m                                \u001b]8;id=800923;file:///home/jeongho/git/SKN05-FINAL-1TEAM/jeongho/RAG_env/lib/python3.12/site-packages/httpx/_client.py\u001b\\\u001b[2m_client.py\u001b[0m\u001b]8;;\u001b\\\u001b[2m:\u001b[0m\u001b]8;id=757337;file:///home/jeongho/git/SKN05-FINAL-1TEAM/jeongho/RAG_env/lib/python3.12/site-packages/httpx/_client.py#1773\u001b\\\u001b[2m1773\u001b[0m\u001b]8;;\u001b\\\n",
       "\u001b[2;36m                    \u001b[0m         \u001b[4;94mhttps://api.openai.com/v1/chat/completions\u001b[0m \u001b[32m\"HTTP/1.1 200 OK\"\u001b[0m           \u001b[2m               \u001b[0m\n"
      ]
     },
     "metadata": {},
     "output_type": "display_data"
    },
    {
     "data": {
      "text/html": [
       "<pre style=\"white-space:pre;overflow-x:auto;line-height:normal;font-family:Menlo,'DejaVu Sans Mono',consolas,'Courier New',monospace\"><span style=\"color: #7fbfbf; text-decoration-color: #7fbfbf\">[02/08/25 19:24:17] </span><span style=\"color: #000080; text-decoration-color: #000080\">INFO    </span> <span style=\"font-weight: bold\">[</span>_client.py:<span style=\"color: #008080; text-decoration-color: #008080; font-weight: bold\">1773</span><span style=\"font-weight: bold\">]</span> &gt;&gt; HTTP Request: <span style=\"color: #808000; text-decoration-color: #808000; font-weight: bold\">POST</span>                                <a href=\"file:///home/jeongho/git/SKN05-FINAL-1TEAM/jeongho/RAG_env/lib/python3.12/site-packages/httpx/_client.py\" target=\"_blank\"><span style=\"color: #7f7f7f; text-decoration-color: #7f7f7f\">_client.py</span></a><span style=\"color: #7f7f7f; text-decoration-color: #7f7f7f\">:</span><a href=\"file:///home/jeongho/git/SKN05-FINAL-1TEAM/jeongho/RAG_env/lib/python3.12/site-packages/httpx/_client.py#1773\" target=\"_blank\"><span style=\"color: #7f7f7f; text-decoration-color: #7f7f7f\">1773</span></a>\n",
       "<span style=\"color: #7fbfbf; text-decoration-color: #7fbfbf\">                    </span>         <span style=\"color: #0000ff; text-decoration-color: #0000ff; text-decoration: underline\">https://api.openai.com/v1/chat/completions</span> <span style=\"color: #008000; text-decoration-color: #008000\">\"HTTP/1.1 200 OK\"</span>           <span style=\"color: #7f7f7f; text-decoration-color: #7f7f7f\">               </span>\n",
       "</pre>\n"
      ],
      "text/plain": [
       "\u001b[2;36m[02/08/25 19:24:17]\u001b[0m\u001b[2;36m \u001b[0m\u001b[34mINFO    \u001b[0m \u001b[1m[\u001b[0m_client.py:\u001b[1;36m1773\u001b[0m\u001b[1m]\u001b[0m >> HTTP Request: \u001b[1;33mPOST\u001b[0m                                \u001b]8;id=108565;file:///home/jeongho/git/SKN05-FINAL-1TEAM/jeongho/RAG_env/lib/python3.12/site-packages/httpx/_client.py\u001b\\\u001b[2m_client.py\u001b[0m\u001b]8;;\u001b\\\u001b[2m:\u001b[0m\u001b]8;id=511061;file:///home/jeongho/git/SKN05-FINAL-1TEAM/jeongho/RAG_env/lib/python3.12/site-packages/httpx/_client.py#1773\u001b\\\u001b[2m1773\u001b[0m\u001b]8;;\u001b\\\n",
       "\u001b[2;36m                    \u001b[0m         \u001b[4;94mhttps://api.openai.com/v1/chat/completions\u001b[0m \u001b[32m\"HTTP/1.1 200 OK\"\u001b[0m           \u001b[2m               \u001b[0m\n"
      ]
     },
     "metadata": {},
     "output_type": "display_data"
    },
    {
     "data": {
      "text/html": [
       "<pre style=\"white-space:pre;overflow-x:auto;line-height:normal;font-family:Menlo,'DejaVu Sans Mono',consolas,'Courier New',monospace\"><span style=\"color: #7fbfbf; text-decoration-color: #7fbfbf\">[02/08/25 19:24:18] </span><span style=\"color: #000080; text-decoration-color: #000080\">INFO    </span> <span style=\"font-weight: bold\">[</span>_client.py:<span style=\"color: #008080; text-decoration-color: #008080; font-weight: bold\">1773</span><span style=\"font-weight: bold\">]</span> &gt;&gt; HTTP Request: <span style=\"color: #808000; text-decoration-color: #808000; font-weight: bold\">POST</span>                                <a href=\"file:///home/jeongho/git/SKN05-FINAL-1TEAM/jeongho/RAG_env/lib/python3.12/site-packages/httpx/_client.py\" target=\"_blank\"><span style=\"color: #7f7f7f; text-decoration-color: #7f7f7f\">_client.py</span></a><span style=\"color: #7f7f7f; text-decoration-color: #7f7f7f\">:</span><a href=\"file:///home/jeongho/git/SKN05-FINAL-1TEAM/jeongho/RAG_env/lib/python3.12/site-packages/httpx/_client.py#1773\" target=\"_blank\"><span style=\"color: #7f7f7f; text-decoration-color: #7f7f7f\">1773</span></a>\n",
       "<span style=\"color: #7fbfbf; text-decoration-color: #7fbfbf\">                    </span>         <span style=\"color: #0000ff; text-decoration-color: #0000ff; text-decoration: underline\">https://api.openai.com/v1/chat/completions</span> <span style=\"color: #008000; text-decoration-color: #008000\">\"HTTP/1.1 200 OK\"</span>           <span style=\"color: #7f7f7f; text-decoration-color: #7f7f7f\">               </span>\n",
       "</pre>\n"
      ],
      "text/plain": [
       "\u001b[2;36m[02/08/25 19:24:18]\u001b[0m\u001b[2;36m \u001b[0m\u001b[34mINFO    \u001b[0m \u001b[1m[\u001b[0m_client.py:\u001b[1;36m1773\u001b[0m\u001b[1m]\u001b[0m >> HTTP Request: \u001b[1;33mPOST\u001b[0m                                \u001b]8;id=520261;file:///home/jeongho/git/SKN05-FINAL-1TEAM/jeongho/RAG_env/lib/python3.12/site-packages/httpx/_client.py\u001b\\\u001b[2m_client.py\u001b[0m\u001b]8;;\u001b\\\u001b[2m:\u001b[0m\u001b]8;id=45137;file:///home/jeongho/git/SKN05-FINAL-1TEAM/jeongho/RAG_env/lib/python3.12/site-packages/httpx/_client.py#1773\u001b\\\u001b[2m1773\u001b[0m\u001b]8;;\u001b\\\n",
       "\u001b[2;36m                    \u001b[0m         \u001b[4;94mhttps://api.openai.com/v1/chat/completions\u001b[0m \u001b[32m\"HTTP/1.1 200 OK\"\u001b[0m           \u001b[2m               \u001b[0m\n"
      ]
     },
     "metadata": {},
     "output_type": "display_data"
    },
    {
     "data": {
      "text/html": [
       "<pre style=\"white-space:pre;overflow-x:auto;line-height:normal;font-family:Menlo,'DejaVu Sans Mono',consolas,'Courier New',monospace\"><span style=\"color: #7fbfbf; text-decoration-color: #7fbfbf\">[02/08/25 19:24:19] </span><span style=\"color: #000080; text-decoration-color: #000080\">INFO    </span> <span style=\"font-weight: bold\">[</span>_client.py:<span style=\"color: #008080; text-decoration-color: #008080; font-weight: bold\">1773</span><span style=\"font-weight: bold\">]</span> &gt;&gt; HTTP Request: <span style=\"color: #808000; text-decoration-color: #808000; font-weight: bold\">POST</span>                                <a href=\"file:///home/jeongho/git/SKN05-FINAL-1TEAM/jeongho/RAG_env/lib/python3.12/site-packages/httpx/_client.py\" target=\"_blank\"><span style=\"color: #7f7f7f; text-decoration-color: #7f7f7f\">_client.py</span></a><span style=\"color: #7f7f7f; text-decoration-color: #7f7f7f\">:</span><a href=\"file:///home/jeongho/git/SKN05-FINAL-1TEAM/jeongho/RAG_env/lib/python3.12/site-packages/httpx/_client.py#1773\" target=\"_blank\"><span style=\"color: #7f7f7f; text-decoration-color: #7f7f7f\">1773</span></a>\n",
       "<span style=\"color: #7fbfbf; text-decoration-color: #7fbfbf\">                    </span>         <span style=\"color: #0000ff; text-decoration-color: #0000ff; text-decoration: underline\">https://api.openai.com/v1/chat/completions</span> <span style=\"color: #008000; text-decoration-color: #008000\">\"HTTP/1.1 200 OK\"</span>           <span style=\"color: #7f7f7f; text-decoration-color: #7f7f7f\">               </span>\n",
       "</pre>\n"
      ],
      "text/plain": [
       "\u001b[2;36m[02/08/25 19:24:19]\u001b[0m\u001b[2;36m \u001b[0m\u001b[34mINFO    \u001b[0m \u001b[1m[\u001b[0m_client.py:\u001b[1;36m1773\u001b[0m\u001b[1m]\u001b[0m >> HTTP Request: \u001b[1;33mPOST\u001b[0m                                \u001b]8;id=499735;file:///home/jeongho/git/SKN05-FINAL-1TEAM/jeongho/RAG_env/lib/python3.12/site-packages/httpx/_client.py\u001b\\\u001b[2m_client.py\u001b[0m\u001b]8;;\u001b\\\u001b[2m:\u001b[0m\u001b]8;id=554637;file:///home/jeongho/git/SKN05-FINAL-1TEAM/jeongho/RAG_env/lib/python3.12/site-packages/httpx/_client.py#1773\u001b\\\u001b[2m1773\u001b[0m\u001b]8;;\u001b\\\n",
       "\u001b[2;36m                    \u001b[0m         \u001b[4;94mhttps://api.openai.com/v1/chat/completions\u001b[0m \u001b[32m\"HTTP/1.1 200 OK\"\u001b[0m           \u001b[2m               \u001b[0m\n"
      ]
     },
     "metadata": {},
     "output_type": "display_data"
    },
    {
     "name": "stdout",
     "output_type": "stream",
     "text": [
      "generate노드\n",
      "['To adjust focus manually on your camera, follow these steps:\\n\\n### For Model x100v:\\n1. **Slide the Focus Mode Selector to M**:\\n   - This will display **MF** on the screen.\\n   - !Focus Mode Selector\\n   - !MF Display\\n\\n2. **Use the Lens Focus Ring**:\\n   - Rotate the ring left to reduce the focus distance.\\n   - Rotate the ring right to increase the focus distance.\\n   - !Lens Focus Ring\\n\\n3. **Take Pictures**.\\n\\n> 💡 **Tip**: You can reverse the direction of the focus ring rotation by using **BUTTON/DIAL SETTING > FOCUS RING**.\\n\\n### For Model x-e4 and x-s20:\\n1. **Select MANUAL FOCUS** for **AF/MF SETTING > FOCUS MODE**:\\n   - !Focus Mode Display\\n\\n2. **Use the Lens Focus Ring**:\\n   - Rotate the ring left to reduce the focus distance.\\n   - Rotate the ring right to increase the focus distance.\\n   - !Lens Focus Ring\\n\\n3. **Take Pictures**.\\n\\n> 💡 **Note**: \\n> - You can reverse the direction of the focus ring rotation by using **BUTTON/DIAL SETTING > FOCUS RING** (x-e4) or **BUTTON/DIAL SETTING > LENS ZOOM/FOCUS SETTING** (x-s20).\\n> - Manual focus will be used when the lens is in manual focus mode, regardless of other settings.\\n\\nThese instructions should help you manually adjust the focus on your camera models.', \"To change the focus settings, follow these steps based on the context provided:\\n\\n### Adjusting Focus Settings\\n\\n1. **Access the Focus Settings:**\\n   - Press **MENU/OK** in the shooting display.\\n   - Select the **AF/MF Setting Tab** (AF/MF SETTING).\\n\\n2. **Choose the Focus Area:**\\n   - Navigate to the **Focus Area** option to select the desired focus area for autofocus, manual focus, and focus zoom.\\n\\n### Custom Focus Tracking Options (For Set 6)\\n\\n1. **Select Custom Settings:**\\n   - Go to **AF-C CUSTOM SETTINGS > SET 6 CUSTOM**.\\n\\n2. **Adjust Settings:**\\n   - Use the focus stick (focus lever) to highlight items.\\n   - Rotate the front command dial to change settings.\\n   - Press the reset button to revert to original settings if needed.\\n\\n3. **Finalize Settings:**\\n   - Press **DISP/BACK** when you have completed the adjustments.\\n\\n### Choosing Focus Mode\\n\\n1. **Access Focus Mode:**\\n   - Press **MENU/OK** to display the menus.\\n   - Select **AF/MF SETTING > FOCUS MODE** in the shooting menu.\\n\\n2. **Select a Focus Mode:**\\n   - **MF (Manual Focus):** Use the lens focus ring for manual control.\\n   - **AF-C (Continuous AF):** Continuously adjusts focus for moving subjects.\\n   - **AF-S (Single AF):** Locks focus for stationary subjects.\\n\\n> **Note:** If **ON** is selected for **AF/MF SETTING > PRE-AF**, focus will be adjusted continuously in **AF-S** and **AF-C** modes even when the shutter button is not pressed.\\n\\nThese steps should help you adjust the focus settings on your camera. If you need further assistance, refer to the specific model's manual for more detailed instructions.\", 'To modify the focus settings for Set 6 in the AF-C Custom Settings, follow these steps:\\n\\n1. **Select the Setting:**\\n   - Navigate to **AF-C CUSTOM SETTINGS > SET 6 CUSTOM**.\\n\\n   !AF-C Custom Settings Menu\\n\\n2. **Adjust the Settings:**\\n   - Use the focus stick (focus lever) to highlight the items you wish to change.\\n   - Rotate the front command dial to adjust the settings.\\n   - If you need to reset the settings to their original values, press the reset button (or the **DRIVE/DELETE** button, depending on the model).\\n\\n3. **Save the Changes:**\\n   - Press **DISP/BACK** once you have completed the adjustments.\\n\\nThese steps are applicable to different models, such as the x-s20 and x100v, as indicated in the metadata.', 'To alter the focus on your camera, you can choose between different focus modes or manually adjust the focus. Here’s how you can do it:\\n\\n### Changing Focus Mode\\n\\n1. **Access the Menu:**\\n   - Press **MENU/OK** to display the camera menus.\\n\\n2. **Select Focus Mode:**\\n   - Navigate to **AF/MF SETTING > FOCUS MODE** in the shooting menu.\\n\\n3. **Choose a Focus Mode:**\\n   - **MF (Manual Focus):** Use the lens focus ring to adjust focus manually. This is ideal for manual control or when autofocus is not effective.\\n   - **AF-C (Continuous AF):** The camera continuously adjusts focus to track moving subjects while the shutter button is pressed halfway.\\n   - **AF-S (Single AF):** Focus locks when the shutter button is pressed halfway, suitable for stationary subjects.\\n\\n> **Note:** If the lens is set to manual focus mode, manual focus will be used regardless of the selected option. Additionally, if **PRE-AF** is enabled, focus will adjust continuously in **AF-S** and **AF-C** modes even without pressing the shutter button.\\n\\n### Manual Focus Adjustment\\n\\n1. **Switch to Manual Focus:**\\n   - Rotate the focus mode selector to **M**. This will display **MF** on the screen.\\n\\n2. **Adjust Focus:**\\n   - Use the lens focus ring to manually adjust focus. Rotate left to decrease focus distance and right to increase it.\\n\\n3. **Capture Your Photo:**\\n   - Once the focus is set, take your picture.\\n\\n> You can also use **BUTTON/DIAL SETTING > LENS ZOOM/FOCUS SETTING** to reverse the direction of the focus ring rotation if needed.\\n\\nBy following these steps, you can effectively alter the focus on your camera to suit different shooting scenarios.']\n"
     ]
    },
    {
     "data": {
      "text/html": [
       "<pre style=\"white-space:pre;overflow-x:auto;line-height:normal;font-family:Menlo,'DejaVu Sans Mono',consolas,'Courier New',monospace\"><span style=\"color: #7fbfbf; text-decoration-color: #7fbfbf\">[02/08/25 19:24:20] </span><span style=\"color: #000080; text-decoration-color: #000080\">INFO    </span> <span style=\"font-weight: bold\">[</span>_client.py:<span style=\"color: #008080; text-decoration-color: #008080; font-weight: bold\">1773</span><span style=\"font-weight: bold\">]</span> &gt;&gt; HTTP Request: <span style=\"color: #808000; text-decoration-color: #808000; font-weight: bold\">POST</span>                                <a href=\"file:///home/jeongho/git/SKN05-FINAL-1TEAM/jeongho/RAG_env/lib/python3.12/site-packages/httpx/_client.py\" target=\"_blank\"><span style=\"color: #7f7f7f; text-decoration-color: #7f7f7f\">_client.py</span></a><span style=\"color: #7f7f7f; text-decoration-color: #7f7f7f\">:</span><a href=\"file:///home/jeongho/git/SKN05-FINAL-1TEAM/jeongho/RAG_env/lib/python3.12/site-packages/httpx/_client.py#1773\" target=\"_blank\"><span style=\"color: #7f7f7f; text-decoration-color: #7f7f7f\">1773</span></a>\n",
       "<span style=\"color: #7fbfbf; text-decoration-color: #7fbfbf\">                    </span>         <span style=\"color: #0000ff; text-decoration-color: #0000ff; text-decoration: underline\">https://api.openai.com/v1/chat/completions</span> <span style=\"color: #008000; text-decoration-color: #008000\">\"HTTP/1.1 200 OK\"</span>           <span style=\"color: #7f7f7f; text-decoration-color: #7f7f7f\">               </span>\n",
       "</pre>\n"
      ],
      "text/plain": [
       "\u001b[2;36m[02/08/25 19:24:20]\u001b[0m\u001b[2;36m \u001b[0m\u001b[34mINFO    \u001b[0m \u001b[1m[\u001b[0m_client.py:\u001b[1;36m1773\u001b[0m\u001b[1m]\u001b[0m >> HTTP Request: \u001b[1;33mPOST\u001b[0m                                \u001b]8;id=345761;file:///home/jeongho/git/SKN05-FINAL-1TEAM/jeongho/RAG_env/lib/python3.12/site-packages/httpx/_client.py\u001b\\\u001b[2m_client.py\u001b[0m\u001b]8;;\u001b\\\u001b[2m:\u001b[0m\u001b]8;id=979364;file:///home/jeongho/git/SKN05-FINAL-1TEAM/jeongho/RAG_env/lib/python3.12/site-packages/httpx/_client.py#1773\u001b\\\u001b[2m1773\u001b[0m\u001b]8;;\u001b\\\n",
       "\u001b[2;36m                    \u001b[0m         \u001b[4;94mhttps://api.openai.com/v1/chat/completions\u001b[0m \u001b[32m\"HTTP/1.1 200 OK\"\u001b[0m           \u001b[2m               \u001b[0m\n"
      ]
     },
     "metadata": {},
     "output_type": "display_data"
    },
    {
     "name": "stdout",
     "output_type": "stream",
     "text": [
      "✅chunk from lang graph: ('custom', {'currentNode': 'generate', 'sessionId': 1, 'messageId': 1, 'answer': '', 'keywords': [], 'suggestQuestions': []})\n",
      "✅chunk from lang graph: ('custom', {'currentNode': 'generate', 'sessionId': 1, 'messageId': 1, 'answer': 'To', 'keywords': [], 'suggestQuestions': []})\n",
      "✅chunk from lang graph: ('custom', {'currentNode': 'generate', 'sessionId': 1, 'messageId': 1, 'answer': ' adjust', 'keywords': [], 'suggestQuestions': []})\n",
      "✅chunk from lang graph: ('custom', {'currentNode': 'generate', 'sessionId': 1, 'messageId': 1, 'answer': ' focus', 'keywords': [], 'suggestQuestions': []})\n",
      "✅chunk from lang graph: ('custom', {'currentNode': 'generate', 'sessionId': 1, 'messageId': 1, 'answer': ' on', 'keywords': [], 'suggestQuestions': []})\n",
      "✅chunk from lang graph: ('custom', {'currentNode': 'generate', 'sessionId': 1, 'messageId': 1, 'answer': ' your', 'keywords': [], 'suggestQuestions': []})\n",
      "✅chunk from lang graph: ('custom', {'currentNode': 'generate', 'sessionId': 1, 'messageId': 1, 'answer': ' camera', 'keywords': [], 'suggestQuestions': []})\n",
      "✅chunk from lang graph: ('custom', {'currentNode': 'generate', 'sessionId': 1, 'messageId': 1, 'answer': ',', 'keywords': [], 'suggestQuestions': []})\n",
      "✅chunk from lang graph: ('custom', {'currentNode': 'generate', 'sessionId': 1, 'messageId': 1, 'answer': ' you', 'keywords': [], 'suggestQuestions': []})\n",
      "✅chunk from lang graph: ('custom', {'currentNode': 'generate', 'sessionId': 1, 'messageId': 1, 'answer': ' can', 'keywords': [], 'suggestQuestions': []})\n",
      "✅chunk from lang graph: ('custom', {'currentNode': 'generate', 'sessionId': 1, 'messageId': 1, 'answer': ' choose', 'keywords': [], 'suggestQuestions': []})\n",
      "✅chunk from lang graph: ('custom', {'currentNode': 'generate', 'sessionId': 1, 'messageId': 1, 'answer': ' between', 'keywords': [], 'suggestQuestions': []})\n",
      "✅chunk from lang graph: ('custom', {'currentNode': 'generate', 'sessionId': 1, 'messageId': 1, 'answer': ' different', 'keywords': [], 'suggestQuestions': []})\n",
      "✅chunk from lang graph: ('custom', {'currentNode': 'generate', 'sessionId': 1, 'messageId': 1, 'answer': ' focus', 'keywords': [], 'suggestQuestions': []})\n",
      "✅chunk from lang graph: ('custom', {'currentNode': 'generate', 'sessionId': 1, 'messageId': 1, 'answer': ' modes', 'keywords': [], 'suggestQuestions': []})\n",
      "✅chunk from lang graph: ('custom', {'currentNode': 'generate', 'sessionId': 1, 'messageId': 1, 'answer': ' or', 'keywords': [], 'suggestQuestions': []})\n",
      "✅chunk from lang graph: ('custom', {'currentNode': 'generate', 'sessionId': 1, 'messageId': 1, 'answer': ' manually', 'keywords': [], 'suggestQuestions': []})\n",
      "✅chunk from lang graph: ('custom', {'currentNode': 'generate', 'sessionId': 1, 'messageId': 1, 'answer': ' adjust', 'keywords': [], 'suggestQuestions': []})\n",
      "✅chunk from lang graph: ('custom', {'currentNode': 'generate', 'sessionId': 1, 'messageId': 1, 'answer': ' the', 'keywords': [], 'suggestQuestions': []})\n",
      "✅chunk from lang graph: ('custom', {'currentNode': 'generate', 'sessionId': 1, 'messageId': 1, 'answer': ' focus', 'keywords': [], 'suggestQuestions': []})\n",
      "✅chunk from lang graph: ('custom', {'currentNode': 'generate', 'sessionId': 1, 'messageId': 1, 'answer': '.', 'keywords': [], 'suggestQuestions': []})\n",
      "✅chunk from lang graph: ('custom', {'currentNode': 'generate', 'sessionId': 1, 'messageId': 1, 'answer': ' Here', 'keywords': [], 'suggestQuestions': []})\n",
      "✅chunk from lang graph: ('custom', {'currentNode': 'generate', 'sessionId': 1, 'messageId': 1, 'answer': '’s', 'keywords': [], 'suggestQuestions': []})\n",
      "✅chunk from lang graph: ('custom', {'currentNode': 'generate', 'sessionId': 1, 'messageId': 1, 'answer': ' a', 'keywords': [], 'suggestQuestions': []})\n",
      "✅chunk from lang graph: ('custom', {'currentNode': 'generate', 'sessionId': 1, 'messageId': 1, 'answer': ' comprehensive', 'keywords': [], 'suggestQuestions': []})\n",
      "✅chunk from lang graph: ('custom', {'currentNode': 'generate', 'sessionId': 1, 'messageId': 1, 'answer': ' guide', 'keywords': [], 'suggestQuestions': []})\n",
      "✅chunk from lang graph: ('custom', {'currentNode': 'generate', 'sessionId': 1, 'messageId': 1, 'answer': ':\\n\\n', 'keywords': [], 'suggestQuestions': []})\n",
      "✅chunk from lang graph: ('custom', {'currentNode': 'generate', 'sessionId': 1, 'messageId': 1, 'answer': '###', 'keywords': [], 'suggestQuestions': []})\n",
      "✅chunk from lang graph: ('custom', {'currentNode': 'generate', 'sessionId': 1, 'messageId': 1, 'answer': ' Changing', 'keywords': [], 'suggestQuestions': []})\n",
      "✅chunk from lang graph: ('custom', {'currentNode': 'generate', 'sessionId': 1, 'messageId': 1, 'answer': ' Focus', 'keywords': [], 'suggestQuestions': []})\n",
      "✅chunk from lang graph: ('custom', {'currentNode': 'generate', 'sessionId': 1, 'messageId': 1, 'answer': ' Mode', 'keywords': [], 'suggestQuestions': []})\n",
      "✅chunk from lang graph: ('custom', {'currentNode': 'generate', 'sessionId': 1, 'messageId': 1, 'answer': '\\n\\n', 'keywords': [], 'suggestQuestions': []})\n",
      "✅chunk from lang graph: ('custom', {'currentNode': 'generate', 'sessionId': 1, 'messageId': 1, 'answer': '1', 'keywords': [], 'suggestQuestions': []})\n",
      "✅chunk from lang graph: ('custom', {'currentNode': 'generate', 'sessionId': 1, 'messageId': 1, 'answer': '.', 'keywords': [], 'suggestQuestions': []})\n",
      "✅chunk from lang graph: ('custom', {'currentNode': 'generate', 'sessionId': 1, 'messageId': 1, 'answer': ' **', 'keywords': [], 'suggestQuestions': []})\n",
      "✅chunk from lang graph: ('custom', {'currentNode': 'generate', 'sessionId': 1, 'messageId': 1, 'answer': 'Access', 'keywords': [], 'suggestQuestions': []})\n",
      "✅chunk from lang graph: ('custom', {'currentNode': 'generate', 'sessionId': 1, 'messageId': 1, 'answer': ' the', 'keywords': [], 'suggestQuestions': []})\n",
      "✅chunk from lang graph: ('custom', {'currentNode': 'generate', 'sessionId': 1, 'messageId': 1, 'answer': ' Menu', 'keywords': [], 'suggestQuestions': []})\n",
      "✅chunk from lang graph: ('custom', {'currentNode': 'generate', 'sessionId': 1, 'messageId': 1, 'answer': ':', 'keywords': [], 'suggestQuestions': []})\n",
      "✅chunk from lang graph: ('custom', {'currentNode': 'generate', 'sessionId': 1, 'messageId': 1, 'answer': '**\\n', 'keywords': [], 'suggestQuestions': []})\n",
      "✅chunk from lang graph: ('custom', {'currentNode': 'generate', 'sessionId': 1, 'messageId': 1, 'answer': '  ', 'keywords': [], 'suggestQuestions': []})\n",
      "✅chunk from lang graph: ('custom', {'currentNode': 'generate', 'sessionId': 1, 'messageId': 1, 'answer': ' -', 'keywords': [], 'suggestQuestions': []})\n",
      "✅chunk from lang graph: ('custom', {'currentNode': 'generate', 'sessionId': 1, 'messageId': 1, 'answer': ' Press', 'keywords': [], 'suggestQuestions': []})\n",
      "✅chunk from lang graph: ('custom', {'currentNode': 'generate', 'sessionId': 1, 'messageId': 1, 'answer': ' **', 'keywords': [], 'suggestQuestions': []})\n",
      "✅chunk from lang graph: ('custom', {'currentNode': 'generate', 'sessionId': 1, 'messageId': 1, 'answer': 'MENU', 'keywords': [], 'suggestQuestions': []})\n",
      "✅chunk from lang graph: ('custom', {'currentNode': 'generate', 'sessionId': 1, 'messageId': 1, 'answer': '/', 'keywords': [], 'suggestQuestions': []})\n",
      "✅chunk from lang graph: ('custom', {'currentNode': 'generate', 'sessionId': 1, 'messageId': 1, 'answer': 'OK', 'keywords': [], 'suggestQuestions': []})\n",
      "✅chunk from lang graph: ('custom', {'currentNode': 'generate', 'sessionId': 1, 'messageId': 1, 'answer': '**', 'keywords': [], 'suggestQuestions': []})\n",
      "✅chunk from lang graph: ('custom', {'currentNode': 'generate', 'sessionId': 1, 'messageId': 1, 'answer': ' to', 'keywords': [], 'suggestQuestions': []})\n",
      "✅chunk from lang graph: ('custom', {'currentNode': 'generate', 'sessionId': 1, 'messageId': 1, 'answer': ' display', 'keywords': [], 'suggestQuestions': []})\n",
      "✅chunk from lang graph: ('custom', {'currentNode': 'generate', 'sessionId': 1, 'messageId': 1, 'answer': ' the', 'keywords': [], 'suggestQuestions': []})\n",
      "✅chunk from lang graph: ('custom', {'currentNode': 'generate', 'sessionId': 1, 'messageId': 1, 'answer': ' camera', 'keywords': [], 'suggestQuestions': []})\n",
      "✅chunk from lang graph: ('custom', {'currentNode': 'generate', 'sessionId': 1, 'messageId': 1, 'answer': ' menus', 'keywords': [], 'suggestQuestions': []})\n",
      "✅chunk from lang graph: ('custom', {'currentNode': 'generate', 'sessionId': 1, 'messageId': 1, 'answer': '.\\n\\n', 'keywords': [], 'suggestQuestions': []})\n",
      "✅chunk from lang graph: ('custom', {'currentNode': 'generate', 'sessionId': 1, 'messageId': 1, 'answer': '2', 'keywords': [], 'suggestQuestions': []})\n",
      "✅chunk from lang graph: ('custom', {'currentNode': 'generate', 'sessionId': 1, 'messageId': 1, 'answer': '.', 'keywords': [], 'suggestQuestions': []})\n",
      "✅chunk from lang graph: ('custom', {'currentNode': 'generate', 'sessionId': 1, 'messageId': 1, 'answer': ' **', 'keywords': [], 'suggestQuestions': []})\n",
      "✅chunk from lang graph: ('custom', {'currentNode': 'generate', 'sessionId': 1, 'messageId': 1, 'answer': 'Select', 'keywords': [], 'suggestQuestions': []})\n",
      "✅chunk from lang graph: ('custom', {'currentNode': 'generate', 'sessionId': 1, 'messageId': 1, 'answer': ' Focus', 'keywords': [], 'suggestQuestions': []})\n",
      "✅chunk from lang graph: ('custom', {'currentNode': 'generate', 'sessionId': 1, 'messageId': 1, 'answer': ' Mode', 'keywords': [], 'suggestQuestions': []})\n",
      "✅chunk from lang graph: ('custom', {'currentNode': 'generate', 'sessionId': 1, 'messageId': 1, 'answer': ':', 'keywords': [], 'suggestQuestions': []})\n",
      "✅chunk from lang graph: ('custom', {'currentNode': 'generate', 'sessionId': 1, 'messageId': 1, 'answer': '**\\n', 'keywords': [], 'suggestQuestions': []})\n",
      "✅chunk from lang graph: ('custom', {'currentNode': 'generate', 'sessionId': 1, 'messageId': 1, 'answer': '  ', 'keywords': [], 'suggestQuestions': []})\n",
      "✅chunk from lang graph: ('custom', {'currentNode': 'generate', 'sessionId': 1, 'messageId': 1, 'answer': ' -', 'keywords': [], 'suggestQuestions': []})\n",
      "✅chunk from lang graph: ('custom', {'currentNode': 'generate', 'sessionId': 1, 'messageId': 1, 'answer': ' Navigate', 'keywords': [], 'suggestQuestions': []})\n",
      "✅chunk from lang graph: ('custom', {'currentNode': 'generate', 'sessionId': 1, 'messageId': 1, 'answer': ' to', 'keywords': [], 'suggestQuestions': []})\n",
      "✅chunk from lang graph: ('custom', {'currentNode': 'generate', 'sessionId': 1, 'messageId': 1, 'answer': ' **', 'keywords': [], 'suggestQuestions': []})\n",
      "✅chunk from lang graph: ('custom', {'currentNode': 'generate', 'sessionId': 1, 'messageId': 1, 'answer': 'AF', 'keywords': [], 'suggestQuestions': []})\n",
      "✅chunk from lang graph: ('custom', {'currentNode': 'generate', 'sessionId': 1, 'messageId': 1, 'answer': '/M', 'keywords': [], 'suggestQuestions': []})\n",
      "✅chunk from lang graph: ('custom', {'currentNode': 'generate', 'sessionId': 1, 'messageId': 1, 'answer': 'F', 'keywords': [], 'suggestQuestions': []})\n",
      "✅chunk from lang graph: ('custom', {'currentNode': 'generate', 'sessionId': 1, 'messageId': 1, 'answer': ' SET', 'keywords': [], 'suggestQuestions': []})\n",
      "✅chunk from lang graph: ('custom', {'currentNode': 'generate', 'sessionId': 1, 'messageId': 1, 'answer': 'TING', 'keywords': [], 'suggestQuestions': []})\n",
      "✅chunk from lang graph: ('custom', {'currentNode': 'generate', 'sessionId': 1, 'messageId': 1, 'answer': ' >', 'keywords': [], 'suggestQuestions': []})\n",
      "✅chunk from lang graph: ('custom', {'currentNode': 'generate', 'sessionId': 1, 'messageId': 1, 'answer': ' F', 'keywords': [], 'suggestQuestions': []})\n",
      "✅chunk from lang graph: ('custom', {'currentNode': 'generate', 'sessionId': 1, 'messageId': 1, 'answer': 'OCUS', 'keywords': [], 'suggestQuestions': []})\n",
      "✅chunk from lang graph: ('custom', {'currentNode': 'generate', 'sessionId': 1, 'messageId': 1, 'answer': ' MODE', 'keywords': [], 'suggestQuestions': []})\n",
      "✅chunk from lang graph: ('custom', {'currentNode': 'generate', 'sessionId': 1, 'messageId': 1, 'answer': '**', 'keywords': [], 'suggestQuestions': []})\n",
      "✅chunk from lang graph: ('custom', {'currentNode': 'generate', 'sessionId': 1, 'messageId': 1, 'answer': ' in', 'keywords': [], 'suggestQuestions': []})\n",
      "✅chunk from lang graph: ('custom', {'currentNode': 'generate', 'sessionId': 1, 'messageId': 1, 'answer': ' the', 'keywords': [], 'suggestQuestions': []})\n",
      "✅chunk from lang graph: ('custom', {'currentNode': 'generate', 'sessionId': 1, 'messageId': 1, 'answer': ' shooting', 'keywords': [], 'suggestQuestions': []})\n",
      "✅chunk from lang graph: ('custom', {'currentNode': 'generate', 'sessionId': 1, 'messageId': 1, 'answer': ' menu', 'keywords': [], 'suggestQuestions': []})\n",
      "✅chunk from lang graph: ('custom', {'currentNode': 'generate', 'sessionId': 1, 'messageId': 1, 'answer': '.\\n\\n', 'keywords': [], 'suggestQuestions': []})\n",
      "✅chunk from lang graph: ('custom', {'currentNode': 'generate', 'sessionId': 1, 'messageId': 1, 'answer': '3', 'keywords': [], 'suggestQuestions': []})\n",
      "✅chunk from lang graph: ('custom', {'currentNode': 'generate', 'sessionId': 1, 'messageId': 1, 'answer': '.', 'keywords': [], 'suggestQuestions': []})\n",
      "✅chunk from lang graph: ('custom', {'currentNode': 'generate', 'sessionId': 1, 'messageId': 1, 'answer': ' **', 'keywords': [], 'suggestQuestions': []})\n",
      "✅chunk from lang graph: ('custom', {'currentNode': 'generate', 'sessionId': 1, 'messageId': 1, 'answer': 'Choose', 'keywords': [], 'suggestQuestions': []})\n",
      "✅chunk from lang graph: ('custom', {'currentNode': 'generate', 'sessionId': 1, 'messageId': 1, 'answer': ' a', 'keywords': [], 'suggestQuestions': []})\n",
      "✅chunk from lang graph: ('custom', {'currentNode': 'generate', 'sessionId': 1, 'messageId': 1, 'answer': ' Focus', 'keywords': [], 'suggestQuestions': []})\n",
      "✅chunk from lang graph: ('custom', {'currentNode': 'generate', 'sessionId': 1, 'messageId': 1, 'answer': ' Mode', 'keywords': [], 'suggestQuestions': []})\n",
      "✅chunk from lang graph: ('custom', {'currentNode': 'generate', 'sessionId': 1, 'messageId': 1, 'answer': ':', 'keywords': [], 'suggestQuestions': []})\n",
      "✅chunk from lang graph: ('custom', {'currentNode': 'generate', 'sessionId': 1, 'messageId': 1, 'answer': '**\\n', 'keywords': [], 'suggestQuestions': []})\n",
      "✅chunk from lang graph: ('custom', {'currentNode': 'generate', 'sessionId': 1, 'messageId': 1, 'answer': '  ', 'keywords': [], 'suggestQuestions': []})\n",
      "✅chunk from lang graph: ('custom', {'currentNode': 'generate', 'sessionId': 1, 'messageId': 1, 'answer': ' -', 'keywords': [], 'suggestQuestions': []})\n",
      "✅chunk from lang graph: ('custom', {'currentNode': 'generate', 'sessionId': 1, 'messageId': 1, 'answer': ' **', 'keywords': [], 'suggestQuestions': []})\n",
      "✅chunk from lang graph: ('custom', {'currentNode': 'generate', 'sessionId': 1, 'messageId': 1, 'answer': 'MF', 'keywords': [], 'suggestQuestions': []})\n",
      "✅chunk from lang graph: ('custom', {'currentNode': 'generate', 'sessionId': 1, 'messageId': 1, 'answer': ' (', 'keywords': [], 'suggestQuestions': []})\n",
      "✅chunk from lang graph: ('custom', {'currentNode': 'generate', 'sessionId': 1, 'messageId': 1, 'answer': 'Manual', 'keywords': [], 'suggestQuestions': []})\n",
      "✅chunk from lang graph: ('custom', {'currentNode': 'generate', 'sessionId': 1, 'messageId': 1, 'answer': ' Focus', 'keywords': [], 'suggestQuestions': []})\n",
      "✅chunk from lang graph: ('custom', {'currentNode': 'generate', 'sessionId': 1, 'messageId': 1, 'answer': '):', 'keywords': [], 'suggestQuestions': []})\n",
      "✅chunk from lang graph: ('custom', {'currentNode': 'generate', 'sessionId': 1, 'messageId': 1, 'answer': '**', 'keywords': [], 'suggestQuestions': []})\n",
      "✅chunk from lang graph: ('custom', {'currentNode': 'generate', 'sessionId': 1, 'messageId': 1, 'answer': ' Use', 'keywords': [], 'suggestQuestions': []})\n",
      "✅chunk from lang graph: ('custom', {'currentNode': 'generate', 'sessionId': 1, 'messageId': 1, 'answer': ' the', 'keywords': [], 'suggestQuestions': []})\n",
      "✅chunk from lang graph: ('custom', {'currentNode': 'generate', 'sessionId': 1, 'messageId': 1, 'answer': ' lens', 'keywords': [], 'suggestQuestions': []})\n",
      "✅chunk from lang graph: ('custom', {'currentNode': 'generate', 'sessionId': 1, 'messageId': 1, 'answer': ' focus', 'keywords': [], 'suggestQuestions': []})\n",
      "✅chunk from lang graph: ('custom', {'currentNode': 'generate', 'sessionId': 1, 'messageId': 1, 'answer': ' ring', 'keywords': [], 'suggestQuestions': []})\n",
      "✅chunk from lang graph: ('custom', {'currentNode': 'generate', 'sessionId': 1, 'messageId': 1, 'answer': ' for', 'keywords': [], 'suggestQuestions': []})\n",
      "✅chunk from lang graph: ('custom', {'currentNode': 'generate', 'sessionId': 1, 'messageId': 1, 'answer': ' manual', 'keywords': [], 'suggestQuestions': []})\n",
      "✅chunk from lang graph: ('custom', {'currentNode': 'generate', 'sessionId': 1, 'messageId': 1, 'answer': ' control', 'keywords': [], 'suggestQuestions': []})\n",
      "✅chunk from lang graph: ('custom', {'currentNode': 'generate', 'sessionId': 1, 'messageId': 1, 'answer': ',', 'keywords': [], 'suggestQuestions': []})\n",
      "✅chunk from lang graph: ('custom', {'currentNode': 'generate', 'sessionId': 1, 'messageId': 1, 'answer': ' ideal', 'keywords': [], 'suggestQuestions': []})\n",
      "✅chunk from lang graph: ('custom', {'currentNode': 'generate', 'sessionId': 1, 'messageId': 1, 'answer': ' when', 'keywords': [], 'suggestQuestions': []})\n",
      "✅chunk from lang graph: ('custom', {'currentNode': 'generate', 'sessionId': 1, 'messageId': 1, 'answer': ' autofocus', 'keywords': [], 'suggestQuestions': []})\n",
      "✅chunk from lang graph: ('custom', {'currentNode': 'generate', 'sessionId': 1, 'messageId': 1, 'answer': ' is', 'keywords': [], 'suggestQuestions': []})\n",
      "✅chunk from lang graph: ('custom', {'currentNode': 'generate', 'sessionId': 1, 'messageId': 1, 'answer': ' not', 'keywords': [], 'suggestQuestions': []})\n",
      "✅chunk from lang graph: ('custom', {'currentNode': 'generate', 'sessionId': 1, 'messageId': 1, 'answer': ' effective', 'keywords': [], 'suggestQuestions': []})\n",
      "✅chunk from lang graph: ('custom', {'currentNode': 'generate', 'sessionId': 1, 'messageId': 1, 'answer': '.\\n', 'keywords': [], 'suggestQuestions': []})\n",
      "✅chunk from lang graph: ('custom', {'currentNode': 'generate', 'sessionId': 1, 'messageId': 1, 'answer': '  ', 'keywords': [], 'suggestQuestions': []})\n",
      "✅chunk from lang graph: ('custom', {'currentNode': 'generate', 'sessionId': 1, 'messageId': 1, 'answer': ' -', 'keywords': [], 'suggestQuestions': []})\n",
      "✅chunk from lang graph: ('custom', {'currentNode': 'generate', 'sessionId': 1, 'messageId': 1, 'answer': ' **', 'keywords': [], 'suggestQuestions': []})\n",
      "✅chunk from lang graph: ('custom', {'currentNode': 'generate', 'sessionId': 1, 'messageId': 1, 'answer': 'AF', 'keywords': [], 'suggestQuestions': []})\n",
      "✅chunk from lang graph: ('custom', {'currentNode': 'generate', 'sessionId': 1, 'messageId': 1, 'answer': '-C', 'keywords': [], 'suggestQuestions': []})\n",
      "✅chunk from lang graph: ('custom', {'currentNode': 'generate', 'sessionId': 1, 'messageId': 1, 'answer': ' (', 'keywords': [], 'suggestQuestions': []})\n",
      "✅chunk from lang graph: ('custom', {'currentNode': 'generate', 'sessionId': 1, 'messageId': 1, 'answer': 'Continuous', 'keywords': [], 'suggestQuestions': []})\n",
      "✅chunk from lang graph: ('custom', {'currentNode': 'generate', 'sessionId': 1, 'messageId': 1, 'answer': ' AF', 'keywords': [], 'suggestQuestions': []})\n",
      "✅chunk from lang graph: ('custom', {'currentNode': 'generate', 'sessionId': 1, 'messageId': 1, 'answer': '):', 'keywords': [], 'suggestQuestions': []})\n",
      "✅chunk from lang graph: ('custom', {'currentNode': 'generate', 'sessionId': 1, 'messageId': 1, 'answer': '**', 'keywords': [], 'suggestQuestions': []})\n",
      "✅chunk from lang graph: ('custom', {'currentNode': 'generate', 'sessionId': 1, 'messageId': 1, 'answer': ' Continu', 'keywords': [], 'suggestQuestions': []})\n",
      "✅chunk from lang graph: ('custom', {'currentNode': 'generate', 'sessionId': 1, 'messageId': 1, 'answer': 'ously', 'keywords': [], 'suggestQuestions': []})\n",
      "✅chunk from lang graph: ('custom', {'currentNode': 'generate', 'sessionId': 1, 'messageId': 1, 'answer': ' adjusts', 'keywords': [], 'suggestQuestions': []})\n",
      "✅chunk from lang graph: ('custom', {'currentNode': 'generate', 'sessionId': 1, 'messageId': 1, 'answer': ' focus', 'keywords': [], 'suggestQuestions': []})\n",
      "✅chunk from lang graph: ('custom', {'currentNode': 'generate', 'sessionId': 1, 'messageId': 1, 'answer': ' for', 'keywords': [], 'suggestQuestions': []})\n",
      "✅chunk from lang graph: ('custom', {'currentNode': 'generate', 'sessionId': 1, 'messageId': 1, 'answer': ' moving', 'keywords': [], 'suggestQuestions': []})\n",
      "✅chunk from lang graph: ('custom', {'currentNode': 'generate', 'sessionId': 1, 'messageId': 1, 'answer': ' subjects', 'keywords': [], 'suggestQuestions': []})\n",
      "✅chunk from lang graph: ('custom', {'currentNode': 'generate', 'sessionId': 1, 'messageId': 1, 'answer': ' while', 'keywords': [], 'suggestQuestions': []})\n",
      "✅chunk from lang graph: ('custom', {'currentNode': 'generate', 'sessionId': 1, 'messageId': 1, 'answer': ' the', 'keywords': [], 'suggestQuestions': []})\n",
      "✅chunk from lang graph: ('custom', {'currentNode': 'generate', 'sessionId': 1, 'messageId': 1, 'answer': ' shutter', 'keywords': [], 'suggestQuestions': []})\n",
      "✅chunk from lang graph: ('custom', {'currentNode': 'generate', 'sessionId': 1, 'messageId': 1, 'answer': ' button', 'keywords': [], 'suggestQuestions': []})\n",
      "✅chunk from lang graph: ('custom', {'currentNode': 'generate', 'sessionId': 1, 'messageId': 1, 'answer': ' is', 'keywords': [], 'suggestQuestions': []})\n",
      "✅chunk from lang graph: ('custom', {'currentNode': 'generate', 'sessionId': 1, 'messageId': 1, 'answer': ' pressed', 'keywords': [], 'suggestQuestions': []})\n",
      "✅chunk from lang graph: ('custom', {'currentNode': 'generate', 'sessionId': 1, 'messageId': 1, 'answer': ' halfway', 'keywords': [], 'suggestQuestions': []})\n",
      "✅chunk from lang graph: ('custom', {'currentNode': 'generate', 'sessionId': 1, 'messageId': 1, 'answer': '.\\n', 'keywords': [], 'suggestQuestions': []})\n",
      "✅chunk from lang graph: ('custom', {'currentNode': 'generate', 'sessionId': 1, 'messageId': 1, 'answer': '  ', 'keywords': [], 'suggestQuestions': []})\n",
      "✅chunk from lang graph: ('custom', {'currentNode': 'generate', 'sessionId': 1, 'messageId': 1, 'answer': ' -', 'keywords': [], 'suggestQuestions': []})\n",
      "✅chunk from lang graph: ('custom', {'currentNode': 'generate', 'sessionId': 1, 'messageId': 1, 'answer': ' **', 'keywords': [], 'suggestQuestions': []})\n",
      "✅chunk from lang graph: ('custom', {'currentNode': 'generate', 'sessionId': 1, 'messageId': 1, 'answer': 'AF', 'keywords': [], 'suggestQuestions': []})\n",
      "✅chunk from lang graph: ('custom', {'currentNode': 'generate', 'sessionId': 1, 'messageId': 1, 'answer': '-S', 'keywords': [], 'suggestQuestions': []})\n",
      "✅chunk from lang graph: ('custom', {'currentNode': 'generate', 'sessionId': 1, 'messageId': 1, 'answer': ' (', 'keywords': [], 'suggestQuestions': []})\n",
      "✅chunk from lang graph: ('custom', {'currentNode': 'generate', 'sessionId': 1, 'messageId': 1, 'answer': 'Single', 'keywords': [], 'suggestQuestions': []})\n",
      "✅chunk from lang graph: ('custom', {'currentNode': 'generate', 'sessionId': 1, 'messageId': 1, 'answer': ' AF', 'keywords': [], 'suggestQuestions': []})\n",
      "✅chunk from lang graph: ('custom', {'currentNode': 'generate', 'sessionId': 1, 'messageId': 1, 'answer': '):', 'keywords': [], 'suggestQuestions': []})\n",
      "✅chunk from lang graph: ('custom', {'currentNode': 'generate', 'sessionId': 1, 'messageId': 1, 'answer': '**', 'keywords': [], 'suggestQuestions': []})\n",
      "✅chunk from lang graph: ('custom', {'currentNode': 'generate', 'sessionId': 1, 'messageId': 1, 'answer': ' Locks', 'keywords': [], 'suggestQuestions': []})\n",
      "✅chunk from lang graph: ('custom', {'currentNode': 'generate', 'sessionId': 1, 'messageId': 1, 'answer': ' focus', 'keywords': [], 'suggestQuestions': []})\n",
      "✅chunk from lang graph: ('custom', {'currentNode': 'generate', 'sessionId': 1, 'messageId': 1, 'answer': ' for', 'keywords': [], 'suggestQuestions': []})\n",
      "✅chunk from lang graph: ('custom', {'currentNode': 'generate', 'sessionId': 1, 'messageId': 1, 'answer': ' stationary', 'keywords': [], 'suggestQuestions': []})\n",
      "✅chunk from lang graph: ('custom', {'currentNode': 'generate', 'sessionId': 1, 'messageId': 1, 'answer': ' subjects', 'keywords': [], 'suggestQuestions': []})\n",
      "✅chunk from lang graph: ('custom', {'currentNode': 'generate', 'sessionId': 1, 'messageId': 1, 'answer': ' when', 'keywords': [], 'suggestQuestions': []})\n",
      "✅chunk from lang graph: ('custom', {'currentNode': 'generate', 'sessionId': 1, 'messageId': 1, 'answer': ' the', 'keywords': [], 'suggestQuestions': []})\n",
      "✅chunk from lang graph: ('custom', {'currentNode': 'generate', 'sessionId': 1, 'messageId': 1, 'answer': ' shutter', 'keywords': [], 'suggestQuestions': []})\n",
      "✅chunk from lang graph: ('custom', {'currentNode': 'generate', 'sessionId': 1, 'messageId': 1, 'answer': ' button', 'keywords': [], 'suggestQuestions': []})\n",
      "✅chunk from lang graph: ('custom', {'currentNode': 'generate', 'sessionId': 1, 'messageId': 1, 'answer': ' is', 'keywords': [], 'suggestQuestions': []})\n",
      "✅chunk from lang graph: ('custom', {'currentNode': 'generate', 'sessionId': 1, 'messageId': 1, 'answer': ' pressed', 'keywords': [], 'suggestQuestions': []})\n",
      "✅chunk from lang graph: ('custom', {'currentNode': 'generate', 'sessionId': 1, 'messageId': 1, 'answer': ' halfway', 'keywords': [], 'suggestQuestions': []})\n",
      "✅chunk from lang graph: ('custom', {'currentNode': 'generate', 'sessionId': 1, 'messageId': 1, 'answer': '.\\n\\n', 'keywords': [], 'suggestQuestions': []})\n",
      "✅chunk from lang graph: ('custom', {'currentNode': 'generate', 'sessionId': 1, 'messageId': 1, 'answer': '>', 'keywords': [], 'suggestQuestions': []})\n",
      "✅chunk from lang graph: ('custom', {'currentNode': 'generate', 'sessionId': 1, 'messageId': 1, 'answer': ' **', 'keywords': [], 'suggestQuestions': []})\n",
      "✅chunk from lang graph: ('custom', {'currentNode': 'generate', 'sessionId': 1, 'messageId': 1, 'answer': 'Note', 'keywords': [], 'suggestQuestions': []})\n",
      "✅chunk from lang graph: ('custom', {'currentNode': 'generate', 'sessionId': 1, 'messageId': 1, 'answer': ':**', 'keywords': [], 'suggestQuestions': []})\n",
      "✅chunk from lang graph: ('custom', {'currentNode': 'generate', 'sessionId': 1, 'messageId': 1, 'answer': ' If', 'keywords': [], 'suggestQuestions': []})\n",
      "✅chunk from lang graph: ('custom', {'currentNode': 'generate', 'sessionId': 1, 'messageId': 1, 'answer': ' the', 'keywords': [], 'suggestQuestions': []})\n",
      "✅chunk from lang graph: ('custom', {'currentNode': 'generate', 'sessionId': 1, 'messageId': 1, 'answer': ' lens', 'keywords': [], 'suggestQuestions': []})\n",
      "✅chunk from lang graph: ('custom', {'currentNode': 'generate', 'sessionId': 1, 'messageId': 1, 'answer': ' is', 'keywords': [], 'suggestQuestions': []})\n",
      "✅chunk from lang graph: ('custom', {'currentNode': 'generate', 'sessionId': 1, 'messageId': 1, 'answer': ' set', 'keywords': [], 'suggestQuestions': []})\n",
      "✅chunk from lang graph: ('custom', {'currentNode': 'generate', 'sessionId': 1, 'messageId': 1, 'answer': ' to', 'keywords': [], 'suggestQuestions': []})\n",
      "✅chunk from lang graph: ('custom', {'currentNode': 'generate', 'sessionId': 1, 'messageId': 1, 'answer': ' manual', 'keywords': [], 'suggestQuestions': []})\n",
      "✅chunk from lang graph: ('custom', {'currentNode': 'generate', 'sessionId': 1, 'messageId': 1, 'answer': ' focus', 'keywords': [], 'suggestQuestions': []})\n",
      "✅chunk from lang graph: ('custom', {'currentNode': 'generate', 'sessionId': 1, 'messageId': 1, 'answer': ' mode', 'keywords': [], 'suggestQuestions': []})\n",
      "✅chunk from lang graph: ('custom', {'currentNode': 'generate', 'sessionId': 1, 'messageId': 1, 'answer': ',', 'keywords': [], 'suggestQuestions': []})\n",
      "✅chunk from lang graph: ('custom', {'currentNode': 'generate', 'sessionId': 1, 'messageId': 1, 'answer': ' manual', 'keywords': [], 'suggestQuestions': []})\n",
      "✅chunk from lang graph: ('custom', {'currentNode': 'generate', 'sessionId': 1, 'messageId': 1, 'answer': ' focus', 'keywords': [], 'suggestQuestions': []})\n",
      "✅chunk from lang graph: ('custom', {'currentNode': 'generate', 'sessionId': 1, 'messageId': 1, 'answer': ' will', 'keywords': [], 'suggestQuestions': []})\n",
      "✅chunk from lang graph: ('custom', {'currentNode': 'generate', 'sessionId': 1, 'messageId': 1, 'answer': ' be', 'keywords': [], 'suggestQuestions': []})\n",
      "✅chunk from lang graph: ('custom', {'currentNode': 'generate', 'sessionId': 1, 'messageId': 1, 'answer': ' used', 'keywords': [], 'suggestQuestions': []})\n",
      "✅chunk from lang graph: ('custom', {'currentNode': 'generate', 'sessionId': 1, 'messageId': 1, 'answer': ' regardless', 'keywords': [], 'suggestQuestions': []})\n",
      "✅chunk from lang graph: ('custom', {'currentNode': 'generate', 'sessionId': 1, 'messageId': 1, 'answer': ' of', 'keywords': [], 'suggestQuestions': []})\n",
      "✅chunk from lang graph: ('custom', {'currentNode': 'generate', 'sessionId': 1, 'messageId': 1, 'answer': ' the', 'keywords': [], 'suggestQuestions': []})\n",
      "✅chunk from lang graph: ('custom', {'currentNode': 'generate', 'sessionId': 1, 'messageId': 1, 'answer': ' selected', 'keywords': [], 'suggestQuestions': []})\n",
      "✅chunk from lang graph: ('custom', {'currentNode': 'generate', 'sessionId': 1, 'messageId': 1, 'answer': ' option', 'keywords': [], 'suggestQuestions': []})\n",
      "✅chunk from lang graph: ('custom', {'currentNode': 'generate', 'sessionId': 1, 'messageId': 1, 'answer': '.', 'keywords': [], 'suggestQuestions': []})\n",
      "✅chunk from lang graph: ('custom', {'currentNode': 'generate', 'sessionId': 1, 'messageId': 1, 'answer': ' If', 'keywords': [], 'suggestQuestions': []})\n",
      "✅chunk from lang graph: ('custom', {'currentNode': 'generate', 'sessionId': 1, 'messageId': 1, 'answer': ' **', 'keywords': [], 'suggestQuestions': []})\n",
      "✅chunk from lang graph: ('custom', {'currentNode': 'generate', 'sessionId': 1, 'messageId': 1, 'answer': 'PRE', 'keywords': [], 'suggestQuestions': []})\n",
      "✅chunk from lang graph: ('custom', {'currentNode': 'generate', 'sessionId': 1, 'messageId': 1, 'answer': '-A', 'keywords': [], 'suggestQuestions': []})\n",
      "✅chunk from lang graph: ('custom', {'currentNode': 'generate', 'sessionId': 1, 'messageId': 1, 'answer': 'F', 'keywords': [], 'suggestQuestions': []})\n",
      "✅chunk from lang graph: ('custom', {'currentNode': 'generate', 'sessionId': 1, 'messageId': 1, 'answer': '**', 'keywords': [], 'suggestQuestions': []})\n",
      "✅chunk from lang graph: ('custom', {'currentNode': 'generate', 'sessionId': 1, 'messageId': 1, 'answer': ' is', 'keywords': [], 'suggestQuestions': []})\n",
      "✅chunk from lang graph: ('custom', {'currentNode': 'generate', 'sessionId': 1, 'messageId': 1, 'answer': ' enabled', 'keywords': [], 'suggestQuestions': []})\n",
      "✅chunk from lang graph: ('custom', {'currentNode': 'generate', 'sessionId': 1, 'messageId': 1, 'answer': ',', 'keywords': [], 'suggestQuestions': []})\n",
      "✅chunk from lang graph: ('custom', {'currentNode': 'generate', 'sessionId': 1, 'messageId': 1, 'answer': ' focus', 'keywords': [], 'suggestQuestions': []})\n",
      "✅chunk from lang graph: ('custom', {'currentNode': 'generate', 'sessionId': 1, 'messageId': 1, 'answer': ' will', 'keywords': [], 'suggestQuestions': []})\n",
      "✅chunk from lang graph: ('custom', {'currentNode': 'generate', 'sessionId': 1, 'messageId': 1, 'answer': ' adjust', 'keywords': [], 'suggestQuestions': []})\n",
      "✅chunk from lang graph: ('custom', {'currentNode': 'generate', 'sessionId': 1, 'messageId': 1, 'answer': ' continuously', 'keywords': [], 'suggestQuestions': []})\n",
      "✅chunk from lang graph: ('custom', {'currentNode': 'generate', 'sessionId': 1, 'messageId': 1, 'answer': ' in', 'keywords': [], 'suggestQuestions': []})\n",
      "✅chunk from lang graph: ('custom', {'currentNode': 'generate', 'sessionId': 1, 'messageId': 1, 'answer': ' **', 'keywords': [], 'suggestQuestions': []})\n",
      "✅chunk from lang graph: ('custom', {'currentNode': 'generate', 'sessionId': 1, 'messageId': 1, 'answer': 'AF', 'keywords': [], 'suggestQuestions': []})\n",
      "✅chunk from lang graph: ('custom', {'currentNode': 'generate', 'sessionId': 1, 'messageId': 1, 'answer': '-S', 'keywords': [], 'suggestQuestions': []})\n",
      "✅chunk from lang graph: ('custom', {'currentNode': 'generate', 'sessionId': 1, 'messageId': 1, 'answer': '**', 'keywords': [], 'suggestQuestions': []})\n",
      "✅chunk from lang graph: ('custom', {'currentNode': 'generate', 'sessionId': 1, 'messageId': 1, 'answer': ' and', 'keywords': [], 'suggestQuestions': []})\n",
      "✅chunk from lang graph: ('custom', {'currentNode': 'generate', 'sessionId': 1, 'messageId': 1, 'answer': ' **', 'keywords': [], 'suggestQuestions': []})\n",
      "✅chunk from lang graph: ('custom', {'currentNode': 'generate', 'sessionId': 1, 'messageId': 1, 'answer': 'AF', 'keywords': [], 'suggestQuestions': []})\n",
      "✅chunk from lang graph: ('custom', {'currentNode': 'generate', 'sessionId': 1, 'messageId': 1, 'answer': '-C', 'keywords': [], 'suggestQuestions': []})\n",
      "✅chunk from lang graph: ('custom', {'currentNode': 'generate', 'sessionId': 1, 'messageId': 1, 'answer': '**', 'keywords': [], 'suggestQuestions': []})\n",
      "✅chunk from lang graph: ('custom', {'currentNode': 'generate', 'sessionId': 1, 'messageId': 1, 'answer': ' modes', 'keywords': [], 'suggestQuestions': []})\n",
      "✅chunk from lang graph: ('custom', {'currentNode': 'generate', 'sessionId': 1, 'messageId': 1, 'answer': ' even', 'keywords': [], 'suggestQuestions': []})\n",
      "✅chunk from lang graph: ('custom', {'currentNode': 'generate', 'sessionId': 1, 'messageId': 1, 'answer': ' without', 'keywords': [], 'suggestQuestions': []})\n",
      "✅chunk from lang graph: ('custom', {'currentNode': 'generate', 'sessionId': 1, 'messageId': 1, 'answer': ' pressing', 'keywords': [], 'suggestQuestions': []})\n",
      "✅chunk from lang graph: ('custom', {'currentNode': 'generate', 'sessionId': 1, 'messageId': 1, 'answer': ' the', 'keywords': [], 'suggestQuestions': []})\n",
      "✅chunk from lang graph: ('custom', {'currentNode': 'generate', 'sessionId': 1, 'messageId': 1, 'answer': ' shutter', 'keywords': [], 'suggestQuestions': []})\n",
      "✅chunk from lang graph: ('custom', {'currentNode': 'generate', 'sessionId': 1, 'messageId': 1, 'answer': ' button', 'keywords': [], 'suggestQuestions': []})\n",
      "✅chunk from lang graph: ('custom', {'currentNode': 'generate', 'sessionId': 1, 'messageId': 1, 'answer': '.\\n\\n', 'keywords': [], 'suggestQuestions': []})\n",
      "✅chunk from lang graph: ('custom', {'currentNode': 'generate', 'sessionId': 1, 'messageId': 1, 'answer': '###', 'keywords': [], 'suggestQuestions': []})\n",
      "✅chunk from lang graph: ('custom', {'currentNode': 'generate', 'sessionId': 1, 'messageId': 1, 'answer': ' Manual', 'keywords': [], 'suggestQuestions': []})\n",
      "✅chunk from lang graph: ('custom', {'currentNode': 'generate', 'sessionId': 1, 'messageId': 1, 'answer': ' Focus', 'keywords': [], 'suggestQuestions': []})\n",
      "✅chunk from lang graph: ('custom', {'currentNode': 'generate', 'sessionId': 1, 'messageId': 1, 'answer': ' Adjustment', 'keywords': [], 'suggestQuestions': []})\n",
      "✅chunk from lang graph: ('custom', {'currentNode': 'generate', 'sessionId': 1, 'messageId': 1, 'answer': '\\n\\n', 'keywords': [], 'suggestQuestions': []})\n",
      "✅chunk from lang graph: ('custom', {'currentNode': 'generate', 'sessionId': 1, 'messageId': 1, 'answer': '1', 'keywords': [], 'suggestQuestions': []})\n",
      "✅chunk from lang graph: ('custom', {'currentNode': 'generate', 'sessionId': 1, 'messageId': 1, 'answer': '.', 'keywords': [], 'suggestQuestions': []})\n",
      "✅chunk from lang graph: ('custom', {'currentNode': 'generate', 'sessionId': 1, 'messageId': 1, 'answer': ' **', 'keywords': [], 'suggestQuestions': []})\n",
      "✅chunk from lang graph: ('custom', {'currentNode': 'generate', 'sessionId': 1, 'messageId': 1, 'answer': 'Switch', 'keywords': [], 'suggestQuestions': []})\n",
      "✅chunk from lang graph: ('custom', {'currentNode': 'generate', 'sessionId': 1, 'messageId': 1, 'answer': ' to', 'keywords': [], 'suggestQuestions': []})\n",
      "✅chunk from lang graph: ('custom', {'currentNode': 'generate', 'sessionId': 1, 'messageId': 1, 'answer': ' Manual', 'keywords': [], 'suggestQuestions': []})\n",
      "✅chunk from lang graph: ('custom', {'currentNode': 'generate', 'sessionId': 1, 'messageId': 1, 'answer': ' Focus', 'keywords': [], 'suggestQuestions': []})\n",
      "✅chunk from lang graph: ('custom', {'currentNode': 'generate', 'sessionId': 1, 'messageId': 1, 'answer': ':', 'keywords': [], 'suggestQuestions': []})\n",
      "✅chunk from lang graph: ('custom', {'currentNode': 'generate', 'sessionId': 1, 'messageId': 1, 'answer': '**\\n', 'keywords': [], 'suggestQuestions': []})\n",
      "✅chunk from lang graph: ('custom', {'currentNode': 'generate', 'sessionId': 1, 'messageId': 1, 'answer': '  ', 'keywords': [], 'suggestQuestions': []})\n",
      "✅chunk from lang graph: ('custom', {'currentNode': 'generate', 'sessionId': 1, 'messageId': 1, 'answer': ' -', 'keywords': [], 'suggestQuestions': []})\n",
      "✅chunk from lang graph: ('custom', {'currentNode': 'generate', 'sessionId': 1, 'messageId': 1, 'answer': ' For', 'keywords': [], 'suggestQuestions': []})\n",
      "✅chunk from lang graph: ('custom', {'currentNode': 'generate', 'sessionId': 1, 'messageId': 1, 'answer': ' Model', 'keywords': [], 'suggestQuestions': []})\n",
      "✅chunk from lang graph: ('custom', {'currentNode': 'generate', 'sessionId': 1, 'messageId': 1, 'answer': ' x', 'keywords': [], 'suggestQuestions': []})\n",
      "✅chunk from lang graph: ('custom', {'currentNode': 'generate', 'sessionId': 1, 'messageId': 1, 'answer': '100', 'keywords': [], 'suggestQuestions': []})\n",
      "✅chunk from lang graph: ('custom', {'currentNode': 'generate', 'sessionId': 1, 'messageId': 1, 'answer': 'v', 'keywords': [], 'suggestQuestions': []})\n",
      "✅chunk from lang graph: ('custom', {'currentNode': 'generate', 'sessionId': 1, 'messageId': 1, 'answer': ',', 'keywords': [], 'suggestQuestions': []})\n",
      "✅chunk from lang graph: ('custom', {'currentNode': 'generate', 'sessionId': 1, 'messageId': 1, 'answer': ' slide', 'keywords': [], 'suggestQuestions': []})\n",
      "✅chunk from lang graph: ('custom', {'currentNode': 'generate', 'sessionId': 1, 'messageId': 1, 'answer': ' the', 'keywords': [], 'suggestQuestions': []})\n",
      "✅chunk from lang graph: ('custom', {'currentNode': 'generate', 'sessionId': 1, 'messageId': 1, 'answer': ' Focus', 'keywords': [], 'suggestQuestions': []})\n",
      "✅chunk from lang graph: ('custom', {'currentNode': 'generate', 'sessionId': 1, 'messageId': 1, 'answer': ' Mode', 'keywords': [], 'suggestQuestions': []})\n",
      "✅chunk from lang graph: ('custom', {'currentNode': 'generate', 'sessionId': 1, 'messageId': 1, 'answer': ' Selector', 'keywords': [], 'suggestQuestions': []})\n",
      "✅chunk from lang graph: ('custom', {'currentNode': 'generate', 'sessionId': 1, 'messageId': 1, 'answer': ' to', 'keywords': [], 'suggestQuestions': []})\n",
      "✅chunk from lang graph: ('custom', {'currentNode': 'generate', 'sessionId': 1, 'messageId': 1, 'answer': ' **', 'keywords': [], 'suggestQuestions': []})\n",
      "✅chunk from lang graph: ('custom', {'currentNode': 'generate', 'sessionId': 1, 'messageId': 1, 'answer': 'M', 'keywords': [], 'suggestQuestions': []})\n",
      "✅chunk from lang graph: ('custom', {'currentNode': 'generate', 'sessionId': 1, 'messageId': 1, 'answer': '**', 'keywords': [], 'suggestQuestions': []})\n",
      "✅chunk from lang graph: ('custom', {'currentNode': 'generate', 'sessionId': 1, 'messageId': 1, 'answer': ' to', 'keywords': [], 'suggestQuestions': []})\n",
      "✅chunk from lang graph: ('custom', {'currentNode': 'generate', 'sessionId': 1, 'messageId': 1, 'answer': ' display', 'keywords': [], 'suggestQuestions': []})\n",
      "✅chunk from lang graph: ('custom', {'currentNode': 'generate', 'sessionId': 1, 'messageId': 1, 'answer': ' **', 'keywords': [], 'suggestQuestions': []})\n",
      "✅chunk from lang graph: ('custom', {'currentNode': 'generate', 'sessionId': 1, 'messageId': 1, 'answer': 'MF', 'keywords': [], 'suggestQuestions': []})\n",
      "✅chunk from lang graph: ('custom', {'currentNode': 'generate', 'sessionId': 1, 'messageId': 1, 'answer': '**', 'keywords': [], 'suggestQuestions': []})\n",
      "✅chunk from lang graph: ('custom', {'currentNode': 'generate', 'sessionId': 1, 'messageId': 1, 'answer': ' on', 'keywords': [], 'suggestQuestions': []})\n",
      "✅chunk from lang graph: ('custom', {'currentNode': 'generate', 'sessionId': 1, 'messageId': 1, 'answer': ' the', 'keywords': [], 'suggestQuestions': []})\n",
      "✅chunk from lang graph: ('custom', {'currentNode': 'generate', 'sessionId': 1, 'messageId': 1, 'answer': ' screen', 'keywords': [], 'suggestQuestions': []})\n",
      "✅chunk from lang graph: ('custom', {'currentNode': 'generate', 'sessionId': 1, 'messageId': 1, 'answer': '.\\n', 'keywords': [], 'suggestQuestions': []})\n",
      "✅chunk from lang graph: ('custom', {'currentNode': 'generate', 'sessionId': 1, 'messageId': 1, 'answer': '  ', 'keywords': [], 'suggestQuestions': []})\n",
      "✅chunk from lang graph: ('custom', {'currentNode': 'generate', 'sessionId': 1, 'messageId': 1, 'answer': ' -', 'keywords': [], 'suggestQuestions': []})\n",
      "✅chunk from lang graph: ('custom', {'currentNode': 'generate', 'sessionId': 1, 'messageId': 1, 'answer': ' For', 'keywords': [], 'suggestQuestions': []})\n",
      "✅chunk from lang graph: ('custom', {'currentNode': 'generate', 'sessionId': 1, 'messageId': 1, 'answer': ' Models', 'keywords': [], 'suggestQuestions': []})\n",
      "✅chunk from lang graph: ('custom', {'currentNode': 'generate', 'sessionId': 1, 'messageId': 1, 'answer': ' x', 'keywords': [], 'suggestQuestions': []})\n",
      "✅chunk from lang graph: ('custom', {'currentNode': 'generate', 'sessionId': 1, 'messageId': 1, 'answer': '-e', 'keywords': [], 'suggestQuestions': []})\n",
      "✅chunk from lang graph: ('custom', {'currentNode': 'generate', 'sessionId': 1, 'messageId': 1, 'answer': '4', 'keywords': [], 'suggestQuestions': []})\n",
      "✅chunk from lang graph: ('custom', {'currentNode': 'generate', 'sessionId': 1, 'messageId': 1, 'answer': ' and', 'keywords': [], 'suggestQuestions': []})\n",
      "✅chunk from lang graph: ('custom', {'currentNode': 'generate', 'sessionId': 1, 'messageId': 1, 'answer': ' x', 'keywords': [], 'suggestQuestions': []})\n",
      "✅chunk from lang graph: ('custom', {'currentNode': 'generate', 'sessionId': 1, 'messageId': 1, 'answer': '-s', 'keywords': [], 'suggestQuestions': []})\n",
      "✅chunk from lang graph: ('custom', {'currentNode': 'generate', 'sessionId': 1, 'messageId': 1, 'answer': '20', 'keywords': [], 'suggestQuestions': []})\n",
      "✅chunk from lang graph: ('custom', {'currentNode': 'generate', 'sessionId': 1, 'messageId': 1, 'answer': ',', 'keywords': [], 'suggestQuestions': []})\n",
      "✅chunk from lang graph: ('custom', {'currentNode': 'generate', 'sessionId': 1, 'messageId': 1, 'answer': ' select', 'keywords': [], 'suggestQuestions': []})\n",
      "✅chunk from lang graph: ('custom', {'currentNode': 'generate', 'sessionId': 1, 'messageId': 1, 'answer': ' **', 'keywords': [], 'suggestQuestions': []})\n",
      "✅chunk from lang graph: ('custom', {'currentNode': 'generate', 'sessionId': 1, 'messageId': 1, 'answer': 'MAN', 'keywords': [], 'suggestQuestions': []})\n",
      "✅chunk from lang graph: ('custom', {'currentNode': 'generate', 'sessionId': 1, 'messageId': 1, 'answer': 'UAL', 'keywords': [], 'suggestQuestions': []})\n",
      "✅chunk from lang graph: ('custom', {'currentNode': 'generate', 'sessionId': 1, 'messageId': 1, 'answer': ' F', 'keywords': [], 'suggestQuestions': []})\n",
      "✅chunk from lang graph: ('custom', {'currentNode': 'generate', 'sessionId': 1, 'messageId': 1, 'answer': 'OCUS', 'keywords': [], 'suggestQuestions': []})\n",
      "✅chunk from lang graph: ('custom', {'currentNode': 'generate', 'sessionId': 1, 'messageId': 1, 'answer': '**', 'keywords': [], 'suggestQuestions': []})\n",
      "✅chunk from lang graph: ('custom', {'currentNode': 'generate', 'sessionId': 1, 'messageId': 1, 'answer': ' in', 'keywords': [], 'suggestQuestions': []})\n",
      "✅chunk from lang graph: ('custom', {'currentNode': 'generate', 'sessionId': 1, 'messageId': 1, 'answer': ' **', 'keywords': [], 'suggestQuestions': []})\n",
      "✅chunk from lang graph: ('custom', {'currentNode': 'generate', 'sessionId': 1, 'messageId': 1, 'answer': 'AF', 'keywords': [], 'suggestQuestions': []})\n",
      "✅chunk from lang graph: ('custom', {'currentNode': 'generate', 'sessionId': 1, 'messageId': 1, 'answer': '/M', 'keywords': [], 'suggestQuestions': []})\n",
      "✅chunk from lang graph: ('custom', {'currentNode': 'generate', 'sessionId': 1, 'messageId': 1, 'answer': 'F', 'keywords': [], 'suggestQuestions': []})\n",
      "✅chunk from lang graph: ('custom', {'currentNode': 'generate', 'sessionId': 1, 'messageId': 1, 'answer': ' SET', 'keywords': [], 'suggestQuestions': []})\n",
      "✅chunk from lang graph: ('custom', {'currentNode': 'generate', 'sessionId': 1, 'messageId': 1, 'answer': 'TING', 'keywords': [], 'suggestQuestions': []})\n",
      "✅chunk from lang graph: ('custom', {'currentNode': 'generate', 'sessionId': 1, 'messageId': 1, 'answer': ' >', 'keywords': [], 'suggestQuestions': []})\n",
      "✅chunk from lang graph: ('custom', {'currentNode': 'generate', 'sessionId': 1, 'messageId': 1, 'answer': ' F', 'keywords': [], 'suggestQuestions': []})\n",
      "✅chunk from lang graph: ('custom', {'currentNode': 'generate', 'sessionId': 1, 'messageId': 1, 'answer': 'OCUS', 'keywords': [], 'suggestQuestions': []})\n",
      "✅chunk from lang graph: ('custom', {'currentNode': 'generate', 'sessionId': 1, 'messageId': 1, 'answer': ' MODE', 'keywords': [], 'suggestQuestions': []})\n",
      "✅chunk from lang graph: ('custom', {'currentNode': 'generate', 'sessionId': 1, 'messageId': 1, 'answer': '**', 'keywords': [], 'suggestQuestions': []})\n",
      "✅chunk from lang graph: ('custom', {'currentNode': 'generate', 'sessionId': 1, 'messageId': 1, 'answer': '.\\n\\n', 'keywords': [], 'suggestQuestions': []})\n",
      "✅chunk from lang graph: ('custom', {'currentNode': 'generate', 'sessionId': 1, 'messageId': 1, 'answer': '  ', 'keywords': [], 'suggestQuestions': []})\n",
      "✅chunk from lang graph: ('custom', {'currentNode': 'generate', 'sessionId': 1, 'messageId': 1, 'answer': ' !', 'keywords': [], 'suggestQuestions': []})\n",
      "✅chunk from lang graph: ('custom', {'currentNode': 'generate', 'sessionId': 1, 'messageId': 1, 'answer': '[', 'keywords': [], 'suggestQuestions': []})\n",
      "✅chunk from lang graph: ('custom', {'currentNode': 'generate', 'sessionId': 1, 'messageId': 1, 'answer': 'Focus', 'keywords': [], 'suggestQuestions': []})\n",
      "✅chunk from lang graph: ('custom', {'currentNode': 'generate', 'sessionId': 1, 'messageId': 1, 'answer': ' Mode', 'keywords': [], 'suggestQuestions': []})\n",
      "✅chunk from lang graph: ('custom', {'currentNode': 'generate', 'sessionId': 1, 'messageId': 1, 'answer': ' Selector', 'keywords': [], 'suggestQuestions': []})\n",
      "✅chunk from lang graph: ('custom', {'currentNode': 'generate', 'sessionId': 1, 'messageId': 1, 'answer': '](', 'keywords': [], 'suggestQuestions': []})\n",
      "✅chunk from lang graph: ('custom', {'currentNode': 'generate', 'sessionId': 1, 'messageId': 1, 'answer': 'file', 'keywords': [], 'suggestQuestions': []})\n",
      "✅chunk from lang graph: ('custom', {'currentNode': 'generate', 'sessionId': 1, 'messageId': 1, 'answer': ')\\n', 'keywords': [], 'suggestQuestions': []})\n",
      "✅chunk from lang graph: ('custom', {'currentNode': 'generate', 'sessionId': 1, 'messageId': 1, 'answer': '  ', 'keywords': [], 'suggestQuestions': []})\n",
      "✅chunk from lang graph: ('custom', {'currentNode': 'generate', 'sessionId': 1, 'messageId': 1, 'answer': ' !', 'keywords': [], 'suggestQuestions': []})\n",
      "✅chunk from lang graph: ('custom', {'currentNode': 'generate', 'sessionId': 1, 'messageId': 1, 'answer': '[', 'keywords': [], 'suggestQuestions': []})\n",
      "✅chunk from lang graph: ('custom', {'currentNode': 'generate', 'sessionId': 1, 'messageId': 1, 'answer': 'MF', 'keywords': [], 'suggestQuestions': []})\n",
      "✅chunk from lang graph: ('custom', {'currentNode': 'generate', 'sessionId': 1, 'messageId': 1, 'answer': ' Display', 'keywords': [], 'suggestQuestions': []})\n",
      "✅chunk from lang graph: ('custom', {'currentNode': 'generate', 'sessionId': 1, 'messageId': 1, 'answer': '](', 'keywords': [], 'suggestQuestions': []})\n",
      "✅chunk from lang graph: ('custom', {'currentNode': 'generate', 'sessionId': 1, 'messageId': 1, 'answer': 'file', 'keywords': [], 'suggestQuestions': []})\n",
      "✅chunk from lang graph: ('custom', {'currentNode': 'generate', 'sessionId': 1, 'messageId': 1, 'answer': ')\\n\\n', 'keywords': [], 'suggestQuestions': []})\n",
      "✅chunk from lang graph: ('custom', {'currentNode': 'generate', 'sessionId': 1, 'messageId': 1, 'answer': '2', 'keywords': [], 'suggestQuestions': []})\n",
      "✅chunk from lang graph: ('custom', {'currentNode': 'generate', 'sessionId': 1, 'messageId': 1, 'answer': '.', 'keywords': [], 'suggestQuestions': []})\n",
      "✅chunk from lang graph: ('custom', {'currentNode': 'generate', 'sessionId': 1, 'messageId': 1, 'answer': ' **', 'keywords': [], 'suggestQuestions': []})\n",
      "✅chunk from lang graph: ('custom', {'currentNode': 'generate', 'sessionId': 1, 'messageId': 1, 'answer': 'Adjust', 'keywords': [], 'suggestQuestions': []})\n",
      "✅chunk from lang graph: ('custom', {'currentNode': 'generate', 'sessionId': 1, 'messageId': 1, 'answer': ' Focus', 'keywords': [], 'suggestQuestions': []})\n",
      "✅chunk from lang graph: ('custom', {'currentNode': 'generate', 'sessionId': 1, 'messageId': 1, 'answer': ':', 'keywords': [], 'suggestQuestions': []})\n",
      "✅chunk from lang graph: ('custom', {'currentNode': 'generate', 'sessionId': 1, 'messageId': 1, 'answer': '**\\n', 'keywords': [], 'suggestQuestions': []})\n",
      "✅chunk from lang graph: ('custom', {'currentNode': 'generate', 'sessionId': 1, 'messageId': 1, 'answer': '  ', 'keywords': [], 'suggestQuestions': []})\n",
      "✅chunk from lang graph: ('custom', {'currentNode': 'generate', 'sessionId': 1, 'messageId': 1, 'answer': ' -', 'keywords': [], 'suggestQuestions': []})\n",
      "✅chunk from lang graph: ('custom', {'currentNode': 'generate', 'sessionId': 1, 'messageId': 1, 'answer': ' Use', 'keywords': [], 'suggestQuestions': []})\n",
      "✅chunk from lang graph: ('custom', {'currentNode': 'generate', 'sessionId': 1, 'messageId': 1, 'answer': ' the', 'keywords': [], 'suggestQuestions': []})\n",
      "✅chunk from lang graph: ('custom', {'currentNode': 'generate', 'sessionId': 1, 'messageId': 1, 'answer': ' lens', 'keywords': [], 'suggestQuestions': []})\n",
      "✅chunk from lang graph: ('custom', {'currentNode': 'generate', 'sessionId': 1, 'messageId': 1, 'answer': ' focus', 'keywords': [], 'suggestQuestions': []})\n",
      "✅chunk from lang graph: ('custom', {'currentNode': 'generate', 'sessionId': 1, 'messageId': 1, 'answer': ' ring', 'keywords': [], 'suggestQuestions': []})\n",
      "✅chunk from lang graph: ('custom', {'currentNode': 'generate', 'sessionId': 1, 'messageId': 1, 'answer': ' to', 'keywords': [], 'suggestQuestions': []})\n",
      "✅chunk from lang graph: ('custom', {'currentNode': 'generate', 'sessionId': 1, 'messageId': 1, 'answer': ' manually', 'keywords': [], 'suggestQuestions': []})\n",
      "✅chunk from lang graph: ('custom', {'currentNode': 'generate', 'sessionId': 1, 'messageId': 1, 'answer': ' adjust', 'keywords': [], 'suggestQuestions': []})\n",
      "✅chunk from lang graph: ('custom', {'currentNode': 'generate', 'sessionId': 1, 'messageId': 1, 'answer': ' focus', 'keywords': [], 'suggestQuestions': []})\n",
      "✅chunk from lang graph: ('custom', {'currentNode': 'generate', 'sessionId': 1, 'messageId': 1, 'answer': '.', 'keywords': [], 'suggestQuestions': []})\n",
      "✅chunk from lang graph: ('custom', {'currentNode': 'generate', 'sessionId': 1, 'messageId': 1, 'answer': ' Rotate', 'keywords': [], 'suggestQuestions': []})\n",
      "✅chunk from lang graph: ('custom', {'currentNode': 'generate', 'sessionId': 1, 'messageId': 1, 'answer': ' left', 'keywords': [], 'suggestQuestions': []})\n",
      "✅chunk from lang graph: ('custom', {'currentNode': 'generate', 'sessionId': 1, 'messageId': 1, 'answer': ' to', 'keywords': [], 'suggestQuestions': []})\n",
      "✅chunk from lang graph: ('custom', {'currentNode': 'generate', 'sessionId': 1, 'messageId': 1, 'answer': ' decrease', 'keywords': [], 'suggestQuestions': []})\n",
      "✅chunk from lang graph: ('custom', {'currentNode': 'generate', 'sessionId': 1, 'messageId': 1, 'answer': ' focus', 'keywords': [], 'suggestQuestions': []})\n",
      "✅chunk from lang graph: ('custom', {'currentNode': 'generate', 'sessionId': 1, 'messageId': 1, 'answer': ' distance', 'keywords': [], 'suggestQuestions': []})\n",
      "✅chunk from lang graph: ('custom', {'currentNode': 'generate', 'sessionId': 1, 'messageId': 1, 'answer': ' and', 'keywords': [], 'suggestQuestions': []})\n",
      "✅chunk from lang graph: ('custom', {'currentNode': 'generate', 'sessionId': 1, 'messageId': 1, 'answer': ' right', 'keywords': [], 'suggestQuestions': []})\n",
      "✅chunk from lang graph: ('custom', {'currentNode': 'generate', 'sessionId': 1, 'messageId': 1, 'answer': ' to', 'keywords': [], 'suggestQuestions': []})\n",
      "✅chunk from lang graph: ('custom', {'currentNode': 'generate', 'sessionId': 1, 'messageId': 1, 'answer': ' increase', 'keywords': [], 'suggestQuestions': []})\n",
      "✅chunk from lang graph: ('custom', {'currentNode': 'generate', 'sessionId': 1, 'messageId': 1, 'answer': ' it', 'keywords': [], 'suggestQuestions': []})\n",
      "✅chunk from lang graph: ('custom', {'currentNode': 'generate', 'sessionId': 1, 'messageId': 1, 'answer': '.\\n\\n', 'keywords': [], 'suggestQuestions': []})\n",
      "✅chunk from lang graph: ('custom', {'currentNode': 'generate', 'sessionId': 1, 'messageId': 1, 'answer': '  ', 'keywords': [], 'suggestQuestions': []})\n",
      "✅chunk from lang graph: ('custom', {'currentNode': 'generate', 'sessionId': 1, 'messageId': 1, 'answer': ' !', 'keywords': [], 'suggestQuestions': []})\n",
      "✅chunk from lang graph: ('custom', {'currentNode': 'generate', 'sessionId': 1, 'messageId': 1, 'answer': '[', 'keywords': [], 'suggestQuestions': []})\n",
      "✅chunk from lang graph: ('custom', {'currentNode': 'generate', 'sessionId': 1, 'messageId': 1, 'answer': 'Lens', 'keywords': [], 'suggestQuestions': []})\n",
      "✅chunk from lang graph: ('custom', {'currentNode': 'generate', 'sessionId': 1, 'messageId': 1, 'answer': ' Focus', 'keywords': [], 'suggestQuestions': []})\n",
      "✅chunk from lang graph: ('custom', {'currentNode': 'generate', 'sessionId': 1, 'messageId': 1, 'answer': ' Ring', 'keywords': [], 'suggestQuestions': []})\n",
      "✅chunk from lang graph: ('custom', {'currentNode': 'generate', 'sessionId': 1, 'messageId': 1, 'answer': '](', 'keywords': [], 'suggestQuestions': []})\n",
      "✅chunk from lang graph: ('custom', {'currentNode': 'generate', 'sessionId': 1, 'messageId': 1, 'answer': 'file', 'keywords': [], 'suggestQuestions': []})\n",
      "✅chunk from lang graph: ('custom', {'currentNode': 'generate', 'sessionId': 1, 'messageId': 1, 'answer': ')\\n\\n', 'keywords': [], 'suggestQuestions': []})\n",
      "✅chunk from lang graph: ('custom', {'currentNode': 'generate', 'sessionId': 1, 'messageId': 1, 'answer': '3', 'keywords': [], 'suggestQuestions': []})\n",
      "✅chunk from lang graph: ('custom', {'currentNode': 'generate', 'sessionId': 1, 'messageId': 1, 'answer': '.', 'keywords': [], 'suggestQuestions': []})\n",
      "✅chunk from lang graph: ('custom', {'currentNode': 'generate', 'sessionId': 1, 'messageId': 1, 'answer': ' **', 'keywords': [], 'suggestQuestions': []})\n",
      "✅chunk from lang graph: ('custom', {'currentNode': 'generate', 'sessionId': 1, 'messageId': 1, 'answer': 'Capture', 'keywords': [], 'suggestQuestions': []})\n",
      "✅chunk from lang graph: ('custom', {'currentNode': 'generate', 'sessionId': 1, 'messageId': 1, 'answer': ' Your', 'keywords': [], 'suggestQuestions': []})\n",
      "✅chunk from lang graph: ('custom', {'currentNode': 'generate', 'sessionId': 1, 'messageId': 1, 'answer': ' Photo', 'keywords': [], 'suggestQuestions': []})\n",
      "✅chunk from lang graph: ('custom', {'currentNode': 'generate', 'sessionId': 1, 'messageId': 1, 'answer': ':', 'keywords': [], 'suggestQuestions': []})\n",
      "✅chunk from lang graph: ('custom', {'currentNode': 'generate', 'sessionId': 1, 'messageId': 1, 'answer': '**\\n', 'keywords': [], 'suggestQuestions': []})\n",
      "✅chunk from lang graph: ('custom', {'currentNode': 'generate', 'sessionId': 1, 'messageId': 1, 'answer': '  ', 'keywords': [], 'suggestQuestions': []})\n",
      "✅chunk from lang graph: ('custom', {'currentNode': 'generate', 'sessionId': 1, 'messageId': 1, 'answer': ' -', 'keywords': [], 'suggestQuestions': []})\n",
      "✅chunk from lang graph: ('custom', {'currentNode': 'generate', 'sessionId': 1, 'messageId': 1, 'answer': ' Once', 'keywords': [], 'suggestQuestions': []})\n",
      "✅chunk from lang graph: ('custom', {'currentNode': 'generate', 'sessionId': 1, 'messageId': 1, 'answer': ' the', 'keywords': [], 'suggestQuestions': []})\n",
      "✅chunk from lang graph: ('custom', {'currentNode': 'generate', 'sessionId': 1, 'messageId': 1, 'answer': ' focus', 'keywords': [], 'suggestQuestions': []})\n",
      "✅chunk from lang graph: ('custom', {'currentNode': 'generate', 'sessionId': 1, 'messageId': 1, 'answer': ' is', 'keywords': [], 'suggestQuestions': []})\n",
      "✅chunk from lang graph: ('custom', {'currentNode': 'generate', 'sessionId': 1, 'messageId': 1, 'answer': ' set', 'keywords': [], 'suggestQuestions': []})\n",
      "✅chunk from lang graph: ('custom', {'currentNode': 'generate', 'sessionId': 1, 'messageId': 1, 'answer': ',', 'keywords': [], 'suggestQuestions': []})\n",
      "✅chunk from lang graph: ('custom', {'currentNode': 'generate', 'sessionId': 1, 'messageId': 1, 'answer': ' take', 'keywords': [], 'suggestQuestions': []})\n",
      "✅chunk from lang graph: ('custom', {'currentNode': 'generate', 'sessionId': 1, 'messageId': 1, 'answer': ' your', 'keywords': [], 'suggestQuestions': []})\n",
      "✅chunk from lang graph: ('custom', {'currentNode': 'generate', 'sessionId': 1, 'messageId': 1, 'answer': ' picture', 'keywords': [], 'suggestQuestions': []})\n",
      "✅chunk from lang graph: ('custom', {'currentNode': 'generate', 'sessionId': 1, 'messageId': 1, 'answer': '.\\n\\n', 'keywords': [], 'suggestQuestions': []})\n",
      "✅chunk from lang graph: ('custom', {'currentNode': 'generate', 'sessionId': 1, 'messageId': 1, 'answer': '>', 'keywords': [], 'suggestQuestions': []})\n",
      "✅chunk from lang graph: ('custom', {'currentNode': 'generate', 'sessionId': 1, 'messageId': 1, 'answer': ' 💡', 'keywords': [], 'suggestQuestions': []})\n",
      "✅chunk from lang graph: ('custom', {'currentNode': 'generate', 'sessionId': 1, 'messageId': 1, 'answer': ' **', 'keywords': [], 'suggestQuestions': []})\n",
      "✅chunk from lang graph: ('custom', {'currentNode': 'generate', 'sessionId': 1, 'messageId': 1, 'answer': 'Tip', 'keywords': [], 'suggestQuestions': []})\n",
      "✅chunk from lang graph: ('custom', {'currentNode': 'generate', 'sessionId': 1, 'messageId': 1, 'answer': '**', 'keywords': [], 'suggestQuestions': []})\n",
      "✅chunk from lang graph: ('custom', {'currentNode': 'generate', 'sessionId': 1, 'messageId': 1, 'answer': ':', 'keywords': [], 'suggestQuestions': []})\n",
      "✅chunk from lang graph: ('custom', {'currentNode': 'generate', 'sessionId': 1, 'messageId': 1, 'answer': ' You', 'keywords': [], 'suggestQuestions': []})\n",
      "✅chunk from lang graph: ('custom', {'currentNode': 'generate', 'sessionId': 1, 'messageId': 1, 'answer': ' can', 'keywords': [], 'suggestQuestions': []})\n",
      "✅chunk from lang graph: ('custom', {'currentNode': 'generate', 'sessionId': 1, 'messageId': 1, 'answer': ' reverse', 'keywords': [], 'suggestQuestions': []})\n",
      "✅chunk from lang graph: ('custom', {'currentNode': 'generate', 'sessionId': 1, 'messageId': 1, 'answer': ' the', 'keywords': [], 'suggestQuestions': []})\n",
      "✅chunk from lang graph: ('custom', {'currentNode': 'generate', 'sessionId': 1, 'messageId': 1, 'answer': ' direction', 'keywords': [], 'suggestQuestions': []})\n",
      "✅chunk from lang graph: ('custom', {'currentNode': 'generate', 'sessionId': 1, 'messageId': 1, 'answer': ' of', 'keywords': [], 'suggestQuestions': []})\n",
      "✅chunk from lang graph: ('custom', {'currentNode': 'generate', 'sessionId': 1, 'messageId': 1, 'answer': ' the', 'keywords': [], 'suggestQuestions': []})\n",
      "✅chunk from lang graph: ('custom', {'currentNode': 'generate', 'sessionId': 1, 'messageId': 1, 'answer': ' focus', 'keywords': [], 'suggestQuestions': []})\n",
      "✅chunk from lang graph: ('custom', {'currentNode': 'generate', 'sessionId': 1, 'messageId': 1, 'answer': ' ring', 'keywords': [], 'suggestQuestions': []})\n",
      "✅chunk from lang graph: ('custom', {'currentNode': 'generate', 'sessionId': 1, 'messageId': 1, 'answer': ' rotation', 'keywords': [], 'suggestQuestions': []})\n",
      "✅chunk from lang graph: ('custom', {'currentNode': 'generate', 'sessionId': 1, 'messageId': 1, 'answer': ' by', 'keywords': [], 'suggestQuestions': []})\n",
      "✅chunk from lang graph: ('custom', {'currentNode': 'generate', 'sessionId': 1, 'messageId': 1, 'answer': ' using', 'keywords': [], 'suggestQuestions': []})\n",
      "✅chunk from lang graph: ('custom', {'currentNode': 'generate', 'sessionId': 1, 'messageId': 1, 'answer': ' **', 'keywords': [], 'suggestQuestions': []})\n",
      "✅chunk from lang graph: ('custom', {'currentNode': 'generate', 'sessionId': 1, 'messageId': 1, 'answer': 'BUTTON', 'keywords': [], 'suggestQuestions': []})\n",
      "✅chunk from lang graph: ('custom', {'currentNode': 'generate', 'sessionId': 1, 'messageId': 1, 'answer': '/D', 'keywords': [], 'suggestQuestions': []})\n",
      "✅chunk from lang graph: ('custom', {'currentNode': 'generate', 'sessionId': 1, 'messageId': 1, 'answer': 'IAL', 'keywords': [], 'suggestQuestions': []})\n",
      "✅chunk from lang graph: ('custom', {'currentNode': 'generate', 'sessionId': 1, 'messageId': 1, 'answer': ' SET', 'keywords': [], 'suggestQuestions': []})\n",
      "✅chunk from lang graph: ('custom', {'currentNode': 'generate', 'sessionId': 1, 'messageId': 1, 'answer': 'TING', 'keywords': [], 'suggestQuestions': []})\n",
      "✅chunk from lang graph: ('custom', {'currentNode': 'generate', 'sessionId': 1, 'messageId': 1, 'answer': ' >', 'keywords': [], 'suggestQuestions': []})\n",
      "✅chunk from lang graph: ('custom', {'currentNode': 'generate', 'sessionId': 1, 'messageId': 1, 'answer': ' F', 'keywords': [], 'suggestQuestions': []})\n",
      "✅chunk from lang graph: ('custom', {'currentNode': 'generate', 'sessionId': 1, 'messageId': 1, 'answer': 'OCUS', 'keywords': [], 'suggestQuestions': []})\n",
      "✅chunk from lang graph: ('custom', {'currentNode': 'generate', 'sessionId': 1, 'messageId': 1, 'answer': ' R', 'keywords': [], 'suggestQuestions': []})\n",
      "✅chunk from lang graph: ('custom', {'currentNode': 'generate', 'sessionId': 1, 'messageId': 1, 'answer': 'ING', 'keywords': [], 'suggestQuestions': []})\n",
      "✅chunk from lang graph: ('custom', {'currentNode': 'generate', 'sessionId': 1, 'messageId': 1, 'answer': '**', 'keywords': [], 'suggestQuestions': []})\n",
      "✅chunk from lang graph: ('custom', {'currentNode': 'generate', 'sessionId': 1, 'messageId': 1, 'answer': ' (', 'keywords': [], 'suggestQuestions': []})\n",
      "✅chunk from lang graph: ('custom', {'currentNode': 'generate', 'sessionId': 1, 'messageId': 1, 'answer': 'x', 'keywords': [], 'suggestQuestions': []})\n",
      "✅chunk from lang graph: ('custom', {'currentNode': 'generate', 'sessionId': 1, 'messageId': 1, 'answer': '-e', 'keywords': [], 'suggestQuestions': []})\n",
      "✅chunk from lang graph: ('custom', {'currentNode': 'generate', 'sessionId': 1, 'messageId': 1, 'answer': '4', 'keywords': [], 'suggestQuestions': []})\n",
      "✅chunk from lang graph: ('custom', {'currentNode': 'generate', 'sessionId': 1, 'messageId': 1, 'answer': ')', 'keywords': [], 'suggestQuestions': []})\n",
      "✅chunk from lang graph: ('custom', {'currentNode': 'generate', 'sessionId': 1, 'messageId': 1, 'answer': ' or', 'keywords': [], 'suggestQuestions': []})\n",
      "✅chunk from lang graph: ('custom', {'currentNode': 'generate', 'sessionId': 1, 'messageId': 1, 'answer': ' **', 'keywords': [], 'suggestQuestions': []})\n",
      "✅chunk from lang graph: ('custom', {'currentNode': 'generate', 'sessionId': 1, 'messageId': 1, 'answer': 'BUTTON', 'keywords': [], 'suggestQuestions': []})\n",
      "✅chunk from lang graph: ('custom', {'currentNode': 'generate', 'sessionId': 1, 'messageId': 1, 'answer': '/D', 'keywords': [], 'suggestQuestions': []})\n",
      "✅chunk from lang graph: ('custom', {'currentNode': 'generate', 'sessionId': 1, 'messageId': 1, 'answer': 'IAL', 'keywords': [], 'suggestQuestions': []})\n",
      "✅chunk from lang graph: ('custom', {'currentNode': 'generate', 'sessionId': 1, 'messageId': 1, 'answer': ' SET', 'keywords': [], 'suggestQuestions': []})\n",
      "✅chunk from lang graph: ('custom', {'currentNode': 'generate', 'sessionId': 1, 'messageId': 1, 'answer': 'TING', 'keywords': [], 'suggestQuestions': []})\n",
      "✅chunk from lang graph: ('custom', {'currentNode': 'generate', 'sessionId': 1, 'messageId': 1, 'answer': ' >', 'keywords': [], 'suggestQuestions': []})\n",
      "✅chunk from lang graph: ('custom', {'currentNode': 'generate', 'sessionId': 1, 'messageId': 1, 'answer': ' L', 'keywords': [], 'suggestQuestions': []})\n",
      "✅chunk from lang graph: ('custom', {'currentNode': 'generate', 'sessionId': 1, 'messageId': 1, 'answer': 'ENS', 'keywords': [], 'suggestQuestions': []})\n",
      "✅chunk from lang graph: ('custom', {'currentNode': 'generate', 'sessionId': 1, 'messageId': 1, 'answer': ' Z', 'keywords': [], 'suggestQuestions': []})\n",
      "✅chunk from lang graph: ('custom', {'currentNode': 'generate', 'sessionId': 1, 'messageId': 1, 'answer': 'OOM', 'keywords': [], 'suggestQuestions': []})\n",
      "✅chunk from lang graph: ('custom', {'currentNode': 'generate', 'sessionId': 1, 'messageId': 1, 'answer': '/', 'keywords': [], 'suggestQuestions': []})\n",
      "✅chunk from lang graph: ('custom', {'currentNode': 'generate', 'sessionId': 1, 'messageId': 1, 'answer': 'FO', 'keywords': [], 'suggestQuestions': []})\n",
      "✅chunk from lang graph: ('custom', {'currentNode': 'generate', 'sessionId': 1, 'messageId': 1, 'answer': 'CUS', 'keywords': [], 'suggestQuestions': []})\n",
      "✅chunk from lang graph: ('custom', {'currentNode': 'generate', 'sessionId': 1, 'messageId': 1, 'answer': ' SET', 'keywords': [], 'suggestQuestions': []})\n",
      "✅chunk from lang graph: ('custom', {'currentNode': 'generate', 'sessionId': 1, 'messageId': 1, 'answer': 'TING', 'keywords': [], 'suggestQuestions': []})\n",
      "✅chunk from lang graph: ('custom', {'currentNode': 'generate', 'sessionId': 1, 'messageId': 1, 'answer': '**', 'keywords': [], 'suggestQuestions': []})\n",
      "✅chunk from lang graph: ('custom', {'currentNode': 'generate', 'sessionId': 1, 'messageId': 1, 'answer': ' (', 'keywords': [], 'suggestQuestions': []})\n",
      "✅chunk from lang graph: ('custom', {'currentNode': 'generate', 'sessionId': 1, 'messageId': 1, 'answer': 'x', 'keywords': [], 'suggestQuestions': []})\n",
      "✅chunk from lang graph: ('custom', {'currentNode': 'generate', 'sessionId': 1, 'messageId': 1, 'answer': '-s', 'keywords': [], 'suggestQuestions': []})\n",
      "✅chunk from lang graph: ('custom', {'currentNode': 'generate', 'sessionId': 1, 'messageId': 1, 'answer': '20', 'keywords': [], 'suggestQuestions': []})\n",
      "✅chunk from lang graph: ('custom', {'currentNode': 'generate', 'sessionId': 1, 'messageId': 1, 'answer': ').\\n\\n', 'keywords': [], 'suggestQuestions': []})\n",
      "✅chunk from lang graph: ('custom', {'currentNode': 'generate', 'sessionId': 1, 'messageId': 1, 'answer': '###', 'keywords': [], 'suggestQuestions': []})\n",
      "✅chunk from lang graph: ('custom', {'currentNode': 'generate', 'sessionId': 1, 'messageId': 1, 'answer': ' Custom', 'keywords': [], 'suggestQuestions': []})\n",
      "✅chunk from lang graph: ('custom', {'currentNode': 'generate', 'sessionId': 1, 'messageId': 1, 'answer': ' Focus', 'keywords': [], 'suggestQuestions': []})\n",
      "✅chunk from lang graph: ('custom', {'currentNode': 'generate', 'sessionId': 1, 'messageId': 1, 'answer': ' Tracking', 'keywords': [], 'suggestQuestions': []})\n",
      "✅chunk from lang graph: ('custom', {'currentNode': 'generate', 'sessionId': 1, 'messageId': 1, 'answer': ' Options', 'keywords': [], 'suggestQuestions': []})\n",
      "✅chunk from lang graph: ('custom', {'currentNode': 'generate', 'sessionId': 1, 'messageId': 1, 'answer': ' (', 'keywords': [], 'suggestQuestions': []})\n",
      "✅chunk from lang graph: ('custom', {'currentNode': 'generate', 'sessionId': 1, 'messageId': 1, 'answer': 'For', 'keywords': [], 'suggestQuestions': []})\n",
      "✅chunk from lang graph: ('custom', {'currentNode': 'generate', 'sessionId': 1, 'messageId': 1, 'answer': ' Set', 'keywords': [], 'suggestQuestions': []})\n",
      "✅chunk from lang graph: ('custom', {'currentNode': 'generate', 'sessionId': 1, 'messageId': 1, 'answer': ' ', 'keywords': [], 'suggestQuestions': []})\n",
      "✅chunk from lang graph: ('custom', {'currentNode': 'generate', 'sessionId': 1, 'messageId': 1, 'answer': '6', 'keywords': [], 'suggestQuestions': []})\n",
      "✅chunk from lang graph: ('custom', {'currentNode': 'generate', 'sessionId': 1, 'messageId': 1, 'answer': ')\\n\\n', 'keywords': [], 'suggestQuestions': []})\n",
      "✅chunk from lang graph: ('custom', {'currentNode': 'generate', 'sessionId': 1, 'messageId': 1, 'answer': '1', 'keywords': [], 'suggestQuestions': []})\n",
      "✅chunk from lang graph: ('custom', {'currentNode': 'generate', 'sessionId': 1, 'messageId': 1, 'answer': '.', 'keywords': [], 'suggestQuestions': []})\n",
      "✅chunk from lang graph: ('custom', {'currentNode': 'generate', 'sessionId': 1, 'messageId': 1, 'answer': ' **', 'keywords': [], 'suggestQuestions': []})\n",
      "✅chunk from lang graph: ('custom', {'currentNode': 'generate', 'sessionId': 1, 'messageId': 1, 'answer': 'Select', 'keywords': [], 'suggestQuestions': []})\n",
      "✅chunk from lang graph: ('custom', {'currentNode': 'generate', 'sessionId': 1, 'messageId': 1, 'answer': ' Custom', 'keywords': [], 'suggestQuestions': []})\n",
      "✅chunk from lang graph: ('custom', {'currentNode': 'generate', 'sessionId': 1, 'messageId': 1, 'answer': ' Settings', 'keywords': [], 'suggestQuestions': []})\n",
      "✅chunk from lang graph: ('custom', {'currentNode': 'generate', 'sessionId': 1, 'messageId': 1, 'answer': ':', 'keywords': [], 'suggestQuestions': []})\n",
      "✅chunk from lang graph: ('custom', {'currentNode': 'generate', 'sessionId': 1, 'messageId': 1, 'answer': '**\\n', 'keywords': [], 'suggestQuestions': []})\n",
      "✅chunk from lang graph: ('custom', {'currentNode': 'generate', 'sessionId': 1, 'messageId': 1, 'answer': '  ', 'keywords': [], 'suggestQuestions': []})\n",
      "✅chunk from lang graph: ('custom', {'currentNode': 'generate', 'sessionId': 1, 'messageId': 1, 'answer': ' -', 'keywords': [], 'suggestQuestions': []})\n",
      "✅chunk from lang graph: ('custom', {'currentNode': 'generate', 'sessionId': 1, 'messageId': 1, 'answer': ' Navigate', 'keywords': [], 'suggestQuestions': []})\n",
      "✅chunk from lang graph: ('custom', {'currentNode': 'generate', 'sessionId': 1, 'messageId': 1, 'answer': ' to', 'keywords': [], 'suggestQuestions': []})\n",
      "✅chunk from lang graph: ('custom', {'currentNode': 'generate', 'sessionId': 1, 'messageId': 1, 'answer': ' **', 'keywords': [], 'suggestQuestions': []})\n",
      "✅chunk from lang graph: ('custom', {'currentNode': 'generate', 'sessionId': 1, 'messageId': 1, 'answer': 'AF', 'keywords': [], 'suggestQuestions': []})\n",
      "✅chunk from lang graph: ('custom', {'currentNode': 'generate', 'sessionId': 1, 'messageId': 1, 'answer': '-C', 'keywords': [], 'suggestQuestions': []})\n",
      "✅chunk from lang graph: ('custom', {'currentNode': 'generate', 'sessionId': 1, 'messageId': 1, 'answer': ' CUSTOM', 'keywords': [], 'suggestQuestions': []})\n",
      "✅chunk from lang graph: ('custom', {'currentNode': 'generate', 'sessionId': 1, 'messageId': 1, 'answer': ' SETTINGS', 'keywords': [], 'suggestQuestions': []})\n",
      "✅chunk from lang graph: ('custom', {'currentNode': 'generate', 'sessionId': 1, 'messageId': 1, 'answer': ' >', 'keywords': [], 'suggestQuestions': []})\n",
      "✅chunk from lang graph: ('custom', {'currentNode': 'generate', 'sessionId': 1, 'messageId': 1, 'answer': ' SET', 'keywords': [], 'suggestQuestions': []})\n",
      "✅chunk from lang graph: ('custom', {'currentNode': 'generate', 'sessionId': 1, 'messageId': 1, 'answer': ' ', 'keywords': [], 'suggestQuestions': []})\n",
      "✅chunk from lang graph: ('custom', {'currentNode': 'generate', 'sessionId': 1, 'messageId': 1, 'answer': '6', 'keywords': [], 'suggestQuestions': []})\n",
      "✅chunk from lang graph: ('custom', {'currentNode': 'generate', 'sessionId': 1, 'messageId': 1, 'answer': ' CUSTOM', 'keywords': [], 'suggestQuestions': []})\n",
      "✅chunk from lang graph: ('custom', {'currentNode': 'generate', 'sessionId': 1, 'messageId': 1, 'answer': '**', 'keywords': [], 'suggestQuestions': []})\n",
      "✅chunk from lang graph: ('custom', {'currentNode': 'generate', 'sessionId': 1, 'messageId': 1, 'answer': '.\\n\\n', 'keywords': [], 'suggestQuestions': []})\n",
      "✅chunk from lang graph: ('custom', {'currentNode': 'generate', 'sessionId': 1, 'messageId': 1, 'answer': '  ', 'keywords': [], 'suggestQuestions': []})\n",
      "✅chunk from lang graph: ('custom', {'currentNode': 'generate', 'sessionId': 1, 'messageId': 1, 'answer': ' !', 'keywords': [], 'suggestQuestions': []})\n",
      "✅chunk from lang graph: ('custom', {'currentNode': 'generate', 'sessionId': 1, 'messageId': 1, 'answer': '[', 'keywords': [], 'suggestQuestions': []})\n",
      "✅chunk from lang graph: ('custom', {'currentNode': 'generate', 'sessionId': 1, 'messageId': 1, 'answer': 'AF', 'keywords': [], 'suggestQuestions': []})\n",
      "✅chunk from lang graph: ('custom', {'currentNode': 'generate', 'sessionId': 1, 'messageId': 1, 'answer': '-C', 'keywords': [], 'suggestQuestions': []})\n",
      "✅chunk from lang graph: ('custom', {'currentNode': 'generate', 'sessionId': 1, 'messageId': 1, 'answer': ' Custom', 'keywords': [], 'suggestQuestions': []})\n",
      "✅chunk from lang graph: ('custom', {'currentNode': 'generate', 'sessionId': 1, 'messageId': 1, 'answer': ' Settings', 'keywords': [], 'suggestQuestions': []})\n",
      "✅chunk from lang graph: ('custom', {'currentNode': 'generate', 'sessionId': 1, 'messageId': 1, 'answer': ' Menu', 'keywords': [], 'suggestQuestions': []})\n",
      "✅chunk from lang graph: ('custom', {'currentNode': 'generate', 'sessionId': 1, 'messageId': 1, 'answer': '](', 'keywords': [], 'suggestQuestions': []})\n",
      "✅chunk from lang graph: ('custom', {'currentNode': 'generate', 'sessionId': 1, 'messageId': 1, 'answer': 'file', 'keywords': [], 'suggestQuestions': []})\n",
      "✅chunk from lang graph: ('custom', {'currentNode': 'generate', 'sessionId': 1, 'messageId': 1, 'answer': ')\\n\\n', 'keywords': [], 'suggestQuestions': []})\n",
      "✅chunk from lang graph: ('custom', {'currentNode': 'generate', 'sessionId': 1, 'messageId': 1, 'answer': '2', 'keywords': [], 'suggestQuestions': []})\n",
      "✅chunk from lang graph: ('custom', {'currentNode': 'generate', 'sessionId': 1, 'messageId': 1, 'answer': '.', 'keywords': [], 'suggestQuestions': []})\n",
      "✅chunk from lang graph: ('custom', {'currentNode': 'generate', 'sessionId': 1, 'messageId': 1, 'answer': ' **', 'keywords': [], 'suggestQuestions': []})\n",
      "✅chunk from lang graph: ('custom', {'currentNode': 'generate', 'sessionId': 1, 'messageId': 1, 'answer': 'Adjust', 'keywords': [], 'suggestQuestions': []})\n",
      "✅chunk from lang graph: ('custom', {'currentNode': 'generate', 'sessionId': 1, 'messageId': 1, 'answer': ' Settings', 'keywords': [], 'suggestQuestions': []})\n",
      "✅chunk from lang graph: ('custom', {'currentNode': 'generate', 'sessionId': 1, 'messageId': 1, 'answer': ':', 'keywords': [], 'suggestQuestions': []})\n",
      "✅chunk from lang graph: ('custom', {'currentNode': 'generate', 'sessionId': 1, 'messageId': 1, 'answer': '**\\n', 'keywords': [], 'suggestQuestions': []})\n",
      "✅chunk from lang graph: ('custom', {'currentNode': 'generate', 'sessionId': 1, 'messageId': 1, 'answer': '  ', 'keywords': [], 'suggestQuestions': []})\n",
      "✅chunk from lang graph: ('custom', {'currentNode': 'generate', 'sessionId': 1, 'messageId': 1, 'answer': ' -', 'keywords': [], 'suggestQuestions': []})\n",
      "✅chunk from lang graph: ('custom', {'currentNode': 'generate', 'sessionId': 1, 'messageId': 1, 'answer': ' Use', 'keywords': [], 'suggestQuestions': []})\n",
      "✅chunk from lang graph: ('custom', {'currentNode': 'generate', 'sessionId': 1, 'messageId': 1, 'answer': ' the', 'keywords': [], 'suggestQuestions': []})\n",
      "✅chunk from lang graph: ('custom', {'currentNode': 'generate', 'sessionId': 1, 'messageId': 1, 'answer': ' focus', 'keywords': [], 'suggestQuestions': []})\n",
      "✅chunk from lang graph: ('custom', {'currentNode': 'generate', 'sessionId': 1, 'messageId': 1, 'answer': ' stick', 'keywords': [], 'suggestQuestions': []})\n",
      "✅chunk from lang graph: ('custom', {'currentNode': 'generate', 'sessionId': 1, 'messageId': 1, 'answer': ' (', 'keywords': [], 'suggestQuestions': []})\n",
      "✅chunk from lang graph: ('custom', {'currentNode': 'generate', 'sessionId': 1, 'messageId': 1, 'answer': 'focus', 'keywords': [], 'suggestQuestions': []})\n",
      "✅chunk from lang graph: ('custom', {'currentNode': 'generate', 'sessionId': 1, 'messageId': 1, 'answer': ' lever', 'keywords': [], 'suggestQuestions': []})\n",
      "✅chunk from lang graph: ('custom', {'currentNode': 'generate', 'sessionId': 1, 'messageId': 1, 'answer': ')', 'keywords': [], 'suggestQuestions': []})\n",
      "✅chunk from lang graph: ('custom', {'currentNode': 'generate', 'sessionId': 1, 'messageId': 1, 'answer': ' to', 'keywords': [], 'suggestQuestions': []})\n",
      "✅chunk from lang graph: ('custom', {'currentNode': 'generate', 'sessionId': 1, 'messageId': 1, 'answer': ' highlight', 'keywords': [], 'suggestQuestions': []})\n",
      "✅chunk from lang graph: ('custom', {'currentNode': 'generate', 'sessionId': 1, 'messageId': 1, 'answer': ' items', 'keywords': [], 'suggestQuestions': []})\n",
      "✅chunk from lang graph: ('custom', {'currentNode': 'generate', 'sessionId': 1, 'messageId': 1, 'answer': '.\\n', 'keywords': [], 'suggestQuestions': []})\n",
      "✅chunk from lang graph: ('custom', {'currentNode': 'generate', 'sessionId': 1, 'messageId': 1, 'answer': '  ', 'keywords': [], 'suggestQuestions': []})\n",
      "✅chunk from lang graph: ('custom', {'currentNode': 'generate', 'sessionId': 1, 'messageId': 1, 'answer': ' -', 'keywords': [], 'suggestQuestions': []})\n",
      "✅chunk from lang graph: ('custom', {'currentNode': 'generate', 'sessionId': 1, 'messageId': 1, 'answer': ' Rotate', 'keywords': [], 'suggestQuestions': []})\n",
      "✅chunk from lang graph: ('custom', {'currentNode': 'generate', 'sessionId': 1, 'messageId': 1, 'answer': ' the', 'keywords': [], 'suggestQuestions': []})\n",
      "✅chunk from lang graph: ('custom', {'currentNode': 'generate', 'sessionId': 1, 'messageId': 1, 'answer': ' front', 'keywords': [], 'suggestQuestions': []})\n",
      "✅chunk from lang graph: ('custom', {'currentNode': 'generate', 'sessionId': 1, 'messageId': 1, 'answer': ' command', 'keywords': [], 'suggestQuestions': []})\n",
      "✅chunk from lang graph: ('custom', {'currentNode': 'generate', 'sessionId': 1, 'messageId': 1, 'answer': ' dial', 'keywords': [], 'suggestQuestions': []})\n",
      "✅chunk from lang graph: ('custom', {'currentNode': 'generate', 'sessionId': 1, 'messageId': 1, 'answer': ' to', 'keywords': [], 'suggestQuestions': []})\n",
      "✅chunk from lang graph: ('custom', {'currentNode': 'generate', 'sessionId': 1, 'messageId': 1, 'answer': ' change', 'keywords': [], 'suggestQuestions': []})\n",
      "✅chunk from lang graph: ('custom', {'currentNode': 'generate', 'sessionId': 1, 'messageId': 1, 'answer': ' settings', 'keywords': [], 'suggestQuestions': []})\n",
      "✅chunk from lang graph: ('custom', {'currentNode': 'generate', 'sessionId': 1, 'messageId': 1, 'answer': '.\\n', 'keywords': [], 'suggestQuestions': []})\n",
      "✅chunk from lang graph: ('custom', {'currentNode': 'generate', 'sessionId': 1, 'messageId': 1, 'answer': '  ', 'keywords': [], 'suggestQuestions': []})\n",
      "✅chunk from lang graph: ('custom', {'currentNode': 'generate', 'sessionId': 1, 'messageId': 1, 'answer': ' -', 'keywords': [], 'suggestQuestions': []})\n",
      "✅chunk from lang graph: ('custom', {'currentNode': 'generate', 'sessionId': 1, 'messageId': 1, 'answer': ' Press', 'keywords': [], 'suggestQuestions': []})\n",
      "✅chunk from lang graph: ('custom', {'currentNode': 'generate', 'sessionId': 1, 'messageId': 1, 'answer': ' the', 'keywords': [], 'suggestQuestions': []})\n",
      "✅chunk from lang graph: ('custom', {'currentNode': 'generate', 'sessionId': 1, 'messageId': 1, 'answer': ' reset', 'keywords': [], 'suggestQuestions': []})\n",
      "✅chunk from lang graph: ('custom', {'currentNode': 'generate', 'sessionId': 1, 'messageId': 1, 'answer': ' button', 'keywords': [], 'suggestQuestions': []})\n",
      "✅chunk from lang graph: ('custom', {'currentNode': 'generate', 'sessionId': 1, 'messageId': 1, 'answer': ' to', 'keywords': [], 'suggestQuestions': []})\n",
      "✅chunk from lang graph: ('custom', {'currentNode': 'generate', 'sessionId': 1, 'messageId': 1, 'answer': ' revert', 'keywords': [], 'suggestQuestions': []})\n",
      "✅chunk from lang graph: ('custom', {'currentNode': 'generate', 'sessionId': 1, 'messageId': 1, 'answer': ' to', 'keywords': [], 'suggestQuestions': []})\n",
      "✅chunk from lang graph: ('custom', {'currentNode': 'generate', 'sessionId': 1, 'messageId': 1, 'answer': ' original', 'keywords': [], 'suggestQuestions': []})\n",
      "✅chunk from lang graph: ('custom', {'currentNode': 'generate', 'sessionId': 1, 'messageId': 1, 'answer': ' settings', 'keywords': [], 'suggestQuestions': []})\n",
      "✅chunk from lang graph: ('custom', {'currentNode': 'generate', 'sessionId': 1, 'messageId': 1, 'answer': ' if', 'keywords': [], 'suggestQuestions': []})\n",
      "✅chunk from lang graph: ('custom', {'currentNode': 'generate', 'sessionId': 1, 'messageId': 1, 'answer': ' needed', 'keywords': [], 'suggestQuestions': []})\n",
      "✅chunk from lang graph: ('custom', {'currentNode': 'generate', 'sessionId': 1, 'messageId': 1, 'answer': '.\\n\\n', 'keywords': [], 'suggestQuestions': []})\n",
      "✅chunk from lang graph: ('custom', {'currentNode': 'generate', 'sessionId': 1, 'messageId': 1, 'answer': '3', 'keywords': [], 'suggestQuestions': []})\n",
      "✅chunk from lang graph: ('custom', {'currentNode': 'generate', 'sessionId': 1, 'messageId': 1, 'answer': '.', 'keywords': [], 'suggestQuestions': []})\n",
      "✅chunk from lang graph: ('custom', {'currentNode': 'generate', 'sessionId': 1, 'messageId': 1, 'answer': ' **', 'keywords': [], 'suggestQuestions': []})\n",
      "✅chunk from lang graph: ('custom', {'currentNode': 'generate', 'sessionId': 1, 'messageId': 1, 'answer': 'Finalize', 'keywords': [], 'suggestQuestions': []})\n",
      "✅chunk from lang graph: ('custom', {'currentNode': 'generate', 'sessionId': 1, 'messageId': 1, 'answer': ' Settings', 'keywords': [], 'suggestQuestions': []})\n",
      "✅chunk from lang graph: ('custom', {'currentNode': 'generate', 'sessionId': 1, 'messageId': 1, 'answer': ':', 'keywords': [], 'suggestQuestions': []})\n",
      "✅chunk from lang graph: ('custom', {'currentNode': 'generate', 'sessionId': 1, 'messageId': 1, 'answer': '**\\n', 'keywords': [], 'suggestQuestions': []})\n",
      "✅chunk from lang graph: ('custom', {'currentNode': 'generate', 'sessionId': 1, 'messageId': 1, 'answer': '  ', 'keywords': [], 'suggestQuestions': []})\n",
      "✅chunk from lang graph: ('custom', {'currentNode': 'generate', 'sessionId': 1, 'messageId': 1, 'answer': ' -', 'keywords': [], 'suggestQuestions': []})\n",
      "✅chunk from lang graph: ('custom', {'currentNode': 'generate', 'sessionId': 1, 'messageId': 1, 'answer': ' Press', 'keywords': [], 'suggestQuestions': []})\n",
      "✅chunk from lang graph: ('custom', {'currentNode': 'generate', 'sessionId': 1, 'messageId': 1, 'answer': ' **', 'keywords': [], 'suggestQuestions': []})\n",
      "✅chunk from lang graph: ('custom', {'currentNode': 'generate', 'sessionId': 1, 'messageId': 1, 'answer': 'DIS', 'keywords': [], 'suggestQuestions': []})\n",
      "✅chunk from lang graph: ('custom', {'currentNode': 'generate', 'sessionId': 1, 'messageId': 1, 'answer': 'P', 'keywords': [], 'suggestQuestions': []})\n",
      "✅chunk from lang graph: ('custom', {'currentNode': 'generate', 'sessionId': 1, 'messageId': 1, 'answer': '/B', 'keywords': [], 'suggestQuestions': []})\n",
      "✅chunk from lang graph: ('custom', {'currentNode': 'generate', 'sessionId': 1, 'messageId': 1, 'answer': 'ACK', 'keywords': [], 'suggestQuestions': []})\n",
      "✅chunk from lang graph: ('custom', {'currentNode': 'generate', 'sessionId': 1, 'messageId': 1, 'answer': '**', 'keywords': [], 'suggestQuestions': []})\n",
      "✅chunk from lang graph: ('custom', {'currentNode': 'generate', 'sessionId': 1, 'messageId': 1, 'answer': ' when', 'keywords': [], 'suggestQuestions': []})\n",
      "✅chunk from lang graph: ('custom', {'currentNode': 'generate', 'sessionId': 1, 'messageId': 1, 'answer': ' you', 'keywords': [], 'suggestQuestions': []})\n",
      "✅chunk from lang graph: ('custom', {'currentNode': 'generate', 'sessionId': 1, 'messageId': 1, 'answer': ' have', 'keywords': [], 'suggestQuestions': []})\n",
      "✅chunk from lang graph: ('custom', {'currentNode': 'generate', 'sessionId': 1, 'messageId': 1, 'answer': ' completed', 'keywords': [], 'suggestQuestions': []})\n",
      "✅chunk from lang graph: ('custom', {'currentNode': 'generate', 'sessionId': 1, 'messageId': 1, 'answer': ' the', 'keywords': [], 'suggestQuestions': []})\n",
      "✅chunk from lang graph: ('custom', {'currentNode': 'generate', 'sessionId': 1, 'messageId': 1, 'answer': ' adjustments', 'keywords': [], 'suggestQuestions': []})\n",
      "✅chunk from lang graph: ('custom', {'currentNode': 'generate', 'sessionId': 1, 'messageId': 1, 'answer': '.\\n\\n', 'keywords': [], 'suggestQuestions': []})\n",
      "✅chunk from lang graph: ('custom', {'currentNode': 'generate', 'sessionId': 1, 'messageId': 1, 'answer': 'By', 'keywords': [], 'suggestQuestions': []})\n",
      "✅chunk from lang graph: ('custom', {'currentNode': 'generate', 'sessionId': 1, 'messageId': 1, 'answer': ' following', 'keywords': [], 'suggestQuestions': []})\n",
      "✅chunk from lang graph: ('custom', {'currentNode': 'generate', 'sessionId': 1, 'messageId': 1, 'answer': ' these', 'keywords': [], 'suggestQuestions': []})\n",
      "✅chunk from lang graph: ('custom', {'currentNode': 'generate', 'sessionId': 1, 'messageId': 1, 'answer': ' steps', 'keywords': [], 'suggestQuestions': []})\n",
      "✅chunk from lang graph: ('custom', {'currentNode': 'generate', 'sessionId': 1, 'messageId': 1, 'answer': ',', 'keywords': [], 'suggestQuestions': []})\n",
      "✅chunk from lang graph: ('custom', {'currentNode': 'generate', 'sessionId': 1, 'messageId': 1, 'answer': ' you', 'keywords': [], 'suggestQuestions': []})\n",
      "✅chunk from lang graph: ('custom', {'currentNode': 'generate', 'sessionId': 1, 'messageId': 1, 'answer': ' can', 'keywords': [], 'suggestQuestions': []})\n",
      "✅chunk from lang graph: ('custom', {'currentNode': 'generate', 'sessionId': 1, 'messageId': 1, 'answer': ' effectively', 'keywords': [], 'suggestQuestions': []})\n",
      "✅chunk from lang graph: ('custom', {'currentNode': 'generate', 'sessionId': 1, 'messageId': 1, 'answer': ' adjust', 'keywords': [], 'suggestQuestions': []})\n",
      "✅chunk from lang graph: ('custom', {'currentNode': 'generate', 'sessionId': 1, 'messageId': 1, 'answer': ' the', 'keywords': [], 'suggestQuestions': []})\n",
      "✅chunk from lang graph: ('custom', {'currentNode': 'generate', 'sessionId': 1, 'messageId': 1, 'answer': ' focus', 'keywords': [], 'suggestQuestions': []})\n",
      "✅chunk from lang graph: ('custom', {'currentNode': 'generate', 'sessionId': 1, 'messageId': 1, 'answer': ' on', 'keywords': [], 'suggestQuestions': []})\n",
      "✅chunk from lang graph: ('custom', {'currentNode': 'generate', 'sessionId': 1, 'messageId': 1, 'answer': ' your', 'keywords': [], 'suggestQuestions': []})\n",
      "✅chunk from lang graph: ('custom', {'currentNode': 'generate', 'sessionId': 1, 'messageId': 1, 'answer': ' camera', 'keywords': [], 'suggestQuestions': []})\n",
      "✅chunk from lang graph: ('custom', {'currentNode': 'generate', 'sessionId': 1, 'messageId': 1, 'answer': ' to', 'keywords': [], 'suggestQuestions': []})\n",
      "✅chunk from lang graph: ('custom', {'currentNode': 'generate', 'sessionId': 1, 'messageId': 1, 'answer': ' suit', 'keywords': [], 'suggestQuestions': []})\n",
      "✅chunk from lang graph: ('custom', {'currentNode': 'generate', 'sessionId': 1, 'messageId': 1, 'answer': ' different', 'keywords': [], 'suggestQuestions': []})\n",
      "✅chunk from lang graph: ('custom', {'currentNode': 'generate', 'sessionId': 1, 'messageId': 1, 'answer': ' shooting', 'keywords': [], 'suggestQuestions': []})\n",
      "✅chunk from lang graph: ('custom', {'currentNode': 'generate', 'sessionId': 1, 'messageId': 1, 'answer': ' scenarios', 'keywords': [], 'suggestQuestions': []})\n",
      "✅chunk from lang graph: ('custom', {'currentNode': 'generate', 'sessionId': 1, 'messageId': 1, 'answer': '.', 'keywords': [], 'suggestQuestions': []})\n",
      "✅chunk from lang graph: ('custom', {'currentNode': 'generate', 'sessionId': 1, 'messageId': 1, 'answer': ' For', 'keywords': [], 'suggestQuestions': []})\n",
      "✅chunk from lang graph: ('custom', {'currentNode': 'generate', 'sessionId': 1, 'messageId': 1, 'answer': ' more', 'keywords': [], 'suggestQuestions': []})\n",
      "✅chunk from lang graph: ('custom', {'currentNode': 'generate', 'sessionId': 1, 'messageId': 1, 'answer': ' detailed', 'keywords': [], 'suggestQuestions': []})\n",
      "✅chunk from lang graph: ('custom', {'currentNode': 'generate', 'sessionId': 1, 'messageId': 1, 'answer': ' instructions', 'keywords': [], 'suggestQuestions': []})\n",
      "✅chunk from lang graph: ('custom', {'currentNode': 'generate', 'sessionId': 1, 'messageId': 1, 'answer': ',', 'keywords': [], 'suggestQuestions': []})\n",
      "✅chunk from lang graph: ('custom', {'currentNode': 'generate', 'sessionId': 1, 'messageId': 1, 'answer': ' refer', 'keywords': [], 'suggestQuestions': []})\n",
      "✅chunk from lang graph: ('custom', {'currentNode': 'generate', 'sessionId': 1, 'messageId': 1, 'answer': ' to', 'keywords': [], 'suggestQuestions': []})\n",
      "✅chunk from lang graph: ('custom', {'currentNode': 'generate', 'sessionId': 1, 'messageId': 1, 'answer': ' your', 'keywords': [], 'suggestQuestions': []})\n",
      "✅chunk from lang graph: ('custom', {'currentNode': 'generate', 'sessionId': 1, 'messageId': 1, 'answer': ' specific', 'keywords': [], 'suggestQuestions': []})\n",
      "✅chunk from lang graph: ('custom', {'currentNode': 'generate', 'sessionId': 1, 'messageId': 1, 'answer': ' model', 'keywords': [], 'suggestQuestions': []})\n",
      "✅chunk from lang graph: ('custom', {'currentNode': 'generate', 'sessionId': 1, 'messageId': 1, 'answer': \"'s\", 'keywords': [], 'suggestQuestions': []})\n",
      "✅chunk from lang graph: ('custom', {'currentNode': 'generate', 'sessionId': 1, 'messageId': 1, 'answer': ' manual', 'keywords': [], 'suggestQuestions': []})\n",
      "✅chunk from lang graph: ('custom', {'currentNode': 'generate', 'sessionId': 1, 'messageId': 1, 'answer': '.', 'keywords': [], 'suggestQuestions': []})\n",
      "✅chunk from lang graph: ('custom', {'currentNode': 'generate', 'sessionId': 1, 'messageId': 1, 'answer': '', 'keywords': [], 'suggestQuestions': []})\n"
     ]
    },
    {
     "data": {
      "text/html": [
       "<pre style=\"white-space:pre;overflow-x:auto;line-height:normal;font-family:Menlo,'DejaVu Sans Mono',consolas,'Courier New',monospace\"><span style=\"color: #7fbfbf; text-decoration-color: #7fbfbf\">[02/08/25 19:24:30] </span><span style=\"color: #000080; text-decoration-color: #000080\">INFO    </span> <span style=\"font-weight: bold\">[</span>_client.py:<span style=\"color: #008080; text-decoration-color: #008080; font-weight: bold\">1026</span><span style=\"font-weight: bold\">]</span> &gt;&gt; HTTP Request: <span style=\"color: #808000; text-decoration-color: #808000; font-weight: bold\">POST</span>                                <a href=\"file:///home/jeongho/git/SKN05-FINAL-1TEAM/jeongho/RAG_env/lib/python3.12/site-packages/httpx/_client.py\" target=\"_blank\"><span style=\"color: #7f7f7f; text-decoration-color: #7f7f7f\">_client.py</span></a><span style=\"color: #7f7f7f; text-decoration-color: #7f7f7f\">:</span><a href=\"file:///home/jeongho/git/SKN05-FINAL-1TEAM/jeongho/RAG_env/lib/python3.12/site-packages/httpx/_client.py#1026\" target=\"_blank\"><span style=\"color: #7f7f7f; text-decoration-color: #7f7f7f\">1026</span></a>\n",
       "<span style=\"color: #7fbfbf; text-decoration-color: #7fbfbf\">                    </span>         <span style=\"color: #0000ff; text-decoration-color: #0000ff; text-decoration: underline\">https://api.upstage.ai/v1/solar/chat/completions</span> <span style=\"color: #008000; text-decoration-color: #008000\">\"HTTP/1.1 200 OK\"</span>     <span style=\"color: #7f7f7f; text-decoration-color: #7f7f7f\">               </span>\n",
       "</pre>\n"
      ],
      "text/plain": [
       "\u001b[2;36m[02/08/25 19:24:30]\u001b[0m\u001b[2;36m \u001b[0m\u001b[34mINFO    \u001b[0m \u001b[1m[\u001b[0m_client.py:\u001b[1;36m1026\u001b[0m\u001b[1m]\u001b[0m >> HTTP Request: \u001b[1;33mPOST\u001b[0m                                \u001b]8;id=640936;file:///home/jeongho/git/SKN05-FINAL-1TEAM/jeongho/RAG_env/lib/python3.12/site-packages/httpx/_client.py\u001b\\\u001b[2m_client.py\u001b[0m\u001b]8;;\u001b\\\u001b[2m:\u001b[0m\u001b]8;id=259223;file:///home/jeongho/git/SKN05-FINAL-1TEAM/jeongho/RAG_env/lib/python3.12/site-packages/httpx/_client.py#1026\u001b\\\u001b[2m1026\u001b[0m\u001b]8;;\u001b\\\n",
       "\u001b[2;36m                    \u001b[0m         \u001b[4;94mhttps://api.upstage.ai/v1/solar/chat/completions\u001b[0m \u001b[32m\"HTTP/1.1 200 OK\"\u001b[0m     \u001b[2m               \u001b[0m\n"
      ]
     },
     "metadata": {},
     "output_type": "display_data"
    },
    {
     "name": "stdout",
     "output_type": "stream",
     "text": [
      "grounded\n",
      "---KEYWORD EXTRACT---\n"
     ]
    },
    {
     "data": {
      "text/html": [
       "<pre style=\"white-space:pre;overflow-x:auto;line-height:normal;font-family:Menlo,'DejaVu Sans Mono',consolas,'Courier New',monospace\"><span style=\"color: #7fbfbf; text-decoration-color: #7fbfbf\">[02/08/25 19:24:31] </span><span style=\"color: #000080; text-decoration-color: #000080\">INFO    </span> <span style=\"font-weight: bold\">[</span>_client.py:<span style=\"color: #008080; text-decoration-color: #008080; font-weight: bold\">1026</span><span style=\"font-weight: bold\">]</span> &gt;&gt; HTTP Request: <span style=\"color: #808000; text-decoration-color: #808000; font-weight: bold\">POST</span>                                <a href=\"file:///home/jeongho/git/SKN05-FINAL-1TEAM/jeongho/RAG_env/lib/python3.12/site-packages/httpx/_client.py\" target=\"_blank\"><span style=\"color: #7f7f7f; text-decoration-color: #7f7f7f\">_client.py</span></a><span style=\"color: #7f7f7f; text-decoration-color: #7f7f7f\">:</span><a href=\"file:///home/jeongho/git/SKN05-FINAL-1TEAM/jeongho/RAG_env/lib/python3.12/site-packages/httpx/_client.py#1026\" target=\"_blank\"><span style=\"color: #7f7f7f; text-decoration-color: #7f7f7f\">1026</span></a>\n",
       "<span style=\"color: #7fbfbf; text-decoration-color: #7fbfbf\">                    </span>         <span style=\"color: #0000ff; text-decoration-color: #0000ff; text-decoration: underline\">https://api.openai.com/v1/chat/completions</span> <span style=\"color: #008000; text-decoration-color: #008000\">\"HTTP/1.1 200 OK\"</span>           <span style=\"color: #7f7f7f; text-decoration-color: #7f7f7f\">               </span>\n",
       "</pre>\n"
      ],
      "text/plain": [
       "\u001b[2;36m[02/08/25 19:24:31]\u001b[0m\u001b[2;36m \u001b[0m\u001b[34mINFO    \u001b[0m \u001b[1m[\u001b[0m_client.py:\u001b[1;36m1026\u001b[0m\u001b[1m]\u001b[0m >> HTTP Request: \u001b[1;33mPOST\u001b[0m                                \u001b]8;id=975688;file:///home/jeongho/git/SKN05-FINAL-1TEAM/jeongho/RAG_env/lib/python3.12/site-packages/httpx/_client.py\u001b\\\u001b[2m_client.py\u001b[0m\u001b]8;;\u001b\\\u001b[2m:\u001b[0m\u001b]8;id=933244;file:///home/jeongho/git/SKN05-FINAL-1TEAM/jeongho/RAG_env/lib/python3.12/site-packages/httpx/_client.py#1026\u001b\\\u001b[2m1026\u001b[0m\u001b]8;;\u001b\\\n",
       "\u001b[2;36m                    \u001b[0m         \u001b[4;94mhttps://api.openai.com/v1/chat/completions\u001b[0m \u001b[32m\"HTTP/1.1 200 OK\"\u001b[0m           \u001b[2m               \u001b[0m\n"
      ]
     },
     "metadata": {},
     "output_type": "display_data"
    },
    {
     "name": "stdout",
     "output_type": "stream",
     "text": [
      "✅chunk from lang graph: ('custom', {'currentNode': 'generate', 'answer': '', 'keywords': ['Manual Focus', 'AF-C (Continuous AF)', 'Lens Focus Ring'], 'suggestQuestions': [], 'sessionId': 1, 'messageId': 1})\n",
      "---SUGGEST QUESTION---\n"
     ]
    },
    {
     "data": {
      "text/html": [
       "<pre style=\"white-space:pre;overflow-x:auto;line-height:normal;font-family:Menlo,'DejaVu Sans Mono',consolas,'Courier New',monospace\"><span style=\"color: #7fbfbf; text-decoration-color: #7fbfbf\">[02/08/25 19:24:33] </span><span style=\"color: #000080; text-decoration-color: #000080\">INFO    </span> <span style=\"font-weight: bold\">[</span>_client.py:<span style=\"color: #008080; text-decoration-color: #008080; font-weight: bold\">1026</span><span style=\"font-weight: bold\">]</span> &gt;&gt; HTTP Request: <span style=\"color: #808000; text-decoration-color: #808000; font-weight: bold\">POST</span>                                <a href=\"file:///home/jeongho/git/SKN05-FINAL-1TEAM/jeongho/RAG_env/lib/python3.12/site-packages/httpx/_client.py\" target=\"_blank\"><span style=\"color: #7f7f7f; text-decoration-color: #7f7f7f\">_client.py</span></a><span style=\"color: #7f7f7f; text-decoration-color: #7f7f7f\">:</span><a href=\"file:///home/jeongho/git/SKN05-FINAL-1TEAM/jeongho/RAG_env/lib/python3.12/site-packages/httpx/_client.py#1026\" target=\"_blank\"><span style=\"color: #7f7f7f; text-decoration-color: #7f7f7f\">1026</span></a>\n",
       "<span style=\"color: #7fbfbf; text-decoration-color: #7fbfbf\">                    </span>         <span style=\"color: #0000ff; text-decoration-color: #0000ff; text-decoration: underline\">https://api.openai.com/v1/chat/completions</span> <span style=\"color: #008000; text-decoration-color: #008000\">\"HTTP/1.1 200 OK\"</span>           <span style=\"color: #7f7f7f; text-decoration-color: #7f7f7f\">               </span>\n",
       "</pre>\n"
      ],
      "text/plain": [
       "\u001b[2;36m[02/08/25 19:24:33]\u001b[0m\u001b[2;36m \u001b[0m\u001b[34mINFO    \u001b[0m \u001b[1m[\u001b[0m_client.py:\u001b[1;36m1026\u001b[0m\u001b[1m]\u001b[0m >> HTTP Request: \u001b[1;33mPOST\u001b[0m                                \u001b]8;id=69307;file:///home/jeongho/git/SKN05-FINAL-1TEAM/jeongho/RAG_env/lib/python3.12/site-packages/httpx/_client.py\u001b\\\u001b[2m_client.py\u001b[0m\u001b]8;;\u001b\\\u001b[2m:\u001b[0m\u001b]8;id=328118;file:///home/jeongho/git/SKN05-FINAL-1TEAM/jeongho/RAG_env/lib/python3.12/site-packages/httpx/_client.py#1026\u001b\\\u001b[2m1026\u001b[0m\u001b]8;;\u001b\\\n",
       "\u001b[2;36m                    \u001b[0m         \u001b[4;94mhttps://api.openai.com/v1/chat/completions\u001b[0m \u001b[32m\"HTTP/1.1 200 OK\"\u001b[0m           \u001b[2m               \u001b[0m\n"
      ]
     },
     "metadata": {},
     "output_type": "display_data"
    },
    {
     "name": "stdout",
     "output_type": "stream",
     "text": [
      "✅chunk from lang graph: ('custom', {'currentNode': 'generate', 'answer': '', 'keywords': ['Manual Focus', 'AF-C (Continuous AF)', 'Lens Focus Ring'], 'suggestQuestions': ['수동 초점 모드에서 초점 링의 회전 방향을 변경하는 방법은 무엇인가요?', 'AF-C 모드에서 초점 추적 설정을 사용자 정의하는 방법은 무엇인가요?', 'PRE-AF 기능을 활성화하면 어떤 상황에서 유용한가요?'], 'sessionId': 1, 'messageId': 1})\n"
     ]
    }
   ],
   "source": [
    "from langgraph.types import Command\n",
    "thread = {\"configurable\": {\"thread_id\": \"abcd\"}}\n",
    "def sync_function():\n",
    "    async def run():\n",
    "        async for chunk in app.astream(input=Command(resume=\"fuji\"),config=thread, stream_mode=[\"custom\"]):  \n",
    "            print(f\"✅chunk from lang graph: {chunk}\")\n",
    "\n",
    "    asyncio.run(run()) \n",
    "\n",
    "sync_function()"
   ]
  },
  {
   "cell_type": "markdown",
   "metadata": {},
   "source": [
    "# Canon"
   ]
  },
  {
   "cell_type": "code",
   "execution_count": 2,
   "metadata": {},
   "outputs": [
    {
     "data": {
      "text/html": [
       "<pre style=\"white-space:pre;overflow-x:auto;line-height:normal;font-family:Menlo,'DejaVu Sans Mono',consolas,'Courier New',monospace\"><span style=\"color: #7fbfbf; text-decoration-color: #7fbfbf\">[02/09/25 04:34:32] </span><span style=\"color: #000080; text-decoration-color: #000080\">INFO    </span> <span style=\"font-weight: bold\">[</span>_client.py:<span style=\"color: #008080; text-decoration-color: #008080; font-weight: bold\">1026</span><span style=\"font-weight: bold\">]</span> &gt;&gt; HTTP Request: <span style=\"color: #808000; text-decoration-color: #808000; font-weight: bold\">POST</span>                                <a href=\"file:///home/jeongho/git/SKN05-FINAL-1TEAM/jeongho/RAG_env/lib/python3.12/site-packages/httpx/_client.py\" target=\"_blank\"><span style=\"color: #7f7f7f; text-decoration-color: #7f7f7f\">_client.py</span></a><span style=\"color: #7f7f7f; text-decoration-color: #7f7f7f\">:</span><a href=\"file:///home/jeongho/git/SKN05-FINAL-1TEAM/jeongho/RAG_env/lib/python3.12/site-packages/httpx/_client.py#1026\" target=\"_blank\"><span style=\"color: #7f7f7f; text-decoration-color: #7f7f7f\">1026</span></a>\n",
       "<span style=\"color: #7fbfbf; text-decoration-color: #7fbfbf\">                    </span>         <span style=\"color: #0000ff; text-decoration-color: #0000ff; text-decoration: underline\">https://api.openai.com/v1/chat/completions</span> <span style=\"color: #008000; text-decoration-color: #008000\">\"HTTP/1.1 200 OK\"</span>           <span style=\"color: #7f7f7f; text-decoration-color: #7f7f7f\">               </span>\n",
       "</pre>\n"
      ],
      "text/plain": [
       "\u001b[2;36m[02/09/25 04:34:32]\u001b[0m\u001b[2;36m \u001b[0m\u001b[34mINFO    \u001b[0m \u001b[1m[\u001b[0m_client.py:\u001b[1;36m1026\u001b[0m\u001b[1m]\u001b[0m >> HTTP Request: \u001b[1;33mPOST\u001b[0m                                \u001b]8;id=53858;file:///home/jeongho/git/SKN05-FINAL-1TEAM/jeongho/RAG_env/lib/python3.12/site-packages/httpx/_client.py\u001b\\\u001b[2m_client.py\u001b[0m\u001b]8;;\u001b\\\u001b[2m:\u001b[0m\u001b]8;id=820452;file:///home/jeongho/git/SKN05-FINAL-1TEAM/jeongho/RAG_env/lib/python3.12/site-packages/httpx/_client.py#1026\u001b\\\u001b[2m1026\u001b[0m\u001b]8;;\u001b\\\n",
       "\u001b[2;36m                    \u001b[0m         \u001b[4;94mhttps://api.openai.com/v1/chat/completions\u001b[0m \u001b[32m\"HTTP/1.1 200 OK\"\u001b[0m           \u001b[2m               \u001b[0m\n"
      ]
     },
     "metadata": {},
     "output_type": "display_data"
    },
    {
     "name": "stdout",
     "output_type": "stream",
     "text": [
      "✅chunk from lang graph: ('custom', {'currentNode': '질문 분석중', 'answer': '질문 분석중', 'keywords': [], 'suggestQuestions': [], 'sessionId': 1, 'messageId': 1})\n",
      "✅chunk from lang graph: ('custom', {'currentNode': 'decide_next_step', 'answer': 'decide_next_step', 'keywords': [], 'suggestQuestions': [], 'sessionId': 1, 'messageId': 1})\n",
      "{'question': '초점을 어떻게 조절해?', 'next_step': 'ask_brand', 'validation_results': {'camera_question': True, 'is_setting': True, 'choose_brand': None}, 'sessionId': 1, 'messageId': 1}\n",
      "✅chunk from lang graph: ('custom', {'currentNode': 'reverseQ', 'answer': '알고 싶은 카메라 브랜드와 모델이 있으신가요?', 'keywords': [], 'suggestQuestions': [], 'sessionId': 1, 'messageId': 1})\n"
     ]
    }
   ],
   "source": [
    "import asyncio\n",
    "thread = {\"configurable\": {\"thread_id\": \"abcd\"}}\n",
    "def sync_function():\n",
    "    async def run():\n",
    "        async for chunk in app.astream(input={\"question\": \"초점을 어떻게 조절해?\", \"sessionId\": 1, \"messageId\": 1},config=thread, stream_mode=[\"custom\"]):\n",
    "            print(f\"✅chunk from lang graph: {chunk}\")\n",
    "\n",
    "    asyncio.run(run()) \n",
    "\n",
    "sync_function()"
   ]
  },
  {
   "cell_type": "code",
   "execution_count": 6,
   "metadata": {},
   "outputs": [
    {
     "name": "stdout",
     "output_type": "stream",
     "text": [
      "{'question': '초점을 어떻게 조절해?', 'brand': 'canon', 'next_step': 'ask_brand', 'validation_results': {'camera_question': True, 'is_setting': True, 'choose_brand': None}, 'sessionId': 1, 'messageId': 1}\n",
      "---[CANON] QUERY GENERTATE---\n"
     ]
    },
    {
     "data": {
      "text/html": [
       "<pre style=\"white-space:pre;overflow-x:auto;line-height:normal;font-family:Menlo,'DejaVu Sans Mono',consolas,'Courier New',monospace\"><span style=\"color: #7fbfbf; text-decoration-color: #7fbfbf\">[02/09/25 04:02:41] </span><span style=\"color: #000080; text-decoration-color: #000080\">INFO    </span> <span style=\"font-weight: bold\">[</span>_client.py:<span style=\"color: #008080; text-decoration-color: #008080; font-weight: bold\">1026</span><span style=\"font-weight: bold\">]</span> &gt;&gt; HTTP Request: <span style=\"color: #808000; text-decoration-color: #808000; font-weight: bold\">POST</span>                                <a href=\"file:///home/jeongho/git/SKN05-FINAL-1TEAM/jeongho/RAG_env/lib/python3.12/site-packages/httpx/_client.py\" target=\"_blank\"><span style=\"color: #7f7f7f; text-decoration-color: #7f7f7f\">_client.py</span></a><span style=\"color: #7f7f7f; text-decoration-color: #7f7f7f\">:</span><a href=\"file:///home/jeongho/git/SKN05-FINAL-1TEAM/jeongho/RAG_env/lib/python3.12/site-packages/httpx/_client.py#1026\" target=\"_blank\"><span style=\"color: #7f7f7f; text-decoration-color: #7f7f7f\">1026</span></a>\n",
       "<span style=\"color: #7fbfbf; text-decoration-color: #7fbfbf\">                    </span>         <span style=\"color: #0000ff; text-decoration-color: #0000ff; text-decoration: underline\">https://api.openai.com/v1/chat/completions</span> <span style=\"color: #008000; text-decoration-color: #008000\">\"HTTP/1.1 200 OK\"</span>           <span style=\"color: #7f7f7f; text-decoration-color: #7f7f7f\">               </span>\n",
       "</pre>\n"
      ],
      "text/plain": [
       "\u001b[2;36m[02/09/25 04:02:41]\u001b[0m\u001b[2;36m \u001b[0m\u001b[34mINFO    \u001b[0m \u001b[1m[\u001b[0m_client.py:\u001b[1;36m1026\u001b[0m\u001b[1m]\u001b[0m >> HTTP Request: \u001b[1;33mPOST\u001b[0m                                \u001b]8;id=963931;file:///home/jeongho/git/SKN05-FINAL-1TEAM/jeongho/RAG_env/lib/python3.12/site-packages/httpx/_client.py\u001b\\\u001b[2m_client.py\u001b[0m\u001b]8;;\u001b\\\u001b[2m:\u001b[0m\u001b]8;id=546156;file:///home/jeongho/git/SKN05-FINAL-1TEAM/jeongho/RAG_env/lib/python3.12/site-packages/httpx/_client.py#1026\u001b\\\u001b[2m1026\u001b[0m\u001b]8;;\u001b\\\n",
       "\u001b[2;36m                    \u001b[0m         \u001b[4;94mhttps://api.openai.com/v1/chat/completions\u001b[0m \u001b[32m\"HTTP/1.1 200 OK\"\u001b[0m           \u001b[2m               \u001b[0m\n"
      ]
     },
     "metadata": {},
     "output_type": "display_data"
    },
    {
     "name": "stdout",
     "output_type": "stream",
     "text": [
      "---[CANON] ENSEMBLE RETRIEVE---\n",
      "질문 : 초점 조절 방법은 무엇인가요?\n",
      "---[CANON] ENSEMBLE RETRIEVE---\n",
      "질문 : 어떻게 하면 초점을 맞출 수 있나요?\n",
      "---[CANON] ENSEMBLE RETRIEVE---\n",
      "질문 : 초점을 조정하는 절차는 어떻게 되나요?\n",
      "---[CANON] ENSEMBLE RETRIEVE---\n",
      "질문 : 초점 조절을 위한 팁이 있나요?\n",
      "---[CANON] ENSEMBLE RETRIEVE---\n",
      "질문 : 초점 조정에 필요한 도구는 무엇인가요?\n"
     ]
    },
    {
     "data": {
      "text/html": [
       "<pre style=\"white-space:pre;overflow-x:auto;line-height:normal;font-family:Menlo,'DejaVu Sans Mono',consolas,'Courier New',monospace\"><span style=\"color: #7fbfbf; text-decoration-color: #7fbfbf\">                    </span><span style=\"color: #000080; text-decoration-color: #000080\">INFO    </span> <span style=\"font-weight: bold\">[</span>discover_namespace_packages.py:<span style=\"color: #008080; text-decoration-color: #008080; font-weight: bold\">12</span><span style=\"font-weight: bold\">]</span> &gt;&gt; Discovering   <a href=\"file:///home/jeongho/git/SKN05-FINAL-1TEAM/jeongho/RAG_env/lib/python3.12/site-packages/pinecone_plugin_interface/actions/discover_namespace_packages.py\" target=\"_blank\"><span style=\"color: #7f7f7f; text-decoration-color: #7f7f7f\">discover_namespace_packages.py</span></a><span style=\"color: #7f7f7f; text-decoration-color: #7f7f7f\">:</span><a href=\"file:///home/jeongho/git/SKN05-FINAL-1TEAM/jeongho/RAG_env/lib/python3.12/site-packages/pinecone_plugin_interface/actions/discover_namespace_packages.py#12\" target=\"_blank\"><span style=\"color: #7f7f7f; text-decoration-color: #7f7f7f\">12</span></a>\n",
       "<span style=\"color: #7fbfbf; text-decoration-color: #7fbfbf\">                    </span>         subpackages in                                       <span style=\"color: #7f7f7f; text-decoration-color: #7f7f7f\">                                 </span>\n",
       "<span style=\"color: #7fbfbf; text-decoration-color: #7fbfbf\">                    </span>         <span style=\"color: #800080; text-decoration-color: #800080; font-weight: bold\">_NamespacePath</span><span style=\"font-weight: bold\">([</span><span style=\"color: #008000; text-decoration-color: #008000\">'/home/jeongho/git/SKN05-FINAL-1TEAM</span> <span style=\"color: #7f7f7f; text-decoration-color: #7f7f7f\">                                 </span>\n",
       "<span style=\"color: #7fbfbf; text-decoration-color: #7fbfbf\">                    </span>         <span style=\"color: #008000; text-decoration-color: #008000\">/jeongho/RAG_env/lib/python3.12/site-packages/pineco</span> <span style=\"color: #7f7f7f; text-decoration-color: #7f7f7f\">                                 </span>\n",
       "<span style=\"color: #7fbfbf; text-decoration-color: #7fbfbf\">                    </span>         <span style=\"color: #008000; text-decoration-color: #008000\">ne_plugins'</span><span style=\"font-weight: bold\">])</span>                                        <span style=\"color: #7f7f7f; text-decoration-color: #7f7f7f\">                                 </span>\n",
       "</pre>\n"
      ],
      "text/plain": [
       "\u001b[2;36m                   \u001b[0m\u001b[2;36m \u001b[0m\u001b[34mINFO    \u001b[0m \u001b[1m[\u001b[0mdiscover_namespace_packages.py:\u001b[1;36m12\u001b[0m\u001b[1m]\u001b[0m >> Discovering   \u001b]8;id=106891;file:///home/jeongho/git/SKN05-FINAL-1TEAM/jeongho/RAG_env/lib/python3.12/site-packages/pinecone_plugin_interface/actions/discover_namespace_packages.py\u001b\\\u001b[2mdiscover_namespace_packages.py\u001b[0m\u001b]8;;\u001b\\\u001b[2m:\u001b[0m\u001b]8;id=558400;file:///home/jeongho/git/SKN05-FINAL-1TEAM/jeongho/RAG_env/lib/python3.12/site-packages/pinecone_plugin_interface/actions/discover_namespace_packages.py#12\u001b\\\u001b[2m12\u001b[0m\u001b]8;;\u001b\\\n",
       "\u001b[2;36m                    \u001b[0m         subpackages in                                       \u001b[2m                                 \u001b[0m\n",
       "\u001b[2;36m                    \u001b[0m         \u001b[1;35m_NamespacePath\u001b[0m\u001b[1m(\u001b[0m\u001b[1m[\u001b[0m\u001b[32m'/home/jeongho/git/SKN05-FINAL-1TEAM\u001b[0m \u001b[2m                                 \u001b[0m\n",
       "\u001b[2;36m                    \u001b[0m         \u001b[32m/jeongho/RAG_env/lib/python3.12/site-packages/pineco\u001b[0m \u001b[2m                                 \u001b[0m\n",
       "\u001b[2;36m                    \u001b[0m         \u001b[32mne_plugins'\u001b[0m\u001b[1m]\u001b[0m\u001b[1m)\u001b[0m                                        \u001b[2m                                 \u001b[0m\n"
      ]
     },
     "metadata": {},
     "output_type": "display_data"
    },
    {
     "data": {
      "text/html": [
       "<pre style=\"white-space:pre;overflow-x:auto;line-height:normal;font-family:Menlo,'DejaVu Sans Mono',consolas,'Courier New',monospace\"><span style=\"color: #7fbfbf; text-decoration-color: #7fbfbf\">                    </span><span style=\"color: #000080; text-decoration-color: #000080\">INFO    </span> <span style=\"font-weight: bold\">[</span>discover_namespace_packages.py:<span style=\"color: #008080; text-decoration-color: #008080; font-weight: bold\">12</span><span style=\"font-weight: bold\">]</span> &gt;&gt; Discovering   <a href=\"file:///home/jeongho/git/SKN05-FINAL-1TEAM/jeongho/RAG_env/lib/python3.12/site-packages/pinecone_plugin_interface/actions/discover_namespace_packages.py\" target=\"_blank\"><span style=\"color: #7f7f7f; text-decoration-color: #7f7f7f\">discover_namespace_packages.py</span></a><span style=\"color: #7f7f7f; text-decoration-color: #7f7f7f\">:</span><a href=\"file:///home/jeongho/git/SKN05-FINAL-1TEAM/jeongho/RAG_env/lib/python3.12/site-packages/pinecone_plugin_interface/actions/discover_namespace_packages.py#12\" target=\"_blank\"><span style=\"color: #7f7f7f; text-decoration-color: #7f7f7f\">12</span></a>\n",
       "<span style=\"color: #7fbfbf; text-decoration-color: #7fbfbf\">                    </span>         subpackages in                                       <span style=\"color: #7f7f7f; text-decoration-color: #7f7f7f\">                                 </span>\n",
       "<span style=\"color: #7fbfbf; text-decoration-color: #7fbfbf\">                    </span>         <span style=\"color: #800080; text-decoration-color: #800080; font-weight: bold\">_NamespacePath</span><span style=\"font-weight: bold\">([</span><span style=\"color: #008000; text-decoration-color: #008000\">'/home/jeongho/git/SKN05-FINAL-1TEAM</span> <span style=\"color: #7f7f7f; text-decoration-color: #7f7f7f\">                                 </span>\n",
       "<span style=\"color: #7fbfbf; text-decoration-color: #7fbfbf\">                    </span>         <span style=\"color: #008000; text-decoration-color: #008000\">/jeongho/RAG_env/lib/python3.12/site-packages/pineco</span> <span style=\"color: #7f7f7f; text-decoration-color: #7f7f7f\">                                 </span>\n",
       "<span style=\"color: #7fbfbf; text-decoration-color: #7fbfbf\">                    </span>         <span style=\"color: #008000; text-decoration-color: #008000\">ne_plugins'</span><span style=\"font-weight: bold\">])</span>                                        <span style=\"color: #7f7f7f; text-decoration-color: #7f7f7f\">                                 </span>\n",
       "</pre>\n"
      ],
      "text/plain": [
       "\u001b[2;36m                   \u001b[0m\u001b[2;36m \u001b[0m\u001b[34mINFO    \u001b[0m \u001b[1m[\u001b[0mdiscover_namespace_packages.py:\u001b[1;36m12\u001b[0m\u001b[1m]\u001b[0m >> Discovering   \u001b]8;id=163805;file:///home/jeongho/git/SKN05-FINAL-1TEAM/jeongho/RAG_env/lib/python3.12/site-packages/pinecone_plugin_interface/actions/discover_namespace_packages.py\u001b\\\u001b[2mdiscover_namespace_packages.py\u001b[0m\u001b]8;;\u001b\\\u001b[2m:\u001b[0m\u001b]8;id=792986;file:///home/jeongho/git/SKN05-FINAL-1TEAM/jeongho/RAG_env/lib/python3.12/site-packages/pinecone_plugin_interface/actions/discover_namespace_packages.py#12\u001b\\\u001b[2m12\u001b[0m\u001b]8;;\u001b\\\n",
       "\u001b[2;36m                    \u001b[0m         subpackages in                                       \u001b[2m                                 \u001b[0m\n",
       "\u001b[2;36m                    \u001b[0m         \u001b[1;35m_NamespacePath\u001b[0m\u001b[1m(\u001b[0m\u001b[1m[\u001b[0m\u001b[32m'/home/jeongho/git/SKN05-FINAL-1TEAM\u001b[0m \u001b[2m                                 \u001b[0m\n",
       "\u001b[2;36m                    \u001b[0m         \u001b[32m/jeongho/RAG_env/lib/python3.12/site-packages/pineco\u001b[0m \u001b[2m                                 \u001b[0m\n",
       "\u001b[2;36m                    \u001b[0m         \u001b[32mne_plugins'\u001b[0m\u001b[1m]\u001b[0m\u001b[1m)\u001b[0m                                        \u001b[2m                                 \u001b[0m\n"
      ]
     },
     "metadata": {},
     "output_type": "display_data"
    },
    {
     "data": {
      "text/html": [
       "<pre style=\"white-space:pre;overflow-x:auto;line-height:normal;font-family:Menlo,'DejaVu Sans Mono',consolas,'Courier New',monospace\"><span style=\"color: #7fbfbf; text-decoration-color: #7fbfbf\">                    </span><span style=\"color: #000080; text-decoration-color: #000080\">INFO    </span> <span style=\"font-weight: bold\">[</span>discover_namespace_packages.py:<span style=\"color: #008080; text-decoration-color: #008080; font-weight: bold\">12</span><span style=\"font-weight: bold\">]</span> &gt;&gt; Discovering   <a href=\"file:///home/jeongho/git/SKN05-FINAL-1TEAM/jeongho/RAG_env/lib/python3.12/site-packages/pinecone_plugin_interface/actions/discover_namespace_packages.py\" target=\"_blank\"><span style=\"color: #7f7f7f; text-decoration-color: #7f7f7f\">discover_namespace_packages.py</span></a><span style=\"color: #7f7f7f; text-decoration-color: #7f7f7f\">:</span><a href=\"file:///home/jeongho/git/SKN05-FINAL-1TEAM/jeongho/RAG_env/lib/python3.12/site-packages/pinecone_plugin_interface/actions/discover_namespace_packages.py#12\" target=\"_blank\"><span style=\"color: #7f7f7f; text-decoration-color: #7f7f7f\">12</span></a>\n",
       "<span style=\"color: #7fbfbf; text-decoration-color: #7fbfbf\">                    </span>         subpackages in                                       <span style=\"color: #7f7f7f; text-decoration-color: #7f7f7f\">                                 </span>\n",
       "<span style=\"color: #7fbfbf; text-decoration-color: #7fbfbf\">                    </span>         <span style=\"color: #800080; text-decoration-color: #800080; font-weight: bold\">_NamespacePath</span><span style=\"font-weight: bold\">([</span><span style=\"color: #008000; text-decoration-color: #008000\">'/home/jeongho/git/SKN05-FINAL-1TEAM</span> <span style=\"color: #7f7f7f; text-decoration-color: #7f7f7f\">                                 </span>\n",
       "<span style=\"color: #7fbfbf; text-decoration-color: #7fbfbf\">                    </span>         <span style=\"color: #008000; text-decoration-color: #008000\">/jeongho/RAG_env/lib/python3.12/site-packages/pineco</span> <span style=\"color: #7f7f7f; text-decoration-color: #7f7f7f\">                                 </span>\n",
       "<span style=\"color: #7fbfbf; text-decoration-color: #7fbfbf\">                    </span>         <span style=\"color: #008000; text-decoration-color: #008000\">ne_plugins'</span><span style=\"font-weight: bold\">])</span>                                        <span style=\"color: #7f7f7f; text-decoration-color: #7f7f7f\">                                 </span>\n",
       "</pre>\n"
      ],
      "text/plain": [
       "\u001b[2;36m                   \u001b[0m\u001b[2;36m \u001b[0m\u001b[34mINFO    \u001b[0m \u001b[1m[\u001b[0mdiscover_namespace_packages.py:\u001b[1;36m12\u001b[0m\u001b[1m]\u001b[0m >> Discovering   \u001b]8;id=32494;file:///home/jeongho/git/SKN05-FINAL-1TEAM/jeongho/RAG_env/lib/python3.12/site-packages/pinecone_plugin_interface/actions/discover_namespace_packages.py\u001b\\\u001b[2mdiscover_namespace_packages.py\u001b[0m\u001b]8;;\u001b\\\u001b[2m:\u001b[0m\u001b]8;id=629328;file:///home/jeongho/git/SKN05-FINAL-1TEAM/jeongho/RAG_env/lib/python3.12/site-packages/pinecone_plugin_interface/actions/discover_namespace_packages.py#12\u001b\\\u001b[2m12\u001b[0m\u001b]8;;\u001b\\\n",
       "\u001b[2;36m                    \u001b[0m         subpackages in                                       \u001b[2m                                 \u001b[0m\n",
       "\u001b[2;36m                    \u001b[0m         \u001b[1;35m_NamespacePath\u001b[0m\u001b[1m(\u001b[0m\u001b[1m[\u001b[0m\u001b[32m'/home/jeongho/git/SKN05-FINAL-1TEAM\u001b[0m \u001b[2m                                 \u001b[0m\n",
       "\u001b[2;36m                    \u001b[0m         \u001b[32m/jeongho/RAG_env/lib/python3.12/site-packages/pineco\u001b[0m \u001b[2m                                 \u001b[0m\n",
       "\u001b[2;36m                    \u001b[0m         \u001b[32mne_plugins'\u001b[0m\u001b[1m]\u001b[0m\u001b[1m)\u001b[0m                                        \u001b[2m                                 \u001b[0m\n"
      ]
     },
     "metadata": {},
     "output_type": "display_data"
    },
    {
     "data": {
      "text/html": [
       "<pre style=\"white-space:pre;overflow-x:auto;line-height:normal;font-family:Menlo,'DejaVu Sans Mono',consolas,'Courier New',monospace\"><span style=\"color: #7fbfbf; text-decoration-color: #7fbfbf\">                    </span><span style=\"color: #000080; text-decoration-color: #000080\">INFO    </span> <span style=\"font-weight: bold\">[</span>discover_namespace_packages.py:<span style=\"color: #008080; text-decoration-color: #008080; font-weight: bold\">12</span><span style=\"font-weight: bold\">]</span> &gt;&gt; Discovering   <a href=\"file:///home/jeongho/git/SKN05-FINAL-1TEAM/jeongho/RAG_env/lib/python3.12/site-packages/pinecone_plugin_interface/actions/discover_namespace_packages.py\" target=\"_blank\"><span style=\"color: #7f7f7f; text-decoration-color: #7f7f7f\">discover_namespace_packages.py</span></a><span style=\"color: #7f7f7f; text-decoration-color: #7f7f7f\">:</span><a href=\"file:///home/jeongho/git/SKN05-FINAL-1TEAM/jeongho/RAG_env/lib/python3.12/site-packages/pinecone_plugin_interface/actions/discover_namespace_packages.py#12\" target=\"_blank\"><span style=\"color: #7f7f7f; text-decoration-color: #7f7f7f\">12</span></a>\n",
       "<span style=\"color: #7fbfbf; text-decoration-color: #7fbfbf\">                    </span>         subpackages in                                       <span style=\"color: #7f7f7f; text-decoration-color: #7f7f7f\">                                 </span>\n",
       "<span style=\"color: #7fbfbf; text-decoration-color: #7fbfbf\">                    </span>         <span style=\"color: #800080; text-decoration-color: #800080; font-weight: bold\">_NamespacePath</span><span style=\"font-weight: bold\">([</span><span style=\"color: #008000; text-decoration-color: #008000\">'/home/jeongho/git/SKN05-FINAL-1TEAM</span> <span style=\"color: #7f7f7f; text-decoration-color: #7f7f7f\">                                 </span>\n",
       "<span style=\"color: #7fbfbf; text-decoration-color: #7fbfbf\">                    </span>         <span style=\"color: #008000; text-decoration-color: #008000\">/jeongho/RAG_env/lib/python3.12/site-packages/pineco</span> <span style=\"color: #7f7f7f; text-decoration-color: #7f7f7f\">                                 </span>\n",
       "<span style=\"color: #7fbfbf; text-decoration-color: #7fbfbf\">                    </span>         <span style=\"color: #008000; text-decoration-color: #008000\">ne_plugins'</span><span style=\"font-weight: bold\">])</span>                                        <span style=\"color: #7f7f7f; text-decoration-color: #7f7f7f\">                                 </span>\n",
       "</pre>\n"
      ],
      "text/plain": [
       "\u001b[2;36m                   \u001b[0m\u001b[2;36m \u001b[0m\u001b[34mINFO    \u001b[0m \u001b[1m[\u001b[0mdiscover_namespace_packages.py:\u001b[1;36m12\u001b[0m\u001b[1m]\u001b[0m >> Discovering   \u001b]8;id=169827;file:///home/jeongho/git/SKN05-FINAL-1TEAM/jeongho/RAG_env/lib/python3.12/site-packages/pinecone_plugin_interface/actions/discover_namespace_packages.py\u001b\\\u001b[2mdiscover_namespace_packages.py\u001b[0m\u001b]8;;\u001b\\\u001b[2m:\u001b[0m\u001b]8;id=672483;file:///home/jeongho/git/SKN05-FINAL-1TEAM/jeongho/RAG_env/lib/python3.12/site-packages/pinecone_plugin_interface/actions/discover_namespace_packages.py#12\u001b\\\u001b[2m12\u001b[0m\u001b]8;;\u001b\\\n",
       "\u001b[2;36m                    \u001b[0m         subpackages in                                       \u001b[2m                                 \u001b[0m\n",
       "\u001b[2;36m                    \u001b[0m         \u001b[1;35m_NamespacePath\u001b[0m\u001b[1m(\u001b[0m\u001b[1m[\u001b[0m\u001b[32m'/home/jeongho/git/SKN05-FINAL-1TEAM\u001b[0m \u001b[2m                                 \u001b[0m\n",
       "\u001b[2;36m                    \u001b[0m         \u001b[32m/jeongho/RAG_env/lib/python3.12/site-packages/pineco\u001b[0m \u001b[2m                                 \u001b[0m\n",
       "\u001b[2;36m                    \u001b[0m         \u001b[32mne_plugins'\u001b[0m\u001b[1m]\u001b[0m\u001b[1m)\u001b[0m                                        \u001b[2m                                 \u001b[0m\n"
      ]
     },
     "metadata": {},
     "output_type": "display_data"
    },
    {
     "data": {
      "text/html": [
       "<pre style=\"white-space:pre;overflow-x:auto;line-height:normal;font-family:Menlo,'DejaVu Sans Mono',consolas,'Courier New',monospace\"><span style=\"color: #7fbfbf; text-decoration-color: #7fbfbf\">                    </span><span style=\"color: #000080; text-decoration-color: #000080\">INFO    </span> <span style=\"font-weight: bold\">[</span>discover_namespace_packages.py:<span style=\"color: #008080; text-decoration-color: #008080; font-weight: bold\">12</span><span style=\"font-weight: bold\">]</span> &gt;&gt; Discovering   <a href=\"file:///home/jeongho/git/SKN05-FINAL-1TEAM/jeongho/RAG_env/lib/python3.12/site-packages/pinecone_plugin_interface/actions/discover_namespace_packages.py\" target=\"_blank\"><span style=\"color: #7f7f7f; text-decoration-color: #7f7f7f\">discover_namespace_packages.py</span></a><span style=\"color: #7f7f7f; text-decoration-color: #7f7f7f\">:</span><a href=\"file:///home/jeongho/git/SKN05-FINAL-1TEAM/jeongho/RAG_env/lib/python3.12/site-packages/pinecone_plugin_interface/actions/discover_namespace_packages.py#12\" target=\"_blank\"><span style=\"color: #7f7f7f; text-decoration-color: #7f7f7f\">12</span></a>\n",
       "<span style=\"color: #7fbfbf; text-decoration-color: #7fbfbf\">                    </span>         subpackages in                                       <span style=\"color: #7f7f7f; text-decoration-color: #7f7f7f\">                                 </span>\n",
       "<span style=\"color: #7fbfbf; text-decoration-color: #7fbfbf\">                    </span>         <span style=\"color: #800080; text-decoration-color: #800080; font-weight: bold\">_NamespacePath</span><span style=\"font-weight: bold\">([</span><span style=\"color: #008000; text-decoration-color: #008000\">'/home/jeongho/git/SKN05-FINAL-1TEAM</span> <span style=\"color: #7f7f7f; text-decoration-color: #7f7f7f\">                                 </span>\n",
       "<span style=\"color: #7fbfbf; text-decoration-color: #7fbfbf\">                    </span>         <span style=\"color: #008000; text-decoration-color: #008000\">/jeongho/RAG_env/lib/python3.12/site-packages/pineco</span> <span style=\"color: #7f7f7f; text-decoration-color: #7f7f7f\">                                 </span>\n",
       "<span style=\"color: #7fbfbf; text-decoration-color: #7fbfbf\">                    </span>         <span style=\"color: #008000; text-decoration-color: #008000\">ne_plugins'</span><span style=\"font-weight: bold\">])</span>                                        <span style=\"color: #7f7f7f; text-decoration-color: #7f7f7f\">                                 </span>\n",
       "</pre>\n"
      ],
      "text/plain": [
       "\u001b[2;36m                   \u001b[0m\u001b[2;36m \u001b[0m\u001b[34mINFO    \u001b[0m \u001b[1m[\u001b[0mdiscover_namespace_packages.py:\u001b[1;36m12\u001b[0m\u001b[1m]\u001b[0m >> Discovering   \u001b]8;id=241684;file:///home/jeongho/git/SKN05-FINAL-1TEAM/jeongho/RAG_env/lib/python3.12/site-packages/pinecone_plugin_interface/actions/discover_namespace_packages.py\u001b\\\u001b[2mdiscover_namespace_packages.py\u001b[0m\u001b]8;;\u001b\\\u001b[2m:\u001b[0m\u001b]8;id=905655;file:///home/jeongho/git/SKN05-FINAL-1TEAM/jeongho/RAG_env/lib/python3.12/site-packages/pinecone_plugin_interface/actions/discover_namespace_packages.py#12\u001b\\\u001b[2m12\u001b[0m\u001b]8;;\u001b\\\n",
       "\u001b[2;36m                    \u001b[0m         subpackages in                                       \u001b[2m                                 \u001b[0m\n",
       "\u001b[2;36m                    \u001b[0m         \u001b[1;35m_NamespacePath\u001b[0m\u001b[1m(\u001b[0m\u001b[1m[\u001b[0m\u001b[32m'/home/jeongho/git/SKN05-FINAL-1TEAM\u001b[0m \u001b[2m                                 \u001b[0m\n",
       "\u001b[2;36m                    \u001b[0m         \u001b[32m/jeongho/RAG_env/lib/python3.12/site-packages/pineco\u001b[0m \u001b[2m                                 \u001b[0m\n",
       "\u001b[2;36m                    \u001b[0m         \u001b[32mne_plugins'\u001b[0m\u001b[1m]\u001b[0m\u001b[1m)\u001b[0m                                        \u001b[2m                                 \u001b[0m\n"
      ]
     },
     "metadata": {},
     "output_type": "display_data"
    },
    {
     "data": {
      "text/html": [
       "<pre style=\"white-space:pre;overflow-x:auto;line-height:normal;font-family:Menlo,'DejaVu Sans Mono',consolas,'Courier New',monospace\"><span style=\"color: #7fbfbf; text-decoration-color: #7fbfbf\">                    </span><span style=\"color: #000080; text-decoration-color: #000080\">INFO    </span> <span style=\"font-weight: bold\">[</span>discover_plugins.py:<span style=\"color: #008080; text-decoration-color: #008080; font-weight: bold\">9</span><span style=\"font-weight: bold\">]</span> &gt;&gt; Looking for plugins in                <a href=\"file:///home/jeongho/git/SKN05-FINAL-1TEAM/jeongho/RAG_env/lib/python3.12/site-packages/pinecone_plugin_interface/actions/discover_plugins.py\" target=\"_blank\"><span style=\"color: #7f7f7f; text-decoration-color: #7f7f7f\">discover_plugins.py</span></a><span style=\"color: #7f7f7f; text-decoration-color: #7f7f7f\">:</span><a href=\"file:///home/jeongho/git/SKN05-FINAL-1TEAM/jeongho/RAG_env/lib/python3.12/site-packages/pinecone_plugin_interface/actions/discover_plugins.py#9\" target=\"_blank\"><span style=\"color: #7f7f7f; text-decoration-color: #7f7f7f\">9</span></a>\n",
       "<span style=\"color: #7fbfbf; text-decoration-color: #7fbfbf\">                    </span>         pinecone_plugins.inference                                       <span style=\"color: #7f7f7f; text-decoration-color: #7f7f7f\">                     </span>\n",
       "</pre>\n"
      ],
      "text/plain": [
       "\u001b[2;36m                   \u001b[0m\u001b[2;36m \u001b[0m\u001b[34mINFO    \u001b[0m \u001b[1m[\u001b[0mdiscover_plugins.py:\u001b[1;36m9\u001b[0m\u001b[1m]\u001b[0m >> Looking for plugins in                \u001b]8;id=725504;file:///home/jeongho/git/SKN05-FINAL-1TEAM/jeongho/RAG_env/lib/python3.12/site-packages/pinecone_plugin_interface/actions/discover_plugins.py\u001b\\\u001b[2mdiscover_plugins.py\u001b[0m\u001b]8;;\u001b\\\u001b[2m:\u001b[0m\u001b]8;id=322904;file:///home/jeongho/git/SKN05-FINAL-1TEAM/jeongho/RAG_env/lib/python3.12/site-packages/pinecone_plugin_interface/actions/discover_plugins.py#9\u001b\\\u001b[2m9\u001b[0m\u001b]8;;\u001b\\\n",
       "\u001b[2;36m                    \u001b[0m         pinecone_plugins.inference                                       \u001b[2m                     \u001b[0m\n"
      ]
     },
     "metadata": {},
     "output_type": "display_data"
    },
    {
     "data": {
      "text/html": [
       "<pre style=\"white-space:pre;overflow-x:auto;line-height:normal;font-family:Menlo,'DejaVu Sans Mono',consolas,'Courier New',monospace\"><span style=\"color: #7fbfbf; text-decoration-color: #7fbfbf\">                    </span><span style=\"color: #000080; text-decoration-color: #000080\">INFO    </span> <span style=\"font-weight: bold\">[</span>discover_plugins.py:<span style=\"color: #008080; text-decoration-color: #008080; font-weight: bold\">9</span><span style=\"font-weight: bold\">]</span> &gt;&gt; Looking for plugins in                <a href=\"file:///home/jeongho/git/SKN05-FINAL-1TEAM/jeongho/RAG_env/lib/python3.12/site-packages/pinecone_plugin_interface/actions/discover_plugins.py\" target=\"_blank\"><span style=\"color: #7f7f7f; text-decoration-color: #7f7f7f\">discover_plugins.py</span></a><span style=\"color: #7f7f7f; text-decoration-color: #7f7f7f\">:</span><a href=\"file:///home/jeongho/git/SKN05-FINAL-1TEAM/jeongho/RAG_env/lib/python3.12/site-packages/pinecone_plugin_interface/actions/discover_plugins.py#9\" target=\"_blank\"><span style=\"color: #7f7f7f; text-decoration-color: #7f7f7f\">9</span></a>\n",
       "<span style=\"color: #7fbfbf; text-decoration-color: #7fbfbf\">                    </span>         pinecone_plugins.inference                                       <span style=\"color: #7f7f7f; text-decoration-color: #7f7f7f\">                     </span>\n",
       "</pre>\n"
      ],
      "text/plain": [
       "\u001b[2;36m                   \u001b[0m\u001b[2;36m \u001b[0m\u001b[34mINFO    \u001b[0m \u001b[1m[\u001b[0mdiscover_plugins.py:\u001b[1;36m9\u001b[0m\u001b[1m]\u001b[0m >> Looking for plugins in                \u001b]8;id=801431;file:///home/jeongho/git/SKN05-FINAL-1TEAM/jeongho/RAG_env/lib/python3.12/site-packages/pinecone_plugin_interface/actions/discover_plugins.py\u001b\\\u001b[2mdiscover_plugins.py\u001b[0m\u001b]8;;\u001b\\\u001b[2m:\u001b[0m\u001b]8;id=457596;file:///home/jeongho/git/SKN05-FINAL-1TEAM/jeongho/RAG_env/lib/python3.12/site-packages/pinecone_plugin_interface/actions/discover_plugins.py#9\u001b\\\u001b[2m9\u001b[0m\u001b]8;;\u001b\\\n",
       "\u001b[2;36m                    \u001b[0m         pinecone_plugins.inference                                       \u001b[2m                     \u001b[0m\n"
      ]
     },
     "metadata": {},
     "output_type": "display_data"
    },
    {
     "data": {
      "text/html": [
       "<pre style=\"white-space:pre;overflow-x:auto;line-height:normal;font-family:Menlo,'DejaVu Sans Mono',consolas,'Courier New',monospace\"><span style=\"color: #7fbfbf; text-decoration-color: #7fbfbf\">                    </span><span style=\"color: #000080; text-decoration-color: #000080\">INFO    </span> <span style=\"font-weight: bold\">[</span>discover_plugins.py:<span style=\"color: #008080; text-decoration-color: #008080; font-weight: bold\">9</span><span style=\"font-weight: bold\">]</span> &gt;&gt; Looking for plugins in                <a href=\"file:///home/jeongho/git/SKN05-FINAL-1TEAM/jeongho/RAG_env/lib/python3.12/site-packages/pinecone_plugin_interface/actions/discover_plugins.py\" target=\"_blank\"><span style=\"color: #7f7f7f; text-decoration-color: #7f7f7f\">discover_plugins.py</span></a><span style=\"color: #7f7f7f; text-decoration-color: #7f7f7f\">:</span><a href=\"file:///home/jeongho/git/SKN05-FINAL-1TEAM/jeongho/RAG_env/lib/python3.12/site-packages/pinecone_plugin_interface/actions/discover_plugins.py#9\" target=\"_blank\"><span style=\"color: #7f7f7f; text-decoration-color: #7f7f7f\">9</span></a>\n",
       "<span style=\"color: #7fbfbf; text-decoration-color: #7fbfbf\">                    </span>         pinecone_plugins.inference                                       <span style=\"color: #7f7f7f; text-decoration-color: #7f7f7f\">                     </span>\n",
       "</pre>\n"
      ],
      "text/plain": [
       "\u001b[2;36m                   \u001b[0m\u001b[2;36m \u001b[0m\u001b[34mINFO    \u001b[0m \u001b[1m[\u001b[0mdiscover_plugins.py:\u001b[1;36m9\u001b[0m\u001b[1m]\u001b[0m >> Looking for plugins in                \u001b]8;id=845074;file:///home/jeongho/git/SKN05-FINAL-1TEAM/jeongho/RAG_env/lib/python3.12/site-packages/pinecone_plugin_interface/actions/discover_plugins.py\u001b\\\u001b[2mdiscover_plugins.py\u001b[0m\u001b]8;;\u001b\\\u001b[2m:\u001b[0m\u001b]8;id=164337;file:///home/jeongho/git/SKN05-FINAL-1TEAM/jeongho/RAG_env/lib/python3.12/site-packages/pinecone_plugin_interface/actions/discover_plugins.py#9\u001b\\\u001b[2m9\u001b[0m\u001b]8;;\u001b\\\n",
       "\u001b[2;36m                    \u001b[0m         pinecone_plugins.inference                                       \u001b[2m                     \u001b[0m\n"
      ]
     },
     "metadata": {},
     "output_type": "display_data"
    },
    {
     "data": {
      "text/html": [
       "<pre style=\"white-space:pre;overflow-x:auto;line-height:normal;font-family:Menlo,'DejaVu Sans Mono',consolas,'Courier New',monospace\"><span style=\"color: #7fbfbf; text-decoration-color: #7fbfbf\">                    </span><span style=\"color: #000080; text-decoration-color: #000080\">INFO    </span> <span style=\"font-weight: bold\">[</span>installation.py:<span style=\"color: #008080; text-decoration-color: #008080; font-weight: bold\">10</span><span style=\"font-weight: bold\">]</span> &gt;&gt; Installing plugin inference into Pinecone   <a href=\"file:///home/jeongho/git/SKN05-FINAL-1TEAM/jeongho/RAG_env/lib/python3.12/site-packages/pinecone_plugin_interface/actions/installation.py\" target=\"_blank\"><span style=\"color: #7f7f7f; text-decoration-color: #7f7f7f\">installation.py</span></a><span style=\"color: #7f7f7f; text-decoration-color: #7f7f7f\">:</span><a href=\"file:///home/jeongho/git/SKN05-FINAL-1TEAM/jeongho/RAG_env/lib/python3.12/site-packages/pinecone_plugin_interface/actions/installation.py#10\" target=\"_blank\"><span style=\"color: #7f7f7f; text-decoration-color: #7f7f7f\">10</span></a>\n",
       "</pre>\n"
      ],
      "text/plain": [
       "\u001b[2;36m                   \u001b[0m\u001b[2;36m \u001b[0m\u001b[34mINFO    \u001b[0m \u001b[1m[\u001b[0minstallation.py:\u001b[1;36m10\u001b[0m\u001b[1m]\u001b[0m >> Installing plugin inference into Pinecone   \u001b]8;id=434448;file:///home/jeongho/git/SKN05-FINAL-1TEAM/jeongho/RAG_env/lib/python3.12/site-packages/pinecone_plugin_interface/actions/installation.py\u001b\\\u001b[2minstallation.py\u001b[0m\u001b]8;;\u001b\\\u001b[2m:\u001b[0m\u001b]8;id=349646;file:///home/jeongho/git/SKN05-FINAL-1TEAM/jeongho/RAG_env/lib/python3.12/site-packages/pinecone_plugin_interface/actions/installation.py#10\u001b\\\u001b[2m10\u001b[0m\u001b]8;;\u001b\\\n"
      ]
     },
     "metadata": {},
     "output_type": "display_data"
    },
    {
     "data": {
      "text/html": [
       "<pre style=\"white-space:pre;overflow-x:auto;line-height:normal;font-family:Menlo,'DejaVu Sans Mono',consolas,'Courier New',monospace\"><span style=\"color: #7fbfbf; text-decoration-color: #7fbfbf\">                    </span><span style=\"color: #000080; text-decoration-color: #000080\">INFO    </span> <span style=\"font-weight: bold\">[</span>discover_plugins.py:<span style=\"color: #008080; text-decoration-color: #008080; font-weight: bold\">9</span><span style=\"font-weight: bold\">]</span> &gt;&gt; Looking for plugins in                <a href=\"file:///home/jeongho/git/SKN05-FINAL-1TEAM/jeongho/RAG_env/lib/python3.12/site-packages/pinecone_plugin_interface/actions/discover_plugins.py\" target=\"_blank\"><span style=\"color: #7f7f7f; text-decoration-color: #7f7f7f\">discover_plugins.py</span></a><span style=\"color: #7f7f7f; text-decoration-color: #7f7f7f\">:</span><a href=\"file:///home/jeongho/git/SKN05-FINAL-1TEAM/jeongho/RAG_env/lib/python3.12/site-packages/pinecone_plugin_interface/actions/discover_plugins.py#9\" target=\"_blank\"><span style=\"color: #7f7f7f; text-decoration-color: #7f7f7f\">9</span></a>\n",
       "<span style=\"color: #7fbfbf; text-decoration-color: #7fbfbf\">                    </span>         pinecone_plugins.inference                                       <span style=\"color: #7f7f7f; text-decoration-color: #7f7f7f\">                     </span>\n",
       "</pre>\n"
      ],
      "text/plain": [
       "\u001b[2;36m                   \u001b[0m\u001b[2;36m \u001b[0m\u001b[34mINFO    \u001b[0m \u001b[1m[\u001b[0mdiscover_plugins.py:\u001b[1;36m9\u001b[0m\u001b[1m]\u001b[0m >> Looking for plugins in                \u001b]8;id=817547;file:///home/jeongho/git/SKN05-FINAL-1TEAM/jeongho/RAG_env/lib/python3.12/site-packages/pinecone_plugin_interface/actions/discover_plugins.py\u001b\\\u001b[2mdiscover_plugins.py\u001b[0m\u001b]8;;\u001b\\\u001b[2m:\u001b[0m\u001b]8;id=595123;file:///home/jeongho/git/SKN05-FINAL-1TEAM/jeongho/RAG_env/lib/python3.12/site-packages/pinecone_plugin_interface/actions/discover_plugins.py#9\u001b\\\u001b[2m9\u001b[0m\u001b]8;;\u001b\\\n",
       "\u001b[2;36m                    \u001b[0m         pinecone_plugins.inference                                       \u001b[2m                     \u001b[0m\n"
      ]
     },
     "metadata": {},
     "output_type": "display_data"
    },
    {
     "data": {
      "text/html": [
       "<pre style=\"white-space:pre;overflow-x:auto;line-height:normal;font-family:Menlo,'DejaVu Sans Mono',consolas,'Courier New',monospace\"><span style=\"color: #7fbfbf; text-decoration-color: #7fbfbf\">                    </span><span style=\"color: #000080; text-decoration-color: #000080\">INFO    </span> <span style=\"font-weight: bold\">[</span>installation.py:<span style=\"color: #008080; text-decoration-color: #008080; font-weight: bold\">10</span><span style=\"font-weight: bold\">]</span> &gt;&gt; Installing plugin inference into Pinecone   <a href=\"file:///home/jeongho/git/SKN05-FINAL-1TEAM/jeongho/RAG_env/lib/python3.12/site-packages/pinecone_plugin_interface/actions/installation.py\" target=\"_blank\"><span style=\"color: #7f7f7f; text-decoration-color: #7f7f7f\">installation.py</span></a><span style=\"color: #7f7f7f; text-decoration-color: #7f7f7f\">:</span><a href=\"file:///home/jeongho/git/SKN05-FINAL-1TEAM/jeongho/RAG_env/lib/python3.12/site-packages/pinecone_plugin_interface/actions/installation.py#10\" target=\"_blank\"><span style=\"color: #7f7f7f; text-decoration-color: #7f7f7f\">10</span></a>\n",
       "</pre>\n"
      ],
      "text/plain": [
       "\u001b[2;36m                   \u001b[0m\u001b[2;36m \u001b[0m\u001b[34mINFO    \u001b[0m \u001b[1m[\u001b[0minstallation.py:\u001b[1;36m10\u001b[0m\u001b[1m]\u001b[0m >> Installing plugin inference into Pinecone   \u001b]8;id=332189;file:///home/jeongho/git/SKN05-FINAL-1TEAM/jeongho/RAG_env/lib/python3.12/site-packages/pinecone_plugin_interface/actions/installation.py\u001b\\\u001b[2minstallation.py\u001b[0m\u001b]8;;\u001b\\\u001b[2m:\u001b[0m\u001b]8;id=487055;file:///home/jeongho/git/SKN05-FINAL-1TEAM/jeongho/RAG_env/lib/python3.12/site-packages/pinecone_plugin_interface/actions/installation.py#10\u001b\\\u001b[2m10\u001b[0m\u001b]8;;\u001b\\\n"
      ]
     },
     "metadata": {},
     "output_type": "display_data"
    },
    {
     "data": {
      "text/html": [
       "<pre style=\"white-space:pre;overflow-x:auto;line-height:normal;font-family:Menlo,'DejaVu Sans Mono',consolas,'Courier New',monospace\"><span style=\"color: #7fbfbf; text-decoration-color: #7fbfbf\">                    </span><span style=\"color: #000080; text-decoration-color: #000080\">INFO    </span> <span style=\"font-weight: bold\">[</span>installation.py:<span style=\"color: #008080; text-decoration-color: #008080; font-weight: bold\">10</span><span style=\"font-weight: bold\">]</span> &gt;&gt; Installing plugin inference into Pinecone   <a href=\"file:///home/jeongho/git/SKN05-FINAL-1TEAM/jeongho/RAG_env/lib/python3.12/site-packages/pinecone_plugin_interface/actions/installation.py\" target=\"_blank\"><span style=\"color: #7f7f7f; text-decoration-color: #7f7f7f\">installation.py</span></a><span style=\"color: #7f7f7f; text-decoration-color: #7f7f7f\">:</span><a href=\"file:///home/jeongho/git/SKN05-FINAL-1TEAM/jeongho/RAG_env/lib/python3.12/site-packages/pinecone_plugin_interface/actions/installation.py#10\" target=\"_blank\"><span style=\"color: #7f7f7f; text-decoration-color: #7f7f7f\">10</span></a>\n",
       "</pre>\n"
      ],
      "text/plain": [
       "\u001b[2;36m                   \u001b[0m\u001b[2;36m \u001b[0m\u001b[34mINFO    \u001b[0m \u001b[1m[\u001b[0minstallation.py:\u001b[1;36m10\u001b[0m\u001b[1m]\u001b[0m >> Installing plugin inference into Pinecone   \u001b]8;id=475311;file:///home/jeongho/git/SKN05-FINAL-1TEAM/jeongho/RAG_env/lib/python3.12/site-packages/pinecone_plugin_interface/actions/installation.py\u001b\\\u001b[2minstallation.py\u001b[0m\u001b]8;;\u001b\\\u001b[2m:\u001b[0m\u001b]8;id=663586;file:///home/jeongho/git/SKN05-FINAL-1TEAM/jeongho/RAG_env/lib/python3.12/site-packages/pinecone_plugin_interface/actions/installation.py#10\u001b\\\u001b[2m10\u001b[0m\u001b]8;;\u001b\\\n"
      ]
     },
     "metadata": {},
     "output_type": "display_data"
    },
    {
     "data": {
      "text/html": [
       "<pre style=\"white-space:pre;overflow-x:auto;line-height:normal;font-family:Menlo,'DejaVu Sans Mono',consolas,'Courier New',monospace\"><span style=\"color: #7fbfbf; text-decoration-color: #7fbfbf\">                    </span><span style=\"color: #000080; text-decoration-color: #000080\">INFO    </span> <span style=\"font-weight: bold\">[</span>discover_plugins.py:<span style=\"color: #008080; text-decoration-color: #008080; font-weight: bold\">9</span><span style=\"font-weight: bold\">]</span> &gt;&gt; Looking for plugins in                <a href=\"file:///home/jeongho/git/SKN05-FINAL-1TEAM/jeongho/RAG_env/lib/python3.12/site-packages/pinecone_plugin_interface/actions/discover_plugins.py\" target=\"_blank\"><span style=\"color: #7f7f7f; text-decoration-color: #7f7f7f\">discover_plugins.py</span></a><span style=\"color: #7f7f7f; text-decoration-color: #7f7f7f\">:</span><a href=\"file:///home/jeongho/git/SKN05-FINAL-1TEAM/jeongho/RAG_env/lib/python3.12/site-packages/pinecone_plugin_interface/actions/discover_plugins.py#9\" target=\"_blank\"><span style=\"color: #7f7f7f; text-decoration-color: #7f7f7f\">9</span></a>\n",
       "<span style=\"color: #7fbfbf; text-decoration-color: #7fbfbf\">                    </span>         pinecone_plugins.inference                                       <span style=\"color: #7f7f7f; text-decoration-color: #7f7f7f\">                     </span>\n",
       "</pre>\n"
      ],
      "text/plain": [
       "\u001b[2;36m                   \u001b[0m\u001b[2;36m \u001b[0m\u001b[34mINFO    \u001b[0m \u001b[1m[\u001b[0mdiscover_plugins.py:\u001b[1;36m9\u001b[0m\u001b[1m]\u001b[0m >> Looking for plugins in                \u001b]8;id=464477;file:///home/jeongho/git/SKN05-FINAL-1TEAM/jeongho/RAG_env/lib/python3.12/site-packages/pinecone_plugin_interface/actions/discover_plugins.py\u001b\\\u001b[2mdiscover_plugins.py\u001b[0m\u001b]8;;\u001b\\\u001b[2m:\u001b[0m\u001b]8;id=21985;file:///home/jeongho/git/SKN05-FINAL-1TEAM/jeongho/RAG_env/lib/python3.12/site-packages/pinecone_plugin_interface/actions/discover_plugins.py#9\u001b\\\u001b[2m9\u001b[0m\u001b]8;;\u001b\\\n",
       "\u001b[2;36m                    \u001b[0m         pinecone_plugins.inference                                       \u001b[2m                     \u001b[0m\n"
      ]
     },
     "metadata": {},
     "output_type": "display_data"
    },
    {
     "data": {
      "text/html": [
       "<pre style=\"white-space:pre;overflow-x:auto;line-height:normal;font-family:Menlo,'DejaVu Sans Mono',consolas,'Courier New',monospace\"><span style=\"color: #7fbfbf; text-decoration-color: #7fbfbf\">                    </span><span style=\"color: #000080; text-decoration-color: #000080\">INFO    </span> <span style=\"font-weight: bold\">[</span>discover_namespace_packages.py:<span style=\"color: #008080; text-decoration-color: #008080; font-weight: bold\">12</span><span style=\"font-weight: bold\">]</span> &gt;&gt; Discovering   <a href=\"file:///home/jeongho/git/SKN05-FINAL-1TEAM/jeongho/RAG_env/lib/python3.12/site-packages/pinecone_plugin_interface/actions/discover_namespace_packages.py\" target=\"_blank\"><span style=\"color: #7f7f7f; text-decoration-color: #7f7f7f\">discover_namespace_packages.py</span></a><span style=\"color: #7f7f7f; text-decoration-color: #7f7f7f\">:</span><a href=\"file:///home/jeongho/git/SKN05-FINAL-1TEAM/jeongho/RAG_env/lib/python3.12/site-packages/pinecone_plugin_interface/actions/discover_namespace_packages.py#12\" target=\"_blank\"><span style=\"color: #7f7f7f; text-decoration-color: #7f7f7f\">12</span></a>\n",
       "<span style=\"color: #7fbfbf; text-decoration-color: #7fbfbf\">                    </span>         subpackages in                                       <span style=\"color: #7f7f7f; text-decoration-color: #7f7f7f\">                                 </span>\n",
       "<span style=\"color: #7fbfbf; text-decoration-color: #7fbfbf\">                    </span>         <span style=\"color: #800080; text-decoration-color: #800080; font-weight: bold\">_NamespacePath</span><span style=\"font-weight: bold\">([</span><span style=\"color: #008000; text-decoration-color: #008000\">'/home/jeongho/git/SKN05-FINAL-1TEAM</span> <span style=\"color: #7f7f7f; text-decoration-color: #7f7f7f\">                                 </span>\n",
       "<span style=\"color: #7fbfbf; text-decoration-color: #7fbfbf\">                    </span>         <span style=\"color: #008000; text-decoration-color: #008000\">/jeongho/RAG_env/lib/python3.12/site-packages/pineco</span> <span style=\"color: #7f7f7f; text-decoration-color: #7f7f7f\">                                 </span>\n",
       "<span style=\"color: #7fbfbf; text-decoration-color: #7fbfbf\">                    </span>         <span style=\"color: #008000; text-decoration-color: #008000\">ne_plugins'</span><span style=\"font-weight: bold\">])</span>                                        <span style=\"color: #7f7f7f; text-decoration-color: #7f7f7f\">                                 </span>\n",
       "</pre>\n"
      ],
      "text/plain": [
       "\u001b[2;36m                   \u001b[0m\u001b[2;36m \u001b[0m\u001b[34mINFO    \u001b[0m \u001b[1m[\u001b[0mdiscover_namespace_packages.py:\u001b[1;36m12\u001b[0m\u001b[1m]\u001b[0m >> Discovering   \u001b]8;id=89170;file:///home/jeongho/git/SKN05-FINAL-1TEAM/jeongho/RAG_env/lib/python3.12/site-packages/pinecone_plugin_interface/actions/discover_namespace_packages.py\u001b\\\u001b[2mdiscover_namespace_packages.py\u001b[0m\u001b]8;;\u001b\\\u001b[2m:\u001b[0m\u001b]8;id=679528;file:///home/jeongho/git/SKN05-FINAL-1TEAM/jeongho/RAG_env/lib/python3.12/site-packages/pinecone_plugin_interface/actions/discover_namespace_packages.py#12\u001b\\\u001b[2m12\u001b[0m\u001b]8;;\u001b\\\n",
       "\u001b[2;36m                    \u001b[0m         subpackages in                                       \u001b[2m                                 \u001b[0m\n",
       "\u001b[2;36m                    \u001b[0m         \u001b[1;35m_NamespacePath\u001b[0m\u001b[1m(\u001b[0m\u001b[1m[\u001b[0m\u001b[32m'/home/jeongho/git/SKN05-FINAL-1TEAM\u001b[0m \u001b[2m                                 \u001b[0m\n",
       "\u001b[2;36m                    \u001b[0m         \u001b[32m/jeongho/RAG_env/lib/python3.12/site-packages/pineco\u001b[0m \u001b[2m                                 \u001b[0m\n",
       "\u001b[2;36m                    \u001b[0m         \u001b[32mne_plugins'\u001b[0m\u001b[1m]\u001b[0m\u001b[1m)\u001b[0m                                        \u001b[2m                                 \u001b[0m\n"
      ]
     },
     "metadata": {},
     "output_type": "display_data"
    },
    {
     "data": {
      "text/html": [
       "<pre style=\"white-space:pre;overflow-x:auto;line-height:normal;font-family:Menlo,'DejaVu Sans Mono',consolas,'Courier New',monospace\"><span style=\"color: #7fbfbf; text-decoration-color: #7fbfbf\">                    </span><span style=\"color: #000080; text-decoration-color: #000080\">INFO    </span> <span style=\"font-weight: bold\">[</span>installation.py:<span style=\"color: #008080; text-decoration-color: #008080; font-weight: bold\">10</span><span style=\"font-weight: bold\">]</span> &gt;&gt; Installing plugin inference into Pinecone   <a href=\"file:///home/jeongho/git/SKN05-FINAL-1TEAM/jeongho/RAG_env/lib/python3.12/site-packages/pinecone_plugin_interface/actions/installation.py\" target=\"_blank\"><span style=\"color: #7f7f7f; text-decoration-color: #7f7f7f\">installation.py</span></a><span style=\"color: #7f7f7f; text-decoration-color: #7f7f7f\">:</span><a href=\"file:///home/jeongho/git/SKN05-FINAL-1TEAM/jeongho/RAG_env/lib/python3.12/site-packages/pinecone_plugin_interface/actions/installation.py#10\" target=\"_blank\"><span style=\"color: #7f7f7f; text-decoration-color: #7f7f7f\">10</span></a>\n",
       "</pre>\n"
      ],
      "text/plain": [
       "\u001b[2;36m                   \u001b[0m\u001b[2;36m \u001b[0m\u001b[34mINFO    \u001b[0m \u001b[1m[\u001b[0minstallation.py:\u001b[1;36m10\u001b[0m\u001b[1m]\u001b[0m >> Installing plugin inference into Pinecone   \u001b]8;id=889054;file:///home/jeongho/git/SKN05-FINAL-1TEAM/jeongho/RAG_env/lib/python3.12/site-packages/pinecone_plugin_interface/actions/installation.py\u001b\\\u001b[2minstallation.py\u001b[0m\u001b]8;;\u001b\\\u001b[2m:\u001b[0m\u001b]8;id=47355;file:///home/jeongho/git/SKN05-FINAL-1TEAM/jeongho/RAG_env/lib/python3.12/site-packages/pinecone_plugin_interface/actions/installation.py#10\u001b\\\u001b[2m10\u001b[0m\u001b]8;;\u001b\\\n"
      ]
     },
     "metadata": {},
     "output_type": "display_data"
    },
    {
     "data": {
      "text/html": [
       "<pre style=\"white-space:pre;overflow-x:auto;line-height:normal;font-family:Menlo,'DejaVu Sans Mono',consolas,'Courier New',monospace\"><span style=\"color: #7fbfbf; text-decoration-color: #7fbfbf\">                    </span><span style=\"color: #000080; text-decoration-color: #000080\">INFO    </span> <span style=\"font-weight: bold\">[</span>discover_namespace_packages.py:<span style=\"color: #008080; text-decoration-color: #008080; font-weight: bold\">12</span><span style=\"font-weight: bold\">]</span> &gt;&gt; Discovering   <a href=\"file:///home/jeongho/git/SKN05-FINAL-1TEAM/jeongho/RAG_env/lib/python3.12/site-packages/pinecone_plugin_interface/actions/discover_namespace_packages.py\" target=\"_blank\"><span style=\"color: #7f7f7f; text-decoration-color: #7f7f7f\">discover_namespace_packages.py</span></a><span style=\"color: #7f7f7f; text-decoration-color: #7f7f7f\">:</span><a href=\"file:///home/jeongho/git/SKN05-FINAL-1TEAM/jeongho/RAG_env/lib/python3.12/site-packages/pinecone_plugin_interface/actions/discover_namespace_packages.py#12\" target=\"_blank\"><span style=\"color: #7f7f7f; text-decoration-color: #7f7f7f\">12</span></a>\n",
       "<span style=\"color: #7fbfbf; text-decoration-color: #7fbfbf\">                    </span>         subpackages in                                       <span style=\"color: #7f7f7f; text-decoration-color: #7f7f7f\">                                 </span>\n",
       "<span style=\"color: #7fbfbf; text-decoration-color: #7fbfbf\">                    </span>         <span style=\"color: #800080; text-decoration-color: #800080; font-weight: bold\">_NamespacePath</span><span style=\"font-weight: bold\">([</span><span style=\"color: #008000; text-decoration-color: #008000\">'/home/jeongho/git/SKN05-FINAL-1TEAM</span> <span style=\"color: #7f7f7f; text-decoration-color: #7f7f7f\">                                 </span>\n",
       "<span style=\"color: #7fbfbf; text-decoration-color: #7fbfbf\">                    </span>         <span style=\"color: #008000; text-decoration-color: #008000\">/jeongho/RAG_env/lib/python3.12/site-packages/pineco</span> <span style=\"color: #7f7f7f; text-decoration-color: #7f7f7f\">                                 </span>\n",
       "<span style=\"color: #7fbfbf; text-decoration-color: #7fbfbf\">                    </span>         <span style=\"color: #008000; text-decoration-color: #008000\">ne_plugins'</span><span style=\"font-weight: bold\">])</span>                                        <span style=\"color: #7f7f7f; text-decoration-color: #7f7f7f\">                                 </span>\n",
       "</pre>\n"
      ],
      "text/plain": [
       "\u001b[2;36m                   \u001b[0m\u001b[2;36m \u001b[0m\u001b[34mINFO    \u001b[0m \u001b[1m[\u001b[0mdiscover_namespace_packages.py:\u001b[1;36m12\u001b[0m\u001b[1m]\u001b[0m >> Discovering   \u001b]8;id=272008;file:///home/jeongho/git/SKN05-FINAL-1TEAM/jeongho/RAG_env/lib/python3.12/site-packages/pinecone_plugin_interface/actions/discover_namespace_packages.py\u001b\\\u001b[2mdiscover_namespace_packages.py\u001b[0m\u001b]8;;\u001b\\\u001b[2m:\u001b[0m\u001b]8;id=320663;file:///home/jeongho/git/SKN05-FINAL-1TEAM/jeongho/RAG_env/lib/python3.12/site-packages/pinecone_plugin_interface/actions/discover_namespace_packages.py#12\u001b\\\u001b[2m12\u001b[0m\u001b]8;;\u001b\\\n",
       "\u001b[2;36m                    \u001b[0m         subpackages in                                       \u001b[2m                                 \u001b[0m\n",
       "\u001b[2;36m                    \u001b[0m         \u001b[1;35m_NamespacePath\u001b[0m\u001b[1m(\u001b[0m\u001b[1m[\u001b[0m\u001b[32m'/home/jeongho/git/SKN05-FINAL-1TEAM\u001b[0m \u001b[2m                                 \u001b[0m\n",
       "\u001b[2;36m                    \u001b[0m         \u001b[32m/jeongho/RAG_env/lib/python3.12/site-packages/pineco\u001b[0m \u001b[2m                                 \u001b[0m\n",
       "\u001b[2;36m                    \u001b[0m         \u001b[32mne_plugins'\u001b[0m\u001b[1m]\u001b[0m\u001b[1m)\u001b[0m                                        \u001b[2m                                 \u001b[0m\n"
      ]
     },
     "metadata": {},
     "output_type": "display_data"
    },
    {
     "data": {
      "text/html": [
       "<pre style=\"white-space:pre;overflow-x:auto;line-height:normal;font-family:Menlo,'DejaVu Sans Mono',consolas,'Courier New',monospace\"><span style=\"color: #7fbfbf; text-decoration-color: #7fbfbf\">                    </span><span style=\"color: #000080; text-decoration-color: #000080\">INFO    </span> <span style=\"font-weight: bold\">[</span>discover_namespace_packages.py:<span style=\"color: #008080; text-decoration-color: #008080; font-weight: bold\">12</span><span style=\"font-weight: bold\">]</span> &gt;&gt; Discovering   <a href=\"file:///home/jeongho/git/SKN05-FINAL-1TEAM/jeongho/RAG_env/lib/python3.12/site-packages/pinecone_plugin_interface/actions/discover_namespace_packages.py\" target=\"_blank\"><span style=\"color: #7f7f7f; text-decoration-color: #7f7f7f\">discover_namespace_packages.py</span></a><span style=\"color: #7f7f7f; text-decoration-color: #7f7f7f\">:</span><a href=\"file:///home/jeongho/git/SKN05-FINAL-1TEAM/jeongho/RAG_env/lib/python3.12/site-packages/pinecone_plugin_interface/actions/discover_namespace_packages.py#12\" target=\"_blank\"><span style=\"color: #7f7f7f; text-decoration-color: #7f7f7f\">12</span></a>\n",
       "<span style=\"color: #7fbfbf; text-decoration-color: #7fbfbf\">                    </span>         subpackages in                                       <span style=\"color: #7f7f7f; text-decoration-color: #7f7f7f\">                                 </span>\n",
       "<span style=\"color: #7fbfbf; text-decoration-color: #7fbfbf\">                    </span>         <span style=\"color: #800080; text-decoration-color: #800080; font-weight: bold\">_NamespacePath</span><span style=\"font-weight: bold\">([</span><span style=\"color: #008000; text-decoration-color: #008000\">'/home/jeongho/git/SKN05-FINAL-1TEAM</span> <span style=\"color: #7f7f7f; text-decoration-color: #7f7f7f\">                                 </span>\n",
       "<span style=\"color: #7fbfbf; text-decoration-color: #7fbfbf\">                    </span>         <span style=\"color: #008000; text-decoration-color: #008000\">/jeongho/RAG_env/lib/python3.12/site-packages/pineco</span> <span style=\"color: #7f7f7f; text-decoration-color: #7f7f7f\">                                 </span>\n",
       "<span style=\"color: #7fbfbf; text-decoration-color: #7fbfbf\">                    </span>         <span style=\"color: #008000; text-decoration-color: #008000\">ne_plugins'</span><span style=\"font-weight: bold\">])</span>                                        <span style=\"color: #7f7f7f; text-decoration-color: #7f7f7f\">                                 </span>\n",
       "</pre>\n"
      ],
      "text/plain": [
       "\u001b[2;36m                   \u001b[0m\u001b[2;36m \u001b[0m\u001b[34mINFO    \u001b[0m \u001b[1m[\u001b[0mdiscover_namespace_packages.py:\u001b[1;36m12\u001b[0m\u001b[1m]\u001b[0m >> Discovering   \u001b]8;id=579273;file:///home/jeongho/git/SKN05-FINAL-1TEAM/jeongho/RAG_env/lib/python3.12/site-packages/pinecone_plugin_interface/actions/discover_namespace_packages.py\u001b\\\u001b[2mdiscover_namespace_packages.py\u001b[0m\u001b]8;;\u001b\\\u001b[2m:\u001b[0m\u001b]8;id=143617;file:///home/jeongho/git/SKN05-FINAL-1TEAM/jeongho/RAG_env/lib/python3.12/site-packages/pinecone_plugin_interface/actions/discover_namespace_packages.py#12\u001b\\\u001b[2m12\u001b[0m\u001b]8;;\u001b\\\n",
       "\u001b[2;36m                    \u001b[0m         subpackages in                                       \u001b[2m                                 \u001b[0m\n",
       "\u001b[2;36m                    \u001b[0m         \u001b[1;35m_NamespacePath\u001b[0m\u001b[1m(\u001b[0m\u001b[1m[\u001b[0m\u001b[32m'/home/jeongho/git/SKN05-FINAL-1TEAM\u001b[0m \u001b[2m                                 \u001b[0m\n",
       "\u001b[2;36m                    \u001b[0m         \u001b[32m/jeongho/RAG_env/lib/python3.12/site-packages/pineco\u001b[0m \u001b[2m                                 \u001b[0m\n",
       "\u001b[2;36m                    \u001b[0m         \u001b[32mne_plugins'\u001b[0m\u001b[1m]\u001b[0m\u001b[1m)\u001b[0m                                        \u001b[2m                                 \u001b[0m\n"
      ]
     },
     "metadata": {},
     "output_type": "display_data"
    },
    {
     "data": {
      "text/html": [
       "<pre style=\"white-space:pre;overflow-x:auto;line-height:normal;font-family:Menlo,'DejaVu Sans Mono',consolas,'Courier New',monospace\"><span style=\"color: #7fbfbf; text-decoration-color: #7fbfbf\">                    </span><span style=\"color: #000080; text-decoration-color: #000080\">INFO    </span> <span style=\"font-weight: bold\">[</span>installation.py:<span style=\"color: #008080; text-decoration-color: #008080; font-weight: bold\">10</span><span style=\"font-weight: bold\">]</span> &gt;&gt; Installing plugin inference into Pinecone   <a href=\"file:///home/jeongho/git/SKN05-FINAL-1TEAM/jeongho/RAG_env/lib/python3.12/site-packages/pinecone_plugin_interface/actions/installation.py\" target=\"_blank\"><span style=\"color: #7f7f7f; text-decoration-color: #7f7f7f\">installation.py</span></a><span style=\"color: #7f7f7f; text-decoration-color: #7f7f7f\">:</span><a href=\"file:///home/jeongho/git/SKN05-FINAL-1TEAM/jeongho/RAG_env/lib/python3.12/site-packages/pinecone_plugin_interface/actions/installation.py#10\" target=\"_blank\"><span style=\"color: #7f7f7f; text-decoration-color: #7f7f7f\">10</span></a>\n",
       "</pre>\n"
      ],
      "text/plain": [
       "\u001b[2;36m                   \u001b[0m\u001b[2;36m \u001b[0m\u001b[34mINFO    \u001b[0m \u001b[1m[\u001b[0minstallation.py:\u001b[1;36m10\u001b[0m\u001b[1m]\u001b[0m >> Installing plugin inference into Pinecone   \u001b]8;id=892993;file:///home/jeongho/git/SKN05-FINAL-1TEAM/jeongho/RAG_env/lib/python3.12/site-packages/pinecone_plugin_interface/actions/installation.py\u001b\\\u001b[2minstallation.py\u001b[0m\u001b]8;;\u001b\\\u001b[2m:\u001b[0m\u001b]8;id=821851;file:///home/jeongho/git/SKN05-FINAL-1TEAM/jeongho/RAG_env/lib/python3.12/site-packages/pinecone_plugin_interface/actions/installation.py#10\u001b\\\u001b[2m10\u001b[0m\u001b]8;;\u001b\\\n"
      ]
     },
     "metadata": {},
     "output_type": "display_data"
    },
    {
     "data": {
      "text/html": [
       "<pre style=\"white-space:pre;overflow-x:auto;line-height:normal;font-family:Menlo,'DejaVu Sans Mono',consolas,'Courier New',monospace\"><span style=\"color: #7fbfbf; text-decoration-color: #7fbfbf\">                    </span><span style=\"color: #000080; text-decoration-color: #000080\">INFO    </span> <span style=\"font-weight: bold\">[</span>discover_plugins.py:<span style=\"color: #008080; text-decoration-color: #008080; font-weight: bold\">9</span><span style=\"font-weight: bold\">]</span> &gt;&gt; Looking for plugins in                <a href=\"file:///home/jeongho/git/SKN05-FINAL-1TEAM/jeongho/RAG_env/lib/python3.12/site-packages/pinecone_plugin_interface/actions/discover_plugins.py\" target=\"_blank\"><span style=\"color: #7f7f7f; text-decoration-color: #7f7f7f\">discover_plugins.py</span></a><span style=\"color: #7f7f7f; text-decoration-color: #7f7f7f\">:</span><a href=\"file:///home/jeongho/git/SKN05-FINAL-1TEAM/jeongho/RAG_env/lib/python3.12/site-packages/pinecone_plugin_interface/actions/discover_plugins.py#9\" target=\"_blank\"><span style=\"color: #7f7f7f; text-decoration-color: #7f7f7f\">9</span></a>\n",
       "<span style=\"color: #7fbfbf; text-decoration-color: #7fbfbf\">                    </span>         pinecone_plugins.inference                                       <span style=\"color: #7f7f7f; text-decoration-color: #7f7f7f\">                     </span>\n",
       "</pre>\n"
      ],
      "text/plain": [
       "\u001b[2;36m                   \u001b[0m\u001b[2;36m \u001b[0m\u001b[34mINFO    \u001b[0m \u001b[1m[\u001b[0mdiscover_plugins.py:\u001b[1;36m9\u001b[0m\u001b[1m]\u001b[0m >> Looking for plugins in                \u001b]8;id=841950;file:///home/jeongho/git/SKN05-FINAL-1TEAM/jeongho/RAG_env/lib/python3.12/site-packages/pinecone_plugin_interface/actions/discover_plugins.py\u001b\\\u001b[2mdiscover_plugins.py\u001b[0m\u001b]8;;\u001b\\\u001b[2m:\u001b[0m\u001b]8;id=756799;file:///home/jeongho/git/SKN05-FINAL-1TEAM/jeongho/RAG_env/lib/python3.12/site-packages/pinecone_plugin_interface/actions/discover_plugins.py#9\u001b\\\u001b[2m9\u001b[0m\u001b]8;;\u001b\\\n",
       "\u001b[2;36m                    \u001b[0m         pinecone_plugins.inference                                       \u001b[2m                     \u001b[0m\n"
      ]
     },
     "metadata": {},
     "output_type": "display_data"
    },
    {
     "data": {
      "text/html": [
       "<pre style=\"white-space:pre;overflow-x:auto;line-height:normal;font-family:Menlo,'DejaVu Sans Mono',consolas,'Courier New',monospace\"><span style=\"color: #7fbfbf; text-decoration-color: #7fbfbf\">                    </span><span style=\"color: #000080; text-decoration-color: #000080\">INFO    </span> <span style=\"font-weight: bold\">[</span>discover_namespace_packages.py:<span style=\"color: #008080; text-decoration-color: #008080; font-weight: bold\">12</span><span style=\"font-weight: bold\">]</span> &gt;&gt; Discovering   <a href=\"file:///home/jeongho/git/SKN05-FINAL-1TEAM/jeongho/RAG_env/lib/python3.12/site-packages/pinecone_plugin_interface/actions/discover_namespace_packages.py\" target=\"_blank\"><span style=\"color: #7f7f7f; text-decoration-color: #7f7f7f\">discover_namespace_packages.py</span></a><span style=\"color: #7f7f7f; text-decoration-color: #7f7f7f\">:</span><a href=\"file:///home/jeongho/git/SKN05-FINAL-1TEAM/jeongho/RAG_env/lib/python3.12/site-packages/pinecone_plugin_interface/actions/discover_namespace_packages.py#12\" target=\"_blank\"><span style=\"color: #7f7f7f; text-decoration-color: #7f7f7f\">12</span></a>\n",
       "<span style=\"color: #7fbfbf; text-decoration-color: #7fbfbf\">                    </span>         subpackages in                                       <span style=\"color: #7f7f7f; text-decoration-color: #7f7f7f\">                                 </span>\n",
       "<span style=\"color: #7fbfbf; text-decoration-color: #7fbfbf\">                    </span>         <span style=\"color: #800080; text-decoration-color: #800080; font-weight: bold\">_NamespacePath</span><span style=\"font-weight: bold\">([</span><span style=\"color: #008000; text-decoration-color: #008000\">'/home/jeongho/git/SKN05-FINAL-1TEAM</span> <span style=\"color: #7f7f7f; text-decoration-color: #7f7f7f\">                                 </span>\n",
       "<span style=\"color: #7fbfbf; text-decoration-color: #7fbfbf\">                    </span>         <span style=\"color: #008000; text-decoration-color: #008000\">/jeongho/RAG_env/lib/python3.12/site-packages/pineco</span> <span style=\"color: #7f7f7f; text-decoration-color: #7f7f7f\">                                 </span>\n",
       "<span style=\"color: #7fbfbf; text-decoration-color: #7fbfbf\">                    </span>         <span style=\"color: #008000; text-decoration-color: #008000\">ne_plugins'</span><span style=\"font-weight: bold\">])</span>                                        <span style=\"color: #7f7f7f; text-decoration-color: #7f7f7f\">                                 </span>\n",
       "</pre>\n"
      ],
      "text/plain": [
       "\u001b[2;36m                   \u001b[0m\u001b[2;36m \u001b[0m\u001b[34mINFO    \u001b[0m \u001b[1m[\u001b[0mdiscover_namespace_packages.py:\u001b[1;36m12\u001b[0m\u001b[1m]\u001b[0m >> Discovering   \u001b]8;id=811178;file:///home/jeongho/git/SKN05-FINAL-1TEAM/jeongho/RAG_env/lib/python3.12/site-packages/pinecone_plugin_interface/actions/discover_namespace_packages.py\u001b\\\u001b[2mdiscover_namespace_packages.py\u001b[0m\u001b]8;;\u001b\\\u001b[2m:\u001b[0m\u001b]8;id=532497;file:///home/jeongho/git/SKN05-FINAL-1TEAM/jeongho/RAG_env/lib/python3.12/site-packages/pinecone_plugin_interface/actions/discover_namespace_packages.py#12\u001b\\\u001b[2m12\u001b[0m\u001b]8;;\u001b\\\n",
       "\u001b[2;36m                    \u001b[0m         subpackages in                                       \u001b[2m                                 \u001b[0m\n",
       "\u001b[2;36m                    \u001b[0m         \u001b[1;35m_NamespacePath\u001b[0m\u001b[1m(\u001b[0m\u001b[1m[\u001b[0m\u001b[32m'/home/jeongho/git/SKN05-FINAL-1TEAM\u001b[0m \u001b[2m                                 \u001b[0m\n",
       "\u001b[2;36m                    \u001b[0m         \u001b[32m/jeongho/RAG_env/lib/python3.12/site-packages/pineco\u001b[0m \u001b[2m                                 \u001b[0m\n",
       "\u001b[2;36m                    \u001b[0m         \u001b[32mne_plugins'\u001b[0m\u001b[1m]\u001b[0m\u001b[1m)\u001b[0m                                        \u001b[2m                                 \u001b[0m\n"
      ]
     },
     "metadata": {},
     "output_type": "display_data"
    },
    {
     "data": {
      "text/html": [
       "<pre style=\"white-space:pre;overflow-x:auto;line-height:normal;font-family:Menlo,'DejaVu Sans Mono',consolas,'Courier New',monospace\"><span style=\"color: #7fbfbf; text-decoration-color: #7fbfbf\">                    </span><span style=\"color: #000080; text-decoration-color: #000080\">INFO    </span> <span style=\"font-weight: bold\">[</span>discover_plugins.py:<span style=\"color: #008080; text-decoration-color: #008080; font-weight: bold\">9</span><span style=\"font-weight: bold\">]</span> &gt;&gt; Looking for plugins in                <a href=\"file:///home/jeongho/git/SKN05-FINAL-1TEAM/jeongho/RAG_env/lib/python3.12/site-packages/pinecone_plugin_interface/actions/discover_plugins.py\" target=\"_blank\"><span style=\"color: #7f7f7f; text-decoration-color: #7f7f7f\">discover_plugins.py</span></a><span style=\"color: #7f7f7f; text-decoration-color: #7f7f7f\">:</span><a href=\"file:///home/jeongho/git/SKN05-FINAL-1TEAM/jeongho/RAG_env/lib/python3.12/site-packages/pinecone_plugin_interface/actions/discover_plugins.py#9\" target=\"_blank\"><span style=\"color: #7f7f7f; text-decoration-color: #7f7f7f\">9</span></a>\n",
       "<span style=\"color: #7fbfbf; text-decoration-color: #7fbfbf\">                    </span>         pinecone_plugins.inference                                       <span style=\"color: #7f7f7f; text-decoration-color: #7f7f7f\">                     </span>\n",
       "</pre>\n"
      ],
      "text/plain": [
       "\u001b[2;36m                   \u001b[0m\u001b[2;36m \u001b[0m\u001b[34mINFO    \u001b[0m \u001b[1m[\u001b[0mdiscover_plugins.py:\u001b[1;36m9\u001b[0m\u001b[1m]\u001b[0m >> Looking for plugins in                \u001b]8;id=180746;file:///home/jeongho/git/SKN05-FINAL-1TEAM/jeongho/RAG_env/lib/python3.12/site-packages/pinecone_plugin_interface/actions/discover_plugins.py\u001b\\\u001b[2mdiscover_plugins.py\u001b[0m\u001b]8;;\u001b\\\u001b[2m:\u001b[0m\u001b]8;id=45073;file:///home/jeongho/git/SKN05-FINAL-1TEAM/jeongho/RAG_env/lib/python3.12/site-packages/pinecone_plugin_interface/actions/discover_plugins.py#9\u001b\\\u001b[2m9\u001b[0m\u001b]8;;\u001b\\\n",
       "\u001b[2;36m                    \u001b[0m         pinecone_plugins.inference                                       \u001b[2m                     \u001b[0m\n"
      ]
     },
     "metadata": {},
     "output_type": "display_data"
    },
    {
     "data": {
      "text/html": [
       "<pre style=\"white-space:pre;overflow-x:auto;line-height:normal;font-family:Menlo,'DejaVu Sans Mono',consolas,'Courier New',monospace\"><span style=\"color: #7fbfbf; text-decoration-color: #7fbfbf\">                    </span><span style=\"color: #000080; text-decoration-color: #000080\">INFO    </span> <span style=\"font-weight: bold\">[</span>discover_plugins.py:<span style=\"color: #008080; text-decoration-color: #008080; font-weight: bold\">9</span><span style=\"font-weight: bold\">]</span> &gt;&gt; Looking for plugins in                <a href=\"file:///home/jeongho/git/SKN05-FINAL-1TEAM/jeongho/RAG_env/lib/python3.12/site-packages/pinecone_plugin_interface/actions/discover_plugins.py\" target=\"_blank\"><span style=\"color: #7f7f7f; text-decoration-color: #7f7f7f\">discover_plugins.py</span></a><span style=\"color: #7f7f7f; text-decoration-color: #7f7f7f\">:</span><a href=\"file:///home/jeongho/git/SKN05-FINAL-1TEAM/jeongho/RAG_env/lib/python3.12/site-packages/pinecone_plugin_interface/actions/discover_plugins.py#9\" target=\"_blank\"><span style=\"color: #7f7f7f; text-decoration-color: #7f7f7f\">9</span></a>\n",
       "<span style=\"color: #7fbfbf; text-decoration-color: #7fbfbf\">                    </span>         pinecone_plugins.inference                                       <span style=\"color: #7f7f7f; text-decoration-color: #7f7f7f\">                     </span>\n",
       "</pre>\n"
      ],
      "text/plain": [
       "\u001b[2;36m                   \u001b[0m\u001b[2;36m \u001b[0m\u001b[34mINFO    \u001b[0m \u001b[1m[\u001b[0mdiscover_plugins.py:\u001b[1;36m9\u001b[0m\u001b[1m]\u001b[0m >> Looking for plugins in                \u001b]8;id=82357;file:///home/jeongho/git/SKN05-FINAL-1TEAM/jeongho/RAG_env/lib/python3.12/site-packages/pinecone_plugin_interface/actions/discover_plugins.py\u001b\\\u001b[2mdiscover_plugins.py\u001b[0m\u001b]8;;\u001b\\\u001b[2m:\u001b[0m\u001b]8;id=819775;file:///home/jeongho/git/SKN05-FINAL-1TEAM/jeongho/RAG_env/lib/python3.12/site-packages/pinecone_plugin_interface/actions/discover_plugins.py#9\u001b\\\u001b[2m9\u001b[0m\u001b]8;;\u001b\\\n",
       "\u001b[2;36m                    \u001b[0m         pinecone_plugins.inference                                       \u001b[2m                     \u001b[0m\n"
      ]
     },
     "metadata": {},
     "output_type": "display_data"
    },
    {
     "data": {
      "text/html": [
       "<pre style=\"white-space:pre;overflow-x:auto;line-height:normal;font-family:Menlo,'DejaVu Sans Mono',consolas,'Courier New',monospace\"><span style=\"color: #7fbfbf; text-decoration-color: #7fbfbf\">                    </span><span style=\"color: #000080; text-decoration-color: #000080\">INFO    </span> <span style=\"font-weight: bold\">[</span>discover_namespace_packages.py:<span style=\"color: #008080; text-decoration-color: #008080; font-weight: bold\">12</span><span style=\"font-weight: bold\">]</span> &gt;&gt; Discovering   <a href=\"file:///home/jeongho/git/SKN05-FINAL-1TEAM/jeongho/RAG_env/lib/python3.12/site-packages/pinecone_plugin_interface/actions/discover_namespace_packages.py\" target=\"_blank\"><span style=\"color: #7f7f7f; text-decoration-color: #7f7f7f\">discover_namespace_packages.py</span></a><span style=\"color: #7f7f7f; text-decoration-color: #7f7f7f\">:</span><a href=\"file:///home/jeongho/git/SKN05-FINAL-1TEAM/jeongho/RAG_env/lib/python3.12/site-packages/pinecone_plugin_interface/actions/discover_namespace_packages.py#12\" target=\"_blank\"><span style=\"color: #7f7f7f; text-decoration-color: #7f7f7f\">12</span></a>\n",
       "<span style=\"color: #7fbfbf; text-decoration-color: #7fbfbf\">                    </span>         subpackages in                                       <span style=\"color: #7f7f7f; text-decoration-color: #7f7f7f\">                                 </span>\n",
       "<span style=\"color: #7fbfbf; text-decoration-color: #7fbfbf\">                    </span>         <span style=\"color: #800080; text-decoration-color: #800080; font-weight: bold\">_NamespacePath</span><span style=\"font-weight: bold\">([</span><span style=\"color: #008000; text-decoration-color: #008000\">'/home/jeongho/git/SKN05-FINAL-1TEAM</span> <span style=\"color: #7f7f7f; text-decoration-color: #7f7f7f\">                                 </span>\n",
       "<span style=\"color: #7fbfbf; text-decoration-color: #7fbfbf\">                    </span>         <span style=\"color: #008000; text-decoration-color: #008000\">/jeongho/RAG_env/lib/python3.12/site-packages/pineco</span> <span style=\"color: #7f7f7f; text-decoration-color: #7f7f7f\">                                 </span>\n",
       "<span style=\"color: #7fbfbf; text-decoration-color: #7fbfbf\">                    </span>         <span style=\"color: #008000; text-decoration-color: #008000\">ne_plugins'</span><span style=\"font-weight: bold\">])</span>                                        <span style=\"color: #7f7f7f; text-decoration-color: #7f7f7f\">                                 </span>\n",
       "</pre>\n"
      ],
      "text/plain": [
       "\u001b[2;36m                   \u001b[0m\u001b[2;36m \u001b[0m\u001b[34mINFO    \u001b[0m \u001b[1m[\u001b[0mdiscover_namespace_packages.py:\u001b[1;36m12\u001b[0m\u001b[1m]\u001b[0m >> Discovering   \u001b]8;id=598930;file:///home/jeongho/git/SKN05-FINAL-1TEAM/jeongho/RAG_env/lib/python3.12/site-packages/pinecone_plugin_interface/actions/discover_namespace_packages.py\u001b\\\u001b[2mdiscover_namespace_packages.py\u001b[0m\u001b]8;;\u001b\\\u001b[2m:\u001b[0m\u001b]8;id=753498;file:///home/jeongho/git/SKN05-FINAL-1TEAM/jeongho/RAG_env/lib/python3.12/site-packages/pinecone_plugin_interface/actions/discover_namespace_packages.py#12\u001b\\\u001b[2m12\u001b[0m\u001b]8;;\u001b\\\n",
       "\u001b[2;36m                    \u001b[0m         subpackages in                                       \u001b[2m                                 \u001b[0m\n",
       "\u001b[2;36m                    \u001b[0m         \u001b[1;35m_NamespacePath\u001b[0m\u001b[1m(\u001b[0m\u001b[1m[\u001b[0m\u001b[32m'/home/jeongho/git/SKN05-FINAL-1TEAM\u001b[0m \u001b[2m                                 \u001b[0m\n",
       "\u001b[2;36m                    \u001b[0m         \u001b[32m/jeongho/RAG_env/lib/python3.12/site-packages/pineco\u001b[0m \u001b[2m                                 \u001b[0m\n",
       "\u001b[2;36m                    \u001b[0m         \u001b[32mne_plugins'\u001b[0m\u001b[1m]\u001b[0m\u001b[1m)\u001b[0m                                        \u001b[2m                                 \u001b[0m\n"
      ]
     },
     "metadata": {},
     "output_type": "display_data"
    },
    {
     "data": {
      "text/html": [
       "<pre style=\"white-space:pre;overflow-x:auto;line-height:normal;font-family:Menlo,'DejaVu Sans Mono',consolas,'Courier New',monospace\"><span style=\"color: #7fbfbf; text-decoration-color: #7fbfbf\">                    </span><span style=\"color: #000080; text-decoration-color: #000080\">INFO    </span> <span style=\"font-weight: bold\">[</span>discover_plugins.py:<span style=\"color: #008080; text-decoration-color: #008080; font-weight: bold\">9</span><span style=\"font-weight: bold\">]</span> &gt;&gt; Looking for plugins in                <a href=\"file:///home/jeongho/git/SKN05-FINAL-1TEAM/jeongho/RAG_env/lib/python3.12/site-packages/pinecone_plugin_interface/actions/discover_plugins.py\" target=\"_blank\"><span style=\"color: #7f7f7f; text-decoration-color: #7f7f7f\">discover_plugins.py</span></a><span style=\"color: #7f7f7f; text-decoration-color: #7f7f7f\">:</span><a href=\"file:///home/jeongho/git/SKN05-FINAL-1TEAM/jeongho/RAG_env/lib/python3.12/site-packages/pinecone_plugin_interface/actions/discover_plugins.py#9\" target=\"_blank\"><span style=\"color: #7f7f7f; text-decoration-color: #7f7f7f\">9</span></a>\n",
       "<span style=\"color: #7fbfbf; text-decoration-color: #7fbfbf\">                    </span>         pinecone_plugins.inference                                       <span style=\"color: #7f7f7f; text-decoration-color: #7f7f7f\">                     </span>\n",
       "</pre>\n"
      ],
      "text/plain": [
       "\u001b[2;36m                   \u001b[0m\u001b[2;36m \u001b[0m\u001b[34mINFO    \u001b[0m \u001b[1m[\u001b[0mdiscover_plugins.py:\u001b[1;36m9\u001b[0m\u001b[1m]\u001b[0m >> Looking for plugins in                \u001b]8;id=115717;file:///home/jeongho/git/SKN05-FINAL-1TEAM/jeongho/RAG_env/lib/python3.12/site-packages/pinecone_plugin_interface/actions/discover_plugins.py\u001b\\\u001b[2mdiscover_plugins.py\u001b[0m\u001b]8;;\u001b\\\u001b[2m:\u001b[0m\u001b]8;id=752891;file:///home/jeongho/git/SKN05-FINAL-1TEAM/jeongho/RAG_env/lib/python3.12/site-packages/pinecone_plugin_interface/actions/discover_plugins.py#9\u001b\\\u001b[2m9\u001b[0m\u001b]8;;\u001b\\\n",
       "\u001b[2;36m                    \u001b[0m         pinecone_plugins.inference                                       \u001b[2m                     \u001b[0m\n"
      ]
     },
     "metadata": {},
     "output_type": "display_data"
    },
    {
     "data": {
      "text/html": [
       "<pre style=\"white-space:pre;overflow-x:auto;line-height:normal;font-family:Menlo,'DejaVu Sans Mono',consolas,'Courier New',monospace\"><span style=\"color: #7fbfbf; text-decoration-color: #7fbfbf\">                    </span><span style=\"color: #000080; text-decoration-color: #000080\">INFO    </span> <span style=\"font-weight: bold\">[</span>discover_plugins.py:<span style=\"color: #008080; text-decoration-color: #008080; font-weight: bold\">9</span><span style=\"font-weight: bold\">]</span> &gt;&gt; Looking for plugins in                <a href=\"file:///home/jeongho/git/SKN05-FINAL-1TEAM/jeongho/RAG_env/lib/python3.12/site-packages/pinecone_plugin_interface/actions/discover_plugins.py\" target=\"_blank\"><span style=\"color: #7f7f7f; text-decoration-color: #7f7f7f\">discover_plugins.py</span></a><span style=\"color: #7f7f7f; text-decoration-color: #7f7f7f\">:</span><a href=\"file:///home/jeongho/git/SKN05-FINAL-1TEAM/jeongho/RAG_env/lib/python3.12/site-packages/pinecone_plugin_interface/actions/discover_plugins.py#9\" target=\"_blank\"><span style=\"color: #7f7f7f; text-decoration-color: #7f7f7f\">9</span></a>\n",
       "<span style=\"color: #7fbfbf; text-decoration-color: #7fbfbf\">                    </span>         pinecone_plugins.inference                                       <span style=\"color: #7f7f7f; text-decoration-color: #7f7f7f\">                     </span>\n",
       "</pre>\n"
      ],
      "text/plain": [
       "\u001b[2;36m                   \u001b[0m\u001b[2;36m \u001b[0m\u001b[34mINFO    \u001b[0m \u001b[1m[\u001b[0mdiscover_plugins.py:\u001b[1;36m9\u001b[0m\u001b[1m]\u001b[0m >> Looking for plugins in                \u001b]8;id=518014;file:///home/jeongho/git/SKN05-FINAL-1TEAM/jeongho/RAG_env/lib/python3.12/site-packages/pinecone_plugin_interface/actions/discover_plugins.py\u001b\\\u001b[2mdiscover_plugins.py\u001b[0m\u001b]8;;\u001b\\\u001b[2m:\u001b[0m\u001b]8;id=261731;file:///home/jeongho/git/SKN05-FINAL-1TEAM/jeongho/RAG_env/lib/python3.12/site-packages/pinecone_plugin_interface/actions/discover_plugins.py#9\u001b\\\u001b[2m9\u001b[0m\u001b]8;;\u001b\\\n",
       "\u001b[2;36m                    \u001b[0m         pinecone_plugins.inference                                       \u001b[2m                     \u001b[0m\n"
      ]
     },
     "metadata": {},
     "output_type": "display_data"
    },
    {
     "data": {
      "text/html": [
       "<pre style=\"white-space:pre;overflow-x:auto;line-height:normal;font-family:Menlo,'DejaVu Sans Mono',consolas,'Courier New',monospace\"><span style=\"color: #7fbfbf; text-decoration-color: #7fbfbf\">                    </span><span style=\"color: #000080; text-decoration-color: #000080\">INFO    </span> <span style=\"font-weight: bold\">[</span>discover_namespace_packages.py:<span style=\"color: #008080; text-decoration-color: #008080; font-weight: bold\">12</span><span style=\"font-weight: bold\">]</span> &gt;&gt; Discovering   <a href=\"file:///home/jeongho/git/SKN05-FINAL-1TEAM/jeongho/RAG_env/lib/python3.12/site-packages/pinecone_plugin_interface/actions/discover_namespace_packages.py\" target=\"_blank\"><span style=\"color: #7f7f7f; text-decoration-color: #7f7f7f\">discover_namespace_packages.py</span></a><span style=\"color: #7f7f7f; text-decoration-color: #7f7f7f\">:</span><a href=\"file:///home/jeongho/git/SKN05-FINAL-1TEAM/jeongho/RAG_env/lib/python3.12/site-packages/pinecone_plugin_interface/actions/discover_namespace_packages.py#12\" target=\"_blank\"><span style=\"color: #7f7f7f; text-decoration-color: #7f7f7f\">12</span></a>\n",
       "<span style=\"color: #7fbfbf; text-decoration-color: #7fbfbf\">                    </span>         subpackages in                                       <span style=\"color: #7f7f7f; text-decoration-color: #7f7f7f\">                                 </span>\n",
       "<span style=\"color: #7fbfbf; text-decoration-color: #7fbfbf\">                    </span>         <span style=\"color: #800080; text-decoration-color: #800080; font-weight: bold\">_NamespacePath</span><span style=\"font-weight: bold\">([</span><span style=\"color: #008000; text-decoration-color: #008000\">'/home/jeongho/git/SKN05-FINAL-1TEAM</span> <span style=\"color: #7f7f7f; text-decoration-color: #7f7f7f\">                                 </span>\n",
       "<span style=\"color: #7fbfbf; text-decoration-color: #7fbfbf\">                    </span>         <span style=\"color: #008000; text-decoration-color: #008000\">/jeongho/RAG_env/lib/python3.12/site-packages/pineco</span> <span style=\"color: #7f7f7f; text-decoration-color: #7f7f7f\">                                 </span>\n",
       "<span style=\"color: #7fbfbf; text-decoration-color: #7fbfbf\">                    </span>         <span style=\"color: #008000; text-decoration-color: #008000\">ne_plugins'</span><span style=\"font-weight: bold\">])</span>                                        <span style=\"color: #7f7f7f; text-decoration-color: #7f7f7f\">                                 </span>\n",
       "</pre>\n"
      ],
      "text/plain": [
       "\u001b[2;36m                   \u001b[0m\u001b[2;36m \u001b[0m\u001b[34mINFO    \u001b[0m \u001b[1m[\u001b[0mdiscover_namespace_packages.py:\u001b[1;36m12\u001b[0m\u001b[1m]\u001b[0m >> Discovering   \u001b]8;id=23944;file:///home/jeongho/git/SKN05-FINAL-1TEAM/jeongho/RAG_env/lib/python3.12/site-packages/pinecone_plugin_interface/actions/discover_namespace_packages.py\u001b\\\u001b[2mdiscover_namespace_packages.py\u001b[0m\u001b]8;;\u001b\\\u001b[2m:\u001b[0m\u001b]8;id=534152;file:///home/jeongho/git/SKN05-FINAL-1TEAM/jeongho/RAG_env/lib/python3.12/site-packages/pinecone_plugin_interface/actions/discover_namespace_packages.py#12\u001b\\\u001b[2m12\u001b[0m\u001b]8;;\u001b\\\n",
       "\u001b[2;36m                    \u001b[0m         subpackages in                                       \u001b[2m                                 \u001b[0m\n",
       "\u001b[2;36m                    \u001b[0m         \u001b[1;35m_NamespacePath\u001b[0m\u001b[1m(\u001b[0m\u001b[1m[\u001b[0m\u001b[32m'/home/jeongho/git/SKN05-FINAL-1TEAM\u001b[0m \u001b[2m                                 \u001b[0m\n",
       "\u001b[2;36m                    \u001b[0m         \u001b[32m/jeongho/RAG_env/lib/python3.12/site-packages/pineco\u001b[0m \u001b[2m                                 \u001b[0m\n",
       "\u001b[2;36m                    \u001b[0m         \u001b[32mne_plugins'\u001b[0m\u001b[1m]\u001b[0m\u001b[1m)\u001b[0m                                        \u001b[2m                                 \u001b[0m\n"
      ]
     },
     "metadata": {},
     "output_type": "display_data"
    },
    {
     "data": {
      "text/html": [
       "<pre style=\"white-space:pre;overflow-x:auto;line-height:normal;font-family:Menlo,'DejaVu Sans Mono',consolas,'Courier New',monospace\"><span style=\"color: #7fbfbf; text-decoration-color: #7fbfbf\">                    </span><span style=\"color: #000080; text-decoration-color: #000080\">INFO    </span> <span style=\"font-weight: bold\">[</span>discover_namespace_packages.py:<span style=\"color: #008080; text-decoration-color: #008080; font-weight: bold\">12</span><span style=\"font-weight: bold\">]</span> &gt;&gt; Discovering   <a href=\"file:///home/jeongho/git/SKN05-FINAL-1TEAM/jeongho/RAG_env/lib/python3.12/site-packages/pinecone_plugin_interface/actions/discover_namespace_packages.py\" target=\"_blank\"><span style=\"color: #7f7f7f; text-decoration-color: #7f7f7f\">discover_namespace_packages.py</span></a><span style=\"color: #7f7f7f; text-decoration-color: #7f7f7f\">:</span><a href=\"file:///home/jeongho/git/SKN05-FINAL-1TEAM/jeongho/RAG_env/lib/python3.12/site-packages/pinecone_plugin_interface/actions/discover_namespace_packages.py#12\" target=\"_blank\"><span style=\"color: #7f7f7f; text-decoration-color: #7f7f7f\">12</span></a>\n",
       "<span style=\"color: #7fbfbf; text-decoration-color: #7fbfbf\">                    </span>         subpackages in                                       <span style=\"color: #7f7f7f; text-decoration-color: #7f7f7f\">                                 </span>\n",
       "<span style=\"color: #7fbfbf; text-decoration-color: #7fbfbf\">                    </span>         <span style=\"color: #800080; text-decoration-color: #800080; font-weight: bold\">_NamespacePath</span><span style=\"font-weight: bold\">([</span><span style=\"color: #008000; text-decoration-color: #008000\">'/home/jeongho/git/SKN05-FINAL-1TEAM</span> <span style=\"color: #7f7f7f; text-decoration-color: #7f7f7f\">                                 </span>\n",
       "<span style=\"color: #7fbfbf; text-decoration-color: #7fbfbf\">                    </span>         <span style=\"color: #008000; text-decoration-color: #008000\">/jeongho/RAG_env/lib/python3.12/site-packages/pineco</span> <span style=\"color: #7f7f7f; text-decoration-color: #7f7f7f\">                                 </span>\n",
       "<span style=\"color: #7fbfbf; text-decoration-color: #7fbfbf\">                    </span>         <span style=\"color: #008000; text-decoration-color: #008000\">ne_plugins'</span><span style=\"font-weight: bold\">])</span>                                        <span style=\"color: #7f7f7f; text-decoration-color: #7f7f7f\">                                 </span>\n",
       "</pre>\n"
      ],
      "text/plain": [
       "\u001b[2;36m                   \u001b[0m\u001b[2;36m \u001b[0m\u001b[34mINFO    \u001b[0m \u001b[1m[\u001b[0mdiscover_namespace_packages.py:\u001b[1;36m12\u001b[0m\u001b[1m]\u001b[0m >> Discovering   \u001b]8;id=315703;file:///home/jeongho/git/SKN05-FINAL-1TEAM/jeongho/RAG_env/lib/python3.12/site-packages/pinecone_plugin_interface/actions/discover_namespace_packages.py\u001b\\\u001b[2mdiscover_namespace_packages.py\u001b[0m\u001b]8;;\u001b\\\u001b[2m:\u001b[0m\u001b]8;id=314824;file:///home/jeongho/git/SKN05-FINAL-1TEAM/jeongho/RAG_env/lib/python3.12/site-packages/pinecone_plugin_interface/actions/discover_namespace_packages.py#12\u001b\\\u001b[2m12\u001b[0m\u001b]8;;\u001b\\\n",
       "\u001b[2;36m                    \u001b[0m         subpackages in                                       \u001b[2m                                 \u001b[0m\n",
       "\u001b[2;36m                    \u001b[0m         \u001b[1;35m_NamespacePath\u001b[0m\u001b[1m(\u001b[0m\u001b[1m[\u001b[0m\u001b[32m'/home/jeongho/git/SKN05-FINAL-1TEAM\u001b[0m \u001b[2m                                 \u001b[0m\n",
       "\u001b[2;36m                    \u001b[0m         \u001b[32m/jeongho/RAG_env/lib/python3.12/site-packages/pineco\u001b[0m \u001b[2m                                 \u001b[0m\n",
       "\u001b[2;36m                    \u001b[0m         \u001b[32mne_plugins'\u001b[0m\u001b[1m]\u001b[0m\u001b[1m)\u001b[0m                                        \u001b[2m                                 \u001b[0m\n"
      ]
     },
     "metadata": {},
     "output_type": "display_data"
    },
    {
     "data": {
      "text/html": [
       "<pre style=\"white-space:pre;overflow-x:auto;line-height:normal;font-family:Menlo,'DejaVu Sans Mono',consolas,'Courier New',monospace\"><span style=\"color: #7fbfbf; text-decoration-color: #7fbfbf\">                    </span><span style=\"color: #000080; text-decoration-color: #000080\">INFO    </span> <span style=\"font-weight: bold\">[</span>discover_namespace_packages.py:<span style=\"color: #008080; text-decoration-color: #008080; font-weight: bold\">12</span><span style=\"font-weight: bold\">]</span> &gt;&gt; Discovering   <a href=\"file:///home/jeongho/git/SKN05-FINAL-1TEAM/jeongho/RAG_env/lib/python3.12/site-packages/pinecone_plugin_interface/actions/discover_namespace_packages.py\" target=\"_blank\"><span style=\"color: #7f7f7f; text-decoration-color: #7f7f7f\">discover_namespace_packages.py</span></a><span style=\"color: #7f7f7f; text-decoration-color: #7f7f7f\">:</span><a href=\"file:///home/jeongho/git/SKN05-FINAL-1TEAM/jeongho/RAG_env/lib/python3.12/site-packages/pinecone_plugin_interface/actions/discover_namespace_packages.py#12\" target=\"_blank\"><span style=\"color: #7f7f7f; text-decoration-color: #7f7f7f\">12</span></a>\n",
       "<span style=\"color: #7fbfbf; text-decoration-color: #7fbfbf\">                    </span>         subpackages in                                       <span style=\"color: #7f7f7f; text-decoration-color: #7f7f7f\">                                 </span>\n",
       "<span style=\"color: #7fbfbf; text-decoration-color: #7fbfbf\">                    </span>         <span style=\"color: #800080; text-decoration-color: #800080; font-weight: bold\">_NamespacePath</span><span style=\"font-weight: bold\">([</span><span style=\"color: #008000; text-decoration-color: #008000\">'/home/jeongho/git/SKN05-FINAL-1TEAM</span> <span style=\"color: #7f7f7f; text-decoration-color: #7f7f7f\">                                 </span>\n",
       "<span style=\"color: #7fbfbf; text-decoration-color: #7fbfbf\">                    </span>         <span style=\"color: #008000; text-decoration-color: #008000\">/jeongho/RAG_env/lib/python3.12/site-packages/pineco</span> <span style=\"color: #7f7f7f; text-decoration-color: #7f7f7f\">                                 </span>\n",
       "<span style=\"color: #7fbfbf; text-decoration-color: #7fbfbf\">                    </span>         <span style=\"color: #008000; text-decoration-color: #008000\">ne_plugins'</span><span style=\"font-weight: bold\">])</span>                                        <span style=\"color: #7f7f7f; text-decoration-color: #7f7f7f\">                                 </span>\n",
       "</pre>\n"
      ],
      "text/plain": [
       "\u001b[2;36m                   \u001b[0m\u001b[2;36m \u001b[0m\u001b[34mINFO    \u001b[0m \u001b[1m[\u001b[0mdiscover_namespace_packages.py:\u001b[1;36m12\u001b[0m\u001b[1m]\u001b[0m >> Discovering   \u001b]8;id=470852;file:///home/jeongho/git/SKN05-FINAL-1TEAM/jeongho/RAG_env/lib/python3.12/site-packages/pinecone_plugin_interface/actions/discover_namespace_packages.py\u001b\\\u001b[2mdiscover_namespace_packages.py\u001b[0m\u001b]8;;\u001b\\\u001b[2m:\u001b[0m\u001b]8;id=590095;file:///home/jeongho/git/SKN05-FINAL-1TEAM/jeongho/RAG_env/lib/python3.12/site-packages/pinecone_plugin_interface/actions/discover_namespace_packages.py#12\u001b\\\u001b[2m12\u001b[0m\u001b]8;;\u001b\\\n",
       "\u001b[2;36m                    \u001b[0m         subpackages in                                       \u001b[2m                                 \u001b[0m\n",
       "\u001b[2;36m                    \u001b[0m         \u001b[1;35m_NamespacePath\u001b[0m\u001b[1m(\u001b[0m\u001b[1m[\u001b[0m\u001b[32m'/home/jeongho/git/SKN05-FINAL-1TEAM\u001b[0m \u001b[2m                                 \u001b[0m\n",
       "\u001b[2;36m                    \u001b[0m         \u001b[32m/jeongho/RAG_env/lib/python3.12/site-packages/pineco\u001b[0m \u001b[2m                                 \u001b[0m\n",
       "\u001b[2;36m                    \u001b[0m         \u001b[32mne_plugins'\u001b[0m\u001b[1m]\u001b[0m\u001b[1m)\u001b[0m                                        \u001b[2m                                 \u001b[0m\n"
      ]
     },
     "metadata": {},
     "output_type": "display_data"
    },
    {
     "data": {
      "text/html": [
       "<pre style=\"white-space:pre;overflow-x:auto;line-height:normal;font-family:Menlo,'DejaVu Sans Mono',consolas,'Courier New',monospace\"><span style=\"color: #7fbfbf; text-decoration-color: #7fbfbf\">                    </span><span style=\"color: #000080; text-decoration-color: #000080\">INFO    </span> <span style=\"font-weight: bold\">[</span>discover_plugins.py:<span style=\"color: #008080; text-decoration-color: #008080; font-weight: bold\">9</span><span style=\"font-weight: bold\">]</span> &gt;&gt; Looking for plugins in                <a href=\"file:///home/jeongho/git/SKN05-FINAL-1TEAM/jeongho/RAG_env/lib/python3.12/site-packages/pinecone_plugin_interface/actions/discover_plugins.py\" target=\"_blank\"><span style=\"color: #7f7f7f; text-decoration-color: #7f7f7f\">discover_plugins.py</span></a><span style=\"color: #7f7f7f; text-decoration-color: #7f7f7f\">:</span><a href=\"file:///home/jeongho/git/SKN05-FINAL-1TEAM/jeongho/RAG_env/lib/python3.12/site-packages/pinecone_plugin_interface/actions/discover_plugins.py#9\" target=\"_blank\"><span style=\"color: #7f7f7f; text-decoration-color: #7f7f7f\">9</span></a>\n",
       "<span style=\"color: #7fbfbf; text-decoration-color: #7fbfbf\">                    </span>         pinecone_plugins.inference                                       <span style=\"color: #7f7f7f; text-decoration-color: #7f7f7f\">                     </span>\n",
       "</pre>\n"
      ],
      "text/plain": [
       "\u001b[2;36m                   \u001b[0m\u001b[2;36m \u001b[0m\u001b[34mINFO    \u001b[0m \u001b[1m[\u001b[0mdiscover_plugins.py:\u001b[1;36m9\u001b[0m\u001b[1m]\u001b[0m >> Looking for plugins in                \u001b]8;id=139879;file:///home/jeongho/git/SKN05-FINAL-1TEAM/jeongho/RAG_env/lib/python3.12/site-packages/pinecone_plugin_interface/actions/discover_plugins.py\u001b\\\u001b[2mdiscover_plugins.py\u001b[0m\u001b]8;;\u001b\\\u001b[2m:\u001b[0m\u001b]8;id=539501;file:///home/jeongho/git/SKN05-FINAL-1TEAM/jeongho/RAG_env/lib/python3.12/site-packages/pinecone_plugin_interface/actions/discover_plugins.py#9\u001b\\\u001b[2m9\u001b[0m\u001b]8;;\u001b\\\n",
       "\u001b[2;36m                    \u001b[0m         pinecone_plugins.inference                                       \u001b[2m                     \u001b[0m\n"
      ]
     },
     "metadata": {},
     "output_type": "display_data"
    },
    {
     "data": {
      "text/html": [
       "<pre style=\"white-space:pre;overflow-x:auto;line-height:normal;font-family:Menlo,'DejaVu Sans Mono',consolas,'Courier New',monospace\"><span style=\"color: #7fbfbf; text-decoration-color: #7fbfbf\">                    </span><span style=\"color: #000080; text-decoration-color: #000080\">INFO    </span> <span style=\"font-weight: bold\">[</span>discover_plugins.py:<span style=\"color: #008080; text-decoration-color: #008080; font-weight: bold\">9</span><span style=\"font-weight: bold\">]</span> &gt;&gt; Looking for plugins in                <a href=\"file:///home/jeongho/git/SKN05-FINAL-1TEAM/jeongho/RAG_env/lib/python3.12/site-packages/pinecone_plugin_interface/actions/discover_plugins.py\" target=\"_blank\"><span style=\"color: #7f7f7f; text-decoration-color: #7f7f7f\">discover_plugins.py</span></a><span style=\"color: #7f7f7f; text-decoration-color: #7f7f7f\">:</span><a href=\"file:///home/jeongho/git/SKN05-FINAL-1TEAM/jeongho/RAG_env/lib/python3.12/site-packages/pinecone_plugin_interface/actions/discover_plugins.py#9\" target=\"_blank\"><span style=\"color: #7f7f7f; text-decoration-color: #7f7f7f\">9</span></a>\n",
       "<span style=\"color: #7fbfbf; text-decoration-color: #7fbfbf\">                    </span>         pinecone_plugins.inference                                       <span style=\"color: #7f7f7f; text-decoration-color: #7f7f7f\">                     </span>\n",
       "</pre>\n"
      ],
      "text/plain": [
       "\u001b[2;36m                   \u001b[0m\u001b[2;36m \u001b[0m\u001b[34mINFO    \u001b[0m \u001b[1m[\u001b[0mdiscover_plugins.py:\u001b[1;36m9\u001b[0m\u001b[1m]\u001b[0m >> Looking for plugins in                \u001b]8;id=674221;file:///home/jeongho/git/SKN05-FINAL-1TEAM/jeongho/RAG_env/lib/python3.12/site-packages/pinecone_plugin_interface/actions/discover_plugins.py\u001b\\\u001b[2mdiscover_plugins.py\u001b[0m\u001b]8;;\u001b\\\u001b[2m:\u001b[0m\u001b]8;id=42739;file:///home/jeongho/git/SKN05-FINAL-1TEAM/jeongho/RAG_env/lib/python3.12/site-packages/pinecone_plugin_interface/actions/discover_plugins.py#9\u001b\\\u001b[2m9\u001b[0m\u001b]8;;\u001b\\\n",
       "\u001b[2;36m                    \u001b[0m         pinecone_plugins.inference                                       \u001b[2m                     \u001b[0m\n"
      ]
     },
     "metadata": {},
     "output_type": "display_data"
    },
    {
     "data": {
      "text/html": [
       "<pre style=\"white-space:pre;overflow-x:auto;line-height:normal;font-family:Menlo,'DejaVu Sans Mono',consolas,'Courier New',monospace\"><span style=\"color: #7fbfbf; text-decoration-color: #7fbfbf\">                    </span><span style=\"color: #000080; text-decoration-color: #000080\">INFO    </span> <span style=\"font-weight: bold\">[</span>discover_namespace_packages.py:<span style=\"color: #008080; text-decoration-color: #008080; font-weight: bold\">12</span><span style=\"font-weight: bold\">]</span> &gt;&gt; Discovering   <a href=\"file:///home/jeongho/git/SKN05-FINAL-1TEAM/jeongho/RAG_env/lib/python3.12/site-packages/pinecone_plugin_interface/actions/discover_namespace_packages.py\" target=\"_blank\"><span style=\"color: #7f7f7f; text-decoration-color: #7f7f7f\">discover_namespace_packages.py</span></a><span style=\"color: #7f7f7f; text-decoration-color: #7f7f7f\">:</span><a href=\"file:///home/jeongho/git/SKN05-FINAL-1TEAM/jeongho/RAG_env/lib/python3.12/site-packages/pinecone_plugin_interface/actions/discover_namespace_packages.py#12\" target=\"_blank\"><span style=\"color: #7f7f7f; text-decoration-color: #7f7f7f\">12</span></a>\n",
       "<span style=\"color: #7fbfbf; text-decoration-color: #7fbfbf\">                    </span>         subpackages in                                       <span style=\"color: #7f7f7f; text-decoration-color: #7f7f7f\">                                 </span>\n",
       "<span style=\"color: #7fbfbf; text-decoration-color: #7fbfbf\">                    </span>         <span style=\"color: #800080; text-decoration-color: #800080; font-weight: bold\">_NamespacePath</span><span style=\"font-weight: bold\">([</span><span style=\"color: #008000; text-decoration-color: #008000\">'/home/jeongho/git/SKN05-FINAL-1TEAM</span> <span style=\"color: #7f7f7f; text-decoration-color: #7f7f7f\">                                 </span>\n",
       "<span style=\"color: #7fbfbf; text-decoration-color: #7fbfbf\">                    </span>         <span style=\"color: #008000; text-decoration-color: #008000\">/jeongho/RAG_env/lib/python3.12/site-packages/pineco</span> <span style=\"color: #7f7f7f; text-decoration-color: #7f7f7f\">                                 </span>\n",
       "<span style=\"color: #7fbfbf; text-decoration-color: #7fbfbf\">                    </span>         <span style=\"color: #008000; text-decoration-color: #008000\">ne_plugins'</span><span style=\"font-weight: bold\">])</span>                                        <span style=\"color: #7f7f7f; text-decoration-color: #7f7f7f\">                                 </span>\n",
       "</pre>\n"
      ],
      "text/plain": [
       "\u001b[2;36m                   \u001b[0m\u001b[2;36m \u001b[0m\u001b[34mINFO    \u001b[0m \u001b[1m[\u001b[0mdiscover_namespace_packages.py:\u001b[1;36m12\u001b[0m\u001b[1m]\u001b[0m >> Discovering   \u001b]8;id=807018;file:///home/jeongho/git/SKN05-FINAL-1TEAM/jeongho/RAG_env/lib/python3.12/site-packages/pinecone_plugin_interface/actions/discover_namespace_packages.py\u001b\\\u001b[2mdiscover_namespace_packages.py\u001b[0m\u001b]8;;\u001b\\\u001b[2m:\u001b[0m\u001b]8;id=507334;file:///home/jeongho/git/SKN05-FINAL-1TEAM/jeongho/RAG_env/lib/python3.12/site-packages/pinecone_plugin_interface/actions/discover_namespace_packages.py#12\u001b\\\u001b[2m12\u001b[0m\u001b]8;;\u001b\\\n",
       "\u001b[2;36m                    \u001b[0m         subpackages in                                       \u001b[2m                                 \u001b[0m\n",
       "\u001b[2;36m                    \u001b[0m         \u001b[1;35m_NamespacePath\u001b[0m\u001b[1m(\u001b[0m\u001b[1m[\u001b[0m\u001b[32m'/home/jeongho/git/SKN05-FINAL-1TEAM\u001b[0m \u001b[2m                                 \u001b[0m\n",
       "\u001b[2;36m                    \u001b[0m         \u001b[32m/jeongho/RAG_env/lib/python3.12/site-packages/pineco\u001b[0m \u001b[2m                                 \u001b[0m\n",
       "\u001b[2;36m                    \u001b[0m         \u001b[32mne_plugins'\u001b[0m\u001b[1m]\u001b[0m\u001b[1m)\u001b[0m                                        \u001b[2m                                 \u001b[0m\n"
      ]
     },
     "metadata": {},
     "output_type": "display_data"
    },
    {
     "data": {
      "text/html": [
       "<pre style=\"white-space:pre;overflow-x:auto;line-height:normal;font-family:Menlo,'DejaVu Sans Mono',consolas,'Courier New',monospace\"><span style=\"color: #7fbfbf; text-decoration-color: #7fbfbf\">                    </span><span style=\"color: #000080; text-decoration-color: #000080\">INFO    </span> <span style=\"font-weight: bold\">[</span>discover_plugins.py:<span style=\"color: #008080; text-decoration-color: #008080; font-weight: bold\">9</span><span style=\"font-weight: bold\">]</span> &gt;&gt; Looking for plugins in                <a href=\"file:///home/jeongho/git/SKN05-FINAL-1TEAM/jeongho/RAG_env/lib/python3.12/site-packages/pinecone_plugin_interface/actions/discover_plugins.py\" target=\"_blank\"><span style=\"color: #7f7f7f; text-decoration-color: #7f7f7f\">discover_plugins.py</span></a><span style=\"color: #7f7f7f; text-decoration-color: #7f7f7f\">:</span><a href=\"file:///home/jeongho/git/SKN05-FINAL-1TEAM/jeongho/RAG_env/lib/python3.12/site-packages/pinecone_plugin_interface/actions/discover_plugins.py#9\" target=\"_blank\"><span style=\"color: #7f7f7f; text-decoration-color: #7f7f7f\">9</span></a>\n",
       "<span style=\"color: #7fbfbf; text-decoration-color: #7fbfbf\">                    </span>         pinecone_plugins.inference                                       <span style=\"color: #7f7f7f; text-decoration-color: #7f7f7f\">                     </span>\n",
       "</pre>\n"
      ],
      "text/plain": [
       "\u001b[2;36m                   \u001b[0m\u001b[2;36m \u001b[0m\u001b[34mINFO    \u001b[0m \u001b[1m[\u001b[0mdiscover_plugins.py:\u001b[1;36m9\u001b[0m\u001b[1m]\u001b[0m >> Looking for plugins in                \u001b]8;id=198958;file:///home/jeongho/git/SKN05-FINAL-1TEAM/jeongho/RAG_env/lib/python3.12/site-packages/pinecone_plugin_interface/actions/discover_plugins.py\u001b\\\u001b[2mdiscover_plugins.py\u001b[0m\u001b]8;;\u001b\\\u001b[2m:\u001b[0m\u001b]8;id=62022;file:///home/jeongho/git/SKN05-FINAL-1TEAM/jeongho/RAG_env/lib/python3.12/site-packages/pinecone_plugin_interface/actions/discover_plugins.py#9\u001b\\\u001b[2m9\u001b[0m\u001b]8;;\u001b\\\n",
       "\u001b[2;36m                    \u001b[0m         pinecone_plugins.inference                                       \u001b[2m                     \u001b[0m\n"
      ]
     },
     "metadata": {},
     "output_type": "display_data"
    },
    {
     "data": {
      "text/html": [
       "<pre style=\"white-space:pre;overflow-x:auto;line-height:normal;font-family:Menlo,'DejaVu Sans Mono',consolas,'Courier New',monospace\"><span style=\"color: #7fbfbf; text-decoration-color: #7fbfbf\">                    </span><span style=\"color: #000080; text-decoration-color: #000080\">INFO    </span> <span style=\"font-weight: bold\">[</span>discover_namespace_packages.py:<span style=\"color: #008080; text-decoration-color: #008080; font-weight: bold\">12</span><span style=\"font-weight: bold\">]</span> &gt;&gt; Discovering   <a href=\"file:///home/jeongho/git/SKN05-FINAL-1TEAM/jeongho/RAG_env/lib/python3.12/site-packages/pinecone_plugin_interface/actions/discover_namespace_packages.py\" target=\"_blank\"><span style=\"color: #7f7f7f; text-decoration-color: #7f7f7f\">discover_namespace_packages.py</span></a><span style=\"color: #7f7f7f; text-decoration-color: #7f7f7f\">:</span><a href=\"file:///home/jeongho/git/SKN05-FINAL-1TEAM/jeongho/RAG_env/lib/python3.12/site-packages/pinecone_plugin_interface/actions/discover_namespace_packages.py#12\" target=\"_blank\"><span style=\"color: #7f7f7f; text-decoration-color: #7f7f7f\">12</span></a>\n",
       "<span style=\"color: #7fbfbf; text-decoration-color: #7fbfbf\">                    </span>         subpackages in                                       <span style=\"color: #7f7f7f; text-decoration-color: #7f7f7f\">                                 </span>\n",
       "<span style=\"color: #7fbfbf; text-decoration-color: #7fbfbf\">                    </span>         <span style=\"color: #800080; text-decoration-color: #800080; font-weight: bold\">_NamespacePath</span><span style=\"font-weight: bold\">([</span><span style=\"color: #008000; text-decoration-color: #008000\">'/home/jeongho/git/SKN05-FINAL-1TEAM</span> <span style=\"color: #7f7f7f; text-decoration-color: #7f7f7f\">                                 </span>\n",
       "<span style=\"color: #7fbfbf; text-decoration-color: #7fbfbf\">                    </span>         <span style=\"color: #008000; text-decoration-color: #008000\">/jeongho/RAG_env/lib/python3.12/site-packages/pineco</span> <span style=\"color: #7f7f7f; text-decoration-color: #7f7f7f\">                                 </span>\n",
       "<span style=\"color: #7fbfbf; text-decoration-color: #7fbfbf\">                    </span>         <span style=\"color: #008000; text-decoration-color: #008000\">ne_plugins'</span><span style=\"font-weight: bold\">])</span>                                        <span style=\"color: #7f7f7f; text-decoration-color: #7f7f7f\">                                 </span>\n",
       "</pre>\n"
      ],
      "text/plain": [
       "\u001b[2;36m                   \u001b[0m\u001b[2;36m \u001b[0m\u001b[34mINFO    \u001b[0m \u001b[1m[\u001b[0mdiscover_namespace_packages.py:\u001b[1;36m12\u001b[0m\u001b[1m]\u001b[0m >> Discovering   \u001b]8;id=251774;file:///home/jeongho/git/SKN05-FINAL-1TEAM/jeongho/RAG_env/lib/python3.12/site-packages/pinecone_plugin_interface/actions/discover_namespace_packages.py\u001b\\\u001b[2mdiscover_namespace_packages.py\u001b[0m\u001b]8;;\u001b\\\u001b[2m:\u001b[0m\u001b]8;id=48553;file:///home/jeongho/git/SKN05-FINAL-1TEAM/jeongho/RAG_env/lib/python3.12/site-packages/pinecone_plugin_interface/actions/discover_namespace_packages.py#12\u001b\\\u001b[2m12\u001b[0m\u001b]8;;\u001b\\\n",
       "\u001b[2;36m                    \u001b[0m         subpackages in                                       \u001b[2m                                 \u001b[0m\n",
       "\u001b[2;36m                    \u001b[0m         \u001b[1;35m_NamespacePath\u001b[0m\u001b[1m(\u001b[0m\u001b[1m[\u001b[0m\u001b[32m'/home/jeongho/git/SKN05-FINAL-1TEAM\u001b[0m \u001b[2m                                 \u001b[0m\n",
       "\u001b[2;36m                    \u001b[0m         \u001b[32m/jeongho/RAG_env/lib/python3.12/site-packages/pineco\u001b[0m \u001b[2m                                 \u001b[0m\n",
       "\u001b[2;36m                    \u001b[0m         \u001b[32mne_plugins'\u001b[0m\u001b[1m]\u001b[0m\u001b[1m)\u001b[0m                                        \u001b[2m                                 \u001b[0m\n"
      ]
     },
     "metadata": {},
     "output_type": "display_data"
    },
    {
     "data": {
      "text/html": [
       "<pre style=\"white-space:pre;overflow-x:auto;line-height:normal;font-family:Menlo,'DejaVu Sans Mono',consolas,'Courier New',monospace\"><span style=\"color: #7fbfbf; text-decoration-color: #7fbfbf\">                    </span><span style=\"color: #000080; text-decoration-color: #000080\">INFO    </span> <span style=\"font-weight: bold\">[</span>discover_plugins.py:<span style=\"color: #008080; text-decoration-color: #008080; font-weight: bold\">9</span><span style=\"font-weight: bold\">]</span> &gt;&gt; Looking for plugins in                <a href=\"file:///home/jeongho/git/SKN05-FINAL-1TEAM/jeongho/RAG_env/lib/python3.12/site-packages/pinecone_plugin_interface/actions/discover_plugins.py\" target=\"_blank\"><span style=\"color: #7f7f7f; text-decoration-color: #7f7f7f\">discover_plugins.py</span></a><span style=\"color: #7f7f7f; text-decoration-color: #7f7f7f\">:</span><a href=\"file:///home/jeongho/git/SKN05-FINAL-1TEAM/jeongho/RAG_env/lib/python3.12/site-packages/pinecone_plugin_interface/actions/discover_plugins.py#9\" target=\"_blank\"><span style=\"color: #7f7f7f; text-decoration-color: #7f7f7f\">9</span></a>\n",
       "<span style=\"color: #7fbfbf; text-decoration-color: #7fbfbf\">                    </span>         pinecone_plugins.inference                                       <span style=\"color: #7f7f7f; text-decoration-color: #7f7f7f\">                     </span>\n",
       "</pre>\n"
      ],
      "text/plain": [
       "\u001b[2;36m                   \u001b[0m\u001b[2;36m \u001b[0m\u001b[34mINFO    \u001b[0m \u001b[1m[\u001b[0mdiscover_plugins.py:\u001b[1;36m9\u001b[0m\u001b[1m]\u001b[0m >> Looking for plugins in                \u001b]8;id=342857;file:///home/jeongho/git/SKN05-FINAL-1TEAM/jeongho/RAG_env/lib/python3.12/site-packages/pinecone_plugin_interface/actions/discover_plugins.py\u001b\\\u001b[2mdiscover_plugins.py\u001b[0m\u001b]8;;\u001b\\\u001b[2m:\u001b[0m\u001b]8;id=512823;file:///home/jeongho/git/SKN05-FINAL-1TEAM/jeongho/RAG_env/lib/python3.12/site-packages/pinecone_plugin_interface/actions/discover_plugins.py#9\u001b\\\u001b[2m9\u001b[0m\u001b]8;;\u001b\\\n",
       "\u001b[2;36m                    \u001b[0m         pinecone_plugins.inference                                       \u001b[2m                     \u001b[0m\n"
      ]
     },
     "metadata": {},
     "output_type": "display_data"
    },
    {
     "data": {
      "text/html": [
       "<pre style=\"white-space:pre;overflow-x:auto;line-height:normal;font-family:Menlo,'DejaVu Sans Mono',consolas,'Courier New',monospace\"><span style=\"color: #7fbfbf; text-decoration-color: #7fbfbf\">                    </span><span style=\"color: #000080; text-decoration-color: #000080\">INFO    </span> <span style=\"font-weight: bold\">[</span>discover_plugins.py:<span style=\"color: #008080; text-decoration-color: #008080; font-weight: bold\">9</span><span style=\"font-weight: bold\">]</span> &gt;&gt; Looking for plugins in                <a href=\"file:///home/jeongho/git/SKN05-FINAL-1TEAM/jeongho/RAG_env/lib/python3.12/site-packages/pinecone_plugin_interface/actions/discover_plugins.py\" target=\"_blank\"><span style=\"color: #7f7f7f; text-decoration-color: #7f7f7f\">discover_plugins.py</span></a><span style=\"color: #7f7f7f; text-decoration-color: #7f7f7f\">:</span><a href=\"file:///home/jeongho/git/SKN05-FINAL-1TEAM/jeongho/RAG_env/lib/python3.12/site-packages/pinecone_plugin_interface/actions/discover_plugins.py#9\" target=\"_blank\"><span style=\"color: #7f7f7f; text-decoration-color: #7f7f7f\">9</span></a>\n",
       "<span style=\"color: #7fbfbf; text-decoration-color: #7fbfbf\">                    </span>         pinecone_plugins.inference                                       <span style=\"color: #7f7f7f; text-decoration-color: #7f7f7f\">                     </span>\n",
       "</pre>\n"
      ],
      "text/plain": [
       "\u001b[2;36m                   \u001b[0m\u001b[2;36m \u001b[0m\u001b[34mINFO    \u001b[0m \u001b[1m[\u001b[0mdiscover_plugins.py:\u001b[1;36m9\u001b[0m\u001b[1m]\u001b[0m >> Looking for plugins in                \u001b]8;id=603113;file:///home/jeongho/git/SKN05-FINAL-1TEAM/jeongho/RAG_env/lib/python3.12/site-packages/pinecone_plugin_interface/actions/discover_plugins.py\u001b\\\u001b[2mdiscover_plugins.py\u001b[0m\u001b]8;;\u001b\\\u001b[2m:\u001b[0m\u001b]8;id=760498;file:///home/jeongho/git/SKN05-FINAL-1TEAM/jeongho/RAG_env/lib/python3.12/site-packages/pinecone_plugin_interface/actions/discover_plugins.py#9\u001b\\\u001b[2m9\u001b[0m\u001b]8;;\u001b\\\n",
       "\u001b[2;36m                    \u001b[0m         pinecone_plugins.inference                                       \u001b[2m                     \u001b[0m\n"
      ]
     },
     "metadata": {},
     "output_type": "display_data"
    },
    {
     "data": {
      "text/html": [
       "<pre style=\"white-space:pre;overflow-x:auto;line-height:normal;font-family:Menlo,'DejaVu Sans Mono',consolas,'Courier New',monospace\"><span style=\"color: #7fbfbf; text-decoration-color: #7fbfbf\">[02/09/25 04:02:42] </span><span style=\"color: #000080; text-decoration-color: #000080\">INFO    </span> <span style=\"font-weight: bold\">[</span>_client.py:<span style=\"color: #008080; text-decoration-color: #008080; font-weight: bold\">1026</span><span style=\"font-weight: bold\">]</span> &gt;&gt; HTTP Request: <span style=\"color: #808000; text-decoration-color: #808000; font-weight: bold\">POST</span>                                <a href=\"file:///home/jeongho/git/SKN05-FINAL-1TEAM/jeongho/RAG_env/lib/python3.12/site-packages/httpx/_client.py\" target=\"_blank\"><span style=\"color: #7f7f7f; text-decoration-color: #7f7f7f\">_client.py</span></a><span style=\"color: #7f7f7f; text-decoration-color: #7f7f7f\">:</span><a href=\"file:///home/jeongho/git/SKN05-FINAL-1TEAM/jeongho/RAG_env/lib/python3.12/site-packages/httpx/_client.py#1026\" target=\"_blank\"><span style=\"color: #7f7f7f; text-decoration-color: #7f7f7f\">1026</span></a>\n",
       "<span style=\"color: #7fbfbf; text-decoration-color: #7fbfbf\">                    </span>         <span style=\"color: #0000ff; text-decoration-color: #0000ff; text-decoration: underline\">https://api.openai.com/v1/embeddings</span> <span style=\"color: #008000; text-decoration-color: #008000\">\"HTTP/1.1 200 OK\"</span>                 <span style=\"color: #7f7f7f; text-decoration-color: #7f7f7f\">               </span>\n",
       "</pre>\n"
      ],
      "text/plain": [
       "\u001b[2;36m[02/09/25 04:02:42]\u001b[0m\u001b[2;36m \u001b[0m\u001b[34mINFO    \u001b[0m \u001b[1m[\u001b[0m_client.py:\u001b[1;36m1026\u001b[0m\u001b[1m]\u001b[0m >> HTTP Request: \u001b[1;33mPOST\u001b[0m                                \u001b]8;id=619217;file:///home/jeongho/git/SKN05-FINAL-1TEAM/jeongho/RAG_env/lib/python3.12/site-packages/httpx/_client.py\u001b\\\u001b[2m_client.py\u001b[0m\u001b]8;;\u001b\\\u001b[2m:\u001b[0m\u001b]8;id=713495;file:///home/jeongho/git/SKN05-FINAL-1TEAM/jeongho/RAG_env/lib/python3.12/site-packages/httpx/_client.py#1026\u001b\\\u001b[2m1026\u001b[0m\u001b]8;;\u001b\\\n",
       "\u001b[2;36m                    \u001b[0m         \u001b[4;94mhttps://api.openai.com/v1/embeddings\u001b[0m \u001b[32m\"HTTP/1.1 200 OK\"\u001b[0m                 \u001b[2m               \u001b[0m\n"
      ]
     },
     "metadata": {},
     "output_type": "display_data"
    },
    {
     "data": {
      "text/html": [
       "<pre style=\"white-space:pre;overflow-x:auto;line-height:normal;font-family:Menlo,'DejaVu Sans Mono',consolas,'Courier New',monospace\"><span style=\"color: #7fbfbf; text-decoration-color: #7fbfbf\">                    </span><span style=\"color: #000080; text-decoration-color: #000080\">INFO    </span> <span style=\"font-weight: bold\">[</span>_client.py:<span style=\"color: #008080; text-decoration-color: #008080; font-weight: bold\">1026</span><span style=\"font-weight: bold\">]</span> &gt;&gt; HTTP Request: <span style=\"color: #808000; text-decoration-color: #808000; font-weight: bold\">POST</span>                                <a href=\"file:///home/jeongho/git/SKN05-FINAL-1TEAM/jeongho/RAG_env/lib/python3.12/site-packages/httpx/_client.py\" target=\"_blank\"><span style=\"color: #7f7f7f; text-decoration-color: #7f7f7f\">_client.py</span></a><span style=\"color: #7f7f7f; text-decoration-color: #7f7f7f\">:</span><a href=\"file:///home/jeongho/git/SKN05-FINAL-1TEAM/jeongho/RAG_env/lib/python3.12/site-packages/httpx/_client.py#1026\" target=\"_blank\"><span style=\"color: #7f7f7f; text-decoration-color: #7f7f7f\">1026</span></a>\n",
       "<span style=\"color: #7fbfbf; text-decoration-color: #7fbfbf\">                    </span>         <span style=\"color: #0000ff; text-decoration-color: #0000ff; text-decoration: underline\">https://api.openai.com/v1/embeddings</span> <span style=\"color: #008000; text-decoration-color: #008000\">\"HTTP/1.1 200 OK\"</span>                 <span style=\"color: #7f7f7f; text-decoration-color: #7f7f7f\">               </span>\n",
       "</pre>\n"
      ],
      "text/plain": [
       "\u001b[2;36m                   \u001b[0m\u001b[2;36m \u001b[0m\u001b[34mINFO    \u001b[0m \u001b[1m[\u001b[0m_client.py:\u001b[1;36m1026\u001b[0m\u001b[1m]\u001b[0m >> HTTP Request: \u001b[1;33mPOST\u001b[0m                                \u001b]8;id=201869;file:///home/jeongho/git/SKN05-FINAL-1TEAM/jeongho/RAG_env/lib/python3.12/site-packages/httpx/_client.py\u001b\\\u001b[2m_client.py\u001b[0m\u001b]8;;\u001b\\\u001b[2m:\u001b[0m\u001b]8;id=255070;file:///home/jeongho/git/SKN05-FINAL-1TEAM/jeongho/RAG_env/lib/python3.12/site-packages/httpx/_client.py#1026\u001b\\\u001b[2m1026\u001b[0m\u001b]8;;\u001b\\\n",
       "\u001b[2;36m                    \u001b[0m         \u001b[4;94mhttps://api.openai.com/v1/embeddings\u001b[0m \u001b[32m\"HTTP/1.1 200 OK\"\u001b[0m                 \u001b[2m               \u001b[0m\n"
      ]
     },
     "metadata": {},
     "output_type": "display_data"
    },
    {
     "data": {
      "text/html": [
       "<pre style=\"white-space:pre;overflow-x:auto;line-height:normal;font-family:Menlo,'DejaVu Sans Mono',consolas,'Courier New',monospace\"><span style=\"color: #7fbfbf; text-decoration-color: #7fbfbf\">[02/09/25 04:02:43] </span><span style=\"color: #000080; text-decoration-color: #000080\">INFO    </span> <span style=\"font-weight: bold\">[</span>_client.py:<span style=\"color: #008080; text-decoration-color: #008080; font-weight: bold\">1026</span><span style=\"font-weight: bold\">]</span> &gt;&gt; HTTP Request: <span style=\"color: #808000; text-decoration-color: #808000; font-weight: bold\">POST</span>                                <a href=\"file:///home/jeongho/git/SKN05-FINAL-1TEAM/jeongho/RAG_env/lib/python3.12/site-packages/httpx/_client.py\" target=\"_blank\"><span style=\"color: #7f7f7f; text-decoration-color: #7f7f7f\">_client.py</span></a><span style=\"color: #7f7f7f; text-decoration-color: #7f7f7f\">:</span><a href=\"file:///home/jeongho/git/SKN05-FINAL-1TEAM/jeongho/RAG_env/lib/python3.12/site-packages/httpx/_client.py#1026\" target=\"_blank\"><span style=\"color: #7f7f7f; text-decoration-color: #7f7f7f\">1026</span></a>\n",
       "<span style=\"color: #7fbfbf; text-decoration-color: #7fbfbf\">                    </span>         <span style=\"color: #0000ff; text-decoration-color: #0000ff; text-decoration: underline\">https://api.openai.com/v1/embeddings</span> <span style=\"color: #008000; text-decoration-color: #008000\">\"HTTP/1.1 200 OK\"</span>                 <span style=\"color: #7f7f7f; text-decoration-color: #7f7f7f\">               </span>\n",
       "</pre>\n"
      ],
      "text/plain": [
       "\u001b[2;36m[02/09/25 04:02:43]\u001b[0m\u001b[2;36m \u001b[0m\u001b[34mINFO    \u001b[0m \u001b[1m[\u001b[0m_client.py:\u001b[1;36m1026\u001b[0m\u001b[1m]\u001b[0m >> HTTP Request: \u001b[1;33mPOST\u001b[0m                                \u001b]8;id=109141;file:///home/jeongho/git/SKN05-FINAL-1TEAM/jeongho/RAG_env/lib/python3.12/site-packages/httpx/_client.py\u001b\\\u001b[2m_client.py\u001b[0m\u001b]8;;\u001b\\\u001b[2m:\u001b[0m\u001b]8;id=398279;file:///home/jeongho/git/SKN05-FINAL-1TEAM/jeongho/RAG_env/lib/python3.12/site-packages/httpx/_client.py#1026\u001b\\\u001b[2m1026\u001b[0m\u001b]8;;\u001b\\\n",
       "\u001b[2;36m                    \u001b[0m         \u001b[4;94mhttps://api.openai.com/v1/embeddings\u001b[0m \u001b[32m\"HTTP/1.1 200 OK\"\u001b[0m                 \u001b[2m               \u001b[0m\n"
      ]
     },
     "metadata": {},
     "output_type": "display_data"
    },
    {
     "data": {
      "text/html": [
       "<pre style=\"white-space:pre;overflow-x:auto;line-height:normal;font-family:Menlo,'DejaVu Sans Mono',consolas,'Courier New',monospace\"><span style=\"color: #7fbfbf; text-decoration-color: #7fbfbf\">                    </span><span style=\"color: #000080; text-decoration-color: #000080\">INFO    </span> <span style=\"font-weight: bold\">[</span>_client.py:<span style=\"color: #008080; text-decoration-color: #008080; font-weight: bold\">1026</span><span style=\"font-weight: bold\">]</span> &gt;&gt; HTTP Request: <span style=\"color: #808000; text-decoration-color: #808000; font-weight: bold\">POST</span>                                <a href=\"file:///home/jeongho/git/SKN05-FINAL-1TEAM/jeongho/RAG_env/lib/python3.12/site-packages/httpx/_client.py\" target=\"_blank\"><span style=\"color: #7f7f7f; text-decoration-color: #7f7f7f\">_client.py</span></a><span style=\"color: #7f7f7f; text-decoration-color: #7f7f7f\">:</span><a href=\"file:///home/jeongho/git/SKN05-FINAL-1TEAM/jeongho/RAG_env/lib/python3.12/site-packages/httpx/_client.py#1026\" target=\"_blank\"><span style=\"color: #7f7f7f; text-decoration-color: #7f7f7f\">1026</span></a>\n",
       "<span style=\"color: #7fbfbf; text-decoration-color: #7fbfbf\">                    </span>         <span style=\"color: #0000ff; text-decoration-color: #0000ff; text-decoration: underline\">https://api.openai.com/v1/embeddings</span> <span style=\"color: #008000; text-decoration-color: #008000\">\"HTTP/1.1 200 OK\"</span>                 <span style=\"color: #7f7f7f; text-decoration-color: #7f7f7f\">               </span>\n",
       "</pre>\n"
      ],
      "text/plain": [
       "\u001b[2;36m                   \u001b[0m\u001b[2;36m \u001b[0m\u001b[34mINFO    \u001b[0m \u001b[1m[\u001b[0m_client.py:\u001b[1;36m1026\u001b[0m\u001b[1m]\u001b[0m >> HTTP Request: \u001b[1;33mPOST\u001b[0m                                \u001b]8;id=956871;file:///home/jeongho/git/SKN05-FINAL-1TEAM/jeongho/RAG_env/lib/python3.12/site-packages/httpx/_client.py\u001b\\\u001b[2m_client.py\u001b[0m\u001b]8;;\u001b\\\u001b[2m:\u001b[0m\u001b]8;id=124837;file:///home/jeongho/git/SKN05-FINAL-1TEAM/jeongho/RAG_env/lib/python3.12/site-packages/httpx/_client.py#1026\u001b\\\u001b[2m1026\u001b[0m\u001b]8;;\u001b\\\n",
       "\u001b[2;36m                    \u001b[0m         \u001b[4;94mhttps://api.openai.com/v1/embeddings\u001b[0m \u001b[32m\"HTTP/1.1 200 OK\"\u001b[0m                 \u001b[2m               \u001b[0m\n"
      ]
     },
     "metadata": {},
     "output_type": "display_data"
    },
    {
     "data": {
      "text/html": [
       "<pre style=\"white-space:pre;overflow-x:auto;line-height:normal;font-family:Menlo,'DejaVu Sans Mono',consolas,'Courier New',monospace\"><span style=\"color: #7fbfbf; text-decoration-color: #7fbfbf\">                    </span><span style=\"color: #000080; text-decoration-color: #000080\">INFO    </span> <span style=\"font-weight: bold\">[</span>_client.py:<span style=\"color: #008080; text-decoration-color: #008080; font-weight: bold\">1026</span><span style=\"font-weight: bold\">]</span> &gt;&gt; HTTP Request: <span style=\"color: #808000; text-decoration-color: #808000; font-weight: bold\">POST</span>                                <a href=\"file:///home/jeongho/git/SKN05-FINAL-1TEAM/jeongho/RAG_env/lib/python3.12/site-packages/httpx/_client.py\" target=\"_blank\"><span style=\"color: #7f7f7f; text-decoration-color: #7f7f7f\">_client.py</span></a><span style=\"color: #7f7f7f; text-decoration-color: #7f7f7f\">:</span><a href=\"file:///home/jeongho/git/SKN05-FINAL-1TEAM/jeongho/RAG_env/lib/python3.12/site-packages/httpx/_client.py#1026\" target=\"_blank\"><span style=\"color: #7f7f7f; text-decoration-color: #7f7f7f\">1026</span></a>\n",
       "<span style=\"color: #7fbfbf; text-decoration-color: #7fbfbf\">                    </span>         <span style=\"color: #0000ff; text-decoration-color: #0000ff; text-decoration: underline\">https://api.openai.com/v1/embeddings</span> <span style=\"color: #008000; text-decoration-color: #008000\">\"HTTP/1.1 200 OK\"</span>                 <span style=\"color: #7f7f7f; text-decoration-color: #7f7f7f\">               </span>\n",
       "</pre>\n"
      ],
      "text/plain": [
       "\u001b[2;36m                   \u001b[0m\u001b[2;36m \u001b[0m\u001b[34mINFO    \u001b[0m \u001b[1m[\u001b[0m_client.py:\u001b[1;36m1026\u001b[0m\u001b[1m]\u001b[0m >> HTTP Request: \u001b[1;33mPOST\u001b[0m                                \u001b]8;id=709892;file:///home/jeongho/git/SKN05-FINAL-1TEAM/jeongho/RAG_env/lib/python3.12/site-packages/httpx/_client.py\u001b\\\u001b[2m_client.py\u001b[0m\u001b]8;;\u001b\\\u001b[2m:\u001b[0m\u001b]8;id=143055;file:///home/jeongho/git/SKN05-FINAL-1TEAM/jeongho/RAG_env/lib/python3.12/site-packages/httpx/_client.py#1026\u001b\\\u001b[2m1026\u001b[0m\u001b]8;;\u001b\\\n",
       "\u001b[2;36m                    \u001b[0m         \u001b[4;94mhttps://api.openai.com/v1/embeddings\u001b[0m \u001b[32m\"HTTP/1.1 200 OK\"\u001b[0m                 \u001b[2m               \u001b[0m\n"
      ]
     },
     "metadata": {},
     "output_type": "display_data"
    },
    {
     "name": "stdout",
     "output_type": "stream",
     "text": [
      "---DOCUMENT FILTERING---\n"
     ]
    },
    {
     "data": {
      "text/html": [
       "<pre style=\"white-space:pre;overflow-x:auto;line-height:normal;font-family:Menlo,'DejaVu Sans Mono',consolas,'Courier New',monospace\"><span style=\"color: #7fbfbf; text-decoration-color: #7fbfbf\">[02/09/25 04:02:54] </span><span style=\"color: #000080; text-decoration-color: #000080\">INFO    </span> <span style=\"font-weight: bold\">[</span>SentenceTransformer.py:<span style=\"color: #008080; text-decoration-color: #008080; font-weight: bold\">210</span><span style=\"font-weight: bold\">]</span> &gt;&gt; Use pytorch device_name:    <a href=\"file:///home/jeongho/git/SKN05-FINAL-1TEAM/jeongho/RAG_env/lib/python3.12/site-packages/sentence_transformers/SentenceTransformer.py\" target=\"_blank\"><span style=\"color: #7f7f7f; text-decoration-color: #7f7f7f\">SentenceTransformer.py</span></a><span style=\"color: #7f7f7f; text-decoration-color: #7f7f7f\">:</span><a href=\"file:///home/jeongho/git/SKN05-FINAL-1TEAM/jeongho/RAG_env/lib/python3.12/site-packages/sentence_transformers/SentenceTransformer.py#210\" target=\"_blank\"><span style=\"color: #7f7f7f; text-decoration-color: #7f7f7f\">210</span></a>\n",
       "<span style=\"color: #7fbfbf; text-decoration-color: #7fbfbf\">                    </span>         cuda                                                        <span style=\"color: #7f7f7f; text-decoration-color: #7f7f7f\">                          </span>\n",
       "</pre>\n"
      ],
      "text/plain": [
       "\u001b[2;36m[02/09/25 04:02:54]\u001b[0m\u001b[2;36m \u001b[0m\u001b[34mINFO    \u001b[0m \u001b[1m[\u001b[0mSentenceTransformer.py:\u001b[1;36m210\u001b[0m\u001b[1m]\u001b[0m >> Use pytorch device_name:    \u001b]8;id=684074;file:///home/jeongho/git/SKN05-FINAL-1TEAM/jeongho/RAG_env/lib/python3.12/site-packages/sentence_transformers/SentenceTransformer.py\u001b\\\u001b[2mSentenceTransformer.py\u001b[0m\u001b]8;;\u001b\\\u001b[2m:\u001b[0m\u001b]8;id=386878;file:///home/jeongho/git/SKN05-FINAL-1TEAM/jeongho/RAG_env/lib/python3.12/site-packages/sentence_transformers/SentenceTransformer.py#210\u001b\\\u001b[2m210\u001b[0m\u001b]8;;\u001b\\\n",
       "\u001b[2;36m                    \u001b[0m         cuda                                                        \u001b[2m                          \u001b[0m\n"
      ]
     },
     "metadata": {},
     "output_type": "display_data"
    },
    {
     "data": {
      "text/html": [
       "<pre style=\"white-space:pre;overflow-x:auto;line-height:normal;font-family:Menlo,'DejaVu Sans Mono',consolas,'Courier New',monospace\"><span style=\"color: #7fbfbf; text-decoration-color: #7fbfbf\">                    </span><span style=\"color: #000080; text-decoration-color: #000080\">INFO    </span> <span style=\"font-weight: bold\">[</span>SentenceTransformer.py:<span style=\"color: #008080; text-decoration-color: #008080; font-weight: bold\">218</span><span style=\"font-weight: bold\">]</span> &gt;&gt; Load pretrained             <a href=\"file:///home/jeongho/git/SKN05-FINAL-1TEAM/jeongho/RAG_env/lib/python3.12/site-packages/sentence_transformers/SentenceTransformer.py\" target=\"_blank\"><span style=\"color: #7f7f7f; text-decoration-color: #7f7f7f\">SentenceTransformer.py</span></a><span style=\"color: #7f7f7f; text-decoration-color: #7f7f7f\">:</span><a href=\"file:///home/jeongho/git/SKN05-FINAL-1TEAM/jeongho/RAG_env/lib/python3.12/site-packages/sentence_transformers/SentenceTransformer.py#218\" target=\"_blank\"><span style=\"color: #7f7f7f; text-decoration-color: #7f7f7f\">218</span></a>\n",
       "<span style=\"color: #7fbfbf; text-decoration-color: #7fbfbf\">                    </span>         SentenceTransformer:                                        <span style=\"color: #7f7f7f; text-decoration-color: #7f7f7f\">                          </span>\n",
       "<span style=\"color: #7fbfbf; text-decoration-color: #7fbfbf\">                    </span>         <span style=\"color: #800080; text-decoration-color: #800080\">/home/jeongho/git/SKN05-FINAL-1TEAM/jeongho/fastAPI/domain/</span> <span style=\"color: #7f7f7f; text-decoration-color: #7f7f7f\">                          </span>\n",
       "<span style=\"color: #7fbfbf; text-decoration-color: #7fbfbf\">                    </span>         <span style=\"color: #800080; text-decoration-color: #800080\">chat/lang_graph_merge/yoeun/models/</span><span style=\"color: #ff00ff; text-decoration-color: #ff00ff\">ko-sbert-sts</span>             <span style=\"color: #7f7f7f; text-decoration-color: #7f7f7f\">                          </span>\n",
       "</pre>\n"
      ],
      "text/plain": [
       "\u001b[2;36m                   \u001b[0m\u001b[2;36m \u001b[0m\u001b[34mINFO    \u001b[0m \u001b[1m[\u001b[0mSentenceTransformer.py:\u001b[1;36m218\u001b[0m\u001b[1m]\u001b[0m >> Load pretrained             \u001b]8;id=753448;file:///home/jeongho/git/SKN05-FINAL-1TEAM/jeongho/RAG_env/lib/python3.12/site-packages/sentence_transformers/SentenceTransformer.py\u001b\\\u001b[2mSentenceTransformer.py\u001b[0m\u001b]8;;\u001b\\\u001b[2m:\u001b[0m\u001b]8;id=63379;file:///home/jeongho/git/SKN05-FINAL-1TEAM/jeongho/RAG_env/lib/python3.12/site-packages/sentence_transformers/SentenceTransformer.py#218\u001b\\\u001b[2m218\u001b[0m\u001b]8;;\u001b\\\n",
       "\u001b[2;36m                    \u001b[0m         SentenceTransformer:                                        \u001b[2m                          \u001b[0m\n",
       "\u001b[2;36m                    \u001b[0m         \u001b[35m/home/jeongho/git/SKN05-FINAL-1TEAM/jeongho/fastAPI/domain/\u001b[0m \u001b[2m                          \u001b[0m\n",
       "\u001b[2;36m                    \u001b[0m         \u001b[35mchat/lang_graph_merge/yoeun/models/\u001b[0m\u001b[95mko-sbert-sts\u001b[0m             \u001b[2m                          \u001b[0m\n"
      ]
     },
     "metadata": {},
     "output_type": "display_data"
    },
    {
     "data": {
      "application/vnd.jupyter.widget-view+json": {
       "model_id": "29088bd5a5c245958100c765a3b39eba",
       "version_major": 2,
       "version_minor": 0
      },
      "text/plain": [
       "Batches:   0%|          | 0/1 [00:00<?, ?it/s]"
      ]
     },
     "metadata": {},
     "output_type": "display_data"
    },
    {
     "data": {
      "text/html": [
       "<pre style=\"white-space:pre;overflow-x:auto;line-height:normal;font-family:Menlo,'DejaVu Sans Mono',consolas,'Courier New',monospace\"><span style=\"color: #7fbfbf; text-decoration-color: #7fbfbf\">                    </span><span style=\"color: #000080; text-decoration-color: #000080\">INFO    </span> <span style=\"font-weight: bold\">[</span>SentenceTransformer.py:<span style=\"color: #008080; text-decoration-color: #008080; font-weight: bold\">210</span><span style=\"font-weight: bold\">]</span> &gt;&gt; Use pytorch device_name:    <a href=\"file:///home/jeongho/git/SKN05-FINAL-1TEAM/jeongho/RAG_env/lib/python3.12/site-packages/sentence_transformers/SentenceTransformer.py\" target=\"_blank\"><span style=\"color: #7f7f7f; text-decoration-color: #7f7f7f\">SentenceTransformer.py</span></a><span style=\"color: #7f7f7f; text-decoration-color: #7f7f7f\">:</span><a href=\"file:///home/jeongho/git/SKN05-FINAL-1TEAM/jeongho/RAG_env/lib/python3.12/site-packages/sentence_transformers/SentenceTransformer.py#210\" target=\"_blank\"><span style=\"color: #7f7f7f; text-decoration-color: #7f7f7f\">210</span></a>\n",
       "<span style=\"color: #7fbfbf; text-decoration-color: #7fbfbf\">                    </span>         cuda                                                        <span style=\"color: #7f7f7f; text-decoration-color: #7f7f7f\">                          </span>\n",
       "</pre>\n"
      ],
      "text/plain": [
       "\u001b[2;36m                   \u001b[0m\u001b[2;36m \u001b[0m\u001b[34mINFO    \u001b[0m \u001b[1m[\u001b[0mSentenceTransformer.py:\u001b[1;36m210\u001b[0m\u001b[1m]\u001b[0m >> Use pytorch device_name:    \u001b]8;id=658409;file:///home/jeongho/git/SKN05-FINAL-1TEAM/jeongho/RAG_env/lib/python3.12/site-packages/sentence_transformers/SentenceTransformer.py\u001b\\\u001b[2mSentenceTransformer.py\u001b[0m\u001b]8;;\u001b\\\u001b[2m:\u001b[0m\u001b]8;id=914024;file:///home/jeongho/git/SKN05-FINAL-1TEAM/jeongho/RAG_env/lib/python3.12/site-packages/sentence_transformers/SentenceTransformer.py#210\u001b\\\u001b[2m210\u001b[0m\u001b]8;;\u001b\\\n",
       "\u001b[2;36m                    \u001b[0m         cuda                                                        \u001b[2m                          \u001b[0m\n"
      ]
     },
     "metadata": {},
     "output_type": "display_data"
    },
    {
     "data": {
      "text/html": [
       "<pre style=\"white-space:pre;overflow-x:auto;line-height:normal;font-family:Menlo,'DejaVu Sans Mono',consolas,'Courier New',monospace\"><span style=\"color: #7fbfbf; text-decoration-color: #7fbfbf\">                    </span><span style=\"color: #000080; text-decoration-color: #000080\">INFO    </span> <span style=\"font-weight: bold\">[</span>SentenceTransformer.py:<span style=\"color: #008080; text-decoration-color: #008080; font-weight: bold\">218</span><span style=\"font-weight: bold\">]</span> &gt;&gt; Load pretrained             <a href=\"file:///home/jeongho/git/SKN05-FINAL-1TEAM/jeongho/RAG_env/lib/python3.12/site-packages/sentence_transformers/SentenceTransformer.py\" target=\"_blank\"><span style=\"color: #7f7f7f; text-decoration-color: #7f7f7f\">SentenceTransformer.py</span></a><span style=\"color: #7f7f7f; text-decoration-color: #7f7f7f\">:</span><a href=\"file:///home/jeongho/git/SKN05-FINAL-1TEAM/jeongho/RAG_env/lib/python3.12/site-packages/sentence_transformers/SentenceTransformer.py#218\" target=\"_blank\"><span style=\"color: #7f7f7f; text-decoration-color: #7f7f7f\">218</span></a>\n",
       "<span style=\"color: #7fbfbf; text-decoration-color: #7fbfbf\">                    </span>         SentenceTransformer:                                        <span style=\"color: #7f7f7f; text-decoration-color: #7f7f7f\">                          </span>\n",
       "<span style=\"color: #7fbfbf; text-decoration-color: #7fbfbf\">                    </span>         <span style=\"color: #800080; text-decoration-color: #800080\">/home/jeongho/git/SKN05-FINAL-1TEAM/jeongho/fastAPI/domain/</span> <span style=\"color: #7f7f7f; text-decoration-color: #7f7f7f\">                          </span>\n",
       "<span style=\"color: #7fbfbf; text-decoration-color: #7fbfbf\">                    </span>         <span style=\"color: #800080; text-decoration-color: #800080\">chat/lang_graph_merge/yoeun/models/</span><span style=\"color: #ff00ff; text-decoration-color: #ff00ff\">ko-sbert-sts</span>             <span style=\"color: #7f7f7f; text-decoration-color: #7f7f7f\">                          </span>\n",
       "</pre>\n"
      ],
      "text/plain": [
       "\u001b[2;36m                   \u001b[0m\u001b[2;36m \u001b[0m\u001b[34mINFO    \u001b[0m \u001b[1m[\u001b[0mSentenceTransformer.py:\u001b[1;36m218\u001b[0m\u001b[1m]\u001b[0m >> Load pretrained             \u001b]8;id=514843;file:///home/jeongho/git/SKN05-FINAL-1TEAM/jeongho/RAG_env/lib/python3.12/site-packages/sentence_transformers/SentenceTransformer.py\u001b\\\u001b[2mSentenceTransformer.py\u001b[0m\u001b]8;;\u001b\\\u001b[2m:\u001b[0m\u001b]8;id=421424;file:///home/jeongho/git/SKN05-FINAL-1TEAM/jeongho/RAG_env/lib/python3.12/site-packages/sentence_transformers/SentenceTransformer.py#218\u001b\\\u001b[2m218\u001b[0m\u001b]8;;\u001b\\\n",
       "\u001b[2;36m                    \u001b[0m         SentenceTransformer:                                        \u001b[2m                          \u001b[0m\n",
       "\u001b[2;36m                    \u001b[0m         \u001b[35m/home/jeongho/git/SKN05-FINAL-1TEAM/jeongho/fastAPI/domain/\u001b[0m \u001b[2m                          \u001b[0m\n",
       "\u001b[2;36m                    \u001b[0m         \u001b[35mchat/lang_graph_merge/yoeun/models/\u001b[0m\u001b[95mko-sbert-sts\u001b[0m             \u001b[2m                          \u001b[0m\n"
      ]
     },
     "metadata": {},
     "output_type": "display_data"
    },
    {
     "data": {
      "application/vnd.jupyter.widget-view+json": {
       "model_id": "31e7707e9e1c4af1994a0a3fd4a7c18a",
       "version_major": 2,
       "version_minor": 0
      },
      "text/plain": [
       "Batches:   0%|          | 0/1 [00:00<?, ?it/s]"
      ]
     },
     "metadata": {},
     "output_type": "display_data"
    },
    {
     "data": {
      "text/html": [
       "<pre style=\"white-space:pre;overflow-x:auto;line-height:normal;font-family:Menlo,'DejaVu Sans Mono',consolas,'Courier New',monospace\"><span style=\"color: #7fbfbf; text-decoration-color: #7fbfbf\">[02/09/25 04:02:59] </span><span style=\"color: #000080; text-decoration-color: #000080\">INFO    </span> <span style=\"font-weight: bold\">[</span>SentenceTransformer.py:<span style=\"color: #008080; text-decoration-color: #008080; font-weight: bold\">210</span><span style=\"font-weight: bold\">]</span> &gt;&gt; Use pytorch device_name:    <a href=\"file:///home/jeongho/git/SKN05-FINAL-1TEAM/jeongho/RAG_env/lib/python3.12/site-packages/sentence_transformers/SentenceTransformer.py\" target=\"_blank\"><span style=\"color: #7f7f7f; text-decoration-color: #7f7f7f\">SentenceTransformer.py</span></a><span style=\"color: #7f7f7f; text-decoration-color: #7f7f7f\">:</span><a href=\"file:///home/jeongho/git/SKN05-FINAL-1TEAM/jeongho/RAG_env/lib/python3.12/site-packages/sentence_transformers/SentenceTransformer.py#210\" target=\"_blank\"><span style=\"color: #7f7f7f; text-decoration-color: #7f7f7f\">210</span></a>\n",
       "<span style=\"color: #7fbfbf; text-decoration-color: #7fbfbf\">                    </span>         cuda                                                        <span style=\"color: #7f7f7f; text-decoration-color: #7f7f7f\">                          </span>\n",
       "</pre>\n"
      ],
      "text/plain": [
       "\u001b[2;36m[02/09/25 04:02:59]\u001b[0m\u001b[2;36m \u001b[0m\u001b[34mINFO    \u001b[0m \u001b[1m[\u001b[0mSentenceTransformer.py:\u001b[1;36m210\u001b[0m\u001b[1m]\u001b[0m >> Use pytorch device_name:    \u001b]8;id=530059;file:///home/jeongho/git/SKN05-FINAL-1TEAM/jeongho/RAG_env/lib/python3.12/site-packages/sentence_transformers/SentenceTransformer.py\u001b\\\u001b[2mSentenceTransformer.py\u001b[0m\u001b]8;;\u001b\\\u001b[2m:\u001b[0m\u001b]8;id=915284;file:///home/jeongho/git/SKN05-FINAL-1TEAM/jeongho/RAG_env/lib/python3.12/site-packages/sentence_transformers/SentenceTransformer.py#210\u001b\\\u001b[2m210\u001b[0m\u001b]8;;\u001b\\\n",
       "\u001b[2;36m                    \u001b[0m         cuda                                                        \u001b[2m                          \u001b[0m\n"
      ]
     },
     "metadata": {},
     "output_type": "display_data"
    },
    {
     "data": {
      "text/html": [
       "<pre style=\"white-space:pre;overflow-x:auto;line-height:normal;font-family:Menlo,'DejaVu Sans Mono',consolas,'Courier New',monospace\"><span style=\"color: #7fbfbf; text-decoration-color: #7fbfbf\">                    </span><span style=\"color: #000080; text-decoration-color: #000080\">INFO    </span> <span style=\"font-weight: bold\">[</span>SentenceTransformer.py:<span style=\"color: #008080; text-decoration-color: #008080; font-weight: bold\">218</span><span style=\"font-weight: bold\">]</span> &gt;&gt; Load pretrained             <a href=\"file:///home/jeongho/git/SKN05-FINAL-1TEAM/jeongho/RAG_env/lib/python3.12/site-packages/sentence_transformers/SentenceTransformer.py\" target=\"_blank\"><span style=\"color: #7f7f7f; text-decoration-color: #7f7f7f\">SentenceTransformer.py</span></a><span style=\"color: #7f7f7f; text-decoration-color: #7f7f7f\">:</span><a href=\"file:///home/jeongho/git/SKN05-FINAL-1TEAM/jeongho/RAG_env/lib/python3.12/site-packages/sentence_transformers/SentenceTransformer.py#218\" target=\"_blank\"><span style=\"color: #7f7f7f; text-decoration-color: #7f7f7f\">218</span></a>\n",
       "<span style=\"color: #7fbfbf; text-decoration-color: #7fbfbf\">                    </span>         SentenceTransformer:                                        <span style=\"color: #7f7f7f; text-decoration-color: #7f7f7f\">                          </span>\n",
       "<span style=\"color: #7fbfbf; text-decoration-color: #7fbfbf\">                    </span>         <span style=\"color: #800080; text-decoration-color: #800080\">/home/jeongho/git/SKN05-FINAL-1TEAM/jeongho/fastAPI/domain/</span> <span style=\"color: #7f7f7f; text-decoration-color: #7f7f7f\">                          </span>\n",
       "<span style=\"color: #7fbfbf; text-decoration-color: #7fbfbf\">                    </span>         <span style=\"color: #800080; text-decoration-color: #800080\">chat/lang_graph_merge/yoeun/models/</span><span style=\"color: #ff00ff; text-decoration-color: #ff00ff\">ko-sbert-sts</span>             <span style=\"color: #7f7f7f; text-decoration-color: #7f7f7f\">                          </span>\n",
       "</pre>\n"
      ],
      "text/plain": [
       "\u001b[2;36m                   \u001b[0m\u001b[2;36m \u001b[0m\u001b[34mINFO    \u001b[0m \u001b[1m[\u001b[0mSentenceTransformer.py:\u001b[1;36m218\u001b[0m\u001b[1m]\u001b[0m >> Load pretrained             \u001b]8;id=352407;file:///home/jeongho/git/SKN05-FINAL-1TEAM/jeongho/RAG_env/lib/python3.12/site-packages/sentence_transformers/SentenceTransformer.py\u001b\\\u001b[2mSentenceTransformer.py\u001b[0m\u001b]8;;\u001b\\\u001b[2m:\u001b[0m\u001b]8;id=862013;file:///home/jeongho/git/SKN05-FINAL-1TEAM/jeongho/RAG_env/lib/python3.12/site-packages/sentence_transformers/SentenceTransformer.py#218\u001b\\\u001b[2m218\u001b[0m\u001b]8;;\u001b\\\n",
       "\u001b[2;36m                    \u001b[0m         SentenceTransformer:                                        \u001b[2m                          \u001b[0m\n",
       "\u001b[2;36m                    \u001b[0m         \u001b[35m/home/jeongho/git/SKN05-FINAL-1TEAM/jeongho/fastAPI/domain/\u001b[0m \u001b[2m                          \u001b[0m\n",
       "\u001b[2;36m                    \u001b[0m         \u001b[35mchat/lang_graph_merge/yoeun/models/\u001b[0m\u001b[95mko-sbert-sts\u001b[0m             \u001b[2m                          \u001b[0m\n"
      ]
     },
     "metadata": {},
     "output_type": "display_data"
    },
    {
     "data": {
      "application/vnd.jupyter.widget-view+json": {
       "model_id": "8e7e99a4632347ecbf6b6d7e10d4db06",
       "version_major": 2,
       "version_minor": 0
      },
      "text/plain": [
       "Batches:   0%|          | 0/1 [00:00<?, ?it/s]"
      ]
     },
     "metadata": {},
     "output_type": "display_data"
    },
    {
     "data": {
      "text/html": [
       "<pre style=\"white-space:pre;overflow-x:auto;line-height:normal;font-family:Menlo,'DejaVu Sans Mono',consolas,'Courier New',monospace\"><span style=\"color: #7fbfbf; text-decoration-color: #7fbfbf\">                    </span><span style=\"color: #000080; text-decoration-color: #000080\">INFO    </span> <span style=\"font-weight: bold\">[</span>SentenceTransformer.py:<span style=\"color: #008080; text-decoration-color: #008080; font-weight: bold\">210</span><span style=\"font-weight: bold\">]</span> &gt;&gt; Use pytorch device_name:    <a href=\"file:///home/jeongho/git/SKN05-FINAL-1TEAM/jeongho/RAG_env/lib/python3.12/site-packages/sentence_transformers/SentenceTransformer.py\" target=\"_blank\"><span style=\"color: #7f7f7f; text-decoration-color: #7f7f7f\">SentenceTransformer.py</span></a><span style=\"color: #7f7f7f; text-decoration-color: #7f7f7f\">:</span><a href=\"file:///home/jeongho/git/SKN05-FINAL-1TEAM/jeongho/RAG_env/lib/python3.12/site-packages/sentence_transformers/SentenceTransformer.py#210\" target=\"_blank\"><span style=\"color: #7f7f7f; text-decoration-color: #7f7f7f\">210</span></a>\n",
       "<span style=\"color: #7fbfbf; text-decoration-color: #7fbfbf\">                    </span>         cuda                                                        <span style=\"color: #7f7f7f; text-decoration-color: #7f7f7f\">                          </span>\n",
       "</pre>\n"
      ],
      "text/plain": [
       "\u001b[2;36m                   \u001b[0m\u001b[2;36m \u001b[0m\u001b[34mINFO    \u001b[0m \u001b[1m[\u001b[0mSentenceTransformer.py:\u001b[1;36m210\u001b[0m\u001b[1m]\u001b[0m >> Use pytorch device_name:    \u001b]8;id=891188;file:///home/jeongho/git/SKN05-FINAL-1TEAM/jeongho/RAG_env/lib/python3.12/site-packages/sentence_transformers/SentenceTransformer.py\u001b\\\u001b[2mSentenceTransformer.py\u001b[0m\u001b]8;;\u001b\\\u001b[2m:\u001b[0m\u001b]8;id=214954;file:///home/jeongho/git/SKN05-FINAL-1TEAM/jeongho/RAG_env/lib/python3.12/site-packages/sentence_transformers/SentenceTransformer.py#210\u001b\\\u001b[2m210\u001b[0m\u001b]8;;\u001b\\\n",
       "\u001b[2;36m                    \u001b[0m         cuda                                                        \u001b[2m                          \u001b[0m\n"
      ]
     },
     "metadata": {},
     "output_type": "display_data"
    },
    {
     "data": {
      "text/html": [
       "<pre style=\"white-space:pre;overflow-x:auto;line-height:normal;font-family:Menlo,'DejaVu Sans Mono',consolas,'Courier New',monospace\"><span style=\"color: #7fbfbf; text-decoration-color: #7fbfbf\">                    </span><span style=\"color: #000080; text-decoration-color: #000080\">INFO    </span> <span style=\"font-weight: bold\">[</span>SentenceTransformer.py:<span style=\"color: #008080; text-decoration-color: #008080; font-weight: bold\">218</span><span style=\"font-weight: bold\">]</span> &gt;&gt; Load pretrained             <a href=\"file:///home/jeongho/git/SKN05-FINAL-1TEAM/jeongho/RAG_env/lib/python3.12/site-packages/sentence_transformers/SentenceTransformer.py\" target=\"_blank\"><span style=\"color: #7f7f7f; text-decoration-color: #7f7f7f\">SentenceTransformer.py</span></a><span style=\"color: #7f7f7f; text-decoration-color: #7f7f7f\">:</span><a href=\"file:///home/jeongho/git/SKN05-FINAL-1TEAM/jeongho/RAG_env/lib/python3.12/site-packages/sentence_transformers/SentenceTransformer.py#218\" target=\"_blank\"><span style=\"color: #7f7f7f; text-decoration-color: #7f7f7f\">218</span></a>\n",
       "<span style=\"color: #7fbfbf; text-decoration-color: #7fbfbf\">                    </span>         SentenceTransformer:                                        <span style=\"color: #7f7f7f; text-decoration-color: #7f7f7f\">                          </span>\n",
       "<span style=\"color: #7fbfbf; text-decoration-color: #7fbfbf\">                    </span>         <span style=\"color: #800080; text-decoration-color: #800080\">/home/jeongho/git/SKN05-FINAL-1TEAM/jeongho/fastAPI/domain/</span> <span style=\"color: #7f7f7f; text-decoration-color: #7f7f7f\">                          </span>\n",
       "<span style=\"color: #7fbfbf; text-decoration-color: #7fbfbf\">                    </span>         <span style=\"color: #800080; text-decoration-color: #800080\">chat/lang_graph_merge/yoeun/models/</span><span style=\"color: #ff00ff; text-decoration-color: #ff00ff\">ko-sbert-sts</span>             <span style=\"color: #7f7f7f; text-decoration-color: #7f7f7f\">                          </span>\n",
       "</pre>\n"
      ],
      "text/plain": [
       "\u001b[2;36m                   \u001b[0m\u001b[2;36m \u001b[0m\u001b[34mINFO    \u001b[0m \u001b[1m[\u001b[0mSentenceTransformer.py:\u001b[1;36m218\u001b[0m\u001b[1m]\u001b[0m >> Load pretrained             \u001b]8;id=597465;file:///home/jeongho/git/SKN05-FINAL-1TEAM/jeongho/RAG_env/lib/python3.12/site-packages/sentence_transformers/SentenceTransformer.py\u001b\\\u001b[2mSentenceTransformer.py\u001b[0m\u001b]8;;\u001b\\\u001b[2m:\u001b[0m\u001b]8;id=400189;file:///home/jeongho/git/SKN05-FINAL-1TEAM/jeongho/RAG_env/lib/python3.12/site-packages/sentence_transformers/SentenceTransformer.py#218\u001b\\\u001b[2m218\u001b[0m\u001b]8;;\u001b\\\n",
       "\u001b[2;36m                    \u001b[0m         SentenceTransformer:                                        \u001b[2m                          \u001b[0m\n",
       "\u001b[2;36m                    \u001b[0m         \u001b[35m/home/jeongho/git/SKN05-FINAL-1TEAM/jeongho/fastAPI/domain/\u001b[0m \u001b[2m                          \u001b[0m\n",
       "\u001b[2;36m                    \u001b[0m         \u001b[35mchat/lang_graph_merge/yoeun/models/\u001b[0m\u001b[95mko-sbert-sts\u001b[0m             \u001b[2m                          \u001b[0m\n"
      ]
     },
     "metadata": {},
     "output_type": "display_data"
    },
    {
     "data": {
      "application/vnd.jupyter.widget-view+json": {
       "model_id": "65c8c30bd83d4420a7db90bae531e33c",
       "version_major": 2,
       "version_minor": 0
      },
      "text/plain": [
       "Batches:   0%|          | 0/1 [00:00<?, ?it/s]"
      ]
     },
     "metadata": {},
     "output_type": "display_data"
    },
    {
     "data": {
      "text/html": [
       "<pre style=\"white-space:pre;overflow-x:auto;line-height:normal;font-family:Menlo,'DejaVu Sans Mono',consolas,'Courier New',monospace\"><span style=\"color: #7fbfbf; text-decoration-color: #7fbfbf\">[02/09/25 04:03:00] </span><span style=\"color: #000080; text-decoration-color: #000080\">INFO    </span> <span style=\"font-weight: bold\">[</span>SentenceTransformer.py:<span style=\"color: #008080; text-decoration-color: #008080; font-weight: bold\">210</span><span style=\"font-weight: bold\">]</span> &gt;&gt; Use pytorch device_name:    <a href=\"file:///home/jeongho/git/SKN05-FINAL-1TEAM/jeongho/RAG_env/lib/python3.12/site-packages/sentence_transformers/SentenceTransformer.py\" target=\"_blank\"><span style=\"color: #7f7f7f; text-decoration-color: #7f7f7f\">SentenceTransformer.py</span></a><span style=\"color: #7f7f7f; text-decoration-color: #7f7f7f\">:</span><a href=\"file:///home/jeongho/git/SKN05-FINAL-1TEAM/jeongho/RAG_env/lib/python3.12/site-packages/sentence_transformers/SentenceTransformer.py#210\" target=\"_blank\"><span style=\"color: #7f7f7f; text-decoration-color: #7f7f7f\">210</span></a>\n",
       "<span style=\"color: #7fbfbf; text-decoration-color: #7fbfbf\">                    </span>         cuda                                                        <span style=\"color: #7f7f7f; text-decoration-color: #7f7f7f\">                          </span>\n",
       "</pre>\n"
      ],
      "text/plain": [
       "\u001b[2;36m[02/09/25 04:03:00]\u001b[0m\u001b[2;36m \u001b[0m\u001b[34mINFO    \u001b[0m \u001b[1m[\u001b[0mSentenceTransformer.py:\u001b[1;36m210\u001b[0m\u001b[1m]\u001b[0m >> Use pytorch device_name:    \u001b]8;id=249025;file:///home/jeongho/git/SKN05-FINAL-1TEAM/jeongho/RAG_env/lib/python3.12/site-packages/sentence_transformers/SentenceTransformer.py\u001b\\\u001b[2mSentenceTransformer.py\u001b[0m\u001b]8;;\u001b\\\u001b[2m:\u001b[0m\u001b]8;id=2052;file:///home/jeongho/git/SKN05-FINAL-1TEAM/jeongho/RAG_env/lib/python3.12/site-packages/sentence_transformers/SentenceTransformer.py#210\u001b\\\u001b[2m210\u001b[0m\u001b]8;;\u001b\\\n",
       "\u001b[2;36m                    \u001b[0m         cuda                                                        \u001b[2m                          \u001b[0m\n"
      ]
     },
     "metadata": {},
     "output_type": "display_data"
    },
    {
     "data": {
      "text/html": [
       "<pre style=\"white-space:pre;overflow-x:auto;line-height:normal;font-family:Menlo,'DejaVu Sans Mono',consolas,'Courier New',monospace\"><span style=\"color: #7fbfbf; text-decoration-color: #7fbfbf\">                    </span><span style=\"color: #000080; text-decoration-color: #000080\">INFO    </span> <span style=\"font-weight: bold\">[</span>SentenceTransformer.py:<span style=\"color: #008080; text-decoration-color: #008080; font-weight: bold\">218</span><span style=\"font-weight: bold\">]</span> &gt;&gt; Load pretrained             <a href=\"file:///home/jeongho/git/SKN05-FINAL-1TEAM/jeongho/RAG_env/lib/python3.12/site-packages/sentence_transformers/SentenceTransformer.py\" target=\"_blank\"><span style=\"color: #7f7f7f; text-decoration-color: #7f7f7f\">SentenceTransformer.py</span></a><span style=\"color: #7f7f7f; text-decoration-color: #7f7f7f\">:</span><a href=\"file:///home/jeongho/git/SKN05-FINAL-1TEAM/jeongho/RAG_env/lib/python3.12/site-packages/sentence_transformers/SentenceTransformer.py#218\" target=\"_blank\"><span style=\"color: #7f7f7f; text-decoration-color: #7f7f7f\">218</span></a>\n",
       "<span style=\"color: #7fbfbf; text-decoration-color: #7fbfbf\">                    </span>         SentenceTransformer:                                        <span style=\"color: #7f7f7f; text-decoration-color: #7f7f7f\">                          </span>\n",
       "<span style=\"color: #7fbfbf; text-decoration-color: #7fbfbf\">                    </span>         <span style=\"color: #800080; text-decoration-color: #800080\">/home/jeongho/git/SKN05-FINAL-1TEAM/jeongho/fastAPI/domain/</span> <span style=\"color: #7f7f7f; text-decoration-color: #7f7f7f\">                          </span>\n",
       "<span style=\"color: #7fbfbf; text-decoration-color: #7fbfbf\">                    </span>         <span style=\"color: #800080; text-decoration-color: #800080\">chat/lang_graph_merge/yoeun/models/</span><span style=\"color: #ff00ff; text-decoration-color: #ff00ff\">ko-sbert-sts</span>             <span style=\"color: #7f7f7f; text-decoration-color: #7f7f7f\">                          </span>\n",
       "</pre>\n"
      ],
      "text/plain": [
       "\u001b[2;36m                   \u001b[0m\u001b[2;36m \u001b[0m\u001b[34mINFO    \u001b[0m \u001b[1m[\u001b[0mSentenceTransformer.py:\u001b[1;36m218\u001b[0m\u001b[1m]\u001b[0m >> Load pretrained             \u001b]8;id=597317;file:///home/jeongho/git/SKN05-FINAL-1TEAM/jeongho/RAG_env/lib/python3.12/site-packages/sentence_transformers/SentenceTransformer.py\u001b\\\u001b[2mSentenceTransformer.py\u001b[0m\u001b]8;;\u001b\\\u001b[2m:\u001b[0m\u001b]8;id=486024;file:///home/jeongho/git/SKN05-FINAL-1TEAM/jeongho/RAG_env/lib/python3.12/site-packages/sentence_transformers/SentenceTransformer.py#218\u001b\\\u001b[2m218\u001b[0m\u001b]8;;\u001b\\\n",
       "\u001b[2;36m                    \u001b[0m         SentenceTransformer:                                        \u001b[2m                          \u001b[0m\n",
       "\u001b[2;36m                    \u001b[0m         \u001b[35m/home/jeongho/git/SKN05-FINAL-1TEAM/jeongho/fastAPI/domain/\u001b[0m \u001b[2m                          \u001b[0m\n",
       "\u001b[2;36m                    \u001b[0m         \u001b[35mchat/lang_graph_merge/yoeun/models/\u001b[0m\u001b[95mko-sbert-sts\u001b[0m             \u001b[2m                          \u001b[0m\n"
      ]
     },
     "metadata": {},
     "output_type": "display_data"
    },
    {
     "data": {
      "application/vnd.jupyter.widget-view+json": {
       "model_id": "7cc29a569fb44e91bff2ef0be65d0ffe",
       "version_major": 2,
       "version_minor": 0
      },
      "text/plain": [
       "Batches:   0%|          | 0/1 [00:00<?, ?it/s]"
      ]
     },
     "metadata": {},
     "output_type": "display_data"
    },
    {
     "data": {
      "text/html": [
       "<pre style=\"white-space:pre;overflow-x:auto;line-height:normal;font-family:Menlo,'DejaVu Sans Mono',consolas,'Courier New',monospace\"><span style=\"color: #7fbfbf; text-decoration-color: #7fbfbf\">                    </span><span style=\"color: #000080; text-decoration-color: #000080\">INFO    </span> <span style=\"font-weight: bold\">[</span>SentenceTransformer.py:<span style=\"color: #008080; text-decoration-color: #008080; font-weight: bold\">210</span><span style=\"font-weight: bold\">]</span> &gt;&gt; Use pytorch device_name:    <a href=\"file:///home/jeongho/git/SKN05-FINAL-1TEAM/jeongho/RAG_env/lib/python3.12/site-packages/sentence_transformers/SentenceTransformer.py\" target=\"_blank\"><span style=\"color: #7f7f7f; text-decoration-color: #7f7f7f\">SentenceTransformer.py</span></a><span style=\"color: #7f7f7f; text-decoration-color: #7f7f7f\">:</span><a href=\"file:///home/jeongho/git/SKN05-FINAL-1TEAM/jeongho/RAG_env/lib/python3.12/site-packages/sentence_transformers/SentenceTransformer.py#210\" target=\"_blank\"><span style=\"color: #7f7f7f; text-decoration-color: #7f7f7f\">210</span></a>\n",
       "<span style=\"color: #7fbfbf; text-decoration-color: #7fbfbf\">                    </span>         cuda                                                        <span style=\"color: #7f7f7f; text-decoration-color: #7f7f7f\">                          </span>\n",
       "</pre>\n"
      ],
      "text/plain": [
       "\u001b[2;36m                   \u001b[0m\u001b[2;36m \u001b[0m\u001b[34mINFO    \u001b[0m \u001b[1m[\u001b[0mSentenceTransformer.py:\u001b[1;36m210\u001b[0m\u001b[1m]\u001b[0m >> Use pytorch device_name:    \u001b]8;id=394580;file:///home/jeongho/git/SKN05-FINAL-1TEAM/jeongho/RAG_env/lib/python3.12/site-packages/sentence_transformers/SentenceTransformer.py\u001b\\\u001b[2mSentenceTransformer.py\u001b[0m\u001b]8;;\u001b\\\u001b[2m:\u001b[0m\u001b]8;id=516490;file:///home/jeongho/git/SKN05-FINAL-1TEAM/jeongho/RAG_env/lib/python3.12/site-packages/sentence_transformers/SentenceTransformer.py#210\u001b\\\u001b[2m210\u001b[0m\u001b]8;;\u001b\\\n",
       "\u001b[2;36m                    \u001b[0m         cuda                                                        \u001b[2m                          \u001b[0m\n"
      ]
     },
     "metadata": {},
     "output_type": "display_data"
    },
    {
     "data": {
      "text/html": [
       "<pre style=\"white-space:pre;overflow-x:auto;line-height:normal;font-family:Menlo,'DejaVu Sans Mono',consolas,'Courier New',monospace\"><span style=\"color: #7fbfbf; text-decoration-color: #7fbfbf\">                    </span><span style=\"color: #000080; text-decoration-color: #000080\">INFO    </span> <span style=\"font-weight: bold\">[</span>SentenceTransformer.py:<span style=\"color: #008080; text-decoration-color: #008080; font-weight: bold\">218</span><span style=\"font-weight: bold\">]</span> &gt;&gt; Load pretrained             <a href=\"file:///home/jeongho/git/SKN05-FINAL-1TEAM/jeongho/RAG_env/lib/python3.12/site-packages/sentence_transformers/SentenceTransformer.py\" target=\"_blank\"><span style=\"color: #7f7f7f; text-decoration-color: #7f7f7f\">SentenceTransformer.py</span></a><span style=\"color: #7f7f7f; text-decoration-color: #7f7f7f\">:</span><a href=\"file:///home/jeongho/git/SKN05-FINAL-1TEAM/jeongho/RAG_env/lib/python3.12/site-packages/sentence_transformers/SentenceTransformer.py#218\" target=\"_blank\"><span style=\"color: #7f7f7f; text-decoration-color: #7f7f7f\">218</span></a>\n",
       "<span style=\"color: #7fbfbf; text-decoration-color: #7fbfbf\">                    </span>         SentenceTransformer:                                        <span style=\"color: #7f7f7f; text-decoration-color: #7f7f7f\">                          </span>\n",
       "<span style=\"color: #7fbfbf; text-decoration-color: #7fbfbf\">                    </span>         <span style=\"color: #800080; text-decoration-color: #800080\">/home/jeongho/git/SKN05-FINAL-1TEAM/jeongho/fastAPI/domain/</span> <span style=\"color: #7f7f7f; text-decoration-color: #7f7f7f\">                          </span>\n",
       "<span style=\"color: #7fbfbf; text-decoration-color: #7fbfbf\">                    </span>         <span style=\"color: #800080; text-decoration-color: #800080\">chat/lang_graph_merge/yoeun/models/</span><span style=\"color: #ff00ff; text-decoration-color: #ff00ff\">ko-sbert-sts</span>             <span style=\"color: #7f7f7f; text-decoration-color: #7f7f7f\">                          </span>\n",
       "</pre>\n"
      ],
      "text/plain": [
       "\u001b[2;36m                   \u001b[0m\u001b[2;36m \u001b[0m\u001b[34mINFO    \u001b[0m \u001b[1m[\u001b[0mSentenceTransformer.py:\u001b[1;36m218\u001b[0m\u001b[1m]\u001b[0m >> Load pretrained             \u001b]8;id=171346;file:///home/jeongho/git/SKN05-FINAL-1TEAM/jeongho/RAG_env/lib/python3.12/site-packages/sentence_transformers/SentenceTransformer.py\u001b\\\u001b[2mSentenceTransformer.py\u001b[0m\u001b]8;;\u001b\\\u001b[2m:\u001b[0m\u001b]8;id=408224;file:///home/jeongho/git/SKN05-FINAL-1TEAM/jeongho/RAG_env/lib/python3.12/site-packages/sentence_transformers/SentenceTransformer.py#218\u001b\\\u001b[2m218\u001b[0m\u001b]8;;\u001b\\\n",
       "\u001b[2;36m                    \u001b[0m         SentenceTransformer:                                        \u001b[2m                          \u001b[0m\n",
       "\u001b[2;36m                    \u001b[0m         \u001b[35m/home/jeongho/git/SKN05-FINAL-1TEAM/jeongho/fastAPI/domain/\u001b[0m \u001b[2m                          \u001b[0m\n",
       "\u001b[2;36m                    \u001b[0m         \u001b[35mchat/lang_graph_merge/yoeun/models/\u001b[0m\u001b[95mko-sbert-sts\u001b[0m             \u001b[2m                          \u001b[0m\n"
      ]
     },
     "metadata": {},
     "output_type": "display_data"
    },
    {
     "data": {
      "application/vnd.jupyter.widget-view+json": {
       "model_id": "c68a107a70884c1ca05dd60138d30c75",
       "version_major": 2,
       "version_minor": 0
      },
      "text/plain": [
       "Batches:   0%|          | 0/1 [00:00<?, ?it/s]"
      ]
     },
     "metadata": {},
     "output_type": "display_data"
    },
    {
     "data": {
      "text/html": [
       "<pre style=\"white-space:pre;overflow-x:auto;line-height:normal;font-family:Menlo,'DejaVu Sans Mono',consolas,'Courier New',monospace\"><span style=\"color: #7fbfbf; text-decoration-color: #7fbfbf\">[02/09/25 04:03:01] </span><span style=\"color: #000080; text-decoration-color: #000080\">INFO    </span> <span style=\"font-weight: bold\">[</span>SentenceTransformer.py:<span style=\"color: #008080; text-decoration-color: #008080; font-weight: bold\">210</span><span style=\"font-weight: bold\">]</span> &gt;&gt; Use pytorch device_name:    <a href=\"file:///home/jeongho/git/SKN05-FINAL-1TEAM/jeongho/RAG_env/lib/python3.12/site-packages/sentence_transformers/SentenceTransformer.py\" target=\"_blank\"><span style=\"color: #7f7f7f; text-decoration-color: #7f7f7f\">SentenceTransformer.py</span></a><span style=\"color: #7f7f7f; text-decoration-color: #7f7f7f\">:</span><a href=\"file:///home/jeongho/git/SKN05-FINAL-1TEAM/jeongho/RAG_env/lib/python3.12/site-packages/sentence_transformers/SentenceTransformer.py#210\" target=\"_blank\"><span style=\"color: #7f7f7f; text-decoration-color: #7f7f7f\">210</span></a>\n",
       "<span style=\"color: #7fbfbf; text-decoration-color: #7fbfbf\">                    </span>         cuda                                                        <span style=\"color: #7f7f7f; text-decoration-color: #7f7f7f\">                          </span>\n",
       "</pre>\n"
      ],
      "text/plain": [
       "\u001b[2;36m[02/09/25 04:03:01]\u001b[0m\u001b[2;36m \u001b[0m\u001b[34mINFO    \u001b[0m \u001b[1m[\u001b[0mSentenceTransformer.py:\u001b[1;36m210\u001b[0m\u001b[1m]\u001b[0m >> Use pytorch device_name:    \u001b]8;id=23737;file:///home/jeongho/git/SKN05-FINAL-1TEAM/jeongho/RAG_env/lib/python3.12/site-packages/sentence_transformers/SentenceTransformer.py\u001b\\\u001b[2mSentenceTransformer.py\u001b[0m\u001b]8;;\u001b\\\u001b[2m:\u001b[0m\u001b]8;id=25924;file:///home/jeongho/git/SKN05-FINAL-1TEAM/jeongho/RAG_env/lib/python3.12/site-packages/sentence_transformers/SentenceTransformer.py#210\u001b\\\u001b[2m210\u001b[0m\u001b]8;;\u001b\\\n",
       "\u001b[2;36m                    \u001b[0m         cuda                                                        \u001b[2m                          \u001b[0m\n"
      ]
     },
     "metadata": {},
     "output_type": "display_data"
    },
    {
     "data": {
      "text/html": [
       "<pre style=\"white-space:pre;overflow-x:auto;line-height:normal;font-family:Menlo,'DejaVu Sans Mono',consolas,'Courier New',monospace\"><span style=\"color: #7fbfbf; text-decoration-color: #7fbfbf\">                    </span><span style=\"color: #000080; text-decoration-color: #000080\">INFO    </span> <span style=\"font-weight: bold\">[</span>SentenceTransformer.py:<span style=\"color: #008080; text-decoration-color: #008080; font-weight: bold\">218</span><span style=\"font-weight: bold\">]</span> &gt;&gt; Load pretrained             <a href=\"file:///home/jeongho/git/SKN05-FINAL-1TEAM/jeongho/RAG_env/lib/python3.12/site-packages/sentence_transformers/SentenceTransformer.py\" target=\"_blank\"><span style=\"color: #7f7f7f; text-decoration-color: #7f7f7f\">SentenceTransformer.py</span></a><span style=\"color: #7f7f7f; text-decoration-color: #7f7f7f\">:</span><a href=\"file:///home/jeongho/git/SKN05-FINAL-1TEAM/jeongho/RAG_env/lib/python3.12/site-packages/sentence_transformers/SentenceTransformer.py#218\" target=\"_blank\"><span style=\"color: #7f7f7f; text-decoration-color: #7f7f7f\">218</span></a>\n",
       "<span style=\"color: #7fbfbf; text-decoration-color: #7fbfbf\">                    </span>         SentenceTransformer:                                        <span style=\"color: #7f7f7f; text-decoration-color: #7f7f7f\">                          </span>\n",
       "<span style=\"color: #7fbfbf; text-decoration-color: #7fbfbf\">                    </span>         <span style=\"color: #800080; text-decoration-color: #800080\">/home/jeongho/git/SKN05-FINAL-1TEAM/jeongho/fastAPI/domain/</span> <span style=\"color: #7f7f7f; text-decoration-color: #7f7f7f\">                          </span>\n",
       "<span style=\"color: #7fbfbf; text-decoration-color: #7fbfbf\">                    </span>         <span style=\"color: #800080; text-decoration-color: #800080\">chat/lang_graph_merge/yoeun/models/</span><span style=\"color: #ff00ff; text-decoration-color: #ff00ff\">ko-sbert-sts</span>             <span style=\"color: #7f7f7f; text-decoration-color: #7f7f7f\">                          </span>\n",
       "</pre>\n"
      ],
      "text/plain": [
       "\u001b[2;36m                   \u001b[0m\u001b[2;36m \u001b[0m\u001b[34mINFO    \u001b[0m \u001b[1m[\u001b[0mSentenceTransformer.py:\u001b[1;36m218\u001b[0m\u001b[1m]\u001b[0m >> Load pretrained             \u001b]8;id=366894;file:///home/jeongho/git/SKN05-FINAL-1TEAM/jeongho/RAG_env/lib/python3.12/site-packages/sentence_transformers/SentenceTransformer.py\u001b\\\u001b[2mSentenceTransformer.py\u001b[0m\u001b]8;;\u001b\\\u001b[2m:\u001b[0m\u001b]8;id=217721;file:///home/jeongho/git/SKN05-FINAL-1TEAM/jeongho/RAG_env/lib/python3.12/site-packages/sentence_transformers/SentenceTransformer.py#218\u001b\\\u001b[2m218\u001b[0m\u001b]8;;\u001b\\\n",
       "\u001b[2;36m                    \u001b[0m         SentenceTransformer:                                        \u001b[2m                          \u001b[0m\n",
       "\u001b[2;36m                    \u001b[0m         \u001b[35m/home/jeongho/git/SKN05-FINAL-1TEAM/jeongho/fastAPI/domain/\u001b[0m \u001b[2m                          \u001b[0m\n",
       "\u001b[2;36m                    \u001b[0m         \u001b[35mchat/lang_graph_merge/yoeun/models/\u001b[0m\u001b[95mko-sbert-sts\u001b[0m             \u001b[2m                          \u001b[0m\n"
      ]
     },
     "metadata": {},
     "output_type": "display_data"
    },
    {
     "data": {
      "application/vnd.jupyter.widget-view+json": {
       "model_id": "3c5b88d7adcd4d71b3e16c6553d7e63d",
       "version_major": 2,
       "version_minor": 0
      },
      "text/plain": [
       "Batches:   0%|          | 0/1 [00:00<?, ?it/s]"
      ]
     },
     "metadata": {},
     "output_type": "display_data"
    },
    {
     "data": {
      "text/html": [
       "<pre style=\"white-space:pre;overflow-x:auto;line-height:normal;font-family:Menlo,'DejaVu Sans Mono',consolas,'Courier New',monospace\"><span style=\"color: #7fbfbf; text-decoration-color: #7fbfbf\">                    </span><span style=\"color: #000080; text-decoration-color: #000080\">INFO    </span> <span style=\"font-weight: bold\">[</span>SentenceTransformer.py:<span style=\"color: #008080; text-decoration-color: #008080; font-weight: bold\">210</span><span style=\"font-weight: bold\">]</span> &gt;&gt; Use pytorch device_name:    <a href=\"file:///home/jeongho/git/SKN05-FINAL-1TEAM/jeongho/RAG_env/lib/python3.12/site-packages/sentence_transformers/SentenceTransformer.py\" target=\"_blank\"><span style=\"color: #7f7f7f; text-decoration-color: #7f7f7f\">SentenceTransformer.py</span></a><span style=\"color: #7f7f7f; text-decoration-color: #7f7f7f\">:</span><a href=\"file:///home/jeongho/git/SKN05-FINAL-1TEAM/jeongho/RAG_env/lib/python3.12/site-packages/sentence_transformers/SentenceTransformer.py#210\" target=\"_blank\"><span style=\"color: #7f7f7f; text-decoration-color: #7f7f7f\">210</span></a>\n",
       "<span style=\"color: #7fbfbf; text-decoration-color: #7fbfbf\">                    </span>         cuda                                                        <span style=\"color: #7f7f7f; text-decoration-color: #7f7f7f\">                          </span>\n",
       "</pre>\n"
      ],
      "text/plain": [
       "\u001b[2;36m                   \u001b[0m\u001b[2;36m \u001b[0m\u001b[34mINFO    \u001b[0m \u001b[1m[\u001b[0mSentenceTransformer.py:\u001b[1;36m210\u001b[0m\u001b[1m]\u001b[0m >> Use pytorch device_name:    \u001b]8;id=634292;file:///home/jeongho/git/SKN05-FINAL-1TEAM/jeongho/RAG_env/lib/python3.12/site-packages/sentence_transformers/SentenceTransformer.py\u001b\\\u001b[2mSentenceTransformer.py\u001b[0m\u001b]8;;\u001b\\\u001b[2m:\u001b[0m\u001b]8;id=105703;file:///home/jeongho/git/SKN05-FINAL-1TEAM/jeongho/RAG_env/lib/python3.12/site-packages/sentence_transformers/SentenceTransformer.py#210\u001b\\\u001b[2m210\u001b[0m\u001b]8;;\u001b\\\n",
       "\u001b[2;36m                    \u001b[0m         cuda                                                        \u001b[2m                          \u001b[0m\n"
      ]
     },
     "metadata": {},
     "output_type": "display_data"
    },
    {
     "data": {
      "text/html": [
       "<pre style=\"white-space:pre;overflow-x:auto;line-height:normal;font-family:Menlo,'DejaVu Sans Mono',consolas,'Courier New',monospace\"><span style=\"color: #7fbfbf; text-decoration-color: #7fbfbf\">                    </span><span style=\"color: #000080; text-decoration-color: #000080\">INFO    </span> <span style=\"font-weight: bold\">[</span>SentenceTransformer.py:<span style=\"color: #008080; text-decoration-color: #008080; font-weight: bold\">218</span><span style=\"font-weight: bold\">]</span> &gt;&gt; Load pretrained             <a href=\"file:///home/jeongho/git/SKN05-FINAL-1TEAM/jeongho/RAG_env/lib/python3.12/site-packages/sentence_transformers/SentenceTransformer.py\" target=\"_blank\"><span style=\"color: #7f7f7f; text-decoration-color: #7f7f7f\">SentenceTransformer.py</span></a><span style=\"color: #7f7f7f; text-decoration-color: #7f7f7f\">:</span><a href=\"file:///home/jeongho/git/SKN05-FINAL-1TEAM/jeongho/RAG_env/lib/python3.12/site-packages/sentence_transformers/SentenceTransformer.py#218\" target=\"_blank\"><span style=\"color: #7f7f7f; text-decoration-color: #7f7f7f\">218</span></a>\n",
       "<span style=\"color: #7fbfbf; text-decoration-color: #7fbfbf\">                    </span>         SentenceTransformer:                                        <span style=\"color: #7f7f7f; text-decoration-color: #7f7f7f\">                          </span>\n",
       "<span style=\"color: #7fbfbf; text-decoration-color: #7fbfbf\">                    </span>         <span style=\"color: #800080; text-decoration-color: #800080\">/home/jeongho/git/SKN05-FINAL-1TEAM/jeongho/fastAPI/domain/</span> <span style=\"color: #7f7f7f; text-decoration-color: #7f7f7f\">                          </span>\n",
       "<span style=\"color: #7fbfbf; text-decoration-color: #7fbfbf\">                    </span>         <span style=\"color: #800080; text-decoration-color: #800080\">chat/lang_graph_merge/yoeun/models/</span><span style=\"color: #ff00ff; text-decoration-color: #ff00ff\">ko-sbert-sts</span>             <span style=\"color: #7f7f7f; text-decoration-color: #7f7f7f\">                          </span>\n",
       "</pre>\n"
      ],
      "text/plain": [
       "\u001b[2;36m                   \u001b[0m\u001b[2;36m \u001b[0m\u001b[34mINFO    \u001b[0m \u001b[1m[\u001b[0mSentenceTransformer.py:\u001b[1;36m218\u001b[0m\u001b[1m]\u001b[0m >> Load pretrained             \u001b]8;id=963163;file:///home/jeongho/git/SKN05-FINAL-1TEAM/jeongho/RAG_env/lib/python3.12/site-packages/sentence_transformers/SentenceTransformer.py\u001b\\\u001b[2mSentenceTransformer.py\u001b[0m\u001b]8;;\u001b\\\u001b[2m:\u001b[0m\u001b]8;id=948612;file:///home/jeongho/git/SKN05-FINAL-1TEAM/jeongho/RAG_env/lib/python3.12/site-packages/sentence_transformers/SentenceTransformer.py#218\u001b\\\u001b[2m218\u001b[0m\u001b]8;;\u001b\\\n",
       "\u001b[2;36m                    \u001b[0m         SentenceTransformer:                                        \u001b[2m                          \u001b[0m\n",
       "\u001b[2;36m                    \u001b[0m         \u001b[35m/home/jeongho/git/SKN05-FINAL-1TEAM/jeongho/fastAPI/domain/\u001b[0m \u001b[2m                          \u001b[0m\n",
       "\u001b[2;36m                    \u001b[0m         \u001b[35mchat/lang_graph_merge/yoeun/models/\u001b[0m\u001b[95mko-sbert-sts\u001b[0m             \u001b[2m                          \u001b[0m\n"
      ]
     },
     "metadata": {},
     "output_type": "display_data"
    },
    {
     "data": {
      "application/vnd.jupyter.widget-view+json": {
       "model_id": "3c6bf395dd4b4ab5a93a98481488e2cf",
       "version_major": 2,
       "version_minor": 0
      },
      "text/plain": [
       "Batches:   0%|          | 0/1 [00:00<?, ?it/s]"
      ]
     },
     "metadata": {},
     "output_type": "display_data"
    },
    {
     "data": {
      "text/html": [
       "<pre style=\"white-space:pre;overflow-x:auto;line-height:normal;font-family:Menlo,'DejaVu Sans Mono',consolas,'Courier New',monospace\"><span style=\"color: #7fbfbf; text-decoration-color: #7fbfbf\">[02/09/25 04:03:02] </span><span style=\"color: #000080; text-decoration-color: #000080\">INFO    </span> <span style=\"font-weight: bold\">[</span>SentenceTransformer.py:<span style=\"color: #008080; text-decoration-color: #008080; font-weight: bold\">210</span><span style=\"font-weight: bold\">]</span> &gt;&gt; Use pytorch device_name:    <a href=\"file:///home/jeongho/git/SKN05-FINAL-1TEAM/jeongho/RAG_env/lib/python3.12/site-packages/sentence_transformers/SentenceTransformer.py\" target=\"_blank\"><span style=\"color: #7f7f7f; text-decoration-color: #7f7f7f\">SentenceTransformer.py</span></a><span style=\"color: #7f7f7f; text-decoration-color: #7f7f7f\">:</span><a href=\"file:///home/jeongho/git/SKN05-FINAL-1TEAM/jeongho/RAG_env/lib/python3.12/site-packages/sentence_transformers/SentenceTransformer.py#210\" target=\"_blank\"><span style=\"color: #7f7f7f; text-decoration-color: #7f7f7f\">210</span></a>\n",
       "<span style=\"color: #7fbfbf; text-decoration-color: #7fbfbf\">                    </span>         cuda                                                        <span style=\"color: #7f7f7f; text-decoration-color: #7f7f7f\">                          </span>\n",
       "</pre>\n"
      ],
      "text/plain": [
       "\u001b[2;36m[02/09/25 04:03:02]\u001b[0m\u001b[2;36m \u001b[0m\u001b[34mINFO    \u001b[0m \u001b[1m[\u001b[0mSentenceTransformer.py:\u001b[1;36m210\u001b[0m\u001b[1m]\u001b[0m >> Use pytorch device_name:    \u001b]8;id=991591;file:///home/jeongho/git/SKN05-FINAL-1TEAM/jeongho/RAG_env/lib/python3.12/site-packages/sentence_transformers/SentenceTransformer.py\u001b\\\u001b[2mSentenceTransformer.py\u001b[0m\u001b]8;;\u001b\\\u001b[2m:\u001b[0m\u001b]8;id=728229;file:///home/jeongho/git/SKN05-FINAL-1TEAM/jeongho/RAG_env/lib/python3.12/site-packages/sentence_transformers/SentenceTransformer.py#210\u001b\\\u001b[2m210\u001b[0m\u001b]8;;\u001b\\\n",
       "\u001b[2;36m                    \u001b[0m         cuda                                                        \u001b[2m                          \u001b[0m\n"
      ]
     },
     "metadata": {},
     "output_type": "display_data"
    },
    {
     "data": {
      "text/html": [
       "<pre style=\"white-space:pre;overflow-x:auto;line-height:normal;font-family:Menlo,'DejaVu Sans Mono',consolas,'Courier New',monospace\"><span style=\"color: #7fbfbf; text-decoration-color: #7fbfbf\">                    </span><span style=\"color: #000080; text-decoration-color: #000080\">INFO    </span> <span style=\"font-weight: bold\">[</span>SentenceTransformer.py:<span style=\"color: #008080; text-decoration-color: #008080; font-weight: bold\">218</span><span style=\"font-weight: bold\">]</span> &gt;&gt; Load pretrained             <a href=\"file:///home/jeongho/git/SKN05-FINAL-1TEAM/jeongho/RAG_env/lib/python3.12/site-packages/sentence_transformers/SentenceTransformer.py\" target=\"_blank\"><span style=\"color: #7f7f7f; text-decoration-color: #7f7f7f\">SentenceTransformer.py</span></a><span style=\"color: #7f7f7f; text-decoration-color: #7f7f7f\">:</span><a href=\"file:///home/jeongho/git/SKN05-FINAL-1TEAM/jeongho/RAG_env/lib/python3.12/site-packages/sentence_transformers/SentenceTransformer.py#218\" target=\"_blank\"><span style=\"color: #7f7f7f; text-decoration-color: #7f7f7f\">218</span></a>\n",
       "<span style=\"color: #7fbfbf; text-decoration-color: #7fbfbf\">                    </span>         SentenceTransformer:                                        <span style=\"color: #7f7f7f; text-decoration-color: #7f7f7f\">                          </span>\n",
       "<span style=\"color: #7fbfbf; text-decoration-color: #7fbfbf\">                    </span>         <span style=\"color: #800080; text-decoration-color: #800080\">/home/jeongho/git/SKN05-FINAL-1TEAM/jeongho/fastAPI/domain/</span> <span style=\"color: #7f7f7f; text-decoration-color: #7f7f7f\">                          </span>\n",
       "<span style=\"color: #7fbfbf; text-decoration-color: #7fbfbf\">                    </span>         <span style=\"color: #800080; text-decoration-color: #800080\">chat/lang_graph_merge/yoeun/models/</span><span style=\"color: #ff00ff; text-decoration-color: #ff00ff\">ko-sbert-sts</span>             <span style=\"color: #7f7f7f; text-decoration-color: #7f7f7f\">                          </span>\n",
       "</pre>\n"
      ],
      "text/plain": [
       "\u001b[2;36m                   \u001b[0m\u001b[2;36m \u001b[0m\u001b[34mINFO    \u001b[0m \u001b[1m[\u001b[0mSentenceTransformer.py:\u001b[1;36m218\u001b[0m\u001b[1m]\u001b[0m >> Load pretrained             \u001b]8;id=569184;file:///home/jeongho/git/SKN05-FINAL-1TEAM/jeongho/RAG_env/lib/python3.12/site-packages/sentence_transformers/SentenceTransformer.py\u001b\\\u001b[2mSentenceTransformer.py\u001b[0m\u001b]8;;\u001b\\\u001b[2m:\u001b[0m\u001b]8;id=423995;file:///home/jeongho/git/SKN05-FINAL-1TEAM/jeongho/RAG_env/lib/python3.12/site-packages/sentence_transformers/SentenceTransformer.py#218\u001b\\\u001b[2m218\u001b[0m\u001b]8;;\u001b\\\n",
       "\u001b[2;36m                    \u001b[0m         SentenceTransformer:                                        \u001b[2m                          \u001b[0m\n",
       "\u001b[2;36m                    \u001b[0m         \u001b[35m/home/jeongho/git/SKN05-FINAL-1TEAM/jeongho/fastAPI/domain/\u001b[0m \u001b[2m                          \u001b[0m\n",
       "\u001b[2;36m                    \u001b[0m         \u001b[35mchat/lang_graph_merge/yoeun/models/\u001b[0m\u001b[95mko-sbert-sts\u001b[0m             \u001b[2m                          \u001b[0m\n"
      ]
     },
     "metadata": {},
     "output_type": "display_data"
    },
    {
     "data": {
      "application/vnd.jupyter.widget-view+json": {
       "model_id": "9f7e8b2116e840c1b9367a77c5edf460",
       "version_major": 2,
       "version_minor": 0
      },
      "text/plain": [
       "Batches:   0%|          | 0/1 [00:00<?, ?it/s]"
      ]
     },
     "metadata": {},
     "output_type": "display_data"
    },
    {
     "data": {
      "text/html": [
       "<pre style=\"white-space:pre;overflow-x:auto;line-height:normal;font-family:Menlo,'DejaVu Sans Mono',consolas,'Courier New',monospace\"><span style=\"color: #7fbfbf; text-decoration-color: #7fbfbf\">                    </span><span style=\"color: #000080; text-decoration-color: #000080\">INFO    </span> <span style=\"font-weight: bold\">[</span>SentenceTransformer.py:<span style=\"color: #008080; text-decoration-color: #008080; font-weight: bold\">210</span><span style=\"font-weight: bold\">]</span> &gt;&gt; Use pytorch device_name:    <a href=\"file:///home/jeongho/git/SKN05-FINAL-1TEAM/jeongho/RAG_env/lib/python3.12/site-packages/sentence_transformers/SentenceTransformer.py\" target=\"_blank\"><span style=\"color: #7f7f7f; text-decoration-color: #7f7f7f\">SentenceTransformer.py</span></a><span style=\"color: #7f7f7f; text-decoration-color: #7f7f7f\">:</span><a href=\"file:///home/jeongho/git/SKN05-FINAL-1TEAM/jeongho/RAG_env/lib/python3.12/site-packages/sentence_transformers/SentenceTransformer.py#210\" target=\"_blank\"><span style=\"color: #7f7f7f; text-decoration-color: #7f7f7f\">210</span></a>\n",
       "<span style=\"color: #7fbfbf; text-decoration-color: #7fbfbf\">                    </span>         cuda                                                        <span style=\"color: #7f7f7f; text-decoration-color: #7f7f7f\">                          </span>\n",
       "</pre>\n"
      ],
      "text/plain": [
       "\u001b[2;36m                   \u001b[0m\u001b[2;36m \u001b[0m\u001b[34mINFO    \u001b[0m \u001b[1m[\u001b[0mSentenceTransformer.py:\u001b[1;36m210\u001b[0m\u001b[1m]\u001b[0m >> Use pytorch device_name:    \u001b]8;id=611544;file:///home/jeongho/git/SKN05-FINAL-1TEAM/jeongho/RAG_env/lib/python3.12/site-packages/sentence_transformers/SentenceTransformer.py\u001b\\\u001b[2mSentenceTransformer.py\u001b[0m\u001b]8;;\u001b\\\u001b[2m:\u001b[0m\u001b]8;id=358316;file:///home/jeongho/git/SKN05-FINAL-1TEAM/jeongho/RAG_env/lib/python3.12/site-packages/sentence_transformers/SentenceTransformer.py#210\u001b\\\u001b[2m210\u001b[0m\u001b]8;;\u001b\\\n",
       "\u001b[2;36m                    \u001b[0m         cuda                                                        \u001b[2m                          \u001b[0m\n"
      ]
     },
     "metadata": {},
     "output_type": "display_data"
    },
    {
     "data": {
      "text/html": [
       "<pre style=\"white-space:pre;overflow-x:auto;line-height:normal;font-family:Menlo,'DejaVu Sans Mono',consolas,'Courier New',monospace\"><span style=\"color: #7fbfbf; text-decoration-color: #7fbfbf\">                    </span><span style=\"color: #000080; text-decoration-color: #000080\">INFO    </span> <span style=\"font-weight: bold\">[</span>SentenceTransformer.py:<span style=\"color: #008080; text-decoration-color: #008080; font-weight: bold\">218</span><span style=\"font-weight: bold\">]</span> &gt;&gt; Load pretrained             <a href=\"file:///home/jeongho/git/SKN05-FINAL-1TEAM/jeongho/RAG_env/lib/python3.12/site-packages/sentence_transformers/SentenceTransformer.py\" target=\"_blank\"><span style=\"color: #7f7f7f; text-decoration-color: #7f7f7f\">SentenceTransformer.py</span></a><span style=\"color: #7f7f7f; text-decoration-color: #7f7f7f\">:</span><a href=\"file:///home/jeongho/git/SKN05-FINAL-1TEAM/jeongho/RAG_env/lib/python3.12/site-packages/sentence_transformers/SentenceTransformer.py#218\" target=\"_blank\"><span style=\"color: #7f7f7f; text-decoration-color: #7f7f7f\">218</span></a>\n",
       "<span style=\"color: #7fbfbf; text-decoration-color: #7fbfbf\">                    </span>         SentenceTransformer:                                        <span style=\"color: #7f7f7f; text-decoration-color: #7f7f7f\">                          </span>\n",
       "<span style=\"color: #7fbfbf; text-decoration-color: #7fbfbf\">                    </span>         <span style=\"color: #800080; text-decoration-color: #800080\">/home/jeongho/git/SKN05-FINAL-1TEAM/jeongho/fastAPI/domain/</span> <span style=\"color: #7f7f7f; text-decoration-color: #7f7f7f\">                          </span>\n",
       "<span style=\"color: #7fbfbf; text-decoration-color: #7fbfbf\">                    </span>         <span style=\"color: #800080; text-decoration-color: #800080\">chat/lang_graph_merge/yoeun/models/</span><span style=\"color: #ff00ff; text-decoration-color: #ff00ff\">ko-sbert-sts</span>             <span style=\"color: #7f7f7f; text-decoration-color: #7f7f7f\">                          </span>\n",
       "</pre>\n"
      ],
      "text/plain": [
       "\u001b[2;36m                   \u001b[0m\u001b[2;36m \u001b[0m\u001b[34mINFO    \u001b[0m \u001b[1m[\u001b[0mSentenceTransformer.py:\u001b[1;36m218\u001b[0m\u001b[1m]\u001b[0m >> Load pretrained             \u001b]8;id=482992;file:///home/jeongho/git/SKN05-FINAL-1TEAM/jeongho/RAG_env/lib/python3.12/site-packages/sentence_transformers/SentenceTransformer.py\u001b\\\u001b[2mSentenceTransformer.py\u001b[0m\u001b]8;;\u001b\\\u001b[2m:\u001b[0m\u001b]8;id=959240;file:///home/jeongho/git/SKN05-FINAL-1TEAM/jeongho/RAG_env/lib/python3.12/site-packages/sentence_transformers/SentenceTransformer.py#218\u001b\\\u001b[2m218\u001b[0m\u001b]8;;\u001b\\\n",
       "\u001b[2;36m                    \u001b[0m         SentenceTransformer:                                        \u001b[2m                          \u001b[0m\n",
       "\u001b[2;36m                    \u001b[0m         \u001b[35m/home/jeongho/git/SKN05-FINAL-1TEAM/jeongho/fastAPI/domain/\u001b[0m \u001b[2m                          \u001b[0m\n",
       "\u001b[2;36m                    \u001b[0m         \u001b[35mchat/lang_graph_merge/yoeun/models/\u001b[0m\u001b[95mko-sbert-sts\u001b[0m             \u001b[2m                          \u001b[0m\n"
      ]
     },
     "metadata": {},
     "output_type": "display_data"
    },
    {
     "data": {
      "application/vnd.jupyter.widget-view+json": {
       "model_id": "b1b4d673865342e1836ce132a96ed08d",
       "version_major": 2,
       "version_minor": 0
      },
      "text/plain": [
       "Batches:   0%|          | 0/1 [00:00<?, ?it/s]"
      ]
     },
     "metadata": {},
     "output_type": "display_data"
    },
    {
     "data": {
      "text/html": [
       "<pre style=\"white-space:pre;overflow-x:auto;line-height:normal;font-family:Menlo,'DejaVu Sans Mono',consolas,'Courier New',monospace\"><span style=\"color: #7fbfbf; text-decoration-color: #7fbfbf\">                    </span><span style=\"color: #000080; text-decoration-color: #000080\">INFO    </span> <span style=\"font-weight: bold\">[</span>SentenceTransformer.py:<span style=\"color: #008080; text-decoration-color: #008080; font-weight: bold\">210</span><span style=\"font-weight: bold\">]</span> &gt;&gt; Use pytorch device_name:    <a href=\"file:///home/jeongho/git/SKN05-FINAL-1TEAM/jeongho/RAG_env/lib/python3.12/site-packages/sentence_transformers/SentenceTransformer.py\" target=\"_blank\"><span style=\"color: #7f7f7f; text-decoration-color: #7f7f7f\">SentenceTransformer.py</span></a><span style=\"color: #7f7f7f; text-decoration-color: #7f7f7f\">:</span><a href=\"file:///home/jeongho/git/SKN05-FINAL-1TEAM/jeongho/RAG_env/lib/python3.12/site-packages/sentence_transformers/SentenceTransformer.py#210\" target=\"_blank\"><span style=\"color: #7f7f7f; text-decoration-color: #7f7f7f\">210</span></a>\n",
       "<span style=\"color: #7fbfbf; text-decoration-color: #7fbfbf\">                    </span>         cuda                                                        <span style=\"color: #7f7f7f; text-decoration-color: #7f7f7f\">                          </span>\n",
       "</pre>\n"
      ],
      "text/plain": [
       "\u001b[2;36m                   \u001b[0m\u001b[2;36m \u001b[0m\u001b[34mINFO    \u001b[0m \u001b[1m[\u001b[0mSentenceTransformer.py:\u001b[1;36m210\u001b[0m\u001b[1m]\u001b[0m >> Use pytorch device_name:    \u001b]8;id=76664;file:///home/jeongho/git/SKN05-FINAL-1TEAM/jeongho/RAG_env/lib/python3.12/site-packages/sentence_transformers/SentenceTransformer.py\u001b\\\u001b[2mSentenceTransformer.py\u001b[0m\u001b]8;;\u001b\\\u001b[2m:\u001b[0m\u001b]8;id=610544;file:///home/jeongho/git/SKN05-FINAL-1TEAM/jeongho/RAG_env/lib/python3.12/site-packages/sentence_transformers/SentenceTransformer.py#210\u001b\\\u001b[2m210\u001b[0m\u001b]8;;\u001b\\\n",
       "\u001b[2;36m                    \u001b[0m         cuda                                                        \u001b[2m                          \u001b[0m\n"
      ]
     },
     "metadata": {},
     "output_type": "display_data"
    },
    {
     "data": {
      "text/html": [
       "<pre style=\"white-space:pre;overflow-x:auto;line-height:normal;font-family:Menlo,'DejaVu Sans Mono',consolas,'Courier New',monospace\"><span style=\"color: #7fbfbf; text-decoration-color: #7fbfbf\">                    </span><span style=\"color: #000080; text-decoration-color: #000080\">INFO    </span> <span style=\"font-weight: bold\">[</span>SentenceTransformer.py:<span style=\"color: #008080; text-decoration-color: #008080; font-weight: bold\">218</span><span style=\"font-weight: bold\">]</span> &gt;&gt; Load pretrained             <a href=\"file:///home/jeongho/git/SKN05-FINAL-1TEAM/jeongho/RAG_env/lib/python3.12/site-packages/sentence_transformers/SentenceTransformer.py\" target=\"_blank\"><span style=\"color: #7f7f7f; text-decoration-color: #7f7f7f\">SentenceTransformer.py</span></a><span style=\"color: #7f7f7f; text-decoration-color: #7f7f7f\">:</span><a href=\"file:///home/jeongho/git/SKN05-FINAL-1TEAM/jeongho/RAG_env/lib/python3.12/site-packages/sentence_transformers/SentenceTransformer.py#218\" target=\"_blank\"><span style=\"color: #7f7f7f; text-decoration-color: #7f7f7f\">218</span></a>\n",
       "<span style=\"color: #7fbfbf; text-decoration-color: #7fbfbf\">                    </span>         SentenceTransformer:                                        <span style=\"color: #7f7f7f; text-decoration-color: #7f7f7f\">                          </span>\n",
       "<span style=\"color: #7fbfbf; text-decoration-color: #7fbfbf\">                    </span>         <span style=\"color: #800080; text-decoration-color: #800080\">/home/jeongho/git/SKN05-FINAL-1TEAM/jeongho/fastAPI/domain/</span> <span style=\"color: #7f7f7f; text-decoration-color: #7f7f7f\">                          </span>\n",
       "<span style=\"color: #7fbfbf; text-decoration-color: #7fbfbf\">                    </span>         <span style=\"color: #800080; text-decoration-color: #800080\">chat/lang_graph_merge/yoeun/models/</span><span style=\"color: #ff00ff; text-decoration-color: #ff00ff\">ko-sbert-sts</span>             <span style=\"color: #7f7f7f; text-decoration-color: #7f7f7f\">                          </span>\n",
       "</pre>\n"
      ],
      "text/plain": [
       "\u001b[2;36m                   \u001b[0m\u001b[2;36m \u001b[0m\u001b[34mINFO    \u001b[0m \u001b[1m[\u001b[0mSentenceTransformer.py:\u001b[1;36m218\u001b[0m\u001b[1m]\u001b[0m >> Load pretrained             \u001b]8;id=877502;file:///home/jeongho/git/SKN05-FINAL-1TEAM/jeongho/RAG_env/lib/python3.12/site-packages/sentence_transformers/SentenceTransformer.py\u001b\\\u001b[2mSentenceTransformer.py\u001b[0m\u001b]8;;\u001b\\\u001b[2m:\u001b[0m\u001b]8;id=629251;file:///home/jeongho/git/SKN05-FINAL-1TEAM/jeongho/RAG_env/lib/python3.12/site-packages/sentence_transformers/SentenceTransformer.py#218\u001b\\\u001b[2m218\u001b[0m\u001b]8;;\u001b\\\n",
       "\u001b[2;36m                    \u001b[0m         SentenceTransformer:                                        \u001b[2m                          \u001b[0m\n",
       "\u001b[2;36m                    \u001b[0m         \u001b[35m/home/jeongho/git/SKN05-FINAL-1TEAM/jeongho/fastAPI/domain/\u001b[0m \u001b[2m                          \u001b[0m\n",
       "\u001b[2;36m                    \u001b[0m         \u001b[35mchat/lang_graph_merge/yoeun/models/\u001b[0m\u001b[95mko-sbert-sts\u001b[0m             \u001b[2m                          \u001b[0m\n"
      ]
     },
     "metadata": {},
     "output_type": "display_data"
    },
    {
     "data": {
      "application/vnd.jupyter.widget-view+json": {
       "model_id": "b37da69d6d7c416c9091ab434da81a66",
       "version_major": 2,
       "version_minor": 0
      },
      "text/plain": [
       "Batches:   0%|          | 0/1 [00:00<?, ?it/s]"
      ]
     },
     "metadata": {},
     "output_type": "display_data"
    },
    {
     "data": {
      "text/html": [
       "<pre style=\"white-space:pre;overflow-x:auto;line-height:normal;font-family:Menlo,'DejaVu Sans Mono',consolas,'Courier New',monospace\"><span style=\"color: #7fbfbf; text-decoration-color: #7fbfbf\">[02/09/25 04:03:03] </span><span style=\"color: #000080; text-decoration-color: #000080\">INFO    </span> <span style=\"font-weight: bold\">[</span>SentenceTransformer.py:<span style=\"color: #008080; text-decoration-color: #008080; font-weight: bold\">210</span><span style=\"font-weight: bold\">]</span> &gt;&gt; Use pytorch device_name:    <a href=\"file:///home/jeongho/git/SKN05-FINAL-1TEAM/jeongho/RAG_env/lib/python3.12/site-packages/sentence_transformers/SentenceTransformer.py\" target=\"_blank\"><span style=\"color: #7f7f7f; text-decoration-color: #7f7f7f\">SentenceTransformer.py</span></a><span style=\"color: #7f7f7f; text-decoration-color: #7f7f7f\">:</span><a href=\"file:///home/jeongho/git/SKN05-FINAL-1TEAM/jeongho/RAG_env/lib/python3.12/site-packages/sentence_transformers/SentenceTransformer.py#210\" target=\"_blank\"><span style=\"color: #7f7f7f; text-decoration-color: #7f7f7f\">210</span></a>\n",
       "<span style=\"color: #7fbfbf; text-decoration-color: #7fbfbf\">                    </span>         cuda                                                        <span style=\"color: #7f7f7f; text-decoration-color: #7f7f7f\">                          </span>\n",
       "</pre>\n"
      ],
      "text/plain": [
       "\u001b[2;36m[02/09/25 04:03:03]\u001b[0m\u001b[2;36m \u001b[0m\u001b[34mINFO    \u001b[0m \u001b[1m[\u001b[0mSentenceTransformer.py:\u001b[1;36m210\u001b[0m\u001b[1m]\u001b[0m >> Use pytorch device_name:    \u001b]8;id=176865;file:///home/jeongho/git/SKN05-FINAL-1TEAM/jeongho/RAG_env/lib/python3.12/site-packages/sentence_transformers/SentenceTransformer.py\u001b\\\u001b[2mSentenceTransformer.py\u001b[0m\u001b]8;;\u001b\\\u001b[2m:\u001b[0m\u001b]8;id=652430;file:///home/jeongho/git/SKN05-FINAL-1TEAM/jeongho/RAG_env/lib/python3.12/site-packages/sentence_transformers/SentenceTransformer.py#210\u001b\\\u001b[2m210\u001b[0m\u001b]8;;\u001b\\\n",
       "\u001b[2;36m                    \u001b[0m         cuda                                                        \u001b[2m                          \u001b[0m\n"
      ]
     },
     "metadata": {},
     "output_type": "display_data"
    },
    {
     "data": {
      "text/html": [
       "<pre style=\"white-space:pre;overflow-x:auto;line-height:normal;font-family:Menlo,'DejaVu Sans Mono',consolas,'Courier New',monospace\"><span style=\"color: #7fbfbf; text-decoration-color: #7fbfbf\">                    </span><span style=\"color: #000080; text-decoration-color: #000080\">INFO    </span> <span style=\"font-weight: bold\">[</span>SentenceTransformer.py:<span style=\"color: #008080; text-decoration-color: #008080; font-weight: bold\">218</span><span style=\"font-weight: bold\">]</span> &gt;&gt; Load pretrained             <a href=\"file:///home/jeongho/git/SKN05-FINAL-1TEAM/jeongho/RAG_env/lib/python3.12/site-packages/sentence_transformers/SentenceTransformer.py\" target=\"_blank\"><span style=\"color: #7f7f7f; text-decoration-color: #7f7f7f\">SentenceTransformer.py</span></a><span style=\"color: #7f7f7f; text-decoration-color: #7f7f7f\">:</span><a href=\"file:///home/jeongho/git/SKN05-FINAL-1TEAM/jeongho/RAG_env/lib/python3.12/site-packages/sentence_transformers/SentenceTransformer.py#218\" target=\"_blank\"><span style=\"color: #7f7f7f; text-decoration-color: #7f7f7f\">218</span></a>\n",
       "<span style=\"color: #7fbfbf; text-decoration-color: #7fbfbf\">                    </span>         SentenceTransformer:                                        <span style=\"color: #7f7f7f; text-decoration-color: #7f7f7f\">                          </span>\n",
       "<span style=\"color: #7fbfbf; text-decoration-color: #7fbfbf\">                    </span>         <span style=\"color: #800080; text-decoration-color: #800080\">/home/jeongho/git/SKN05-FINAL-1TEAM/jeongho/fastAPI/domain/</span> <span style=\"color: #7f7f7f; text-decoration-color: #7f7f7f\">                          </span>\n",
       "<span style=\"color: #7fbfbf; text-decoration-color: #7fbfbf\">                    </span>         <span style=\"color: #800080; text-decoration-color: #800080\">chat/lang_graph_merge/yoeun/models/</span><span style=\"color: #ff00ff; text-decoration-color: #ff00ff\">ko-sbert-sts</span>             <span style=\"color: #7f7f7f; text-decoration-color: #7f7f7f\">                          </span>\n",
       "</pre>\n"
      ],
      "text/plain": [
       "\u001b[2;36m                   \u001b[0m\u001b[2;36m \u001b[0m\u001b[34mINFO    \u001b[0m \u001b[1m[\u001b[0mSentenceTransformer.py:\u001b[1;36m218\u001b[0m\u001b[1m]\u001b[0m >> Load pretrained             \u001b]8;id=104740;file:///home/jeongho/git/SKN05-FINAL-1TEAM/jeongho/RAG_env/lib/python3.12/site-packages/sentence_transformers/SentenceTransformer.py\u001b\\\u001b[2mSentenceTransformer.py\u001b[0m\u001b]8;;\u001b\\\u001b[2m:\u001b[0m\u001b]8;id=605095;file:///home/jeongho/git/SKN05-FINAL-1TEAM/jeongho/RAG_env/lib/python3.12/site-packages/sentence_transformers/SentenceTransformer.py#218\u001b\\\u001b[2m218\u001b[0m\u001b]8;;\u001b\\\n",
       "\u001b[2;36m                    \u001b[0m         SentenceTransformer:                                        \u001b[2m                          \u001b[0m\n",
       "\u001b[2;36m                    \u001b[0m         \u001b[35m/home/jeongho/git/SKN05-FINAL-1TEAM/jeongho/fastAPI/domain/\u001b[0m \u001b[2m                          \u001b[0m\n",
       "\u001b[2;36m                    \u001b[0m         \u001b[35mchat/lang_graph_merge/yoeun/models/\u001b[0m\u001b[95mko-sbert-sts\u001b[0m             \u001b[2m                          \u001b[0m\n"
      ]
     },
     "metadata": {},
     "output_type": "display_data"
    },
    {
     "data": {
      "application/vnd.jupyter.widget-view+json": {
       "model_id": "5ebc71570d514ac083b9f6ad1cbca199",
       "version_major": 2,
       "version_minor": 0
      },
      "text/plain": [
       "Batches:   0%|          | 0/1 [00:00<?, ?it/s]"
      ]
     },
     "metadata": {},
     "output_type": "display_data"
    },
    {
     "data": {
      "text/html": [
       "<pre style=\"white-space:pre;overflow-x:auto;line-height:normal;font-family:Menlo,'DejaVu Sans Mono',consolas,'Courier New',monospace\"><span style=\"color: #7fbfbf; text-decoration-color: #7fbfbf\">                    </span><span style=\"color: #000080; text-decoration-color: #000080\">INFO    </span> <span style=\"font-weight: bold\">[</span>SentenceTransformer.py:<span style=\"color: #008080; text-decoration-color: #008080; font-weight: bold\">210</span><span style=\"font-weight: bold\">]</span> &gt;&gt; Use pytorch device_name:    <a href=\"file:///home/jeongho/git/SKN05-FINAL-1TEAM/jeongho/RAG_env/lib/python3.12/site-packages/sentence_transformers/SentenceTransformer.py\" target=\"_blank\"><span style=\"color: #7f7f7f; text-decoration-color: #7f7f7f\">SentenceTransformer.py</span></a><span style=\"color: #7f7f7f; text-decoration-color: #7f7f7f\">:</span><a href=\"file:///home/jeongho/git/SKN05-FINAL-1TEAM/jeongho/RAG_env/lib/python3.12/site-packages/sentence_transformers/SentenceTransformer.py#210\" target=\"_blank\"><span style=\"color: #7f7f7f; text-decoration-color: #7f7f7f\">210</span></a>\n",
       "<span style=\"color: #7fbfbf; text-decoration-color: #7fbfbf\">                    </span>         cuda                                                        <span style=\"color: #7f7f7f; text-decoration-color: #7f7f7f\">                          </span>\n",
       "</pre>\n"
      ],
      "text/plain": [
       "\u001b[2;36m                   \u001b[0m\u001b[2;36m \u001b[0m\u001b[34mINFO    \u001b[0m \u001b[1m[\u001b[0mSentenceTransformer.py:\u001b[1;36m210\u001b[0m\u001b[1m]\u001b[0m >> Use pytorch device_name:    \u001b]8;id=55517;file:///home/jeongho/git/SKN05-FINAL-1TEAM/jeongho/RAG_env/lib/python3.12/site-packages/sentence_transformers/SentenceTransformer.py\u001b\\\u001b[2mSentenceTransformer.py\u001b[0m\u001b]8;;\u001b\\\u001b[2m:\u001b[0m\u001b]8;id=656699;file:///home/jeongho/git/SKN05-FINAL-1TEAM/jeongho/RAG_env/lib/python3.12/site-packages/sentence_transformers/SentenceTransformer.py#210\u001b\\\u001b[2m210\u001b[0m\u001b]8;;\u001b\\\n",
       "\u001b[2;36m                    \u001b[0m         cuda                                                        \u001b[2m                          \u001b[0m\n"
      ]
     },
     "metadata": {},
     "output_type": "display_data"
    },
    {
     "data": {
      "text/html": [
       "<pre style=\"white-space:pre;overflow-x:auto;line-height:normal;font-family:Menlo,'DejaVu Sans Mono',consolas,'Courier New',monospace\"><span style=\"color: #7fbfbf; text-decoration-color: #7fbfbf\">                    </span><span style=\"color: #000080; text-decoration-color: #000080\">INFO    </span> <span style=\"font-weight: bold\">[</span>SentenceTransformer.py:<span style=\"color: #008080; text-decoration-color: #008080; font-weight: bold\">218</span><span style=\"font-weight: bold\">]</span> &gt;&gt; Load pretrained             <a href=\"file:///home/jeongho/git/SKN05-FINAL-1TEAM/jeongho/RAG_env/lib/python3.12/site-packages/sentence_transformers/SentenceTransformer.py\" target=\"_blank\"><span style=\"color: #7f7f7f; text-decoration-color: #7f7f7f\">SentenceTransformer.py</span></a><span style=\"color: #7f7f7f; text-decoration-color: #7f7f7f\">:</span><a href=\"file:///home/jeongho/git/SKN05-FINAL-1TEAM/jeongho/RAG_env/lib/python3.12/site-packages/sentence_transformers/SentenceTransformer.py#218\" target=\"_blank\"><span style=\"color: #7f7f7f; text-decoration-color: #7f7f7f\">218</span></a>\n",
       "<span style=\"color: #7fbfbf; text-decoration-color: #7fbfbf\">                    </span>         SentenceTransformer:                                        <span style=\"color: #7f7f7f; text-decoration-color: #7f7f7f\">                          </span>\n",
       "<span style=\"color: #7fbfbf; text-decoration-color: #7fbfbf\">                    </span>         <span style=\"color: #800080; text-decoration-color: #800080\">/home/jeongho/git/SKN05-FINAL-1TEAM/jeongho/fastAPI/domain/</span> <span style=\"color: #7f7f7f; text-decoration-color: #7f7f7f\">                          </span>\n",
       "<span style=\"color: #7fbfbf; text-decoration-color: #7fbfbf\">                    </span>         <span style=\"color: #800080; text-decoration-color: #800080\">chat/lang_graph_merge/yoeun/models/</span><span style=\"color: #ff00ff; text-decoration-color: #ff00ff\">ko-sbert-sts</span>             <span style=\"color: #7f7f7f; text-decoration-color: #7f7f7f\">                          </span>\n",
       "</pre>\n"
      ],
      "text/plain": [
       "\u001b[2;36m                   \u001b[0m\u001b[2;36m \u001b[0m\u001b[34mINFO    \u001b[0m \u001b[1m[\u001b[0mSentenceTransformer.py:\u001b[1;36m218\u001b[0m\u001b[1m]\u001b[0m >> Load pretrained             \u001b]8;id=860388;file:///home/jeongho/git/SKN05-FINAL-1TEAM/jeongho/RAG_env/lib/python3.12/site-packages/sentence_transformers/SentenceTransformer.py\u001b\\\u001b[2mSentenceTransformer.py\u001b[0m\u001b]8;;\u001b\\\u001b[2m:\u001b[0m\u001b]8;id=639738;file:///home/jeongho/git/SKN05-FINAL-1TEAM/jeongho/RAG_env/lib/python3.12/site-packages/sentence_transformers/SentenceTransformer.py#218\u001b\\\u001b[2m218\u001b[0m\u001b]8;;\u001b\\\n",
       "\u001b[2;36m                    \u001b[0m         SentenceTransformer:                                        \u001b[2m                          \u001b[0m\n",
       "\u001b[2;36m                    \u001b[0m         \u001b[35m/home/jeongho/git/SKN05-FINAL-1TEAM/jeongho/fastAPI/domain/\u001b[0m \u001b[2m                          \u001b[0m\n",
       "\u001b[2;36m                    \u001b[0m         \u001b[35mchat/lang_graph_merge/yoeun/models/\u001b[0m\u001b[95mko-sbert-sts\u001b[0m             \u001b[2m                          \u001b[0m\n"
      ]
     },
     "metadata": {},
     "output_type": "display_data"
    },
    {
     "data": {
      "application/vnd.jupyter.widget-view+json": {
       "model_id": "3bf1378e6cc94766ad05c7dd506278ad",
       "version_major": 2,
       "version_minor": 0
      },
      "text/plain": [
       "Batches:   0%|          | 0/1 [00:00<?, ?it/s]"
      ]
     },
     "metadata": {},
     "output_type": "display_data"
    },
    {
     "data": {
      "text/html": [
       "<pre style=\"white-space:pre;overflow-x:auto;line-height:normal;font-family:Menlo,'DejaVu Sans Mono',consolas,'Courier New',monospace\"><span style=\"color: #7fbfbf; text-decoration-color: #7fbfbf\">[02/09/25 04:03:04] </span><span style=\"color: #000080; text-decoration-color: #000080\">INFO    </span> <span style=\"font-weight: bold\">[</span>SentenceTransformer.py:<span style=\"color: #008080; text-decoration-color: #008080; font-weight: bold\">210</span><span style=\"font-weight: bold\">]</span> &gt;&gt; Use pytorch device_name:    <a href=\"file:///home/jeongho/git/SKN05-FINAL-1TEAM/jeongho/RAG_env/lib/python3.12/site-packages/sentence_transformers/SentenceTransformer.py\" target=\"_blank\"><span style=\"color: #7f7f7f; text-decoration-color: #7f7f7f\">SentenceTransformer.py</span></a><span style=\"color: #7f7f7f; text-decoration-color: #7f7f7f\">:</span><a href=\"file:///home/jeongho/git/SKN05-FINAL-1TEAM/jeongho/RAG_env/lib/python3.12/site-packages/sentence_transformers/SentenceTransformer.py#210\" target=\"_blank\"><span style=\"color: #7f7f7f; text-decoration-color: #7f7f7f\">210</span></a>\n",
       "<span style=\"color: #7fbfbf; text-decoration-color: #7fbfbf\">                    </span>         cuda                                                        <span style=\"color: #7f7f7f; text-decoration-color: #7f7f7f\">                          </span>\n",
       "</pre>\n"
      ],
      "text/plain": [
       "\u001b[2;36m[02/09/25 04:03:04]\u001b[0m\u001b[2;36m \u001b[0m\u001b[34mINFO    \u001b[0m \u001b[1m[\u001b[0mSentenceTransformer.py:\u001b[1;36m210\u001b[0m\u001b[1m]\u001b[0m >> Use pytorch device_name:    \u001b]8;id=143478;file:///home/jeongho/git/SKN05-FINAL-1TEAM/jeongho/RAG_env/lib/python3.12/site-packages/sentence_transformers/SentenceTransformer.py\u001b\\\u001b[2mSentenceTransformer.py\u001b[0m\u001b]8;;\u001b\\\u001b[2m:\u001b[0m\u001b]8;id=867769;file:///home/jeongho/git/SKN05-FINAL-1TEAM/jeongho/RAG_env/lib/python3.12/site-packages/sentence_transformers/SentenceTransformer.py#210\u001b\\\u001b[2m210\u001b[0m\u001b]8;;\u001b\\\n",
       "\u001b[2;36m                    \u001b[0m         cuda                                                        \u001b[2m                          \u001b[0m\n"
      ]
     },
     "metadata": {},
     "output_type": "display_data"
    },
    {
     "data": {
      "text/html": [
       "<pre style=\"white-space:pre;overflow-x:auto;line-height:normal;font-family:Menlo,'DejaVu Sans Mono',consolas,'Courier New',monospace\"><span style=\"color: #7fbfbf; text-decoration-color: #7fbfbf\">                    </span><span style=\"color: #000080; text-decoration-color: #000080\">INFO    </span> <span style=\"font-weight: bold\">[</span>SentenceTransformer.py:<span style=\"color: #008080; text-decoration-color: #008080; font-weight: bold\">218</span><span style=\"font-weight: bold\">]</span> &gt;&gt; Load pretrained             <a href=\"file:///home/jeongho/git/SKN05-FINAL-1TEAM/jeongho/RAG_env/lib/python3.12/site-packages/sentence_transformers/SentenceTransformer.py\" target=\"_blank\"><span style=\"color: #7f7f7f; text-decoration-color: #7f7f7f\">SentenceTransformer.py</span></a><span style=\"color: #7f7f7f; text-decoration-color: #7f7f7f\">:</span><a href=\"file:///home/jeongho/git/SKN05-FINAL-1TEAM/jeongho/RAG_env/lib/python3.12/site-packages/sentence_transformers/SentenceTransformer.py#218\" target=\"_blank\"><span style=\"color: #7f7f7f; text-decoration-color: #7f7f7f\">218</span></a>\n",
       "<span style=\"color: #7fbfbf; text-decoration-color: #7fbfbf\">                    </span>         SentenceTransformer:                                        <span style=\"color: #7f7f7f; text-decoration-color: #7f7f7f\">                          </span>\n",
       "<span style=\"color: #7fbfbf; text-decoration-color: #7fbfbf\">                    </span>         <span style=\"color: #800080; text-decoration-color: #800080\">/home/jeongho/git/SKN05-FINAL-1TEAM/jeongho/fastAPI/domain/</span> <span style=\"color: #7f7f7f; text-decoration-color: #7f7f7f\">                          </span>\n",
       "<span style=\"color: #7fbfbf; text-decoration-color: #7fbfbf\">                    </span>         <span style=\"color: #800080; text-decoration-color: #800080\">chat/lang_graph_merge/yoeun/models/</span><span style=\"color: #ff00ff; text-decoration-color: #ff00ff\">ko-sbert-sts</span>             <span style=\"color: #7f7f7f; text-decoration-color: #7f7f7f\">                          </span>\n",
       "</pre>\n"
      ],
      "text/plain": [
       "\u001b[2;36m                   \u001b[0m\u001b[2;36m \u001b[0m\u001b[34mINFO    \u001b[0m \u001b[1m[\u001b[0mSentenceTransformer.py:\u001b[1;36m218\u001b[0m\u001b[1m]\u001b[0m >> Load pretrained             \u001b]8;id=187006;file:///home/jeongho/git/SKN05-FINAL-1TEAM/jeongho/RAG_env/lib/python3.12/site-packages/sentence_transformers/SentenceTransformer.py\u001b\\\u001b[2mSentenceTransformer.py\u001b[0m\u001b]8;;\u001b\\\u001b[2m:\u001b[0m\u001b]8;id=867726;file:///home/jeongho/git/SKN05-FINAL-1TEAM/jeongho/RAG_env/lib/python3.12/site-packages/sentence_transformers/SentenceTransformer.py#218\u001b\\\u001b[2m218\u001b[0m\u001b]8;;\u001b\\\n",
       "\u001b[2;36m                    \u001b[0m         SentenceTransformer:                                        \u001b[2m                          \u001b[0m\n",
       "\u001b[2;36m                    \u001b[0m         \u001b[35m/home/jeongho/git/SKN05-FINAL-1TEAM/jeongho/fastAPI/domain/\u001b[0m \u001b[2m                          \u001b[0m\n",
       "\u001b[2;36m                    \u001b[0m         \u001b[35mchat/lang_graph_merge/yoeun/models/\u001b[0m\u001b[95mko-sbert-sts\u001b[0m             \u001b[2m                          \u001b[0m\n"
      ]
     },
     "metadata": {},
     "output_type": "display_data"
    },
    {
     "data": {
      "application/vnd.jupyter.widget-view+json": {
       "model_id": "a555f4431d5e4d9db1344e73e1c976f2",
       "version_major": 2,
       "version_minor": 0
      },
      "text/plain": [
       "Batches:   0%|          | 0/1 [00:00<?, ?it/s]"
      ]
     },
     "metadata": {},
     "output_type": "display_data"
    },
    {
     "data": {
      "text/html": [
       "<pre style=\"white-space:pre;overflow-x:auto;line-height:normal;font-family:Menlo,'DejaVu Sans Mono',consolas,'Courier New',monospace\"><span style=\"color: #7fbfbf; text-decoration-color: #7fbfbf\">                    </span><span style=\"color: #000080; text-decoration-color: #000080\">INFO    </span> <span style=\"font-weight: bold\">[</span>SentenceTransformer.py:<span style=\"color: #008080; text-decoration-color: #008080; font-weight: bold\">210</span><span style=\"font-weight: bold\">]</span> &gt;&gt; Use pytorch device_name:    <a href=\"file:///home/jeongho/git/SKN05-FINAL-1TEAM/jeongho/RAG_env/lib/python3.12/site-packages/sentence_transformers/SentenceTransformer.py\" target=\"_blank\"><span style=\"color: #7f7f7f; text-decoration-color: #7f7f7f\">SentenceTransformer.py</span></a><span style=\"color: #7f7f7f; text-decoration-color: #7f7f7f\">:</span><a href=\"file:///home/jeongho/git/SKN05-FINAL-1TEAM/jeongho/RAG_env/lib/python3.12/site-packages/sentence_transformers/SentenceTransformer.py#210\" target=\"_blank\"><span style=\"color: #7f7f7f; text-decoration-color: #7f7f7f\">210</span></a>\n",
       "<span style=\"color: #7fbfbf; text-decoration-color: #7fbfbf\">                    </span>         cuda                                                        <span style=\"color: #7f7f7f; text-decoration-color: #7f7f7f\">                          </span>\n",
       "</pre>\n"
      ],
      "text/plain": [
       "\u001b[2;36m                   \u001b[0m\u001b[2;36m \u001b[0m\u001b[34mINFO    \u001b[0m \u001b[1m[\u001b[0mSentenceTransformer.py:\u001b[1;36m210\u001b[0m\u001b[1m]\u001b[0m >> Use pytorch device_name:    \u001b]8;id=46122;file:///home/jeongho/git/SKN05-FINAL-1TEAM/jeongho/RAG_env/lib/python3.12/site-packages/sentence_transformers/SentenceTransformer.py\u001b\\\u001b[2mSentenceTransformer.py\u001b[0m\u001b]8;;\u001b\\\u001b[2m:\u001b[0m\u001b]8;id=965732;file:///home/jeongho/git/SKN05-FINAL-1TEAM/jeongho/RAG_env/lib/python3.12/site-packages/sentence_transformers/SentenceTransformer.py#210\u001b\\\u001b[2m210\u001b[0m\u001b]8;;\u001b\\\n",
       "\u001b[2;36m                    \u001b[0m         cuda                                                        \u001b[2m                          \u001b[0m\n"
      ]
     },
     "metadata": {},
     "output_type": "display_data"
    },
    {
     "data": {
      "text/html": [
       "<pre style=\"white-space:pre;overflow-x:auto;line-height:normal;font-family:Menlo,'DejaVu Sans Mono',consolas,'Courier New',monospace\"><span style=\"color: #7fbfbf; text-decoration-color: #7fbfbf\">                    </span><span style=\"color: #000080; text-decoration-color: #000080\">INFO    </span> <span style=\"font-weight: bold\">[</span>SentenceTransformer.py:<span style=\"color: #008080; text-decoration-color: #008080; font-weight: bold\">218</span><span style=\"font-weight: bold\">]</span> &gt;&gt; Load pretrained             <a href=\"file:///home/jeongho/git/SKN05-FINAL-1TEAM/jeongho/RAG_env/lib/python3.12/site-packages/sentence_transformers/SentenceTransformer.py\" target=\"_blank\"><span style=\"color: #7f7f7f; text-decoration-color: #7f7f7f\">SentenceTransformer.py</span></a><span style=\"color: #7f7f7f; text-decoration-color: #7f7f7f\">:</span><a href=\"file:///home/jeongho/git/SKN05-FINAL-1TEAM/jeongho/RAG_env/lib/python3.12/site-packages/sentence_transformers/SentenceTransformer.py#218\" target=\"_blank\"><span style=\"color: #7f7f7f; text-decoration-color: #7f7f7f\">218</span></a>\n",
       "<span style=\"color: #7fbfbf; text-decoration-color: #7fbfbf\">                    </span>         SentenceTransformer:                                        <span style=\"color: #7f7f7f; text-decoration-color: #7f7f7f\">                          </span>\n",
       "<span style=\"color: #7fbfbf; text-decoration-color: #7fbfbf\">                    </span>         <span style=\"color: #800080; text-decoration-color: #800080\">/home/jeongho/git/SKN05-FINAL-1TEAM/jeongho/fastAPI/domain/</span> <span style=\"color: #7f7f7f; text-decoration-color: #7f7f7f\">                          </span>\n",
       "<span style=\"color: #7fbfbf; text-decoration-color: #7fbfbf\">                    </span>         <span style=\"color: #800080; text-decoration-color: #800080\">chat/lang_graph_merge/yoeun/models/</span><span style=\"color: #ff00ff; text-decoration-color: #ff00ff\">ko-sbert-sts</span>             <span style=\"color: #7f7f7f; text-decoration-color: #7f7f7f\">                          </span>\n",
       "</pre>\n"
      ],
      "text/plain": [
       "\u001b[2;36m                   \u001b[0m\u001b[2;36m \u001b[0m\u001b[34mINFO    \u001b[0m \u001b[1m[\u001b[0mSentenceTransformer.py:\u001b[1;36m218\u001b[0m\u001b[1m]\u001b[0m >> Load pretrained             \u001b]8;id=740876;file:///home/jeongho/git/SKN05-FINAL-1TEAM/jeongho/RAG_env/lib/python3.12/site-packages/sentence_transformers/SentenceTransformer.py\u001b\\\u001b[2mSentenceTransformer.py\u001b[0m\u001b]8;;\u001b\\\u001b[2m:\u001b[0m\u001b]8;id=313366;file:///home/jeongho/git/SKN05-FINAL-1TEAM/jeongho/RAG_env/lib/python3.12/site-packages/sentence_transformers/SentenceTransformer.py#218\u001b\\\u001b[2m218\u001b[0m\u001b]8;;\u001b\\\n",
       "\u001b[2;36m                    \u001b[0m         SentenceTransformer:                                        \u001b[2m                          \u001b[0m\n",
       "\u001b[2;36m                    \u001b[0m         \u001b[35m/home/jeongho/git/SKN05-FINAL-1TEAM/jeongho/fastAPI/domain/\u001b[0m \u001b[2m                          \u001b[0m\n",
       "\u001b[2;36m                    \u001b[0m         \u001b[35mchat/lang_graph_merge/yoeun/models/\u001b[0m\u001b[95mko-sbert-sts\u001b[0m             \u001b[2m                          \u001b[0m\n"
      ]
     },
     "metadata": {},
     "output_type": "display_data"
    },
    {
     "data": {
      "application/vnd.jupyter.widget-view+json": {
       "model_id": "d12c51e0fd624086b11068385a4691b6",
       "version_major": 2,
       "version_minor": 0
      },
      "text/plain": [
       "Batches:   0%|          | 0/1 [00:00<?, ?it/s]"
      ]
     },
     "metadata": {},
     "output_type": "display_data"
    },
    {
     "data": {
      "text/html": [
       "<pre style=\"white-space:pre;overflow-x:auto;line-height:normal;font-family:Menlo,'DejaVu Sans Mono',consolas,'Courier New',monospace\"><span style=\"color: #7fbfbf; text-decoration-color: #7fbfbf\">[02/09/25 04:03:05] </span><span style=\"color: #000080; text-decoration-color: #000080\">INFO    </span> <span style=\"font-weight: bold\">[</span>SentenceTransformer.py:<span style=\"color: #008080; text-decoration-color: #008080; font-weight: bold\">210</span><span style=\"font-weight: bold\">]</span> &gt;&gt; Use pytorch device_name:    <a href=\"file:///home/jeongho/git/SKN05-FINAL-1TEAM/jeongho/RAG_env/lib/python3.12/site-packages/sentence_transformers/SentenceTransformer.py\" target=\"_blank\"><span style=\"color: #7f7f7f; text-decoration-color: #7f7f7f\">SentenceTransformer.py</span></a><span style=\"color: #7f7f7f; text-decoration-color: #7f7f7f\">:</span><a href=\"file:///home/jeongho/git/SKN05-FINAL-1TEAM/jeongho/RAG_env/lib/python3.12/site-packages/sentence_transformers/SentenceTransformer.py#210\" target=\"_blank\"><span style=\"color: #7f7f7f; text-decoration-color: #7f7f7f\">210</span></a>\n",
       "<span style=\"color: #7fbfbf; text-decoration-color: #7fbfbf\">                    </span>         cuda                                                        <span style=\"color: #7f7f7f; text-decoration-color: #7f7f7f\">                          </span>\n",
       "</pre>\n"
      ],
      "text/plain": [
       "\u001b[2;36m[02/09/25 04:03:05]\u001b[0m\u001b[2;36m \u001b[0m\u001b[34mINFO    \u001b[0m \u001b[1m[\u001b[0mSentenceTransformer.py:\u001b[1;36m210\u001b[0m\u001b[1m]\u001b[0m >> Use pytorch device_name:    \u001b]8;id=184450;file:///home/jeongho/git/SKN05-FINAL-1TEAM/jeongho/RAG_env/lib/python3.12/site-packages/sentence_transformers/SentenceTransformer.py\u001b\\\u001b[2mSentenceTransformer.py\u001b[0m\u001b]8;;\u001b\\\u001b[2m:\u001b[0m\u001b]8;id=526530;file:///home/jeongho/git/SKN05-FINAL-1TEAM/jeongho/RAG_env/lib/python3.12/site-packages/sentence_transformers/SentenceTransformer.py#210\u001b\\\u001b[2m210\u001b[0m\u001b]8;;\u001b\\\n",
       "\u001b[2;36m                    \u001b[0m         cuda                                                        \u001b[2m                          \u001b[0m\n"
      ]
     },
     "metadata": {},
     "output_type": "display_data"
    },
    {
     "data": {
      "text/html": [
       "<pre style=\"white-space:pre;overflow-x:auto;line-height:normal;font-family:Menlo,'DejaVu Sans Mono',consolas,'Courier New',monospace\"><span style=\"color: #7fbfbf; text-decoration-color: #7fbfbf\">                    </span><span style=\"color: #000080; text-decoration-color: #000080\">INFO    </span> <span style=\"font-weight: bold\">[</span>SentenceTransformer.py:<span style=\"color: #008080; text-decoration-color: #008080; font-weight: bold\">218</span><span style=\"font-weight: bold\">]</span> &gt;&gt; Load pretrained             <a href=\"file:///home/jeongho/git/SKN05-FINAL-1TEAM/jeongho/RAG_env/lib/python3.12/site-packages/sentence_transformers/SentenceTransformer.py\" target=\"_blank\"><span style=\"color: #7f7f7f; text-decoration-color: #7f7f7f\">SentenceTransformer.py</span></a><span style=\"color: #7f7f7f; text-decoration-color: #7f7f7f\">:</span><a href=\"file:///home/jeongho/git/SKN05-FINAL-1TEAM/jeongho/RAG_env/lib/python3.12/site-packages/sentence_transformers/SentenceTransformer.py#218\" target=\"_blank\"><span style=\"color: #7f7f7f; text-decoration-color: #7f7f7f\">218</span></a>\n",
       "<span style=\"color: #7fbfbf; text-decoration-color: #7fbfbf\">                    </span>         SentenceTransformer:                                        <span style=\"color: #7f7f7f; text-decoration-color: #7f7f7f\">                          </span>\n",
       "<span style=\"color: #7fbfbf; text-decoration-color: #7fbfbf\">                    </span>         <span style=\"color: #800080; text-decoration-color: #800080\">/home/jeongho/git/SKN05-FINAL-1TEAM/jeongho/fastAPI/domain/</span> <span style=\"color: #7f7f7f; text-decoration-color: #7f7f7f\">                          </span>\n",
       "<span style=\"color: #7fbfbf; text-decoration-color: #7fbfbf\">                    </span>         <span style=\"color: #800080; text-decoration-color: #800080\">chat/lang_graph_merge/yoeun/models/</span><span style=\"color: #ff00ff; text-decoration-color: #ff00ff\">ko-sbert-sts</span>             <span style=\"color: #7f7f7f; text-decoration-color: #7f7f7f\">                          </span>\n",
       "</pre>\n"
      ],
      "text/plain": [
       "\u001b[2;36m                   \u001b[0m\u001b[2;36m \u001b[0m\u001b[34mINFO    \u001b[0m \u001b[1m[\u001b[0mSentenceTransformer.py:\u001b[1;36m218\u001b[0m\u001b[1m]\u001b[0m >> Load pretrained             \u001b]8;id=893700;file:///home/jeongho/git/SKN05-FINAL-1TEAM/jeongho/RAG_env/lib/python3.12/site-packages/sentence_transformers/SentenceTransformer.py\u001b\\\u001b[2mSentenceTransformer.py\u001b[0m\u001b]8;;\u001b\\\u001b[2m:\u001b[0m\u001b]8;id=916884;file:///home/jeongho/git/SKN05-FINAL-1TEAM/jeongho/RAG_env/lib/python3.12/site-packages/sentence_transformers/SentenceTransformer.py#218\u001b\\\u001b[2m218\u001b[0m\u001b]8;;\u001b\\\n",
       "\u001b[2;36m                    \u001b[0m         SentenceTransformer:                                        \u001b[2m                          \u001b[0m\n",
       "\u001b[2;36m                    \u001b[0m         \u001b[35m/home/jeongho/git/SKN05-FINAL-1TEAM/jeongho/fastAPI/domain/\u001b[0m \u001b[2m                          \u001b[0m\n",
       "\u001b[2;36m                    \u001b[0m         \u001b[35mchat/lang_graph_merge/yoeun/models/\u001b[0m\u001b[95mko-sbert-sts\u001b[0m             \u001b[2m                          \u001b[0m\n"
      ]
     },
     "metadata": {},
     "output_type": "display_data"
    },
    {
     "data": {
      "application/vnd.jupyter.widget-view+json": {
       "model_id": "3c46e7deffa842deb26d96f26a37bc0c",
       "version_major": 2,
       "version_minor": 0
      },
      "text/plain": [
       "Batches:   0%|          | 0/1 [00:00<?, ?it/s]"
      ]
     },
     "metadata": {},
     "output_type": "display_data"
    },
    {
     "data": {
      "text/html": [
       "<pre style=\"white-space:pre;overflow-x:auto;line-height:normal;font-family:Menlo,'DejaVu Sans Mono',consolas,'Courier New',monospace\"><span style=\"color: #7fbfbf; text-decoration-color: #7fbfbf\">                    </span><span style=\"color: #000080; text-decoration-color: #000080\">INFO    </span> <span style=\"font-weight: bold\">[</span>SentenceTransformer.py:<span style=\"color: #008080; text-decoration-color: #008080; font-weight: bold\">210</span><span style=\"font-weight: bold\">]</span> &gt;&gt; Use pytorch device_name:    <a href=\"file:///home/jeongho/git/SKN05-FINAL-1TEAM/jeongho/RAG_env/lib/python3.12/site-packages/sentence_transformers/SentenceTransformer.py\" target=\"_blank\"><span style=\"color: #7f7f7f; text-decoration-color: #7f7f7f\">SentenceTransformer.py</span></a><span style=\"color: #7f7f7f; text-decoration-color: #7f7f7f\">:</span><a href=\"file:///home/jeongho/git/SKN05-FINAL-1TEAM/jeongho/RAG_env/lib/python3.12/site-packages/sentence_transformers/SentenceTransformer.py#210\" target=\"_blank\"><span style=\"color: #7f7f7f; text-decoration-color: #7f7f7f\">210</span></a>\n",
       "<span style=\"color: #7fbfbf; text-decoration-color: #7fbfbf\">                    </span>         cuda                                                        <span style=\"color: #7f7f7f; text-decoration-color: #7f7f7f\">                          </span>\n",
       "</pre>\n"
      ],
      "text/plain": [
       "\u001b[2;36m                   \u001b[0m\u001b[2;36m \u001b[0m\u001b[34mINFO    \u001b[0m \u001b[1m[\u001b[0mSentenceTransformer.py:\u001b[1;36m210\u001b[0m\u001b[1m]\u001b[0m >> Use pytorch device_name:    \u001b]8;id=692254;file:///home/jeongho/git/SKN05-FINAL-1TEAM/jeongho/RAG_env/lib/python3.12/site-packages/sentence_transformers/SentenceTransformer.py\u001b\\\u001b[2mSentenceTransformer.py\u001b[0m\u001b]8;;\u001b\\\u001b[2m:\u001b[0m\u001b]8;id=414958;file:///home/jeongho/git/SKN05-FINAL-1TEAM/jeongho/RAG_env/lib/python3.12/site-packages/sentence_transformers/SentenceTransformer.py#210\u001b\\\u001b[2m210\u001b[0m\u001b]8;;\u001b\\\n",
       "\u001b[2;36m                    \u001b[0m         cuda                                                        \u001b[2m                          \u001b[0m\n"
      ]
     },
     "metadata": {},
     "output_type": "display_data"
    },
    {
     "data": {
      "text/html": [
       "<pre style=\"white-space:pre;overflow-x:auto;line-height:normal;font-family:Menlo,'DejaVu Sans Mono',consolas,'Courier New',monospace\"><span style=\"color: #7fbfbf; text-decoration-color: #7fbfbf\">                    </span><span style=\"color: #000080; text-decoration-color: #000080\">INFO    </span> <span style=\"font-weight: bold\">[</span>SentenceTransformer.py:<span style=\"color: #008080; text-decoration-color: #008080; font-weight: bold\">218</span><span style=\"font-weight: bold\">]</span> &gt;&gt; Load pretrained             <a href=\"file:///home/jeongho/git/SKN05-FINAL-1TEAM/jeongho/RAG_env/lib/python3.12/site-packages/sentence_transformers/SentenceTransformer.py\" target=\"_blank\"><span style=\"color: #7f7f7f; text-decoration-color: #7f7f7f\">SentenceTransformer.py</span></a><span style=\"color: #7f7f7f; text-decoration-color: #7f7f7f\">:</span><a href=\"file:///home/jeongho/git/SKN05-FINAL-1TEAM/jeongho/RAG_env/lib/python3.12/site-packages/sentence_transformers/SentenceTransformer.py#218\" target=\"_blank\"><span style=\"color: #7f7f7f; text-decoration-color: #7f7f7f\">218</span></a>\n",
       "<span style=\"color: #7fbfbf; text-decoration-color: #7fbfbf\">                    </span>         SentenceTransformer:                                        <span style=\"color: #7f7f7f; text-decoration-color: #7f7f7f\">                          </span>\n",
       "<span style=\"color: #7fbfbf; text-decoration-color: #7fbfbf\">                    </span>         <span style=\"color: #800080; text-decoration-color: #800080\">/home/jeongho/git/SKN05-FINAL-1TEAM/jeongho/fastAPI/domain/</span> <span style=\"color: #7f7f7f; text-decoration-color: #7f7f7f\">                          </span>\n",
       "<span style=\"color: #7fbfbf; text-decoration-color: #7fbfbf\">                    </span>         <span style=\"color: #800080; text-decoration-color: #800080\">chat/lang_graph_merge/yoeun/models/</span><span style=\"color: #ff00ff; text-decoration-color: #ff00ff\">ko-sbert-sts</span>             <span style=\"color: #7f7f7f; text-decoration-color: #7f7f7f\">                          </span>\n",
       "</pre>\n"
      ],
      "text/plain": [
       "\u001b[2;36m                   \u001b[0m\u001b[2;36m \u001b[0m\u001b[34mINFO    \u001b[0m \u001b[1m[\u001b[0mSentenceTransformer.py:\u001b[1;36m218\u001b[0m\u001b[1m]\u001b[0m >> Load pretrained             \u001b]8;id=576830;file:///home/jeongho/git/SKN05-FINAL-1TEAM/jeongho/RAG_env/lib/python3.12/site-packages/sentence_transformers/SentenceTransformer.py\u001b\\\u001b[2mSentenceTransformer.py\u001b[0m\u001b]8;;\u001b\\\u001b[2m:\u001b[0m\u001b]8;id=9659;file:///home/jeongho/git/SKN05-FINAL-1TEAM/jeongho/RAG_env/lib/python3.12/site-packages/sentence_transformers/SentenceTransformer.py#218\u001b\\\u001b[2m218\u001b[0m\u001b]8;;\u001b\\\n",
       "\u001b[2;36m                    \u001b[0m         SentenceTransformer:                                        \u001b[2m                          \u001b[0m\n",
       "\u001b[2;36m                    \u001b[0m         \u001b[35m/home/jeongho/git/SKN05-FINAL-1TEAM/jeongho/fastAPI/domain/\u001b[0m \u001b[2m                          \u001b[0m\n",
       "\u001b[2;36m                    \u001b[0m         \u001b[35mchat/lang_graph_merge/yoeun/models/\u001b[0m\u001b[95mko-sbert-sts\u001b[0m             \u001b[2m                          \u001b[0m\n"
      ]
     },
     "metadata": {},
     "output_type": "display_data"
    },
    {
     "data": {
      "application/vnd.jupyter.widget-view+json": {
       "model_id": "e4c19f1d307341adb507a093d07110f3",
       "version_major": 2,
       "version_minor": 0
      },
      "text/plain": [
       "Batches:   0%|          | 0/1 [00:00<?, ?it/s]"
      ]
     },
     "metadata": {},
     "output_type": "display_data"
    },
    {
     "data": {
      "text/html": [
       "<pre style=\"white-space:pre;overflow-x:auto;line-height:normal;font-family:Menlo,'DejaVu Sans Mono',consolas,'Courier New',monospace\"><span style=\"color: #7fbfbf; text-decoration-color: #7fbfbf\">                    </span><span style=\"color: #000080; text-decoration-color: #000080\">INFO    </span> <span style=\"font-weight: bold\">[</span>SentenceTransformer.py:<span style=\"color: #008080; text-decoration-color: #008080; font-weight: bold\">210</span><span style=\"font-weight: bold\">]</span> &gt;&gt; Use pytorch device_name:    <a href=\"file:///home/jeongho/git/SKN05-FINAL-1TEAM/jeongho/RAG_env/lib/python3.12/site-packages/sentence_transformers/SentenceTransformer.py\" target=\"_blank\"><span style=\"color: #7f7f7f; text-decoration-color: #7f7f7f\">SentenceTransformer.py</span></a><span style=\"color: #7f7f7f; text-decoration-color: #7f7f7f\">:</span><a href=\"file:///home/jeongho/git/SKN05-FINAL-1TEAM/jeongho/RAG_env/lib/python3.12/site-packages/sentence_transformers/SentenceTransformer.py#210\" target=\"_blank\"><span style=\"color: #7f7f7f; text-decoration-color: #7f7f7f\">210</span></a>\n",
       "<span style=\"color: #7fbfbf; text-decoration-color: #7fbfbf\">                    </span>         cuda                                                        <span style=\"color: #7f7f7f; text-decoration-color: #7f7f7f\">                          </span>\n",
       "</pre>\n"
      ],
      "text/plain": [
       "\u001b[2;36m                   \u001b[0m\u001b[2;36m \u001b[0m\u001b[34mINFO    \u001b[0m \u001b[1m[\u001b[0mSentenceTransformer.py:\u001b[1;36m210\u001b[0m\u001b[1m]\u001b[0m >> Use pytorch device_name:    \u001b]8;id=720516;file:///home/jeongho/git/SKN05-FINAL-1TEAM/jeongho/RAG_env/lib/python3.12/site-packages/sentence_transformers/SentenceTransformer.py\u001b\\\u001b[2mSentenceTransformer.py\u001b[0m\u001b]8;;\u001b\\\u001b[2m:\u001b[0m\u001b]8;id=631446;file:///home/jeongho/git/SKN05-FINAL-1TEAM/jeongho/RAG_env/lib/python3.12/site-packages/sentence_transformers/SentenceTransformer.py#210\u001b\\\u001b[2m210\u001b[0m\u001b]8;;\u001b\\\n",
       "\u001b[2;36m                    \u001b[0m         cuda                                                        \u001b[2m                          \u001b[0m\n"
      ]
     },
     "metadata": {},
     "output_type": "display_data"
    },
    {
     "data": {
      "text/html": [
       "<pre style=\"white-space:pre;overflow-x:auto;line-height:normal;font-family:Menlo,'DejaVu Sans Mono',consolas,'Courier New',monospace\"><span style=\"color: #7fbfbf; text-decoration-color: #7fbfbf\">                    </span><span style=\"color: #000080; text-decoration-color: #000080\">INFO    </span> <span style=\"font-weight: bold\">[</span>SentenceTransformer.py:<span style=\"color: #008080; text-decoration-color: #008080; font-weight: bold\">218</span><span style=\"font-weight: bold\">]</span> &gt;&gt; Load pretrained             <a href=\"file:///home/jeongho/git/SKN05-FINAL-1TEAM/jeongho/RAG_env/lib/python3.12/site-packages/sentence_transformers/SentenceTransformer.py\" target=\"_blank\"><span style=\"color: #7f7f7f; text-decoration-color: #7f7f7f\">SentenceTransformer.py</span></a><span style=\"color: #7f7f7f; text-decoration-color: #7f7f7f\">:</span><a href=\"file:///home/jeongho/git/SKN05-FINAL-1TEAM/jeongho/RAG_env/lib/python3.12/site-packages/sentence_transformers/SentenceTransformer.py#218\" target=\"_blank\"><span style=\"color: #7f7f7f; text-decoration-color: #7f7f7f\">218</span></a>\n",
       "<span style=\"color: #7fbfbf; text-decoration-color: #7fbfbf\">                    </span>         SentenceTransformer:                                        <span style=\"color: #7f7f7f; text-decoration-color: #7f7f7f\">                          </span>\n",
       "<span style=\"color: #7fbfbf; text-decoration-color: #7fbfbf\">                    </span>         <span style=\"color: #800080; text-decoration-color: #800080\">/home/jeongho/git/SKN05-FINAL-1TEAM/jeongho/fastAPI/domain/</span> <span style=\"color: #7f7f7f; text-decoration-color: #7f7f7f\">                          </span>\n",
       "<span style=\"color: #7fbfbf; text-decoration-color: #7fbfbf\">                    </span>         <span style=\"color: #800080; text-decoration-color: #800080\">chat/lang_graph_merge/yoeun/models/</span><span style=\"color: #ff00ff; text-decoration-color: #ff00ff\">ko-sbert-sts</span>             <span style=\"color: #7f7f7f; text-decoration-color: #7f7f7f\">                          </span>\n",
       "</pre>\n"
      ],
      "text/plain": [
       "\u001b[2;36m                   \u001b[0m\u001b[2;36m \u001b[0m\u001b[34mINFO    \u001b[0m \u001b[1m[\u001b[0mSentenceTransformer.py:\u001b[1;36m218\u001b[0m\u001b[1m]\u001b[0m >> Load pretrained             \u001b]8;id=995324;file:///home/jeongho/git/SKN05-FINAL-1TEAM/jeongho/RAG_env/lib/python3.12/site-packages/sentence_transformers/SentenceTransformer.py\u001b\\\u001b[2mSentenceTransformer.py\u001b[0m\u001b]8;;\u001b\\\u001b[2m:\u001b[0m\u001b]8;id=395792;file:///home/jeongho/git/SKN05-FINAL-1TEAM/jeongho/RAG_env/lib/python3.12/site-packages/sentence_transformers/SentenceTransformer.py#218\u001b\\\u001b[2m218\u001b[0m\u001b]8;;\u001b\\\n",
       "\u001b[2;36m                    \u001b[0m         SentenceTransformer:                                        \u001b[2m                          \u001b[0m\n",
       "\u001b[2;36m                    \u001b[0m         \u001b[35m/home/jeongho/git/SKN05-FINAL-1TEAM/jeongho/fastAPI/domain/\u001b[0m \u001b[2m                          \u001b[0m\n",
       "\u001b[2;36m                    \u001b[0m         \u001b[35mchat/lang_graph_merge/yoeun/models/\u001b[0m\u001b[95mko-sbert-sts\u001b[0m             \u001b[2m                          \u001b[0m\n"
      ]
     },
     "metadata": {},
     "output_type": "display_data"
    },
    {
     "data": {
      "application/vnd.jupyter.widget-view+json": {
       "model_id": "6cf62f7c2a8d445f9e601944f990b5eb",
       "version_major": 2,
       "version_minor": 0
      },
      "text/plain": [
       "Batches:   0%|          | 0/1 [00:00<?, ?it/s]"
      ]
     },
     "metadata": {},
     "output_type": "display_data"
    },
    {
     "data": {
      "text/html": [
       "<pre style=\"white-space:pre;overflow-x:auto;line-height:normal;font-family:Menlo,'DejaVu Sans Mono',consolas,'Courier New',monospace\"><span style=\"color: #7fbfbf; text-decoration-color: #7fbfbf\">[02/09/25 04:03:06] </span><span style=\"color: #000080; text-decoration-color: #000080\">INFO    </span> <span style=\"font-weight: bold\">[</span>SentenceTransformer.py:<span style=\"color: #008080; text-decoration-color: #008080; font-weight: bold\">210</span><span style=\"font-weight: bold\">]</span> &gt;&gt; Use pytorch device_name:    <a href=\"file:///home/jeongho/git/SKN05-FINAL-1TEAM/jeongho/RAG_env/lib/python3.12/site-packages/sentence_transformers/SentenceTransformer.py\" target=\"_blank\"><span style=\"color: #7f7f7f; text-decoration-color: #7f7f7f\">SentenceTransformer.py</span></a><span style=\"color: #7f7f7f; text-decoration-color: #7f7f7f\">:</span><a href=\"file:///home/jeongho/git/SKN05-FINAL-1TEAM/jeongho/RAG_env/lib/python3.12/site-packages/sentence_transformers/SentenceTransformer.py#210\" target=\"_blank\"><span style=\"color: #7f7f7f; text-decoration-color: #7f7f7f\">210</span></a>\n",
       "<span style=\"color: #7fbfbf; text-decoration-color: #7fbfbf\">                    </span>         cuda                                                        <span style=\"color: #7f7f7f; text-decoration-color: #7f7f7f\">                          </span>\n",
       "</pre>\n"
      ],
      "text/plain": [
       "\u001b[2;36m[02/09/25 04:03:06]\u001b[0m\u001b[2;36m \u001b[0m\u001b[34mINFO    \u001b[0m \u001b[1m[\u001b[0mSentenceTransformer.py:\u001b[1;36m210\u001b[0m\u001b[1m]\u001b[0m >> Use pytorch device_name:    \u001b]8;id=653059;file:///home/jeongho/git/SKN05-FINAL-1TEAM/jeongho/RAG_env/lib/python3.12/site-packages/sentence_transformers/SentenceTransformer.py\u001b\\\u001b[2mSentenceTransformer.py\u001b[0m\u001b]8;;\u001b\\\u001b[2m:\u001b[0m\u001b]8;id=703825;file:///home/jeongho/git/SKN05-FINAL-1TEAM/jeongho/RAG_env/lib/python3.12/site-packages/sentence_transformers/SentenceTransformer.py#210\u001b\\\u001b[2m210\u001b[0m\u001b]8;;\u001b\\\n",
       "\u001b[2;36m                    \u001b[0m         cuda                                                        \u001b[2m                          \u001b[0m\n"
      ]
     },
     "metadata": {},
     "output_type": "display_data"
    },
    {
     "data": {
      "text/html": [
       "<pre style=\"white-space:pre;overflow-x:auto;line-height:normal;font-family:Menlo,'DejaVu Sans Mono',consolas,'Courier New',monospace\"><span style=\"color: #7fbfbf; text-decoration-color: #7fbfbf\">                    </span><span style=\"color: #000080; text-decoration-color: #000080\">INFO    </span> <span style=\"font-weight: bold\">[</span>SentenceTransformer.py:<span style=\"color: #008080; text-decoration-color: #008080; font-weight: bold\">218</span><span style=\"font-weight: bold\">]</span> &gt;&gt; Load pretrained             <a href=\"file:///home/jeongho/git/SKN05-FINAL-1TEAM/jeongho/RAG_env/lib/python3.12/site-packages/sentence_transformers/SentenceTransformer.py\" target=\"_blank\"><span style=\"color: #7f7f7f; text-decoration-color: #7f7f7f\">SentenceTransformer.py</span></a><span style=\"color: #7f7f7f; text-decoration-color: #7f7f7f\">:</span><a href=\"file:///home/jeongho/git/SKN05-FINAL-1TEAM/jeongho/RAG_env/lib/python3.12/site-packages/sentence_transformers/SentenceTransformer.py#218\" target=\"_blank\"><span style=\"color: #7f7f7f; text-decoration-color: #7f7f7f\">218</span></a>\n",
       "<span style=\"color: #7fbfbf; text-decoration-color: #7fbfbf\">                    </span>         SentenceTransformer:                                        <span style=\"color: #7f7f7f; text-decoration-color: #7f7f7f\">                          </span>\n",
       "<span style=\"color: #7fbfbf; text-decoration-color: #7fbfbf\">                    </span>         <span style=\"color: #800080; text-decoration-color: #800080\">/home/jeongho/git/SKN05-FINAL-1TEAM/jeongho/fastAPI/domain/</span> <span style=\"color: #7f7f7f; text-decoration-color: #7f7f7f\">                          </span>\n",
       "<span style=\"color: #7fbfbf; text-decoration-color: #7fbfbf\">                    </span>         <span style=\"color: #800080; text-decoration-color: #800080\">chat/lang_graph_merge/yoeun/models/</span><span style=\"color: #ff00ff; text-decoration-color: #ff00ff\">ko-sbert-sts</span>             <span style=\"color: #7f7f7f; text-decoration-color: #7f7f7f\">                          </span>\n",
       "</pre>\n"
      ],
      "text/plain": [
       "\u001b[2;36m                   \u001b[0m\u001b[2;36m \u001b[0m\u001b[34mINFO    \u001b[0m \u001b[1m[\u001b[0mSentenceTransformer.py:\u001b[1;36m218\u001b[0m\u001b[1m]\u001b[0m >> Load pretrained             \u001b]8;id=297129;file:///home/jeongho/git/SKN05-FINAL-1TEAM/jeongho/RAG_env/lib/python3.12/site-packages/sentence_transformers/SentenceTransformer.py\u001b\\\u001b[2mSentenceTransformer.py\u001b[0m\u001b]8;;\u001b\\\u001b[2m:\u001b[0m\u001b]8;id=675333;file:///home/jeongho/git/SKN05-FINAL-1TEAM/jeongho/RAG_env/lib/python3.12/site-packages/sentence_transformers/SentenceTransformer.py#218\u001b\\\u001b[2m218\u001b[0m\u001b]8;;\u001b\\\n",
       "\u001b[2;36m                    \u001b[0m         SentenceTransformer:                                        \u001b[2m                          \u001b[0m\n",
       "\u001b[2;36m                    \u001b[0m         \u001b[35m/home/jeongho/git/SKN05-FINAL-1TEAM/jeongho/fastAPI/domain/\u001b[0m \u001b[2m                          \u001b[0m\n",
       "\u001b[2;36m                    \u001b[0m         \u001b[35mchat/lang_graph_merge/yoeun/models/\u001b[0m\u001b[95mko-sbert-sts\u001b[0m             \u001b[2m                          \u001b[0m\n"
      ]
     },
     "metadata": {},
     "output_type": "display_data"
    },
    {
     "data": {
      "application/vnd.jupyter.widget-view+json": {
       "model_id": "085c3e24faa1456fb048b0def9883d4c",
       "version_major": 2,
       "version_minor": 0
      },
      "text/plain": [
       "Batches:   0%|          | 0/1 [00:00<?, ?it/s]"
      ]
     },
     "metadata": {},
     "output_type": "display_data"
    },
    {
     "data": {
      "text/html": [
       "<pre style=\"white-space:pre;overflow-x:auto;line-height:normal;font-family:Menlo,'DejaVu Sans Mono',consolas,'Courier New',monospace\"><span style=\"color: #7fbfbf; text-decoration-color: #7fbfbf\">                    </span><span style=\"color: #000080; text-decoration-color: #000080\">INFO    </span> <span style=\"font-weight: bold\">[</span>SentenceTransformer.py:<span style=\"color: #008080; text-decoration-color: #008080; font-weight: bold\">210</span><span style=\"font-weight: bold\">]</span> &gt;&gt; Use pytorch device_name:    <a href=\"file:///home/jeongho/git/SKN05-FINAL-1TEAM/jeongho/RAG_env/lib/python3.12/site-packages/sentence_transformers/SentenceTransformer.py\" target=\"_blank\"><span style=\"color: #7f7f7f; text-decoration-color: #7f7f7f\">SentenceTransformer.py</span></a><span style=\"color: #7f7f7f; text-decoration-color: #7f7f7f\">:</span><a href=\"file:///home/jeongho/git/SKN05-FINAL-1TEAM/jeongho/RAG_env/lib/python3.12/site-packages/sentence_transformers/SentenceTransformer.py#210\" target=\"_blank\"><span style=\"color: #7f7f7f; text-decoration-color: #7f7f7f\">210</span></a>\n",
       "<span style=\"color: #7fbfbf; text-decoration-color: #7fbfbf\">                    </span>         cuda                                                        <span style=\"color: #7f7f7f; text-decoration-color: #7f7f7f\">                          </span>\n",
       "</pre>\n"
      ],
      "text/plain": [
       "\u001b[2;36m                   \u001b[0m\u001b[2;36m \u001b[0m\u001b[34mINFO    \u001b[0m \u001b[1m[\u001b[0mSentenceTransformer.py:\u001b[1;36m210\u001b[0m\u001b[1m]\u001b[0m >> Use pytorch device_name:    \u001b]8;id=574311;file:///home/jeongho/git/SKN05-FINAL-1TEAM/jeongho/RAG_env/lib/python3.12/site-packages/sentence_transformers/SentenceTransformer.py\u001b\\\u001b[2mSentenceTransformer.py\u001b[0m\u001b]8;;\u001b\\\u001b[2m:\u001b[0m\u001b]8;id=363262;file:///home/jeongho/git/SKN05-FINAL-1TEAM/jeongho/RAG_env/lib/python3.12/site-packages/sentence_transformers/SentenceTransformer.py#210\u001b\\\u001b[2m210\u001b[0m\u001b]8;;\u001b\\\n",
       "\u001b[2;36m                    \u001b[0m         cuda                                                        \u001b[2m                          \u001b[0m\n"
      ]
     },
     "metadata": {},
     "output_type": "display_data"
    },
    {
     "data": {
      "text/html": [
       "<pre style=\"white-space:pre;overflow-x:auto;line-height:normal;font-family:Menlo,'DejaVu Sans Mono',consolas,'Courier New',monospace\"><span style=\"color: #7fbfbf; text-decoration-color: #7fbfbf\">                    </span><span style=\"color: #000080; text-decoration-color: #000080\">INFO    </span> <span style=\"font-weight: bold\">[</span>SentenceTransformer.py:<span style=\"color: #008080; text-decoration-color: #008080; font-weight: bold\">218</span><span style=\"font-weight: bold\">]</span> &gt;&gt; Load pretrained             <a href=\"file:///home/jeongho/git/SKN05-FINAL-1TEAM/jeongho/RAG_env/lib/python3.12/site-packages/sentence_transformers/SentenceTransformer.py\" target=\"_blank\"><span style=\"color: #7f7f7f; text-decoration-color: #7f7f7f\">SentenceTransformer.py</span></a><span style=\"color: #7f7f7f; text-decoration-color: #7f7f7f\">:</span><a href=\"file:///home/jeongho/git/SKN05-FINAL-1TEAM/jeongho/RAG_env/lib/python3.12/site-packages/sentence_transformers/SentenceTransformer.py#218\" target=\"_blank\"><span style=\"color: #7f7f7f; text-decoration-color: #7f7f7f\">218</span></a>\n",
       "<span style=\"color: #7fbfbf; text-decoration-color: #7fbfbf\">                    </span>         SentenceTransformer:                                        <span style=\"color: #7f7f7f; text-decoration-color: #7f7f7f\">                          </span>\n",
       "<span style=\"color: #7fbfbf; text-decoration-color: #7fbfbf\">                    </span>         <span style=\"color: #800080; text-decoration-color: #800080\">/home/jeongho/git/SKN05-FINAL-1TEAM/jeongho/fastAPI/domain/</span> <span style=\"color: #7f7f7f; text-decoration-color: #7f7f7f\">                          </span>\n",
       "<span style=\"color: #7fbfbf; text-decoration-color: #7fbfbf\">                    </span>         <span style=\"color: #800080; text-decoration-color: #800080\">chat/lang_graph_merge/yoeun/models/</span><span style=\"color: #ff00ff; text-decoration-color: #ff00ff\">ko-sbert-sts</span>             <span style=\"color: #7f7f7f; text-decoration-color: #7f7f7f\">                          </span>\n",
       "</pre>\n"
      ],
      "text/plain": [
       "\u001b[2;36m                   \u001b[0m\u001b[2;36m \u001b[0m\u001b[34mINFO    \u001b[0m \u001b[1m[\u001b[0mSentenceTransformer.py:\u001b[1;36m218\u001b[0m\u001b[1m]\u001b[0m >> Load pretrained             \u001b]8;id=569672;file:///home/jeongho/git/SKN05-FINAL-1TEAM/jeongho/RAG_env/lib/python3.12/site-packages/sentence_transformers/SentenceTransformer.py\u001b\\\u001b[2mSentenceTransformer.py\u001b[0m\u001b]8;;\u001b\\\u001b[2m:\u001b[0m\u001b]8;id=927986;file:///home/jeongho/git/SKN05-FINAL-1TEAM/jeongho/RAG_env/lib/python3.12/site-packages/sentence_transformers/SentenceTransformer.py#218\u001b\\\u001b[2m218\u001b[0m\u001b]8;;\u001b\\\n",
       "\u001b[2;36m                    \u001b[0m         SentenceTransformer:                                        \u001b[2m                          \u001b[0m\n",
       "\u001b[2;36m                    \u001b[0m         \u001b[35m/home/jeongho/git/SKN05-FINAL-1TEAM/jeongho/fastAPI/domain/\u001b[0m \u001b[2m                          \u001b[0m\n",
       "\u001b[2;36m                    \u001b[0m         \u001b[35mchat/lang_graph_merge/yoeun/models/\u001b[0m\u001b[95mko-sbert-sts\u001b[0m             \u001b[2m                          \u001b[0m\n"
      ]
     },
     "metadata": {},
     "output_type": "display_data"
    },
    {
     "data": {
      "application/vnd.jupyter.widget-view+json": {
       "model_id": "34faf266ec294afea6a4cd85f1b91210",
       "version_major": 2,
       "version_minor": 0
      },
      "text/plain": [
       "Batches:   0%|          | 0/1 [00:00<?, ?it/s]"
      ]
     },
     "metadata": {},
     "output_type": "display_data"
    },
    {
     "data": {
      "text/html": [
       "<pre style=\"white-space:pre;overflow-x:auto;line-height:normal;font-family:Menlo,'DejaVu Sans Mono',consolas,'Courier New',monospace\"><span style=\"color: #7fbfbf; text-decoration-color: #7fbfbf\">[02/09/25 04:03:07] </span><span style=\"color: #000080; text-decoration-color: #000080\">INFO    </span> <span style=\"font-weight: bold\">[</span>SentenceTransformer.py:<span style=\"color: #008080; text-decoration-color: #008080; font-weight: bold\">210</span><span style=\"font-weight: bold\">]</span> &gt;&gt; Use pytorch device_name:    <a href=\"file:///home/jeongho/git/SKN05-FINAL-1TEAM/jeongho/RAG_env/lib/python3.12/site-packages/sentence_transformers/SentenceTransformer.py\" target=\"_blank\"><span style=\"color: #7f7f7f; text-decoration-color: #7f7f7f\">SentenceTransformer.py</span></a><span style=\"color: #7f7f7f; text-decoration-color: #7f7f7f\">:</span><a href=\"file:///home/jeongho/git/SKN05-FINAL-1TEAM/jeongho/RAG_env/lib/python3.12/site-packages/sentence_transformers/SentenceTransformer.py#210\" target=\"_blank\"><span style=\"color: #7f7f7f; text-decoration-color: #7f7f7f\">210</span></a>\n",
       "<span style=\"color: #7fbfbf; text-decoration-color: #7fbfbf\">                    </span>         cuda                                                        <span style=\"color: #7f7f7f; text-decoration-color: #7f7f7f\">                          </span>\n",
       "</pre>\n"
      ],
      "text/plain": [
       "\u001b[2;36m[02/09/25 04:03:07]\u001b[0m\u001b[2;36m \u001b[0m\u001b[34mINFO    \u001b[0m \u001b[1m[\u001b[0mSentenceTransformer.py:\u001b[1;36m210\u001b[0m\u001b[1m]\u001b[0m >> Use pytorch device_name:    \u001b]8;id=368309;file:///home/jeongho/git/SKN05-FINAL-1TEAM/jeongho/RAG_env/lib/python3.12/site-packages/sentence_transformers/SentenceTransformer.py\u001b\\\u001b[2mSentenceTransformer.py\u001b[0m\u001b]8;;\u001b\\\u001b[2m:\u001b[0m\u001b]8;id=792298;file:///home/jeongho/git/SKN05-FINAL-1TEAM/jeongho/RAG_env/lib/python3.12/site-packages/sentence_transformers/SentenceTransformer.py#210\u001b\\\u001b[2m210\u001b[0m\u001b]8;;\u001b\\\n",
       "\u001b[2;36m                    \u001b[0m         cuda                                                        \u001b[2m                          \u001b[0m\n"
      ]
     },
     "metadata": {},
     "output_type": "display_data"
    },
    {
     "data": {
      "text/html": [
       "<pre style=\"white-space:pre;overflow-x:auto;line-height:normal;font-family:Menlo,'DejaVu Sans Mono',consolas,'Courier New',monospace\"><span style=\"color: #7fbfbf; text-decoration-color: #7fbfbf\">                    </span><span style=\"color: #000080; text-decoration-color: #000080\">INFO    </span> <span style=\"font-weight: bold\">[</span>SentenceTransformer.py:<span style=\"color: #008080; text-decoration-color: #008080; font-weight: bold\">218</span><span style=\"font-weight: bold\">]</span> &gt;&gt; Load pretrained             <a href=\"file:///home/jeongho/git/SKN05-FINAL-1TEAM/jeongho/RAG_env/lib/python3.12/site-packages/sentence_transformers/SentenceTransformer.py\" target=\"_blank\"><span style=\"color: #7f7f7f; text-decoration-color: #7f7f7f\">SentenceTransformer.py</span></a><span style=\"color: #7f7f7f; text-decoration-color: #7f7f7f\">:</span><a href=\"file:///home/jeongho/git/SKN05-FINAL-1TEAM/jeongho/RAG_env/lib/python3.12/site-packages/sentence_transformers/SentenceTransformer.py#218\" target=\"_blank\"><span style=\"color: #7f7f7f; text-decoration-color: #7f7f7f\">218</span></a>\n",
       "<span style=\"color: #7fbfbf; text-decoration-color: #7fbfbf\">                    </span>         SentenceTransformer:                                        <span style=\"color: #7f7f7f; text-decoration-color: #7f7f7f\">                          </span>\n",
       "<span style=\"color: #7fbfbf; text-decoration-color: #7fbfbf\">                    </span>         <span style=\"color: #800080; text-decoration-color: #800080\">/home/jeongho/git/SKN05-FINAL-1TEAM/jeongho/fastAPI/domain/</span> <span style=\"color: #7f7f7f; text-decoration-color: #7f7f7f\">                          </span>\n",
       "<span style=\"color: #7fbfbf; text-decoration-color: #7fbfbf\">                    </span>         <span style=\"color: #800080; text-decoration-color: #800080\">chat/lang_graph_merge/yoeun/models/</span><span style=\"color: #ff00ff; text-decoration-color: #ff00ff\">ko-sbert-sts</span>             <span style=\"color: #7f7f7f; text-decoration-color: #7f7f7f\">                          </span>\n",
       "</pre>\n"
      ],
      "text/plain": [
       "\u001b[2;36m                   \u001b[0m\u001b[2;36m \u001b[0m\u001b[34mINFO    \u001b[0m \u001b[1m[\u001b[0mSentenceTransformer.py:\u001b[1;36m218\u001b[0m\u001b[1m]\u001b[0m >> Load pretrained             \u001b]8;id=817851;file:///home/jeongho/git/SKN05-FINAL-1TEAM/jeongho/RAG_env/lib/python3.12/site-packages/sentence_transformers/SentenceTransformer.py\u001b\\\u001b[2mSentenceTransformer.py\u001b[0m\u001b]8;;\u001b\\\u001b[2m:\u001b[0m\u001b]8;id=540235;file:///home/jeongho/git/SKN05-FINAL-1TEAM/jeongho/RAG_env/lib/python3.12/site-packages/sentence_transformers/SentenceTransformer.py#218\u001b\\\u001b[2m218\u001b[0m\u001b]8;;\u001b\\\n",
       "\u001b[2;36m                    \u001b[0m         SentenceTransformer:                                        \u001b[2m                          \u001b[0m\n",
       "\u001b[2;36m                    \u001b[0m         \u001b[35m/home/jeongho/git/SKN05-FINAL-1TEAM/jeongho/fastAPI/domain/\u001b[0m \u001b[2m                          \u001b[0m\n",
       "\u001b[2;36m                    \u001b[0m         \u001b[35mchat/lang_graph_merge/yoeun/models/\u001b[0m\u001b[95mko-sbert-sts\u001b[0m             \u001b[2m                          \u001b[0m\n"
      ]
     },
     "metadata": {},
     "output_type": "display_data"
    },
    {
     "data": {
      "application/vnd.jupyter.widget-view+json": {
       "model_id": "1cdff7763362405fa951bdfa9359094b",
       "version_major": 2,
       "version_minor": 0
      },
      "text/plain": [
       "Batches:   0%|          | 0/1 [00:00<?, ?it/s]"
      ]
     },
     "metadata": {},
     "output_type": "display_data"
    },
    {
     "data": {
      "text/html": [
       "<pre style=\"white-space:pre;overflow-x:auto;line-height:normal;font-family:Menlo,'DejaVu Sans Mono',consolas,'Courier New',monospace\"><span style=\"color: #7fbfbf; text-decoration-color: #7fbfbf\">                    </span><span style=\"color: #000080; text-decoration-color: #000080\">INFO    </span> <span style=\"font-weight: bold\">[</span>SentenceTransformer.py:<span style=\"color: #008080; text-decoration-color: #008080; font-weight: bold\">210</span><span style=\"font-weight: bold\">]</span> &gt;&gt; Use pytorch device_name:    <a href=\"file:///home/jeongho/git/SKN05-FINAL-1TEAM/jeongho/RAG_env/lib/python3.12/site-packages/sentence_transformers/SentenceTransformer.py\" target=\"_blank\"><span style=\"color: #7f7f7f; text-decoration-color: #7f7f7f\">SentenceTransformer.py</span></a><span style=\"color: #7f7f7f; text-decoration-color: #7f7f7f\">:</span><a href=\"file:///home/jeongho/git/SKN05-FINAL-1TEAM/jeongho/RAG_env/lib/python3.12/site-packages/sentence_transformers/SentenceTransformer.py#210\" target=\"_blank\"><span style=\"color: #7f7f7f; text-decoration-color: #7f7f7f\">210</span></a>\n",
       "<span style=\"color: #7fbfbf; text-decoration-color: #7fbfbf\">                    </span>         cuda                                                        <span style=\"color: #7f7f7f; text-decoration-color: #7f7f7f\">                          </span>\n",
       "</pre>\n"
      ],
      "text/plain": [
       "\u001b[2;36m                   \u001b[0m\u001b[2;36m \u001b[0m\u001b[34mINFO    \u001b[0m \u001b[1m[\u001b[0mSentenceTransformer.py:\u001b[1;36m210\u001b[0m\u001b[1m]\u001b[0m >> Use pytorch device_name:    \u001b]8;id=800975;file:///home/jeongho/git/SKN05-FINAL-1TEAM/jeongho/RAG_env/lib/python3.12/site-packages/sentence_transformers/SentenceTransformer.py\u001b\\\u001b[2mSentenceTransformer.py\u001b[0m\u001b]8;;\u001b\\\u001b[2m:\u001b[0m\u001b]8;id=860306;file:///home/jeongho/git/SKN05-FINAL-1TEAM/jeongho/RAG_env/lib/python3.12/site-packages/sentence_transformers/SentenceTransformer.py#210\u001b\\\u001b[2m210\u001b[0m\u001b]8;;\u001b\\\n",
       "\u001b[2;36m                    \u001b[0m         cuda                                                        \u001b[2m                          \u001b[0m\n"
      ]
     },
     "metadata": {},
     "output_type": "display_data"
    },
    {
     "data": {
      "text/html": [
       "<pre style=\"white-space:pre;overflow-x:auto;line-height:normal;font-family:Menlo,'DejaVu Sans Mono',consolas,'Courier New',monospace\"><span style=\"color: #7fbfbf; text-decoration-color: #7fbfbf\">                    </span><span style=\"color: #000080; text-decoration-color: #000080\">INFO    </span> <span style=\"font-weight: bold\">[</span>SentenceTransformer.py:<span style=\"color: #008080; text-decoration-color: #008080; font-weight: bold\">218</span><span style=\"font-weight: bold\">]</span> &gt;&gt; Load pretrained             <a href=\"file:///home/jeongho/git/SKN05-FINAL-1TEAM/jeongho/RAG_env/lib/python3.12/site-packages/sentence_transformers/SentenceTransformer.py\" target=\"_blank\"><span style=\"color: #7f7f7f; text-decoration-color: #7f7f7f\">SentenceTransformer.py</span></a><span style=\"color: #7f7f7f; text-decoration-color: #7f7f7f\">:</span><a href=\"file:///home/jeongho/git/SKN05-FINAL-1TEAM/jeongho/RAG_env/lib/python3.12/site-packages/sentence_transformers/SentenceTransformer.py#218\" target=\"_blank\"><span style=\"color: #7f7f7f; text-decoration-color: #7f7f7f\">218</span></a>\n",
       "<span style=\"color: #7fbfbf; text-decoration-color: #7fbfbf\">                    </span>         SentenceTransformer:                                        <span style=\"color: #7f7f7f; text-decoration-color: #7f7f7f\">                          </span>\n",
       "<span style=\"color: #7fbfbf; text-decoration-color: #7fbfbf\">                    </span>         <span style=\"color: #800080; text-decoration-color: #800080\">/home/jeongho/git/SKN05-FINAL-1TEAM/jeongho/fastAPI/domain/</span> <span style=\"color: #7f7f7f; text-decoration-color: #7f7f7f\">                          </span>\n",
       "<span style=\"color: #7fbfbf; text-decoration-color: #7fbfbf\">                    </span>         <span style=\"color: #800080; text-decoration-color: #800080\">chat/lang_graph_merge/yoeun/models/</span><span style=\"color: #ff00ff; text-decoration-color: #ff00ff\">ko-sbert-sts</span>             <span style=\"color: #7f7f7f; text-decoration-color: #7f7f7f\">                          </span>\n",
       "</pre>\n"
      ],
      "text/plain": [
       "\u001b[2;36m                   \u001b[0m\u001b[2;36m \u001b[0m\u001b[34mINFO    \u001b[0m \u001b[1m[\u001b[0mSentenceTransformer.py:\u001b[1;36m218\u001b[0m\u001b[1m]\u001b[0m >> Load pretrained             \u001b]8;id=102125;file:///home/jeongho/git/SKN05-FINAL-1TEAM/jeongho/RAG_env/lib/python3.12/site-packages/sentence_transformers/SentenceTransformer.py\u001b\\\u001b[2mSentenceTransformer.py\u001b[0m\u001b]8;;\u001b\\\u001b[2m:\u001b[0m\u001b]8;id=140012;file:///home/jeongho/git/SKN05-FINAL-1TEAM/jeongho/RAG_env/lib/python3.12/site-packages/sentence_transformers/SentenceTransformer.py#218\u001b\\\u001b[2m218\u001b[0m\u001b]8;;\u001b\\\n",
       "\u001b[2;36m                    \u001b[0m         SentenceTransformer:                                        \u001b[2m                          \u001b[0m\n",
       "\u001b[2;36m                    \u001b[0m         \u001b[35m/home/jeongho/git/SKN05-FINAL-1TEAM/jeongho/fastAPI/domain/\u001b[0m \u001b[2m                          \u001b[0m\n",
       "\u001b[2;36m                    \u001b[0m         \u001b[35mchat/lang_graph_merge/yoeun/models/\u001b[0m\u001b[95mko-sbert-sts\u001b[0m             \u001b[2m                          \u001b[0m\n"
      ]
     },
     "metadata": {},
     "output_type": "display_data"
    },
    {
     "data": {
      "application/vnd.jupyter.widget-view+json": {
       "model_id": "1c8edb0715de42e4b76de44d1534f382",
       "version_major": 2,
       "version_minor": 0
      },
      "text/plain": [
       "Batches:   0%|          | 0/1 [00:00<?, ?it/s]"
      ]
     },
     "metadata": {},
     "output_type": "display_data"
    },
    {
     "data": {
      "text/html": [
       "<pre style=\"white-space:pre;overflow-x:auto;line-height:normal;font-family:Menlo,'DejaVu Sans Mono',consolas,'Courier New',monospace\"><span style=\"color: #7fbfbf; text-decoration-color: #7fbfbf\">[02/09/25 04:03:08] </span><span style=\"color: #000080; text-decoration-color: #000080\">INFO    </span> <span style=\"font-weight: bold\">[</span>SentenceTransformer.py:<span style=\"color: #008080; text-decoration-color: #008080; font-weight: bold\">210</span><span style=\"font-weight: bold\">]</span> &gt;&gt; Use pytorch device_name:    <a href=\"file:///home/jeongho/git/SKN05-FINAL-1TEAM/jeongho/RAG_env/lib/python3.12/site-packages/sentence_transformers/SentenceTransformer.py\" target=\"_blank\"><span style=\"color: #7f7f7f; text-decoration-color: #7f7f7f\">SentenceTransformer.py</span></a><span style=\"color: #7f7f7f; text-decoration-color: #7f7f7f\">:</span><a href=\"file:///home/jeongho/git/SKN05-FINAL-1TEAM/jeongho/RAG_env/lib/python3.12/site-packages/sentence_transformers/SentenceTransformer.py#210\" target=\"_blank\"><span style=\"color: #7f7f7f; text-decoration-color: #7f7f7f\">210</span></a>\n",
       "<span style=\"color: #7fbfbf; text-decoration-color: #7fbfbf\">                    </span>         cuda                                                        <span style=\"color: #7f7f7f; text-decoration-color: #7f7f7f\">                          </span>\n",
       "</pre>\n"
      ],
      "text/plain": [
       "\u001b[2;36m[02/09/25 04:03:08]\u001b[0m\u001b[2;36m \u001b[0m\u001b[34mINFO    \u001b[0m \u001b[1m[\u001b[0mSentenceTransformer.py:\u001b[1;36m210\u001b[0m\u001b[1m]\u001b[0m >> Use pytorch device_name:    \u001b]8;id=215272;file:///home/jeongho/git/SKN05-FINAL-1TEAM/jeongho/RAG_env/lib/python3.12/site-packages/sentence_transformers/SentenceTransformer.py\u001b\\\u001b[2mSentenceTransformer.py\u001b[0m\u001b]8;;\u001b\\\u001b[2m:\u001b[0m\u001b]8;id=739166;file:///home/jeongho/git/SKN05-FINAL-1TEAM/jeongho/RAG_env/lib/python3.12/site-packages/sentence_transformers/SentenceTransformer.py#210\u001b\\\u001b[2m210\u001b[0m\u001b]8;;\u001b\\\n",
       "\u001b[2;36m                    \u001b[0m         cuda                                                        \u001b[2m                          \u001b[0m\n"
      ]
     },
     "metadata": {},
     "output_type": "display_data"
    },
    {
     "data": {
      "text/html": [
       "<pre style=\"white-space:pre;overflow-x:auto;line-height:normal;font-family:Menlo,'DejaVu Sans Mono',consolas,'Courier New',monospace\"><span style=\"color: #7fbfbf; text-decoration-color: #7fbfbf\">                    </span><span style=\"color: #000080; text-decoration-color: #000080\">INFO    </span> <span style=\"font-weight: bold\">[</span>SentenceTransformer.py:<span style=\"color: #008080; text-decoration-color: #008080; font-weight: bold\">218</span><span style=\"font-weight: bold\">]</span> &gt;&gt; Load pretrained             <a href=\"file:///home/jeongho/git/SKN05-FINAL-1TEAM/jeongho/RAG_env/lib/python3.12/site-packages/sentence_transformers/SentenceTransformer.py\" target=\"_blank\"><span style=\"color: #7f7f7f; text-decoration-color: #7f7f7f\">SentenceTransformer.py</span></a><span style=\"color: #7f7f7f; text-decoration-color: #7f7f7f\">:</span><a href=\"file:///home/jeongho/git/SKN05-FINAL-1TEAM/jeongho/RAG_env/lib/python3.12/site-packages/sentence_transformers/SentenceTransformer.py#218\" target=\"_blank\"><span style=\"color: #7f7f7f; text-decoration-color: #7f7f7f\">218</span></a>\n",
       "<span style=\"color: #7fbfbf; text-decoration-color: #7fbfbf\">                    </span>         SentenceTransformer:                                        <span style=\"color: #7f7f7f; text-decoration-color: #7f7f7f\">                          </span>\n",
       "<span style=\"color: #7fbfbf; text-decoration-color: #7fbfbf\">                    </span>         <span style=\"color: #800080; text-decoration-color: #800080\">/home/jeongho/git/SKN05-FINAL-1TEAM/jeongho/fastAPI/domain/</span> <span style=\"color: #7f7f7f; text-decoration-color: #7f7f7f\">                          </span>\n",
       "<span style=\"color: #7fbfbf; text-decoration-color: #7fbfbf\">                    </span>         <span style=\"color: #800080; text-decoration-color: #800080\">chat/lang_graph_merge/yoeun/models/</span><span style=\"color: #ff00ff; text-decoration-color: #ff00ff\">ko-sbert-sts</span>             <span style=\"color: #7f7f7f; text-decoration-color: #7f7f7f\">                          </span>\n",
       "</pre>\n"
      ],
      "text/plain": [
       "\u001b[2;36m                   \u001b[0m\u001b[2;36m \u001b[0m\u001b[34mINFO    \u001b[0m \u001b[1m[\u001b[0mSentenceTransformer.py:\u001b[1;36m218\u001b[0m\u001b[1m]\u001b[0m >> Load pretrained             \u001b]8;id=565227;file:///home/jeongho/git/SKN05-FINAL-1TEAM/jeongho/RAG_env/lib/python3.12/site-packages/sentence_transformers/SentenceTransformer.py\u001b\\\u001b[2mSentenceTransformer.py\u001b[0m\u001b]8;;\u001b\\\u001b[2m:\u001b[0m\u001b]8;id=788383;file:///home/jeongho/git/SKN05-FINAL-1TEAM/jeongho/RAG_env/lib/python3.12/site-packages/sentence_transformers/SentenceTransformer.py#218\u001b\\\u001b[2m218\u001b[0m\u001b]8;;\u001b\\\n",
       "\u001b[2;36m                    \u001b[0m         SentenceTransformer:                                        \u001b[2m                          \u001b[0m\n",
       "\u001b[2;36m                    \u001b[0m         \u001b[35m/home/jeongho/git/SKN05-FINAL-1TEAM/jeongho/fastAPI/domain/\u001b[0m \u001b[2m                          \u001b[0m\n",
       "\u001b[2;36m                    \u001b[0m         \u001b[35mchat/lang_graph_merge/yoeun/models/\u001b[0m\u001b[95mko-sbert-sts\u001b[0m             \u001b[2m                          \u001b[0m\n"
      ]
     },
     "metadata": {},
     "output_type": "display_data"
    },
    {
     "data": {
      "application/vnd.jupyter.widget-view+json": {
       "model_id": "97a7bd9682424b06af337b0e521e0677",
       "version_major": 2,
       "version_minor": 0
      },
      "text/plain": [
       "Batches:   0%|          | 0/1 [00:00<?, ?it/s]"
      ]
     },
     "metadata": {},
     "output_type": "display_data"
    },
    {
     "data": {
      "text/html": [
       "<pre style=\"white-space:pre;overflow-x:auto;line-height:normal;font-family:Menlo,'DejaVu Sans Mono',consolas,'Courier New',monospace\"><span style=\"color: #7fbfbf; text-decoration-color: #7fbfbf\">                    </span><span style=\"color: #000080; text-decoration-color: #000080\">INFO    </span> <span style=\"font-weight: bold\">[</span>SentenceTransformer.py:<span style=\"color: #008080; text-decoration-color: #008080; font-weight: bold\">210</span><span style=\"font-weight: bold\">]</span> &gt;&gt; Use pytorch device_name:    <a href=\"file:///home/jeongho/git/SKN05-FINAL-1TEAM/jeongho/RAG_env/lib/python3.12/site-packages/sentence_transformers/SentenceTransformer.py\" target=\"_blank\"><span style=\"color: #7f7f7f; text-decoration-color: #7f7f7f\">SentenceTransformer.py</span></a><span style=\"color: #7f7f7f; text-decoration-color: #7f7f7f\">:</span><a href=\"file:///home/jeongho/git/SKN05-FINAL-1TEAM/jeongho/RAG_env/lib/python3.12/site-packages/sentence_transformers/SentenceTransformer.py#210\" target=\"_blank\"><span style=\"color: #7f7f7f; text-decoration-color: #7f7f7f\">210</span></a>\n",
       "<span style=\"color: #7fbfbf; text-decoration-color: #7fbfbf\">                    </span>         cuda                                                        <span style=\"color: #7f7f7f; text-decoration-color: #7f7f7f\">                          </span>\n",
       "</pre>\n"
      ],
      "text/plain": [
       "\u001b[2;36m                   \u001b[0m\u001b[2;36m \u001b[0m\u001b[34mINFO    \u001b[0m \u001b[1m[\u001b[0mSentenceTransformer.py:\u001b[1;36m210\u001b[0m\u001b[1m]\u001b[0m >> Use pytorch device_name:    \u001b]8;id=683238;file:///home/jeongho/git/SKN05-FINAL-1TEAM/jeongho/RAG_env/lib/python3.12/site-packages/sentence_transformers/SentenceTransformer.py\u001b\\\u001b[2mSentenceTransformer.py\u001b[0m\u001b]8;;\u001b\\\u001b[2m:\u001b[0m\u001b]8;id=382895;file:///home/jeongho/git/SKN05-FINAL-1TEAM/jeongho/RAG_env/lib/python3.12/site-packages/sentence_transformers/SentenceTransformer.py#210\u001b\\\u001b[2m210\u001b[0m\u001b]8;;\u001b\\\n",
       "\u001b[2;36m                    \u001b[0m         cuda                                                        \u001b[2m                          \u001b[0m\n"
      ]
     },
     "metadata": {},
     "output_type": "display_data"
    },
    {
     "data": {
      "text/html": [
       "<pre style=\"white-space:pre;overflow-x:auto;line-height:normal;font-family:Menlo,'DejaVu Sans Mono',consolas,'Courier New',monospace\"><span style=\"color: #7fbfbf; text-decoration-color: #7fbfbf\">                    </span><span style=\"color: #000080; text-decoration-color: #000080\">INFO    </span> <span style=\"font-weight: bold\">[</span>SentenceTransformer.py:<span style=\"color: #008080; text-decoration-color: #008080; font-weight: bold\">218</span><span style=\"font-weight: bold\">]</span> &gt;&gt; Load pretrained             <a href=\"file:///home/jeongho/git/SKN05-FINAL-1TEAM/jeongho/RAG_env/lib/python3.12/site-packages/sentence_transformers/SentenceTransformer.py\" target=\"_blank\"><span style=\"color: #7f7f7f; text-decoration-color: #7f7f7f\">SentenceTransformer.py</span></a><span style=\"color: #7f7f7f; text-decoration-color: #7f7f7f\">:</span><a href=\"file:///home/jeongho/git/SKN05-FINAL-1TEAM/jeongho/RAG_env/lib/python3.12/site-packages/sentence_transformers/SentenceTransformer.py#218\" target=\"_blank\"><span style=\"color: #7f7f7f; text-decoration-color: #7f7f7f\">218</span></a>\n",
       "<span style=\"color: #7fbfbf; text-decoration-color: #7fbfbf\">                    </span>         SentenceTransformer:                                        <span style=\"color: #7f7f7f; text-decoration-color: #7f7f7f\">                          </span>\n",
       "<span style=\"color: #7fbfbf; text-decoration-color: #7fbfbf\">                    </span>         <span style=\"color: #800080; text-decoration-color: #800080\">/home/jeongho/git/SKN05-FINAL-1TEAM/jeongho/fastAPI/domain/</span> <span style=\"color: #7f7f7f; text-decoration-color: #7f7f7f\">                          </span>\n",
       "<span style=\"color: #7fbfbf; text-decoration-color: #7fbfbf\">                    </span>         <span style=\"color: #800080; text-decoration-color: #800080\">chat/lang_graph_merge/yoeun/models/</span><span style=\"color: #ff00ff; text-decoration-color: #ff00ff\">ko-sbert-sts</span>             <span style=\"color: #7f7f7f; text-decoration-color: #7f7f7f\">                          </span>\n",
       "</pre>\n"
      ],
      "text/plain": [
       "\u001b[2;36m                   \u001b[0m\u001b[2;36m \u001b[0m\u001b[34mINFO    \u001b[0m \u001b[1m[\u001b[0mSentenceTransformer.py:\u001b[1;36m218\u001b[0m\u001b[1m]\u001b[0m >> Load pretrained             \u001b]8;id=697388;file:///home/jeongho/git/SKN05-FINAL-1TEAM/jeongho/RAG_env/lib/python3.12/site-packages/sentence_transformers/SentenceTransformer.py\u001b\\\u001b[2mSentenceTransformer.py\u001b[0m\u001b]8;;\u001b\\\u001b[2m:\u001b[0m\u001b]8;id=15137;file:///home/jeongho/git/SKN05-FINAL-1TEAM/jeongho/RAG_env/lib/python3.12/site-packages/sentence_transformers/SentenceTransformer.py#218\u001b\\\u001b[2m218\u001b[0m\u001b]8;;\u001b\\\n",
       "\u001b[2;36m                    \u001b[0m         SentenceTransformer:                                        \u001b[2m                          \u001b[0m\n",
       "\u001b[2;36m                    \u001b[0m         \u001b[35m/home/jeongho/git/SKN05-FINAL-1TEAM/jeongho/fastAPI/domain/\u001b[0m \u001b[2m                          \u001b[0m\n",
       "\u001b[2;36m                    \u001b[0m         \u001b[35mchat/lang_graph_merge/yoeun/models/\u001b[0m\u001b[95mko-sbert-sts\u001b[0m             \u001b[2m                          \u001b[0m\n"
      ]
     },
     "metadata": {},
     "output_type": "display_data"
    },
    {
     "data": {
      "application/vnd.jupyter.widget-view+json": {
       "model_id": "a42d971745be4229ae4a3b3dac513ba6",
       "version_major": 2,
       "version_minor": 0
      },
      "text/plain": [
       "Batches:   0%|          | 0/1 [00:00<?, ?it/s]"
      ]
     },
     "metadata": {},
     "output_type": "display_data"
    },
    {
     "data": {
      "text/html": [
       "<pre style=\"white-space:pre;overflow-x:auto;line-height:normal;font-family:Menlo,'DejaVu Sans Mono',consolas,'Courier New',monospace\"><span style=\"color: #7fbfbf; text-decoration-color: #7fbfbf\">[02/09/25 04:03:09] </span><span style=\"color: #000080; text-decoration-color: #000080\">INFO    </span> <span style=\"font-weight: bold\">[</span>SentenceTransformer.py:<span style=\"color: #008080; text-decoration-color: #008080; font-weight: bold\">210</span><span style=\"font-weight: bold\">]</span> &gt;&gt; Use pytorch device_name:    <a href=\"file:///home/jeongho/git/SKN05-FINAL-1TEAM/jeongho/RAG_env/lib/python3.12/site-packages/sentence_transformers/SentenceTransformer.py\" target=\"_blank\"><span style=\"color: #7f7f7f; text-decoration-color: #7f7f7f\">SentenceTransformer.py</span></a><span style=\"color: #7f7f7f; text-decoration-color: #7f7f7f\">:</span><a href=\"file:///home/jeongho/git/SKN05-FINAL-1TEAM/jeongho/RAG_env/lib/python3.12/site-packages/sentence_transformers/SentenceTransformer.py#210\" target=\"_blank\"><span style=\"color: #7f7f7f; text-decoration-color: #7f7f7f\">210</span></a>\n",
       "<span style=\"color: #7fbfbf; text-decoration-color: #7fbfbf\">                    </span>         cuda                                                        <span style=\"color: #7f7f7f; text-decoration-color: #7f7f7f\">                          </span>\n",
       "</pre>\n"
      ],
      "text/plain": [
       "\u001b[2;36m[02/09/25 04:03:09]\u001b[0m\u001b[2;36m \u001b[0m\u001b[34mINFO    \u001b[0m \u001b[1m[\u001b[0mSentenceTransformer.py:\u001b[1;36m210\u001b[0m\u001b[1m]\u001b[0m >> Use pytorch device_name:    \u001b]8;id=497421;file:///home/jeongho/git/SKN05-FINAL-1TEAM/jeongho/RAG_env/lib/python3.12/site-packages/sentence_transformers/SentenceTransformer.py\u001b\\\u001b[2mSentenceTransformer.py\u001b[0m\u001b]8;;\u001b\\\u001b[2m:\u001b[0m\u001b]8;id=256844;file:///home/jeongho/git/SKN05-FINAL-1TEAM/jeongho/RAG_env/lib/python3.12/site-packages/sentence_transformers/SentenceTransformer.py#210\u001b\\\u001b[2m210\u001b[0m\u001b]8;;\u001b\\\n",
       "\u001b[2;36m                    \u001b[0m         cuda                                                        \u001b[2m                          \u001b[0m\n"
      ]
     },
     "metadata": {},
     "output_type": "display_data"
    },
    {
     "data": {
      "text/html": [
       "<pre style=\"white-space:pre;overflow-x:auto;line-height:normal;font-family:Menlo,'DejaVu Sans Mono',consolas,'Courier New',monospace\"><span style=\"color: #7fbfbf; text-decoration-color: #7fbfbf\">                    </span><span style=\"color: #000080; text-decoration-color: #000080\">INFO    </span> <span style=\"font-weight: bold\">[</span>SentenceTransformer.py:<span style=\"color: #008080; text-decoration-color: #008080; font-weight: bold\">218</span><span style=\"font-weight: bold\">]</span> &gt;&gt; Load pretrained             <a href=\"file:///home/jeongho/git/SKN05-FINAL-1TEAM/jeongho/RAG_env/lib/python3.12/site-packages/sentence_transformers/SentenceTransformer.py\" target=\"_blank\"><span style=\"color: #7f7f7f; text-decoration-color: #7f7f7f\">SentenceTransformer.py</span></a><span style=\"color: #7f7f7f; text-decoration-color: #7f7f7f\">:</span><a href=\"file:///home/jeongho/git/SKN05-FINAL-1TEAM/jeongho/RAG_env/lib/python3.12/site-packages/sentence_transformers/SentenceTransformer.py#218\" target=\"_blank\"><span style=\"color: #7f7f7f; text-decoration-color: #7f7f7f\">218</span></a>\n",
       "<span style=\"color: #7fbfbf; text-decoration-color: #7fbfbf\">                    </span>         SentenceTransformer:                                        <span style=\"color: #7f7f7f; text-decoration-color: #7f7f7f\">                          </span>\n",
       "<span style=\"color: #7fbfbf; text-decoration-color: #7fbfbf\">                    </span>         <span style=\"color: #800080; text-decoration-color: #800080\">/home/jeongho/git/SKN05-FINAL-1TEAM/jeongho/fastAPI/domain/</span> <span style=\"color: #7f7f7f; text-decoration-color: #7f7f7f\">                          </span>\n",
       "<span style=\"color: #7fbfbf; text-decoration-color: #7fbfbf\">                    </span>         <span style=\"color: #800080; text-decoration-color: #800080\">chat/lang_graph_merge/yoeun/models/</span><span style=\"color: #ff00ff; text-decoration-color: #ff00ff\">ko-sbert-sts</span>             <span style=\"color: #7f7f7f; text-decoration-color: #7f7f7f\">                          </span>\n",
       "</pre>\n"
      ],
      "text/plain": [
       "\u001b[2;36m                   \u001b[0m\u001b[2;36m \u001b[0m\u001b[34mINFO    \u001b[0m \u001b[1m[\u001b[0mSentenceTransformer.py:\u001b[1;36m218\u001b[0m\u001b[1m]\u001b[0m >> Load pretrained             \u001b]8;id=427861;file:///home/jeongho/git/SKN05-FINAL-1TEAM/jeongho/RAG_env/lib/python3.12/site-packages/sentence_transformers/SentenceTransformer.py\u001b\\\u001b[2mSentenceTransformer.py\u001b[0m\u001b]8;;\u001b\\\u001b[2m:\u001b[0m\u001b]8;id=3240;file:///home/jeongho/git/SKN05-FINAL-1TEAM/jeongho/RAG_env/lib/python3.12/site-packages/sentence_transformers/SentenceTransformer.py#218\u001b\\\u001b[2m218\u001b[0m\u001b]8;;\u001b\\\n",
       "\u001b[2;36m                    \u001b[0m         SentenceTransformer:                                        \u001b[2m                          \u001b[0m\n",
       "\u001b[2;36m                    \u001b[0m         \u001b[35m/home/jeongho/git/SKN05-FINAL-1TEAM/jeongho/fastAPI/domain/\u001b[0m \u001b[2m                          \u001b[0m\n",
       "\u001b[2;36m                    \u001b[0m         \u001b[35mchat/lang_graph_merge/yoeun/models/\u001b[0m\u001b[95mko-sbert-sts\u001b[0m             \u001b[2m                          \u001b[0m\n"
      ]
     },
     "metadata": {},
     "output_type": "display_data"
    },
    {
     "data": {
      "application/vnd.jupyter.widget-view+json": {
       "model_id": "81c25268f92b4c7c98b298f7e0b012ff",
       "version_major": 2,
       "version_minor": 0
      },
      "text/plain": [
       "Batches:   0%|          | 0/1 [00:00<?, ?it/s]"
      ]
     },
     "metadata": {},
     "output_type": "display_data"
    },
    {
     "data": {
      "text/html": [
       "<pre style=\"white-space:pre;overflow-x:auto;line-height:normal;font-family:Menlo,'DejaVu Sans Mono',consolas,'Courier New',monospace\"><span style=\"color: #7fbfbf; text-decoration-color: #7fbfbf\">                    </span><span style=\"color: #000080; text-decoration-color: #000080\">INFO    </span> <span style=\"font-weight: bold\">[</span>SentenceTransformer.py:<span style=\"color: #008080; text-decoration-color: #008080; font-weight: bold\">210</span><span style=\"font-weight: bold\">]</span> &gt;&gt; Use pytorch device_name:    <a href=\"file:///home/jeongho/git/SKN05-FINAL-1TEAM/jeongho/RAG_env/lib/python3.12/site-packages/sentence_transformers/SentenceTransformer.py\" target=\"_blank\"><span style=\"color: #7f7f7f; text-decoration-color: #7f7f7f\">SentenceTransformer.py</span></a><span style=\"color: #7f7f7f; text-decoration-color: #7f7f7f\">:</span><a href=\"file:///home/jeongho/git/SKN05-FINAL-1TEAM/jeongho/RAG_env/lib/python3.12/site-packages/sentence_transformers/SentenceTransformer.py#210\" target=\"_blank\"><span style=\"color: #7f7f7f; text-decoration-color: #7f7f7f\">210</span></a>\n",
       "<span style=\"color: #7fbfbf; text-decoration-color: #7fbfbf\">                    </span>         cuda                                                        <span style=\"color: #7f7f7f; text-decoration-color: #7f7f7f\">                          </span>\n",
       "</pre>\n"
      ],
      "text/plain": [
       "\u001b[2;36m                   \u001b[0m\u001b[2;36m \u001b[0m\u001b[34mINFO    \u001b[0m \u001b[1m[\u001b[0mSentenceTransformer.py:\u001b[1;36m210\u001b[0m\u001b[1m]\u001b[0m >> Use pytorch device_name:    \u001b]8;id=723834;file:///home/jeongho/git/SKN05-FINAL-1TEAM/jeongho/RAG_env/lib/python3.12/site-packages/sentence_transformers/SentenceTransformer.py\u001b\\\u001b[2mSentenceTransformer.py\u001b[0m\u001b]8;;\u001b\\\u001b[2m:\u001b[0m\u001b]8;id=600937;file:///home/jeongho/git/SKN05-FINAL-1TEAM/jeongho/RAG_env/lib/python3.12/site-packages/sentence_transformers/SentenceTransformer.py#210\u001b\\\u001b[2m210\u001b[0m\u001b]8;;\u001b\\\n",
       "\u001b[2;36m                    \u001b[0m         cuda                                                        \u001b[2m                          \u001b[0m\n"
      ]
     },
     "metadata": {},
     "output_type": "display_data"
    },
    {
     "data": {
      "text/html": [
       "<pre style=\"white-space:pre;overflow-x:auto;line-height:normal;font-family:Menlo,'DejaVu Sans Mono',consolas,'Courier New',monospace\"><span style=\"color: #7fbfbf; text-decoration-color: #7fbfbf\">                    </span><span style=\"color: #000080; text-decoration-color: #000080\">INFO    </span> <span style=\"font-weight: bold\">[</span>SentenceTransformer.py:<span style=\"color: #008080; text-decoration-color: #008080; font-weight: bold\">218</span><span style=\"font-weight: bold\">]</span> &gt;&gt; Load pretrained             <a href=\"file:///home/jeongho/git/SKN05-FINAL-1TEAM/jeongho/RAG_env/lib/python3.12/site-packages/sentence_transformers/SentenceTransformer.py\" target=\"_blank\"><span style=\"color: #7f7f7f; text-decoration-color: #7f7f7f\">SentenceTransformer.py</span></a><span style=\"color: #7f7f7f; text-decoration-color: #7f7f7f\">:</span><a href=\"file:///home/jeongho/git/SKN05-FINAL-1TEAM/jeongho/RAG_env/lib/python3.12/site-packages/sentence_transformers/SentenceTransformer.py#218\" target=\"_blank\"><span style=\"color: #7f7f7f; text-decoration-color: #7f7f7f\">218</span></a>\n",
       "<span style=\"color: #7fbfbf; text-decoration-color: #7fbfbf\">                    </span>         SentenceTransformer:                                        <span style=\"color: #7f7f7f; text-decoration-color: #7f7f7f\">                          </span>\n",
       "<span style=\"color: #7fbfbf; text-decoration-color: #7fbfbf\">                    </span>         <span style=\"color: #800080; text-decoration-color: #800080\">/home/jeongho/git/SKN05-FINAL-1TEAM/jeongho/fastAPI/domain/</span> <span style=\"color: #7f7f7f; text-decoration-color: #7f7f7f\">                          </span>\n",
       "<span style=\"color: #7fbfbf; text-decoration-color: #7fbfbf\">                    </span>         <span style=\"color: #800080; text-decoration-color: #800080\">chat/lang_graph_merge/yoeun/models/</span><span style=\"color: #ff00ff; text-decoration-color: #ff00ff\">ko-sbert-sts</span>             <span style=\"color: #7f7f7f; text-decoration-color: #7f7f7f\">                          </span>\n",
       "</pre>\n"
      ],
      "text/plain": [
       "\u001b[2;36m                   \u001b[0m\u001b[2;36m \u001b[0m\u001b[34mINFO    \u001b[0m \u001b[1m[\u001b[0mSentenceTransformer.py:\u001b[1;36m218\u001b[0m\u001b[1m]\u001b[0m >> Load pretrained             \u001b]8;id=730240;file:///home/jeongho/git/SKN05-FINAL-1TEAM/jeongho/RAG_env/lib/python3.12/site-packages/sentence_transformers/SentenceTransformer.py\u001b\\\u001b[2mSentenceTransformer.py\u001b[0m\u001b]8;;\u001b\\\u001b[2m:\u001b[0m\u001b]8;id=519370;file:///home/jeongho/git/SKN05-FINAL-1TEAM/jeongho/RAG_env/lib/python3.12/site-packages/sentence_transformers/SentenceTransformer.py#218\u001b\\\u001b[2m218\u001b[0m\u001b]8;;\u001b\\\n",
       "\u001b[2;36m                    \u001b[0m         SentenceTransformer:                                        \u001b[2m                          \u001b[0m\n",
       "\u001b[2;36m                    \u001b[0m         \u001b[35m/home/jeongho/git/SKN05-FINAL-1TEAM/jeongho/fastAPI/domain/\u001b[0m \u001b[2m                          \u001b[0m\n",
       "\u001b[2;36m                    \u001b[0m         \u001b[35mchat/lang_graph_merge/yoeun/models/\u001b[0m\u001b[95mko-sbert-sts\u001b[0m             \u001b[2m                          \u001b[0m\n"
      ]
     },
     "metadata": {},
     "output_type": "display_data"
    },
    {
     "data": {
      "application/vnd.jupyter.widget-view+json": {
       "model_id": "f83c376dc5d744e7bea59f43b55880aa",
       "version_major": 2,
       "version_minor": 0
      },
      "text/plain": [
       "Batches:   0%|          | 0/1 [00:00<?, ?it/s]"
      ]
     },
     "metadata": {},
     "output_type": "display_data"
    },
    {
     "data": {
      "text/html": [
       "<pre style=\"white-space:pre;overflow-x:auto;line-height:normal;font-family:Menlo,'DejaVu Sans Mono',consolas,'Courier New',monospace\"><span style=\"color: #7fbfbf; text-decoration-color: #7fbfbf\">                    </span><span style=\"color: #000080; text-decoration-color: #000080\">INFO    </span> <span style=\"font-weight: bold\">[</span>SentenceTransformer.py:<span style=\"color: #008080; text-decoration-color: #008080; font-weight: bold\">210</span><span style=\"font-weight: bold\">]</span> &gt;&gt; Use pytorch device_name:    <a href=\"file:///home/jeongho/git/SKN05-FINAL-1TEAM/jeongho/RAG_env/lib/python3.12/site-packages/sentence_transformers/SentenceTransformer.py\" target=\"_blank\"><span style=\"color: #7f7f7f; text-decoration-color: #7f7f7f\">SentenceTransformer.py</span></a><span style=\"color: #7f7f7f; text-decoration-color: #7f7f7f\">:</span><a href=\"file:///home/jeongho/git/SKN05-FINAL-1TEAM/jeongho/RAG_env/lib/python3.12/site-packages/sentence_transformers/SentenceTransformer.py#210\" target=\"_blank\"><span style=\"color: #7f7f7f; text-decoration-color: #7f7f7f\">210</span></a>\n",
       "<span style=\"color: #7fbfbf; text-decoration-color: #7fbfbf\">                    </span>         cuda                                                        <span style=\"color: #7f7f7f; text-decoration-color: #7f7f7f\">                          </span>\n",
       "</pre>\n"
      ],
      "text/plain": [
       "\u001b[2;36m                   \u001b[0m\u001b[2;36m \u001b[0m\u001b[34mINFO    \u001b[0m \u001b[1m[\u001b[0mSentenceTransformer.py:\u001b[1;36m210\u001b[0m\u001b[1m]\u001b[0m >> Use pytorch device_name:    \u001b]8;id=645798;file:///home/jeongho/git/SKN05-FINAL-1TEAM/jeongho/RAG_env/lib/python3.12/site-packages/sentence_transformers/SentenceTransformer.py\u001b\\\u001b[2mSentenceTransformer.py\u001b[0m\u001b]8;;\u001b\\\u001b[2m:\u001b[0m\u001b]8;id=97875;file:///home/jeongho/git/SKN05-FINAL-1TEAM/jeongho/RAG_env/lib/python3.12/site-packages/sentence_transformers/SentenceTransformer.py#210\u001b\\\u001b[2m210\u001b[0m\u001b]8;;\u001b\\\n",
       "\u001b[2;36m                    \u001b[0m         cuda                                                        \u001b[2m                          \u001b[0m\n"
      ]
     },
     "metadata": {},
     "output_type": "display_data"
    },
    {
     "data": {
      "text/html": [
       "<pre style=\"white-space:pre;overflow-x:auto;line-height:normal;font-family:Menlo,'DejaVu Sans Mono',consolas,'Courier New',monospace\"><span style=\"color: #7fbfbf; text-decoration-color: #7fbfbf\">                    </span><span style=\"color: #000080; text-decoration-color: #000080\">INFO    </span> <span style=\"font-weight: bold\">[</span>SentenceTransformer.py:<span style=\"color: #008080; text-decoration-color: #008080; font-weight: bold\">218</span><span style=\"font-weight: bold\">]</span> &gt;&gt; Load pretrained             <a href=\"file:///home/jeongho/git/SKN05-FINAL-1TEAM/jeongho/RAG_env/lib/python3.12/site-packages/sentence_transformers/SentenceTransformer.py\" target=\"_blank\"><span style=\"color: #7f7f7f; text-decoration-color: #7f7f7f\">SentenceTransformer.py</span></a><span style=\"color: #7f7f7f; text-decoration-color: #7f7f7f\">:</span><a href=\"file:///home/jeongho/git/SKN05-FINAL-1TEAM/jeongho/RAG_env/lib/python3.12/site-packages/sentence_transformers/SentenceTransformer.py#218\" target=\"_blank\"><span style=\"color: #7f7f7f; text-decoration-color: #7f7f7f\">218</span></a>\n",
       "<span style=\"color: #7fbfbf; text-decoration-color: #7fbfbf\">                    </span>         SentenceTransformer:                                        <span style=\"color: #7f7f7f; text-decoration-color: #7f7f7f\">                          </span>\n",
       "<span style=\"color: #7fbfbf; text-decoration-color: #7fbfbf\">                    </span>         <span style=\"color: #800080; text-decoration-color: #800080\">/home/jeongho/git/SKN05-FINAL-1TEAM/jeongho/fastAPI/domain/</span> <span style=\"color: #7f7f7f; text-decoration-color: #7f7f7f\">                          </span>\n",
       "<span style=\"color: #7fbfbf; text-decoration-color: #7fbfbf\">                    </span>         <span style=\"color: #800080; text-decoration-color: #800080\">chat/lang_graph_merge/yoeun/models/</span><span style=\"color: #ff00ff; text-decoration-color: #ff00ff\">ko-sbert-sts</span>             <span style=\"color: #7f7f7f; text-decoration-color: #7f7f7f\">                          </span>\n",
       "</pre>\n"
      ],
      "text/plain": [
       "\u001b[2;36m                   \u001b[0m\u001b[2;36m \u001b[0m\u001b[34mINFO    \u001b[0m \u001b[1m[\u001b[0mSentenceTransformer.py:\u001b[1;36m218\u001b[0m\u001b[1m]\u001b[0m >> Load pretrained             \u001b]8;id=750633;file:///home/jeongho/git/SKN05-FINAL-1TEAM/jeongho/RAG_env/lib/python3.12/site-packages/sentence_transformers/SentenceTransformer.py\u001b\\\u001b[2mSentenceTransformer.py\u001b[0m\u001b]8;;\u001b\\\u001b[2m:\u001b[0m\u001b]8;id=989317;file:///home/jeongho/git/SKN05-FINAL-1TEAM/jeongho/RAG_env/lib/python3.12/site-packages/sentence_transformers/SentenceTransformer.py#218\u001b\\\u001b[2m218\u001b[0m\u001b]8;;\u001b\\\n",
       "\u001b[2;36m                    \u001b[0m         SentenceTransformer:                                        \u001b[2m                          \u001b[0m\n",
       "\u001b[2;36m                    \u001b[0m         \u001b[35m/home/jeongho/git/SKN05-FINAL-1TEAM/jeongho/fastAPI/domain/\u001b[0m \u001b[2m                          \u001b[0m\n",
       "\u001b[2;36m                    \u001b[0m         \u001b[35mchat/lang_graph_merge/yoeun/models/\u001b[0m\u001b[95mko-sbert-sts\u001b[0m             \u001b[2m                          \u001b[0m\n"
      ]
     },
     "metadata": {},
     "output_type": "display_data"
    },
    {
     "data": {
      "application/vnd.jupyter.widget-view+json": {
       "model_id": "6e1ff274ebe24d27938cf9ea50b4200e",
       "version_major": 2,
       "version_minor": 0
      },
      "text/plain": [
       "Batches:   0%|          | 0/1 [00:00<?, ?it/s]"
      ]
     },
     "metadata": {},
     "output_type": "display_data"
    },
    {
     "data": {
      "text/html": [
       "<pre style=\"white-space:pre;overflow-x:auto;line-height:normal;font-family:Menlo,'DejaVu Sans Mono',consolas,'Courier New',monospace\"><span style=\"color: #7fbfbf; text-decoration-color: #7fbfbf\">[02/09/25 04:03:10] </span><span style=\"color: #000080; text-decoration-color: #000080\">INFO    </span> <span style=\"font-weight: bold\">[</span>SentenceTransformer.py:<span style=\"color: #008080; text-decoration-color: #008080; font-weight: bold\">210</span><span style=\"font-weight: bold\">]</span> &gt;&gt; Use pytorch device_name:    <a href=\"file:///home/jeongho/git/SKN05-FINAL-1TEAM/jeongho/RAG_env/lib/python3.12/site-packages/sentence_transformers/SentenceTransformer.py\" target=\"_blank\"><span style=\"color: #7f7f7f; text-decoration-color: #7f7f7f\">SentenceTransformer.py</span></a><span style=\"color: #7f7f7f; text-decoration-color: #7f7f7f\">:</span><a href=\"file:///home/jeongho/git/SKN05-FINAL-1TEAM/jeongho/RAG_env/lib/python3.12/site-packages/sentence_transformers/SentenceTransformer.py#210\" target=\"_blank\"><span style=\"color: #7f7f7f; text-decoration-color: #7f7f7f\">210</span></a>\n",
       "<span style=\"color: #7fbfbf; text-decoration-color: #7fbfbf\">                    </span>         cuda                                                        <span style=\"color: #7f7f7f; text-decoration-color: #7f7f7f\">                          </span>\n",
       "</pre>\n"
      ],
      "text/plain": [
       "\u001b[2;36m[02/09/25 04:03:10]\u001b[0m\u001b[2;36m \u001b[0m\u001b[34mINFO    \u001b[0m \u001b[1m[\u001b[0mSentenceTransformer.py:\u001b[1;36m210\u001b[0m\u001b[1m]\u001b[0m >> Use pytorch device_name:    \u001b]8;id=212965;file:///home/jeongho/git/SKN05-FINAL-1TEAM/jeongho/RAG_env/lib/python3.12/site-packages/sentence_transformers/SentenceTransformer.py\u001b\\\u001b[2mSentenceTransformer.py\u001b[0m\u001b]8;;\u001b\\\u001b[2m:\u001b[0m\u001b]8;id=750539;file:///home/jeongho/git/SKN05-FINAL-1TEAM/jeongho/RAG_env/lib/python3.12/site-packages/sentence_transformers/SentenceTransformer.py#210\u001b\\\u001b[2m210\u001b[0m\u001b]8;;\u001b\\\n",
       "\u001b[2;36m                    \u001b[0m         cuda                                                        \u001b[2m                          \u001b[0m\n"
      ]
     },
     "metadata": {},
     "output_type": "display_data"
    },
    {
     "data": {
      "text/html": [
       "<pre style=\"white-space:pre;overflow-x:auto;line-height:normal;font-family:Menlo,'DejaVu Sans Mono',consolas,'Courier New',monospace\"><span style=\"color: #7fbfbf; text-decoration-color: #7fbfbf\">                    </span><span style=\"color: #000080; text-decoration-color: #000080\">INFO    </span> <span style=\"font-weight: bold\">[</span>SentenceTransformer.py:<span style=\"color: #008080; text-decoration-color: #008080; font-weight: bold\">218</span><span style=\"font-weight: bold\">]</span> &gt;&gt; Load pretrained             <a href=\"file:///home/jeongho/git/SKN05-FINAL-1TEAM/jeongho/RAG_env/lib/python3.12/site-packages/sentence_transformers/SentenceTransformer.py\" target=\"_blank\"><span style=\"color: #7f7f7f; text-decoration-color: #7f7f7f\">SentenceTransformer.py</span></a><span style=\"color: #7f7f7f; text-decoration-color: #7f7f7f\">:</span><a href=\"file:///home/jeongho/git/SKN05-FINAL-1TEAM/jeongho/RAG_env/lib/python3.12/site-packages/sentence_transformers/SentenceTransformer.py#218\" target=\"_blank\"><span style=\"color: #7f7f7f; text-decoration-color: #7f7f7f\">218</span></a>\n",
       "<span style=\"color: #7fbfbf; text-decoration-color: #7fbfbf\">                    </span>         SentenceTransformer:                                        <span style=\"color: #7f7f7f; text-decoration-color: #7f7f7f\">                          </span>\n",
       "<span style=\"color: #7fbfbf; text-decoration-color: #7fbfbf\">                    </span>         <span style=\"color: #800080; text-decoration-color: #800080\">/home/jeongho/git/SKN05-FINAL-1TEAM/jeongho/fastAPI/domain/</span> <span style=\"color: #7f7f7f; text-decoration-color: #7f7f7f\">                          </span>\n",
       "<span style=\"color: #7fbfbf; text-decoration-color: #7fbfbf\">                    </span>         <span style=\"color: #800080; text-decoration-color: #800080\">chat/lang_graph_merge/yoeun/models/</span><span style=\"color: #ff00ff; text-decoration-color: #ff00ff\">ko-sbert-sts</span>             <span style=\"color: #7f7f7f; text-decoration-color: #7f7f7f\">                          </span>\n",
       "</pre>\n"
      ],
      "text/plain": [
       "\u001b[2;36m                   \u001b[0m\u001b[2;36m \u001b[0m\u001b[34mINFO    \u001b[0m \u001b[1m[\u001b[0mSentenceTransformer.py:\u001b[1;36m218\u001b[0m\u001b[1m]\u001b[0m >> Load pretrained             \u001b]8;id=821389;file:///home/jeongho/git/SKN05-FINAL-1TEAM/jeongho/RAG_env/lib/python3.12/site-packages/sentence_transformers/SentenceTransformer.py\u001b\\\u001b[2mSentenceTransformer.py\u001b[0m\u001b]8;;\u001b\\\u001b[2m:\u001b[0m\u001b]8;id=267794;file:///home/jeongho/git/SKN05-FINAL-1TEAM/jeongho/RAG_env/lib/python3.12/site-packages/sentence_transformers/SentenceTransformer.py#218\u001b\\\u001b[2m218\u001b[0m\u001b]8;;\u001b\\\n",
       "\u001b[2;36m                    \u001b[0m         SentenceTransformer:                                        \u001b[2m                          \u001b[0m\n",
       "\u001b[2;36m                    \u001b[0m         \u001b[35m/home/jeongho/git/SKN05-FINAL-1TEAM/jeongho/fastAPI/domain/\u001b[0m \u001b[2m                          \u001b[0m\n",
       "\u001b[2;36m                    \u001b[0m         \u001b[35mchat/lang_graph_merge/yoeun/models/\u001b[0m\u001b[95mko-sbert-sts\u001b[0m             \u001b[2m                          \u001b[0m\n"
      ]
     },
     "metadata": {},
     "output_type": "display_data"
    },
    {
     "data": {
      "application/vnd.jupyter.widget-view+json": {
       "model_id": "75dc6b68ac7c461fb685ca7c0296a80e",
       "version_major": 2,
       "version_minor": 0
      },
      "text/plain": [
       "Batches:   0%|          | 0/1 [00:00<?, ?it/s]"
      ]
     },
     "metadata": {},
     "output_type": "display_data"
    },
    {
     "data": {
      "text/html": [
       "<pre style=\"white-space:pre;overflow-x:auto;line-height:normal;font-family:Menlo,'DejaVu Sans Mono',consolas,'Courier New',monospace\"><span style=\"color: #7fbfbf; text-decoration-color: #7fbfbf\">                    </span><span style=\"color: #000080; text-decoration-color: #000080\">INFO    </span> <span style=\"font-weight: bold\">[</span>SentenceTransformer.py:<span style=\"color: #008080; text-decoration-color: #008080; font-weight: bold\">210</span><span style=\"font-weight: bold\">]</span> &gt;&gt; Use pytorch device_name:    <a href=\"file:///home/jeongho/git/SKN05-FINAL-1TEAM/jeongho/RAG_env/lib/python3.12/site-packages/sentence_transformers/SentenceTransformer.py\" target=\"_blank\"><span style=\"color: #7f7f7f; text-decoration-color: #7f7f7f\">SentenceTransformer.py</span></a><span style=\"color: #7f7f7f; text-decoration-color: #7f7f7f\">:</span><a href=\"file:///home/jeongho/git/SKN05-FINAL-1TEAM/jeongho/RAG_env/lib/python3.12/site-packages/sentence_transformers/SentenceTransformer.py#210\" target=\"_blank\"><span style=\"color: #7f7f7f; text-decoration-color: #7f7f7f\">210</span></a>\n",
       "<span style=\"color: #7fbfbf; text-decoration-color: #7fbfbf\">                    </span>         cuda                                                        <span style=\"color: #7f7f7f; text-decoration-color: #7f7f7f\">                          </span>\n",
       "</pre>\n"
      ],
      "text/plain": [
       "\u001b[2;36m                   \u001b[0m\u001b[2;36m \u001b[0m\u001b[34mINFO    \u001b[0m \u001b[1m[\u001b[0mSentenceTransformer.py:\u001b[1;36m210\u001b[0m\u001b[1m]\u001b[0m >> Use pytorch device_name:    \u001b]8;id=237821;file:///home/jeongho/git/SKN05-FINAL-1TEAM/jeongho/RAG_env/lib/python3.12/site-packages/sentence_transformers/SentenceTransformer.py\u001b\\\u001b[2mSentenceTransformer.py\u001b[0m\u001b]8;;\u001b\\\u001b[2m:\u001b[0m\u001b]8;id=652718;file:///home/jeongho/git/SKN05-FINAL-1TEAM/jeongho/RAG_env/lib/python3.12/site-packages/sentence_transformers/SentenceTransformer.py#210\u001b\\\u001b[2m210\u001b[0m\u001b]8;;\u001b\\\n",
       "\u001b[2;36m                    \u001b[0m         cuda                                                        \u001b[2m                          \u001b[0m\n"
      ]
     },
     "metadata": {},
     "output_type": "display_data"
    },
    {
     "data": {
      "text/html": [
       "<pre style=\"white-space:pre;overflow-x:auto;line-height:normal;font-family:Menlo,'DejaVu Sans Mono',consolas,'Courier New',monospace\"><span style=\"color: #7fbfbf; text-decoration-color: #7fbfbf\">                    </span><span style=\"color: #000080; text-decoration-color: #000080\">INFO    </span> <span style=\"font-weight: bold\">[</span>SentenceTransformer.py:<span style=\"color: #008080; text-decoration-color: #008080; font-weight: bold\">218</span><span style=\"font-weight: bold\">]</span> &gt;&gt; Load pretrained             <a href=\"file:///home/jeongho/git/SKN05-FINAL-1TEAM/jeongho/RAG_env/lib/python3.12/site-packages/sentence_transformers/SentenceTransformer.py\" target=\"_blank\"><span style=\"color: #7f7f7f; text-decoration-color: #7f7f7f\">SentenceTransformer.py</span></a><span style=\"color: #7f7f7f; text-decoration-color: #7f7f7f\">:</span><a href=\"file:///home/jeongho/git/SKN05-FINAL-1TEAM/jeongho/RAG_env/lib/python3.12/site-packages/sentence_transformers/SentenceTransformer.py#218\" target=\"_blank\"><span style=\"color: #7f7f7f; text-decoration-color: #7f7f7f\">218</span></a>\n",
       "<span style=\"color: #7fbfbf; text-decoration-color: #7fbfbf\">                    </span>         SentenceTransformer:                                        <span style=\"color: #7f7f7f; text-decoration-color: #7f7f7f\">                          </span>\n",
       "<span style=\"color: #7fbfbf; text-decoration-color: #7fbfbf\">                    </span>         <span style=\"color: #800080; text-decoration-color: #800080\">/home/jeongho/git/SKN05-FINAL-1TEAM/jeongho/fastAPI/domain/</span> <span style=\"color: #7f7f7f; text-decoration-color: #7f7f7f\">                          </span>\n",
       "<span style=\"color: #7fbfbf; text-decoration-color: #7fbfbf\">                    </span>         <span style=\"color: #800080; text-decoration-color: #800080\">chat/lang_graph_merge/yoeun/models/</span><span style=\"color: #ff00ff; text-decoration-color: #ff00ff\">ko-sbert-sts</span>             <span style=\"color: #7f7f7f; text-decoration-color: #7f7f7f\">                          </span>\n",
       "</pre>\n"
      ],
      "text/plain": [
       "\u001b[2;36m                   \u001b[0m\u001b[2;36m \u001b[0m\u001b[34mINFO    \u001b[0m \u001b[1m[\u001b[0mSentenceTransformer.py:\u001b[1;36m218\u001b[0m\u001b[1m]\u001b[0m >> Load pretrained             \u001b]8;id=216748;file:///home/jeongho/git/SKN05-FINAL-1TEAM/jeongho/RAG_env/lib/python3.12/site-packages/sentence_transformers/SentenceTransformer.py\u001b\\\u001b[2mSentenceTransformer.py\u001b[0m\u001b]8;;\u001b\\\u001b[2m:\u001b[0m\u001b]8;id=496708;file:///home/jeongho/git/SKN05-FINAL-1TEAM/jeongho/RAG_env/lib/python3.12/site-packages/sentence_transformers/SentenceTransformer.py#218\u001b\\\u001b[2m218\u001b[0m\u001b]8;;\u001b\\\n",
       "\u001b[2;36m                    \u001b[0m         SentenceTransformer:                                        \u001b[2m                          \u001b[0m\n",
       "\u001b[2;36m                    \u001b[0m         \u001b[35m/home/jeongho/git/SKN05-FINAL-1TEAM/jeongho/fastAPI/domain/\u001b[0m \u001b[2m                          \u001b[0m\n",
       "\u001b[2;36m                    \u001b[0m         \u001b[35mchat/lang_graph_merge/yoeun/models/\u001b[0m\u001b[95mko-sbert-sts\u001b[0m             \u001b[2m                          \u001b[0m\n"
      ]
     },
     "metadata": {},
     "output_type": "display_data"
    },
    {
     "data": {
      "application/vnd.jupyter.widget-view+json": {
       "model_id": "ed55851ed161431d80b14951fcf53f0b",
       "version_major": 2,
       "version_minor": 0
      },
      "text/plain": [
       "Batches:   0%|          | 0/1 [00:00<?, ?it/s]"
      ]
     },
     "metadata": {},
     "output_type": "display_data"
    },
    {
     "data": {
      "text/html": [
       "<pre style=\"white-space:pre;overflow-x:auto;line-height:normal;font-family:Menlo,'DejaVu Sans Mono',consolas,'Courier New',monospace\"><span style=\"color: #7fbfbf; text-decoration-color: #7fbfbf\">[02/09/25 04:03:11] </span><span style=\"color: #000080; text-decoration-color: #000080\">INFO    </span> <span style=\"font-weight: bold\">[</span>SentenceTransformer.py:<span style=\"color: #008080; text-decoration-color: #008080; font-weight: bold\">210</span><span style=\"font-weight: bold\">]</span> &gt;&gt; Use pytorch device_name:    <a href=\"file:///home/jeongho/git/SKN05-FINAL-1TEAM/jeongho/RAG_env/lib/python3.12/site-packages/sentence_transformers/SentenceTransformer.py\" target=\"_blank\"><span style=\"color: #7f7f7f; text-decoration-color: #7f7f7f\">SentenceTransformer.py</span></a><span style=\"color: #7f7f7f; text-decoration-color: #7f7f7f\">:</span><a href=\"file:///home/jeongho/git/SKN05-FINAL-1TEAM/jeongho/RAG_env/lib/python3.12/site-packages/sentence_transformers/SentenceTransformer.py#210\" target=\"_blank\"><span style=\"color: #7f7f7f; text-decoration-color: #7f7f7f\">210</span></a>\n",
       "<span style=\"color: #7fbfbf; text-decoration-color: #7fbfbf\">                    </span>         cuda                                                        <span style=\"color: #7f7f7f; text-decoration-color: #7f7f7f\">                          </span>\n",
       "</pre>\n"
      ],
      "text/plain": [
       "\u001b[2;36m[02/09/25 04:03:11]\u001b[0m\u001b[2;36m \u001b[0m\u001b[34mINFO    \u001b[0m \u001b[1m[\u001b[0mSentenceTransformer.py:\u001b[1;36m210\u001b[0m\u001b[1m]\u001b[0m >> Use pytorch device_name:    \u001b]8;id=394259;file:///home/jeongho/git/SKN05-FINAL-1TEAM/jeongho/RAG_env/lib/python3.12/site-packages/sentence_transformers/SentenceTransformer.py\u001b\\\u001b[2mSentenceTransformer.py\u001b[0m\u001b]8;;\u001b\\\u001b[2m:\u001b[0m\u001b]8;id=657775;file:///home/jeongho/git/SKN05-FINAL-1TEAM/jeongho/RAG_env/lib/python3.12/site-packages/sentence_transformers/SentenceTransformer.py#210\u001b\\\u001b[2m210\u001b[0m\u001b]8;;\u001b\\\n",
       "\u001b[2;36m                    \u001b[0m         cuda                                                        \u001b[2m                          \u001b[0m\n"
      ]
     },
     "metadata": {},
     "output_type": "display_data"
    },
    {
     "data": {
      "text/html": [
       "<pre style=\"white-space:pre;overflow-x:auto;line-height:normal;font-family:Menlo,'DejaVu Sans Mono',consolas,'Courier New',monospace\"><span style=\"color: #7fbfbf; text-decoration-color: #7fbfbf\">                    </span><span style=\"color: #000080; text-decoration-color: #000080\">INFO    </span> <span style=\"font-weight: bold\">[</span>SentenceTransformer.py:<span style=\"color: #008080; text-decoration-color: #008080; font-weight: bold\">218</span><span style=\"font-weight: bold\">]</span> &gt;&gt; Load pretrained             <a href=\"file:///home/jeongho/git/SKN05-FINAL-1TEAM/jeongho/RAG_env/lib/python3.12/site-packages/sentence_transformers/SentenceTransformer.py\" target=\"_blank\"><span style=\"color: #7f7f7f; text-decoration-color: #7f7f7f\">SentenceTransformer.py</span></a><span style=\"color: #7f7f7f; text-decoration-color: #7f7f7f\">:</span><a href=\"file:///home/jeongho/git/SKN05-FINAL-1TEAM/jeongho/RAG_env/lib/python3.12/site-packages/sentence_transformers/SentenceTransformer.py#218\" target=\"_blank\"><span style=\"color: #7f7f7f; text-decoration-color: #7f7f7f\">218</span></a>\n",
       "<span style=\"color: #7fbfbf; text-decoration-color: #7fbfbf\">                    </span>         SentenceTransformer:                                        <span style=\"color: #7f7f7f; text-decoration-color: #7f7f7f\">                          </span>\n",
       "<span style=\"color: #7fbfbf; text-decoration-color: #7fbfbf\">                    </span>         <span style=\"color: #800080; text-decoration-color: #800080\">/home/jeongho/git/SKN05-FINAL-1TEAM/jeongho/fastAPI/domain/</span> <span style=\"color: #7f7f7f; text-decoration-color: #7f7f7f\">                          </span>\n",
       "<span style=\"color: #7fbfbf; text-decoration-color: #7fbfbf\">                    </span>         <span style=\"color: #800080; text-decoration-color: #800080\">chat/lang_graph_merge/yoeun/models/</span><span style=\"color: #ff00ff; text-decoration-color: #ff00ff\">ko-sbert-sts</span>             <span style=\"color: #7f7f7f; text-decoration-color: #7f7f7f\">                          </span>\n",
       "</pre>\n"
      ],
      "text/plain": [
       "\u001b[2;36m                   \u001b[0m\u001b[2;36m \u001b[0m\u001b[34mINFO    \u001b[0m \u001b[1m[\u001b[0mSentenceTransformer.py:\u001b[1;36m218\u001b[0m\u001b[1m]\u001b[0m >> Load pretrained             \u001b]8;id=770003;file:///home/jeongho/git/SKN05-FINAL-1TEAM/jeongho/RAG_env/lib/python3.12/site-packages/sentence_transformers/SentenceTransformer.py\u001b\\\u001b[2mSentenceTransformer.py\u001b[0m\u001b]8;;\u001b\\\u001b[2m:\u001b[0m\u001b]8;id=916428;file:///home/jeongho/git/SKN05-FINAL-1TEAM/jeongho/RAG_env/lib/python3.12/site-packages/sentence_transformers/SentenceTransformer.py#218\u001b\\\u001b[2m218\u001b[0m\u001b]8;;\u001b\\\n",
       "\u001b[2;36m                    \u001b[0m         SentenceTransformer:                                        \u001b[2m                          \u001b[0m\n",
       "\u001b[2;36m                    \u001b[0m         \u001b[35m/home/jeongho/git/SKN05-FINAL-1TEAM/jeongho/fastAPI/domain/\u001b[0m \u001b[2m                          \u001b[0m\n",
       "\u001b[2;36m                    \u001b[0m         \u001b[35mchat/lang_graph_merge/yoeun/models/\u001b[0m\u001b[95mko-sbert-sts\u001b[0m             \u001b[2m                          \u001b[0m\n"
      ]
     },
     "metadata": {},
     "output_type": "display_data"
    },
    {
     "data": {
      "application/vnd.jupyter.widget-view+json": {
       "model_id": "5cb08156932c468488e550f1cc334b86",
       "version_major": 2,
       "version_minor": 0
      },
      "text/plain": [
       "Batches:   0%|          | 0/1 [00:00<?, ?it/s]"
      ]
     },
     "metadata": {},
     "output_type": "display_data"
    },
    {
     "data": {
      "text/html": [
       "<pre style=\"white-space:pre;overflow-x:auto;line-height:normal;font-family:Menlo,'DejaVu Sans Mono',consolas,'Courier New',monospace\"><span style=\"color: #7fbfbf; text-decoration-color: #7fbfbf\">                    </span><span style=\"color: #000080; text-decoration-color: #000080\">INFO    </span> <span style=\"font-weight: bold\">[</span>SentenceTransformer.py:<span style=\"color: #008080; text-decoration-color: #008080; font-weight: bold\">210</span><span style=\"font-weight: bold\">]</span> &gt;&gt; Use pytorch device_name:    <a href=\"file:///home/jeongho/git/SKN05-FINAL-1TEAM/jeongho/RAG_env/lib/python3.12/site-packages/sentence_transformers/SentenceTransformer.py\" target=\"_blank\"><span style=\"color: #7f7f7f; text-decoration-color: #7f7f7f\">SentenceTransformer.py</span></a><span style=\"color: #7f7f7f; text-decoration-color: #7f7f7f\">:</span><a href=\"file:///home/jeongho/git/SKN05-FINAL-1TEAM/jeongho/RAG_env/lib/python3.12/site-packages/sentence_transformers/SentenceTransformer.py#210\" target=\"_blank\"><span style=\"color: #7f7f7f; text-decoration-color: #7f7f7f\">210</span></a>\n",
       "<span style=\"color: #7fbfbf; text-decoration-color: #7fbfbf\">                    </span>         cuda                                                        <span style=\"color: #7f7f7f; text-decoration-color: #7f7f7f\">                          </span>\n",
       "</pre>\n"
      ],
      "text/plain": [
       "\u001b[2;36m                   \u001b[0m\u001b[2;36m \u001b[0m\u001b[34mINFO    \u001b[0m \u001b[1m[\u001b[0mSentenceTransformer.py:\u001b[1;36m210\u001b[0m\u001b[1m]\u001b[0m >> Use pytorch device_name:    \u001b]8;id=867463;file:///home/jeongho/git/SKN05-FINAL-1TEAM/jeongho/RAG_env/lib/python3.12/site-packages/sentence_transformers/SentenceTransformer.py\u001b\\\u001b[2mSentenceTransformer.py\u001b[0m\u001b]8;;\u001b\\\u001b[2m:\u001b[0m\u001b]8;id=721273;file:///home/jeongho/git/SKN05-FINAL-1TEAM/jeongho/RAG_env/lib/python3.12/site-packages/sentence_transformers/SentenceTransformer.py#210\u001b\\\u001b[2m210\u001b[0m\u001b]8;;\u001b\\\n",
       "\u001b[2;36m                    \u001b[0m         cuda                                                        \u001b[2m                          \u001b[0m\n"
      ]
     },
     "metadata": {},
     "output_type": "display_data"
    },
    {
     "data": {
      "text/html": [
       "<pre style=\"white-space:pre;overflow-x:auto;line-height:normal;font-family:Menlo,'DejaVu Sans Mono',consolas,'Courier New',monospace\"><span style=\"color: #7fbfbf; text-decoration-color: #7fbfbf\">                    </span><span style=\"color: #000080; text-decoration-color: #000080\">INFO    </span> <span style=\"font-weight: bold\">[</span>SentenceTransformer.py:<span style=\"color: #008080; text-decoration-color: #008080; font-weight: bold\">218</span><span style=\"font-weight: bold\">]</span> &gt;&gt; Load pretrained             <a href=\"file:///home/jeongho/git/SKN05-FINAL-1TEAM/jeongho/RAG_env/lib/python3.12/site-packages/sentence_transformers/SentenceTransformer.py\" target=\"_blank\"><span style=\"color: #7f7f7f; text-decoration-color: #7f7f7f\">SentenceTransformer.py</span></a><span style=\"color: #7f7f7f; text-decoration-color: #7f7f7f\">:</span><a href=\"file:///home/jeongho/git/SKN05-FINAL-1TEAM/jeongho/RAG_env/lib/python3.12/site-packages/sentence_transformers/SentenceTransformer.py#218\" target=\"_blank\"><span style=\"color: #7f7f7f; text-decoration-color: #7f7f7f\">218</span></a>\n",
       "<span style=\"color: #7fbfbf; text-decoration-color: #7fbfbf\">                    </span>         SentenceTransformer:                                        <span style=\"color: #7f7f7f; text-decoration-color: #7f7f7f\">                          </span>\n",
       "<span style=\"color: #7fbfbf; text-decoration-color: #7fbfbf\">                    </span>         <span style=\"color: #800080; text-decoration-color: #800080\">/home/jeongho/git/SKN05-FINAL-1TEAM/jeongho/fastAPI/domain/</span> <span style=\"color: #7f7f7f; text-decoration-color: #7f7f7f\">                          </span>\n",
       "<span style=\"color: #7fbfbf; text-decoration-color: #7fbfbf\">                    </span>         <span style=\"color: #800080; text-decoration-color: #800080\">chat/lang_graph_merge/yoeun/models/</span><span style=\"color: #ff00ff; text-decoration-color: #ff00ff\">ko-sbert-sts</span>             <span style=\"color: #7f7f7f; text-decoration-color: #7f7f7f\">                          </span>\n",
       "</pre>\n"
      ],
      "text/plain": [
       "\u001b[2;36m                   \u001b[0m\u001b[2;36m \u001b[0m\u001b[34mINFO    \u001b[0m \u001b[1m[\u001b[0mSentenceTransformer.py:\u001b[1;36m218\u001b[0m\u001b[1m]\u001b[0m >> Load pretrained             \u001b]8;id=463889;file:///home/jeongho/git/SKN05-FINAL-1TEAM/jeongho/RAG_env/lib/python3.12/site-packages/sentence_transformers/SentenceTransformer.py\u001b\\\u001b[2mSentenceTransformer.py\u001b[0m\u001b]8;;\u001b\\\u001b[2m:\u001b[0m\u001b]8;id=450405;file:///home/jeongho/git/SKN05-FINAL-1TEAM/jeongho/RAG_env/lib/python3.12/site-packages/sentence_transformers/SentenceTransformer.py#218\u001b\\\u001b[2m218\u001b[0m\u001b]8;;\u001b\\\n",
       "\u001b[2;36m                    \u001b[0m         SentenceTransformer:                                        \u001b[2m                          \u001b[0m\n",
       "\u001b[2;36m                    \u001b[0m         \u001b[35m/home/jeongho/git/SKN05-FINAL-1TEAM/jeongho/fastAPI/domain/\u001b[0m \u001b[2m                          \u001b[0m\n",
       "\u001b[2;36m                    \u001b[0m         \u001b[35mchat/lang_graph_merge/yoeun/models/\u001b[0m\u001b[95mko-sbert-sts\u001b[0m             \u001b[2m                          \u001b[0m\n"
      ]
     },
     "metadata": {},
     "output_type": "display_data"
    },
    {
     "data": {
      "application/vnd.jupyter.widget-view+json": {
       "model_id": "867251399144467b9c38e0548cd96965",
       "version_major": 2,
       "version_minor": 0
      },
      "text/plain": [
       "Batches:   0%|          | 0/1 [00:00<?, ?it/s]"
      ]
     },
     "metadata": {},
     "output_type": "display_data"
    },
    {
     "data": {
      "text/html": [
       "<pre style=\"white-space:pre;overflow-x:auto;line-height:normal;font-family:Menlo,'DejaVu Sans Mono',consolas,'Courier New',monospace\"><span style=\"color: #7fbfbf; text-decoration-color: #7fbfbf\">[02/09/25 04:03:12] </span><span style=\"color: #000080; text-decoration-color: #000080\">INFO    </span> <span style=\"font-weight: bold\">[</span>SentenceTransformer.py:<span style=\"color: #008080; text-decoration-color: #008080; font-weight: bold\">210</span><span style=\"font-weight: bold\">]</span> &gt;&gt; Use pytorch device_name:    <a href=\"file:///home/jeongho/git/SKN05-FINAL-1TEAM/jeongho/RAG_env/lib/python3.12/site-packages/sentence_transformers/SentenceTransformer.py\" target=\"_blank\"><span style=\"color: #7f7f7f; text-decoration-color: #7f7f7f\">SentenceTransformer.py</span></a><span style=\"color: #7f7f7f; text-decoration-color: #7f7f7f\">:</span><a href=\"file:///home/jeongho/git/SKN05-FINAL-1TEAM/jeongho/RAG_env/lib/python3.12/site-packages/sentence_transformers/SentenceTransformer.py#210\" target=\"_blank\"><span style=\"color: #7f7f7f; text-decoration-color: #7f7f7f\">210</span></a>\n",
       "<span style=\"color: #7fbfbf; text-decoration-color: #7fbfbf\">                    </span>         cuda                                                        <span style=\"color: #7f7f7f; text-decoration-color: #7f7f7f\">                          </span>\n",
       "</pre>\n"
      ],
      "text/plain": [
       "\u001b[2;36m[02/09/25 04:03:12]\u001b[0m\u001b[2;36m \u001b[0m\u001b[34mINFO    \u001b[0m \u001b[1m[\u001b[0mSentenceTransformer.py:\u001b[1;36m210\u001b[0m\u001b[1m]\u001b[0m >> Use pytorch device_name:    \u001b]8;id=85801;file:///home/jeongho/git/SKN05-FINAL-1TEAM/jeongho/RAG_env/lib/python3.12/site-packages/sentence_transformers/SentenceTransformer.py\u001b\\\u001b[2mSentenceTransformer.py\u001b[0m\u001b]8;;\u001b\\\u001b[2m:\u001b[0m\u001b]8;id=329341;file:///home/jeongho/git/SKN05-FINAL-1TEAM/jeongho/RAG_env/lib/python3.12/site-packages/sentence_transformers/SentenceTransformer.py#210\u001b\\\u001b[2m210\u001b[0m\u001b]8;;\u001b\\\n",
       "\u001b[2;36m                    \u001b[0m         cuda                                                        \u001b[2m                          \u001b[0m\n"
      ]
     },
     "metadata": {},
     "output_type": "display_data"
    },
    {
     "data": {
      "text/html": [
       "<pre style=\"white-space:pre;overflow-x:auto;line-height:normal;font-family:Menlo,'DejaVu Sans Mono',consolas,'Courier New',monospace\"><span style=\"color: #7fbfbf; text-decoration-color: #7fbfbf\">                    </span><span style=\"color: #000080; text-decoration-color: #000080\">INFO    </span> <span style=\"font-weight: bold\">[</span>SentenceTransformer.py:<span style=\"color: #008080; text-decoration-color: #008080; font-weight: bold\">218</span><span style=\"font-weight: bold\">]</span> &gt;&gt; Load pretrained             <a href=\"file:///home/jeongho/git/SKN05-FINAL-1TEAM/jeongho/RAG_env/lib/python3.12/site-packages/sentence_transformers/SentenceTransformer.py\" target=\"_blank\"><span style=\"color: #7f7f7f; text-decoration-color: #7f7f7f\">SentenceTransformer.py</span></a><span style=\"color: #7f7f7f; text-decoration-color: #7f7f7f\">:</span><a href=\"file:///home/jeongho/git/SKN05-FINAL-1TEAM/jeongho/RAG_env/lib/python3.12/site-packages/sentence_transformers/SentenceTransformer.py#218\" target=\"_blank\"><span style=\"color: #7f7f7f; text-decoration-color: #7f7f7f\">218</span></a>\n",
       "<span style=\"color: #7fbfbf; text-decoration-color: #7fbfbf\">                    </span>         SentenceTransformer:                                        <span style=\"color: #7f7f7f; text-decoration-color: #7f7f7f\">                          </span>\n",
       "<span style=\"color: #7fbfbf; text-decoration-color: #7fbfbf\">                    </span>         <span style=\"color: #800080; text-decoration-color: #800080\">/home/jeongho/git/SKN05-FINAL-1TEAM/jeongho/fastAPI/domain/</span> <span style=\"color: #7f7f7f; text-decoration-color: #7f7f7f\">                          </span>\n",
       "<span style=\"color: #7fbfbf; text-decoration-color: #7fbfbf\">                    </span>         <span style=\"color: #800080; text-decoration-color: #800080\">chat/lang_graph_merge/yoeun/models/</span><span style=\"color: #ff00ff; text-decoration-color: #ff00ff\">ko-sbert-sts</span>             <span style=\"color: #7f7f7f; text-decoration-color: #7f7f7f\">                          </span>\n",
       "</pre>\n"
      ],
      "text/plain": [
       "\u001b[2;36m                   \u001b[0m\u001b[2;36m \u001b[0m\u001b[34mINFO    \u001b[0m \u001b[1m[\u001b[0mSentenceTransformer.py:\u001b[1;36m218\u001b[0m\u001b[1m]\u001b[0m >> Load pretrained             \u001b]8;id=897626;file:///home/jeongho/git/SKN05-FINAL-1TEAM/jeongho/RAG_env/lib/python3.12/site-packages/sentence_transformers/SentenceTransformer.py\u001b\\\u001b[2mSentenceTransformer.py\u001b[0m\u001b]8;;\u001b\\\u001b[2m:\u001b[0m\u001b]8;id=1989;file:///home/jeongho/git/SKN05-FINAL-1TEAM/jeongho/RAG_env/lib/python3.12/site-packages/sentence_transformers/SentenceTransformer.py#218\u001b\\\u001b[2m218\u001b[0m\u001b]8;;\u001b\\\n",
       "\u001b[2;36m                    \u001b[0m         SentenceTransformer:                                        \u001b[2m                          \u001b[0m\n",
       "\u001b[2;36m                    \u001b[0m         \u001b[35m/home/jeongho/git/SKN05-FINAL-1TEAM/jeongho/fastAPI/domain/\u001b[0m \u001b[2m                          \u001b[0m\n",
       "\u001b[2;36m                    \u001b[0m         \u001b[35mchat/lang_graph_merge/yoeun/models/\u001b[0m\u001b[95mko-sbert-sts\u001b[0m             \u001b[2m                          \u001b[0m\n"
      ]
     },
     "metadata": {},
     "output_type": "display_data"
    },
    {
     "data": {
      "application/vnd.jupyter.widget-view+json": {
       "model_id": "5dc2703bcc5b40fd9455821069bfbd41",
       "version_major": 2,
       "version_minor": 0
      },
      "text/plain": [
       "Batches:   0%|          | 0/1 [00:00<?, ?it/s]"
      ]
     },
     "metadata": {},
     "output_type": "display_data"
    },
    {
     "data": {
      "text/html": [
       "<pre style=\"white-space:pre;overflow-x:auto;line-height:normal;font-family:Menlo,'DejaVu Sans Mono',consolas,'Courier New',monospace\"><span style=\"color: #7fbfbf; text-decoration-color: #7fbfbf\">                    </span><span style=\"color: #000080; text-decoration-color: #000080\">INFO    </span> <span style=\"font-weight: bold\">[</span>SentenceTransformer.py:<span style=\"color: #008080; text-decoration-color: #008080; font-weight: bold\">210</span><span style=\"font-weight: bold\">]</span> &gt;&gt; Use pytorch device_name:    <a href=\"file:///home/jeongho/git/SKN05-FINAL-1TEAM/jeongho/RAG_env/lib/python3.12/site-packages/sentence_transformers/SentenceTransformer.py\" target=\"_blank\"><span style=\"color: #7f7f7f; text-decoration-color: #7f7f7f\">SentenceTransformer.py</span></a><span style=\"color: #7f7f7f; text-decoration-color: #7f7f7f\">:</span><a href=\"file:///home/jeongho/git/SKN05-FINAL-1TEAM/jeongho/RAG_env/lib/python3.12/site-packages/sentence_transformers/SentenceTransformer.py#210\" target=\"_blank\"><span style=\"color: #7f7f7f; text-decoration-color: #7f7f7f\">210</span></a>\n",
       "<span style=\"color: #7fbfbf; text-decoration-color: #7fbfbf\">                    </span>         cuda                                                        <span style=\"color: #7f7f7f; text-decoration-color: #7f7f7f\">                          </span>\n",
       "</pre>\n"
      ],
      "text/plain": [
       "\u001b[2;36m                   \u001b[0m\u001b[2;36m \u001b[0m\u001b[34mINFO    \u001b[0m \u001b[1m[\u001b[0mSentenceTransformer.py:\u001b[1;36m210\u001b[0m\u001b[1m]\u001b[0m >> Use pytorch device_name:    \u001b]8;id=814986;file:///home/jeongho/git/SKN05-FINAL-1TEAM/jeongho/RAG_env/lib/python3.12/site-packages/sentence_transformers/SentenceTransformer.py\u001b\\\u001b[2mSentenceTransformer.py\u001b[0m\u001b]8;;\u001b\\\u001b[2m:\u001b[0m\u001b]8;id=575493;file:///home/jeongho/git/SKN05-FINAL-1TEAM/jeongho/RAG_env/lib/python3.12/site-packages/sentence_transformers/SentenceTransformer.py#210\u001b\\\u001b[2m210\u001b[0m\u001b]8;;\u001b\\\n",
       "\u001b[2;36m                    \u001b[0m         cuda                                                        \u001b[2m                          \u001b[0m\n"
      ]
     },
     "metadata": {},
     "output_type": "display_data"
    },
    {
     "data": {
      "text/html": [
       "<pre style=\"white-space:pre;overflow-x:auto;line-height:normal;font-family:Menlo,'DejaVu Sans Mono',consolas,'Courier New',monospace\"><span style=\"color: #7fbfbf; text-decoration-color: #7fbfbf\">                    </span><span style=\"color: #000080; text-decoration-color: #000080\">INFO    </span> <span style=\"font-weight: bold\">[</span>SentenceTransformer.py:<span style=\"color: #008080; text-decoration-color: #008080; font-weight: bold\">218</span><span style=\"font-weight: bold\">]</span> &gt;&gt; Load pretrained             <a href=\"file:///home/jeongho/git/SKN05-FINAL-1TEAM/jeongho/RAG_env/lib/python3.12/site-packages/sentence_transformers/SentenceTransformer.py\" target=\"_blank\"><span style=\"color: #7f7f7f; text-decoration-color: #7f7f7f\">SentenceTransformer.py</span></a><span style=\"color: #7f7f7f; text-decoration-color: #7f7f7f\">:</span><a href=\"file:///home/jeongho/git/SKN05-FINAL-1TEAM/jeongho/RAG_env/lib/python3.12/site-packages/sentence_transformers/SentenceTransformer.py#218\" target=\"_blank\"><span style=\"color: #7f7f7f; text-decoration-color: #7f7f7f\">218</span></a>\n",
       "<span style=\"color: #7fbfbf; text-decoration-color: #7fbfbf\">                    </span>         SentenceTransformer:                                        <span style=\"color: #7f7f7f; text-decoration-color: #7f7f7f\">                          </span>\n",
       "<span style=\"color: #7fbfbf; text-decoration-color: #7fbfbf\">                    </span>         <span style=\"color: #800080; text-decoration-color: #800080\">/home/jeongho/git/SKN05-FINAL-1TEAM/jeongho/fastAPI/domain/</span> <span style=\"color: #7f7f7f; text-decoration-color: #7f7f7f\">                          </span>\n",
       "<span style=\"color: #7fbfbf; text-decoration-color: #7fbfbf\">                    </span>         <span style=\"color: #800080; text-decoration-color: #800080\">chat/lang_graph_merge/yoeun/models/</span><span style=\"color: #ff00ff; text-decoration-color: #ff00ff\">ko-sbert-sts</span>             <span style=\"color: #7f7f7f; text-decoration-color: #7f7f7f\">                          </span>\n",
       "</pre>\n"
      ],
      "text/plain": [
       "\u001b[2;36m                   \u001b[0m\u001b[2;36m \u001b[0m\u001b[34mINFO    \u001b[0m \u001b[1m[\u001b[0mSentenceTransformer.py:\u001b[1;36m218\u001b[0m\u001b[1m]\u001b[0m >> Load pretrained             \u001b]8;id=262590;file:///home/jeongho/git/SKN05-FINAL-1TEAM/jeongho/RAG_env/lib/python3.12/site-packages/sentence_transformers/SentenceTransformer.py\u001b\\\u001b[2mSentenceTransformer.py\u001b[0m\u001b]8;;\u001b\\\u001b[2m:\u001b[0m\u001b]8;id=433865;file:///home/jeongho/git/SKN05-FINAL-1TEAM/jeongho/RAG_env/lib/python3.12/site-packages/sentence_transformers/SentenceTransformer.py#218\u001b\\\u001b[2m218\u001b[0m\u001b]8;;\u001b\\\n",
       "\u001b[2;36m                    \u001b[0m         SentenceTransformer:                                        \u001b[2m                          \u001b[0m\n",
       "\u001b[2;36m                    \u001b[0m         \u001b[35m/home/jeongho/git/SKN05-FINAL-1TEAM/jeongho/fastAPI/domain/\u001b[0m \u001b[2m                          \u001b[0m\n",
       "\u001b[2;36m                    \u001b[0m         \u001b[35mchat/lang_graph_merge/yoeun/models/\u001b[0m\u001b[95mko-sbert-sts\u001b[0m             \u001b[2m                          \u001b[0m\n"
      ]
     },
     "metadata": {},
     "output_type": "display_data"
    },
    {
     "data": {
      "application/vnd.jupyter.widget-view+json": {
       "model_id": "0f974e97364f4f8581630e022610bda6",
       "version_major": 2,
       "version_minor": 0
      },
      "text/plain": [
       "Batches:   0%|          | 0/1 [00:00<?, ?it/s]"
      ]
     },
     "metadata": {},
     "output_type": "display_data"
    },
    {
     "data": {
      "text/html": [
       "<pre style=\"white-space:pre;overflow-x:auto;line-height:normal;font-family:Menlo,'DejaVu Sans Mono',consolas,'Courier New',monospace\"><span style=\"color: #7fbfbf; text-decoration-color: #7fbfbf\">[02/09/25 04:03:13] </span><span style=\"color: #000080; text-decoration-color: #000080\">INFO    </span> <span style=\"font-weight: bold\">[</span>SentenceTransformer.py:<span style=\"color: #008080; text-decoration-color: #008080; font-weight: bold\">210</span><span style=\"font-weight: bold\">]</span> &gt;&gt; Use pytorch device_name:    <a href=\"file:///home/jeongho/git/SKN05-FINAL-1TEAM/jeongho/RAG_env/lib/python3.12/site-packages/sentence_transformers/SentenceTransformer.py\" target=\"_blank\"><span style=\"color: #7f7f7f; text-decoration-color: #7f7f7f\">SentenceTransformer.py</span></a><span style=\"color: #7f7f7f; text-decoration-color: #7f7f7f\">:</span><a href=\"file:///home/jeongho/git/SKN05-FINAL-1TEAM/jeongho/RAG_env/lib/python3.12/site-packages/sentence_transformers/SentenceTransformer.py#210\" target=\"_blank\"><span style=\"color: #7f7f7f; text-decoration-color: #7f7f7f\">210</span></a>\n",
       "<span style=\"color: #7fbfbf; text-decoration-color: #7fbfbf\">                    </span>         cuda                                                        <span style=\"color: #7f7f7f; text-decoration-color: #7f7f7f\">                          </span>\n",
       "</pre>\n"
      ],
      "text/plain": [
       "\u001b[2;36m[02/09/25 04:03:13]\u001b[0m\u001b[2;36m \u001b[0m\u001b[34mINFO    \u001b[0m \u001b[1m[\u001b[0mSentenceTransformer.py:\u001b[1;36m210\u001b[0m\u001b[1m]\u001b[0m >> Use pytorch device_name:    \u001b]8;id=166068;file:///home/jeongho/git/SKN05-FINAL-1TEAM/jeongho/RAG_env/lib/python3.12/site-packages/sentence_transformers/SentenceTransformer.py\u001b\\\u001b[2mSentenceTransformer.py\u001b[0m\u001b]8;;\u001b\\\u001b[2m:\u001b[0m\u001b]8;id=520663;file:///home/jeongho/git/SKN05-FINAL-1TEAM/jeongho/RAG_env/lib/python3.12/site-packages/sentence_transformers/SentenceTransformer.py#210\u001b\\\u001b[2m210\u001b[0m\u001b]8;;\u001b\\\n",
       "\u001b[2;36m                    \u001b[0m         cuda                                                        \u001b[2m                          \u001b[0m\n"
      ]
     },
     "metadata": {},
     "output_type": "display_data"
    },
    {
     "data": {
      "text/html": [
       "<pre style=\"white-space:pre;overflow-x:auto;line-height:normal;font-family:Menlo,'DejaVu Sans Mono',consolas,'Courier New',monospace\"><span style=\"color: #7fbfbf; text-decoration-color: #7fbfbf\">                    </span><span style=\"color: #000080; text-decoration-color: #000080\">INFO    </span> <span style=\"font-weight: bold\">[</span>SentenceTransformer.py:<span style=\"color: #008080; text-decoration-color: #008080; font-weight: bold\">218</span><span style=\"font-weight: bold\">]</span> &gt;&gt; Load pretrained             <a href=\"file:///home/jeongho/git/SKN05-FINAL-1TEAM/jeongho/RAG_env/lib/python3.12/site-packages/sentence_transformers/SentenceTransformer.py\" target=\"_blank\"><span style=\"color: #7f7f7f; text-decoration-color: #7f7f7f\">SentenceTransformer.py</span></a><span style=\"color: #7f7f7f; text-decoration-color: #7f7f7f\">:</span><a href=\"file:///home/jeongho/git/SKN05-FINAL-1TEAM/jeongho/RAG_env/lib/python3.12/site-packages/sentence_transformers/SentenceTransformer.py#218\" target=\"_blank\"><span style=\"color: #7f7f7f; text-decoration-color: #7f7f7f\">218</span></a>\n",
       "<span style=\"color: #7fbfbf; text-decoration-color: #7fbfbf\">                    </span>         SentenceTransformer:                                        <span style=\"color: #7f7f7f; text-decoration-color: #7f7f7f\">                          </span>\n",
       "<span style=\"color: #7fbfbf; text-decoration-color: #7fbfbf\">                    </span>         <span style=\"color: #800080; text-decoration-color: #800080\">/home/jeongho/git/SKN05-FINAL-1TEAM/jeongho/fastAPI/domain/</span> <span style=\"color: #7f7f7f; text-decoration-color: #7f7f7f\">                          </span>\n",
       "<span style=\"color: #7fbfbf; text-decoration-color: #7fbfbf\">                    </span>         <span style=\"color: #800080; text-decoration-color: #800080\">chat/lang_graph_merge/yoeun/models/</span><span style=\"color: #ff00ff; text-decoration-color: #ff00ff\">ko-sbert-sts</span>             <span style=\"color: #7f7f7f; text-decoration-color: #7f7f7f\">                          </span>\n",
       "</pre>\n"
      ],
      "text/plain": [
       "\u001b[2;36m                   \u001b[0m\u001b[2;36m \u001b[0m\u001b[34mINFO    \u001b[0m \u001b[1m[\u001b[0mSentenceTransformer.py:\u001b[1;36m218\u001b[0m\u001b[1m]\u001b[0m >> Load pretrained             \u001b]8;id=364130;file:///home/jeongho/git/SKN05-FINAL-1TEAM/jeongho/RAG_env/lib/python3.12/site-packages/sentence_transformers/SentenceTransformer.py\u001b\\\u001b[2mSentenceTransformer.py\u001b[0m\u001b]8;;\u001b\\\u001b[2m:\u001b[0m\u001b]8;id=810857;file:///home/jeongho/git/SKN05-FINAL-1TEAM/jeongho/RAG_env/lib/python3.12/site-packages/sentence_transformers/SentenceTransformer.py#218\u001b\\\u001b[2m218\u001b[0m\u001b]8;;\u001b\\\n",
       "\u001b[2;36m                    \u001b[0m         SentenceTransformer:                                        \u001b[2m                          \u001b[0m\n",
       "\u001b[2;36m                    \u001b[0m         \u001b[35m/home/jeongho/git/SKN05-FINAL-1TEAM/jeongho/fastAPI/domain/\u001b[0m \u001b[2m                          \u001b[0m\n",
       "\u001b[2;36m                    \u001b[0m         \u001b[35mchat/lang_graph_merge/yoeun/models/\u001b[0m\u001b[95mko-sbert-sts\u001b[0m             \u001b[2m                          \u001b[0m\n"
      ]
     },
     "metadata": {},
     "output_type": "display_data"
    },
    {
     "data": {
      "application/vnd.jupyter.widget-view+json": {
       "model_id": "fce7b36874754a8dacd0f24d69b0d648",
       "version_major": 2,
       "version_minor": 0
      },
      "text/plain": [
       "Batches:   0%|          | 0/1 [00:00<?, ?it/s]"
      ]
     },
     "metadata": {},
     "output_type": "display_data"
    },
    {
     "data": {
      "text/html": [
       "<pre style=\"white-space:pre;overflow-x:auto;line-height:normal;font-family:Menlo,'DejaVu Sans Mono',consolas,'Courier New',monospace\"><span style=\"color: #7fbfbf; text-decoration-color: #7fbfbf\">                    </span><span style=\"color: #000080; text-decoration-color: #000080\">INFO    </span> <span style=\"font-weight: bold\">[</span>SentenceTransformer.py:<span style=\"color: #008080; text-decoration-color: #008080; font-weight: bold\">210</span><span style=\"font-weight: bold\">]</span> &gt;&gt; Use pytorch device_name:    <a href=\"file:///home/jeongho/git/SKN05-FINAL-1TEAM/jeongho/RAG_env/lib/python3.12/site-packages/sentence_transformers/SentenceTransformer.py\" target=\"_blank\"><span style=\"color: #7f7f7f; text-decoration-color: #7f7f7f\">SentenceTransformer.py</span></a><span style=\"color: #7f7f7f; text-decoration-color: #7f7f7f\">:</span><a href=\"file:///home/jeongho/git/SKN05-FINAL-1TEAM/jeongho/RAG_env/lib/python3.12/site-packages/sentence_transformers/SentenceTransformer.py#210\" target=\"_blank\"><span style=\"color: #7f7f7f; text-decoration-color: #7f7f7f\">210</span></a>\n",
       "<span style=\"color: #7fbfbf; text-decoration-color: #7fbfbf\">                    </span>         cuda                                                        <span style=\"color: #7f7f7f; text-decoration-color: #7f7f7f\">                          </span>\n",
       "</pre>\n"
      ],
      "text/plain": [
       "\u001b[2;36m                   \u001b[0m\u001b[2;36m \u001b[0m\u001b[34mINFO    \u001b[0m \u001b[1m[\u001b[0mSentenceTransformer.py:\u001b[1;36m210\u001b[0m\u001b[1m]\u001b[0m >> Use pytorch device_name:    \u001b]8;id=760361;file:///home/jeongho/git/SKN05-FINAL-1TEAM/jeongho/RAG_env/lib/python3.12/site-packages/sentence_transformers/SentenceTransformer.py\u001b\\\u001b[2mSentenceTransformer.py\u001b[0m\u001b]8;;\u001b\\\u001b[2m:\u001b[0m\u001b]8;id=403528;file:///home/jeongho/git/SKN05-FINAL-1TEAM/jeongho/RAG_env/lib/python3.12/site-packages/sentence_transformers/SentenceTransformer.py#210\u001b\\\u001b[2m210\u001b[0m\u001b]8;;\u001b\\\n",
       "\u001b[2;36m                    \u001b[0m         cuda                                                        \u001b[2m                          \u001b[0m\n"
      ]
     },
     "metadata": {},
     "output_type": "display_data"
    },
    {
     "data": {
      "text/html": [
       "<pre style=\"white-space:pre;overflow-x:auto;line-height:normal;font-family:Menlo,'DejaVu Sans Mono',consolas,'Courier New',monospace\"><span style=\"color: #7fbfbf; text-decoration-color: #7fbfbf\">                    </span><span style=\"color: #000080; text-decoration-color: #000080\">INFO    </span> <span style=\"font-weight: bold\">[</span>SentenceTransformer.py:<span style=\"color: #008080; text-decoration-color: #008080; font-weight: bold\">218</span><span style=\"font-weight: bold\">]</span> &gt;&gt; Load pretrained             <a href=\"file:///home/jeongho/git/SKN05-FINAL-1TEAM/jeongho/RAG_env/lib/python3.12/site-packages/sentence_transformers/SentenceTransformer.py\" target=\"_blank\"><span style=\"color: #7f7f7f; text-decoration-color: #7f7f7f\">SentenceTransformer.py</span></a><span style=\"color: #7f7f7f; text-decoration-color: #7f7f7f\">:</span><a href=\"file:///home/jeongho/git/SKN05-FINAL-1TEAM/jeongho/RAG_env/lib/python3.12/site-packages/sentence_transformers/SentenceTransformer.py#218\" target=\"_blank\"><span style=\"color: #7f7f7f; text-decoration-color: #7f7f7f\">218</span></a>\n",
       "<span style=\"color: #7fbfbf; text-decoration-color: #7fbfbf\">                    </span>         SentenceTransformer:                                        <span style=\"color: #7f7f7f; text-decoration-color: #7f7f7f\">                          </span>\n",
       "<span style=\"color: #7fbfbf; text-decoration-color: #7fbfbf\">                    </span>         <span style=\"color: #800080; text-decoration-color: #800080\">/home/jeongho/git/SKN05-FINAL-1TEAM/jeongho/fastAPI/domain/</span> <span style=\"color: #7f7f7f; text-decoration-color: #7f7f7f\">                          </span>\n",
       "<span style=\"color: #7fbfbf; text-decoration-color: #7fbfbf\">                    </span>         <span style=\"color: #800080; text-decoration-color: #800080\">chat/lang_graph_merge/yoeun/models/</span><span style=\"color: #ff00ff; text-decoration-color: #ff00ff\">ko-sbert-sts</span>             <span style=\"color: #7f7f7f; text-decoration-color: #7f7f7f\">                          </span>\n",
       "</pre>\n"
      ],
      "text/plain": [
       "\u001b[2;36m                   \u001b[0m\u001b[2;36m \u001b[0m\u001b[34mINFO    \u001b[0m \u001b[1m[\u001b[0mSentenceTransformer.py:\u001b[1;36m218\u001b[0m\u001b[1m]\u001b[0m >> Load pretrained             \u001b]8;id=602719;file:///home/jeongho/git/SKN05-FINAL-1TEAM/jeongho/RAG_env/lib/python3.12/site-packages/sentence_transformers/SentenceTransformer.py\u001b\\\u001b[2mSentenceTransformer.py\u001b[0m\u001b]8;;\u001b\\\u001b[2m:\u001b[0m\u001b]8;id=804630;file:///home/jeongho/git/SKN05-FINAL-1TEAM/jeongho/RAG_env/lib/python3.12/site-packages/sentence_transformers/SentenceTransformer.py#218\u001b\\\u001b[2m218\u001b[0m\u001b]8;;\u001b\\\n",
       "\u001b[2;36m                    \u001b[0m         SentenceTransformer:                                        \u001b[2m                          \u001b[0m\n",
       "\u001b[2;36m                    \u001b[0m         \u001b[35m/home/jeongho/git/SKN05-FINAL-1TEAM/jeongho/fastAPI/domain/\u001b[0m \u001b[2m                          \u001b[0m\n",
       "\u001b[2;36m                    \u001b[0m         \u001b[35mchat/lang_graph_merge/yoeun/models/\u001b[0m\u001b[95mko-sbert-sts\u001b[0m             \u001b[2m                          \u001b[0m\n"
      ]
     },
     "metadata": {},
     "output_type": "display_data"
    },
    {
     "data": {
      "application/vnd.jupyter.widget-view+json": {
       "model_id": "b4e026477e844248af17c995e7af2098",
       "version_major": 2,
       "version_minor": 0
      },
      "text/plain": [
       "Batches:   0%|          | 0/1 [00:00<?, ?it/s]"
      ]
     },
     "metadata": {},
     "output_type": "display_data"
    },
    {
     "data": {
      "text/html": [
       "<pre style=\"white-space:pre;overflow-x:auto;line-height:normal;font-family:Menlo,'DejaVu Sans Mono',consolas,'Courier New',monospace\"><span style=\"color: #7fbfbf; text-decoration-color: #7fbfbf\">[02/09/25 04:03:14] </span><span style=\"color: #000080; text-decoration-color: #000080\">INFO    </span> <span style=\"font-weight: bold\">[</span>SentenceTransformer.py:<span style=\"color: #008080; text-decoration-color: #008080; font-weight: bold\">210</span><span style=\"font-weight: bold\">]</span> &gt;&gt; Use pytorch device_name:    <a href=\"file:///home/jeongho/git/SKN05-FINAL-1TEAM/jeongho/RAG_env/lib/python3.12/site-packages/sentence_transformers/SentenceTransformer.py\" target=\"_blank\"><span style=\"color: #7f7f7f; text-decoration-color: #7f7f7f\">SentenceTransformer.py</span></a><span style=\"color: #7f7f7f; text-decoration-color: #7f7f7f\">:</span><a href=\"file:///home/jeongho/git/SKN05-FINAL-1TEAM/jeongho/RAG_env/lib/python3.12/site-packages/sentence_transformers/SentenceTransformer.py#210\" target=\"_blank\"><span style=\"color: #7f7f7f; text-decoration-color: #7f7f7f\">210</span></a>\n",
       "<span style=\"color: #7fbfbf; text-decoration-color: #7fbfbf\">                    </span>         cuda                                                        <span style=\"color: #7f7f7f; text-decoration-color: #7f7f7f\">                          </span>\n",
       "</pre>\n"
      ],
      "text/plain": [
       "\u001b[2;36m[02/09/25 04:03:14]\u001b[0m\u001b[2;36m \u001b[0m\u001b[34mINFO    \u001b[0m \u001b[1m[\u001b[0mSentenceTransformer.py:\u001b[1;36m210\u001b[0m\u001b[1m]\u001b[0m >> Use pytorch device_name:    \u001b]8;id=539966;file:///home/jeongho/git/SKN05-FINAL-1TEAM/jeongho/RAG_env/lib/python3.12/site-packages/sentence_transformers/SentenceTransformer.py\u001b\\\u001b[2mSentenceTransformer.py\u001b[0m\u001b]8;;\u001b\\\u001b[2m:\u001b[0m\u001b]8;id=409127;file:///home/jeongho/git/SKN05-FINAL-1TEAM/jeongho/RAG_env/lib/python3.12/site-packages/sentence_transformers/SentenceTransformer.py#210\u001b\\\u001b[2m210\u001b[0m\u001b]8;;\u001b\\\n",
       "\u001b[2;36m                    \u001b[0m         cuda                                                        \u001b[2m                          \u001b[0m\n"
      ]
     },
     "metadata": {},
     "output_type": "display_data"
    },
    {
     "data": {
      "text/html": [
       "<pre style=\"white-space:pre;overflow-x:auto;line-height:normal;font-family:Menlo,'DejaVu Sans Mono',consolas,'Courier New',monospace\"><span style=\"color: #7fbfbf; text-decoration-color: #7fbfbf\">                    </span><span style=\"color: #000080; text-decoration-color: #000080\">INFO    </span> <span style=\"font-weight: bold\">[</span>SentenceTransformer.py:<span style=\"color: #008080; text-decoration-color: #008080; font-weight: bold\">218</span><span style=\"font-weight: bold\">]</span> &gt;&gt; Load pretrained             <a href=\"file:///home/jeongho/git/SKN05-FINAL-1TEAM/jeongho/RAG_env/lib/python3.12/site-packages/sentence_transformers/SentenceTransformer.py\" target=\"_blank\"><span style=\"color: #7f7f7f; text-decoration-color: #7f7f7f\">SentenceTransformer.py</span></a><span style=\"color: #7f7f7f; text-decoration-color: #7f7f7f\">:</span><a href=\"file:///home/jeongho/git/SKN05-FINAL-1TEAM/jeongho/RAG_env/lib/python3.12/site-packages/sentence_transformers/SentenceTransformer.py#218\" target=\"_blank\"><span style=\"color: #7f7f7f; text-decoration-color: #7f7f7f\">218</span></a>\n",
       "<span style=\"color: #7fbfbf; text-decoration-color: #7fbfbf\">                    </span>         SentenceTransformer:                                        <span style=\"color: #7f7f7f; text-decoration-color: #7f7f7f\">                          </span>\n",
       "<span style=\"color: #7fbfbf; text-decoration-color: #7fbfbf\">                    </span>         <span style=\"color: #800080; text-decoration-color: #800080\">/home/jeongho/git/SKN05-FINAL-1TEAM/jeongho/fastAPI/domain/</span> <span style=\"color: #7f7f7f; text-decoration-color: #7f7f7f\">                          </span>\n",
       "<span style=\"color: #7fbfbf; text-decoration-color: #7fbfbf\">                    </span>         <span style=\"color: #800080; text-decoration-color: #800080\">chat/lang_graph_merge/yoeun/models/</span><span style=\"color: #ff00ff; text-decoration-color: #ff00ff\">ko-sbert-sts</span>             <span style=\"color: #7f7f7f; text-decoration-color: #7f7f7f\">                          </span>\n",
       "</pre>\n"
      ],
      "text/plain": [
       "\u001b[2;36m                   \u001b[0m\u001b[2;36m \u001b[0m\u001b[34mINFO    \u001b[0m \u001b[1m[\u001b[0mSentenceTransformer.py:\u001b[1;36m218\u001b[0m\u001b[1m]\u001b[0m >> Load pretrained             \u001b]8;id=569802;file:///home/jeongho/git/SKN05-FINAL-1TEAM/jeongho/RAG_env/lib/python3.12/site-packages/sentence_transformers/SentenceTransformer.py\u001b\\\u001b[2mSentenceTransformer.py\u001b[0m\u001b]8;;\u001b\\\u001b[2m:\u001b[0m\u001b]8;id=733383;file:///home/jeongho/git/SKN05-FINAL-1TEAM/jeongho/RAG_env/lib/python3.12/site-packages/sentence_transformers/SentenceTransformer.py#218\u001b\\\u001b[2m218\u001b[0m\u001b]8;;\u001b\\\n",
       "\u001b[2;36m                    \u001b[0m         SentenceTransformer:                                        \u001b[2m                          \u001b[0m\n",
       "\u001b[2;36m                    \u001b[0m         \u001b[35m/home/jeongho/git/SKN05-FINAL-1TEAM/jeongho/fastAPI/domain/\u001b[0m \u001b[2m                          \u001b[0m\n",
       "\u001b[2;36m                    \u001b[0m         \u001b[35mchat/lang_graph_merge/yoeun/models/\u001b[0m\u001b[95mko-sbert-sts\u001b[0m             \u001b[2m                          \u001b[0m\n"
      ]
     },
     "metadata": {},
     "output_type": "display_data"
    },
    {
     "data": {
      "application/vnd.jupyter.widget-view+json": {
       "model_id": "59d120641fab4770b88869f214bff885",
       "version_major": 2,
       "version_minor": 0
      },
      "text/plain": [
       "Batches:   0%|          | 0/1 [00:00<?, ?it/s]"
      ]
     },
     "metadata": {},
     "output_type": "display_data"
    },
    {
     "name": "stdout",
     "output_type": "stream",
     "text": [
      "필터링 전 문서 : 35 / 필터링 후 문서 : 7\n",
      "---[CANON] RERANK---\n"
     ]
    },
    {
     "data": {
      "text/html": [
       "<pre style=\"white-space:pre;overflow-x:auto;line-height:normal;font-family:Menlo,'DejaVu Sans Mono',consolas,'Courier New',monospace\"><span style=\"color: #7fbfbf; text-decoration-color: #7fbfbf\">[02/09/25 04:03:15] </span><span style=\"color: #000080; text-decoration-color: #000080\">INFO    </span> <span style=\"font-weight: bold\">[</span>_client.py:<span style=\"color: #008080; text-decoration-color: #008080; font-weight: bold\">1026</span><span style=\"font-weight: bold\">]</span> &gt;&gt; HTTP Request: <span style=\"color: #808000; text-decoration-color: #808000; font-weight: bold\">POST</span>                                <a href=\"file:///home/jeongho/git/SKN05-FINAL-1TEAM/jeongho/RAG_env/lib/python3.12/site-packages/httpx/_client.py\" target=\"_blank\"><span style=\"color: #7f7f7f; text-decoration-color: #7f7f7f\">_client.py</span></a><span style=\"color: #7f7f7f; text-decoration-color: #7f7f7f\">:</span><a href=\"file:///home/jeongho/git/SKN05-FINAL-1TEAM/jeongho/RAG_env/lib/python3.12/site-packages/httpx/_client.py#1026\" target=\"_blank\"><span style=\"color: #7f7f7f; text-decoration-color: #7f7f7f\">1026</span></a>\n",
       "<span style=\"color: #7fbfbf; text-decoration-color: #7fbfbf\">                    </span>         <span style=\"color: #0000ff; text-decoration-color: #0000ff; text-decoration: underline\">https://api.cohere.com/v1/rerank</span> <span style=\"color: #008000; text-decoration-color: #008000\">\"HTTP/1.1 200 OK\"</span>                     <span style=\"color: #7f7f7f; text-decoration-color: #7f7f7f\">               </span>\n",
       "</pre>\n"
      ],
      "text/plain": [
       "\u001b[2;36m[02/09/25 04:03:15]\u001b[0m\u001b[2;36m \u001b[0m\u001b[34mINFO    \u001b[0m \u001b[1m[\u001b[0m_client.py:\u001b[1;36m1026\u001b[0m\u001b[1m]\u001b[0m >> HTTP Request: \u001b[1;33mPOST\u001b[0m                                \u001b]8;id=216851;file:///home/jeongho/git/SKN05-FINAL-1TEAM/jeongho/RAG_env/lib/python3.12/site-packages/httpx/_client.py\u001b\\\u001b[2m_client.py\u001b[0m\u001b]8;;\u001b\\\u001b[2m:\u001b[0m\u001b]8;id=827709;file:///home/jeongho/git/SKN05-FINAL-1TEAM/jeongho/RAG_env/lib/python3.12/site-packages/httpx/_client.py#1026\u001b\\\u001b[2m1026\u001b[0m\u001b]8;;\u001b\\\n",
       "\u001b[2;36m                    \u001b[0m         \u001b[4;94mhttps://api.cohere.com/v1/rerank\u001b[0m \u001b[32m\"HTTP/1.1 200 OK\"\u001b[0m                     \u001b[2m               \u001b[0m\n"
      ]
     },
     "metadata": {},
     "output_type": "display_data"
    },
    {
     "name": "stdout",
     "output_type": "stream",
     "text": [
      "[Document(id='chunk-m50-151', metadata={'brand': 'Canon', 'image_path': ['/Users/yoeun/Library/Mobile Documents/com~apple~CloudDocs/github/FINAL Project/parse&chunk/data/image/m50/m50_page_155_1.png'], 'index': '수동 초점', 'main_index': 'AF, 드라이브 및 노출 설정', 'model': 'M50', 'page': 155.0, 'pdf_path': '/Users/yoeun/Library/Mobile Documents/com~apple~CloudDocs/github/FINAL Project/parse&chunk/data/pdf/split_pdf_image/m50/m50_page_155.jpg', 'sub_index': 'N/A'}, page_content='# 수동 초점\\n\\n자동 초점으로 초점을 맞출 수 없는 경우에는 아래의 과정을 수행하여 수동으로 초점을 맞추십시오.\\n\\n1. ![그림 자리(초점 모드를 MF로 설정합니다.)]\\n\\n   - 렌즈의 포커싱 링을 돌려 대략적인 초점을 설정하십시오.'), Document(id='chunk-r50-450', metadata={'brand': 'Canon', 'image_path': [], 'index': '수동 초점', 'main_index': 'AF/드라이브', 'model': 'R50', 'page': 438.0, 'pdf_path': '/Users/yoeun/Library/Mobile Documents/com~apple~CloudDocs/github/FINAL Project/parse&chunk/data/pdf/split_pdf_image/r50/r50_page_438.jpg', 'sub_index': 'N/A'}, page_content='### 4. 초점을 수동으로 맞춥니다.\\n\\n- 확대된 이미지를 보면서 렌즈 포커싱 링을 돌려 초점을 맞추십시오.\\n- 초점을 맞춘 후 <![아이콘]> 버튼을 누르면 일반 보기로 돌아갑니다.\\n\\n**참고**\\n- 확대 보기에서는 노출이 고정됩니다.\\n- 초점을 수동으로 맞출 때도 터치 셔터를 사용하여 촬영할 수 있습니다.'), Document(id='chunk-r50-432', metadata={'brand': 'Canon', 'image_path': ['/Users/yoeun/Library/Mobile Documents/com~apple~CloudDocs/github/FINAL Project/parse&chunk/data/image/r50/r50_page_420_1.png', '/Users/yoeun/Library/Mobile Documents/com~apple~CloudDocs/github/FINAL Project/parse&chunk/data/image/r50/r50_page_420_2.png'], 'index': 'AF 영역 선택하기', 'main_index': 'AF/드라이브', 'model': 'R50', 'page': 420.0, 'pdf_path': '/Users/yoeun/Library/Mobile Documents/com~apple~CloudDocs/github/FINAL Project/parse&chunk/data/pdf/split_pdf_image/r50/r50_page_420.jpg', 'sub_index': 'N/A'}, page_content='### 초점 모드\\n\\n카메라가 초점을 맞추는 방식을 설정할 수 있습니다.\\n\\n1. **초점 모드를 선택합니다.**\\n\\n   ![그림 자리(초점 모드 설정 화면)]\\n\\n2. **옵션을 선택합니다.**\\n\\n   ![그림 자리(옵션 선택 화면)]\\n\\n   - **AF**\\n     - 카메라가 자동 초점 모드로 작동합니다.\\n   - **MF**\\n     - 카메라가 수동 초점 모드로 작동합니다.\\n\\n**참고**\\n\\n- 촬영 화면이 표시되었을 때 〈◀▶〉 키를 눌러 [AF]와 [MF]를 전환할 수도 있습니다.'), Document(id='chunk-200d-100', metadata={'brand': 'Canon', 'image_path': ['/Users/yoeun/Library/Mobile Documents/com~apple~CloudDocs/github/FINAL Project/parse&chunk/data/image/200d/200d_page_111_1.png', '/Users/yoeun/Library/Mobile Documents/com~apple~CloudDocs/github/FINAL Project/parse&chunk/data/image/200d/200d_page_111_2.png'], 'index': '초점을 맞추기 어려운 피사체', 'main_index': 'AF와 드라이브 모드 설정하기', 'model': '200D', 'page': 111, 'pdf_path': '/Users/yoeun/Library/Mobile Documents/com~apple~CloudDocs/github/FINAL Project/parse&chunk/data/pdf/split_pdf_image/200d/200d_page_111.jpg', 'sub_index': 'N/A'}, page_content='## MF: 수동 초점\\n\\n1. **렌즈의 포커스 모드 스위치를 〈MF〉로 설정합니다.**\\n\\n   ![그림 자리(렌즈 포커스 모드 스위치)]\\n\\n2. **피사체에 초점을 맞춥니다.**\\n   - 뷰파인더에 피사체가 또렷하게 보일 때까지 렌즈 포커스 링을 돌려 초점을 맞추십시오.\\n\\n   ![그림 자리(렌즈 포커스 링 조절)]\\n\\n- 셔터 버튼을 반누름하고 수동으로 초점을 맞추면 초점이 맞은 AF 포인트가 잠깐 적색으로 점등하고 뷰파인더의 초점 표시등 (●)이 점등합니다.'), Document(id='chunk-m50-262', metadata={'brand': 'Canon', 'image_path': ['/Users/yoeun/Library/Mobile Documents/com~apple~CloudDocs/github/FINAL Project/parse&chunk/data/image/m50/m50_page_265_1.png', '/Users/yoeun/Library/Mobile Documents/com~apple~CloudDocs/github/FINAL Project/parse&chunk/data/image/m50/m50_page_265_2.png'], 'index': '초점 모드', 'main_index': '촬영', 'model': 'M50', 'page': 265.0, 'pdf_path': '/Users/yoeun/Library/Mobile Documents/com~apple~CloudDocs/github/FINAL Project/parse&chunk/data/pdf/split_pdf_image/m50/m50_page_265.jpg', 'sub_index': '정지 사진 촬영'}, page_content='### 초점 모드\\n\\nEF-M 렌즈 사용 시 포커싱 방식(초점 모드)을 지정할 수 있습니다.\\n\\n1. **초점 모드를 선택합니다.**\\n\\n   ![그림 자리(초점 모드 선택 화면)]\\n\\n2. **옵션을 선택합니다.**\\n\\n   ![그림 자리(옵션 선택 화면)]\\n\\n   - **[AF]**: 자동 초점\\n   - **[MF]**: 수동 초점')]\n",
      "---[CANON] GENERATE---\n"
     ]
    },
    {
     "data": {
      "text/html": [
       "<pre style=\"white-space:pre;overflow-x:auto;line-height:normal;font-family:Menlo,'DejaVu Sans Mono',consolas,'Courier New',monospace\"><span style=\"color: #7fbfbf; text-decoration-color: #7fbfbf\">[02/09/25 04:03:17] </span><span style=\"color: #000080; text-decoration-color: #000080\">INFO    </span> <span style=\"font-weight: bold\">[</span>_client.py:<span style=\"color: #008080; text-decoration-color: #008080; font-weight: bold\">1773</span><span style=\"font-weight: bold\">]</span> &gt;&gt; HTTP Request: <span style=\"color: #808000; text-decoration-color: #808000; font-weight: bold\">POST</span>                                <a href=\"file:///home/jeongho/git/SKN05-FINAL-1TEAM/jeongho/RAG_env/lib/python3.12/site-packages/httpx/_client.py\" target=\"_blank\"><span style=\"color: #7f7f7f; text-decoration-color: #7f7f7f\">_client.py</span></a><span style=\"color: #7f7f7f; text-decoration-color: #7f7f7f\">:</span><a href=\"file:///home/jeongho/git/SKN05-FINAL-1TEAM/jeongho/RAG_env/lib/python3.12/site-packages/httpx/_client.py#1773\" target=\"_blank\"><span style=\"color: #7f7f7f; text-decoration-color: #7f7f7f\">1773</span></a>\n",
       "<span style=\"color: #7fbfbf; text-decoration-color: #7fbfbf\">                    </span>         <span style=\"color: #0000ff; text-decoration-color: #0000ff; text-decoration: underline\">https://api.openai.com/v1/chat/completions</span> <span style=\"color: #008000; text-decoration-color: #008000\">\"HTTP/1.1 200 OK\"</span>           <span style=\"color: #7f7f7f; text-decoration-color: #7f7f7f\">               </span>\n",
       "</pre>\n"
      ],
      "text/plain": [
       "\u001b[2;36m[02/09/25 04:03:17]\u001b[0m\u001b[2;36m \u001b[0m\u001b[34mINFO    \u001b[0m \u001b[1m[\u001b[0m_client.py:\u001b[1;36m1773\u001b[0m\u001b[1m]\u001b[0m >> HTTP Request: \u001b[1;33mPOST\u001b[0m                                \u001b]8;id=545956;file:///home/jeongho/git/SKN05-FINAL-1TEAM/jeongho/RAG_env/lib/python3.12/site-packages/httpx/_client.py\u001b\\\u001b[2m_client.py\u001b[0m\u001b]8;;\u001b\\\u001b[2m:\u001b[0m\u001b]8;id=3187;file:///home/jeongho/git/SKN05-FINAL-1TEAM/jeongho/RAG_env/lib/python3.12/site-packages/httpx/_client.py#1773\u001b\\\u001b[2m1773\u001b[0m\u001b]8;;\u001b\\\n",
       "\u001b[2;36m                    \u001b[0m         \u001b[4;94mhttps://api.openai.com/v1/chat/completions\u001b[0m \u001b[32m\"HTTP/1.1 200 OK\"\u001b[0m           \u001b[2m               \u001b[0m\n"
      ]
     },
     "metadata": {},
     "output_type": "display_data"
    },
    {
     "name": "stdout",
     "output_type": "stream",
     "text": [
      "✅chunk from lang graph: ('custom', {'currentNode': 'generate', 'sessionId': 1, 'messageId': 1, 'answer': '', 'keywords': [], 'suggestQuestions': []})\n",
      "✅chunk from lang graph: ('custom', {'currentNode': 'generate', 'sessionId': 1, 'messageId': 1, 'answer': '초', 'keywords': [], 'suggestQuestions': []})\n",
      "✅chunk from lang graph: ('custom', {'currentNode': 'generate', 'sessionId': 1, 'messageId': 1, 'answer': '점을', 'keywords': [], 'suggestQuestions': []})\n",
      "✅chunk from lang graph: ('custom', {'currentNode': 'generate', 'sessionId': 1, 'messageId': 1, 'answer': ' 조', 'keywords': [], 'suggestQuestions': []})\n",
      "✅chunk from lang graph: ('custom', {'currentNode': 'generate', 'sessionId': 1, 'messageId': 1, 'answer': '절', 'keywords': [], 'suggestQuestions': []})\n",
      "✅chunk from lang graph: ('custom', {'currentNode': 'generate', 'sessionId': 1, 'messageId': 1, 'answer': '하는', 'keywords': [], 'suggestQuestions': []})\n",
      "✅chunk from lang graph: ('custom', {'currentNode': 'generate', 'sessionId': 1, 'messageId': 1, 'answer': ' 방법', 'keywords': [], 'suggestQuestions': []})\n",
      "✅chunk from lang graph: ('custom', {'currentNode': 'generate', 'sessionId': 1, 'messageId': 1, 'answer': '은', 'keywords': [], 'suggestQuestions': []})\n",
      "✅chunk from lang graph: ('custom', {'currentNode': 'generate', 'sessionId': 1, 'messageId': 1, 'answer': ' 카', 'keywords': [], 'suggestQuestions': []})\n",
      "✅chunk from lang graph: ('custom', {'currentNode': 'generate', 'sessionId': 1, 'messageId': 1, 'answer': '메', 'keywords': [], 'suggestQuestions': []})\n",
      "✅chunk from lang graph: ('custom', {'currentNode': 'generate', 'sessionId': 1, 'messageId': 1, 'answer': '라', 'keywords': [], 'suggestQuestions': []})\n",
      "✅chunk from lang graph: ('custom', {'currentNode': 'generate', 'sessionId': 1, 'messageId': 1, 'answer': ' 모델', 'keywords': [], 'suggestQuestions': []})\n",
      "✅chunk from lang graph: ('custom', {'currentNode': 'generate', 'sessionId': 1, 'messageId': 1, 'answer': '에', 'keywords': [], 'suggestQuestions': []})\n",
      "✅chunk from lang graph: ('custom', {'currentNode': 'generate', 'sessionId': 1, 'messageId': 1, 'answer': ' 따라', 'keywords': [], 'suggestQuestions': []})\n",
      "✅chunk from lang graph: ('custom', {'currentNode': 'generate', 'sessionId': 1, 'messageId': 1, 'answer': ' 다', 'keywords': [], 'suggestQuestions': []})\n",
      "✅chunk from lang graph: ('custom', {'currentNode': 'generate', 'sessionId': 1, 'messageId': 1, 'answer': '를', 'keywords': [], 'suggestQuestions': []})\n",
      "✅chunk from lang graph: ('custom', {'currentNode': 'generate', 'sessionId': 1, 'messageId': 1, 'answer': ' 수', 'keywords': [], 'suggestQuestions': []})\n",
      "✅chunk from lang graph: ('custom', {'currentNode': 'generate', 'sessionId': 1, 'messageId': 1, 'answer': ' 있습니다', 'keywords': [], 'suggestQuestions': []})\n",
      "✅chunk from lang graph: ('custom', {'currentNode': 'generate', 'sessionId': 1, 'messageId': 1, 'answer': '.', 'keywords': [], 'suggestQuestions': []})\n",
      "✅chunk from lang graph: ('custom', {'currentNode': 'generate', 'sessionId': 1, 'messageId': 1, 'answer': ' 아래', 'keywords': [], 'suggestQuestions': []})\n",
      "✅chunk from lang graph: ('custom', {'currentNode': 'generate', 'sessionId': 1, 'messageId': 1, 'answer': '는', 'keywords': [], 'suggestQuestions': []})\n",
      "✅chunk from lang graph: ('custom', {'currentNode': 'generate', 'sessionId': 1, 'messageId': 1, 'answer': ' Canon', 'keywords': [], 'suggestQuestions': []})\n",
      "✅chunk from lang graph: ('custom', {'currentNode': 'generate', 'sessionId': 1, 'messageId': 1, 'answer': ' M', 'keywords': [], 'suggestQuestions': []})\n",
      "✅chunk from lang graph: ('custom', {'currentNode': 'generate', 'sessionId': 1, 'messageId': 1, 'answer': '50', 'keywords': [], 'suggestQuestions': []})\n",
      "✅chunk from lang graph: ('custom', {'currentNode': 'generate', 'sessionId': 1, 'messageId': 1, 'answer': '과', 'keywords': [], 'suggestQuestions': []})\n",
      "✅chunk from lang graph: ('custom', {'currentNode': 'generate', 'sessionId': 1, 'messageId': 1, 'answer': ' R', 'keywords': [], 'suggestQuestions': []})\n",
      "✅chunk from lang graph: ('custom', {'currentNode': 'generate', 'sessionId': 1, 'messageId': 1, 'answer': '50', 'keywords': [], 'suggestQuestions': []})\n",
      "✅chunk from lang graph: ('custom', {'currentNode': 'generate', 'sessionId': 1, 'messageId': 1, 'answer': ' 모델', 'keywords': [], 'suggestQuestions': []})\n",
      "✅chunk from lang graph: ('custom', {'currentNode': 'generate', 'sessionId': 1, 'messageId': 1, 'answer': '에서', 'keywords': [], 'suggestQuestions': []})\n",
      "✅chunk from lang graph: ('custom', {'currentNode': 'generate', 'sessionId': 1, 'messageId': 1, 'answer': '의', 'keywords': [], 'suggestQuestions': []})\n",
      "✅chunk from lang graph: ('custom', {'currentNode': 'generate', 'sessionId': 1, 'messageId': 1, 'answer': ' 초', 'keywords': [], 'suggestQuestions': []})\n",
      "✅chunk from lang graph: ('custom', {'currentNode': 'generate', 'sessionId': 1, 'messageId': 1, 'answer': '점', 'keywords': [], 'suggestQuestions': []})\n",
      "✅chunk from lang graph: ('custom', {'currentNode': 'generate', 'sessionId': 1, 'messageId': 1, 'answer': ' 조', 'keywords': [], 'suggestQuestions': []})\n",
      "✅chunk from lang graph: ('custom', {'currentNode': 'generate', 'sessionId': 1, 'messageId': 1, 'answer': '절', 'keywords': [], 'suggestQuestions': []})\n",
      "✅chunk from lang graph: ('custom', {'currentNode': 'generate', 'sessionId': 1, 'messageId': 1, 'answer': ' 방법', 'keywords': [], 'suggestQuestions': []})\n",
      "✅chunk from lang graph: ('custom', {'currentNode': 'generate', 'sessionId': 1, 'messageId': 1, 'answer': '입니다', 'keywords': [], 'suggestQuestions': []})\n",
      "✅chunk from lang graph: ('custom', {'currentNode': 'generate', 'sessionId': 1, 'messageId': 1, 'answer': '.\\n\\n', 'keywords': [], 'suggestQuestions': []})\n",
      "✅chunk from lang graph: ('custom', {'currentNode': 'generate', 'sessionId': 1, 'messageId': 1, 'answer': '1', 'keywords': [], 'suggestQuestions': []})\n",
      "✅chunk from lang graph: ('custom', {'currentNode': 'generate', 'sessionId': 1, 'messageId': 1, 'answer': '.', 'keywords': [], 'suggestQuestions': []})\n",
      "✅chunk from lang graph: ('custom', {'currentNode': 'generate', 'sessionId': 1, 'messageId': 1, 'answer': ' **', 'keywords': [], 'suggestQuestions': []})\n",
      "✅chunk from lang graph: ('custom', {'currentNode': 'generate', 'sessionId': 1, 'messageId': 1, 'answer': 'Canon', 'keywords': [], 'suggestQuestions': []})\n",
      "✅chunk from lang graph: ('custom', {'currentNode': 'generate', 'sessionId': 1, 'messageId': 1, 'answer': ' M', 'keywords': [], 'suggestQuestions': []})\n",
      "✅chunk from lang graph: ('custom', {'currentNode': 'generate', 'sessionId': 1, 'messageId': 1, 'answer': '50', 'keywords': [], 'suggestQuestions': []})\n",
      "✅chunk from lang graph: ('custom', {'currentNode': 'generate', 'sessionId': 1, 'messageId': 1, 'answer': '**', 'keywords': [], 'suggestQuestions': []})\n",
      "✅chunk from lang graph: ('custom', {'currentNode': 'generate', 'sessionId': 1, 'messageId': 1, 'answer': ':\\n', 'keywords': [], 'suggestQuestions': []})\n",
      "✅chunk from lang graph: ('custom', {'currentNode': 'generate', 'sessionId': 1, 'messageId': 1, 'answer': '  ', 'keywords': [], 'suggestQuestions': []})\n",
      "✅chunk from lang graph: ('custom', {'currentNode': 'generate', 'sessionId': 1, 'messageId': 1, 'answer': ' -', 'keywords': [], 'suggestQuestions': []})\n",
      "✅chunk from lang graph: ('custom', {'currentNode': 'generate', 'sessionId': 1, 'messageId': 1, 'answer': ' 수', 'keywords': [], 'suggestQuestions': []})\n",
      "✅chunk from lang graph: ('custom', {'currentNode': 'generate', 'sessionId': 1, 'messageId': 1, 'answer': '동', 'keywords': [], 'suggestQuestions': []})\n",
      "✅chunk from lang graph: ('custom', {'currentNode': 'generate', 'sessionId': 1, 'messageId': 1, 'answer': ' 초', 'keywords': [], 'suggestQuestions': []})\n",
      "✅chunk from lang graph: ('custom', {'currentNode': 'generate', 'sessionId': 1, 'messageId': 1, 'answer': '점', 'keywords': [], 'suggestQuestions': []})\n",
      "✅chunk from lang graph: ('custom', {'currentNode': 'generate', 'sessionId': 1, 'messageId': 1, 'answer': '으로', 'keywords': [], 'suggestQuestions': []})\n",
      "✅chunk from lang graph: ('custom', {'currentNode': 'generate', 'sessionId': 1, 'messageId': 1, 'answer': ' 전', 'keywords': [], 'suggestQuestions': []})\n",
      "✅chunk from lang graph: ('custom', {'currentNode': 'generate', 'sessionId': 1, 'messageId': 1, 'answer': '환', 'keywords': [], 'suggestQuestions': []})\n",
      "✅chunk from lang graph: ('custom', {'currentNode': 'generate', 'sessionId': 1, 'messageId': 1, 'answer': '하려', 'keywords': [], 'suggestQuestions': []})\n",
      "✅chunk from lang graph: ('custom', {'currentNode': 'generate', 'sessionId': 1, 'messageId': 1, 'answer': '면', 'keywords': [], 'suggestQuestions': []})\n",
      "✅chunk from lang graph: ('custom', {'currentNode': 'generate', 'sessionId': 1, 'messageId': 1, 'answer': ' 렌', 'keywords': [], 'suggestQuestions': []})\n",
      "✅chunk from lang graph: ('custom', {'currentNode': 'generate', 'sessionId': 1, 'messageId': 1, 'answer': '즈', 'keywords': [], 'suggestQuestions': []})\n",
      "✅chunk from lang graph: ('custom', {'currentNode': 'generate', 'sessionId': 1, 'messageId': 1, 'answer': '의', 'keywords': [], 'suggestQuestions': []})\n",
      "✅chunk from lang graph: ('custom', {'currentNode': 'generate', 'sessionId': 1, 'messageId': 1, 'answer': ' 포', 'keywords': [], 'suggestQuestions': []})\n",
      "✅chunk from lang graph: ('custom', {'currentNode': 'generate', 'sessionId': 1, 'messageId': 1, 'answer': '커', 'keywords': [], 'suggestQuestions': []})\n",
      "✅chunk from lang graph: ('custom', {'currentNode': 'generate', 'sessionId': 1, 'messageId': 1, 'answer': '싱', 'keywords': [], 'suggestQuestions': []})\n",
      "✅chunk from lang graph: ('custom', {'currentNode': 'generate', 'sessionId': 1, 'messageId': 1, 'answer': ' 링', 'keywords': [], 'suggestQuestions': []})\n",
      "✅chunk from lang graph: ('custom', {'currentNode': 'generate', 'sessionId': 1, 'messageId': 1, 'answer': '을', 'keywords': [], 'suggestQuestions': []})\n",
      "✅chunk from lang graph: ('custom', {'currentNode': 'generate', 'sessionId': 1, 'messageId': 1, 'answer': ' 돌', 'keywords': [], 'suggestQuestions': []})\n",
      "✅chunk from lang graph: ('custom', {'currentNode': 'generate', 'sessionId': 1, 'messageId': 1, 'answer': '려', 'keywords': [], 'suggestQuestions': []})\n",
      "✅chunk from lang graph: ('custom', {'currentNode': 'generate', 'sessionId': 1, 'messageId': 1, 'answer': ' 대', 'keywords': [], 'suggestQuestions': []})\n",
      "✅chunk from lang graph: ('custom', {'currentNode': 'generate', 'sessionId': 1, 'messageId': 1, 'answer': '략', 'keywords': [], 'suggestQuestions': []})\n",
      "✅chunk from lang graph: ('custom', {'currentNode': 'generate', 'sessionId': 1, 'messageId': 1, 'answer': '적인', 'keywords': [], 'suggestQuestions': []})\n",
      "✅chunk from lang graph: ('custom', {'currentNode': 'generate', 'sessionId': 1, 'messageId': 1, 'answer': ' 초', 'keywords': [], 'suggestQuestions': []})\n",
      "✅chunk from lang graph: ('custom', {'currentNode': 'generate', 'sessionId': 1, 'messageId': 1, 'answer': '점을', 'keywords': [], 'suggestQuestions': []})\n",
      "✅chunk from lang graph: ('custom', {'currentNode': 'generate', 'sessionId': 1, 'messageId': 1, 'answer': ' 설정', 'keywords': [], 'suggestQuestions': []})\n",
      "✅chunk from lang graph: ('custom', {'currentNode': 'generate', 'sessionId': 1, 'messageId': 1, 'answer': '합니다', 'keywords': [], 'suggestQuestions': []})\n",
      "✅chunk from lang graph: ('custom', {'currentNode': 'generate', 'sessionId': 1, 'messageId': 1, 'answer': '.', 'keywords': [], 'suggestQuestions': []})\n",
      "✅chunk from lang graph: ('custom', {'currentNode': 'generate', 'sessionId': 1, 'messageId': 1, 'answer': ' [', 'keywords': [], 'suggestQuestions': []})\n",
      "✅chunk from lang graph: ('custom', {'currentNode': 'generate', 'sessionId': 1, 'messageId': 1, 'answer': 'image', 'keywords': [], 'suggestQuestions': []})\n",
      "✅chunk from lang graph: ('custom', {'currentNode': 'generate', 'sessionId': 1, 'messageId': 1, 'answer': ':', 'keywords': [], 'suggestQuestions': []})\n",
      "✅chunk from lang graph: ('custom', {'currentNode': 'generate', 'sessionId': 1, 'messageId': 1, 'answer': ' /', 'keywords': [], 'suggestQuestions': []})\n",
      "✅chunk from lang graph: ('custom', {'currentNode': 'generate', 'sessionId': 1, 'messageId': 1, 'answer': 'Users', 'keywords': [], 'suggestQuestions': []})\n",
      "✅chunk from lang graph: ('custom', {'currentNode': 'generate', 'sessionId': 1, 'messageId': 1, 'answer': '/', 'keywords': [], 'suggestQuestions': []})\n",
      "✅chunk from lang graph: ('custom', {'currentNode': 'generate', 'sessionId': 1, 'messageId': 1, 'answer': 'yo', 'keywords': [], 'suggestQuestions': []})\n",
      "✅chunk from lang graph: ('custom', {'currentNode': 'generate', 'sessionId': 1, 'messageId': 1, 'answer': 'e', 'keywords': [], 'suggestQuestions': []})\n",
      "✅chunk from lang graph: ('custom', {'currentNode': 'generate', 'sessionId': 1, 'messageId': 1, 'answer': 'un', 'keywords': [], 'suggestQuestions': []})\n",
      "✅chunk from lang graph: ('custom', {'currentNode': 'generate', 'sessionId': 1, 'messageId': 1, 'answer': '/', 'keywords': [], 'suggestQuestions': []})\n",
      "✅chunk from lang graph: ('custom', {'currentNode': 'generate', 'sessionId': 1, 'messageId': 1, 'answer': 'Library', 'keywords': [], 'suggestQuestions': []})\n",
      "✅chunk from lang graph: ('custom', {'currentNode': 'generate', 'sessionId': 1, 'messageId': 1, 'answer': '/M', 'keywords': [], 'suggestQuestions': []})\n",
      "✅chunk from lang graph: ('custom', {'currentNode': 'generate', 'sessionId': 1, 'messageId': 1, 'answer': 'obile', 'keywords': [], 'suggestQuestions': []})\n",
      "✅chunk from lang graph: ('custom', {'currentNode': 'generate', 'sessionId': 1, 'messageId': 1, 'answer': ' Documents', 'keywords': [], 'suggestQuestions': []})\n",
      "✅chunk from lang graph: ('custom', {'currentNode': 'generate', 'sessionId': 1, 'messageId': 1, 'answer': '/com', 'keywords': [], 'suggestQuestions': []})\n",
      "✅chunk from lang graph: ('custom', {'currentNode': 'generate', 'sessionId': 1, 'messageId': 1, 'answer': '~', 'keywords': [], 'suggestQuestions': []})\n",
      "✅chunk from lang graph: ('custom', {'currentNode': 'generate', 'sessionId': 1, 'messageId': 1, 'answer': 'apple', 'keywords': [], 'suggestQuestions': []})\n",
      "✅chunk from lang graph: ('custom', {'currentNode': 'generate', 'sessionId': 1, 'messageId': 1, 'answer': '~', 'keywords': [], 'suggestQuestions': []})\n",
      "✅chunk from lang graph: ('custom', {'currentNode': 'generate', 'sessionId': 1, 'messageId': 1, 'answer': 'Cloud', 'keywords': [], 'suggestQuestions': []})\n",
      "✅chunk from lang graph: ('custom', {'currentNode': 'generate', 'sessionId': 1, 'messageId': 1, 'answer': 'Docs', 'keywords': [], 'suggestQuestions': []})\n",
      "✅chunk from lang graph: ('custom', {'currentNode': 'generate', 'sessionId': 1, 'messageId': 1, 'answer': '/github', 'keywords': [], 'suggestQuestions': []})\n",
      "✅chunk from lang graph: ('custom', {'currentNode': 'generate', 'sessionId': 1, 'messageId': 1, 'answer': '/', 'keywords': [], 'suggestQuestions': []})\n",
      "✅chunk from lang graph: ('custom', {'currentNode': 'generate', 'sessionId': 1, 'messageId': 1, 'answer': 'FINAL', 'keywords': [], 'suggestQuestions': []})\n",
      "✅chunk from lang graph: ('custom', {'currentNode': 'generate', 'sessionId': 1, 'messageId': 1, 'answer': ' Project', 'keywords': [], 'suggestQuestions': []})\n",
      "✅chunk from lang graph: ('custom', {'currentNode': 'generate', 'sessionId': 1, 'messageId': 1, 'answer': '/', 'keywords': [], 'suggestQuestions': []})\n",
      "✅chunk from lang graph: ('custom', {'currentNode': 'generate', 'sessionId': 1, 'messageId': 1, 'answer': 'parse', 'keywords': [], 'suggestQuestions': []})\n",
      "✅chunk from lang graph: ('custom', {'currentNode': 'generate', 'sessionId': 1, 'messageId': 1, 'answer': '&', 'keywords': [], 'suggestQuestions': []})\n",
      "✅chunk from lang graph: ('custom', {'currentNode': 'generate', 'sessionId': 1, 'messageId': 1, 'answer': 'chunk', 'keywords': [], 'suggestQuestions': []})\n",
      "✅chunk from lang graph: ('custom', {'currentNode': 'generate', 'sessionId': 1, 'messageId': 1, 'answer': '/data', 'keywords': [], 'suggestQuestions': []})\n",
      "✅chunk from lang graph: ('custom', {'currentNode': 'generate', 'sessionId': 1, 'messageId': 1, 'answer': '/image', 'keywords': [], 'suggestQuestions': []})\n",
      "✅chunk from lang graph: ('custom', {'currentNode': 'generate', 'sessionId': 1, 'messageId': 1, 'answer': '/m', 'keywords': [], 'suggestQuestions': []})\n",
      "✅chunk from lang graph: ('custom', {'currentNode': 'generate', 'sessionId': 1, 'messageId': 1, 'answer': '50', 'keywords': [], 'suggestQuestions': []})\n",
      "✅chunk from lang graph: ('custom', {'currentNode': 'generate', 'sessionId': 1, 'messageId': 1, 'answer': '/m', 'keywords': [], 'suggestQuestions': []})\n",
      "✅chunk from lang graph: ('custom', {'currentNode': 'generate', 'sessionId': 1, 'messageId': 1, 'answer': '50', 'keywords': [], 'suggestQuestions': []})\n",
      "✅chunk from lang graph: ('custom', {'currentNode': 'generate', 'sessionId': 1, 'messageId': 1, 'answer': '_page', 'keywords': [], 'suggestQuestions': []})\n",
      "✅chunk from lang graph: ('custom', {'currentNode': 'generate', 'sessionId': 1, 'messageId': 1, 'answer': '_', 'keywords': [], 'suggestQuestions': []})\n",
      "✅chunk from lang graph: ('custom', {'currentNode': 'generate', 'sessionId': 1, 'messageId': 1, 'answer': '155', 'keywords': [], 'suggestQuestions': []})\n",
      "✅chunk from lang graph: ('custom', {'currentNode': 'generate', 'sessionId': 1, 'messageId': 1, 'answer': '_', 'keywords': [], 'suggestQuestions': []})\n",
      "✅chunk from lang graph: ('custom', {'currentNode': 'generate', 'sessionId': 1, 'messageId': 1, 'answer': '1', 'keywords': [], 'suggestQuestions': []})\n",
      "✅chunk from lang graph: ('custom', {'currentNode': 'generate', 'sessionId': 1, 'messageId': 1, 'answer': '.png', 'keywords': [], 'suggestQuestions': []})\n",
      "✅chunk from lang graph: ('custom', {'currentNode': 'generate', 'sessionId': 1, 'messageId': 1, 'answer': ']\\n', 'keywords': [], 'suggestQuestions': []})\n",
      "✅chunk from lang graph: ('custom', {'currentNode': 'generate', 'sessionId': 1, 'messageId': 1, 'answer': '   \\n', 'keywords': [], 'suggestQuestions': []})\n",
      "✅chunk from lang graph: ('custom', {'currentNode': 'generate', 'sessionId': 1, 'messageId': 1, 'answer': '2', 'keywords': [], 'suggestQuestions': []})\n",
      "✅chunk from lang graph: ('custom', {'currentNode': 'generate', 'sessionId': 1, 'messageId': 1, 'answer': '.', 'keywords': [], 'suggestQuestions': []})\n",
      "✅chunk from lang graph: ('custom', {'currentNode': 'generate', 'sessionId': 1, 'messageId': 1, 'answer': ' **', 'keywords': [], 'suggestQuestions': []})\n",
      "✅chunk from lang graph: ('custom', {'currentNode': 'generate', 'sessionId': 1, 'messageId': 1, 'answer': 'Canon', 'keywords': [], 'suggestQuestions': []})\n",
      "✅chunk from lang graph: ('custom', {'currentNode': 'generate', 'sessionId': 1, 'messageId': 1, 'answer': ' R', 'keywords': [], 'suggestQuestions': []})\n",
      "✅chunk from lang graph: ('custom', {'currentNode': 'generate', 'sessionId': 1, 'messageId': 1, 'answer': '50', 'keywords': [], 'suggestQuestions': []})\n",
      "✅chunk from lang graph: ('custom', {'currentNode': 'generate', 'sessionId': 1, 'messageId': 1, 'answer': '**', 'keywords': [], 'suggestQuestions': []})\n",
      "✅chunk from lang graph: ('custom', {'currentNode': 'generate', 'sessionId': 1, 'messageId': 1, 'answer': ':\\n', 'keywords': [], 'suggestQuestions': []})\n",
      "✅chunk from lang graph: ('custom', {'currentNode': 'generate', 'sessionId': 1, 'messageId': 1, 'answer': '  ', 'keywords': [], 'suggestQuestions': []})\n",
      "✅chunk from lang graph: ('custom', {'currentNode': 'generate', 'sessionId': 1, 'messageId': 1, 'answer': ' -', 'keywords': [], 'suggestQuestions': []})\n",
      "✅chunk from lang graph: ('custom', {'currentNode': 'generate', 'sessionId': 1, 'messageId': 1, 'answer': ' 확대', 'keywords': [], 'suggestQuestions': []})\n",
      "✅chunk from lang graph: ('custom', {'currentNode': 'generate', 'sessionId': 1, 'messageId': 1, 'answer': '된', 'keywords': [], 'suggestQuestions': []})\n",
      "✅chunk from lang graph: ('custom', {'currentNode': 'generate', 'sessionId': 1, 'messageId': 1, 'answer': ' 이미', 'keywords': [], 'suggestQuestions': []})\n",
      "✅chunk from lang graph: ('custom', {'currentNode': 'generate', 'sessionId': 1, 'messageId': 1, 'answer': '지를', 'keywords': [], 'suggestQuestions': []})\n",
      "✅chunk from lang graph: ('custom', {'currentNode': 'generate', 'sessionId': 1, 'messageId': 1, 'answer': ' 보', 'keywords': [], 'suggestQuestions': []})\n",
      "✅chunk from lang graph: ('custom', {'currentNode': 'generate', 'sessionId': 1, 'messageId': 1, 'answer': '면서', 'keywords': [], 'suggestQuestions': []})\n",
      "✅chunk from lang graph: ('custom', {'currentNode': 'generate', 'sessionId': 1, 'messageId': 1, 'answer': ' 렌', 'keywords': [], 'suggestQuestions': []})\n",
      "✅chunk from lang graph: ('custom', {'currentNode': 'generate', 'sessionId': 1, 'messageId': 1, 'answer': '즈', 'keywords': [], 'suggestQuestions': []})\n",
      "✅chunk from lang graph: ('custom', {'currentNode': 'generate', 'sessionId': 1, 'messageId': 1, 'answer': ' 포', 'keywords': [], 'suggestQuestions': []})\n",
      "✅chunk from lang graph: ('custom', {'currentNode': 'generate', 'sessionId': 1, 'messageId': 1, 'answer': '커', 'keywords': [], 'suggestQuestions': []})\n",
      "✅chunk from lang graph: ('custom', {'currentNode': 'generate', 'sessionId': 1, 'messageId': 1, 'answer': '싱', 'keywords': [], 'suggestQuestions': []})\n",
      "✅chunk from lang graph: ('custom', {'currentNode': 'generate', 'sessionId': 1, 'messageId': 1, 'answer': ' 링', 'keywords': [], 'suggestQuestions': []})\n",
      "✅chunk from lang graph: ('custom', {'currentNode': 'generate', 'sessionId': 1, 'messageId': 1, 'answer': '을', 'keywords': [], 'suggestQuestions': []})\n",
      "✅chunk from lang graph: ('custom', {'currentNode': 'generate', 'sessionId': 1, 'messageId': 1, 'answer': ' 돌', 'keywords': [], 'suggestQuestions': []})\n",
      "✅chunk from lang graph: ('custom', {'currentNode': 'generate', 'sessionId': 1, 'messageId': 1, 'answer': '려', 'keywords': [], 'suggestQuestions': []})\n",
      "✅chunk from lang graph: ('custom', {'currentNode': 'generate', 'sessionId': 1, 'messageId': 1, 'answer': ' 초', 'keywords': [], 'suggestQuestions': []})\n",
      "✅chunk from lang graph: ('custom', {'currentNode': 'generate', 'sessionId': 1, 'messageId': 1, 'answer': '점을', 'keywords': [], 'suggestQuestions': []})\n",
      "✅chunk from lang graph: ('custom', {'currentNode': 'generate', 'sessionId': 1, 'messageId': 1, 'answer': ' 맞', 'keywords': [], 'suggestQuestions': []})\n",
      "✅chunk from lang graph: ('custom', {'currentNode': 'generate', 'sessionId': 1, 'messageId': 1, 'answer': '추', 'keywords': [], 'suggestQuestions': []})\n",
      "✅chunk from lang graph: ('custom', {'currentNode': 'generate', 'sessionId': 1, 'messageId': 1, 'answer': '십시오', 'keywords': [], 'suggestQuestions': []})\n",
      "✅chunk from lang graph: ('custom', {'currentNode': 'generate', 'sessionId': 1, 'messageId': 1, 'answer': '.', 'keywords': [], 'suggestQuestions': []})\n",
      "✅chunk from lang graph: ('custom', {'currentNode': 'generate', 'sessionId': 1, 'messageId': 1, 'answer': ' 초', 'keywords': [], 'suggestQuestions': []})\n",
      "✅chunk from lang graph: ('custom', {'currentNode': 'generate', 'sessionId': 1, 'messageId': 1, 'answer': '점을', 'keywords': [], 'suggestQuestions': []})\n",
      "✅chunk from lang graph: ('custom', {'currentNode': 'generate', 'sessionId': 1, 'messageId': 1, 'answer': ' 맞', 'keywords': [], 'suggestQuestions': []})\n",
      "✅chunk from lang graph: ('custom', {'currentNode': 'generate', 'sessionId': 1, 'messageId': 1, 'answer': '춘', 'keywords': [], 'suggestQuestions': []})\n",
      "✅chunk from lang graph: ('custom', {'currentNode': 'generate', 'sessionId': 1, 'messageId': 1, 'answer': ' 후', 'keywords': [], 'suggestQuestions': []})\n",
      "✅chunk from lang graph: ('custom', {'currentNode': 'generate', 'sessionId': 1, 'messageId': 1, 'answer': '에는', 'keywords': [], 'suggestQuestions': []})\n",
      "✅chunk from lang graph: ('custom', {'currentNode': 'generate', 'sessionId': 1, 'messageId': 1, 'answer': ' 버튼', 'keywords': [], 'suggestQuestions': []})\n",
      "✅chunk from lang graph: ('custom', {'currentNode': 'generate', 'sessionId': 1, 'messageId': 1, 'answer': '을', 'keywords': [], 'suggestQuestions': []})\n",
      "✅chunk from lang graph: ('custom', {'currentNode': 'generate', 'sessionId': 1, 'messageId': 1, 'answer': ' 눌', 'keywords': [], 'suggestQuestions': []})\n",
      "✅chunk from lang graph: ('custom', {'currentNode': 'generate', 'sessionId': 1, 'messageId': 1, 'answer': '러', 'keywords': [], 'suggestQuestions': []})\n",
      "✅chunk from lang graph: ('custom', {'currentNode': 'generate', 'sessionId': 1, 'messageId': 1, 'answer': ' 일반', 'keywords': [], 'suggestQuestions': []})\n",
      "✅chunk from lang graph: ('custom', {'currentNode': 'generate', 'sessionId': 1, 'messageId': 1, 'answer': ' 보기', 'keywords': [], 'suggestQuestions': []})\n",
      "✅chunk from lang graph: ('custom', {'currentNode': 'generate', 'sessionId': 1, 'messageId': 1, 'answer': '로', 'keywords': [], 'suggestQuestions': []})\n",
      "✅chunk from lang graph: ('custom', {'currentNode': 'generate', 'sessionId': 1, 'messageId': 1, 'answer': ' 돌아', 'keywords': [], 'suggestQuestions': []})\n",
      "✅chunk from lang graph: ('custom', {'currentNode': 'generate', 'sessionId': 1, 'messageId': 1, 'answer': '갈', 'keywords': [], 'suggestQuestions': []})\n",
      "✅chunk from lang graph: ('custom', {'currentNode': 'generate', 'sessionId': 1, 'messageId': 1, 'answer': ' 수', 'keywords': [], 'suggestQuestions': []})\n",
      "✅chunk from lang graph: ('custom', {'currentNode': 'generate', 'sessionId': 1, 'messageId': 1, 'answer': ' 있습니다', 'keywords': [], 'suggestQuestions': []})\n",
      "✅chunk from lang graph: ('custom', {'currentNode': 'generate', 'sessionId': 1, 'messageId': 1, 'answer': '.', 'keywords': [], 'suggestQuestions': []})\n",
      "✅chunk from lang graph: ('custom', {'currentNode': 'generate', 'sessionId': 1, 'messageId': 1, 'answer': ' [', 'keywords': [], 'suggestQuestions': []})\n",
      "✅chunk from lang graph: ('custom', {'currentNode': 'generate', 'sessionId': 1, 'messageId': 1, 'answer': 'image', 'keywords': [], 'suggestQuestions': []})\n",
      "✅chunk from lang graph: ('custom', {'currentNode': 'generate', 'sessionId': 1, 'messageId': 1, 'answer': ':', 'keywords': [], 'suggestQuestions': []})\n",
      "✅chunk from lang graph: ('custom', {'currentNode': 'generate', 'sessionId': 1, 'messageId': 1, 'answer': ' /', 'keywords': [], 'suggestQuestions': []})\n",
      "✅chunk from lang graph: ('custom', {'currentNode': 'generate', 'sessionId': 1, 'messageId': 1, 'answer': 'Users', 'keywords': [], 'suggestQuestions': []})\n",
      "✅chunk from lang graph: ('custom', {'currentNode': 'generate', 'sessionId': 1, 'messageId': 1, 'answer': '/', 'keywords': [], 'suggestQuestions': []})\n",
      "✅chunk from lang graph: ('custom', {'currentNode': 'generate', 'sessionId': 1, 'messageId': 1, 'answer': 'yo', 'keywords': [], 'suggestQuestions': []})\n",
      "✅chunk from lang graph: ('custom', {'currentNode': 'generate', 'sessionId': 1, 'messageId': 1, 'answer': 'e', 'keywords': [], 'suggestQuestions': []})\n",
      "✅chunk from lang graph: ('custom', {'currentNode': 'generate', 'sessionId': 1, 'messageId': 1, 'answer': 'un', 'keywords': [], 'suggestQuestions': []})\n",
      "✅chunk from lang graph: ('custom', {'currentNode': 'generate', 'sessionId': 1, 'messageId': 1, 'answer': '/', 'keywords': [], 'suggestQuestions': []})\n",
      "✅chunk from lang graph: ('custom', {'currentNode': 'generate', 'sessionId': 1, 'messageId': 1, 'answer': 'Library', 'keywords': [], 'suggestQuestions': []})\n",
      "✅chunk from lang graph: ('custom', {'currentNode': 'generate', 'sessionId': 1, 'messageId': 1, 'answer': '/M', 'keywords': [], 'suggestQuestions': []})\n",
      "✅chunk from lang graph: ('custom', {'currentNode': 'generate', 'sessionId': 1, 'messageId': 1, 'answer': 'obile', 'keywords': [], 'suggestQuestions': []})\n",
      "✅chunk from lang graph: ('custom', {'currentNode': 'generate', 'sessionId': 1, 'messageId': 1, 'answer': ' Documents', 'keywords': [], 'suggestQuestions': []})\n",
      "✅chunk from lang graph: ('custom', {'currentNode': 'generate', 'sessionId': 1, 'messageId': 1, 'answer': '/com', 'keywords': [], 'suggestQuestions': []})\n",
      "✅chunk from lang graph: ('custom', {'currentNode': 'generate', 'sessionId': 1, 'messageId': 1, 'answer': '~', 'keywords': [], 'suggestQuestions': []})\n",
      "✅chunk from lang graph: ('custom', {'currentNode': 'generate', 'sessionId': 1, 'messageId': 1, 'answer': 'apple', 'keywords': [], 'suggestQuestions': []})\n",
      "✅chunk from lang graph: ('custom', {'currentNode': 'generate', 'sessionId': 1, 'messageId': 1, 'answer': '~', 'keywords': [], 'suggestQuestions': []})\n",
      "✅chunk from lang graph: ('custom', {'currentNode': 'generate', 'sessionId': 1, 'messageId': 1, 'answer': 'Cloud', 'keywords': [], 'suggestQuestions': []})\n",
      "✅chunk from lang graph: ('custom', {'currentNode': 'generate', 'sessionId': 1, 'messageId': 1, 'answer': 'Docs', 'keywords': [], 'suggestQuestions': []})\n",
      "✅chunk from lang graph: ('custom', {'currentNode': 'generate', 'sessionId': 1, 'messageId': 1, 'answer': '/github', 'keywords': [], 'suggestQuestions': []})\n",
      "✅chunk from lang graph: ('custom', {'currentNode': 'generate', 'sessionId': 1, 'messageId': 1, 'answer': '/', 'keywords': [], 'suggestQuestions': []})\n",
      "✅chunk from lang graph: ('custom', {'currentNode': 'generate', 'sessionId': 1, 'messageId': 1, 'answer': 'FINAL', 'keywords': [], 'suggestQuestions': []})\n",
      "✅chunk from lang graph: ('custom', {'currentNode': 'generate', 'sessionId': 1, 'messageId': 1, 'answer': ' Project', 'keywords': [], 'suggestQuestions': []})\n",
      "✅chunk from lang graph: ('custom', {'currentNode': 'generate', 'sessionId': 1, 'messageId': 1, 'answer': '/', 'keywords': [], 'suggestQuestions': []})\n",
      "✅chunk from lang graph: ('custom', {'currentNode': 'generate', 'sessionId': 1, 'messageId': 1, 'answer': 'parse', 'keywords': [], 'suggestQuestions': []})\n",
      "✅chunk from lang graph: ('custom', {'currentNode': 'generate', 'sessionId': 1, 'messageId': 1, 'answer': '&', 'keywords': [], 'suggestQuestions': []})\n",
      "✅chunk from lang graph: ('custom', {'currentNode': 'generate', 'sessionId': 1, 'messageId': 1, 'answer': 'chunk', 'keywords': [], 'suggestQuestions': []})\n",
      "✅chunk from lang graph: ('custom', {'currentNode': 'generate', 'sessionId': 1, 'messageId': 1, 'answer': '/data', 'keywords': [], 'suggestQuestions': []})\n",
      "✅chunk from lang graph: ('custom', {'currentNode': 'generate', 'sessionId': 1, 'messageId': 1, 'answer': '/image', 'keywords': [], 'suggestQuestions': []})\n",
      "✅chunk from lang graph: ('custom', {'currentNode': 'generate', 'sessionId': 1, 'messageId': 1, 'answer': '/r', 'keywords': [], 'suggestQuestions': []})\n",
      "✅chunk from lang graph: ('custom', {'currentNode': 'generate', 'sessionId': 1, 'messageId': 1, 'answer': '50', 'keywords': [], 'suggestQuestions': []})\n",
      "✅chunk from lang graph: ('custom', {'currentNode': 'generate', 'sessionId': 1, 'messageId': 1, 'answer': '/r', 'keywords': [], 'suggestQuestions': []})\n",
      "✅chunk from lang graph: ('custom', {'currentNode': 'generate', 'sessionId': 1, 'messageId': 1, 'answer': '50', 'keywords': [], 'suggestQuestions': []})\n",
      "✅chunk from lang graph: ('custom', {'currentNode': 'generate', 'sessionId': 1, 'messageId': 1, 'answer': '_page', 'keywords': [], 'suggestQuestions': []})\n",
      "✅chunk from lang graph: ('custom', {'currentNode': 'generate', 'sessionId': 1, 'messageId': 1, 'answer': '_', 'keywords': [], 'suggestQuestions': []})\n",
      "✅chunk from lang graph: ('custom', {'currentNode': 'generate', 'sessionId': 1, 'messageId': 1, 'answer': '420', 'keywords': [], 'suggestQuestions': []})\n",
      "✅chunk from lang graph: ('custom', {'currentNode': 'generate', 'sessionId': 1, 'messageId': 1, 'answer': '_', 'keywords': [], 'suggestQuestions': []})\n",
      "✅chunk from lang graph: ('custom', {'currentNode': 'generate', 'sessionId': 1, 'messageId': 1, 'answer': '1', 'keywords': [], 'suggestQuestions': []})\n",
      "✅chunk from lang graph: ('custom', {'currentNode': 'generate', 'sessionId': 1, 'messageId': 1, 'answer': '.png', 'keywords': [], 'suggestQuestions': []})\n",
      "✅chunk from lang graph: ('custom', {'currentNode': 'generate', 'sessionId': 1, 'messageId': 1, 'answer': ']\\n\\n', 'keywords': [], 'suggestQuestions': []})\n",
      "✅chunk from lang graph: ('custom', {'currentNode': 'generate', 'sessionId': 1, 'messageId': 1, 'answer': '각', 'keywords': [], 'suggestQuestions': []})\n",
      "✅chunk from lang graph: ('custom', {'currentNode': 'generate', 'sessionId': 1, 'messageId': 1, 'answer': ' 모델', 'keywords': [], 'suggestQuestions': []})\n",
      "✅chunk from lang graph: ('custom', {'currentNode': 'generate', 'sessionId': 1, 'messageId': 1, 'answer': '의', 'keywords': [], 'suggestQuestions': []})\n",
      "✅chunk from lang graph: ('custom', {'currentNode': 'generate', 'sessionId': 1, 'messageId': 1, 'answer': ' 초', 'keywords': [], 'suggestQuestions': []})\n",
      "✅chunk from lang graph: ('custom', {'currentNode': 'generate', 'sessionId': 1, 'messageId': 1, 'answer': '점', 'keywords': [], 'suggestQuestions': []})\n",
      "✅chunk from lang graph: ('custom', {'currentNode': 'generate', 'sessionId': 1, 'messageId': 1, 'answer': ' 모', 'keywords': [], 'suggestQuestions': []})\n",
      "✅chunk from lang graph: ('custom', {'currentNode': 'generate', 'sessionId': 1, 'messageId': 1, 'answer': '드', 'keywords': [], 'suggestQuestions': []})\n",
      "✅chunk from lang graph: ('custom', {'currentNode': 'generate', 'sessionId': 1, 'messageId': 1, 'answer': ' 설정', 'keywords': [], 'suggestQuestions': []})\n",
      "✅chunk from lang graph: ('custom', {'currentNode': 'generate', 'sessionId': 1, 'messageId': 1, 'answer': ' 방법', 'keywords': [], 'suggestQuestions': []})\n",
      "✅chunk from lang graph: ('custom', {'currentNode': 'generate', 'sessionId': 1, 'messageId': 1, 'answer': '도', 'keywords': [], 'suggestQuestions': []})\n",
      "✅chunk from lang graph: ('custom', {'currentNode': 'generate', 'sessionId': 1, 'messageId': 1, 'answer': ' 참고', 'keywords': [], 'suggestQuestions': []})\n",
      "✅chunk from lang graph: ('custom', {'currentNode': 'generate', 'sessionId': 1, 'messageId': 1, 'answer': '하시', 'keywords': [], 'suggestQuestions': []})\n",
      "✅chunk from lang graph: ('custom', {'currentNode': 'generate', 'sessionId': 1, 'messageId': 1, 'answer': '기', 'keywords': [], 'suggestQuestions': []})\n",
      "✅chunk from lang graph: ('custom', {'currentNode': 'generate', 'sessionId': 1, 'messageId': 1, 'answer': ' 바랍니다', 'keywords': [], 'suggestQuestions': []})\n",
      "✅chunk from lang graph: ('custom', {'currentNode': 'generate', 'sessionId': 1, 'messageId': 1, 'answer': '.', 'keywords': [], 'suggestQuestions': []})\n",
      "✅chunk from lang graph: ('custom', {'currentNode': 'generate', 'sessionId': 1, 'messageId': 1, 'answer': '', 'keywords': [], 'suggestQuestions': []})\n"
     ]
    },
    {
     "data": {
      "text/html": [
       "<pre style=\"white-space:pre;overflow-x:auto;line-height:normal;font-family:Menlo,'DejaVu Sans Mono',consolas,'Courier New',monospace\"><span style=\"color: #7fbfbf; text-decoration-color: #7fbfbf\">[02/09/25 04:03:19] </span><span style=\"color: #000080; text-decoration-color: #000080\">INFO    </span> <span style=\"font-weight: bold\">[</span>_client.py:<span style=\"color: #008080; text-decoration-color: #008080; font-weight: bold\">1026</span><span style=\"font-weight: bold\">]</span> &gt;&gt; HTTP Request: <span style=\"color: #808000; text-decoration-color: #808000; font-weight: bold\">POST</span>                                <a href=\"file:///home/jeongho/git/SKN05-FINAL-1TEAM/jeongho/RAG_env/lib/python3.12/site-packages/httpx/_client.py\" target=\"_blank\"><span style=\"color: #7f7f7f; text-decoration-color: #7f7f7f\">_client.py</span></a><span style=\"color: #7f7f7f; text-decoration-color: #7f7f7f\">:</span><a href=\"file:///home/jeongho/git/SKN05-FINAL-1TEAM/jeongho/RAG_env/lib/python3.12/site-packages/httpx/_client.py#1026\" target=\"_blank\"><span style=\"color: #7f7f7f; text-decoration-color: #7f7f7f\">1026</span></a>\n",
       "<span style=\"color: #7fbfbf; text-decoration-color: #7fbfbf\">                    </span>         <span style=\"color: #0000ff; text-decoration-color: #0000ff; text-decoration: underline\">https://api.upstage.ai/v1/solar/chat/completions</span> <span style=\"color: #008000; text-decoration-color: #008000\">\"HTTP/1.1 200 OK\"</span>     <span style=\"color: #7f7f7f; text-decoration-color: #7f7f7f\">               </span>\n",
       "</pre>\n"
      ],
      "text/plain": [
       "\u001b[2;36m[02/09/25 04:03:19]\u001b[0m\u001b[2;36m \u001b[0m\u001b[34mINFO    \u001b[0m \u001b[1m[\u001b[0m_client.py:\u001b[1;36m1026\u001b[0m\u001b[1m]\u001b[0m >> HTTP Request: \u001b[1;33mPOST\u001b[0m                                \u001b]8;id=607108;file:///home/jeongho/git/SKN05-FINAL-1TEAM/jeongho/RAG_env/lib/python3.12/site-packages/httpx/_client.py\u001b\\\u001b[2m_client.py\u001b[0m\u001b]8;;\u001b\\\u001b[2m:\u001b[0m\u001b]8;id=426603;file:///home/jeongho/git/SKN05-FINAL-1TEAM/jeongho/RAG_env/lib/python3.12/site-packages/httpx/_client.py#1026\u001b\\\u001b[2m1026\u001b[0m\u001b]8;;\u001b\\\n",
       "\u001b[2;36m                    \u001b[0m         \u001b[4;94mhttps://api.upstage.ai/v1/solar/chat/completions\u001b[0m \u001b[32m\"HTTP/1.1 200 OK\"\u001b[0m     \u001b[2m               \u001b[0m\n"
      ]
     },
     "metadata": {},
     "output_type": "display_data"
    },
    {
     "name": "stdout",
     "output_type": "stream",
     "text": [
      "grounded\n",
      "---KEYWORD EXTRACT---\n"
     ]
    },
    {
     "data": {
      "text/html": [
       "<pre style=\"white-space:pre;overflow-x:auto;line-height:normal;font-family:Menlo,'DejaVu Sans Mono',consolas,'Courier New',monospace\"><span style=\"color: #7fbfbf; text-decoration-color: #7fbfbf\">[02/09/25 04:03:21] </span><span style=\"color: #000080; text-decoration-color: #000080\">INFO    </span> <span style=\"font-weight: bold\">[</span>_client.py:<span style=\"color: #008080; text-decoration-color: #008080; font-weight: bold\">1026</span><span style=\"font-weight: bold\">]</span> &gt;&gt; HTTP Request: <span style=\"color: #808000; text-decoration-color: #808000; font-weight: bold\">POST</span>                                <a href=\"file:///home/jeongho/git/SKN05-FINAL-1TEAM/jeongho/RAG_env/lib/python3.12/site-packages/httpx/_client.py\" target=\"_blank\"><span style=\"color: #7f7f7f; text-decoration-color: #7f7f7f\">_client.py</span></a><span style=\"color: #7f7f7f; text-decoration-color: #7f7f7f\">:</span><a href=\"file:///home/jeongho/git/SKN05-FINAL-1TEAM/jeongho/RAG_env/lib/python3.12/site-packages/httpx/_client.py#1026\" target=\"_blank\"><span style=\"color: #7f7f7f; text-decoration-color: #7f7f7f\">1026</span></a>\n",
       "<span style=\"color: #7fbfbf; text-decoration-color: #7fbfbf\">                    </span>         <span style=\"color: #0000ff; text-decoration-color: #0000ff; text-decoration: underline\">https://api.openai.com/v1/chat/completions</span> <span style=\"color: #008000; text-decoration-color: #008000\">\"HTTP/1.1 200 OK\"</span>           <span style=\"color: #7f7f7f; text-decoration-color: #7f7f7f\">               </span>\n",
       "</pre>\n"
      ],
      "text/plain": [
       "\u001b[2;36m[02/09/25 04:03:21]\u001b[0m\u001b[2;36m \u001b[0m\u001b[34mINFO    \u001b[0m \u001b[1m[\u001b[0m_client.py:\u001b[1;36m1026\u001b[0m\u001b[1m]\u001b[0m >> HTTP Request: \u001b[1;33mPOST\u001b[0m                                \u001b]8;id=472244;file:///home/jeongho/git/SKN05-FINAL-1TEAM/jeongho/RAG_env/lib/python3.12/site-packages/httpx/_client.py\u001b\\\u001b[2m_client.py\u001b[0m\u001b]8;;\u001b\\\u001b[2m:\u001b[0m\u001b]8;id=695254;file:///home/jeongho/git/SKN05-FINAL-1TEAM/jeongho/RAG_env/lib/python3.12/site-packages/httpx/_client.py#1026\u001b\\\u001b[2m1026\u001b[0m\u001b]8;;\u001b\\\n",
       "\u001b[2;36m                    \u001b[0m         \u001b[4;94mhttps://api.openai.com/v1/chat/completions\u001b[0m \u001b[32m\"HTTP/1.1 200 OK\"\u001b[0m           \u001b[2m               \u001b[0m\n"
      ]
     },
     "metadata": {},
     "output_type": "display_data"
    },
    {
     "name": "stdout",
     "output_type": "stream",
     "text": [
      "✅chunk from lang graph: ('custom', {'currentNode': 'generate', 'answer': '', 'keywords': ['수동 초점', '포커싱 링', '초점 모드'], 'suggestQuestions': [], 'sessionId': 1, 'messageId': 1})\n",
      "---SUGGEST QUESTION---\n"
     ]
    },
    {
     "data": {
      "text/html": [
       "<pre style=\"white-space:pre;overflow-x:auto;line-height:normal;font-family:Menlo,'DejaVu Sans Mono',consolas,'Courier New',monospace\"><span style=\"color: #7fbfbf; text-decoration-color: #7fbfbf\">[02/09/25 04:03:23] </span><span style=\"color: #000080; text-decoration-color: #000080\">INFO    </span> <span style=\"font-weight: bold\">[</span>_client.py:<span style=\"color: #008080; text-decoration-color: #008080; font-weight: bold\">1026</span><span style=\"font-weight: bold\">]</span> &gt;&gt; HTTP Request: <span style=\"color: #808000; text-decoration-color: #808000; font-weight: bold\">POST</span>                                <a href=\"file:///home/jeongho/git/SKN05-FINAL-1TEAM/jeongho/RAG_env/lib/python3.12/site-packages/httpx/_client.py\" target=\"_blank\"><span style=\"color: #7f7f7f; text-decoration-color: #7f7f7f\">_client.py</span></a><span style=\"color: #7f7f7f; text-decoration-color: #7f7f7f\">:</span><a href=\"file:///home/jeongho/git/SKN05-FINAL-1TEAM/jeongho/RAG_env/lib/python3.12/site-packages/httpx/_client.py#1026\" target=\"_blank\"><span style=\"color: #7f7f7f; text-decoration-color: #7f7f7f\">1026</span></a>\n",
       "<span style=\"color: #7fbfbf; text-decoration-color: #7fbfbf\">                    </span>         <span style=\"color: #0000ff; text-decoration-color: #0000ff; text-decoration: underline\">https://api.openai.com/v1/chat/completions</span> <span style=\"color: #008000; text-decoration-color: #008000\">\"HTTP/1.1 200 OK\"</span>           <span style=\"color: #7f7f7f; text-decoration-color: #7f7f7f\">               </span>\n",
       "</pre>\n"
      ],
      "text/plain": [
       "\u001b[2;36m[02/09/25 04:03:23]\u001b[0m\u001b[2;36m \u001b[0m\u001b[34mINFO    \u001b[0m \u001b[1m[\u001b[0m_client.py:\u001b[1;36m1026\u001b[0m\u001b[1m]\u001b[0m >> HTTP Request: \u001b[1;33mPOST\u001b[0m                                \u001b]8;id=328069;file:///home/jeongho/git/SKN05-FINAL-1TEAM/jeongho/RAG_env/lib/python3.12/site-packages/httpx/_client.py\u001b\\\u001b[2m_client.py\u001b[0m\u001b]8;;\u001b\\\u001b[2m:\u001b[0m\u001b]8;id=54706;file:///home/jeongho/git/SKN05-FINAL-1TEAM/jeongho/RAG_env/lib/python3.12/site-packages/httpx/_client.py#1026\u001b\\\u001b[2m1026\u001b[0m\u001b]8;;\u001b\\\n",
       "\u001b[2;36m                    \u001b[0m         \u001b[4;94mhttps://api.openai.com/v1/chat/completions\u001b[0m \u001b[32m\"HTTP/1.1 200 OK\"\u001b[0m           \u001b[2m               \u001b[0m\n"
      ]
     },
     "metadata": {},
     "output_type": "display_data"
    },
    {
     "name": "stdout",
     "output_type": "stream",
     "text": [
      "✅chunk from lang graph: ('custom', {'currentNode': 'generate', 'answer': '', 'keywords': ['수동 초점', '포커싱 링', '초점 모드'], 'suggestQuestions': ['수동 초점 모드에서 자동 초점 모드로 전환하는 방법은 무엇인가요?', '수동 초점 모드에서 촬영 시 주의해야 할 점은 무엇인가요?', '초점 조절 시 확대 보기 기능을 사용하는 방법은 무엇인가요?'], 'sessionId': 1, 'messageId': 1})\n"
     ]
    }
   ],
   "source": [
    "from langgraph.types import Command\n",
    "thread = {\"configurable\": {\"thread_id\": \"abcd\"}}\n",
    "def sync_function():\n",
    "    async def run():\n",
    "        async for chunk in app.astream(input=Command(resume=\"canon\"),config=thread, stream_mode=[\"custom\"]):  \n",
    "            print(f\"✅chunk from lang graph: {chunk}\")\n",
    "\n",
    "    asyncio.run(run()) \n",
    "\n",
    "sync_function()"
   ]
  }
 ],
 "metadata": {
  "kernelspec": {
   "display_name": "RAG_env",
   "language": "python",
   "name": "python3"
  },
  "language_info": {
   "codemirror_mode": {
    "name": "ipython",
    "version": 3
   },
   "file_extension": ".py",
   "mimetype": "text/x-python",
   "name": "python",
   "nbconvert_exporter": "python",
   "pygments_lexer": "ipython3",
   "version": "3.12.3"
  }
 },
 "nbformat": 4,
 "nbformat_minor": 2
}
