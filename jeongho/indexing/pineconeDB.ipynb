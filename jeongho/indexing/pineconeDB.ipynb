{
 "cells": [
  {
   "cell_type": "code",
   "execution_count": 1,
   "metadata": {},
   "outputs": [],
   "source": [
    "import os\n",
    "from CameraDocument import CameraDocument\n",
    "from glob import glob\n",
    "\n",
    "camera_model_list = [\"gfx100ii\", \"x-e4\", \"x-s20\", \"x-t5\", \"x100v\"]\n",
    "json_dir = \"./data/json\"\n",
    "embedding_model = \"text-embedding-3-small\"\n",
    "\n",
    "documents = []\n",
    "for camera_model in camera_model_list:\n",
    "    detail_json_dir = os.path.join(json_dir, camera_model, embedding_model)\n",
    "    json_path = os.path.join(detail_json_dir, \"*.json\")\n",
    "    json_list = glob(json_path)\n",
    "\n",
    "    for path in json_list:\n",
    "        document = CameraDocument()\n",
    "        document.load_json_with_vector(path)\n",
    "        documents.append(document)    "
   ]
  },
  {
   "cell_type": "code",
   "execution_count": 2,
   "metadata": {},
   "outputs": [
    {
     "data": {
      "text/plain": [
       "1843"
      ]
     },
     "execution_count": 2,
     "metadata": {},
     "output_type": "execute_result"
    }
   ],
   "source": [
    "len(documents)"
   ]
  },
  {
   "cell_type": "code",
   "execution_count": 3,
   "metadata": {},
   "outputs": [
    {
     "data": {
      "text/plain": [
       "{'dimension': 1536,\n",
       " 'index_fullness': 0.0,\n",
       " 'namespaces': {'': {'vector_count': 0}},\n",
       " 'total_vector_count': 0}"
      ]
     },
     "execution_count": 3,
     "metadata": {},
     "output_type": "execute_result"
    }
   ],
   "source": [
    "import time\n",
    "from pinecone.grpc import PineconeGRPC as Pinecone\n",
    "from pinecone import ServerlessSpec\n",
    "from dotenv import load_dotenv\n",
    "\n",
    "load_dotenv(dotenv_path=\".env\", override=True)\n",
    "\n",
    "pc = Pinecone(api_key=os.getenv(\"PINECONE_API_KEY\"))\n",
    "\n",
    "spec = ServerlessSpec(cloud=\"aws\", region=\"us-east-1\")\n",
    "\n",
    "index_name = 'camera-document'\n",
    "\n",
    "# check if index already exists (it shouldn't if this is your first run)\n",
    "if index_name not in pc.list_indexes().names():\n",
    "    # if does not exist, create index\n",
    "    pc.create_index(\n",
    "        index_name,\n",
    "        dimension=1536,  # dimensionality of text-embed-3-small\n",
    "        metric='dotproduct',\n",
    "        spec=spec\n",
    "    )\n",
    "    # wait for index to be initialized\n",
    "    while not pc.describe_index(index_name).status['ready']:\n",
    "        time.sleep(1)\n",
    "\n",
    "# connect to index\n",
    "index = pc.Index(index_name)\n",
    "time.sleep(1)\n",
    "# view index stats\n",
    "index.describe_index_stats()"
   ]
  },
  {
   "cell_type": "code",
   "execution_count": 5,
   "metadata": {},
   "outputs": [],
   "source": [
    "def upload_to_pinecone(index, documents):\n",
    "    vectors = []\n",
    "    for doc in documents:\n",
    "        page = doc.metadata.get(\"page\", \"unknown\")\n",
    "        model = doc.metadata.get(\"model\", \"unknown\")\n",
    "        doc_id = f\"{model}_page{page}\"\n",
    "        \n",
    "        vector = {\n",
    "            \"id\": doc_id,\n",
    "            \"values\": doc.embedding_result,\n",
    "            \"metadata\": {\n",
    "                \"page\": page,\n",
    "                \"model\": model,\n",
    "                \"chapter\": doc.metadata.get(\"chapter\"),\n",
    "                \"section\": doc.metadata.get(\"section\"),\n",
    "                \"subsection\": doc.metadata.get(\"subsection\"),\n",
    "                \"parsing_result\": doc.parsing_result,\n",
    "            },\n",
    "        }\n",
    "        vectors.append(vector)\n",
    "    \n",
    "    batch_size = 100\n",
    "    for i in range(0, len(vectors), batch_size):\n",
    "        batch = vectors[i:i+batch_size]\n",
    "        index.upsert(vectors=batch)\n",
    "        time.sleep(0.1) \n",
    "\n",
    "\n",
    "upload_to_pinecone(index, documents)"
   ]
  }
 ],
 "metadata": {
  "kernelspec": {
   "display_name": "RAGprojects_env",
   "language": "python",
   "name": "python3"
  },
  "language_info": {
   "codemirror_mode": {
    "name": "ipython",
    "version": 3
   },
   "file_extension": ".py",
   "mimetype": "text/x-python",
   "name": "python",
   "nbconvert_exporter": "python",
   "pygments_lexer": "ipython3",
   "version": "3.12.3"
  }
 },
 "nbformat": 4,
 "nbformat_minor": 2
}
