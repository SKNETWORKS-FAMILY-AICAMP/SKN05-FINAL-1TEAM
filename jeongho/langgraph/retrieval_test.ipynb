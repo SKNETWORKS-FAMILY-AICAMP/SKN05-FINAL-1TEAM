{
 "cells": [
  {
   "cell_type": "code",
   "execution_count": 3,
   "metadata": {},
   "outputs": [
    {
     "data": {
      "text/plain": [
       "True"
      ]
     },
     "execution_count": 3,
     "metadata": {},
     "output_type": "execute_result"
    }
   ],
   "source": [
    "from dotenv import load_dotenv\n",
    "\n",
    "load_dotenv(dotenv_path=\".env\", override=True)"
   ]
  },
  {
   "cell_type": "code",
   "execution_count": 4,
   "metadata": {},
   "outputs": [],
   "source": [
    "import nest_asyncio\n",
    "nest_asyncio.apply()"
   ]
  },
  {
   "cell_type": "code",
   "execution_count": 5,
   "metadata": {},
   "outputs": [
    {
     "data": {
      "text/html": [
       "<pre style=\"white-space:pre;overflow-x:auto;line-height:normal;font-family:Menlo,'DejaVu Sans Mono',consolas,'Courier New',monospace\"><span style=\"color: #7fbfbf; text-decoration-color: #7fbfbf\">[02/05/25 09:16:43] </span><span style=\"color: #000080; text-decoration-color: #000080\">INFO    </span> <span style=\"font-weight: bold\">[</span>base.py:<span style=\"color: #008080; text-decoration-color: #008080; font-weight: bold\">17</span><span style=\"font-weight: bold\">]</span> &gt;&gt; Initialize query expansion node - QueryDecompose module<span style=\"color: #808000; text-decoration-color: #808000\">...</span>  <a href=\"file:///home/jeongho/git/SKN05-FINAL-1TEAM/jeongho/RAGprojects_env/lib/python3.12/site-packages/autorag/nodes/queryexpansion/base.py\" target=\"_blank\"><span style=\"color: #7f7f7f; text-decoration-color: #7f7f7f\">base.py</span></a><span style=\"color: #7f7f7f; text-decoration-color: #7f7f7f\">:</span><a href=\"file:///home/jeongho/git/SKN05-FINAL-1TEAM/jeongho/RAGprojects_env/lib/python3.12/site-packages/autorag/nodes/queryexpansion/base.py#17\" target=\"_blank\"><span style=\"color: #7f7f7f; text-decoration-color: #7f7f7f\">17</span></a>\n",
       "</pre>\n"
      ],
      "text/plain": [
       "\u001b[2;36m[02/05/25 09:16:43]\u001b[0m\u001b[2;36m \u001b[0m\u001b[34mINFO    \u001b[0m \u001b[1m[\u001b[0mbase.py:\u001b[1;36m17\u001b[0m\u001b[1m]\u001b[0m >> Initialize query expansion node - QueryDecompose module\u001b[33m...\u001b[0m  \u001b]8;id=621960;file:///home/jeongho/git/SKN05-FINAL-1TEAM/jeongho/RAGprojects_env/lib/python3.12/site-packages/autorag/nodes/queryexpansion/base.py\u001b\\\u001b[2mbase.py\u001b[0m\u001b]8;;\u001b\\\u001b[2m:\u001b[0m\u001b]8;id=204786;file:///home/jeongho/git/SKN05-FINAL-1TEAM/jeongho/RAGprojects_env/lib/python3.12/site-packages/autorag/nodes/queryexpansion/base.py#17\u001b\\\u001b[2m17\u001b[0m\u001b]8;;\u001b\\\n"
      ]
     },
     "metadata": {},
     "output_type": "display_data"
    },
    {
     "data": {
      "text/html": [
       "<pre style=\"white-space:pre;overflow-x:auto;line-height:normal;font-family:Menlo,'DejaVu Sans Mono',consolas,'Courier New',monospace\"><span style=\"color: #7fbfbf; text-decoration-color: #7fbfbf\">                    </span><span style=\"color: #000080; text-decoration-color: #000080\">INFO    </span> <span style=\"font-weight: bold\">[</span>base.py:<span style=\"color: #008080; text-decoration-color: #008080; font-weight: bold\">19</span><span style=\"font-weight: bold\">]</span> &gt;&gt; Initialize generator node - LlamaIndexLLM                   <a href=\"file:///home/jeongho/git/SKN05-FINAL-1TEAM/jeongho/RAGprojects_env/lib/python3.12/site-packages/autorag/nodes/generator/base.py\" target=\"_blank\"><span style=\"color: #7f7f7f; text-decoration-color: #7f7f7f\">base.py</span></a><span style=\"color: #7f7f7f; text-decoration-color: #7f7f7f\">:</span><a href=\"file:///home/jeongho/git/SKN05-FINAL-1TEAM/jeongho/RAGprojects_env/lib/python3.12/site-packages/autorag/nodes/generator/base.py#19\" target=\"_blank\"><span style=\"color: #7f7f7f; text-decoration-color: #7f7f7f\">19</span></a>\n",
       "</pre>\n"
      ],
      "text/plain": [
       "\u001b[2;36m                   \u001b[0m\u001b[2;36m \u001b[0m\u001b[34mINFO    \u001b[0m \u001b[1m[\u001b[0mbase.py:\u001b[1;36m19\u001b[0m\u001b[1m]\u001b[0m >> Initialize generator node - LlamaIndexLLM                   \u001b]8;id=304307;file:///home/jeongho/git/SKN05-FINAL-1TEAM/jeongho/RAGprojects_env/lib/python3.12/site-packages/autorag/nodes/generator/base.py\u001b\\\u001b[2mbase.py\u001b[0m\u001b]8;;\u001b\\\u001b[2m:\u001b[0m\u001b]8;id=398465;file:///home/jeongho/git/SKN05-FINAL-1TEAM/jeongho/RAGprojects_env/lib/python3.12/site-packages/autorag/nodes/generator/base.py#19\u001b\\\u001b[2m19\u001b[0m\u001b]8;;\u001b\\\n"
      ]
     },
     "metadata": {},
     "output_type": "display_data"
    },
    {
     "data": {
      "text/html": [
       "<pre style=\"white-space:pre;overflow-x:auto;line-height:normal;font-family:Menlo,'DejaVu Sans Mono',consolas,'Courier New',monospace\"><span style=\"color: #7fbfbf; text-decoration-color: #7fbfbf\">                    </span><span style=\"color: #000080; text-decoration-color: #000080\">INFO    </span> <span style=\"font-weight: bold\">[</span>base.py:<span style=\"color: #008080; text-decoration-color: #008080; font-weight: bold\">31</span><span style=\"font-weight: bold\">]</span> &gt;&gt; Running query expansion node - QueryDecompose module<span style=\"color: #808000; text-decoration-color: #808000\">...</span>     <a href=\"file:///home/jeongho/git/SKN05-FINAL-1TEAM/jeongho/RAGprojects_env/lib/python3.12/site-packages/autorag/nodes/queryexpansion/base.py\" target=\"_blank\"><span style=\"color: #7f7f7f; text-decoration-color: #7f7f7f\">base.py</span></a><span style=\"color: #7f7f7f; text-decoration-color: #7f7f7f\">:</span><a href=\"file:///home/jeongho/git/SKN05-FINAL-1TEAM/jeongho/RAGprojects_env/lib/python3.12/site-packages/autorag/nodes/queryexpansion/base.py#31\" target=\"_blank\"><span style=\"color: #7f7f7f; text-decoration-color: #7f7f7f\">31</span></a>\n",
       "</pre>\n"
      ],
      "text/plain": [
       "\u001b[2;36m                   \u001b[0m\u001b[2;36m \u001b[0m\u001b[34mINFO    \u001b[0m \u001b[1m[\u001b[0mbase.py:\u001b[1;36m31\u001b[0m\u001b[1m]\u001b[0m >> Running query expansion node - QueryDecompose module\u001b[33m...\u001b[0m     \u001b]8;id=294883;file:///home/jeongho/git/SKN05-FINAL-1TEAM/jeongho/RAGprojects_env/lib/python3.12/site-packages/autorag/nodes/queryexpansion/base.py\u001b\\\u001b[2mbase.py\u001b[0m\u001b]8;;\u001b\\\u001b[2m:\u001b[0m\u001b]8;id=767214;file:///home/jeongho/git/SKN05-FINAL-1TEAM/jeongho/RAGprojects_env/lib/python3.12/site-packages/autorag/nodes/queryexpansion/base.py#31\u001b\\\u001b[2m31\u001b[0m\u001b]8;;\u001b\\\n"
      ]
     },
     "metadata": {},
     "output_type": "display_data"
    },
    {
     "data": {
      "text/html": [
       "<pre style=\"white-space:pre;overflow-x:auto;line-height:normal;font-family:Menlo,'DejaVu Sans Mono',consolas,'Courier New',monospace\"><span style=\"color: #7fbfbf; text-decoration-color: #7fbfbf\">                    </span><span style=\"color: #000080; text-decoration-color: #000080\">INFO    </span> <span style=\"font-weight: bold\">[</span>base.py:<span style=\"color: #008080; text-decoration-color: #008080; font-weight: bold\">26</span><span style=\"font-weight: bold\">]</span> &gt;&gt; Running generator node - LlamaIndexLLM module<span style=\"color: #808000; text-decoration-color: #808000\">...</span>            <a href=\"file:///home/jeongho/git/SKN05-FINAL-1TEAM/jeongho/RAGprojects_env/lib/python3.12/site-packages/autorag/nodes/generator/base.py\" target=\"_blank\"><span style=\"color: #7f7f7f; text-decoration-color: #7f7f7f\">base.py</span></a><span style=\"color: #7f7f7f; text-decoration-color: #7f7f7f\">:</span><a href=\"file:///home/jeongho/git/SKN05-FINAL-1TEAM/jeongho/RAGprojects_env/lib/python3.12/site-packages/autorag/nodes/generator/base.py#26\" target=\"_blank\"><span style=\"color: #7f7f7f; text-decoration-color: #7f7f7f\">26</span></a>\n",
       "</pre>\n"
      ],
      "text/plain": [
       "\u001b[2;36m                   \u001b[0m\u001b[2;36m \u001b[0m\u001b[34mINFO    \u001b[0m \u001b[1m[\u001b[0mbase.py:\u001b[1;36m26\u001b[0m\u001b[1m]\u001b[0m >> Running generator node - LlamaIndexLLM module\u001b[33m...\u001b[0m            \u001b]8;id=714664;file:///home/jeongho/git/SKN05-FINAL-1TEAM/jeongho/RAGprojects_env/lib/python3.12/site-packages/autorag/nodes/generator/base.py\u001b\\\u001b[2mbase.py\u001b[0m\u001b]8;;\u001b\\\u001b[2m:\u001b[0m\u001b]8;id=300117;file:///home/jeongho/git/SKN05-FINAL-1TEAM/jeongho/RAGprojects_env/lib/python3.12/site-packages/autorag/nodes/generator/base.py#26\u001b\\\u001b[2m26\u001b[0m\u001b]8;;\u001b\\\n"
      ]
     },
     "metadata": {},
     "output_type": "display_data"
    },
    {
     "data": {
      "text/html": [
       "<pre style=\"white-space:pre;overflow-x:auto;line-height:normal;font-family:Menlo,'DejaVu Sans Mono',consolas,'Courier New',monospace\"><span style=\"color: #7fbfbf; text-decoration-color: #7fbfbf\">[02/05/25 09:16:45] </span><span style=\"color: #000080; text-decoration-color: #000080\">INFO    </span> <span style=\"font-weight: bold\">[</span>_client.py:<span style=\"color: #008080; text-decoration-color: #008080; font-weight: bold\">1773</span><span style=\"font-weight: bold\">]</span> &gt;&gt; HTTP Request: <span style=\"color: #808000; text-decoration-color: #808000; font-weight: bold\">POST</span>                                <a href=\"file:///home/jeongho/git/SKN05-FINAL-1TEAM/jeongho/RAGprojects_env/lib/python3.12/site-packages/httpx/_client.py\" target=\"_blank\"><span style=\"color: #7f7f7f; text-decoration-color: #7f7f7f\">_client.py</span></a><span style=\"color: #7f7f7f; text-decoration-color: #7f7f7f\">:</span><a href=\"file:///home/jeongho/git/SKN05-FINAL-1TEAM/jeongho/RAGprojects_env/lib/python3.12/site-packages/httpx/_client.py#1773\" target=\"_blank\"><span style=\"color: #7f7f7f; text-decoration-color: #7f7f7f\">1773</span></a>\n",
       "<span style=\"color: #7fbfbf; text-decoration-color: #7fbfbf\">                    </span>         <span style=\"color: #0000ff; text-decoration-color: #0000ff; text-decoration: underline\">https://api.openai.com/v1/chat/completions</span> <span style=\"color: #008000; text-decoration-color: #008000\">\"HTTP/1.1 200 OK\"</span>           <span style=\"color: #7f7f7f; text-decoration-color: #7f7f7f\">               </span>\n",
       "</pre>\n"
      ],
      "text/plain": [
       "\u001b[2;36m[02/05/25 09:16:45]\u001b[0m\u001b[2;36m \u001b[0m\u001b[34mINFO    \u001b[0m \u001b[1m[\u001b[0m_client.py:\u001b[1;36m1773\u001b[0m\u001b[1m]\u001b[0m >> HTTP Request: \u001b[1;33mPOST\u001b[0m                                \u001b]8;id=710188;file:///home/jeongho/git/SKN05-FINAL-1TEAM/jeongho/RAGprojects_env/lib/python3.12/site-packages/httpx/_client.py\u001b\\\u001b[2m_client.py\u001b[0m\u001b]8;;\u001b\\\u001b[2m:\u001b[0m\u001b]8;id=145412;file:///home/jeongho/git/SKN05-FINAL-1TEAM/jeongho/RAGprojects_env/lib/python3.12/site-packages/httpx/_client.py#1773\u001b\\\u001b[2m1773\u001b[0m\u001b]8;;\u001b\\\n",
       "\u001b[2;36m                    \u001b[0m         \u001b[4;94mhttps://api.openai.com/v1/chat/completions\u001b[0m \u001b[32m\"HTTP/1.1 200 OK\"\u001b[0m           \u001b[2m               \u001b[0m\n"
      ]
     },
     "metadata": {},
     "output_type": "display_data"
    },
    {
     "name": "stderr",
     "output_type": "stream",
     "text": [
      "/home/jeongho/git/SKN05-FINAL-1TEAM/jeongho/RAGprojects_env/lib/python3.12/site-packages/transformers/tokenization_utils_base.py:1601: FutureWarning: `clean_up_tokenization_spaces` was not set. It will be set to `True` by default. This behavior will be depracted in transformers v4.45, and will be then set to `False` by default. For more details check this issue: https://github.com/huggingface/transformers/issues/31884\n",
      "  warnings.warn(\n"
     ]
    }
   ],
   "source": [
    "import pandas as pd\n",
    "\n",
    "# (1) QueryDecompose 임포트\n",
    "from autorag.nodes.queryexpansion.query_decompose import QueryDecompose\n",
    "\n",
    "# (2) generator_dict 에 대한 설정\n",
    "#     1) 직접 module_type 지정\n",
    "generator_dict = {\n",
    "    \"generator_module_type\": \"llama_index_llm\",  # 예) 이 이름에 해당하는 클래스를 get_support_modules가 로드\n",
    "    \"llm\": \"openai\",        # 예시: openai\n",
    "    \"model\": \"gpt-4o\", # 예시: gpt-4o-mini\n",
    "    # 기타 필요한 파라미터...\n",
    "}\n",
    "\n",
    "#     2) generator_dict 에 'generator_module_type'가 없으면, \n",
    "#        make_generator_callable_param에서 위 값들이 기본으로 설정됨\n",
    "\n",
    "# (3) QueryDecompose 인스턴스 생성\n",
    "project_dir = \"./autorag/project_dir2\"\n",
    "decomposer = QueryDecompose(\n",
    "    project_dir=project_dir,\n",
    "    **generator_dict  # -> make_generator_callable_param() 호출로 실제 Generator 인스턴스 생성\n",
    ")\n",
    "\n",
    "# (4) 쿼리만 있는 DataFrame 준비\n",
    "df_input = pd.DataFrame({\n",
    "    \"query\": [\n",
    "        # \"How can I match color and exposure settings on both the Fujifilm GFX100II and the X-E4, which film simulations and ISO ranges should I use for consistent results, and what key differences do I need to consider due to the different sensor sizes?\"\n",
    "        \"How to adjust focus?\"\n",
    "        # \"How can I maintain a shallow depth of field in Aperture Priority mode while also ensuring my shutter speed doesn't drop below a certain threshold, and is there a way to use Auto ISO to compensate?\"\n",
    "        # \"how to adjust focus?\"\n",
    "        # \"Is Hamlet more common on IMDB than Comedy of Errors?\",\n",
    "        # \"How do I adjust the aperture on the GFX100ii and also set the shutter speed on the X-T5?\",\n",
    "        # \"Is it legal for a licensed child driving Mercedes-Benz to be employed in US?\"\n",
    "    ]\n",
    "})\n",
    "\n",
    "# (5) 질의 분해 수행 (기본 prompt 사용)\n",
    "QD_result_df = decomposer.pure(previous_result=df_input)\n",
    "\n",
    "# (6) 결과 확인\n",
    "# print(result_df.columns)\n",
    "# -> Index(['queries'], dtype='object')\n",
    "\n",
    "# print(result_df[\"queries\"][0])\n",
    "# -> 예: [\"How many listings of Hamlet are there on IMDB?\",\n",
    "#         \"How many listings of Comedy of Errors are there on IMDB?\"]\n"
   ]
  },
  {
   "cell_type": "code",
   "execution_count": 6,
   "metadata": {},
   "outputs": [
    {
     "data": {
      "text/plain": [
       "['How to adjust focus?']"
      ]
     },
     "execution_count": 6,
     "metadata": {},
     "output_type": "execute_result"
    }
   ],
   "source": [
    "QD_result_df[\"queries\"][0]"
   ]
  },
  {
   "cell_type": "code",
   "execution_count": 7,
   "metadata": {},
   "outputs": [
    {
     "data": {
      "text/html": [
       "<pre style=\"white-space:pre;overflow-x:auto;line-height:normal;font-family:Menlo,'DejaVu Sans Mono',consolas,'Courier New',monospace\"><span style=\"color: #7fbfbf; text-decoration-color: #7fbfbf\">[02/05/25 09:16:51] </span><span style=\"color: #000080; text-decoration-color: #000080\">INFO    </span> <span style=\"font-weight: bold\">[</span>base.py:<span style=\"color: #008080; text-decoration-color: #008080; font-weight: bold\">17</span><span style=\"font-weight: bold\">]</span> &gt;&gt; Initialize query expansion node - MultiQueryExpansion       <a href=\"file:///home/jeongho/git/SKN05-FINAL-1TEAM/jeongho/RAGprojects_env/lib/python3.12/site-packages/autorag/nodes/queryexpansion/base.py\" target=\"_blank\"><span style=\"color: #7f7f7f; text-decoration-color: #7f7f7f\">base.py</span></a><span style=\"color: #7f7f7f; text-decoration-color: #7f7f7f\">:</span><a href=\"file:///home/jeongho/git/SKN05-FINAL-1TEAM/jeongho/RAGprojects_env/lib/python3.12/site-packages/autorag/nodes/queryexpansion/base.py#17\" target=\"_blank\"><span style=\"color: #7f7f7f; text-decoration-color: #7f7f7f\">17</span></a>\n",
       "<span style=\"color: #7fbfbf; text-decoration-color: #7fbfbf\">                    </span>         module<span style=\"color: #808000; text-decoration-color: #808000\">...</span>                                                                   <span style=\"color: #7f7f7f; text-decoration-color: #7f7f7f\">          </span>\n",
       "</pre>\n"
      ],
      "text/plain": [
       "\u001b[2;36m[02/05/25 09:16:51]\u001b[0m\u001b[2;36m \u001b[0m\u001b[34mINFO    \u001b[0m \u001b[1m[\u001b[0mbase.py:\u001b[1;36m17\u001b[0m\u001b[1m]\u001b[0m >> Initialize query expansion node - MultiQueryExpansion       \u001b]8;id=910604;file:///home/jeongho/git/SKN05-FINAL-1TEAM/jeongho/RAGprojects_env/lib/python3.12/site-packages/autorag/nodes/queryexpansion/base.py\u001b\\\u001b[2mbase.py\u001b[0m\u001b]8;;\u001b\\\u001b[2m:\u001b[0m\u001b]8;id=797687;file:///home/jeongho/git/SKN05-FINAL-1TEAM/jeongho/RAGprojects_env/lib/python3.12/site-packages/autorag/nodes/queryexpansion/base.py#17\u001b\\\u001b[2m17\u001b[0m\u001b]8;;\u001b\\\n",
       "\u001b[2;36m                    \u001b[0m         module\u001b[33m...\u001b[0m                                                                   \u001b[2m          \u001b[0m\n"
      ]
     },
     "metadata": {},
     "output_type": "display_data"
    },
    {
     "data": {
      "text/html": [
       "<pre style=\"white-space:pre;overflow-x:auto;line-height:normal;font-family:Menlo,'DejaVu Sans Mono',consolas,'Courier New',monospace\"><span style=\"color: #7fbfbf; text-decoration-color: #7fbfbf\">                    </span><span style=\"color: #000080; text-decoration-color: #000080\">INFO    </span> <span style=\"font-weight: bold\">[</span>base.py:<span style=\"color: #008080; text-decoration-color: #008080; font-weight: bold\">19</span><span style=\"font-weight: bold\">]</span> &gt;&gt; Initialize generator node - LlamaIndexLLM                   <a href=\"file:///home/jeongho/git/SKN05-FINAL-1TEAM/jeongho/RAGprojects_env/lib/python3.12/site-packages/autorag/nodes/generator/base.py\" target=\"_blank\"><span style=\"color: #7f7f7f; text-decoration-color: #7f7f7f\">base.py</span></a><span style=\"color: #7f7f7f; text-decoration-color: #7f7f7f\">:</span><a href=\"file:///home/jeongho/git/SKN05-FINAL-1TEAM/jeongho/RAGprojects_env/lib/python3.12/site-packages/autorag/nodes/generator/base.py#19\" target=\"_blank\"><span style=\"color: #7f7f7f; text-decoration-color: #7f7f7f\">19</span></a>\n",
       "</pre>\n"
      ],
      "text/plain": [
       "\u001b[2;36m                   \u001b[0m\u001b[2;36m \u001b[0m\u001b[34mINFO    \u001b[0m \u001b[1m[\u001b[0mbase.py:\u001b[1;36m19\u001b[0m\u001b[1m]\u001b[0m >> Initialize generator node - LlamaIndexLLM                   \u001b]8;id=102165;file:///home/jeongho/git/SKN05-FINAL-1TEAM/jeongho/RAGprojects_env/lib/python3.12/site-packages/autorag/nodes/generator/base.py\u001b\\\u001b[2mbase.py\u001b[0m\u001b]8;;\u001b\\\u001b[2m:\u001b[0m\u001b]8;id=294817;file:///home/jeongho/git/SKN05-FINAL-1TEAM/jeongho/RAGprojects_env/lib/python3.12/site-packages/autorag/nodes/generator/base.py#19\u001b\\\u001b[2m19\u001b[0m\u001b]8;;\u001b\\\n"
      ]
     },
     "metadata": {},
     "output_type": "display_data"
    },
    {
     "data": {
      "text/html": [
       "<pre style=\"white-space:pre;overflow-x:auto;line-height:normal;font-family:Menlo,'DejaVu Sans Mono',consolas,'Courier New',monospace\"><span style=\"color: #7fbfbf; text-decoration-color: #7fbfbf\">                    </span><span style=\"color: #000080; text-decoration-color: #000080\">INFO    </span> <span style=\"font-weight: bold\">[</span>base.py:<span style=\"color: #008080; text-decoration-color: #008080; font-weight: bold\">31</span><span style=\"font-weight: bold\">]</span> &gt;&gt; Running query expansion node - MultiQueryExpansion          <a href=\"file:///home/jeongho/git/SKN05-FINAL-1TEAM/jeongho/RAGprojects_env/lib/python3.12/site-packages/autorag/nodes/queryexpansion/base.py\" target=\"_blank\"><span style=\"color: #7f7f7f; text-decoration-color: #7f7f7f\">base.py</span></a><span style=\"color: #7f7f7f; text-decoration-color: #7f7f7f\">:</span><a href=\"file:///home/jeongho/git/SKN05-FINAL-1TEAM/jeongho/RAGprojects_env/lib/python3.12/site-packages/autorag/nodes/queryexpansion/base.py#31\" target=\"_blank\"><span style=\"color: #7f7f7f; text-decoration-color: #7f7f7f\">31</span></a>\n",
       "<span style=\"color: #7fbfbf; text-decoration-color: #7fbfbf\">                    </span>         module<span style=\"color: #808000; text-decoration-color: #808000\">...</span>                                                                   <span style=\"color: #7f7f7f; text-decoration-color: #7f7f7f\">          </span>\n",
       "</pre>\n"
      ],
      "text/plain": [
       "\u001b[2;36m                   \u001b[0m\u001b[2;36m \u001b[0m\u001b[34mINFO    \u001b[0m \u001b[1m[\u001b[0mbase.py:\u001b[1;36m31\u001b[0m\u001b[1m]\u001b[0m >> Running query expansion node - MultiQueryExpansion          \u001b]8;id=885585;file:///home/jeongho/git/SKN05-FINAL-1TEAM/jeongho/RAGprojects_env/lib/python3.12/site-packages/autorag/nodes/queryexpansion/base.py\u001b\\\u001b[2mbase.py\u001b[0m\u001b]8;;\u001b\\\u001b[2m:\u001b[0m\u001b]8;id=527394;file:///home/jeongho/git/SKN05-FINAL-1TEAM/jeongho/RAGprojects_env/lib/python3.12/site-packages/autorag/nodes/queryexpansion/base.py#31\u001b\\\u001b[2m31\u001b[0m\u001b]8;;\u001b\\\n",
       "\u001b[2;36m                    \u001b[0m         module\u001b[33m...\u001b[0m                                                                   \u001b[2m          \u001b[0m\n"
      ]
     },
     "metadata": {},
     "output_type": "display_data"
    },
    {
     "data": {
      "text/html": [
       "<pre style=\"white-space:pre;overflow-x:auto;line-height:normal;font-family:Menlo,'DejaVu Sans Mono',consolas,'Courier New',monospace\"><span style=\"color: #7fbfbf; text-decoration-color: #7fbfbf\">                    </span><span style=\"color: #000080; text-decoration-color: #000080\">INFO    </span> <span style=\"font-weight: bold\">[</span>base.py:<span style=\"color: #008080; text-decoration-color: #008080; font-weight: bold\">26</span><span style=\"font-weight: bold\">]</span> &gt;&gt; Running generator node - LlamaIndexLLM module<span style=\"color: #808000; text-decoration-color: #808000\">...</span>            <a href=\"file:///home/jeongho/git/SKN05-FINAL-1TEAM/jeongho/RAGprojects_env/lib/python3.12/site-packages/autorag/nodes/generator/base.py\" target=\"_blank\"><span style=\"color: #7f7f7f; text-decoration-color: #7f7f7f\">base.py</span></a><span style=\"color: #7f7f7f; text-decoration-color: #7f7f7f\">:</span><a href=\"file:///home/jeongho/git/SKN05-FINAL-1TEAM/jeongho/RAGprojects_env/lib/python3.12/site-packages/autorag/nodes/generator/base.py#26\" target=\"_blank\"><span style=\"color: #7f7f7f; text-decoration-color: #7f7f7f\">26</span></a>\n",
       "</pre>\n"
      ],
      "text/plain": [
       "\u001b[2;36m                   \u001b[0m\u001b[2;36m \u001b[0m\u001b[34mINFO    \u001b[0m \u001b[1m[\u001b[0mbase.py:\u001b[1;36m26\u001b[0m\u001b[1m]\u001b[0m >> Running generator node - LlamaIndexLLM module\u001b[33m...\u001b[0m            \u001b]8;id=371377;file:///home/jeongho/git/SKN05-FINAL-1TEAM/jeongho/RAGprojects_env/lib/python3.12/site-packages/autorag/nodes/generator/base.py\u001b\\\u001b[2mbase.py\u001b[0m\u001b]8;;\u001b\\\u001b[2m:\u001b[0m\u001b]8;id=449100;file:///home/jeongho/git/SKN05-FINAL-1TEAM/jeongho/RAGprojects_env/lib/python3.12/site-packages/autorag/nodes/generator/base.py#26\u001b\\\u001b[2m26\u001b[0m\u001b]8;;\u001b\\\n"
      ]
     },
     "metadata": {},
     "output_type": "display_data"
    },
    {
     "data": {
      "text/html": [
       "<pre style=\"white-space:pre;overflow-x:auto;line-height:normal;font-family:Menlo,'DejaVu Sans Mono',consolas,'Courier New',monospace\"><span style=\"color: #7fbfbf; text-decoration-color: #7fbfbf\">[02/05/25 09:16:52] </span><span style=\"color: #000080; text-decoration-color: #000080\">INFO    </span> <span style=\"font-weight: bold\">[</span>_client.py:<span style=\"color: #008080; text-decoration-color: #008080; font-weight: bold\">1773</span><span style=\"font-weight: bold\">]</span> &gt;&gt; HTTP Request: <span style=\"color: #808000; text-decoration-color: #808000; font-weight: bold\">POST</span>                                <a href=\"file:///home/jeongho/git/SKN05-FINAL-1TEAM/jeongho/RAGprojects_env/lib/python3.12/site-packages/httpx/_client.py\" target=\"_blank\"><span style=\"color: #7f7f7f; text-decoration-color: #7f7f7f\">_client.py</span></a><span style=\"color: #7f7f7f; text-decoration-color: #7f7f7f\">:</span><a href=\"file:///home/jeongho/git/SKN05-FINAL-1TEAM/jeongho/RAGprojects_env/lib/python3.12/site-packages/httpx/_client.py#1773\" target=\"_blank\"><span style=\"color: #7f7f7f; text-decoration-color: #7f7f7f\">1773</span></a>\n",
       "<span style=\"color: #7fbfbf; text-decoration-color: #7fbfbf\">                    </span>         <span style=\"color: #0000ff; text-decoration-color: #0000ff; text-decoration: underline\">https://api.openai.com/v1/chat/completions</span> <span style=\"color: #008000; text-decoration-color: #008000\">\"HTTP/1.1 200 OK\"</span>           <span style=\"color: #7f7f7f; text-decoration-color: #7f7f7f\">               </span>\n",
       "</pre>\n"
      ],
      "text/plain": [
       "\u001b[2;36m[02/05/25 09:16:52]\u001b[0m\u001b[2;36m \u001b[0m\u001b[34mINFO    \u001b[0m \u001b[1m[\u001b[0m_client.py:\u001b[1;36m1773\u001b[0m\u001b[1m]\u001b[0m >> HTTP Request: \u001b[1;33mPOST\u001b[0m                                \u001b]8;id=404154;file:///home/jeongho/git/SKN05-FINAL-1TEAM/jeongho/RAGprojects_env/lib/python3.12/site-packages/httpx/_client.py\u001b\\\u001b[2m_client.py\u001b[0m\u001b]8;;\u001b\\\u001b[2m:\u001b[0m\u001b]8;id=29717;file:///home/jeongho/git/SKN05-FINAL-1TEAM/jeongho/RAGprojects_env/lib/python3.12/site-packages/httpx/_client.py#1773\u001b\\\u001b[2m1773\u001b[0m\u001b]8;;\u001b\\\n",
       "\u001b[2;36m                    \u001b[0m         \u001b[4;94mhttps://api.openai.com/v1/chat/completions\u001b[0m \u001b[32m\"HTTP/1.1 200 OK\"\u001b[0m           \u001b[2m               \u001b[0m\n"
      ]
     },
     "metadata": {},
     "output_type": "display_data"
    }
   ],
   "source": [
    "import pandas as pd\n",
    "\n",
    "# 1) MultiQueryExpansion 임포트\n",
    "from autorag.nodes.queryexpansion.multi_query_expansion import MultiQueryExpansion\n",
    "\n",
    "# 2) generator_dict 설정\n",
    "generator_dict = {\n",
    "    \"generator_module_type\": \"llama_index_llm\",\n",
    "    \"llm\": \"openai\",\n",
    "    \"model\": \"gpt-4o\",\n",
    "    # 기타 필요한 파라미터...\n",
    "}\n",
    "\n",
    "# 3) MultiQueryExpansion 인스턴스 생성\n",
    "project_dir = \"./autorag/project_dir2\"\n",
    "mqe = MultiQueryExpansion(\n",
    "    project_dir=project_dir,\n",
    "    **generator_dict\n",
    ")\n",
    "\n",
    "# 4) 확장할 쿼리만 들어 있는 DataFrame 준비\n",
    "df_input = pd.DataFrame({\n",
    "    \"query\": \n",
    "        QD_result_df[\"queries\"][0]\n",
    "        # \"How can I maintain a shallow depth of field in Aperture Priority mode?\", \n",
    "        # \"Is face detection available on the X-S20?\"\n",
    "    \n",
    "})\n",
    "\n",
    "# 5) 멀티 쿼리 확장 (기본 prompt 사용)\n",
    "MQE_result_df = mqe.pure(previous_result=df_input)\n",
    "\n",
    "# 6) 결과 확인\n",
    "# print(result_df)\n"
   ]
  },
  {
   "cell_type": "code",
   "execution_count": 8,
   "metadata": {},
   "outputs": [
    {
     "data": {
      "text/plain": [
       "[['How to adjust focus?',\n",
       "  'How can I change the focus settings?',\n",
       "  'What are the steps to modify the focus?',\n",
       "  'How do I alter the focus on my camera?']]"
      ]
     },
     "execution_count": 8,
     "metadata": {},
     "output_type": "execute_result"
    }
   ],
   "source": [
    "list(MQE_result_df[\"queries\"])"
   ]
  },
  {
   "cell_type": "code",
   "execution_count": 9,
   "metadata": {},
   "outputs": [
    {
     "data": {
      "text/plain": [
       "['How to adjust focus?',\n",
       " 'How can I change the focus settings?',\n",
       " 'What are the steps to modify the focus?',\n",
       " 'How do I alter the focus on my camera?']"
      ]
     },
     "execution_count": 9,
     "metadata": {},
     "output_type": "execute_result"
    }
   ],
   "source": [
    "MQE_result_df['queries'][0]"
   ]
  },
  {
   "cell_type": "code",
   "execution_count": 10,
   "metadata": {},
   "outputs": [
    {
     "data": {
      "text/html": [
       "<pre style=\"white-space:pre;overflow-x:auto;line-height:normal;font-family:Menlo,'DejaVu Sans Mono',consolas,'Courier New',monospace\"><span style=\"color: #7fbfbf; text-decoration-color: #7fbfbf\">[02/05/25 09:17:01] </span><span style=\"color: #000080; text-decoration-color: #000080\">INFO    </span> <span style=\"font-weight: bold\">[</span>discover_namespace_packages.py:<span style=\"color: #008080; text-decoration-color: #008080; font-weight: bold\">12</span><span style=\"font-weight: bold\">]</span> &gt;&gt; Discovering   <a href=\"file:///home/jeongho/git/SKN05-FINAL-1TEAM/jeongho/RAGprojects_env/lib/python3.12/site-packages/pinecone_plugin_interface/actions/discover_namespace_packages.py\" target=\"_blank\"><span style=\"color: #7f7f7f; text-decoration-color: #7f7f7f\">discover_namespace_packages.py</span></a><span style=\"color: #7f7f7f; text-decoration-color: #7f7f7f\">:</span><a href=\"file:///home/jeongho/git/SKN05-FINAL-1TEAM/jeongho/RAGprojects_env/lib/python3.12/site-packages/pinecone_plugin_interface/actions/discover_namespace_packages.py#12\" target=\"_blank\"><span style=\"color: #7f7f7f; text-decoration-color: #7f7f7f\">12</span></a>\n",
       "<span style=\"color: #7fbfbf; text-decoration-color: #7fbfbf\">                    </span>         subpackages in                                       <span style=\"color: #7f7f7f; text-decoration-color: #7f7f7f\">                                 </span>\n",
       "<span style=\"color: #7fbfbf; text-decoration-color: #7fbfbf\">                    </span>         <span style=\"color: #800080; text-decoration-color: #800080; font-weight: bold\">_NamespacePath</span><span style=\"font-weight: bold\">([</span><span style=\"color: #008000; text-decoration-color: #008000\">'/home/jeongho/git/SKN05-FINAL-1TEAM</span> <span style=\"color: #7f7f7f; text-decoration-color: #7f7f7f\">                                 </span>\n",
       "<span style=\"color: #7fbfbf; text-decoration-color: #7fbfbf\">                    </span>         <span style=\"color: #008000; text-decoration-color: #008000\">/jeongho/RAGprojects_env/lib/python3.12/site-package</span> <span style=\"color: #7f7f7f; text-decoration-color: #7f7f7f\">                                 </span>\n",
       "<span style=\"color: #7fbfbf; text-decoration-color: #7fbfbf\">                    </span>         <span style=\"color: #008000; text-decoration-color: #008000\">s/pinecone_plugins'</span><span style=\"font-weight: bold\">])</span>                                <span style=\"color: #7f7f7f; text-decoration-color: #7f7f7f\">                                 </span>\n",
       "</pre>\n"
      ],
      "text/plain": [
       "\u001b[2;36m[02/05/25 09:17:01]\u001b[0m\u001b[2;36m \u001b[0m\u001b[34mINFO    \u001b[0m \u001b[1m[\u001b[0mdiscover_namespace_packages.py:\u001b[1;36m12\u001b[0m\u001b[1m]\u001b[0m >> Discovering   \u001b]8;id=433746;file:///home/jeongho/git/SKN05-FINAL-1TEAM/jeongho/RAGprojects_env/lib/python3.12/site-packages/pinecone_plugin_interface/actions/discover_namespace_packages.py\u001b\\\u001b[2mdiscover_namespace_packages.py\u001b[0m\u001b]8;;\u001b\\\u001b[2m:\u001b[0m\u001b]8;id=699987;file:///home/jeongho/git/SKN05-FINAL-1TEAM/jeongho/RAGprojects_env/lib/python3.12/site-packages/pinecone_plugin_interface/actions/discover_namespace_packages.py#12\u001b\\\u001b[2m12\u001b[0m\u001b]8;;\u001b\\\n",
       "\u001b[2;36m                    \u001b[0m         subpackages in                                       \u001b[2m                                 \u001b[0m\n",
       "\u001b[2;36m                    \u001b[0m         \u001b[1;35m_NamespacePath\u001b[0m\u001b[1m(\u001b[0m\u001b[1m[\u001b[0m\u001b[32m'/home/jeongho/git/SKN05-FINAL-1TEAM\u001b[0m \u001b[2m                                 \u001b[0m\n",
       "\u001b[2;36m                    \u001b[0m         \u001b[32m/jeongho/RAGprojects_env/lib/python3.12/site-package\u001b[0m \u001b[2m                                 \u001b[0m\n",
       "\u001b[2;36m                    \u001b[0m         \u001b[32ms/pinecone_plugins'\u001b[0m\u001b[1m]\u001b[0m\u001b[1m)\u001b[0m                                \u001b[2m                                 \u001b[0m\n"
      ]
     },
     "metadata": {},
     "output_type": "display_data"
    },
    {
     "data": {
      "text/html": [
       "<pre style=\"white-space:pre;overflow-x:auto;line-height:normal;font-family:Menlo,'DejaVu Sans Mono',consolas,'Courier New',monospace\"><span style=\"color: #7fbfbf; text-decoration-color: #7fbfbf\">                    </span><span style=\"color: #000080; text-decoration-color: #000080\">INFO    </span> <span style=\"font-weight: bold\">[</span>discover_plugins.py:<span style=\"color: #008080; text-decoration-color: #008080; font-weight: bold\">9</span><span style=\"font-weight: bold\">]</span> &gt;&gt; Looking for plugins in                <a href=\"file:///home/jeongho/git/SKN05-FINAL-1TEAM/jeongho/RAGprojects_env/lib/python3.12/site-packages/pinecone_plugin_interface/actions/discover_plugins.py\" target=\"_blank\"><span style=\"color: #7f7f7f; text-decoration-color: #7f7f7f\">discover_plugins.py</span></a><span style=\"color: #7f7f7f; text-decoration-color: #7f7f7f\">:</span><a href=\"file:///home/jeongho/git/SKN05-FINAL-1TEAM/jeongho/RAGprojects_env/lib/python3.12/site-packages/pinecone_plugin_interface/actions/discover_plugins.py#9\" target=\"_blank\"><span style=\"color: #7f7f7f; text-decoration-color: #7f7f7f\">9</span></a>\n",
       "<span style=\"color: #7fbfbf; text-decoration-color: #7fbfbf\">                    </span>         pinecone_plugins.inference                                       <span style=\"color: #7f7f7f; text-decoration-color: #7f7f7f\">                     </span>\n",
       "</pre>\n"
      ],
      "text/plain": [
       "\u001b[2;36m                   \u001b[0m\u001b[2;36m \u001b[0m\u001b[34mINFO    \u001b[0m \u001b[1m[\u001b[0mdiscover_plugins.py:\u001b[1;36m9\u001b[0m\u001b[1m]\u001b[0m >> Looking for plugins in                \u001b]8;id=579906;file:///home/jeongho/git/SKN05-FINAL-1TEAM/jeongho/RAGprojects_env/lib/python3.12/site-packages/pinecone_plugin_interface/actions/discover_plugins.py\u001b\\\u001b[2mdiscover_plugins.py\u001b[0m\u001b]8;;\u001b\\\u001b[2m:\u001b[0m\u001b]8;id=333488;file:///home/jeongho/git/SKN05-FINAL-1TEAM/jeongho/RAGprojects_env/lib/python3.12/site-packages/pinecone_plugin_interface/actions/discover_plugins.py#9\u001b\\\u001b[2m9\u001b[0m\u001b]8;;\u001b\\\n",
       "\u001b[2;36m                    \u001b[0m         pinecone_plugins.inference                                       \u001b[2m                     \u001b[0m\n"
      ]
     },
     "metadata": {},
     "output_type": "display_data"
    },
    {
     "data": {
      "text/html": [
       "<pre style=\"white-space:pre;overflow-x:auto;line-height:normal;font-family:Menlo,'DejaVu Sans Mono',consolas,'Courier New',monospace\"><span style=\"color: #7fbfbf; text-decoration-color: #7fbfbf\">                    </span><span style=\"color: #000080; text-decoration-color: #000080\">INFO    </span> <span style=\"font-weight: bold\">[</span>installation.py:<span style=\"color: #008080; text-decoration-color: #008080; font-weight: bold\">10</span><span style=\"font-weight: bold\">]</span> &gt;&gt; Installing plugin inference into            <a href=\"file:///home/jeongho/git/SKN05-FINAL-1TEAM/jeongho/RAGprojects_env/lib/python3.12/site-packages/pinecone_plugin_interface/actions/installation.py\" target=\"_blank\"><span style=\"color: #7f7f7f; text-decoration-color: #7f7f7f\">installation.py</span></a><span style=\"color: #7f7f7f; text-decoration-color: #7f7f7f\">:</span><a href=\"file:///home/jeongho/git/SKN05-FINAL-1TEAM/jeongho/RAGprojects_env/lib/python3.12/site-packages/pinecone_plugin_interface/actions/installation.py#10\" target=\"_blank\"><span style=\"color: #7f7f7f; text-decoration-color: #7f7f7f\">10</span></a>\n",
       "<span style=\"color: #7fbfbf; text-decoration-color: #7fbfbf\">                    </span>         PineconeGRPC                                                        <span style=\"color: #7f7f7f; text-decoration-color: #7f7f7f\">                  </span>\n",
       "</pre>\n"
      ],
      "text/plain": [
       "\u001b[2;36m                   \u001b[0m\u001b[2;36m \u001b[0m\u001b[34mINFO    \u001b[0m \u001b[1m[\u001b[0minstallation.py:\u001b[1;36m10\u001b[0m\u001b[1m]\u001b[0m >> Installing plugin inference into            \u001b]8;id=66186;file:///home/jeongho/git/SKN05-FINAL-1TEAM/jeongho/RAGprojects_env/lib/python3.12/site-packages/pinecone_plugin_interface/actions/installation.py\u001b\\\u001b[2minstallation.py\u001b[0m\u001b]8;;\u001b\\\u001b[2m:\u001b[0m\u001b]8;id=241364;file:///home/jeongho/git/SKN05-FINAL-1TEAM/jeongho/RAGprojects_env/lib/python3.12/site-packages/pinecone_plugin_interface/actions/installation.py#10\u001b\\\u001b[2m10\u001b[0m\u001b]8;;\u001b\\\n",
       "\u001b[2;36m                    \u001b[0m         PineconeGRPC                                                        \u001b[2m                  \u001b[0m\n"
      ]
     },
     "metadata": {},
     "output_type": "display_data"
    },
    {
     "data": {
      "text/html": [
       "<pre style=\"white-space:pre;overflow-x:auto;line-height:normal;font-family:Menlo,'DejaVu Sans Mono',consolas,'Courier New',monospace\"><span style=\"color: #7fbfbf; text-decoration-color: #7fbfbf\">[02/05/25 09:17:02] </span><span style=\"color: #000080; text-decoration-color: #000080\">INFO    </span> <span style=\"font-weight: bold\">[</span>discover_namespace_packages.py:<span style=\"color: #008080; text-decoration-color: #008080; font-weight: bold\">12</span><span style=\"font-weight: bold\">]</span> &gt;&gt; Discovering   <a href=\"file:///home/jeongho/git/SKN05-FINAL-1TEAM/jeongho/RAGprojects_env/lib/python3.12/site-packages/pinecone_plugin_interface/actions/discover_namespace_packages.py\" target=\"_blank\"><span style=\"color: #7f7f7f; text-decoration-color: #7f7f7f\">discover_namespace_packages.py</span></a><span style=\"color: #7f7f7f; text-decoration-color: #7f7f7f\">:</span><a href=\"file:///home/jeongho/git/SKN05-FINAL-1TEAM/jeongho/RAGprojects_env/lib/python3.12/site-packages/pinecone_plugin_interface/actions/discover_namespace_packages.py#12\" target=\"_blank\"><span style=\"color: #7f7f7f; text-decoration-color: #7f7f7f\">12</span></a>\n",
       "<span style=\"color: #7fbfbf; text-decoration-color: #7fbfbf\">                    </span>         subpackages in                                       <span style=\"color: #7f7f7f; text-decoration-color: #7f7f7f\">                                 </span>\n",
       "<span style=\"color: #7fbfbf; text-decoration-color: #7fbfbf\">                    </span>         <span style=\"color: #800080; text-decoration-color: #800080; font-weight: bold\">_NamespacePath</span><span style=\"font-weight: bold\">([</span><span style=\"color: #008000; text-decoration-color: #008000\">'/home/jeongho/git/SKN05-FINAL-1TEAM</span> <span style=\"color: #7f7f7f; text-decoration-color: #7f7f7f\">                                 </span>\n",
       "<span style=\"color: #7fbfbf; text-decoration-color: #7fbfbf\">                    </span>         <span style=\"color: #008000; text-decoration-color: #008000\">/jeongho/RAGprojects_env/lib/python3.12/site-package</span> <span style=\"color: #7f7f7f; text-decoration-color: #7f7f7f\">                                 </span>\n",
       "<span style=\"color: #7fbfbf; text-decoration-color: #7fbfbf\">                    </span>         <span style=\"color: #008000; text-decoration-color: #008000\">s/pinecone_plugins'</span><span style=\"font-weight: bold\">])</span>                                <span style=\"color: #7f7f7f; text-decoration-color: #7f7f7f\">                                 </span>\n",
       "</pre>\n"
      ],
      "text/plain": [
       "\u001b[2;36m[02/05/25 09:17:02]\u001b[0m\u001b[2;36m \u001b[0m\u001b[34mINFO    \u001b[0m \u001b[1m[\u001b[0mdiscover_namespace_packages.py:\u001b[1;36m12\u001b[0m\u001b[1m]\u001b[0m >> Discovering   \u001b]8;id=36351;file:///home/jeongho/git/SKN05-FINAL-1TEAM/jeongho/RAGprojects_env/lib/python3.12/site-packages/pinecone_plugin_interface/actions/discover_namespace_packages.py\u001b\\\u001b[2mdiscover_namespace_packages.py\u001b[0m\u001b]8;;\u001b\\\u001b[2m:\u001b[0m\u001b]8;id=376229;file:///home/jeongho/git/SKN05-FINAL-1TEAM/jeongho/RAGprojects_env/lib/python3.12/site-packages/pinecone_plugin_interface/actions/discover_namespace_packages.py#12\u001b\\\u001b[2m12\u001b[0m\u001b]8;;\u001b\\\n",
       "\u001b[2;36m                    \u001b[0m         subpackages in                                       \u001b[2m                                 \u001b[0m\n",
       "\u001b[2;36m                    \u001b[0m         \u001b[1;35m_NamespacePath\u001b[0m\u001b[1m(\u001b[0m\u001b[1m[\u001b[0m\u001b[32m'/home/jeongho/git/SKN05-FINAL-1TEAM\u001b[0m \u001b[2m                                 \u001b[0m\n",
       "\u001b[2;36m                    \u001b[0m         \u001b[32m/jeongho/RAGprojects_env/lib/python3.12/site-package\u001b[0m \u001b[2m                                 \u001b[0m\n",
       "\u001b[2;36m                    \u001b[0m         \u001b[32ms/pinecone_plugins'\u001b[0m\u001b[1m]\u001b[0m\u001b[1m)\u001b[0m                                \u001b[2m                                 \u001b[0m\n"
      ]
     },
     "metadata": {},
     "output_type": "display_data"
    },
    {
     "data": {
      "text/html": [
       "<pre style=\"white-space:pre;overflow-x:auto;line-height:normal;font-family:Menlo,'DejaVu Sans Mono',consolas,'Courier New',monospace\"><span style=\"color: #7fbfbf; text-decoration-color: #7fbfbf\">                    </span><span style=\"color: #000080; text-decoration-color: #000080\">INFO    </span> <span style=\"font-weight: bold\">[</span>discover_plugins.py:<span style=\"color: #008080; text-decoration-color: #008080; font-weight: bold\">9</span><span style=\"font-weight: bold\">]</span> &gt;&gt; Looking for plugins in                <a href=\"file:///home/jeongho/git/SKN05-FINAL-1TEAM/jeongho/RAGprojects_env/lib/python3.12/site-packages/pinecone_plugin_interface/actions/discover_plugins.py\" target=\"_blank\"><span style=\"color: #7f7f7f; text-decoration-color: #7f7f7f\">discover_plugins.py</span></a><span style=\"color: #7f7f7f; text-decoration-color: #7f7f7f\">:</span><a href=\"file:///home/jeongho/git/SKN05-FINAL-1TEAM/jeongho/RAGprojects_env/lib/python3.12/site-packages/pinecone_plugin_interface/actions/discover_plugins.py#9\" target=\"_blank\"><span style=\"color: #7f7f7f; text-decoration-color: #7f7f7f\">9</span></a>\n",
       "<span style=\"color: #7fbfbf; text-decoration-color: #7fbfbf\">                    </span>         pinecone_plugins.inference                                       <span style=\"color: #7f7f7f; text-decoration-color: #7f7f7f\">                     </span>\n",
       "</pre>\n"
      ],
      "text/plain": [
       "\u001b[2;36m                   \u001b[0m\u001b[2;36m \u001b[0m\u001b[34mINFO    \u001b[0m \u001b[1m[\u001b[0mdiscover_plugins.py:\u001b[1;36m9\u001b[0m\u001b[1m]\u001b[0m >> Looking for plugins in                \u001b]8;id=691021;file:///home/jeongho/git/SKN05-FINAL-1TEAM/jeongho/RAGprojects_env/lib/python3.12/site-packages/pinecone_plugin_interface/actions/discover_plugins.py\u001b\\\u001b[2mdiscover_plugins.py\u001b[0m\u001b]8;;\u001b\\\u001b[2m:\u001b[0m\u001b]8;id=297004;file:///home/jeongho/git/SKN05-FINAL-1TEAM/jeongho/RAGprojects_env/lib/python3.12/site-packages/pinecone_plugin_interface/actions/discover_plugins.py#9\u001b\\\u001b[2m9\u001b[0m\u001b]8;;\u001b\\\n",
       "\u001b[2;36m                    \u001b[0m         pinecone_plugins.inference                                       \u001b[2m                     \u001b[0m\n"
      ]
     },
     "metadata": {},
     "output_type": "display_data"
    },
    {
     "data": {
      "text/plain": [
       "{'dimension': 1536,\n",
       " 'index_fullness': 0.0,\n",
       " 'namespaces': {'': {'vector_count': 1843}},\n",
       " 'total_vector_count': 1843}"
      ]
     },
     "execution_count": 10,
     "metadata": {},
     "output_type": "execute_result"
    }
   ],
   "source": [
    "import time\n",
    "import os\n",
    "from pinecone.grpc import PineconeGRPC as Pinecone\n",
    "from pinecone import ServerlessSpec\n",
    "from dotenv import load_dotenv\n",
    "\n",
    "load_dotenv(dotenv_path=\".env\", override=True)\n",
    "\n",
    "pc = Pinecone(api_key=os.getenv(\"PINECONE_API_KEY\"))\n",
    "\n",
    "spec = ServerlessSpec(cloud=\"aws\", region=\"us-east-1\")\n",
    "\n",
    "index_name = 'camera-document'\n",
    "\n",
    "# check if index already exists (it shouldn't if this is your first run)\n",
    "if index_name not in pc.list_indexes().names():\n",
    "    # if does not exist, create index\n",
    "    pc.create_index(\n",
    "        index_name,\n",
    "        dimension=1536,  # dimensionality of text-embed-3-small\n",
    "        metric='dotproduct',\n",
    "        spec=spec\n",
    "    )\n",
    "    # wait for index to be initialized\n",
    "    while not pc.describe_index(index_name).status['ready']:\n",
    "        time.sleep(1)\n",
    "\n",
    "# connect to index\n",
    "index = pc.Index(index_name)\n",
    "time.sleep(1)\n",
    "# view index stats\n",
    "index.describe_index_stats()"
   ]
  },
  {
   "cell_type": "code",
   "execution_count": 11,
   "metadata": {},
   "outputs": [
    {
     "data": {
      "text/html": [
       "<pre style=\"white-space:pre;overflow-x:auto;line-height:normal;font-family:Menlo,'DejaVu Sans Mono',consolas,'Courier New',monospace\"><span style=\"color: #7fbfbf; text-decoration-color: #7fbfbf\">[02/05/25 09:17:06] </span><span style=\"color: #000080; text-decoration-color: #000080\">INFO    </span> <span style=\"font-weight: bold\">[</span>_client.py:<span style=\"color: #008080; text-decoration-color: #008080; font-weight: bold\">1026</span><span style=\"font-weight: bold\">]</span> &gt;&gt; HTTP Request: <span style=\"color: #808000; text-decoration-color: #808000; font-weight: bold\">POST</span>                                <a href=\"file:///home/jeongho/git/SKN05-FINAL-1TEAM/jeongho/RAGprojects_env/lib/python3.12/site-packages/httpx/_client.py\" target=\"_blank\"><span style=\"color: #7f7f7f; text-decoration-color: #7f7f7f\">_client.py</span></a><span style=\"color: #7f7f7f; text-decoration-color: #7f7f7f\">:</span><a href=\"file:///home/jeongho/git/SKN05-FINAL-1TEAM/jeongho/RAGprojects_env/lib/python3.12/site-packages/httpx/_client.py#1026\" target=\"_blank\"><span style=\"color: #7f7f7f; text-decoration-color: #7f7f7f\">1026</span></a>\n",
       "<span style=\"color: #7fbfbf; text-decoration-color: #7fbfbf\">                    </span>         <span style=\"color: #0000ff; text-decoration-color: #0000ff; text-decoration: underline\">https://api.openai.com/v1/embeddings</span> <span style=\"color: #008000; text-decoration-color: #008000\">\"HTTP/1.1 200 OK\"</span>                 <span style=\"color: #7f7f7f; text-decoration-color: #7f7f7f\">               </span>\n",
       "</pre>\n"
      ],
      "text/plain": [
       "\u001b[2;36m[02/05/25 09:17:06]\u001b[0m\u001b[2;36m \u001b[0m\u001b[34mINFO    \u001b[0m \u001b[1m[\u001b[0m_client.py:\u001b[1;36m1026\u001b[0m\u001b[1m]\u001b[0m >> HTTP Request: \u001b[1;33mPOST\u001b[0m                                \u001b]8;id=511112;file:///home/jeongho/git/SKN05-FINAL-1TEAM/jeongho/RAGprojects_env/lib/python3.12/site-packages/httpx/_client.py\u001b\\\u001b[2m_client.py\u001b[0m\u001b]8;;\u001b\\\u001b[2m:\u001b[0m\u001b]8;id=313319;file:///home/jeongho/git/SKN05-FINAL-1TEAM/jeongho/RAGprojects_env/lib/python3.12/site-packages/httpx/_client.py#1026\u001b\\\u001b[2m1026\u001b[0m\u001b]8;;\u001b\\\n",
       "\u001b[2;36m                    \u001b[0m         \u001b[4;94mhttps://api.openai.com/v1/embeddings\u001b[0m \u001b[32m\"HTTP/1.1 200 OK\"\u001b[0m                 \u001b[2m               \u001b[0m\n"
      ]
     },
     "metadata": {},
     "output_type": "display_data"
    },
    {
     "data": {
      "text/html": [
       "<pre style=\"white-space:pre;overflow-x:auto;line-height:normal;font-family:Menlo,'DejaVu Sans Mono',consolas,'Courier New',monospace\"><span style=\"color: #7fbfbf; text-decoration-color: #7fbfbf\">[02/05/25 09:17:13] </span><span style=\"color: #000080; text-decoration-color: #000080\">INFO    </span> <span style=\"font-weight: bold\">[</span>_client.py:<span style=\"color: #008080; text-decoration-color: #008080; font-weight: bold\">1026</span><span style=\"font-weight: bold\">]</span> &gt;&gt; HTTP Request: <span style=\"color: #808000; text-decoration-color: #808000; font-weight: bold\">POST</span>                                <a href=\"file:///home/jeongho/git/SKN05-FINAL-1TEAM/jeongho/RAGprojects_env/lib/python3.12/site-packages/httpx/_client.py\" target=\"_blank\"><span style=\"color: #7f7f7f; text-decoration-color: #7f7f7f\">_client.py</span></a><span style=\"color: #7f7f7f; text-decoration-color: #7f7f7f\">:</span><a href=\"file:///home/jeongho/git/SKN05-FINAL-1TEAM/jeongho/RAGprojects_env/lib/python3.12/site-packages/httpx/_client.py#1026\" target=\"_blank\"><span style=\"color: #7f7f7f; text-decoration-color: #7f7f7f\">1026</span></a>\n",
       "<span style=\"color: #7fbfbf; text-decoration-color: #7fbfbf\">                    </span>         <span style=\"color: #0000ff; text-decoration-color: #0000ff; text-decoration: underline\">https://api.openai.com/v1/embeddings</span> <span style=\"color: #008000; text-decoration-color: #008000\">\"HTTP/1.1 200 OK\"</span>                 <span style=\"color: #7f7f7f; text-decoration-color: #7f7f7f\">               </span>\n",
       "</pre>\n"
      ],
      "text/plain": [
       "\u001b[2;36m[02/05/25 09:17:13]\u001b[0m\u001b[2;36m \u001b[0m\u001b[34mINFO    \u001b[0m \u001b[1m[\u001b[0m_client.py:\u001b[1;36m1026\u001b[0m\u001b[1m]\u001b[0m >> HTTP Request: \u001b[1;33mPOST\u001b[0m                                \u001b]8;id=250915;file:///home/jeongho/git/SKN05-FINAL-1TEAM/jeongho/RAGprojects_env/lib/python3.12/site-packages/httpx/_client.py\u001b\\\u001b[2m_client.py\u001b[0m\u001b]8;;\u001b\\\u001b[2m:\u001b[0m\u001b]8;id=560669;file:///home/jeongho/git/SKN05-FINAL-1TEAM/jeongho/RAGprojects_env/lib/python3.12/site-packages/httpx/_client.py#1026\u001b\\\u001b[2m1026\u001b[0m\u001b]8;;\u001b\\\n",
       "\u001b[2;36m                    \u001b[0m         \u001b[4;94mhttps://api.openai.com/v1/embeddings\u001b[0m \u001b[32m\"HTTP/1.1 200 OK\"\u001b[0m                 \u001b[2m               \u001b[0m\n"
      ]
     },
     "metadata": {},
     "output_type": "display_data"
    },
    {
     "data": {
      "text/html": [
       "<pre style=\"white-space:pre;overflow-x:auto;line-height:normal;font-family:Menlo,'DejaVu Sans Mono',consolas,'Courier New',monospace\"><span style=\"color: #7fbfbf; text-decoration-color: #7fbfbf\">[02/05/25 09:17:14] </span><span style=\"color: #000080; text-decoration-color: #000080\">INFO    </span> <span style=\"font-weight: bold\">[</span>_client.py:<span style=\"color: #008080; text-decoration-color: #008080; font-weight: bold\">1026</span><span style=\"font-weight: bold\">]</span> &gt;&gt; HTTP Request: <span style=\"color: #808000; text-decoration-color: #808000; font-weight: bold\">POST</span>                                <a href=\"file:///home/jeongho/git/SKN05-FINAL-1TEAM/jeongho/RAGprojects_env/lib/python3.12/site-packages/httpx/_client.py\" target=\"_blank\"><span style=\"color: #7f7f7f; text-decoration-color: #7f7f7f\">_client.py</span></a><span style=\"color: #7f7f7f; text-decoration-color: #7f7f7f\">:</span><a href=\"file:///home/jeongho/git/SKN05-FINAL-1TEAM/jeongho/RAGprojects_env/lib/python3.12/site-packages/httpx/_client.py#1026\" target=\"_blank\"><span style=\"color: #7f7f7f; text-decoration-color: #7f7f7f\">1026</span></a>\n",
       "<span style=\"color: #7fbfbf; text-decoration-color: #7fbfbf\">                    </span>         <span style=\"color: #0000ff; text-decoration-color: #0000ff; text-decoration: underline\">https://api.openai.com/v1/embeddings</span> <span style=\"color: #008000; text-decoration-color: #008000\">\"HTTP/1.1 200 OK\"</span>                 <span style=\"color: #7f7f7f; text-decoration-color: #7f7f7f\">               </span>\n",
       "</pre>\n"
      ],
      "text/plain": [
       "\u001b[2;36m[02/05/25 09:17:14]\u001b[0m\u001b[2;36m \u001b[0m\u001b[34mINFO    \u001b[0m \u001b[1m[\u001b[0m_client.py:\u001b[1;36m1026\u001b[0m\u001b[1m]\u001b[0m >> HTTP Request: \u001b[1;33mPOST\u001b[0m                                \u001b]8;id=700147;file:///home/jeongho/git/SKN05-FINAL-1TEAM/jeongho/RAGprojects_env/lib/python3.12/site-packages/httpx/_client.py\u001b\\\u001b[2m_client.py\u001b[0m\u001b]8;;\u001b\\\u001b[2m:\u001b[0m\u001b]8;id=956502;file:///home/jeongho/git/SKN05-FINAL-1TEAM/jeongho/RAGprojects_env/lib/python3.12/site-packages/httpx/_client.py#1026\u001b\\\u001b[2m1026\u001b[0m\u001b]8;;\u001b\\\n",
       "\u001b[2;36m                    \u001b[0m         \u001b[4;94mhttps://api.openai.com/v1/embeddings\u001b[0m \u001b[32m\"HTTP/1.1 200 OK\"\u001b[0m                 \u001b[2m               \u001b[0m\n"
      ]
     },
     "metadata": {},
     "output_type": "display_data"
    },
    {
     "data": {
      "text/html": [
       "<pre style=\"white-space:pre;overflow-x:auto;line-height:normal;font-family:Menlo,'DejaVu Sans Mono',consolas,'Courier New',monospace\"><span style=\"color: #7fbfbf; text-decoration-color: #7fbfbf\">[02/05/25 09:17:15] </span><span style=\"color: #000080; text-decoration-color: #000080\">INFO    </span> <span style=\"font-weight: bold\">[</span>_client.py:<span style=\"color: #008080; text-decoration-color: #008080; font-weight: bold\">1026</span><span style=\"font-weight: bold\">]</span> &gt;&gt; HTTP Request: <span style=\"color: #808000; text-decoration-color: #808000; font-weight: bold\">POST</span>                                <a href=\"file:///home/jeongho/git/SKN05-FINAL-1TEAM/jeongho/RAGprojects_env/lib/python3.12/site-packages/httpx/_client.py\" target=\"_blank\"><span style=\"color: #7f7f7f; text-decoration-color: #7f7f7f\">_client.py</span></a><span style=\"color: #7f7f7f; text-decoration-color: #7f7f7f\">:</span><a href=\"file:///home/jeongho/git/SKN05-FINAL-1TEAM/jeongho/RAGprojects_env/lib/python3.12/site-packages/httpx/_client.py#1026\" target=\"_blank\"><span style=\"color: #7f7f7f; text-decoration-color: #7f7f7f\">1026</span></a>\n",
       "<span style=\"color: #7fbfbf; text-decoration-color: #7fbfbf\">                    </span>         <span style=\"color: #0000ff; text-decoration-color: #0000ff; text-decoration: underline\">https://api.openai.com/v1/embeddings</span> <span style=\"color: #008000; text-decoration-color: #008000\">\"HTTP/1.1 200 OK\"</span>                 <span style=\"color: #7f7f7f; text-decoration-color: #7f7f7f\">               </span>\n",
       "</pre>\n"
      ],
      "text/plain": [
       "\u001b[2;36m[02/05/25 09:17:15]\u001b[0m\u001b[2;36m \u001b[0m\u001b[34mINFO    \u001b[0m \u001b[1m[\u001b[0m_client.py:\u001b[1;36m1026\u001b[0m\u001b[1m]\u001b[0m >> HTTP Request: \u001b[1;33mPOST\u001b[0m                                \u001b]8;id=68223;file:///home/jeongho/git/SKN05-FINAL-1TEAM/jeongho/RAGprojects_env/lib/python3.12/site-packages/httpx/_client.py\u001b\\\u001b[2m_client.py\u001b[0m\u001b]8;;\u001b\\\u001b[2m:\u001b[0m\u001b]8;id=199573;file:///home/jeongho/git/SKN05-FINAL-1TEAM/jeongho/RAGprojects_env/lib/python3.12/site-packages/httpx/_client.py#1026\u001b\\\u001b[2m1026\u001b[0m\u001b]8;;\u001b\\\n",
       "\u001b[2;36m                    \u001b[0m         \u001b[4;94mhttps://api.openai.com/v1/embeddings\u001b[0m \u001b[32m\"HTTP/1.1 200 OK\"\u001b[0m                 \u001b[2m               \u001b[0m\n"
      ]
     },
     "metadata": {},
     "output_type": "display_data"
    }
   ],
   "source": [
    "from openai import OpenAI\n",
    "import pandas as pd\n",
    "\n",
    "client = OpenAI(\n",
    "    api_key=os.getenv(\"OPENAI_API_KEY\")\n",
    ")\n",
    "\n",
    "# MODEL = documents[0].metadata['embedding_model']\n",
    "MODEL = 'text-embedding-3-small'\n",
    "\n",
    "# 예시: 두 개의 질의(queries)를 가진 데이터프레임\n",
    "df_queries = pd.DataFrame({\n",
    "    \"query\": MQE_result_df['queries'][0]\n",
    "})\n",
    "query_results = []\n",
    "for query in df_queries[\"query\"]:\n",
    "    xq = client.embeddings.create(input=query, model=MODEL).data[0].embedding\n",
    "    query_results.append(index.query(\n",
    "            xq,\n",
    "            # filter={\n",
    "            #     \"model\": {\"$eq\": \"x-t5\"}\n",
    "            # },\n",
    "            top_k=10,\n",
    "            include_metadata=True\n",
    "            )\n",
    "        )"
   ]
  },
  {
   "cell_type": "code",
   "execution_count": 12,
   "metadata": {},
   "outputs": [
    {
     "data": {
      "text/plain": [
       "10"
      ]
     },
     "execution_count": 12,
     "metadata": {},
     "output_type": "execute_result"
    }
   ],
   "source": [
    "len(query_results[0]['matches'])"
   ]
  },
  {
   "cell_type": "code",
   "execution_count": 13,
   "metadata": {},
   "outputs": [
    {
     "data": {
      "text/plain": [
       "[{'matches': [{'id': 'x100v_page73',\n",
       "               'metadata': {'chapter': 'Taking Photographs',\n",
       "                            'model': 'x100v',\n",
       "                            'page': 73.0,\n",
       "                            'parsing_result': '# Manual Focus\\n'\n",
       "                                              '\\n'\n",
       "                                              'Adjust focus manually.\\n'\n",
       "                                              '\\n'\n",
       "                                              '1. Slide the focus mode selector '\n",
       "                                              'to **M**.\\n'\n",
       "                                              '\\n'\n",
       "                                              '   !Focus Mode Selector\\n'\n",
       "                                              '\\n'\n",
       "                                              '   **MF** will appear in the '\n",
       "                                              'display.\\n'\n",
       "                                              '\\n'\n",
       "                                              '   !MF Display\\n'\n",
       "                                              '\\n'\n",
       "                                              '2. Focus manually using the lens '\n",
       "                                              'focus ring. Rotate the ring left '\n",
       "                                              'to reduce the focus distance, '\n",
       "                                              'right to increase.\\n'\n",
       "                                              '\\n'\n",
       "                                              '   !Lens Focus Ring\\n'\n",
       "                                              '\\n'\n",
       "                                              '3. Take pictures.\\n'\n",
       "                                              '\\n'\n",
       "                                              '> 💡 **Tip:**\\n'\n",
       "                                              '> Use **BUTTON/DIAL SETTING > '\n",
       "                                              'FOCUS RING** to reverse the '\n",
       "                                              'direction of rotation of the '\n",
       "                                              'focus ring.',\n",
       "                            'section': 'Manual Focus',\n",
       "                            'subsection': ['Manual Focus']},\n",
       "               'score': 0.67522323,\n",
       "               'sparse_values': {'indices': [], 'values': []},\n",
       "               'values': []},\n",
       "              {'id': 'x-e4_page77',\n",
       "               'metadata': {'chapter': 'Taking Photographs',\n",
       "                            'model': 'x-e4',\n",
       "                            'page': 77.0,\n",
       "                            'parsing_result': '# Manual Focus\\n'\n",
       "                                              '\\n'\n",
       "                                              'Adjust focus manually.\\n'\n",
       "                                              '\\n'\n",
       "                                              '1. Select **MANUAL FOCUS** for '\n",
       "                                              '**AF/MF SETTING > FOCUS MODE**.\\n'\n",
       "                                              '\\n'\n",
       "                                              '   !Focus Mode Display\\n'\n",
       "                                              '\\n'\n",
       "                                              '2. Focus manually using the lens '\n",
       "                                              'focus ring. Rotate the ring left '\n",
       "                                              'to reduce the focus distance, '\n",
       "                                              'right to increase.\\n'\n",
       "                                              '\\n'\n",
       "                                              '   !Lens Focus Ring\\n'\n",
       "                                              '\\n'\n",
       "                                              '3. Take pictures.\\n'\n",
       "                                              '\\n'\n",
       "                                              '> 💡 **Note:**\\n'\n",
       "                                              '> - Use **BUTTON/DIAL SETTING > '\n",
       "                                              'FOCUS RING** to reverse the '\n",
       "                                              'direction of rotation of the '\n",
       "                                              'focus ring.\\n'\n",
       "                                              '> - Regardless of the option '\n",
       "                                              'selected, manual focus will be '\n",
       "                                              'used when the lens is in manual '\n",
       "                                              'focus mode.',\n",
       "                            'section': 'Manual Focus',\n",
       "                            'subsection': ['Manual Focus']},\n",
       "               'score': 0.6680348,\n",
       "               'sparse_values': {'indices': [], 'values': []},\n",
       "               'values': []},\n",
       "              {'id': 'x-s20_page100',\n",
       "               'metadata': {'chapter': 'Taking Photographs',\n",
       "                            'model': 'x-s20',\n",
       "                            'page': 100.0,\n",
       "                            'parsing_result': '# Manual Focus\\n'\n",
       "                                              '\\n'\n",
       "                                              'Adjust focus manually.\\n'\n",
       "                                              '\\n'\n",
       "                                              '1. Select **MANUAL FOCUS** for '\n",
       "                                              '!AF/MF **AF/MF SETTING > FOCUS '\n",
       "                                              'MODE**.\\n'\n",
       "                                              '\\n'\n",
       "                                              '   !Focus Mode Display\\n'\n",
       "                                              '\\n'\n",
       "                                              '2. Focus manually using the lens '\n",
       "                                              'focus ring. Rotate the ring left '\n",
       "                                              'to reduce the focus distance, '\n",
       "                                              'right to increase.\\n'\n",
       "                                              '\\n'\n",
       "                                              '   !Lens Focus Ring\\n'\n",
       "                                              '\\n'\n",
       "                                              '3. Take pictures.\\n'\n",
       "                                              '\\n'\n",
       "                                              '> 💡 **Note:**\\n'\n",
       "                                              '> - Use !Button/Dial Setting '\n",
       "                                              '**BUTTON/DIAL SETTING > LENS '\n",
       "                                              'ZOOM/FOCUS SETTING** to reverse '\n",
       "                                              'the direction of rotation of the '\n",
       "                                              'focus ring.\\n'\n",
       "                                              '> - Regardless of the option '\n",
       "                                              'selected, manual focus will be '\n",
       "                                              'used when the lens is in manual '\n",
       "                                              'focus mode.',\n",
       "                            'section': 'Manual Focus',\n",
       "                            'subsection': ['Manual Focus']},\n",
       "               'score': 0.6516123,\n",
       "               'sparse_values': {'indices': [], 'values': []},\n",
       "               'values': []},\n",
       "              {'id': 'x100v_page72',\n",
       "               'metadata': {'chapter': 'Taking Photographs',\n",
       "                            'model': 'x100v',\n",
       "                            'page': 72.0,\n",
       "                            'parsing_result': '# Checking Focus\\n'\n",
       "                                              '\\n'\n",
       "                                              'To zoom in on the current focus '\n",
       "                                              'area for precise focus, press '\n",
       "                                              'the center of the rear command '\n",
       "                                              'dial. Use the focus stick (focus '\n",
       "                                              'lever) to choose another focus '\n",
       "                                              'area. Press the center of the '\n",
       "                                              'rear command dial again to '\n",
       "                                              'cancel zoom.\\n'\n",
       "                                              '\\n'\n",
       "                                              '!Focus Zoom\\n'\n",
       "                                              '\\n'\n",
       "                                              '- In focus mode **S**, zoom can '\n",
       "                                              'be adjusted by rotating the rear '\n",
       "                                              'command dial.\\n'\n",
       "                                              '- The focus stick can be used to '\n",
       "                                              'select the focus area while zoom '\n",
       "                                              'is in effect.\\n'\n",
       "                                              '- In focus mode **S**, select '\n",
       "                                              '**SINGLE POINT** for **AF '\n",
       "                                              'MODE**.\\n'\n",
       "                                              '- Focus zoom is not available in '\n",
       "                                              'focus mode **C** or when **AF/MF '\n",
       "                                              'SETTING > PRE-AF** is on.\\n'\n",
       "                                              '- Use **BUTTON/DIAL SETTING > '\n",
       "                                              'FUNCTION (Fn) SETTING** to '\n",
       "                                              'change the function performed by '\n",
       "                                              'the center of the rear command '\n",
       "                                              'dial. You can also assign its '\n",
       "                                              'default function to other '\n",
       "                                              'controls (see page 252).',\n",
       "                            'section': 'Autofocus',\n",
       "                            'subsection': ['Focus-Point Selection']},\n",
       "               'score': 0.6451237,\n",
       "               'sparse_values': {'indices': [], 'values': []},\n",
       "               'values': []},\n",
       "              {'id': 'x-e4_page76',\n",
       "               'metadata': {'chapter': 'Taking Photographs',\n",
       "                            'model': 'x-e4',\n",
       "                            'page': 76.0,\n",
       "                            'parsing_result': '\\n'\n",
       "                                              '# Autofocus\\n'\n",
       "                                              '\\n'\n",
       "                                              'Although the camera boasts a '\n",
       "                                              'high-precision autofocus system, '\n",
       "                                              'it may be unable to focus on the '\n",
       "                                              'subjects listed below.\\n'\n",
       "                                              '\\n'\n",
       "                                              '- Very shiny subjects such as '\n",
       "                                              'mirrors or car bodies.\\n'\n",
       "                                              '- Subjects photographed through '\n",
       "                                              'a window or other reflective '\n",
       "                                              'object.\\n'\n",
       "                                              '- Dark subjects and subjects '\n",
       "                                              'that absorb rather than reflect '\n",
       "                                              'light, such as hair or fur.\\n'\n",
       "                                              '- Insubstantial subjects, such '\n",
       "                                              'as smoke or flame.\\n'\n",
       "                                              '- Subjects that show little '\n",
       "                                              'contrast with the background.\\n'\n",
       "                                              '- Subjects positioned in front '\n",
       "                                              'of or behind a high-contrast '\n",
       "                                              'object that is also in the focus '\n",
       "                                              'frame (for example, a subject '\n",
       "                                              'photographed against a backdrop '\n",
       "                                              'of highly contrasting '\n",
       "                                              'elements).\\n'\n",
       "                                              '\\n'\n",
       "                                              '## Checking Focus\\n'\n",
       "                                              '\\n'\n",
       "                                              'To zoom the current focus area '\n",
       "                                              'in by a factor of 6 for precise '\n",
       "                                              'focus, press the center of the '\n",
       "                                              'focus stick (focus lever). Press '\n",
       "                                              'again to cancel zoom.\\n'\n",
       "                                              '\\n'\n",
       "                                              '!Focus Zoom Illustration\\n'\n",
       "                                              '\\n'\n",
       "                                              '- In focus mode !AF-S, select '\n",
       "                                              '**SINGLE POINT** for **AF '\n",
       "                                              'MODE**.\\n'\n",
       "                                              '- Focus zoom is not available in '\n",
       "                                              'focus mode !AF-C or when !AF/MF '\n",
       "                                              '**AF/MF SETTING > PRE-AF** is '\n",
       "                                              'on.\\n'\n",
       "                                              '- Use !Button/Dial Setting '\n",
       "                                              '**BUTTON/DIAL SETTING > FOCUS '\n",
       "                                              'LEVER SETTING** to change the '\n",
       "                                              'function performed by the center '\n",
       "                                              'of the focus stick (focus '\n",
       "                                              'lever). !Button/Dial Setting '\n",
       "                                              '**BUTTON/DIAL SETTING > FUNCTION '\n",
       "                                              '(Fn) SETTING** can also be used '\n",
       "                                              'to assign focus zoom to other '\n",
       "                                              'controls (📖 253).\\n',\n",
       "                            'section': 'Autofocus',\n",
       "                            'subsection': ['Focus-Point Selection']},\n",
       "               'score': 0.64285415,\n",
       "               'sparse_values': {'indices': [], 'values': []},\n",
       "               'values': []},\n",
       "              {'id': 'x-s20_page99',\n",
       "               'metadata': {'chapter': 'Taking Photographs',\n",
       "                            'model': 'x-s20',\n",
       "                            'page': 99.0,\n",
       "                            'parsing_result': '# Checking Focus\\n'\n",
       "                                              '\\n'\n",
       "                                              'To zoom in on the current focus '\n",
       "                                              'area for precise focus, press '\n",
       "                                              'the center of the focus stick '\n",
       "                                              '(focus lever). Use the focus '\n",
       "                                              'stick (focus lever) to choose '\n",
       "                                              'another focus area. Press again '\n",
       "                                              'to cancel zoom.\\n'\n",
       "                                              '\\n'\n",
       "                                              '!Normal display and Focus zoom\\n'\n",
       "                                              '\\n'\n",
       "                                              '- In focus mode !AFS, zoom can '\n",
       "                                              'be adjusted by rotating the rear '\n",
       "                                              'command dial.\\n'\n",
       "                                              '- In focus mode !AFS, select '\n",
       "                                              'SINGLE POINT for AF MODE.\\n'\n",
       "                                              '- Focus zoom is not available in '\n",
       "                                              'focus mode !AFC or when !AF/MF '\n",
       "                                              'SETTING > PRE-AF is on.\\n'\n",
       "                                              '- Use !BUTTON/DIAL SETTING > '\n",
       "                                              'FOCUS LEVER SETTING to change '\n",
       "                                              'the function performed by the '\n",
       "                                              'center of the focus stick (focus '\n",
       "                                              'lever). !BUTTON/DIAL SETTING > '\n",
       "                                              'FUNCTION (Fn) SETTING can also '\n",
       "                                              'be used to assign focus zoom to '\n",
       "                                              'other controls (📖 317).',\n",
       "                            'section': 'Autofocus',\n",
       "                            'subsection': ['Focus-Point Selection']},\n",
       "               'score': 0.64185125,\n",
       "               'sparse_values': {'indices': [], 'values': []},\n",
       "               'values': []},\n",
       "              {'id': 'gfx100ii_page100',\n",
       "               'metadata': {'chapter': 'Taking Photographs',\n",
       "                            'model': 'gfx100ii',\n",
       "                            'page': 100.0,\n",
       "                            'parsing_result': '# Checking Focus\\n'\n",
       "                                              '\\n'\n",
       "                                              'To zoom in on the current focus '\n",
       "                                              'area for precise focus, press '\n",
       "                                              'the center of the rear command '\n",
       "                                              'dial. Use the focus stick (focus '\n",
       "                                              'lever) to choose another focus '\n",
       "                                              'area. Press the center of the '\n",
       "                                              'rear command dial again to '\n",
       "                                              'cancel zoom.\\n'\n",
       "                                              '\\n'\n",
       "                                              '!Focus Zoom Illustration\\n'\n",
       "                                              '\\n'\n",
       "                                              '- In focus mode **S**, zoom can '\n",
       "                                              'be adjusted by rotating the rear '\n",
       "                                              'command dial.\\n'\n",
       "                                              '- The focus stick can be used to '\n",
       "                                              'select the focus area while zoom '\n",
       "                                              'is in effect.\\n'\n",
       "                                              '- In focus mode **S**, select '\n",
       "                                              '**SINGLE POINT** for **AF '\n",
       "                                              'MODE**.\\n'\n",
       "                                              '- Focus zoom is not available in '\n",
       "                                              'focus mode **C** or when **AF/MF '\n",
       "                                              'SETTING > PRE-AF** is on.\\n'\n",
       "                                              '- Use **BUTTON/DIAL SETTING > '\n",
       "                                              'FUNCTION (Fn) SETTING** to '\n",
       "                                              'change the function performed by '\n",
       "                                              'the center of the rear command '\n",
       "                                              'dial. You can also assign its '\n",
       "                                              'default function to other '\n",
       "                                              'controls.',\n",
       "                            'section': 'Autofocus',\n",
       "                            'subsection': ['Focus-Point Selection']},\n",
       "               'score': 0.6414704,\n",
       "               'sparse_values': {'indices': [], 'values': []},\n",
       "               'values': []},\n",
       "              {'id': 'x-t5_page90',\n",
       "               'metadata': {'chapter': 'Taking Photographs',\n",
       "                            'model': 'x-t5',\n",
       "                            'page': 90.0,\n",
       "                            'parsing_result': '# Checking Focus\\n'\n",
       "                                              '\\n'\n",
       "                                              'To zoom in on the current focus '\n",
       "                                              'area for precise focus, press '\n",
       "                                              'the center of the rear command '\n",
       "                                              'dial. Use the focus stick (focus '\n",
       "                                              'lever) to choose another focus '\n",
       "                                              'area. Press the center of the '\n",
       "                                              'rear command dial again to '\n",
       "                                              'cancel zoom.\\n'\n",
       "                                              '\\n'\n",
       "                                              '!Focus Zoom Diagram\\n'\n",
       "                                              '\\n'\n",
       "                                              '*Normal display vs. Focus zoom*\\n'\n",
       "                                              '\\n'\n",
       "                                              '- In focus mode **S**, zoom can '\n",
       "                                              'be adjusted by rotating the rear '\n",
       "                                              'command dial.\\n'\n",
       "                                              '- The focus stick can be used to '\n",
       "                                              'select the focus area while zoom '\n",
       "                                              'is in effect.\\n'\n",
       "                                              '- In focus mode **S**, select '\n",
       "                                              '**SINGLE POINT** for **AF '\n",
       "                                              'MODE**.\\n'\n",
       "                                              '- Focus zoom is not available in '\n",
       "                                              'focus mode **C** or when **AF/MF '\n",
       "                                              'SETTING > PRE-AF** is on.\\n'\n",
       "                                              '- Use **BUTTON/DIAL SETTING > '\n",
       "                                              'FUNCTION (Fn) SETTING** to '\n",
       "                                              'change the function performed by '\n",
       "                                              'the center of the rear command '\n",
       "                                              'dial. You can also assign its '\n",
       "                                              'default function to other '\n",
       "                                              'controls (see page 321).',\n",
       "                            'section': 'Autofocus',\n",
       "                            'subsection': ['Focus-Point Selection']},\n",
       "               'score': 0.6380403,\n",
       "               'sparse_values': {'indices': [], 'values': []},\n",
       "               'values': []},\n",
       "              {'id': 'x-s20_page92',\n",
       "               'metadata': {'chapter': 'Taking Photographs',\n",
       "                            'model': 'x-s20',\n",
       "                            'page': 92.0,\n",
       "                            'parsing_result': '# Focus Mode\\n'\n",
       "                                              '\\n'\n",
       "                                              'Choose how the camera focuses.\\n'\n",
       "                                              '\\n'\n",
       "                                              '1. Press **MENU/OK** to display '\n",
       "                                              'the menus.\\n'\n",
       "                                              '2. Select **AF/MF SETTING > '\n",
       "                                              'FOCUS MODE** in the shooting '\n",
       "                                              'menu.\\n'\n",
       "                                              '3. Choose from the following '\n",
       "                                              'options:\\n'\n",
       "                                              '\\n'\n",
       "                                              '| Mode            | '\n",
       "                                              'Description                                                                                                                                  '\n",
       "                                              '|\\n'\n",
       "                                              '|-----------------|----------------------------------------------------------------------------------------------------------------------------------------------|\\n'\n",
       "                                              '| **MF** MANUAL FOCUS | Focus '\n",
       "                                              'manually using the lens focus '\n",
       "                                              'ring. Choose for manual control '\n",
       "                                              'of focus or in situations in '\n",
       "                                              'which the camera is unable to '\n",
       "                                              'focus using autofocus. |\\n'\n",
       "                                              '| **AF-C** CONTINUOUS AF | Focus '\n",
       "                                              'is continually adjusted to '\n",
       "                                              'reflect changes in the distance '\n",
       "                                              'to the subject while the shutter '\n",
       "                                              'button is pressed halfway. Use '\n",
       "                                              'for subjects that are in motion. '\n",
       "                                              '|\\n'\n",
       "                                              '| **AF-S** SINGLE AF | Focus '\n",
       "                                              'locks while the shutter button '\n",
       "                                              'is pressed halfway. Choose for '\n",
       "                                              'stationary '\n",
       "                                              'subjects.                                                                 '\n",
       "                                              '|\\n'\n",
       "                                              '\\n'\n",
       "                                              '> 💡 **Note:**\\n'\n",
       "                                              '> - Regardless of the option '\n",
       "                                              'selected, manual focus will be '\n",
       "                                              'used when the lens is in manual '\n",
       "                                              'focus mode.\\n'\n",
       "                                              '> - If **ON** is selected for '\n",
       "                                              '**AF/MF SETTING > PRE-AF**, '\n",
       "                                              'focus will be adjusted '\n",
       "                                              'continuously in modes **AF-S** '\n",
       "                                              'and **AF-C** even when the '\n",
       "                                              'shutter button is not pressed.',\n",
       "                            'section': 'Autofocus',\n",
       "                            'subsection': ['Focus Mode']},\n",
       "               'score': 0.6362046,\n",
       "               'sparse_values': {'indices': [], 'values': []},\n",
       "               'values': []},\n",
       "              {'id': 'gfx100ii_page101',\n",
       "               'metadata': {'chapter': 'Taking Photographs',\n",
       "                            'model': 'gfx100ii',\n",
       "                            'page': 101.0,\n",
       "                            'parsing_result': '# Manual Focus\\n'\n",
       "                                              '\\n'\n",
       "                                              'Adjust focus manually.\\n'\n",
       "                                              '\\n'\n",
       "                                              '1. **Rotate the focus mode '\n",
       "                                              'selector to M.**\\n'\n",
       "                                              '\\n'\n",
       "                                              '   !Focus Mode Selector\\n'\n",
       "                                              '\\n'\n",
       "                                              '   - **MF** will appear in the '\n",
       "                                              'display.\\n'\n",
       "                                              '\\n'\n",
       "                                              '   !MF Display\\n'\n",
       "                                              '\\n'\n",
       "                                              '2. **Focus manually using the '\n",
       "                                              'lens focus ring.**  \\n'\n",
       "                                              '   Rotate the ring left to '\n",
       "                                              'reduce the focus distance, right '\n",
       "                                              'to increase.\\n'\n",
       "                                              '\\n'\n",
       "                                              '   !Lens Focus Ring\\n'\n",
       "                                              '\\n'\n",
       "                                              '3. **Take pictures.**\\n'\n",
       "                                              '\\n'\n",
       "                                              '> 💡 **Note:**\\n'\n",
       "                                              '> - Use **BUTTON/DIAL SETTING > '\n",
       "                                              'FOCUS RING** to reverse the '\n",
       "                                              'direction of rotation of the '\n",
       "                                              'focus ring.\\n'\n",
       "                                              '> - Regardless of the option '\n",
       "                                              'selected, manual focus will be '\n",
       "                                              'used when the lens is in manual '\n",
       "                                              'focus mode.',\n",
       "                            'section': 'Manual Focus',\n",
       "                            'subsection': ['Manual Focus']},\n",
       "               'score': 0.6360514,\n",
       "               'sparse_values': {'indices': [], 'values': []},\n",
       "               'values': []}],\n",
       "  'namespace': '',\n",
       "  'usage': {'read_units': 6}},\n",
       " {'matches': [{'id': 'x-s20_page99',\n",
       "               'metadata': {'chapter': 'Taking Photographs',\n",
       "                            'model': 'x-s20',\n",
       "                            'page': 99.0,\n",
       "                            'parsing_result': '# Checking Focus\\n'\n",
       "                                              '\\n'\n",
       "                                              'To zoom in on the current focus '\n",
       "                                              'area for precise focus, press '\n",
       "                                              'the center of the focus stick '\n",
       "                                              '(focus lever). Use the focus '\n",
       "                                              'stick (focus lever) to choose '\n",
       "                                              'another focus area. Press again '\n",
       "                                              'to cancel zoom.\\n'\n",
       "                                              '\\n'\n",
       "                                              '!Normal display and Focus zoom\\n'\n",
       "                                              '\\n'\n",
       "                                              '- In focus mode !AFS, zoom can '\n",
       "                                              'be adjusted by rotating the rear '\n",
       "                                              'command dial.\\n'\n",
       "                                              '- In focus mode !AFS, select '\n",
       "                                              'SINGLE POINT for AF MODE.\\n'\n",
       "                                              '- Focus zoom is not available in '\n",
       "                                              'focus mode !AFC or when !AF/MF '\n",
       "                                              'SETTING > PRE-AF is on.\\n'\n",
       "                                              '- Use !BUTTON/DIAL SETTING > '\n",
       "                                              'FOCUS LEVER SETTING to change '\n",
       "                                              'the function performed by the '\n",
       "                                              'center of the focus stick (focus '\n",
       "                                              'lever). !BUTTON/DIAL SETTING > '\n",
       "                                              'FUNCTION (Fn) SETTING can also '\n",
       "                                              'be used to assign focus zoom to '\n",
       "                                              'other controls (📖 317).',\n",
       "                            'section': 'Autofocus',\n",
       "                            'subsection': ['Focus-Point Selection']},\n",
       "               'score': 0.5838385,\n",
       "               'sparse_values': {'indices': [], 'values': []},\n",
       "               'values': []},\n",
       "              {'id': 'x100v_page120',\n",
       "               'metadata': {'chapter': 'The Shooting Menus',\n",
       "                            'model': 'x100v',\n",
       "                            'page': 120.0,\n",
       "                            'parsing_result': '# AF/MF Setting\\n'\n",
       "                                              '\\n'\n",
       "                                              'Adjust focus settings.\\n'\n",
       "                                              '\\n'\n",
       "                                              'To display focus settings, press '\n",
       "                                              '**MENU/OK** in the shooting '\n",
       "                                              'display and select the !AF/MF '\n",
       "                                              'Setting Tab (AF/MF SETTING) '\n",
       "                                              'tab.\\n'\n",
       "                                              '\\n'\n",
       "                                              '> 💡 **Note:**  \\n'\n",
       "                                              '> The options available vary '\n",
       "                                              'with the shooting mode '\n",
       "                                              'selected.\\n'\n",
       "                                              '\\n'\n",
       "                                              '## Focus Area\\n'\n",
       "                                              '\\n'\n",
       "                                              'Choose the focus area for '\n",
       "                                              'autofocus, manual focus, and '\n",
       "                                              'focus zoom.',\n",
       "                            'section': 'AF/MF SETTING',\n",
       "                            'subsection': ['FOCUS AREA']},\n",
       "               'score': 0.58129996,\n",
       "               'sparse_values': {'indices': [], 'values': []},\n",
       "               'values': []},\n",
       "              {'id': 'x100v_page72',\n",
       "               'metadata': {'chapter': 'Taking Photographs',\n",
       "                            'model': 'x100v',\n",
       "                            'page': 72.0,\n",
       "                            'parsing_result': '# Checking Focus\\n'\n",
       "                                              '\\n'\n",
       "                                              'To zoom in on the current focus '\n",
       "                                              'area for precise focus, press '\n",
       "                                              'the center of the rear command '\n",
       "                                              'dial. Use the focus stick (focus '\n",
       "                                              'lever) to choose another focus '\n",
       "                                              'area. Press the center of the '\n",
       "                                              'rear command dial again to '\n",
       "                                              'cancel zoom.\\n'\n",
       "                                              '\\n'\n",
       "                                              '!Focus Zoom\\n'\n",
       "                                              '\\n'\n",
       "                                              '- In focus mode **S**, zoom can '\n",
       "                                              'be adjusted by rotating the rear '\n",
       "                                              'command dial.\\n'\n",
       "                                              '- The focus stick can be used to '\n",
       "                                              'select the focus area while zoom '\n",
       "                                              'is in effect.\\n'\n",
       "                                              '- In focus mode **S**, select '\n",
       "                                              '**SINGLE POINT** for **AF '\n",
       "                                              'MODE**.\\n'\n",
       "                                              '- Focus zoom is not available in '\n",
       "                                              'focus mode **C** or when **AF/MF '\n",
       "                                              'SETTING > PRE-AF** is on.\\n'\n",
       "                                              '- Use **BUTTON/DIAL SETTING > '\n",
       "                                              'FUNCTION (Fn) SETTING** to '\n",
       "                                              'change the function performed by '\n",
       "                                              'the center of the rear command '\n",
       "                                              'dial. You can also assign its '\n",
       "                                              'default function to other '\n",
       "                                              'controls (see page 252).',\n",
       "                            'section': 'Autofocus',\n",
       "                            'subsection': ['Focus-Point Selection']},\n",
       "               'score': 0.5772264,\n",
       "               'sparse_values': {'indices': [], 'values': []},\n",
       "               'values': []},\n",
       "              {'id': 'x-e4_page69',\n",
       "               'metadata': {'chapter': 'Taking Photographs',\n",
       "                            'model': 'x-e4',\n",
       "                            'page': 69.0,\n",
       "                            'parsing_result': '# Focus Mode\\n'\n",
       "                                              '\\n'\n",
       "                                              'Choose how the camera focuses.\\n'\n",
       "                                              '\\n'\n",
       "                                              '1. Press **MENU/OK** to display '\n",
       "                                              'the menus.\\n'\n",
       "                                              '2. Select **AF/MF SETTING > '\n",
       "                                              'FOCUS MODE** in the shooting '\n",
       "                                              'menu.\\n'\n",
       "                                              '3. Choose from the following '\n",
       "                                              'options:\\n'\n",
       "                                              '\\n'\n",
       "                                              '| Mode            | '\n",
       "                                              'Description                                                                                                                                  '\n",
       "                                              '|\\n'\n",
       "                                              '|-----------------|----------------------------------------------------------------------------------------------------------------------------------------------|\\n'\n",
       "                                              '| **MF**          | **MANUAL '\n",
       "                                              'FOCUS**: Focus manually using '\n",
       "                                              'the lens focus ring. Choose for '\n",
       "                                              'manual control of focus or in '\n",
       "                                              'situations in which the camera '\n",
       "                                              'is unable to focus using '\n",
       "                                              'autofocus. |\\n'\n",
       "                                              '| **AF-C**        | **CONTINUOUS '\n",
       "                                              'AF**: Focus is continually '\n",
       "                                              'adjusted to reflect changes in '\n",
       "                                              'the distance to the subject '\n",
       "                                              'while the shutter button is '\n",
       "                                              'pressed halfway. Use for '\n",
       "                                              'subjects that are in motion. |\\n'\n",
       "                                              '| **AF-S**        | **SINGLE '\n",
       "                                              'AF**: Focus locks while the '\n",
       "                                              'shutter button is pressed '\n",
       "                                              'halfway. Choose for stationary '\n",
       "                                              'subjects.                                       '\n",
       "                                              '|\\n'\n",
       "                                              '\\n'\n",
       "                                              '> - Regardless of the option '\n",
       "                                              'selected, manual focus will be '\n",
       "                                              'used when the lens is in manual '\n",
       "                                              'focus mode.\\n'\n",
       "                                              '> - If **ON** is selected for '\n",
       "                                              '**AF/MF SETTING > PRE-AF**, '\n",
       "                                              'focus will be adjusted '\n",
       "                                              'continuously in modes **AF-S** '\n",
       "                                              'and **AF-C** even when the '\n",
       "                                              'shutter button is not pressed.',\n",
       "                            'section': 'Autofocus',\n",
       "                            'subsection': ['Focus Mode']},\n",
       "               'score': 0.5767173,\n",
       "               'sparse_values': {'indices': [], 'values': []},\n",
       "               'values': []},\n",
       "              {'id': 'x-s20_page92',\n",
       "               'metadata': {'chapter': 'Taking Photographs',\n",
       "                            'model': 'x-s20',\n",
       "                            'page': 92.0,\n",
       "                            'parsing_result': '# Focus Mode\\n'\n",
       "                                              '\\n'\n",
       "                                              'Choose how the camera focuses.\\n'\n",
       "                                              '\\n'\n",
       "                                              '1. Press **MENU/OK** to display '\n",
       "                                              'the menus.\\n'\n",
       "                                              '2. Select **AF/MF SETTING > '\n",
       "                                              'FOCUS MODE** in the shooting '\n",
       "                                              'menu.\\n'\n",
       "                                              '3. Choose from the following '\n",
       "                                              'options:\\n'\n",
       "                                              '\\n'\n",
       "                                              '| Mode            | '\n",
       "                                              'Description                                                                                                                                  '\n",
       "                                              '|\\n'\n",
       "                                              '|-----------------|----------------------------------------------------------------------------------------------------------------------------------------------|\\n'\n",
       "                                              '| **MF** MANUAL FOCUS | Focus '\n",
       "                                              'manually using the lens focus '\n",
       "                                              'ring. Choose for manual control '\n",
       "                                              'of focus or in situations in '\n",
       "                                              'which the camera is unable to '\n",
       "                                              'focus using autofocus. |\\n'\n",
       "                                              '| **AF-C** CONTINUOUS AF | Focus '\n",
       "                                              'is continually adjusted to '\n",
       "                                              'reflect changes in the distance '\n",
       "                                              'to the subject while the shutter '\n",
       "                                              'button is pressed halfway. Use '\n",
       "                                              'for subjects that are in motion. '\n",
       "                                              '|\\n'\n",
       "                                              '| **AF-S** SINGLE AF | Focus '\n",
       "                                              'locks while the shutter button '\n",
       "                                              'is pressed halfway. Choose for '\n",
       "                                              'stationary '\n",
       "                                              'subjects.                                                                 '\n",
       "                                              '|\\n'\n",
       "                                              '\\n'\n",
       "                                              '> 💡 **Note:**\\n'\n",
       "                                              '> - Regardless of the option '\n",
       "                                              'selected, manual focus will be '\n",
       "                                              'used when the lens is in manual '\n",
       "                                              'focus mode.\\n'\n",
       "                                              '> - If **ON** is selected for '\n",
       "                                              '**AF/MF SETTING > PRE-AF**, '\n",
       "                                              'focus will be adjusted '\n",
       "                                              'continuously in modes **AF-S** '\n",
       "                                              'and **AF-C** even when the '\n",
       "                                              'shutter button is not pressed.',\n",
       "                            'section': 'Autofocus',\n",
       "                            'subsection': ['Focus Mode']},\n",
       "               'score': 0.575718,\n",
       "               'sparse_values': {'indices': [], 'values': []},\n",
       "               'values': []},\n",
       "              {'id': 'x-s20_page152',\n",
       "               'metadata': {'chapter': 'The Shooting Menus',\n",
       "                            'model': 'x-s20',\n",
       "                            'page': 152.0,\n",
       "                            'parsing_result': '# Custom Focus Tracking Options\\n'\n",
       "                                              '\\n'\n",
       "                                              'Follow the steps below to adjust '\n",
       "                                              'settings for Set 6.\\n'\n",
       "                                              '\\n'\n",
       "                                              '1. Select **AF-C CUSTOM SETTINGS '\n",
       "                                              '> SET 6 CUSTOM**.\\n'\n",
       "                                              '\\n'\n",
       "                                              '   !AF-C Custom Settings Menu\\n'\n",
       "                                              '\\n'\n",
       "                                              '2. Highlight items using the '\n",
       "                                              'focus stick (focus lever) and '\n",
       "                                              'rotate the front command dial to '\n",
       "                                              'change. To reset settings to '\n",
       "                                              'their original values, press the '\n",
       "                                              'reset button.\\n'\n",
       "                                              '\\n'\n",
       "                                              '3. Press **DISP/BACK** when '\n",
       "                                              'settings are complete.',\n",
       "                            'section': 'AF/MF SETTING (Still Photography)',\n",
       "                            'subsection': ['AF-C CUSTOM SETTINGS']},\n",
       "               'score': 0.57444847,\n",
       "               'sparse_values': {'indices': [], 'values': []},\n",
       "               'values': []},\n",
       "              {'id': 'x100v_page125',\n",
       "               'metadata': {'chapter': 'The Shooting Menus',\n",
       "                            'model': 'x100v',\n",
       "                            'page': 125.0,\n",
       "                            'parsing_result': '# Custom Focus Tracking Options\\n'\n",
       "                                              '\\n'\n",
       "                                              'Follow the steps below to adjust '\n",
       "                                              'settings for Set 6.\\n'\n",
       "                                              '\\n'\n",
       "                                              '1. Select **AF-C CUSTOM SETTINGS '\n",
       "                                              '> SET 6 CUSTOM**.\\n'\n",
       "                                              '\\n'\n",
       "                                              '   !AF-C Custom Settings Menu\\n'\n",
       "                                              '\\n'\n",
       "                                              '2. Highlight items using the '\n",
       "                                              'focus stick (focus lever) and '\n",
       "                                              'rotate the front command dial to '\n",
       "                                              'change. To reset settings to '\n",
       "                                              'their original values, press the '\n",
       "                                              '**DRIVE/DELETE** button.\\n'\n",
       "                                              '\\n'\n",
       "                                              '3. Press **DISP/BACK** when '\n",
       "                                              'settings are complete.',\n",
       "                            'section': 'AF/MF SETTING',\n",
       "                            'subsection': ['AF-C CUSTOM SETTINGS']},\n",
       "               'score': 0.57306427,\n",
       "               'sparse_values': {'indices': [], 'values': []},\n",
       "               'values': []},\n",
       "              {'id': 'gfx100ii_page100',\n",
       "               'metadata': {'chapter': 'Taking Photographs',\n",
       "                            'model': 'gfx100ii',\n",
       "                            'page': 100.0,\n",
       "                            'parsing_result': '# Checking Focus\\n'\n",
       "                                              '\\n'\n",
       "                                              'To zoom in on the current focus '\n",
       "                                              'area for precise focus, press '\n",
       "                                              'the center of the rear command '\n",
       "                                              'dial. Use the focus stick (focus '\n",
       "                                              'lever) to choose another focus '\n",
       "                                              'area. Press the center of the '\n",
       "                                              'rear command dial again to '\n",
       "                                              'cancel zoom.\\n'\n",
       "                                              '\\n'\n",
       "                                              '!Focus Zoom Illustration\\n'\n",
       "                                              '\\n'\n",
       "                                              '- In focus mode **S**, zoom can '\n",
       "                                              'be adjusted by rotating the rear '\n",
       "                                              'command dial.\\n'\n",
       "                                              '- The focus stick can be used to '\n",
       "                                              'select the focus area while zoom '\n",
       "                                              'is in effect.\\n'\n",
       "                                              '- In focus mode **S**, select '\n",
       "                                              '**SINGLE POINT** for **AF '\n",
       "                                              'MODE**.\\n'\n",
       "                                              '- Focus zoom is not available in '\n",
       "                                              'focus mode **C** or when **AF/MF '\n",
       "                                              'SETTING > PRE-AF** is on.\\n'\n",
       "                                              '- Use **BUTTON/DIAL SETTING > '\n",
       "                                              'FUNCTION (Fn) SETTING** to '\n",
       "                                              'change the function performed by '\n",
       "                                              'the center of the rear command '\n",
       "                                              'dial. You can also assign its '\n",
       "                                              'default function to other '\n",
       "                                              'controls.',\n",
       "                            'section': 'Autofocus',\n",
       "                            'subsection': ['Focus-Point Selection']},\n",
       "               'score': 0.5729829,\n",
       "               'sparse_values': {'indices': [], 'values': []},\n",
       "               'values': []},\n",
       "              {'id': 'x-t5_page90',\n",
       "               'metadata': {'chapter': 'Taking Photographs',\n",
       "                            'model': 'x-t5',\n",
       "                            'page': 90.0,\n",
       "                            'parsing_result': '# Checking Focus\\n'\n",
       "                                              '\\n'\n",
       "                                              'To zoom in on the current focus '\n",
       "                                              'area for precise focus, press '\n",
       "                                              'the center of the rear command '\n",
       "                                              'dial. Use the focus stick (focus '\n",
       "                                              'lever) to choose another focus '\n",
       "                                              'area. Press the center of the '\n",
       "                                              'rear command dial again to '\n",
       "                                              'cancel zoom.\\n'\n",
       "                                              '\\n'\n",
       "                                              '!Focus Zoom Diagram\\n'\n",
       "                                              '\\n'\n",
       "                                              '*Normal display vs. Focus zoom*\\n'\n",
       "                                              '\\n'\n",
       "                                              '- In focus mode **S**, zoom can '\n",
       "                                              'be adjusted by rotating the rear '\n",
       "                                              'command dial.\\n'\n",
       "                                              '- The focus stick can be used to '\n",
       "                                              'select the focus area while zoom '\n",
       "                                              'is in effect.\\n'\n",
       "                                              '- In focus mode **S**, select '\n",
       "                                              '**SINGLE POINT** for **AF '\n",
       "                                              'MODE**.\\n'\n",
       "                                              '- Focus zoom is not available in '\n",
       "                                              'focus mode **C** or when **AF/MF '\n",
       "                                              'SETTING > PRE-AF** is on.\\n'\n",
       "                                              '- Use **BUTTON/DIAL SETTING > '\n",
       "                                              'FUNCTION (Fn) SETTING** to '\n",
       "                                              'change the function performed by '\n",
       "                                              'the center of the rear command '\n",
       "                                              'dial. You can also assign its '\n",
       "                                              'default function to other '\n",
       "                                              'controls (see page 321).',\n",
       "                            'section': 'Autofocus',\n",
       "                            'subsection': ['Focus-Point Selection']},\n",
       "               'score': 0.5711029,\n",
       "               'sparse_values': {'indices': [], 'values': []},\n",
       "               'values': []},\n",
       "              {'id': 'x-t5_page147',\n",
       "               'metadata': {'chapter': 'The Shooting Menus',\n",
       "                            'model': 'x-t5',\n",
       "                            'page': 147.0,\n",
       "                            'parsing_result': '# Custom Focus Tracking Options\\n'\n",
       "                                              '\\n'\n",
       "                                              'Follow the steps below to adjust '\n",
       "                                              'settings for Set 6.\\n'\n",
       "                                              '\\n'\n",
       "                                              '1. Select **AF-C CUSTOM SETTINGS '\n",
       "                                              '> SET 6 CUSTOM**.\\n'\n",
       "                                              '\\n'\n",
       "                                              '   !AF-C Custom Settings Menu\\n'\n",
       "                                              '\\n'\n",
       "                                              '2. Press the selector up or down '\n",
       "                                              'to highlight items and rotate '\n",
       "                                              'the front command dial to '\n",
       "                                              'change. To reset settings to '\n",
       "                                              'their original values, press the '\n",
       "                                              'reset button.\\n'\n",
       "                                              '\\n'\n",
       "                                              '3. Press **DISP/BACK** when '\n",
       "                                              'settings are complete.',\n",
       "                            'section': 'AF/MF SETTING (Still Photography)',\n",
       "                            'subsection': ['AF-C CUSTOM SETTINGS']},\n",
       "               'score': 0.56134397,\n",
       "               'sparse_values': {'indices': [], 'values': []},\n",
       "               'values': []}],\n",
       "  'namespace': '',\n",
       "  'usage': {'read_units': 6}},\n",
       " {'matches': [{'id': 'x-s20_page152',\n",
       "               'metadata': {'chapter': 'The Shooting Menus',\n",
       "                            'model': 'x-s20',\n",
       "                            'page': 152.0,\n",
       "                            'parsing_result': '# Custom Focus Tracking Options\\n'\n",
       "                                              '\\n'\n",
       "                                              'Follow the steps below to adjust '\n",
       "                                              'settings for Set 6.\\n'\n",
       "                                              '\\n'\n",
       "                                              '1. Select **AF-C CUSTOM SETTINGS '\n",
       "                                              '> SET 6 CUSTOM**.\\n'\n",
       "                                              '\\n'\n",
       "                                              '   !AF-C Custom Settings Menu\\n'\n",
       "                                              '\\n'\n",
       "                                              '2. Highlight items using the '\n",
       "                                              'focus stick (focus lever) and '\n",
       "                                              'rotate the front command dial to '\n",
       "                                              'change. To reset settings to '\n",
       "                                              'their original values, press the '\n",
       "                                              'reset button.\\n'\n",
       "                                              '\\n'\n",
       "                                              '3. Press **DISP/BACK** when '\n",
       "                                              'settings are complete.',\n",
       "                            'section': 'AF/MF SETTING (Still Photography)',\n",
       "                            'subsection': ['AF-C CUSTOM SETTINGS']},\n",
       "               'score': 0.617582,\n",
       "               'sparse_values': {'indices': [], 'values': []},\n",
       "               'values': []},\n",
       "              {'id': 'x100v_page125',\n",
       "               'metadata': {'chapter': 'The Shooting Menus',\n",
       "                            'model': 'x100v',\n",
       "                            'page': 125.0,\n",
       "                            'parsing_result': '# Custom Focus Tracking Options\\n'\n",
       "                                              '\\n'\n",
       "                                              'Follow the steps below to adjust '\n",
       "                                              'settings for Set 6.\\n'\n",
       "                                              '\\n'\n",
       "                                              '1. Select **AF-C CUSTOM SETTINGS '\n",
       "                                              '> SET 6 CUSTOM**.\\n'\n",
       "                                              '\\n'\n",
       "                                              '   !AF-C Custom Settings Menu\\n'\n",
       "                                              '\\n'\n",
       "                                              '2. Highlight items using the '\n",
       "                                              'focus stick (focus lever) and '\n",
       "                                              'rotate the front command dial to '\n",
       "                                              'change. To reset settings to '\n",
       "                                              'their original values, press the '\n",
       "                                              '**DRIVE/DELETE** button.\\n'\n",
       "                                              '\\n'\n",
       "                                              '3. Press **DISP/BACK** when '\n",
       "                                              'settings are complete.',\n",
       "                            'section': 'AF/MF SETTING',\n",
       "                            'subsection': ['AF-C CUSTOM SETTINGS']},\n",
       "               'score': 0.6162582,\n",
       "               'sparse_values': {'indices': [], 'values': []},\n",
       "               'values': []},\n",
       "              {'id': 'x-t5_page147',\n",
       "               'metadata': {'chapter': 'The Shooting Menus',\n",
       "                            'model': 'x-t5',\n",
       "                            'page': 147.0,\n",
       "                            'parsing_result': '# Custom Focus Tracking Options\\n'\n",
       "                                              '\\n'\n",
       "                                              'Follow the steps below to adjust '\n",
       "                                              'settings for Set 6.\\n'\n",
       "                                              '\\n'\n",
       "                                              '1. Select **AF-C CUSTOM SETTINGS '\n",
       "                                              '> SET 6 CUSTOM**.\\n'\n",
       "                                              '\\n'\n",
       "                                              '   !AF-C Custom Settings Menu\\n'\n",
       "                                              '\\n'\n",
       "                                              '2. Press the selector up or down '\n",
       "                                              'to highlight items and rotate '\n",
       "                                              'the front command dial to '\n",
       "                                              'change. To reset settings to '\n",
       "                                              'their original values, press the '\n",
       "                                              'reset button.\\n'\n",
       "                                              '\\n'\n",
       "                                              '3. Press **DISP/BACK** when '\n",
       "                                              'settings are complete.',\n",
       "                            'section': 'AF/MF SETTING (Still Photography)',\n",
       "                            'subsection': ['AF-C CUSTOM SETTINGS']},\n",
       "               'score': 0.60720015,\n",
       "               'sparse_values': {'indices': [], 'values': []},\n",
       "               'values': []},\n",
       "              {'id': 'x100v_page143',\n",
       "               'metadata': {'chapter': 'The Shooting Menus',\n",
       "                            'model': 'x100v',\n",
       "                            'page': 143.0,\n",
       "                            'parsing_result': '# FOCUS BKT SETTING\\n'\n",
       "                                              '\\n'\n",
       "                                              'Choose from **AUTO** and '\n",
       "                                              '**MANUAL** focus bracketing '\n",
       "                                              'modes.\\n'\n",
       "                                              '\\n'\n",
       "                                              '## MANUAL\\n'\n",
       "                                              '\\n'\n",
       "                                              'In **MANUAL** mode, you choose '\n",
       "                                              'the following:\\n'\n",
       "                                              '\\n'\n",
       "                                              '| Option   | '\n",
       "                                              'Description                                           '\n",
       "                                              '|\\n'\n",
       "                                              '|----------|-------------------------------------------------------|\\n'\n",
       "                                              '| FRAMES   | Choose the number '\n",
       "                                              'of '\n",
       "                                              'shots.                           '\n",
       "                                              '|\\n'\n",
       "                                              '| STEP     | Choose the amount '\n",
       "                                              'focus changes with each '\n",
       "                                              'shot.       |\\n'\n",
       "                                              '| INTERVAL | Choose the interval '\n",
       "                                              'between '\n",
       "                                              'shots.                    |\\n'\n",
       "                                              '\\n'\n",
       "                                              '### Focus and FRAMES/STEP\\n'\n",
       "                                              '\\n'\n",
       "                                              'The relation between focus and '\n",
       "                                              'the options chosen for '\n",
       "                                              '**FRAMES** and **STEP** is shown '\n",
       "                                              'in the illustration.\\n'\n",
       "                                              '\\n'\n",
       "                                              '!Focus and Frames/Step '\n",
       "                                              'Illustration\\n'\n",
       "                                              '\\n'\n",
       "                                              '- Focus proceeds from the '\n",
       "                                              'starting position toward '\n",
       "                                              'infinity.\\n'\n",
       "                                              '- Small **STEP** values '\n",
       "                                              'translate to small changes in '\n",
       "                                              'focus, larger values to larger '\n",
       "                                              'changes.\\n'\n",
       "                                              '- Regardless of the option '\n",
       "                                              'chosen for **FRAMES**, shooting '\n",
       "                                              'ends when focus reaches '\n",
       "                                              'infinity.',\n",
       "                            'section': 'SHOOTING SETTING',\n",
       "                            'subsection': ['FOCUS BKT SETTING']},\n",
       "               'score': 0.5731549,\n",
       "               'sparse_values': {'indices': [], 'values': []},\n",
       "               'values': []},\n",
       "              {'id': 'x-t5_page164',\n",
       "               'metadata': {'chapter': 'The Shooting Menus',\n",
       "                            'model': 'x-t5',\n",
       "                            'page': 164.0,\n",
       "                            'parsing_result': '# Focus BKT Setting\\n'\n",
       "                                              '\\n'\n",
       "                                              'Choose from **AUTO** and '\n",
       "                                              '**MANUAL** focus bracketing '\n",
       "                                              'modes.\\n'\n",
       "                                              '\\n'\n",
       "                                              '- **MANUAL**: In MANUAL mode, '\n",
       "                                              'you choose the following.\\n'\n",
       "                                              '\\n'\n",
       "                                              '| Option   | '\n",
       "                                              'Description                                      '\n",
       "                                              '|\\n'\n",
       "                                              '|----------|--------------------------------------------------|\\n'\n",
       "                                              '| FRAMES   | Choose the number '\n",
       "                                              'of shots.                      '\n",
       "                                              '|\\n'\n",
       "                                              '| STEP     | Choose the amount '\n",
       "                                              'focus changes with each shot.  '\n",
       "                                              '|\\n'\n",
       "                                              '| INTERVAL | Choose the interval '\n",
       "                                              'between shots.               |\\n'\n",
       "                                              '\\n'\n",
       "                                              '## Focus and FRAMES/STEP\\n'\n",
       "                                              '\\n'\n",
       "                                              'The relation between focus and '\n",
       "                                              'the options chosen for FRAMES '\n",
       "                                              'and STEP is shown in the '\n",
       "                                              'illustration.\\n'\n",
       "                                              '\\n'\n",
       "                                              '!Focus and FRAMES/STEP '\n",
       "                                              'Illustration\\n'\n",
       "                                              '\\n'\n",
       "                                              '- Focus proceeds from the '\n",
       "                                              'starting position toward '\n",
       "                                              'infinity.\\n'\n",
       "                                              '- Small STEP values translate to '\n",
       "                                              'small changes in focus, larger '\n",
       "                                              'values to larger changes.\\n'\n",
       "                                              '- Regardless of the option '\n",
       "                                              'chosen for FRAMES, shooting ends '\n",
       "                                              'when focus reaches infinity.',\n",
       "                            'section': 'SHOOTING SETTING (Still Photography)',\n",
       "                            'subsection': ['DRIVE SETTING']},\n",
       "               'score': 0.5698108,\n",
       "               'sparse_values': {'indices': [], 'values': []},\n",
       "               'values': []},\n",
       "              {'id': 'x-s20_page99',\n",
       "               'metadata': {'chapter': 'Taking Photographs',\n",
       "                            'model': 'x-s20',\n",
       "                            'page': 99.0,\n",
       "                            'parsing_result': '# Checking Focus\\n'\n",
       "                                              '\\n'\n",
       "                                              'To zoom in on the current focus '\n",
       "                                              'area for precise focus, press '\n",
       "                                              'the center of the focus stick '\n",
       "                                              '(focus lever). Use the focus '\n",
       "                                              'stick (focus lever) to choose '\n",
       "                                              'another focus area. Press again '\n",
       "                                              'to cancel zoom.\\n'\n",
       "                                              '\\n'\n",
       "                                              '!Normal display and Focus zoom\\n'\n",
       "                                              '\\n'\n",
       "                                              '- In focus mode !AFS, zoom can '\n",
       "                                              'be adjusted by rotating the rear '\n",
       "                                              'command dial.\\n'\n",
       "                                              '- In focus mode !AFS, select '\n",
       "                                              'SINGLE POINT for AF MODE.\\n'\n",
       "                                              '- Focus zoom is not available in '\n",
       "                                              'focus mode !AFC or when !AF/MF '\n",
       "                                              'SETTING > PRE-AF is on.\\n'\n",
       "                                              '- Use !BUTTON/DIAL SETTING > '\n",
       "                                              'FOCUS LEVER SETTING to change '\n",
       "                                              'the function performed by the '\n",
       "                                              'center of the focus stick (focus '\n",
       "                                              'lever). !BUTTON/DIAL SETTING > '\n",
       "                                              'FUNCTION (Fn) SETTING can also '\n",
       "                                              'be used to assign focus zoom to '\n",
       "                                              'other controls (📖 317).',\n",
       "                            'section': 'Autofocus',\n",
       "                            'subsection': ['Focus-Point Selection']},\n",
       "               'score': 0.56661534,\n",
       "               'sparse_values': {'indices': [], 'values': []},\n",
       "               'values': []},\n",
       "              {'id': 'x-t5_page90',\n",
       "               'metadata': {'chapter': 'Taking Photographs',\n",
       "                            'model': 'x-t5',\n",
       "                            'page': 90.0,\n",
       "                            'parsing_result': '# Checking Focus\\n'\n",
       "                                              '\\n'\n",
       "                                              'To zoom in on the current focus '\n",
       "                                              'area for precise focus, press '\n",
       "                                              'the center of the rear command '\n",
       "                                              'dial. Use the focus stick (focus '\n",
       "                                              'lever) to choose another focus '\n",
       "                                              'area. Press the center of the '\n",
       "                                              'rear command dial again to '\n",
       "                                              'cancel zoom.\\n'\n",
       "                                              '\\n'\n",
       "                                              '!Focus Zoom Diagram\\n'\n",
       "                                              '\\n'\n",
       "                                              '*Normal display vs. Focus zoom*\\n'\n",
       "                                              '\\n'\n",
       "                                              '- In focus mode **S**, zoom can '\n",
       "                                              'be adjusted by rotating the rear '\n",
       "                                              'command dial.\\n'\n",
       "                                              '- The focus stick can be used to '\n",
       "                                              'select the focus area while zoom '\n",
       "                                              'is in effect.\\n'\n",
       "                                              '- In focus mode **S**, select '\n",
       "                                              '**SINGLE POINT** for **AF '\n",
       "                                              'MODE**.\\n'\n",
       "                                              '- Focus zoom is not available in '\n",
       "                                              'focus mode **C** or when **AF/MF '\n",
       "                                              'SETTING > PRE-AF** is on.\\n'\n",
       "                                              '- Use **BUTTON/DIAL SETTING > '\n",
       "                                              'FUNCTION (Fn) SETTING** to '\n",
       "                                              'change the function performed by '\n",
       "                                              'the center of the rear command '\n",
       "                                              'dial. You can also assign its '\n",
       "                                              'default function to other '\n",
       "                                              'controls (see page 321).',\n",
       "                            'section': 'Autofocus',\n",
       "                            'subsection': ['Focus-Point Selection']},\n",
       "               'score': 0.56052524,\n",
       "               'sparse_values': {'indices': [], 'values': []},\n",
       "               'values': []},\n",
       "              {'id': 'x100v_page73',\n",
       "               'metadata': {'chapter': 'Taking Photographs',\n",
       "                            'model': 'x100v',\n",
       "                            'page': 73.0,\n",
       "                            'parsing_result': '# Manual Focus\\n'\n",
       "                                              '\\n'\n",
       "                                              'Adjust focus manually.\\n'\n",
       "                                              '\\n'\n",
       "                                              '1. Slide the focus mode selector '\n",
       "                                              'to **M**.\\n'\n",
       "                                              '\\n'\n",
       "                                              '   !Focus Mode Selector\\n'\n",
       "                                              '\\n'\n",
       "                                              '   **MF** will appear in the '\n",
       "                                              'display.\\n'\n",
       "                                              '\\n'\n",
       "                                              '   !MF Display\\n'\n",
       "                                              '\\n'\n",
       "                                              '2. Focus manually using the lens '\n",
       "                                              'focus ring. Rotate the ring left '\n",
       "                                              'to reduce the focus distance, '\n",
       "                                              'right to increase.\\n'\n",
       "                                              '\\n'\n",
       "                                              '   !Lens Focus Ring\\n'\n",
       "                                              '\\n'\n",
       "                                              '3. Take pictures.\\n'\n",
       "                                              '\\n'\n",
       "                                              '> 💡 **Tip:**\\n'\n",
       "                                              '> Use **BUTTON/DIAL SETTING > '\n",
       "                                              'FOCUS RING** to reverse the '\n",
       "                                              'direction of rotation of the '\n",
       "                                              'focus ring.',\n",
       "                            'section': 'Manual Focus',\n",
       "                            'subsection': ['Manual Focus']},\n",
       "               'score': 0.5599345,\n",
       "               'sparse_values': {'indices': [], 'values': []},\n",
       "               'values': []},\n",
       "              {'id': 'gfx100ii_page150',\n",
       "               'metadata': {'chapter': 'The Shooting Menus',\n",
       "                            'model': 'gfx100ii',\n",
       "                            'page': 150.0,\n",
       "                            'parsing_result': '# Custom Focus Tracking Options\\n'\n",
       "                                              '\\n'\n",
       "                                              'Follow the steps below to adjust '\n",
       "                                              'settings for Set 6.\\n'\n",
       "                                              '\\n'\n",
       "                                              '1. Select **AF-C CUSTOM SETTINGS '\n",
       "                                              '> SET 6 CUSTOM**.\\n'\n",
       "                                              '\\n'\n",
       "                                              '   !AF-C Custom Settings Menu\\n'\n",
       "                                              '\\n'\n",
       "                                              '2. Highlight items using the '\n",
       "                                              'focus stick (focus lever) and '\n",
       "                                              'rotate the front command dial to '\n",
       "                                              'change. To reset settings to '\n",
       "                                              'their original values, press '\n",
       "                                              '!Reset Icon.\\n'\n",
       "                                              '\\n'\n",
       "                                              '3. Press **DISP/BACK** when '\n",
       "                                              'settings are complete.\\n'\n",
       "                                              '\\n'\n",
       "                                              '## STORE AF MODE BY ORIENTATION\\n'\n",
       "                                              '\\n'\n",
       "                                              'Choose whether the AF mode used '\n",
       "                                              'when the camera is in portrait '\n",
       "                                              'orientation is stored separately '\n",
       "                                              'from that used when the camera '\n",
       "                                              'is in landscape orientation.\\n'\n",
       "                                              '\\n'\n",
       "                                              '| Option           | '\n",
       "                                              'Description                                                                 '\n",
       "                                              '|\\n'\n",
       "                                              '|------------------|-----------------------------------------------------------------------------|\\n'\n",
       "                                              '| OFF              | The same '\n",
       "                                              'settings are used in both '\n",
       "                                              'orientations.                            '\n",
       "                                              '|\\n'\n",
       "                                              '| FOCUS AREA ONLY  | The focus '\n",
       "                                              'area for each orientation can be '\n",
       "                                              'selected separately.             '\n",
       "                                              '|\\n'\n",
       "                                              '| ON               | The focus '\n",
       "                                              'mode and focus area can be '\n",
       "                                              'selected '\n",
       "                                              'separately.                   |',\n",
       "                            'section': 'AF/MF SETTING (Still Photography)',\n",
       "                            'subsection': ['STORE AF MODE BY ORIENTATION']},\n",
       "               'score': 0.5584065,\n",
       "               'sparse_values': {'indices': [], 'values': []},\n",
       "               'values': []},\n",
       "              {'id': 'x100v_page72',\n",
       "               'metadata': {'chapter': 'Taking Photographs',\n",
       "                            'model': 'x100v',\n",
       "                            'page': 72.0,\n",
       "                            'parsing_result': '# Checking Focus\\n'\n",
       "                                              '\\n'\n",
       "                                              'To zoom in on the current focus '\n",
       "                                              'area for precise focus, press '\n",
       "                                              'the center of the rear command '\n",
       "                                              'dial. Use the focus stick (focus '\n",
       "                                              'lever) to choose another focus '\n",
       "                                              'area. Press the center of the '\n",
       "                                              'rear command dial again to '\n",
       "                                              'cancel zoom.\\n'\n",
       "                                              '\\n'\n",
       "                                              '!Focus Zoom\\n'\n",
       "                                              '\\n'\n",
       "                                              '- In focus mode **S**, zoom can '\n",
       "                                              'be adjusted by rotating the rear '\n",
       "                                              'command dial.\\n'\n",
       "                                              '- The focus stick can be used to '\n",
       "                                              'select the focus area while zoom '\n",
       "                                              'is in effect.\\n'\n",
       "                                              '- In focus mode **S**, select '\n",
       "                                              '**SINGLE POINT** for **AF '\n",
       "                                              'MODE**.\\n'\n",
       "                                              '- Focus zoom is not available in '\n",
       "                                              'focus mode **C** or when **AF/MF '\n",
       "                                              'SETTING > PRE-AF** is on.\\n'\n",
       "                                              '- Use **BUTTON/DIAL SETTING > '\n",
       "                                              'FUNCTION (Fn) SETTING** to '\n",
       "                                              'change the function performed by '\n",
       "                                              'the center of the rear command '\n",
       "                                              'dial. You can also assign its '\n",
       "                                              'default function to other '\n",
       "                                              'controls (see page 252).',\n",
       "                            'section': 'Autofocus',\n",
       "                            'subsection': ['Focus-Point Selection']},\n",
       "               'score': 0.5576194,\n",
       "               'sparse_values': {'indices': [], 'values': []},\n",
       "               'values': []}],\n",
       "  'namespace': '',\n",
       "  'usage': {'read_units': 6}},\n",
       " {'matches': [{'id': 'x100v_page73',\n",
       "               'metadata': {'chapter': 'Taking Photographs',\n",
       "                            'model': 'x100v',\n",
       "                            'page': 73.0,\n",
       "                            'parsing_result': '# Manual Focus\\n'\n",
       "                                              '\\n'\n",
       "                                              'Adjust focus manually.\\n'\n",
       "                                              '\\n'\n",
       "                                              '1. Slide the focus mode selector '\n",
       "                                              'to **M**.\\n'\n",
       "                                              '\\n'\n",
       "                                              '   !Focus Mode Selector\\n'\n",
       "                                              '\\n'\n",
       "                                              '   **MF** will appear in the '\n",
       "                                              'display.\\n'\n",
       "                                              '\\n'\n",
       "                                              '   !MF Display\\n'\n",
       "                                              '\\n'\n",
       "                                              '2. Focus manually using the lens '\n",
       "                                              'focus ring. Rotate the ring left '\n",
       "                                              'to reduce the focus distance, '\n",
       "                                              'right to increase.\\n'\n",
       "                                              '\\n'\n",
       "                                              '   !Lens Focus Ring\\n'\n",
       "                                              '\\n'\n",
       "                                              '3. Take pictures.\\n'\n",
       "                                              '\\n'\n",
       "                                              '> 💡 **Tip:**\\n'\n",
       "                                              '> Use **BUTTON/DIAL SETTING > '\n",
       "                                              'FOCUS RING** to reverse the '\n",
       "                                              'direction of rotation of the '\n",
       "                                              'focus ring.',\n",
       "                            'section': 'Manual Focus',\n",
       "                            'subsection': ['Manual Focus']},\n",
       "               'score': 0.6329521,\n",
       "               'sparse_values': {'indices': [], 'values': []},\n",
       "               'values': []},\n",
       "              {'id': 'x-t5_page91',\n",
       "               'metadata': {'chapter': 'Taking Photographs',\n",
       "                            'model': 'x-t5',\n",
       "                            'page': 91.0,\n",
       "                            'parsing_result': '# Manual Focus\\n'\n",
       "                                              '\\n'\n",
       "                                              'Adjust focus manually.\\n'\n",
       "                                              '\\n'\n",
       "                                              '1. **Rotate the focus mode '\n",
       "                                              'selector to M.**\\n'\n",
       "                                              '\\n'\n",
       "                                              '   !Focus Mode Selector\\n'\n",
       "                                              '\\n'\n",
       "                                              '   - *MF will appear in the '\n",
       "                                              'display.*\\n'\n",
       "                                              '\\n'\n",
       "                                              '   !MF Display\\n'\n",
       "                                              '\\n'\n",
       "                                              '2. **Focus manually using the '\n",
       "                                              'lens focus ring.**  \\n'\n",
       "                                              '   Rotate the ring left to '\n",
       "                                              'reduce the focus distance, right '\n",
       "                                              'to increase.\\n'\n",
       "                                              '\\n'\n",
       "                                              '   !Lens Focus Ring\\n'\n",
       "                                              '\\n'\n",
       "                                              '3. **Take pictures.**\\n'\n",
       "                                              '\\n'\n",
       "                                              '   !Camera Taking Pictures\\n'\n",
       "                                              '\\n'\n",
       "                                              '----\\n'\n",
       "                                              '\\n'\n",
       "                                              '- Use **BUTTON/DIAL SETTING > '\n",
       "                                              'LENS ZOOM/FOCUS SETTING** to '\n",
       "                                              'reverse the direction of '\n",
       "                                              'rotation of the focus ring.\\n'\n",
       "                                              '- Regardless of the option '\n",
       "                                              'selected, manual focus will be '\n",
       "                                              'used when the lens is in manual '\n",
       "                                              'focus mode.',\n",
       "                            'section': 'Manual Focus',\n",
       "                            'subsection': ['Manual Focus']},\n",
       "               'score': 0.6178321,\n",
       "               'sparse_values': {'indices': [], 'values': []},\n",
       "               'values': []},\n",
       "              {'id': 'x-s20_page92',\n",
       "               'metadata': {'chapter': 'Taking Photographs',\n",
       "                            'model': 'x-s20',\n",
       "                            'page': 92.0,\n",
       "                            'parsing_result': '# Focus Mode\\n'\n",
       "                                              '\\n'\n",
       "                                              'Choose how the camera focuses.\\n'\n",
       "                                              '\\n'\n",
       "                                              '1. Press **MENU/OK** to display '\n",
       "                                              'the menus.\\n'\n",
       "                                              '2. Select **AF/MF SETTING > '\n",
       "                                              'FOCUS MODE** in the shooting '\n",
       "                                              'menu.\\n'\n",
       "                                              '3. Choose from the following '\n",
       "                                              'options:\\n'\n",
       "                                              '\\n'\n",
       "                                              '| Mode            | '\n",
       "                                              'Description                                                                                                                                  '\n",
       "                                              '|\\n'\n",
       "                                              '|-----------------|----------------------------------------------------------------------------------------------------------------------------------------------|\\n'\n",
       "                                              '| **MF** MANUAL FOCUS | Focus '\n",
       "                                              'manually using the lens focus '\n",
       "                                              'ring. Choose for manual control '\n",
       "                                              'of focus or in situations in '\n",
       "                                              'which the camera is unable to '\n",
       "                                              'focus using autofocus. |\\n'\n",
       "                                              '| **AF-C** CONTINUOUS AF | Focus '\n",
       "                                              'is continually adjusted to '\n",
       "                                              'reflect changes in the distance '\n",
       "                                              'to the subject while the shutter '\n",
       "                                              'button is pressed halfway. Use '\n",
       "                                              'for subjects that are in motion. '\n",
       "                                              '|\\n'\n",
       "                                              '| **AF-S** SINGLE AF | Focus '\n",
       "                                              'locks while the shutter button '\n",
       "                                              'is pressed halfway. Choose for '\n",
       "                                              'stationary '\n",
       "                                              'subjects.                                                                 '\n",
       "                                              '|\\n'\n",
       "                                              '\\n'\n",
       "                                              '> 💡 **Note:**\\n'\n",
       "                                              '> - Regardless of the option '\n",
       "                                              'selected, manual focus will be '\n",
       "                                              'used when the lens is in manual '\n",
       "                                              'focus mode.\\n'\n",
       "                                              '> - If **ON** is selected for '\n",
       "                                              '**AF/MF SETTING > PRE-AF**, '\n",
       "                                              'focus will be adjusted '\n",
       "                                              'continuously in modes **AF-S** '\n",
       "                                              'and **AF-C** even when the '\n",
       "                                              'shutter button is not pressed.',\n",
       "                            'section': 'Autofocus',\n",
       "                            'subsection': ['Focus Mode']},\n",
       "               'score': 0.61685395,\n",
       "               'sparse_values': {'indices': [], 'values': []},\n",
       "               'values': []},\n",
       "              {'id': 'x-e4_page69',\n",
       "               'metadata': {'chapter': 'Taking Photographs',\n",
       "                            'model': 'x-e4',\n",
       "                            'page': 69.0,\n",
       "                            'parsing_result': '# Focus Mode\\n'\n",
       "                                              '\\n'\n",
       "                                              'Choose how the camera focuses.\\n'\n",
       "                                              '\\n'\n",
       "                                              '1. Press **MENU/OK** to display '\n",
       "                                              'the menus.\\n'\n",
       "                                              '2. Select **AF/MF SETTING > '\n",
       "                                              'FOCUS MODE** in the shooting '\n",
       "                                              'menu.\\n'\n",
       "                                              '3. Choose from the following '\n",
       "                                              'options:\\n'\n",
       "                                              '\\n'\n",
       "                                              '| Mode            | '\n",
       "                                              'Description                                                                                                                                  '\n",
       "                                              '|\\n'\n",
       "                                              '|-----------------|----------------------------------------------------------------------------------------------------------------------------------------------|\\n'\n",
       "                                              '| **MF**          | **MANUAL '\n",
       "                                              'FOCUS**: Focus manually using '\n",
       "                                              'the lens focus ring. Choose for '\n",
       "                                              'manual control of focus or in '\n",
       "                                              'situations in which the camera '\n",
       "                                              'is unable to focus using '\n",
       "                                              'autofocus. |\\n'\n",
       "                                              '| **AF-C**        | **CONTINUOUS '\n",
       "                                              'AF**: Focus is continually '\n",
       "                                              'adjusted to reflect changes in '\n",
       "                                              'the distance to the subject '\n",
       "                                              'while the shutter button is '\n",
       "                                              'pressed halfway. Use for '\n",
       "                                              'subjects that are in motion. |\\n'\n",
       "                                              '| **AF-S**        | **SINGLE '\n",
       "                                              'AF**: Focus locks while the '\n",
       "                                              'shutter button is pressed '\n",
       "                                              'halfway. Choose for stationary '\n",
       "                                              'subjects.                                       '\n",
       "                                              '|\\n'\n",
       "                                              '\\n'\n",
       "                                              '> - Regardless of the option '\n",
       "                                              'selected, manual focus will be '\n",
       "                                              'used when the lens is in manual '\n",
       "                                              'focus mode.\\n'\n",
       "                                              '> - If **ON** is selected for '\n",
       "                                              '**AF/MF SETTING > PRE-AF**, '\n",
       "                                              'focus will be adjusted '\n",
       "                                              'continuously in modes **AF-S** '\n",
       "                                              'and **AF-C** even when the '\n",
       "                                              'shutter button is not pressed.',\n",
       "                            'section': 'Autofocus',\n",
       "                            'subsection': ['Focus Mode']},\n",
       "               'score': 0.6151697,\n",
       "               'sparse_values': {'indices': [], 'values': []},\n",
       "               'values': []},\n",
       "              {'id': 'x-e4_page77',\n",
       "               'metadata': {'chapter': 'Taking Photographs',\n",
       "                            'model': 'x-e4',\n",
       "                            'page': 77.0,\n",
       "                            'parsing_result': '# Manual Focus\\n'\n",
       "                                              '\\n'\n",
       "                                              'Adjust focus manually.\\n'\n",
       "                                              '\\n'\n",
       "                                              '1. Select **MANUAL FOCUS** for '\n",
       "                                              '**AF/MF SETTING > FOCUS MODE**.\\n'\n",
       "                                              '\\n'\n",
       "                                              '   !Focus Mode Display\\n'\n",
       "                                              '\\n'\n",
       "                                              '2. Focus manually using the lens '\n",
       "                                              'focus ring. Rotate the ring left '\n",
       "                                              'to reduce the focus distance, '\n",
       "                                              'right to increase.\\n'\n",
       "                                              '\\n'\n",
       "                                              '   !Lens Focus Ring\\n'\n",
       "                                              '\\n'\n",
       "                                              '3. Take pictures.\\n'\n",
       "                                              '\\n'\n",
       "                                              '> 💡 **Note:**\\n'\n",
       "                                              '> - Use **BUTTON/DIAL SETTING > '\n",
       "                                              'FOCUS RING** to reverse the '\n",
       "                                              'direction of rotation of the '\n",
       "                                              'focus ring.\\n'\n",
       "                                              '> - Regardless of the option '\n",
       "                                              'selected, manual focus will be '\n",
       "                                              'used when the lens is in manual '\n",
       "                                              'focus mode.',\n",
       "                            'section': 'Manual Focus',\n",
       "                            'subsection': ['Manual Focus']},\n",
       "               'score': 0.6149178,\n",
       "               'sparse_values': {'indices': [], 'values': []},\n",
       "               'values': []},\n",
       "              {'id': 'x-e4_page76',\n",
       "               'metadata': {'chapter': 'Taking Photographs',\n",
       "                            'model': 'x-e4',\n",
       "                            'page': 76.0,\n",
       "                            'parsing_result': '\\n'\n",
       "                                              '# Autofocus\\n'\n",
       "                                              '\\n'\n",
       "                                              'Although the camera boasts a '\n",
       "                                              'high-precision autofocus system, '\n",
       "                                              'it may be unable to focus on the '\n",
       "                                              'subjects listed below.\\n'\n",
       "                                              '\\n'\n",
       "                                              '- Very shiny subjects such as '\n",
       "                                              'mirrors or car bodies.\\n'\n",
       "                                              '- Subjects photographed through '\n",
       "                                              'a window or other reflective '\n",
       "                                              'object.\\n'\n",
       "                                              '- Dark subjects and subjects '\n",
       "                                              'that absorb rather than reflect '\n",
       "                                              'light, such as hair or fur.\\n'\n",
       "                                              '- Insubstantial subjects, such '\n",
       "                                              'as smoke or flame.\\n'\n",
       "                                              '- Subjects that show little '\n",
       "                                              'contrast with the background.\\n'\n",
       "                                              '- Subjects positioned in front '\n",
       "                                              'of or behind a high-contrast '\n",
       "                                              'object that is also in the focus '\n",
       "                                              'frame (for example, a subject '\n",
       "                                              'photographed against a backdrop '\n",
       "                                              'of highly contrasting '\n",
       "                                              'elements).\\n'\n",
       "                                              '\\n'\n",
       "                                              '## Checking Focus\\n'\n",
       "                                              '\\n'\n",
       "                                              'To zoom the current focus area '\n",
       "                                              'in by a factor of 6 for precise '\n",
       "                                              'focus, press the center of the '\n",
       "                                              'focus stick (focus lever). Press '\n",
       "                                              'again to cancel zoom.\\n'\n",
       "                                              '\\n'\n",
       "                                              '!Focus Zoom Illustration\\n'\n",
       "                                              '\\n'\n",
       "                                              '- In focus mode !AF-S, select '\n",
       "                                              '**SINGLE POINT** for **AF '\n",
       "                                              'MODE**.\\n'\n",
       "                                              '- Focus zoom is not available in '\n",
       "                                              'focus mode !AF-C or when !AF/MF '\n",
       "                                              '**AF/MF SETTING > PRE-AF** is '\n",
       "                                              'on.\\n'\n",
       "                                              '- Use !Button/Dial Setting '\n",
       "                                              '**BUTTON/DIAL SETTING > FOCUS '\n",
       "                                              'LEVER SETTING** to change the '\n",
       "                                              'function performed by the center '\n",
       "                                              'of the focus stick (focus '\n",
       "                                              'lever). !Button/Dial Setting '\n",
       "                                              '**BUTTON/DIAL SETTING > FUNCTION '\n",
       "                                              '(Fn) SETTING** can also be used '\n",
       "                                              'to assign focus zoom to other '\n",
       "                                              'controls (📖 253).\\n',\n",
       "                            'section': 'Autofocus',\n",
       "                            'subsection': ['Focus-Point Selection']},\n",
       "               'score': 0.6131284,\n",
       "               'sparse_values': {'indices': [], 'values': []},\n",
       "               'values': []},\n",
       "              {'id': 'x100v_page72',\n",
       "               'metadata': {'chapter': 'Taking Photographs',\n",
       "                            'model': 'x100v',\n",
       "                            'page': 72.0,\n",
       "                            'parsing_result': '# Checking Focus\\n'\n",
       "                                              '\\n'\n",
       "                                              'To zoom in on the current focus '\n",
       "                                              'area for precise focus, press '\n",
       "                                              'the center of the rear command '\n",
       "                                              'dial. Use the focus stick (focus '\n",
       "                                              'lever) to choose another focus '\n",
       "                                              'area. Press the center of the '\n",
       "                                              'rear command dial again to '\n",
       "                                              'cancel zoom.\\n'\n",
       "                                              '\\n'\n",
       "                                              '!Focus Zoom\\n'\n",
       "                                              '\\n'\n",
       "                                              '- In focus mode **S**, zoom can '\n",
       "                                              'be adjusted by rotating the rear '\n",
       "                                              'command dial.\\n'\n",
       "                                              '- The focus stick can be used to '\n",
       "                                              'select the focus area while zoom '\n",
       "                                              'is in effect.\\n'\n",
       "                                              '- In focus mode **S**, select '\n",
       "                                              '**SINGLE POINT** for **AF '\n",
       "                                              'MODE**.\\n'\n",
       "                                              '- Focus zoom is not available in '\n",
       "                                              'focus mode **C** or when **AF/MF '\n",
       "                                              'SETTING > PRE-AF** is on.\\n'\n",
       "                                              '- Use **BUTTON/DIAL SETTING > '\n",
       "                                              'FUNCTION (Fn) SETTING** to '\n",
       "                                              'change the function performed by '\n",
       "                                              'the center of the rear command '\n",
       "                                              'dial. You can also assign its '\n",
       "                                              'default function to other '\n",
       "                                              'controls (see page 252).',\n",
       "                            'section': 'Autofocus',\n",
       "                            'subsection': ['Focus-Point Selection']},\n",
       "               'score': 0.6066387,\n",
       "               'sparse_values': {'indices': [], 'values': []},\n",
       "               'values': []},\n",
       "              {'id': 'x-s20_page100',\n",
       "               'metadata': {'chapter': 'Taking Photographs',\n",
       "                            'model': 'x-s20',\n",
       "                            'page': 100.0,\n",
       "                            'parsing_result': '# Manual Focus\\n'\n",
       "                                              '\\n'\n",
       "                                              'Adjust focus manually.\\n'\n",
       "                                              '\\n'\n",
       "                                              '1. Select **MANUAL FOCUS** for '\n",
       "                                              '!AF/MF **AF/MF SETTING > FOCUS '\n",
       "                                              'MODE**.\\n'\n",
       "                                              '\\n'\n",
       "                                              '   !Focus Mode Display\\n'\n",
       "                                              '\\n'\n",
       "                                              '2. Focus manually using the lens '\n",
       "                                              'focus ring. Rotate the ring left '\n",
       "                                              'to reduce the focus distance, '\n",
       "                                              'right to increase.\\n'\n",
       "                                              '\\n'\n",
       "                                              '   !Lens Focus Ring\\n'\n",
       "                                              '\\n'\n",
       "                                              '3. Take pictures.\\n'\n",
       "                                              '\\n'\n",
       "                                              '> 💡 **Note:**\\n'\n",
       "                                              '> - Use !Button/Dial Setting '\n",
       "                                              '**BUTTON/DIAL SETTING > LENS '\n",
       "                                              'ZOOM/FOCUS SETTING** to reverse '\n",
       "                                              'the direction of rotation of the '\n",
       "                                              'focus ring.\\n'\n",
       "                                              '> - Regardless of the option '\n",
       "                                              'selected, manual focus will be '\n",
       "                                              'used when the lens is in manual '\n",
       "                                              'focus mode.',\n",
       "                            'section': 'Manual Focus',\n",
       "                            'subsection': ['Manual Focus']},\n",
       "               'score': 0.60585195,\n",
       "               'sparse_values': {'indices': [], 'values': []},\n",
       "               'values': []},\n",
       "              {'id': 'gfx100ii_page101',\n",
       "               'metadata': {'chapter': 'Taking Photographs',\n",
       "                            'model': 'gfx100ii',\n",
       "                            'page': 101.0,\n",
       "                            'parsing_result': '# Manual Focus\\n'\n",
       "                                              '\\n'\n",
       "                                              'Adjust focus manually.\\n'\n",
       "                                              '\\n'\n",
       "                                              '1. **Rotate the focus mode '\n",
       "                                              'selector to M.**\\n'\n",
       "                                              '\\n'\n",
       "                                              '   !Focus Mode Selector\\n'\n",
       "                                              '\\n'\n",
       "                                              '   - **MF** will appear in the '\n",
       "                                              'display.\\n'\n",
       "                                              '\\n'\n",
       "                                              '   !MF Display\\n'\n",
       "                                              '\\n'\n",
       "                                              '2. **Focus manually using the '\n",
       "                                              'lens focus ring.**  \\n'\n",
       "                                              '   Rotate the ring left to '\n",
       "                                              'reduce the focus distance, right '\n",
       "                                              'to increase.\\n'\n",
       "                                              '\\n'\n",
       "                                              '   !Lens Focus Ring\\n'\n",
       "                                              '\\n'\n",
       "                                              '3. **Take pictures.**\\n'\n",
       "                                              '\\n'\n",
       "                                              '> 💡 **Note:**\\n'\n",
       "                                              '> - Use **BUTTON/DIAL SETTING > '\n",
       "                                              'FOCUS RING** to reverse the '\n",
       "                                              'direction of rotation of the '\n",
       "                                              'focus ring.\\n'\n",
       "                                              '> - Regardless of the option '\n",
       "                                              'selected, manual focus will be '\n",
       "                                              'used when the lens is in manual '\n",
       "                                              'focus mode.',\n",
       "                            'section': 'Manual Focus',\n",
       "                            'subsection': ['Manual Focus']},\n",
       "               'score': 0.6035858,\n",
       "               'sparse_values': {'indices': [], 'values': []},\n",
       "               'values': []},\n",
       "              {'id': 'gfx100ii_page100',\n",
       "               'metadata': {'chapter': 'Taking Photographs',\n",
       "                            'model': 'gfx100ii',\n",
       "                            'page': 100.0,\n",
       "                            'parsing_result': '# Checking Focus\\n'\n",
       "                                              '\\n'\n",
       "                                              'To zoom in on the current focus '\n",
       "                                              'area for precise focus, press '\n",
       "                                              'the center of the rear command '\n",
       "                                              'dial. Use the focus stick (focus '\n",
       "                                              'lever) to choose another focus '\n",
       "                                              'area. Press the center of the '\n",
       "                                              'rear command dial again to '\n",
       "                                              'cancel zoom.\\n'\n",
       "                                              '\\n'\n",
       "                                              '!Focus Zoom Illustration\\n'\n",
       "                                              '\\n'\n",
       "                                              '- In focus mode **S**, zoom can '\n",
       "                                              'be adjusted by rotating the rear '\n",
       "                                              'command dial.\\n'\n",
       "                                              '- The focus stick can be used to '\n",
       "                                              'select the focus area while zoom '\n",
       "                                              'is in effect.\\n'\n",
       "                                              '- In focus mode **S**, select '\n",
       "                                              '**SINGLE POINT** for **AF '\n",
       "                                              'MODE**.\\n'\n",
       "                                              '- Focus zoom is not available in '\n",
       "                                              'focus mode **C** or when **AF/MF '\n",
       "                                              'SETTING > PRE-AF** is on.\\n'\n",
       "                                              '- Use **BUTTON/DIAL SETTING > '\n",
       "                                              'FUNCTION (Fn) SETTING** to '\n",
       "                                              'change the function performed by '\n",
       "                                              'the center of the rear command '\n",
       "                                              'dial. You can also assign its '\n",
       "                                              'default function to other '\n",
       "                                              'controls.',\n",
       "                            'section': 'Autofocus',\n",
       "                            'subsection': ['Focus-Point Selection']},\n",
       "               'score': 0.602889,\n",
       "               'sparse_values': {'indices': [], 'values': []},\n",
       "               'values': []}],\n",
       "  'namespace': '',\n",
       "  'usage': {'read_units': 6}}]"
      ]
     },
     "execution_count": 13,
     "metadata": {},
     "output_type": "execute_result"
    }
   ],
   "source": [
    "query_results"
   ]
  },
  {
   "cell_type": "code",
   "execution_count": 14,
   "metadata": {},
   "outputs": [],
   "source": [
    "semantic_ids = []\n",
    "semantic_scores = []\n",
    "for single_query_result in query_results:\n",
    "    single_query_result_ids = []\n",
    "    single_query_result_scores = []\n",
    "    for doc_info in single_query_result['matches']:\n",
    "        single_query_result_ids.append(doc_info['id'])\n",
    "        single_query_result_scores.append(doc_info['score'])\n",
    "    semantic_ids.append(single_query_result_ids)\n",
    "    semantic_scores.append(single_query_result_scores)"
   ]
  },
  {
   "cell_type": "code",
   "execution_count": 15,
   "metadata": {},
   "outputs": [],
   "source": [
    "from autorag.nodes.retrieval import bm25\n",
    "import pandas as pd\n",
    "\n",
    "corpus_df = pd.read_parquet(\"autorag/project_dir/data/corpus.parquet\")"
   ]
  },
  {
   "cell_type": "code",
   "execution_count": 16,
   "metadata": {},
   "outputs": [],
   "source": [
    "import os\n",
    "\n",
    "pkl_dir = \"./autorag/project_dir/resources\"\n",
    "if not os.path.exists(pkl_dir):\n",
    "    os.makedirs(pkl_dir)\n",
    "\n",
    "pkl_path = os.path.join(pkl_dir, \"bm25_porter_stemmer.pkl\")\n",
    "\n",
    "bm25.bm25_ingest(pkl_path, corpus_df, bm25_tokenizer=\"porter_stemmer\")"
   ]
  },
  {
   "cell_type": "code",
   "execution_count": 17,
   "metadata": {},
   "outputs": [
    {
     "data": {
      "text/html": [
       "<pre style=\"white-space:pre;overflow-x:auto;line-height:normal;font-family:Menlo,'DejaVu Sans Mono',consolas,'Courier New',monospace\"><span style=\"color: #7fbfbf; text-decoration-color: #7fbfbf\">[02/05/25 09:17:25] </span><span style=\"color: #000080; text-decoration-color: #000080\">INFO    </span> <span style=\"font-weight: bold\">[</span>base.py:<span style=\"color: #008080; text-decoration-color: #008080; font-weight: bold\">18</span><span style=\"font-weight: bold\">]</span> &gt;&gt; Initialize retrieval node - BM25                            <a href=\"file:///home/jeongho/git/SKN05-FINAL-1TEAM/jeongho/RAGprojects_env/lib/python3.12/site-packages/autorag/nodes/retrieval/base.py\" target=\"_blank\"><span style=\"color: #7f7f7f; text-decoration-color: #7f7f7f\">base.py</span></a><span style=\"color: #7f7f7f; text-decoration-color: #7f7f7f\">:</span><a href=\"file:///home/jeongho/git/SKN05-FINAL-1TEAM/jeongho/RAGprojects_env/lib/python3.12/site-packages/autorag/nodes/retrieval/base.py#18\" target=\"_blank\"><span style=\"color: #7f7f7f; text-decoration-color: #7f7f7f\">18</span></a>\n",
       "</pre>\n"
      ],
      "text/plain": [
       "\u001b[2;36m[02/05/25 09:17:25]\u001b[0m\u001b[2;36m \u001b[0m\u001b[34mINFO    \u001b[0m \u001b[1m[\u001b[0mbase.py:\u001b[1;36m18\u001b[0m\u001b[1m]\u001b[0m >> Initialize retrieval node - BM25                            \u001b]8;id=692787;file:///home/jeongho/git/SKN05-FINAL-1TEAM/jeongho/RAGprojects_env/lib/python3.12/site-packages/autorag/nodes/retrieval/base.py\u001b\\\u001b[2mbase.py\u001b[0m\u001b]8;;\u001b\\\u001b[2m:\u001b[0m\u001b]8;id=230743;file:///home/jeongho/git/SKN05-FINAL-1TEAM/jeongho/RAGprojects_env/lib/python3.12/site-packages/autorag/nodes/retrieval/base.py#18\u001b\\\u001b[2m18\u001b[0m\u001b]8;;\u001b\\\n"
      ]
     },
     "metadata": {},
     "output_type": "display_data"
    }
   ],
   "source": [
    "bm25_retriever = bm25.BM25(project_dir=\"./autorag/project_dir\", bm25_tokenizer=\"porter_stemmer\")"
   ]
  },
  {
   "cell_type": "code",
   "execution_count": 18,
   "metadata": {},
   "outputs": [],
   "source": [
    "import pandas as pd\n",
    "\n",
    "# 예시: 두 개의 질의(queries)를 가진 데이터프레임\n",
    "df_queries = pd.DataFrame({\n",
    "    \"query\": MQE_result_df['queries'][0]\n",
    "})\n"
   ]
  },
  {
   "cell_type": "code",
   "execution_count": 19,
   "metadata": {},
   "outputs": [
    {
     "data": {
      "text/html": [
       "<pre style=\"white-space:pre;overflow-x:auto;line-height:normal;font-family:Menlo,'DejaVu Sans Mono',consolas,'Courier New',monospace\"><span style=\"color: #7fbfbf; text-decoration-color: #7fbfbf\">[02/05/25 09:17:30] </span><span style=\"color: #000080; text-decoration-color: #000080\">INFO    </span> <span style=\"font-weight: bold\">[</span>base.py:<span style=\"color: #008080; text-decoration-color: #008080; font-weight: bold\">31</span><span style=\"font-weight: bold\">]</span> &gt;&gt; Running retrieval node - BM25 module<span style=\"color: #808000; text-decoration-color: #808000\">...</span>                     <a href=\"file:///home/jeongho/git/SKN05-FINAL-1TEAM/jeongho/RAGprojects_env/lib/python3.12/site-packages/autorag/nodes/retrieval/base.py\" target=\"_blank\"><span style=\"color: #7f7f7f; text-decoration-color: #7f7f7f\">base.py</span></a><span style=\"color: #7f7f7f; text-decoration-color: #7f7f7f\">:</span><a href=\"file:///home/jeongho/git/SKN05-FINAL-1TEAM/jeongho/RAGprojects_env/lib/python3.12/site-packages/autorag/nodes/retrieval/base.py#31\" target=\"_blank\"><span style=\"color: #7f7f7f; text-decoration-color: #7f7f7f\">31</span></a>\n",
       "</pre>\n"
      ],
      "text/plain": [
       "\u001b[2;36m[02/05/25 09:17:30]\u001b[0m\u001b[2;36m \u001b[0m\u001b[34mINFO    \u001b[0m \u001b[1m[\u001b[0mbase.py:\u001b[1;36m31\u001b[0m\u001b[1m]\u001b[0m >> Running retrieval node - BM25 module\u001b[33m...\u001b[0m                     \u001b]8;id=232727;file:///home/jeongho/git/SKN05-FINAL-1TEAM/jeongho/RAGprojects_env/lib/python3.12/site-packages/autorag/nodes/retrieval/base.py\u001b\\\u001b[2mbase.py\u001b[0m\u001b]8;;\u001b\\\u001b[2m:\u001b[0m\u001b]8;id=438838;file:///home/jeongho/git/SKN05-FINAL-1TEAM/jeongho/RAGprojects_env/lib/python3.12/site-packages/autorag/nodes/retrieval/base.py#31\u001b\\\u001b[2m31\u001b[0m\u001b]8;;\u001b\\\n"
      ]
     },
     "metadata": {},
     "output_type": "display_data"
    }
   ],
   "source": [
    "# lexical_results_df = bm25_retriever.pure(df_queries, top_k=10, selected_model = \"gfx100ii\")\n",
    "lexical_results_df = bm25_retriever.pure(df_queries, top_k=10, )\n"
   ]
  },
  {
   "cell_type": "code",
   "execution_count": 20,
   "metadata": {},
   "outputs": [
    {
     "data": {
      "text/plain": [
       "['x100v_page8',\n",
       " 'gfx100ii_page343',\n",
       " 'x100v_page7',\n",
       " 'gfx100ii_page344',\n",
       " 'x100v_page209',\n",
       " 'x-e4_page216',\n",
       " 'x-e4_page9',\n",
       " 'x-e4_page53',\n",
       " 'x-s20_page279',\n",
       " 'x100v_page54']"
      ]
     },
     "execution_count": 20,
     "metadata": {},
     "output_type": "execute_result"
    }
   ],
   "source": [
    "lexical_results_df['retrieved_ids'][0]"
   ]
  },
  {
   "cell_type": "code",
   "execution_count": 21,
   "metadata": {},
   "outputs": [
    {
     "data": {
      "text/html": [
       "<div>\n",
       "<style scoped>\n",
       "    .dataframe tbody tr th:only-of-type {\n",
       "        vertical-align: middle;\n",
       "    }\n",
       "\n",
       "    .dataframe tbody tr th {\n",
       "        vertical-align: top;\n",
       "    }\n",
       "\n",
       "    .dataframe thead th {\n",
       "        text-align: right;\n",
       "    }\n",
       "</style>\n",
       "<table border=\"1\" class=\"dataframe\">\n",
       "  <thead>\n",
       "    <tr style=\"text-align: right;\">\n",
       "      <th></th>\n",
       "      <th>retrieved_contents</th>\n",
       "      <th>retrieved_ids</th>\n",
       "      <th>retrieve_scores</th>\n",
       "    </tr>\n",
       "  </thead>\n",
       "  <tbody>\n",
       "    <tr>\n",
       "      <th>0</th>\n",
       "      <td>[# Before You Begin\\n\\n## The Exposure Compens...</td>\n",
       "      <td>[x100v_page8, gfx100ii_page343, x100v_page7, g...</td>\n",
       "      <td>[2.25038256360854, 2.2094606516857036, 2.11368...</td>\n",
       "    </tr>\n",
       "    <tr>\n",
       "      <th>1</th>\n",
       "      <td>[# Basic Setup\\n\\n## Choosing a Different Lang...</td>\n",
       "      <td>[x-s20_page45, x-e4_page39, x100v_page42, gfx1...</td>\n",
       "      <td>[5.255978949872548, 5.255978949872548, 5.25597...</td>\n",
       "    </tr>\n",
       "    <tr>\n",
       "      <th>2</th>\n",
       "      <td>[# RAW CONVERSION\\n\\nEven if you don’t have a ...</td>\n",
       "      <td>[gfx100ii_page221, x-t5_page226, x-s20_page225...</td>\n",
       "      <td>[9.565870260697878, 9.039752971085424, 6.49637...</td>\n",
       "    </tr>\n",
       "    <tr>\n",
       "      <th>3</th>\n",
       "      <td>[# Program Shift\\n\\nIf desired, you can rotate...</td>\n",
       "      <td>[x-s20_page72, gfx100ii_page77, x100v_page57, ...</td>\n",
       "      <td>[7.866744266228143, 7.793092904463249, 7.79309...</td>\n",
       "    </tr>\n",
       "  </tbody>\n",
       "</table>\n",
       "</div>"
      ],
      "text/plain": [
       "                                  retrieved_contents  \\\n",
       "0  [# Before You Begin\\n\\n## The Exposure Compens...   \n",
       "1  [# Basic Setup\\n\\n## Choosing a Different Lang...   \n",
       "2  [# RAW CONVERSION\\n\\nEven if you don’t have a ...   \n",
       "3  [# Program Shift\\n\\nIf desired, you can rotate...   \n",
       "\n",
       "                                       retrieved_ids  \\\n",
       "0  [x100v_page8, gfx100ii_page343, x100v_page7, g...   \n",
       "1  [x-s20_page45, x-e4_page39, x100v_page42, gfx1...   \n",
       "2  [gfx100ii_page221, x-t5_page226, x-s20_page225...   \n",
       "3  [x-s20_page72, gfx100ii_page77, x100v_page57, ...   \n",
       "\n",
       "                                     retrieve_scores  \n",
       "0  [2.25038256360854, 2.2094606516857036, 2.11368...  \n",
       "1  [5.255978949872548, 5.255978949872548, 5.25597...  \n",
       "2  [9.565870260697878, 9.039752971085424, 6.49637...  \n",
       "3  [7.866744266228143, 7.793092904463249, 7.79309...  "
      ]
     },
     "execution_count": 21,
     "metadata": {},
     "output_type": "execute_result"
    }
   ],
   "source": [
    "lexical_results_df"
   ]
  },
  {
   "cell_type": "code",
   "execution_count": 22,
   "metadata": {},
   "outputs": [],
   "source": [
    "lexical_ids = lexical_results_df[\"retrieved_ids\"]\n",
    "lexical_scores = lexical_results_df[\"retrieve_scores\"]"
   ]
  },
  {
   "cell_type": "code",
   "execution_count": 23,
   "metadata": {},
   "outputs": [
    {
     "name": "stdout",
     "output_type": "stream",
     "text": [
      "Fused IDs: [['x100v_page73', 'x-e4_page77', 'x100v_page8', 'x-s20_page100', 'gfx100ii_page343', 'x100v_page72', 'x100v_page7', 'x-e4_page76', 'x-s20_page99', 'gfx100ii_page344'], ['x-s20_page99', 'x100v_page120', 'x100v_page72', 'x-e4_page69', 'x-s20_page92', 'x-s20_page152', 'x100v_page125', 'gfx100ii_page100', 'x-t5_page90', 'x-s20_page45'], ['x-s20_page152', 'x100v_page125', 'x-t5_page147', 'gfx100ii_page221', 'x-t5_page226', 'x100v_page143', 'x-t5_page164', 'x-s20_page225', 'x-e4_page187', 'x100v_page179'], ['x100v_page73', 'x-t5_page91', 'x-s20_page92', 'x-s20_page72', 'x100v_page57', 'gfx100ii_page77', 'x-e4_page69', 'x-e4_page77', 'x-t5_page73', 'x-e4_page76']]\n",
      "Fused Scores: [[0.7, 0.5715428663914872, 0.30000000000000004, 0.278073043817458, 0.2523882779178166, 0.16212186155203778, 0.14095924473673654, 0.12156503793670066, 0.10364323035201489, 0.09917202166035807], [0.7, 0.6210039951934954, 0.494240199728556, 0.4783976815696957, 0.44730078823607083, 0.4077946949769552, 0.36472022309423696, 0.362188096394988, 0.30368498474962385, 0.30000000000000004], [0.7, 0.6845460336943362, 0.5788028704559184, 0.30000000000000004, 0.26745204864954525, 0.18136054807496718, 0.14232171386831086, 0.11010723959831602, 0.11010723959831602, 0.11010723959831602], [0.7, 0.3479404984848531, 0.3251649031536994, 0.30000000000000004, 0.29568890570776274, 0.29568890570776274, 0.28594822223922417, 0.2800828923164931, 0.2428273816253542, 0.23841786109882226]]\n"
     ]
    }
   ],
   "source": [
    "from autorag.nodes.retrieval.hybrid_cc import hybrid_cc\n",
    "\n",
    "ids = (semantic_ids, lexical_ids)\n",
    "scores = (semantic_scores, lexical_scores)\n",
    "\n",
    "top_k = 10\n",
    "weight = 0.7             # semantic 쪽 가중치 0.7, lexical 쪽 가중치 0.3\n",
    "normalize_method = \"mm\"  # min-max 정규화\n",
    "\n",
    "fused_ids, fused_scores = hybrid_cc(\n",
    "    ids=ids,\n",
    "    scores=scores,\n",
    "    top_k=top_k,\n",
    "    weight=weight,\n",
    "    normalize_method=normalize_method,\n",
    "    semantic_theoretical_min_value=-1.0,  # tmm 모드 사용 시 필요한 값\n",
    "    lexical_theoretical_min_value=0.0     # tmm 모드 사용 시 필요한 값\n",
    ")\n",
    "\n",
    "print(\"Fused IDs:\", fused_ids)\n",
    "print(\"Fused Scores:\", fused_scores)\n"
   ]
  },
  {
   "cell_type": "code",
   "execution_count": 24,
   "metadata": {},
   "outputs": [],
   "source": [
    "docs = []\n",
    "for id in fused_ids[0]:\n",
    "    docs.append(corpus_df.loc[corpus_df[\"doc_id\"] == id, \"contents\"].values[0])"
   ]
  },
  {
   "cell_type": "code",
   "execution_count": 25,
   "metadata": {},
   "outputs": [
    {
     "data": {
      "text/html": [
       "<pre style=\"white-space:pre;overflow-x:auto;line-height:normal;font-family:Menlo,'DejaVu Sans Mono',consolas,'Courier New',monospace\"><span style=\"color: #7fbfbf; text-decoration-color: #7fbfbf\">[02/05/25 09:17:48] </span><span style=\"color: #000080; text-decoration-color: #000080\">INFO    </span> <span style=\"font-weight: bold\">[</span>_client.py:<span style=\"color: #008080; text-decoration-color: #008080; font-weight: bold\">1026</span><span style=\"font-weight: bold\">]</span> &gt;&gt; HTTP Request: <span style=\"color: #808000; text-decoration-color: #808000; font-weight: bold\">POST</span>                                <a href=\"file:///home/jeongho/git/SKN05-FINAL-1TEAM/jeongho/RAGprojects_env/lib/python3.12/site-packages/httpx/_client.py\" target=\"_blank\"><span style=\"color: #7f7f7f; text-decoration-color: #7f7f7f\">_client.py</span></a><span style=\"color: #7f7f7f; text-decoration-color: #7f7f7f\">:</span><a href=\"file:///home/jeongho/git/SKN05-FINAL-1TEAM/jeongho/RAGprojects_env/lib/python3.12/site-packages/httpx/_client.py#1026\" target=\"_blank\"><span style=\"color: #7f7f7f; text-decoration-color: #7f7f7f\">1026</span></a>\n",
       "<span style=\"color: #7fbfbf; text-decoration-color: #7fbfbf\">                    </span>         <span style=\"color: #0000ff; text-decoration-color: #0000ff; text-decoration: underline\">https://api.cohere.com/v2/rerank</span> <span style=\"color: #008000; text-decoration-color: #008000\">\"HTTP/1.1 200 OK\"</span>                     <span style=\"color: #7f7f7f; text-decoration-color: #7f7f7f\">               </span>\n",
       "</pre>\n"
      ],
      "text/plain": [
       "\u001b[2;36m[02/05/25 09:17:48]\u001b[0m\u001b[2;36m \u001b[0m\u001b[34mINFO    \u001b[0m \u001b[1m[\u001b[0m_client.py:\u001b[1;36m1026\u001b[0m\u001b[1m]\u001b[0m >> HTTP Request: \u001b[1;33mPOST\u001b[0m                                \u001b]8;id=436411;file:///home/jeongho/git/SKN05-FINAL-1TEAM/jeongho/RAGprojects_env/lib/python3.12/site-packages/httpx/_client.py\u001b\\\u001b[2m_client.py\u001b[0m\u001b]8;;\u001b\\\u001b[2m:\u001b[0m\u001b]8;id=72103;file:///home/jeongho/git/SKN05-FINAL-1TEAM/jeongho/RAGprojects_env/lib/python3.12/site-packages/httpx/_client.py#1026\u001b\\\u001b[2m1026\u001b[0m\u001b]8;;\u001b\\\n",
       "\u001b[2;36m                    \u001b[0m         \u001b[4;94mhttps://api.cohere.com/v2/rerank\u001b[0m \u001b[32m\"HTTP/1.1 200 OK\"\u001b[0m                     \u001b[2m               \u001b[0m\n"
      ]
     },
     "metadata": {},
     "output_type": "display_data"
    }
   ],
   "source": [
    "import cohere\n",
    "\n",
    "co = cohere.ClientV2()\n",
    "\n",
    "response = co.rerank(\n",
    "    model=\"rerank-v3.5\",\n",
    "    query=MQE_result_df['queries'][0][0],\n",
    "    documents=docs,\n",
    "    top_n=3,\n",
    ")"
   ]
  },
  {
   "cell_type": "code",
   "execution_count": 27,
   "metadata": {},
   "outputs": [
    {
     "data": {
      "text/plain": [
       "['# Manual Focus\\n\\nAdjust focus manually.\\n\\n1. Slide the focus mode selector to **M**.\\n\\n   !Focus Mode Selector\\n\\n   **MF** will appear in the display.\\n\\n   !MF Display\\n\\n2. Focus manually using the lens focus ring. Rotate the ring left to reduce the focus distance, right to increase.\\n\\n   !Lens Focus Ring\\n\\n3. Take pictures.\\n\\n> 💡 **Tip:**\\n> Use **BUTTON/DIAL SETTING > FOCUS RING** to reverse the direction of rotation of the focus ring.',\n",
       " '# Manual Focus\\n\\nAdjust focus manually.\\n\\n1. Select **MANUAL FOCUS** for **AF/MF SETTING > FOCUS MODE**.\\n\\n   !Focus Mode Display\\n\\n2. Focus manually using the lens focus ring. Rotate the ring left to reduce the focus distance, right to increase.\\n\\n   !Lens Focus Ring\\n\\n3. Take pictures.\\n\\n> 💡 **Note:**\\n> - Use **BUTTON/DIAL SETTING > FOCUS RING** to reverse the direction of rotation of the focus ring.\\n> - Regardless of the option selected, manual focus will be used when the lens is in manual focus mode.',\n",
       " '# Before You Begin\\n\\n## The Exposure Compensation Dial\\n\\nRotate the dial to choose an exposure compensation amount.\\n\\n!Exposure Compensation Dial\\n\\n## Focusing the Viewfinder\\n\\nViewfinder focus can be adjusted by rotating the diopter adjustment control.\\n\\n!Diopter Adjustment Control',\n",
       " '# Manual Focus\\n\\nAdjust focus manually.\\n\\n1. Select **MANUAL FOCUS** for !AF/MF **AF/MF SETTING > FOCUS MODE**.\\n\\n   !Focus Mode Display\\n\\n2. Focus manually using the lens focus ring. Rotate the ring left to reduce the focus distance, right to increase.\\n\\n   !Lens Focus Ring\\n\\n3. Take pictures.\\n\\n> 💡 **Note:**\\n> - Use !Button/Dial Setting **BUTTON/DIAL SETTING > LENS ZOOM/FOCUS SETTING** to reverse the direction of rotation of the focus ring.\\n> - Regardless of the option selected, manual focus will be used when the lens is in manual focus mode.',\n",
       " '# EVF Color Adjustment\\n\\nAdjust the color of the display in the electronic viewfinder.\\n\\n1. Adjust colors using the focus stick (focus lever).\\n\\n   !EVF Color Adjustment Menu\\n\\n2. Press **MENU/OK**.',\n",
       " '# Checking Focus\\n\\nTo zoom in on the current focus area for precise focus, press the center of the rear command dial. Use the focus stick (focus lever) to choose another focus area. Press the center of the rear command dial again to cancel zoom.\\n\\n!Focus Zoom\\n\\n- In focus mode **S**, zoom can be adjusted by rotating the rear command dial.\\n- The focus stick can be used to select the focus area while zoom is in effect.\\n- In focus mode **S**, select **SINGLE POINT** for **AF MODE**.\\n- Focus zoom is not available in focus mode **C** or when **AF/MF SETTING > PRE-AF** is on.\\n- Use **BUTTON/DIAL SETTING > FUNCTION (Fn) SETTING** to change the function performed by the center of the rear command dial. You can also assign its default function to other controls (see page 252).',\n",
       " '# Parts of the Camera\\n\\n## The Focus Stick (Focus Lever)\\nTilt or press the focus stick to select the focus area. The focus stick can also be used to navigate the menus.\\n\\n!Focus Stick\\n\\n## The Shutter Speed Dial/Sensitivity Dial\\nShutter speed can be adjusted by rotating the shutter speed dial/sensitivity dial. Lift and rotate the dial to adjust sensitivity.\\n\\n!Shutter Speed and Sensitivity Dial\\n\\n- **Shutter speed**\\n- **Sensitivity**',\n",
       " '\\n# Autofocus\\n\\nAlthough the camera boasts a high-precision autofocus system, it may be unable to focus on the subjects listed below.\\n\\n- Very shiny subjects such as mirrors or car bodies.\\n- Subjects photographed through a window or other reflective object.\\n- Dark subjects and subjects that absorb rather than reflect light, such as hair or fur.\\n- Insubstantial subjects, such as smoke or flame.\\n- Subjects that show little contrast with the background.\\n- Subjects positioned in front of or behind a high-contrast object that is also in the focus frame (for example, a subject photographed against a backdrop of highly contrasting elements).\\n\\n## Checking Focus\\n\\nTo zoom the current focus area in by a factor of 6 for precise focus, press the center of the focus stick (focus lever). Press again to cancel zoom.\\n\\n!Focus Zoom Illustration\\n\\n- In focus mode !AF-S, select **SINGLE POINT** for **AF MODE**.\\n- Focus zoom is not available in focus mode !AF-C or when !AF/MF **AF/MF SETTING > PRE-AF** is on.\\n- Use !Button/Dial Setting **BUTTON/DIAL SETTING > FOCUS LEVER SETTING** to change the function performed by the center of the focus stick (focus lever). !Button/Dial Setting **BUTTON/DIAL SETTING > FUNCTION (Fn) SETTING** can also be used to assign focus zoom to other controls (📖 253).\\n',\n",
       " '# Checking Focus\\n\\nTo zoom in on the current focus area for precise focus, press the center of the focus stick (focus lever). Use the focus stick (focus lever) to choose another focus area. Press again to cancel zoom.\\n\\n!Normal display and Focus zoom\\n\\n- In focus mode !AFS, zoom can be adjusted by rotating the rear command dial.\\n- In focus mode !AFS, select SINGLE POINT for AF MODE.\\n- Focus zoom is not available in focus mode !AFC or when !AF/MF SETTING > PRE-AF is on.\\n- Use !BUTTON/DIAL SETTING > FOCUS LEVER SETTING to change the function performed by the center of the focus stick (focus lever). !BUTTON/DIAL SETTING > FUNCTION (Fn) SETTING can also be used to assign focus zoom to other controls (📖 317).',\n",
       " '# LCD Settings\\n\\n## LCD Brightness\\nAdjust monitor brightness.\\n\\n**Options:**\\n- -5\\n- -4\\n- -3\\n- -2\\n- -1\\n- 0\\n- +1\\n- +2\\n- +3\\n- +4\\n- +5\\n\\n## LCD Color\\nAdjust monitor saturation.\\n\\n**Options:**\\n- -5\\n- -4\\n- -3\\n- -2\\n- -1\\n- 0\\n- +1\\n- +2\\n- +3\\n- +4\\n- +5\\n\\n## LCD Color Adjustment\\nAdjust the color of the display in the LCD monitor.\\n\\n1. Adjust colors using the focus stick (focus lever).\\n2. Press **MENU/OK**.']"
      ]
     },
     "execution_count": 27,
     "metadata": {},
     "output_type": "execute_result"
    }
   ],
   "source": [
    "docs"
   ]
  },
  {
   "cell_type": "code",
   "execution_count": 26,
   "metadata": {},
   "outputs": [
    {
     "data": {
      "text/plain": [
       "V2RerankResponse(id='1a020709-dd87-4956-963d-0866e6b7cbe8', results=[V2RerankResponseResultsItem(document=None, index=0, relevance_score=0.82288796), V2RerankResponseResultsItem(document=None, index=1, relevance_score=0.82288796), V2RerankResponseResultsItem(document=None, index=3, relevance_score=0.8145405)], meta=ApiMeta(api_version=ApiMetaApiVersion(version='2', is_deprecated=None, is_experimental=None), billed_units=ApiMetaBilledUnits(images=None, input_tokens=None, output_tokens=None, search_units=1.0, classifications=None), tokens=None, warnings=None))"
      ]
     },
     "execution_count": 26,
     "metadata": {},
     "output_type": "execute_result"
    }
   ],
   "source": [
    "response"
   ]
  },
  {
   "cell_type": "code",
   "execution_count": 29,
   "metadata": {},
   "outputs": [
    {
     "data": {
      "text/plain": [
       "[V2RerankResponseResultsItem(document=None, index=0, relevance_score=0.82288796),\n",
       " V2RerankResponseResultsItem(document=None, index=1, relevance_score=0.82288796),\n",
       " V2RerankResponseResultsItem(document=None, index=3, relevance_score=0.8145405)]"
      ]
     },
     "execution_count": 29,
     "metadata": {},
     "output_type": "execute_result"
    }
   ],
   "source": [
    "response.results"
   ]
  },
  {
   "cell_type": "code",
   "execution_count": 34,
   "metadata": {},
   "outputs": [
    {
     "data": {
      "text/plain": [
       "[{'index': 0, 'relevance_score': 0.82288796},\n",
       " {'index': 1, 'relevance_score': 0.82288796},\n",
       " {'index': 3, 'relevance_score': 0.8145405}]"
      ]
     },
     "execution_count": 34,
     "metadata": {},
     "output_type": "execute_result"
    }
   ],
   "source": [
    "response.dict()['results']"
   ]
  },
  {
   "cell_type": "code",
   "execution_count": 38,
   "metadata": {},
   "outputs": [
    {
     "name": "stdout",
     "output_type": "stream",
     "text": [
      "0\n",
      "1\n",
      "3\n"
     ]
    }
   ],
   "source": [
    "for i in response.dict()['results']:\n",
    "    print(i['index'])"
   ]
  },
  {
   "cell_type": "code",
   "execution_count": 82,
   "metadata": {},
   "outputs": [
    {
     "name": "stdout",
     "output_type": "stream",
     "text": [
      "# Exposure Compensation\n",
      "\n",
      "Adjust exposure.\n",
      "\n",
      "Hold the Fn button to which exposure compensation is assigned and rotate the rear command dial to select the desired value.\n",
      "\n",
      "> 💡 **Note:**\n",
      "> - The command dial used in this role can be chosen using **BUTTON/DIAL SETTING > COMMAND DIAL SETTING**.\n",
      "\n",
      "- The amount of compensation available varies with the shooting mode.\n",
      "- Exposure compensation can be previewed in the shooting display, although the display may not accurately reflect its effects if:\n",
      "  - the exposure compensation amount exceeds ±3 EV,\n",
      "  - 200% or 400% is selected for **DYNAMIC RANGE**, or\n",
      "  - **STRONG** or **WEAK** is selected for **D RANGE PRIORITY**.\n",
      "\n",
      "Exposure compensation can still be previewed in the viewfinder or LCD monitor by pressing the shutter button halfway. In movie mode, the display may not accurately reflect the effects of exposure compensation during F-Log recording or when 200% or 400% is selected for **DYNAMIC RANGE**. An accurate preview can be obtained by selecting mode **M** and adjusting exposure directly.\n",
      "# Exposure Compensation\n",
      "\n",
      "**Adjust exposure.**\n",
      "\n",
      "Rotate the exposure compensation dial.\n",
      "\n",
      "!Exposure Compensation Dial\n",
      "\n",
      "- The amount of compensation available varies with the shooting mode.\n",
      "- Exposure compensation can be previewed in the shooting display, although the display may not accurately reflect its effects if:\n",
      "  - the exposure compensation amount exceeds ±3 EV,\n",
      "  - 200% or 400% is selected for **DYNAMIC RANGE**, or\n",
      "  - **STRONG** or **WEAK** is selected for **D RANGE PRIORITY**.\n",
      "\n",
      "Exposure compensation can still be previewed in the viewfinder or LCD monitor by pressing the shutter button halfway. In movie mode, the display may not accurately reflect the effects of exposure compensation during F-log recording or when 200% or 400% is selected for **DYNAMIC RANGE**. An accurate preview can be obtained by selecting mode **M** and adjusting exposure directly.\n",
      "# Adjusting Display Settings\n",
      "\n",
      "## Adjusting Display Brightness\n",
      "\n",
      "The brightness and hue of the viewfinder and LCD monitor can be adjusted using the items in the **SCREEN SET-UP** menu. Choose **EVF BRIGHTNESS** or **EVF COLOR** to adjust viewfinder brightness or hue, **LCD BRIGHTNESS** or **LCD COLOR** to do the same for the LCD monitor.\n",
      "\n",
      "## Display Rotation\n",
      "\n",
      "When **ON** is selected for **SCREEN SET-UP > AUTOROTATE DISPLAYS**, the indicators in the viewfinder and LCD monitor automatically rotate to match camera orientation.\n"
     ]
    }
   ],
   "source": [
    "reordered_list = [docs[i] for i in [0, 2, 1]]\n",
    "for i in reordered_list:\n",
    "    print(i)"
   ]
  },
  {
   "cell_type": "markdown",
   "metadata": {},
   "source": [
    "    sessionId: int = Field(default=None, description=\"없으면 새로운 session 생성\")\n",
    "    brand: str\n",
    "    model: str\n",
    "    question: str"
   ]
  },
  {
   "cell_type": "code",
   "execution_count": 1,
   "metadata": {},
   "outputs": [],
   "source": [
    "import startup"
   ]
  },
  {
   "cell_type": "code",
   "execution_count": 8,
   "metadata": {},
   "outputs": [
    {
     "data": {
      "image/png": "[encoded data removed]",
      "text/plain": [
       "<langgraph.graph.state.CompiledStateGraph object at 0x7253d3f5ba10>"
      ]
     },
     "execution_count": 8,
     "metadata": {},
     "output_type": "execute_result"
    }
   ],
   "source": [
    "graph.graph"
   ]
  },
  {
   "cell_type": "code",
   "execution_count": 6,
   "metadata": {},
   "outputs": [
    {
     "data": {
      "text/html": [
       "<pre style=\"white-space:pre;overflow-x:auto;line-height:normal;font-family:Menlo,'DejaVu Sans Mono',consolas,'Courier New',monospace\"><span style=\"color: #7fbfbf; text-decoration-color: #7fbfbf\">[02/05/25 18:52:20] </span><span style=\"color: #000080; text-decoration-color: #000080\">INFO    </span> <span style=\"font-weight: bold\">[</span>base.py:<span style=\"color: #008080; text-decoration-color: #008080; font-weight: bold\">31</span><span style=\"font-weight: bold\">]</span> &gt;&gt; Running query expansion node - QueryDecompose module<span style=\"color: #808000; text-decoration-color: #808000\">...</span>     <a href=\"file:///home/jeongho/git/SKN05-FINAL-1TEAM/jeongho/RAGprojects_env/lib/python3.12/site-packages/autorag/nodes/queryexpansion/base.py\" target=\"_blank\"><span style=\"color: #7f7f7f; text-decoration-color: #7f7f7f\">base.py</span></a><span style=\"color: #7f7f7f; text-decoration-color: #7f7f7f\">:</span><a href=\"file:///home/jeongho/git/SKN05-FINAL-1TEAM/jeongho/RAGprojects_env/lib/python3.12/site-packages/autorag/nodes/queryexpansion/base.py#31\" target=\"_blank\"><span style=\"color: #7f7f7f; text-decoration-color: #7f7f7f\">31</span></a>\n",
       "</pre>\n"
      ],
      "text/plain": [
       "\u001b[2;36m[02/05/25 18:52:20]\u001b[0m\u001b[2;36m \u001b[0m\u001b[34mINFO    \u001b[0m \u001b[1m[\u001b[0mbase.py:\u001b[1;36m31\u001b[0m\u001b[1m]\u001b[0m >> Running query expansion node - QueryDecompose module\u001b[33m...\u001b[0m     \u001b]8;id=167369;file:///home/jeongho/git/SKN05-FINAL-1TEAM/jeongho/RAGprojects_env/lib/python3.12/site-packages/autorag/nodes/queryexpansion/base.py\u001b\\\u001b[2mbase.py\u001b[0m\u001b]8;;\u001b\\\u001b[2m:\u001b[0m\u001b]8;id=46894;file:///home/jeongho/git/SKN05-FINAL-1TEAM/jeongho/RAGprojects_env/lib/python3.12/site-packages/autorag/nodes/queryexpansion/base.py#31\u001b\\\u001b[2m31\u001b[0m\u001b]8;;\u001b\\\n"
      ]
     },
     "metadata": {},
     "output_type": "display_data"
    },
    {
     "data": {
      "text/html": [
       "<pre style=\"white-space:pre;overflow-x:auto;line-height:normal;font-family:Menlo,'DejaVu Sans Mono',consolas,'Courier New',monospace\"><span style=\"color: #7fbfbf; text-decoration-color: #7fbfbf\">                    </span><span style=\"color: #000080; text-decoration-color: #000080\">INFO    </span> <span style=\"font-weight: bold\">[</span>base.py:<span style=\"color: #008080; text-decoration-color: #008080; font-weight: bold\">26</span><span style=\"font-weight: bold\">]</span> &gt;&gt; Running generator node - LlamaIndexLLM module<span style=\"color: #808000; text-decoration-color: #808000\">...</span>            <a href=\"file:///home/jeongho/git/SKN05-FINAL-1TEAM/jeongho/RAGprojects_env/lib/python3.12/site-packages/autorag/nodes/generator/base.py\" target=\"_blank\"><span style=\"color: #7f7f7f; text-decoration-color: #7f7f7f\">base.py</span></a><span style=\"color: #7f7f7f; text-decoration-color: #7f7f7f\">:</span><a href=\"file:///home/jeongho/git/SKN05-FINAL-1TEAM/jeongho/RAGprojects_env/lib/python3.12/site-packages/autorag/nodes/generator/base.py#26\" target=\"_blank\"><span style=\"color: #7f7f7f; text-decoration-color: #7f7f7f\">26</span></a>\n",
       "</pre>\n"
      ],
      "text/plain": [
       "\u001b[2;36m                   \u001b[0m\u001b[2;36m \u001b[0m\u001b[34mINFO    \u001b[0m \u001b[1m[\u001b[0mbase.py:\u001b[1;36m26\u001b[0m\u001b[1m]\u001b[0m >> Running generator node - LlamaIndexLLM module\u001b[33m...\u001b[0m            \u001b]8;id=133836;file:///home/jeongho/git/SKN05-FINAL-1TEAM/jeongho/RAGprojects_env/lib/python3.12/site-packages/autorag/nodes/generator/base.py\u001b\\\u001b[2mbase.py\u001b[0m\u001b]8;;\u001b\\\u001b[2m:\u001b[0m\u001b]8;id=570470;file:///home/jeongho/git/SKN05-FINAL-1TEAM/jeongho/RAGprojects_env/lib/python3.12/site-packages/autorag/nodes/generator/base.py#26\u001b\\\u001b[2m26\u001b[0m\u001b]8;;\u001b\\\n"
      ]
     },
     "metadata": {},
     "output_type": "display_data"
    },
    {
     "data": {
      "text/html": [
       "<pre style=\"white-space:pre;overflow-x:auto;line-height:normal;font-family:Menlo,'DejaVu Sans Mono',consolas,'Courier New',monospace\"><span style=\"color: #7fbfbf; text-decoration-color: #7fbfbf\">[02/05/25 18:52:21] </span><span style=\"color: #000080; text-decoration-color: #000080\">INFO    </span> <span style=\"font-weight: bold\">[</span>_client.py:<span style=\"color: #008080; text-decoration-color: #008080; font-weight: bold\">1773</span><span style=\"font-weight: bold\">]</span> &gt;&gt; HTTP Request: <span style=\"color: #808000; text-decoration-color: #808000; font-weight: bold\">POST</span>                                <a href=\"file:///home/jeongho/git/SKN05-FINAL-1TEAM/jeongho/RAGprojects_env/lib/python3.12/site-packages/httpx/_client.py\" target=\"_blank\"><span style=\"color: #7f7f7f; text-decoration-color: #7f7f7f\">_client.py</span></a><span style=\"color: #7f7f7f; text-decoration-color: #7f7f7f\">:</span><a href=\"file:///home/jeongho/git/SKN05-FINAL-1TEAM/jeongho/RAGprojects_env/lib/python3.12/site-packages/httpx/_client.py#1773\" target=\"_blank\"><span style=\"color: #7f7f7f; text-decoration-color: #7f7f7f\">1773</span></a>\n",
       "<span style=\"color: #7fbfbf; text-decoration-color: #7fbfbf\">                    </span>         <span style=\"color: #0000ff; text-decoration-color: #0000ff; text-decoration: underline\">https://api.openai.com/v1/chat/completions</span> <span style=\"color: #008000; text-decoration-color: #008000\">\"HTTP/1.1 200 OK\"</span>           <span style=\"color: #7f7f7f; text-decoration-color: #7f7f7f\">               </span>\n",
       "</pre>\n"
      ],
      "text/plain": [
       "\u001b[2;36m[02/05/25 18:52:21]\u001b[0m\u001b[2;36m \u001b[0m\u001b[34mINFO    \u001b[0m \u001b[1m[\u001b[0m_client.py:\u001b[1;36m1773\u001b[0m\u001b[1m]\u001b[0m >> HTTP Request: \u001b[1;33mPOST\u001b[0m                                \u001b]8;id=58424;file:///home/jeongho/git/SKN05-FINAL-1TEAM/jeongho/RAGprojects_env/lib/python3.12/site-packages/httpx/_client.py\u001b\\\u001b[2m_client.py\u001b[0m\u001b]8;;\u001b\\\u001b[2m:\u001b[0m\u001b]8;id=420440;file:///home/jeongho/git/SKN05-FINAL-1TEAM/jeongho/RAGprojects_env/lib/python3.12/site-packages/httpx/_client.py#1773\u001b\\\u001b[2m1773\u001b[0m\u001b]8;;\u001b\\\n",
       "\u001b[2;36m                    \u001b[0m         \u001b[4;94mhttps://api.openai.com/v1/chat/completions\u001b[0m \u001b[32m\"HTTP/1.1 200 OK\"\u001b[0m           \u001b[2m               \u001b[0m\n"
      ]
     },
     "metadata": {},
     "output_type": "display_data"
    },
    {
     "name": "stderr",
     "output_type": "stream",
     "text": [
      "/home/jeongho/git/SKN05-FINAL-1TEAM/jeongho/RAGprojects_env/lib/python3.12/site-packages/transformers/tokenization_utils_base.py:1601: FutureWarning: `clean_up_tokenization_spaces` was not set. It will be set to `True` by default. This behavior will be depracted in transformers v4.45, and will be then set to `False` by default. For more details check this issue: https://github.com/huggingface/transformers/issues/31884\n",
      "  warnings.warn(\n"
     ]
    },
    {
     "data": {
      "text/html": [
       "<pre style=\"white-space:pre;overflow-x:auto;line-height:normal;font-family:Menlo,'DejaVu Sans Mono',consolas,'Courier New',monospace\"><span style=\"color: #7fbfbf; text-decoration-color: #7fbfbf\">                    </span><span style=\"color: #000080; text-decoration-color: #000080\">INFO    </span> <span style=\"font-weight: bold\">[</span>base.py:<span style=\"color: #008080; text-decoration-color: #008080; font-weight: bold\">31</span><span style=\"font-weight: bold\">]</span> &gt;&gt; Running query expansion node - MultiQueryExpansion          <a href=\"file:///home/jeongho/git/SKN05-FINAL-1TEAM/jeongho/RAGprojects_env/lib/python3.12/site-packages/autorag/nodes/queryexpansion/base.py\" target=\"_blank\"><span style=\"color: #7f7f7f; text-decoration-color: #7f7f7f\">base.py</span></a><span style=\"color: #7f7f7f; text-decoration-color: #7f7f7f\">:</span><a href=\"file:///home/jeongho/git/SKN05-FINAL-1TEAM/jeongho/RAGprojects_env/lib/python3.12/site-packages/autorag/nodes/queryexpansion/base.py#31\" target=\"_blank\"><span style=\"color: #7f7f7f; text-decoration-color: #7f7f7f\">31</span></a>\n",
       "<span style=\"color: #7fbfbf; text-decoration-color: #7fbfbf\">                    </span>         module<span style=\"color: #808000; text-decoration-color: #808000\">...</span>                                                                   <span style=\"color: #7f7f7f; text-decoration-color: #7f7f7f\">          </span>\n",
       "</pre>\n"
      ],
      "text/plain": [
       "\u001b[2;36m                   \u001b[0m\u001b[2;36m \u001b[0m\u001b[34mINFO    \u001b[0m \u001b[1m[\u001b[0mbase.py:\u001b[1;36m31\u001b[0m\u001b[1m]\u001b[0m >> Running query expansion node - MultiQueryExpansion          \u001b]8;id=678047;file:///home/jeongho/git/SKN05-FINAL-1TEAM/jeongho/RAGprojects_env/lib/python3.12/site-packages/autorag/nodes/queryexpansion/base.py\u001b\\\u001b[2mbase.py\u001b[0m\u001b]8;;\u001b\\\u001b[2m:\u001b[0m\u001b]8;id=21087;file:///home/jeongho/git/SKN05-FINAL-1TEAM/jeongho/RAGprojects_env/lib/python3.12/site-packages/autorag/nodes/queryexpansion/base.py#31\u001b\\\u001b[2m31\u001b[0m\u001b]8;;\u001b\\\n",
       "\u001b[2;36m                    \u001b[0m         module\u001b[33m...\u001b[0m                                                                   \u001b[2m          \u001b[0m\n"
      ]
     },
     "metadata": {},
     "output_type": "display_data"
    },
    {
     "data": {
      "text/html": [
       "<pre style=\"white-space:pre;overflow-x:auto;line-height:normal;font-family:Menlo,'DejaVu Sans Mono',consolas,'Courier New',monospace\"><span style=\"color: #7fbfbf; text-decoration-color: #7fbfbf\">                    </span><span style=\"color: #000080; text-decoration-color: #000080\">INFO    </span> <span style=\"font-weight: bold\">[</span>base.py:<span style=\"color: #008080; text-decoration-color: #008080; font-weight: bold\">26</span><span style=\"font-weight: bold\">]</span> &gt;&gt; Running generator node - LlamaIndexLLM module<span style=\"color: #808000; text-decoration-color: #808000\">...</span>            <a href=\"file:///home/jeongho/git/SKN05-FINAL-1TEAM/jeongho/RAGprojects_env/lib/python3.12/site-packages/autorag/nodes/generator/base.py\" target=\"_blank\"><span style=\"color: #7f7f7f; text-decoration-color: #7f7f7f\">base.py</span></a><span style=\"color: #7f7f7f; text-decoration-color: #7f7f7f\">:</span><a href=\"file:///home/jeongho/git/SKN05-FINAL-1TEAM/jeongho/RAGprojects_env/lib/python3.12/site-packages/autorag/nodes/generator/base.py#26\" target=\"_blank\"><span style=\"color: #7f7f7f; text-decoration-color: #7f7f7f\">26</span></a>\n",
       "</pre>\n"
      ],
      "text/plain": [
       "\u001b[2;36m                   \u001b[0m\u001b[2;36m \u001b[0m\u001b[34mINFO    \u001b[0m \u001b[1m[\u001b[0mbase.py:\u001b[1;36m26\u001b[0m\u001b[1m]\u001b[0m >> Running generator node - LlamaIndexLLM module\u001b[33m...\u001b[0m            \u001b]8;id=341864;file:///home/jeongho/git/SKN05-FINAL-1TEAM/jeongho/RAGprojects_env/lib/python3.12/site-packages/autorag/nodes/generator/base.py\u001b\\\u001b[2mbase.py\u001b[0m\u001b]8;;\u001b\\\u001b[2m:\u001b[0m\u001b]8;id=511636;file:///home/jeongho/git/SKN05-FINAL-1TEAM/jeongho/RAGprojects_env/lib/python3.12/site-packages/autorag/nodes/generator/base.py#26\u001b\\\u001b[2m26\u001b[0m\u001b]8;;\u001b\\\n"
      ]
     },
     "metadata": {},
     "output_type": "display_data"
    },
    {
     "data": {
      "text/html": [
       "<pre style=\"white-space:pre;overflow-x:auto;line-height:normal;font-family:Menlo,'DejaVu Sans Mono',consolas,'Courier New',monospace\"><span style=\"color: #7fbfbf; text-decoration-color: #7fbfbf\">[02/05/25 18:52:24] </span><span style=\"color: #000080; text-decoration-color: #000080\">INFO    </span> <span style=\"font-weight: bold\">[</span>_client.py:<span style=\"color: #008080; text-decoration-color: #008080; font-weight: bold\">1773</span><span style=\"font-weight: bold\">]</span> &gt;&gt; HTTP Request: <span style=\"color: #808000; text-decoration-color: #808000; font-weight: bold\">POST</span>                                <a href=\"file:///home/jeongho/git/SKN05-FINAL-1TEAM/jeongho/RAGprojects_env/lib/python3.12/site-packages/httpx/_client.py\" target=\"_blank\"><span style=\"color: #7f7f7f; text-decoration-color: #7f7f7f\">_client.py</span></a><span style=\"color: #7f7f7f; text-decoration-color: #7f7f7f\">:</span><a href=\"file:///home/jeongho/git/SKN05-FINAL-1TEAM/jeongho/RAGprojects_env/lib/python3.12/site-packages/httpx/_client.py#1773\" target=\"_blank\"><span style=\"color: #7f7f7f; text-decoration-color: #7f7f7f\">1773</span></a>\n",
       "<span style=\"color: #7fbfbf; text-decoration-color: #7fbfbf\">                    </span>         <span style=\"color: #0000ff; text-decoration-color: #0000ff; text-decoration: underline\">https://api.openai.com/v1/chat/completions</span> <span style=\"color: #008000; text-decoration-color: #008000\">\"HTTP/1.1 200 OK\"</span>           <span style=\"color: #7f7f7f; text-decoration-color: #7f7f7f\">               </span>\n",
       "</pre>\n"
      ],
      "text/plain": [
       "\u001b[2;36m[02/05/25 18:52:24]\u001b[0m\u001b[2;36m \u001b[0m\u001b[34mINFO    \u001b[0m \u001b[1m[\u001b[0m_client.py:\u001b[1;36m1773\u001b[0m\u001b[1m]\u001b[0m >> HTTP Request: \u001b[1;33mPOST\u001b[0m                                \u001b]8;id=264461;file:///home/jeongho/git/SKN05-FINAL-1TEAM/jeongho/RAGprojects_env/lib/python3.12/site-packages/httpx/_client.py\u001b\\\u001b[2m_client.py\u001b[0m\u001b]8;;\u001b\\\u001b[2m:\u001b[0m\u001b]8;id=607974;file:///home/jeongho/git/SKN05-FINAL-1TEAM/jeongho/RAGprojects_env/lib/python3.12/site-packages/httpx/_client.py#1773\u001b\\\u001b[2m1773\u001b[0m\u001b]8;;\u001b\\\n",
       "\u001b[2;36m                    \u001b[0m         \u001b[4;94mhttps://api.openai.com/v1/chat/completions\u001b[0m \u001b[32m\"HTTP/1.1 200 OK\"\u001b[0m           \u001b[2m               \u001b[0m\n"
      ]
     },
     "metadata": {},
     "output_type": "display_data"
    },
    {
     "data": {
      "text/html": [
       "<pre style=\"white-space:pre;overflow-x:auto;line-height:normal;font-family:Menlo,'DejaVu Sans Mono',consolas,'Courier New',monospace\"><span style=\"color: #7fbfbf; text-decoration-color: #7fbfbf\">[02/05/25 18:52:25] </span><span style=\"color: #000080; text-decoration-color: #000080\">INFO    </span> <span style=\"font-weight: bold\">[</span>_client.py:<span style=\"color: #008080; text-decoration-color: #008080; font-weight: bold\">1026</span><span style=\"font-weight: bold\">]</span> &gt;&gt; HTTP Request: <span style=\"color: #808000; text-decoration-color: #808000; font-weight: bold\">POST</span>                                <a href=\"file:///home/jeongho/git/SKN05-FINAL-1TEAM/jeongho/RAGprojects_env/lib/python3.12/site-packages/httpx/_client.py\" target=\"_blank\"><span style=\"color: #7f7f7f; text-decoration-color: #7f7f7f\">_client.py</span></a><span style=\"color: #7f7f7f; text-decoration-color: #7f7f7f\">:</span><a href=\"file:///home/jeongho/git/SKN05-FINAL-1TEAM/jeongho/RAGprojects_env/lib/python3.12/site-packages/httpx/_client.py#1026\" target=\"_blank\"><span style=\"color: #7f7f7f; text-decoration-color: #7f7f7f\">1026</span></a>\n",
       "<span style=\"color: #7fbfbf; text-decoration-color: #7fbfbf\">                    </span>         <span style=\"color: #0000ff; text-decoration-color: #0000ff; text-decoration: underline\">https://api.openai.com/v1/embeddings</span> <span style=\"color: #008000; text-decoration-color: #008000\">\"HTTP/1.1 200 OK\"</span>                 <span style=\"color: #7f7f7f; text-decoration-color: #7f7f7f\">               </span>\n",
       "</pre>\n"
      ],
      "text/plain": [
       "\u001b[2;36m[02/05/25 18:52:25]\u001b[0m\u001b[2;36m \u001b[0m\u001b[34mINFO    \u001b[0m \u001b[1m[\u001b[0m_client.py:\u001b[1;36m1026\u001b[0m\u001b[1m]\u001b[0m >> HTTP Request: \u001b[1;33mPOST\u001b[0m                                \u001b]8;id=471584;file:///home/jeongho/git/SKN05-FINAL-1TEAM/jeongho/RAGprojects_env/lib/python3.12/site-packages/httpx/_client.py\u001b\\\u001b[2m_client.py\u001b[0m\u001b]8;;\u001b\\\u001b[2m:\u001b[0m\u001b]8;id=454951;file:///home/jeongho/git/SKN05-FINAL-1TEAM/jeongho/RAGprojects_env/lib/python3.12/site-packages/httpx/_client.py#1026\u001b\\\u001b[2m1026\u001b[0m\u001b]8;;\u001b\\\n",
       "\u001b[2;36m                    \u001b[0m         \u001b[4;94mhttps://api.openai.com/v1/embeddings\u001b[0m \u001b[32m\"HTTP/1.1 200 OK\"\u001b[0m                 \u001b[2m               \u001b[0m\n"
      ]
     },
     "metadata": {},
     "output_type": "display_data"
    },
    {
     "data": {
      "text/html": [
       "<pre style=\"white-space:pre;overflow-x:auto;line-height:normal;font-family:Menlo,'DejaVu Sans Mono',consolas,'Courier New',monospace\"><span style=\"color: #7fbfbf; text-decoration-color: #7fbfbf\">[02/05/25 18:52:26] </span><span style=\"color: #000080; text-decoration-color: #000080\">INFO    </span> <span style=\"font-weight: bold\">[</span>_client.py:<span style=\"color: #008080; text-decoration-color: #008080; font-weight: bold\">1026</span><span style=\"font-weight: bold\">]</span> &gt;&gt; HTTP Request: <span style=\"color: #808000; text-decoration-color: #808000; font-weight: bold\">POST</span>                                <a href=\"file:///home/jeongho/git/SKN05-FINAL-1TEAM/jeongho/RAGprojects_env/lib/python3.12/site-packages/httpx/_client.py\" target=\"_blank\"><span style=\"color: #7f7f7f; text-decoration-color: #7f7f7f\">_client.py</span></a><span style=\"color: #7f7f7f; text-decoration-color: #7f7f7f\">:</span><a href=\"file:///home/jeongho/git/SKN05-FINAL-1TEAM/jeongho/RAGprojects_env/lib/python3.12/site-packages/httpx/_client.py#1026\" target=\"_blank\"><span style=\"color: #7f7f7f; text-decoration-color: #7f7f7f\">1026</span></a>\n",
       "<span style=\"color: #7fbfbf; text-decoration-color: #7fbfbf\">                    </span>         <span style=\"color: #0000ff; text-decoration-color: #0000ff; text-decoration: underline\">https://api.openai.com/v1/embeddings</span> <span style=\"color: #008000; text-decoration-color: #008000\">\"HTTP/1.1 200 OK\"</span>                 <span style=\"color: #7f7f7f; text-decoration-color: #7f7f7f\">               </span>\n",
       "</pre>\n"
      ],
      "text/plain": [
       "\u001b[2;36m[02/05/25 18:52:26]\u001b[0m\u001b[2;36m \u001b[0m\u001b[34mINFO    \u001b[0m \u001b[1m[\u001b[0m_client.py:\u001b[1;36m1026\u001b[0m\u001b[1m]\u001b[0m >> HTTP Request: \u001b[1;33mPOST\u001b[0m                                \u001b]8;id=198951;file:///home/jeongho/git/SKN05-FINAL-1TEAM/jeongho/RAGprojects_env/lib/python3.12/site-packages/httpx/_client.py\u001b\\\u001b[2m_client.py\u001b[0m\u001b]8;;\u001b\\\u001b[2m:\u001b[0m\u001b]8;id=695791;file:///home/jeongho/git/SKN05-FINAL-1TEAM/jeongho/RAGprojects_env/lib/python3.12/site-packages/httpx/_client.py#1026\u001b\\\u001b[2m1026\u001b[0m\u001b]8;;\u001b\\\n",
       "\u001b[2;36m                    \u001b[0m         \u001b[4;94mhttps://api.openai.com/v1/embeddings\u001b[0m \u001b[32m\"HTTP/1.1 200 OK\"\u001b[0m                 \u001b[2m               \u001b[0m\n"
      ]
     },
     "metadata": {},
     "output_type": "display_data"
    },
    {
     "data": {
      "text/html": [
       "<pre style=\"white-space:pre;overflow-x:auto;line-height:normal;font-family:Menlo,'DejaVu Sans Mono',consolas,'Courier New',monospace\"><span style=\"color: #7fbfbf; text-decoration-color: #7fbfbf\">[02/05/25 18:52:28] </span><span style=\"color: #000080; text-decoration-color: #000080\">INFO    </span> <span style=\"font-weight: bold\">[</span>_client.py:<span style=\"color: #008080; text-decoration-color: #008080; font-weight: bold\">1026</span><span style=\"font-weight: bold\">]</span> &gt;&gt; HTTP Request: <span style=\"color: #808000; text-decoration-color: #808000; font-weight: bold\">POST</span>                                <a href=\"file:///home/jeongho/git/SKN05-FINAL-1TEAM/jeongho/RAGprojects_env/lib/python3.12/site-packages/httpx/_client.py\" target=\"_blank\"><span style=\"color: #7f7f7f; text-decoration-color: #7f7f7f\">_client.py</span></a><span style=\"color: #7f7f7f; text-decoration-color: #7f7f7f\">:</span><a href=\"file:///home/jeongho/git/SKN05-FINAL-1TEAM/jeongho/RAGprojects_env/lib/python3.12/site-packages/httpx/_client.py#1026\" target=\"_blank\"><span style=\"color: #7f7f7f; text-decoration-color: #7f7f7f\">1026</span></a>\n",
       "<span style=\"color: #7fbfbf; text-decoration-color: #7fbfbf\">                    </span>         <span style=\"color: #0000ff; text-decoration-color: #0000ff; text-decoration: underline\">https://api.openai.com/v1/embeddings</span> <span style=\"color: #008000; text-decoration-color: #008000\">\"HTTP/1.1 200 OK\"</span>                 <span style=\"color: #7f7f7f; text-decoration-color: #7f7f7f\">               </span>\n",
       "</pre>\n"
      ],
      "text/plain": [
       "\u001b[2;36m[02/05/25 18:52:28]\u001b[0m\u001b[2;36m \u001b[0m\u001b[34mINFO    \u001b[0m \u001b[1m[\u001b[0m_client.py:\u001b[1;36m1026\u001b[0m\u001b[1m]\u001b[0m >> HTTP Request: \u001b[1;33mPOST\u001b[0m                                \u001b]8;id=405326;file:///home/jeongho/git/SKN05-FINAL-1TEAM/jeongho/RAGprojects_env/lib/python3.12/site-packages/httpx/_client.py\u001b\\\u001b[2m_client.py\u001b[0m\u001b]8;;\u001b\\\u001b[2m:\u001b[0m\u001b]8;id=179790;file:///home/jeongho/git/SKN05-FINAL-1TEAM/jeongho/RAGprojects_env/lib/python3.12/site-packages/httpx/_client.py#1026\u001b\\\u001b[2m1026\u001b[0m\u001b]8;;\u001b\\\n",
       "\u001b[2;36m                    \u001b[0m         \u001b[4;94mhttps://api.openai.com/v1/embeddings\u001b[0m \u001b[32m\"HTTP/1.1 200 OK\"\u001b[0m                 \u001b[2m               \u001b[0m\n"
      ]
     },
     "metadata": {},
     "output_type": "display_data"
    },
    {
     "data": {
      "text/html": [
       "<pre style=\"white-space:pre;overflow-x:auto;line-height:normal;font-family:Menlo,'DejaVu Sans Mono',consolas,'Courier New',monospace\"><span style=\"color: #7fbfbf; text-decoration-color: #7fbfbf\">[02/05/25 18:52:29] </span><span style=\"color: #000080; text-decoration-color: #000080\">INFO    </span> <span style=\"font-weight: bold\">[</span>_client.py:<span style=\"color: #008080; text-decoration-color: #008080; font-weight: bold\">1026</span><span style=\"font-weight: bold\">]</span> &gt;&gt; HTTP Request: <span style=\"color: #808000; text-decoration-color: #808000; font-weight: bold\">POST</span>                                <a href=\"file:///home/jeongho/git/SKN05-FINAL-1TEAM/jeongho/RAGprojects_env/lib/python3.12/site-packages/httpx/_client.py\" target=\"_blank\"><span style=\"color: #7f7f7f; text-decoration-color: #7f7f7f\">_client.py</span></a><span style=\"color: #7f7f7f; text-decoration-color: #7f7f7f\">:</span><a href=\"file:///home/jeongho/git/SKN05-FINAL-1TEAM/jeongho/RAGprojects_env/lib/python3.12/site-packages/httpx/_client.py#1026\" target=\"_blank\"><span style=\"color: #7f7f7f; text-decoration-color: #7f7f7f\">1026</span></a>\n",
       "<span style=\"color: #7fbfbf; text-decoration-color: #7fbfbf\">                    </span>         <span style=\"color: #0000ff; text-decoration-color: #0000ff; text-decoration: underline\">https://api.openai.com/v1/embeddings</span> <span style=\"color: #008000; text-decoration-color: #008000\">\"HTTP/1.1 200 OK\"</span>                 <span style=\"color: #7f7f7f; text-decoration-color: #7f7f7f\">               </span>\n",
       "</pre>\n"
      ],
      "text/plain": [
       "\u001b[2;36m[02/05/25 18:52:29]\u001b[0m\u001b[2;36m \u001b[0m\u001b[34mINFO    \u001b[0m \u001b[1m[\u001b[0m_client.py:\u001b[1;36m1026\u001b[0m\u001b[1m]\u001b[0m >> HTTP Request: \u001b[1;33mPOST\u001b[0m                                \u001b]8;id=826709;file:///home/jeongho/git/SKN05-FINAL-1TEAM/jeongho/RAGprojects_env/lib/python3.12/site-packages/httpx/_client.py\u001b\\\u001b[2m_client.py\u001b[0m\u001b]8;;\u001b\\\u001b[2m:\u001b[0m\u001b]8;id=648505;file:///home/jeongho/git/SKN05-FINAL-1TEAM/jeongho/RAGprojects_env/lib/python3.12/site-packages/httpx/_client.py#1026\u001b\\\u001b[2m1026\u001b[0m\u001b]8;;\u001b\\\n",
       "\u001b[2;36m                    \u001b[0m         \u001b[4;94mhttps://api.openai.com/v1/embeddings\u001b[0m \u001b[32m\"HTTP/1.1 200 OK\"\u001b[0m                 \u001b[2m               \u001b[0m\n"
      ]
     },
     "metadata": {},
     "output_type": "display_data"
    },
    {
     "data": {
      "text/html": [
       "<pre style=\"white-space:pre;overflow-x:auto;line-height:normal;font-family:Menlo,'DejaVu Sans Mono',consolas,'Courier New',monospace\"><span style=\"color: #7fbfbf; text-decoration-color: #7fbfbf\">[02/05/25 18:52:30] </span><span style=\"color: #000080; text-decoration-color: #000080\">INFO    </span> <span style=\"font-weight: bold\">[</span>base.py:<span style=\"color: #008080; text-decoration-color: #008080; font-weight: bold\">31</span><span style=\"font-weight: bold\">]</span> &gt;&gt; Running retrieval node - BM25 module<span style=\"color: #808000; text-decoration-color: #808000\">...</span>                     <a href=\"file:///home/jeongho/git/SKN05-FINAL-1TEAM/jeongho/RAGprojects_env/lib/python3.12/site-packages/autorag/nodes/retrieval/base.py\" target=\"_blank\"><span style=\"color: #7f7f7f; text-decoration-color: #7f7f7f\">base.py</span></a><span style=\"color: #7f7f7f; text-decoration-color: #7f7f7f\">:</span><a href=\"file:///home/jeongho/git/SKN05-FINAL-1TEAM/jeongho/RAGprojects_env/lib/python3.12/site-packages/autorag/nodes/retrieval/base.py#31\" target=\"_blank\"><span style=\"color: #7f7f7f; text-decoration-color: #7f7f7f\">31</span></a>\n",
       "</pre>\n"
      ],
      "text/plain": [
       "\u001b[2;36m[02/05/25 18:52:30]\u001b[0m\u001b[2;36m \u001b[0m\u001b[34mINFO    \u001b[0m \u001b[1m[\u001b[0mbase.py:\u001b[1;36m31\u001b[0m\u001b[1m]\u001b[0m >> Running retrieval node - BM25 module\u001b[33m...\u001b[0m                     \u001b]8;id=246399;file:///home/jeongho/git/SKN05-FINAL-1TEAM/jeongho/RAGprojects_env/lib/python3.12/site-packages/autorag/nodes/retrieval/base.py\u001b\\\u001b[2mbase.py\u001b[0m\u001b]8;;\u001b\\\u001b[2m:\u001b[0m\u001b]8;id=276200;file:///home/jeongho/git/SKN05-FINAL-1TEAM/jeongho/RAGprojects_env/lib/python3.12/site-packages/autorag/nodes/retrieval/base.py#31\u001b\\\u001b[2m31\u001b[0m\u001b]8;;\u001b\\\n"
      ]
     },
     "metadata": {},
     "output_type": "display_data"
    },
    {
     "data": {
      "text/html": [
       "<pre style=\"white-space:pre;overflow-x:auto;line-height:normal;font-family:Menlo,'DejaVu Sans Mono',consolas,'Courier New',monospace\"><span style=\"color: #7fbfbf; text-decoration-color: #7fbfbf\">                    </span><span style=\"color: #000080; text-decoration-color: #000080\">INFO    </span> <span style=\"font-weight: bold\">[</span>_client.py:<span style=\"color: #008080; text-decoration-color: #008080; font-weight: bold\">1026</span><span style=\"font-weight: bold\">]</span> &gt;&gt; HTTP Request: <span style=\"color: #808000; text-decoration-color: #808000; font-weight: bold\">POST</span>                                <a href=\"file:///home/jeongho/git/SKN05-FINAL-1TEAM/jeongho/RAGprojects_env/lib/python3.12/site-packages/httpx/_client.py\" target=\"_blank\"><span style=\"color: #7f7f7f; text-decoration-color: #7f7f7f\">_client.py</span></a><span style=\"color: #7f7f7f; text-decoration-color: #7f7f7f\">:</span><a href=\"file:///home/jeongho/git/SKN05-FINAL-1TEAM/jeongho/RAGprojects_env/lib/python3.12/site-packages/httpx/_client.py#1026\" target=\"_blank\"><span style=\"color: #7f7f7f; text-decoration-color: #7f7f7f\">1026</span></a>\n",
       "<span style=\"color: #7fbfbf; text-decoration-color: #7fbfbf\">                    </span>         <span style=\"color: #0000ff; text-decoration-color: #0000ff; text-decoration: underline\">https://api.cohere.com/v2/rerank</span> <span style=\"color: #008000; text-decoration-color: #008000\">\"HTTP/1.1 200 OK\"</span>                     <span style=\"color: #7f7f7f; text-decoration-color: #7f7f7f\">               </span>\n",
       "</pre>\n"
      ],
      "text/plain": [
       "\u001b[2;36m                   \u001b[0m\u001b[2;36m \u001b[0m\u001b[34mINFO    \u001b[0m \u001b[1m[\u001b[0m_client.py:\u001b[1;36m1026\u001b[0m\u001b[1m]\u001b[0m >> HTTP Request: \u001b[1;33mPOST\u001b[0m                                \u001b]8;id=684248;file:///home/jeongho/git/SKN05-FINAL-1TEAM/jeongho/RAGprojects_env/lib/python3.12/site-packages/httpx/_client.py\u001b\\\u001b[2m_client.py\u001b[0m\u001b]8;;\u001b\\\u001b[2m:\u001b[0m\u001b]8;id=170256;file:///home/jeongho/git/SKN05-FINAL-1TEAM/jeongho/RAGprojects_env/lib/python3.12/site-packages/httpx/_client.py#1026\u001b\\\u001b[2m1026\u001b[0m\u001b]8;;\u001b\\\n",
       "\u001b[2;36m                    \u001b[0m         \u001b[4;94mhttps://api.cohere.com/v2/rerank\u001b[0m \u001b[32m\"HTTP/1.1 200 OK\"\u001b[0m                     \u001b[2m               \u001b[0m\n"
      ]
     },
     "metadata": {},
     "output_type": "display_data"
    },
    {
     "data": {
      "text/html": [
       "<pre style=\"white-space:pre;overflow-x:auto;line-height:normal;font-family:Menlo,'DejaVu Sans Mono',consolas,'Courier New',monospace\"><span style=\"color: #7fbfbf; text-decoration-color: #7fbfbf\">                    </span><span style=\"color: #000080; text-decoration-color: #000080\">INFO    </span> <span style=\"font-weight: bold\">[</span>_client.py:<span style=\"color: #008080; text-decoration-color: #008080; font-weight: bold\">1026</span><span style=\"font-weight: bold\">]</span> &gt;&gt; HTTP Request: <span style=\"color: #808000; text-decoration-color: #808000; font-weight: bold\">POST</span>                                <a href=\"file:///home/jeongho/git/SKN05-FINAL-1TEAM/jeongho/RAGprojects_env/lib/python3.12/site-packages/httpx/_client.py\" target=\"_blank\"><span style=\"color: #7f7f7f; text-decoration-color: #7f7f7f\">_client.py</span></a><span style=\"color: #7f7f7f; text-decoration-color: #7f7f7f\">:</span><a href=\"file:///home/jeongho/git/SKN05-FINAL-1TEAM/jeongho/RAGprojects_env/lib/python3.12/site-packages/httpx/_client.py#1026\" target=\"_blank\"><span style=\"color: #7f7f7f; text-decoration-color: #7f7f7f\">1026</span></a>\n",
       "<span style=\"color: #7fbfbf; text-decoration-color: #7fbfbf\">                    </span>         <span style=\"color: #0000ff; text-decoration-color: #0000ff; text-decoration: underline\">https://api.cohere.com/v2/rerank</span> <span style=\"color: #008000; text-decoration-color: #008000\">\"HTTP/1.1 200 OK\"</span>                     <span style=\"color: #7f7f7f; text-decoration-color: #7f7f7f\">               </span>\n",
       "</pre>\n"
      ],
      "text/plain": [
       "\u001b[2;36m                   \u001b[0m\u001b[2;36m \u001b[0m\u001b[34mINFO    \u001b[0m \u001b[1m[\u001b[0m_client.py:\u001b[1;36m1026\u001b[0m\u001b[1m]\u001b[0m >> HTTP Request: \u001b[1;33mPOST\u001b[0m                                \u001b]8;id=399123;file:///home/jeongho/git/SKN05-FINAL-1TEAM/jeongho/RAGprojects_env/lib/python3.12/site-packages/httpx/_client.py\u001b\\\u001b[2m_client.py\u001b[0m\u001b]8;;\u001b\\\u001b[2m:\u001b[0m\u001b]8;id=434849;file:///home/jeongho/git/SKN05-FINAL-1TEAM/jeongho/RAGprojects_env/lib/python3.12/site-packages/httpx/_client.py#1026\u001b\\\u001b[2m1026\u001b[0m\u001b]8;;\u001b\\\n",
       "\u001b[2;36m                    \u001b[0m         \u001b[4;94mhttps://api.cohere.com/v2/rerank\u001b[0m \u001b[32m\"HTTP/1.1 200 OK\"\u001b[0m                     \u001b[2m               \u001b[0m\n"
      ]
     },
     "metadata": {},
     "output_type": "display_data"
    },
    {
     "data": {
      "text/html": [
       "<pre style=\"white-space:pre;overflow-x:auto;line-height:normal;font-family:Menlo,'DejaVu Sans Mono',consolas,'Courier New',monospace\"><span style=\"color: #7fbfbf; text-decoration-color: #7fbfbf\">                    </span><span style=\"color: #000080; text-decoration-color: #000080\">INFO    </span> <span style=\"font-weight: bold\">[</span>_client.py:<span style=\"color: #008080; text-decoration-color: #008080; font-weight: bold\">1026</span><span style=\"font-weight: bold\">]</span> &gt;&gt; HTTP Request: <span style=\"color: #808000; text-decoration-color: #808000; font-weight: bold\">POST</span>                                <a href=\"file:///home/jeongho/git/SKN05-FINAL-1TEAM/jeongho/RAGprojects_env/lib/python3.12/site-packages/httpx/_client.py\" target=\"_blank\"><span style=\"color: #7f7f7f; text-decoration-color: #7f7f7f\">_client.py</span></a><span style=\"color: #7f7f7f; text-decoration-color: #7f7f7f\">:</span><a href=\"file:///home/jeongho/git/SKN05-FINAL-1TEAM/jeongho/RAGprojects_env/lib/python3.12/site-packages/httpx/_client.py#1026\" target=\"_blank\"><span style=\"color: #7f7f7f; text-decoration-color: #7f7f7f\">1026</span></a>\n",
       "<span style=\"color: #7fbfbf; text-decoration-color: #7fbfbf\">                    </span>         <span style=\"color: #0000ff; text-decoration-color: #0000ff; text-decoration: underline\">https://api.cohere.com/v2/rerank</span> <span style=\"color: #008000; text-decoration-color: #008000\">\"HTTP/1.1 200 OK\"</span>                     <span style=\"color: #7f7f7f; text-decoration-color: #7f7f7f\">               </span>\n",
       "</pre>\n"
      ],
      "text/plain": [
       "\u001b[2;36m                   \u001b[0m\u001b[2;36m \u001b[0m\u001b[34mINFO    \u001b[0m \u001b[1m[\u001b[0m_client.py:\u001b[1;36m1026\u001b[0m\u001b[1m]\u001b[0m >> HTTP Request: \u001b[1;33mPOST\u001b[0m                                \u001b]8;id=737722;file:///home/jeongho/git/SKN05-FINAL-1TEAM/jeongho/RAGprojects_env/lib/python3.12/site-packages/httpx/_client.py\u001b\\\u001b[2m_client.py\u001b[0m\u001b]8;;\u001b\\\u001b[2m:\u001b[0m\u001b]8;id=996720;file:///home/jeongho/git/SKN05-FINAL-1TEAM/jeongho/RAGprojects_env/lib/python3.12/site-packages/httpx/_client.py#1026\u001b\\\u001b[2m1026\u001b[0m\u001b]8;;\u001b\\\n",
       "\u001b[2;36m                    \u001b[0m         \u001b[4;94mhttps://api.cohere.com/v2/rerank\u001b[0m \u001b[32m\"HTTP/1.1 200 OK\"\u001b[0m                     \u001b[2m               \u001b[0m\n"
      ]
     },
     "metadata": {},
     "output_type": "display_data"
    },
    {
     "data": {
      "text/html": [
       "<pre style=\"white-space:pre;overflow-x:auto;line-height:normal;font-family:Menlo,'DejaVu Sans Mono',consolas,'Courier New',monospace\"><span style=\"color: #7fbfbf; text-decoration-color: #7fbfbf\">[02/05/25 18:52:31] </span><span style=\"color: #000080; text-decoration-color: #000080\">INFO    </span> <span style=\"font-weight: bold\">[</span>_client.py:<span style=\"color: #008080; text-decoration-color: #008080; font-weight: bold\">1026</span><span style=\"font-weight: bold\">]</span> &gt;&gt; HTTP Request: <span style=\"color: #808000; text-decoration-color: #808000; font-weight: bold\">POST</span>                                <a href=\"file:///home/jeongho/git/SKN05-FINAL-1TEAM/jeongho/RAGprojects_env/lib/python3.12/site-packages/httpx/_client.py\" target=\"_blank\"><span style=\"color: #7f7f7f; text-decoration-color: #7f7f7f\">_client.py</span></a><span style=\"color: #7f7f7f; text-decoration-color: #7f7f7f\">:</span><a href=\"file:///home/jeongho/git/SKN05-FINAL-1TEAM/jeongho/RAGprojects_env/lib/python3.12/site-packages/httpx/_client.py#1026\" target=\"_blank\"><span style=\"color: #7f7f7f; text-decoration-color: #7f7f7f\">1026</span></a>\n",
       "<span style=\"color: #7fbfbf; text-decoration-color: #7fbfbf\">                    </span>         <span style=\"color: #0000ff; text-decoration-color: #0000ff; text-decoration: underline\">https://api.cohere.com/v2/rerank</span> <span style=\"color: #008000; text-decoration-color: #008000\">\"HTTP/1.1 200 OK\"</span>                     <span style=\"color: #7f7f7f; text-decoration-color: #7f7f7f\">               </span>\n",
       "</pre>\n"
      ],
      "text/plain": [
       "\u001b[2;36m[02/05/25 18:52:31]\u001b[0m\u001b[2;36m \u001b[0m\u001b[34mINFO    \u001b[0m \u001b[1m[\u001b[0m_client.py:\u001b[1;36m1026\u001b[0m\u001b[1m]\u001b[0m >> HTTP Request: \u001b[1;33mPOST\u001b[0m                                \u001b]8;id=686162;file:///home/jeongho/git/SKN05-FINAL-1TEAM/jeongho/RAGprojects_env/lib/python3.12/site-packages/httpx/_client.py\u001b\\\u001b[2m_client.py\u001b[0m\u001b]8;;\u001b\\\u001b[2m:\u001b[0m\u001b]8;id=21320;file:///home/jeongho/git/SKN05-FINAL-1TEAM/jeongho/RAGprojects_env/lib/python3.12/site-packages/httpx/_client.py#1026\u001b\\\u001b[2m1026\u001b[0m\u001b]8;;\u001b\\\n",
       "\u001b[2;36m                    \u001b[0m         \u001b[4;94mhttps://api.cohere.com/v2/rerank\u001b[0m \u001b[32m\"HTTP/1.1 200 OK\"\u001b[0m                     \u001b[2m               \u001b[0m\n"
      ]
     },
     "metadata": {},
     "output_type": "display_data"
    },
    {
     "data": {
      "text/html": [
       "<pre style=\"white-space:pre;overflow-x:auto;line-height:normal;font-family:Menlo,'DejaVu Sans Mono',consolas,'Courier New',monospace\"><span style=\"color: #7fbfbf; text-decoration-color: #7fbfbf\">[02/05/25 18:52:35] </span><span style=\"color: #000080; text-decoration-color: #000080\">INFO    </span> <span style=\"font-weight: bold\">[</span>_client.py:<span style=\"color: #008080; text-decoration-color: #008080; font-weight: bold\">1773</span><span style=\"font-weight: bold\">]</span> &gt;&gt; HTTP Request: <span style=\"color: #808000; text-decoration-color: #808000; font-weight: bold\">POST</span>                                <a href=\"file:///home/jeongho/git/SKN05-FINAL-1TEAM/jeongho/RAGprojects_env/lib/python3.12/site-packages/httpx/_client.py\" target=\"_blank\"><span style=\"color: #7f7f7f; text-decoration-color: #7f7f7f\">_client.py</span></a><span style=\"color: #7f7f7f; text-decoration-color: #7f7f7f\">:</span><a href=\"file:///home/jeongho/git/SKN05-FINAL-1TEAM/jeongho/RAGprojects_env/lib/python3.12/site-packages/httpx/_client.py#1773\" target=\"_blank\"><span style=\"color: #7f7f7f; text-decoration-color: #7f7f7f\">1773</span></a>\n",
       "<span style=\"color: #7fbfbf; text-decoration-color: #7fbfbf\">                    </span>         <span style=\"color: #0000ff; text-decoration-color: #0000ff; text-decoration: underline\">https://api.openai.com/v1/chat/completions</span> <span style=\"color: #008000; text-decoration-color: #008000\">\"HTTP/1.1 200 OK\"</span>           <span style=\"color: #7f7f7f; text-decoration-color: #7f7f7f\">               </span>\n",
       "</pre>\n"
      ],
      "text/plain": [
       "\u001b[2;36m[02/05/25 18:52:35]\u001b[0m\u001b[2;36m \u001b[0m\u001b[34mINFO    \u001b[0m \u001b[1m[\u001b[0m_client.py:\u001b[1;36m1773\u001b[0m\u001b[1m]\u001b[0m >> HTTP Request: \u001b[1;33mPOST\u001b[0m                                \u001b]8;id=24113;file:///home/jeongho/git/SKN05-FINAL-1TEAM/jeongho/RAGprojects_env/lib/python3.12/site-packages/httpx/_client.py\u001b\\\u001b[2m_client.py\u001b[0m\u001b]8;;\u001b\\\u001b[2m:\u001b[0m\u001b]8;id=102857;file:///home/jeongho/git/SKN05-FINAL-1TEAM/jeongho/RAGprojects_env/lib/python3.12/site-packages/httpx/_client.py#1773\u001b\\\u001b[2m1773\u001b[0m\u001b]8;;\u001b\\\n",
       "\u001b[2;36m                    \u001b[0m         \u001b[4;94mhttps://api.openai.com/v1/chat/completions\u001b[0m \u001b[32m\"HTTP/1.1 200 OK\"\u001b[0m           \u001b[2m               \u001b[0m\n"
      ]
     },
     "metadata": {},
     "output_type": "display_data"
    },
    {
     "data": {
      "text/html": [
       "<pre style=\"white-space:pre;overflow-x:auto;line-height:normal;font-family:Menlo,'DejaVu Sans Mono',consolas,'Courier New',monospace\"><span style=\"color: #7fbfbf; text-decoration-color: #7fbfbf\">[02/05/25 18:52:36] </span><span style=\"color: #000080; text-decoration-color: #000080\">INFO    </span> <span style=\"font-weight: bold\">[</span>_client.py:<span style=\"color: #008080; text-decoration-color: #008080; font-weight: bold\">1773</span><span style=\"font-weight: bold\">]</span> &gt;&gt; HTTP Request: <span style=\"color: #808000; text-decoration-color: #808000; font-weight: bold\">POST</span>                                <a href=\"file:///home/jeongho/git/SKN05-FINAL-1TEAM/jeongho/RAGprojects_env/lib/python3.12/site-packages/httpx/_client.py\" target=\"_blank\"><span style=\"color: #7f7f7f; text-decoration-color: #7f7f7f\">_client.py</span></a><span style=\"color: #7f7f7f; text-decoration-color: #7f7f7f\">:</span><a href=\"file:///home/jeongho/git/SKN05-FINAL-1TEAM/jeongho/RAGprojects_env/lib/python3.12/site-packages/httpx/_client.py#1773\" target=\"_blank\"><span style=\"color: #7f7f7f; text-decoration-color: #7f7f7f\">1773</span></a>\n",
       "<span style=\"color: #7fbfbf; text-decoration-color: #7fbfbf\">                    </span>         <span style=\"color: #0000ff; text-decoration-color: #0000ff; text-decoration: underline\">https://api.openai.com/v1/chat/completions</span> <span style=\"color: #008000; text-decoration-color: #008000\">\"HTTP/1.1 200 OK\"</span>           <span style=\"color: #7f7f7f; text-decoration-color: #7f7f7f\">               </span>\n",
       "</pre>\n"
      ],
      "text/plain": [
       "\u001b[2;36m[02/05/25 18:52:36]\u001b[0m\u001b[2;36m \u001b[0m\u001b[34mINFO    \u001b[0m \u001b[1m[\u001b[0m_client.py:\u001b[1;36m1773\u001b[0m\u001b[1m]\u001b[0m >> HTTP Request: \u001b[1;33mPOST\u001b[0m                                \u001b]8;id=636574;file:///home/jeongho/git/SKN05-FINAL-1TEAM/jeongho/RAGprojects_env/lib/python3.12/site-packages/httpx/_client.py\u001b\\\u001b[2m_client.py\u001b[0m\u001b]8;;\u001b\\\u001b[2m:\u001b[0m\u001b]8;id=422015;file:///home/jeongho/git/SKN05-FINAL-1TEAM/jeongho/RAGprojects_env/lib/python3.12/site-packages/httpx/_client.py#1773\u001b\\\u001b[2m1773\u001b[0m\u001b]8;;\u001b\\\n",
       "\u001b[2;36m                    \u001b[0m         \u001b[4;94mhttps://api.openai.com/v1/chat/completions\u001b[0m \u001b[32m\"HTTP/1.1 200 OK\"\u001b[0m           \u001b[2m               \u001b[0m\n"
      ]
     },
     "metadata": {},
     "output_type": "display_data"
    },
    {
     "data": {
      "text/html": [
       "<pre style=\"white-space:pre;overflow-x:auto;line-height:normal;font-family:Menlo,'DejaVu Sans Mono',consolas,'Courier New',monospace\"><span style=\"color: #7fbfbf; text-decoration-color: #7fbfbf\">                    </span><span style=\"color: #000080; text-decoration-color: #000080\">INFO    </span> <span style=\"font-weight: bold\">[</span>_client.py:<span style=\"color: #008080; text-decoration-color: #008080; font-weight: bold\">1773</span><span style=\"font-weight: bold\">]</span> &gt;&gt; HTTP Request: <span style=\"color: #808000; text-decoration-color: #808000; font-weight: bold\">POST</span>                                <a href=\"file:///home/jeongho/git/SKN05-FINAL-1TEAM/jeongho/RAGprojects_env/lib/python3.12/site-packages/httpx/_client.py\" target=\"_blank\"><span style=\"color: #7f7f7f; text-decoration-color: #7f7f7f\">_client.py</span></a><span style=\"color: #7f7f7f; text-decoration-color: #7f7f7f\">:</span><a href=\"file:///home/jeongho/git/SKN05-FINAL-1TEAM/jeongho/RAGprojects_env/lib/python3.12/site-packages/httpx/_client.py#1773\" target=\"_blank\"><span style=\"color: #7f7f7f; text-decoration-color: #7f7f7f\">1773</span></a>\n",
       "<span style=\"color: #7fbfbf; text-decoration-color: #7fbfbf\">                    </span>         <span style=\"color: #0000ff; text-decoration-color: #0000ff; text-decoration: underline\">https://api.openai.com/v1/chat/completions</span> <span style=\"color: #008000; text-decoration-color: #008000\">\"HTTP/1.1 200 OK\"</span>           <span style=\"color: #7f7f7f; text-decoration-color: #7f7f7f\">               </span>\n",
       "</pre>\n"
      ],
      "text/plain": [
       "\u001b[2;36m                   \u001b[0m\u001b[2;36m \u001b[0m\u001b[34mINFO    \u001b[0m \u001b[1m[\u001b[0m_client.py:\u001b[1;36m1773\u001b[0m\u001b[1m]\u001b[0m >> HTTP Request: \u001b[1;33mPOST\u001b[0m                                \u001b]8;id=479888;file:///home/jeongho/git/SKN05-FINAL-1TEAM/jeongho/RAGprojects_env/lib/python3.12/site-packages/httpx/_client.py\u001b\\\u001b[2m_client.py\u001b[0m\u001b]8;;\u001b\\\u001b[2m:\u001b[0m\u001b]8;id=687939;file:///home/jeongho/git/SKN05-FINAL-1TEAM/jeongho/RAGprojects_env/lib/python3.12/site-packages/httpx/_client.py#1773\u001b\\\u001b[2m1773\u001b[0m\u001b]8;;\u001b\\\n",
       "\u001b[2;36m                    \u001b[0m         \u001b[4;94mhttps://api.openai.com/v1/chat/completions\u001b[0m \u001b[32m\"HTTP/1.1 200 OK\"\u001b[0m           \u001b[2m               \u001b[0m\n"
      ]
     },
     "metadata": {},
     "output_type": "display_data"
    },
    {
     "data": {
      "text/html": [
       "<pre style=\"white-space:pre;overflow-x:auto;line-height:normal;font-family:Menlo,'DejaVu Sans Mono',consolas,'Courier New',monospace\"><span style=\"color: #7fbfbf; text-decoration-color: #7fbfbf\">[02/05/25 18:52:39] </span><span style=\"color: #000080; text-decoration-color: #000080\">INFO    </span> <span style=\"font-weight: bold\">[</span>_client.py:<span style=\"color: #008080; text-decoration-color: #008080; font-weight: bold\">1773</span><span style=\"font-weight: bold\">]</span> &gt;&gt; HTTP Request: <span style=\"color: #808000; text-decoration-color: #808000; font-weight: bold\">POST</span>                                <a href=\"file:///home/jeongho/git/SKN05-FINAL-1TEAM/jeongho/RAGprojects_env/lib/python3.12/site-packages/httpx/_client.py\" target=\"_blank\"><span style=\"color: #7f7f7f; text-decoration-color: #7f7f7f\">_client.py</span></a><span style=\"color: #7f7f7f; text-decoration-color: #7f7f7f\">:</span><a href=\"file:///home/jeongho/git/SKN05-FINAL-1TEAM/jeongho/RAGprojects_env/lib/python3.12/site-packages/httpx/_client.py#1773\" target=\"_blank\"><span style=\"color: #7f7f7f; text-decoration-color: #7f7f7f\">1773</span></a>\n",
       "<span style=\"color: #7fbfbf; text-decoration-color: #7fbfbf\">                    </span>         <span style=\"color: #0000ff; text-decoration-color: #0000ff; text-decoration: underline\">https://api.openai.com/v1/chat/completions</span> <span style=\"color: #008000; text-decoration-color: #008000\">\"HTTP/1.1 200 OK\"</span>           <span style=\"color: #7f7f7f; text-decoration-color: #7f7f7f\">               </span>\n",
       "</pre>\n"
      ],
      "text/plain": [
       "\u001b[2;36m[02/05/25 18:52:39]\u001b[0m\u001b[2;36m \u001b[0m\u001b[34mINFO    \u001b[0m \u001b[1m[\u001b[0m_client.py:\u001b[1;36m1773\u001b[0m\u001b[1m]\u001b[0m >> HTTP Request: \u001b[1;33mPOST\u001b[0m                                \u001b]8;id=546970;file:///home/jeongho/git/SKN05-FINAL-1TEAM/jeongho/RAGprojects_env/lib/python3.12/site-packages/httpx/_client.py\u001b\\\u001b[2m_client.py\u001b[0m\u001b]8;;\u001b\\\u001b[2m:\u001b[0m\u001b]8;id=421025;file:///home/jeongho/git/SKN05-FINAL-1TEAM/jeongho/RAGprojects_env/lib/python3.12/site-packages/httpx/_client.py#1773\u001b\\\u001b[2m1773\u001b[0m\u001b]8;;\u001b\\\n",
       "\u001b[2;36m                    \u001b[0m         \u001b[4;94mhttps://api.openai.com/v1/chat/completions\u001b[0m \u001b[32m\"HTTP/1.1 200 OK\"\u001b[0m           \u001b[2m               \u001b[0m\n"
      ]
     },
     "metadata": {},
     "output_type": "display_data"
    },
    {
     "data": {
      "text/html": [
       "<pre style=\"white-space:pre;overflow-x:auto;line-height:normal;font-family:Menlo,'DejaVu Sans Mono',consolas,'Courier New',monospace\"><span style=\"color: #7fbfbf; text-decoration-color: #7fbfbf\">[02/05/25 18:53:01] </span><span style=\"color: #000080; text-decoration-color: #000080\">INFO    </span> <span style=\"font-weight: bold\">[</span>_client.py:<span style=\"color: #008080; text-decoration-color: #008080; font-weight: bold\">1026</span><span style=\"font-weight: bold\">]</span> &gt;&gt; HTTP Request: <span style=\"color: #808000; text-decoration-color: #808000; font-weight: bold\">POST</span>                                <a href=\"file:///home/jeongho/git/SKN05-FINAL-1TEAM/jeongho/RAGprojects_env/lib/python3.12/site-packages/httpx/_client.py\" target=\"_blank\"><span style=\"color: #7f7f7f; text-decoration-color: #7f7f7f\">_client.py</span></a><span style=\"color: #7f7f7f; text-decoration-color: #7f7f7f\">:</span><a href=\"file:///home/jeongho/git/SKN05-FINAL-1TEAM/jeongho/RAGprojects_env/lib/python3.12/site-packages/httpx/_client.py#1026\" target=\"_blank\"><span style=\"color: #7f7f7f; text-decoration-color: #7f7f7f\">1026</span></a>\n",
       "<span style=\"color: #7fbfbf; text-decoration-color: #7fbfbf\">                    </span>         <span style=\"color: #0000ff; text-decoration-color: #0000ff; text-decoration: underline\">https://api.openai.com/v1/chat/completions</span> <span style=\"color: #008000; text-decoration-color: #008000\">\"HTTP/1.1 200 OK\"</span>           <span style=\"color: #7f7f7f; text-decoration-color: #7f7f7f\">               </span>\n",
       "</pre>\n"
      ],
      "text/plain": [
       "\u001b[2;36m[02/05/25 18:53:01]\u001b[0m\u001b[2;36m \u001b[0m\u001b[34mINFO    \u001b[0m \u001b[1m[\u001b[0m_client.py:\u001b[1;36m1026\u001b[0m\u001b[1m]\u001b[0m >> HTTP Request: \u001b[1;33mPOST\u001b[0m                                \u001b]8;id=408319;file:///home/jeongho/git/SKN05-FINAL-1TEAM/jeongho/RAGprojects_env/lib/python3.12/site-packages/httpx/_client.py\u001b\\\u001b[2m_client.py\u001b[0m\u001b]8;;\u001b\\\u001b[2m:\u001b[0m\u001b]8;id=358603;file:///home/jeongho/git/SKN05-FINAL-1TEAM/jeongho/RAGprojects_env/lib/python3.12/site-packages/httpx/_client.py#1026\u001b\\\u001b[2m1026\u001b[0m\u001b]8;;\u001b\\\n",
       "\u001b[2;36m                    \u001b[0m         \u001b[4;94mhttps://api.openai.com/v1/chat/completions\u001b[0m \u001b[32m\"HTTP/1.1 200 OK\"\u001b[0m           \u001b[2m               \u001b[0m\n"
      ]
     },
     "metadata": {},
     "output_type": "display_data"
    }
   ],
   "source": [
    "import graph\n",
    "\n",
    "input_dict = {\n",
    "    \"sessionId\": 1,\n",
    "    \"brand\": \"fuji\",\n",
    "    \"model\": \"x-t5\",\n",
    "    \"question\": \"How to eliminate memory card?\"\n",
    "}\n",
    "a = graph.graph.invoke(input_dict)"
   ]
  },
  {
   "cell_type": "code",
   "execution_count": 7,
   "metadata": {},
   "outputs": [
    {
     "data": {
      "text/markdown": [
       "To remove a memory card from your camera, follow these steps:\n",
       "\n",
       "1. **Turn Off the Camera**: Ensure the camera is powered down before attempting to remove the memory card to prevent data corruption or damage.\n",
       "\n",
       "2. **Open the Memory Card Slot Cover**: Unlatch and open the cover to access the memory card slot.\n",
       "\n",
       "3. **Eject the Card**: \n",
       "   - Press the center of the card gently with your finger.\n",
       "   - Slowly release your finger to allow the card to pop out slightly from the slot.\n",
       "   - Carefully remove the card by hand.\n",
       "\n",
       "> **Caution**: Avoid suddenly removing your finger from the card to prevent it from falling. If the camera displays a warning icon indicating the card is hot, wait for it to cool before removing to avoid injury.\n",
       "\n",
       "> ⚠️ **Warning**: Do not remove the memory card while it is being formatted, or while data is being recorded to or deleted from the card, as this could damage the card.\n",
       "\n",
       "![Removing Memory Card Diagram](../indexing/data/image/x-t5/extracted_images/x-t5_page39_image1.png)"
      ],
      "text/plain": [
       "<IPython.core.display.Markdown object>"
      ]
     },
     "metadata": {},
     "output_type": "display_data"
    }
   ],
   "source": [
    "from IPython.display import display, Markdown\n",
    "\n",
    "markdown_text = a['temp']\n",
    "\n",
    "display(Markdown(markdown_text))\n"
   ]
  },
  {
   "cell_type": "code",
   "execution_count": 16,
   "metadata": {},
   "outputs": [],
   "source": [
    "# {model}_page{page}\n",
    "from glob import glob\n",
    "import os\n",
    "\n",
    "model = \"x-e4\"\n",
    "page = 8\n",
    "data_dir = \"../indexing/data\"\n",
    "image_dir = os.path.join(data_dir, 'image')\n",
    "\n",
    "list = glob(os.path.join(image_dir, model, \"extracted_images\",f\"{model}_page{page}_*\"))"
   ]
  },
  {
   "cell_type": "code",
   "execution_count": 17,
   "metadata": {},
   "outputs": [
    {
     "data": {
      "text/plain": [
       "['../indexing/data/image/x-e4/extracted_images/x-e4_page8_image1.png',\n",
       " '../indexing/data/image/x-e4/extracted_images/x-e4_page8_image2.png']"
      ]
     },
     "execution_count": 17,
     "metadata": {},
     "output_type": "execute_result"
    }
   ],
   "source": [
    "list"
   ]
  },
  {
   "cell_type": "code",
   "execution_count": 14,
   "metadata": {},
   "outputs": [
    {
     "name": "stdout",
     "output_type": "stream",
     "text": [
      "image  json  legacy_data  raw_data\n"
     ]
    }
   ],
   "source": [
    "!ls ../indexing/data"
   ]
  }
 ],
 "metadata": {
  "kernelspec": {
   "display_name": "RAGprojects_env",
   "language": "python",
   "name": "python3"
  },
  "language_info": {
   "codemirror_mode": {
    "name": "ipython",
    "version": 3
   },
   "file_extension": ".py",
   "mimetype": "text/x-python",
   "name": "python",
   "nbconvert_exporter": "python",
   "pygments_lexer": "ipython3",
   "version": "3.12.3"
  }
 },
 "nbformat": 4,
 "nbformat_minor": 2
}
