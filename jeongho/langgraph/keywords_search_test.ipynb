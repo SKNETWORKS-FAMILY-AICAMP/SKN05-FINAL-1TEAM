{
 "cells": [
  {
   "cell_type": "code",
   "execution_count": 4,
   "metadata": {},
   "outputs": [
    {
     "name": "stdout",
     "output_type": "stream",
     "text": [
      "Collecting tavily-python\n",
      "  Downloading tavily_python-0.5.0-py3-none-any.whl.metadata (11 kB)\n",
      "Requirement already satisfied: requests in /home/jeongho/RAGprojects/RAGprojects_env/lib/python3.12/site-packages (from tavily-python) (2.32.3)\n",
      "Collecting tiktoken>=0.5.1 (from tavily-python)\n",
      "  Using cached tiktoken-0.8.0-cp312-cp312-manylinux_2_17_x86_64.manylinux2014_x86_64.whl.metadata (6.6 kB)\n",
      "Requirement already satisfied: httpx in /home/jeongho/RAGprojects/RAGprojects_env/lib/python3.12/site-packages (from tavily-python) (0.28.1)\n",
      "Collecting regex>=2022.1.18 (from tiktoken>=0.5.1->tavily-python)\n",
      "  Using cached regex-2024.11.6-cp312-cp312-manylinux_2_17_x86_64.manylinux2014_x86_64.whl.metadata (40 kB)\n",
      "Requirement already satisfied: charset-normalizer<4,>=2 in /home/jeongho/RAGprojects/RAGprojects_env/lib/python3.12/site-packages (from requests->tavily-python) (3.4.1)\n",
      "Requirement already satisfied: idna<4,>=2.5 in /home/jeongho/RAGprojects/RAGprojects_env/lib/python3.12/site-packages (from requests->tavily-python) (3.10)\n",
      "Requirement already satisfied: urllib3<3,>=1.21.1 in /home/jeongho/RAGprojects/RAGprojects_env/lib/python3.12/site-packages (from requests->tavily-python) (2.3.0)\n",
      "Requirement already satisfied: certifi>=2017.4.17 in /home/jeongho/RAGprojects/RAGprojects_env/lib/python3.12/site-packages (from requests->tavily-python) (2024.12.14)\n",
      "Requirement already satisfied: anyio in /home/jeongho/RAGprojects/RAGprojects_env/lib/python3.12/site-packages (from httpx->tavily-python) (4.8.0)\n",
      "Requirement already satisfied: httpcore==1.* in /home/jeongho/RAGprojects/RAGprojects_env/lib/python3.12/site-packages (from httpx->tavily-python) (1.0.7)\n",
      "Requirement already satisfied: h11<0.15,>=0.13 in /home/jeongho/RAGprojects/RAGprojects_env/lib/python3.12/site-packages (from httpcore==1.*->httpx->tavily-python) (0.14.0)\n",
      "Requirement already satisfied: sniffio>=1.1 in /home/jeongho/RAGprojects/RAGprojects_env/lib/python3.12/site-packages (from anyio->httpx->tavily-python) (1.3.1)\n",
      "Requirement already satisfied: typing_extensions>=4.5 in /home/jeongho/RAGprojects/RAGprojects_env/lib/python3.12/site-packages (from anyio->httpx->tavily-python) (4.12.2)\n",
      "Downloading tavily_python-0.5.0-py3-none-any.whl (14 kB)\n",
      "Using cached tiktoken-0.8.0-cp312-cp312-manylinux_2_17_x86_64.manylinux2014_x86_64.whl (1.2 MB)\n",
      "Using cached regex-2024.11.6-cp312-cp312-manylinux_2_17_x86_64.manylinux2014_x86_64.whl (796 kB)\n",
      "Installing collected packages: regex, tiktoken, tavily-python\n",
      "Successfully installed regex-2024.11.6 tavily-python-0.5.0 tiktoken-0.8.0\n"
     ]
    }
   ],
   "source": [
    "!pip install tavily-python"
   ]
  },
  {
   "cell_type": "code",
   "execution_count": 9,
   "metadata": {},
   "outputs": [
    {
     "data": {
      "text/plain": [
       "True"
      ]
     },
     "execution_count": 9,
     "metadata": {},
     "output_type": "execute_result"
    }
   ],
   "source": [
    "from dotenv import load_dotenv\n",
    "\n",
    "load_dotenv(dotenv_path=\".env\", override=True)"
   ]
  },
  {
   "cell_type": "code",
   "execution_count": 18,
   "metadata": {},
   "outputs": [
    {
     "data": {
      "text/plain": [
       "{'role': 'user',\n",
       " 'content': '다음 정보를 참고하여 \\'화이트 벨런스\\'에 대한 설명을 작성하세요:\\n\\n화이트 밸런스(White Balance)는 사진이나 영상에서 색상을 정확하게 표현하기 위해 조정하는 과정이에요. 이 기능은 특히 조명이 다양한 환경에서 촬영할 때 중요하죠. 화이트 밸런스를 잘 맞추면, 촬영한 이미지나 영상에서 색상이 자연스럽고 현실적으로 보이게\\n디지털 사진의 화이트 밸런스 이해. 화이트 밸런스는 색상을 보다 사실적으로 나타내기 위한 디지털 사진의 조정 기능입니다. \"흰색을 흰색으로 보이도록 만들기 위해 사진을 중성색으로 설정하는 방법입니다\"라고 사진작가이자 교육자인 Adam Long은 말합니다.\\n화이트밸런스 기능은 이 색온도를 카메라가 감지해서 알맞은 값으로 조정하는 것이라고 할 수 있겠습니다. 화이트밸런스는 말 그대로 흰색을 기준으로 다른 색들도 본래의 색으로 찍히도록 하는 기능이며, 역으로 본래가 아닌 색으로 찍히도록 활용해서 개성\\n\\n오직 사진 촬영과 카메라 기술과 관련된 정보만 사용하여 용어를 설명하세요. 카메라와 무관한 의미(예: 국제 표준화 기구)는 포함하지 마세요.'}"
      ]
     },
     "execution_count": 18,
     "metadata": {},
     "output_type": "execute_result"
    }
   ],
   "source": [
    "{\"role\": \"user\", \"content\": f\"다음 정보를 참고하여 '{term}'에 대한 설명을 작성하세요:\\n\\n{search_data}\\n\\n\"\n",
    "                                     f\"오직 사진 촬영과 카메라 기술과 관련된 정보만 사용하여 용어를 설명하세요. \"\n",
    "                                     f\"카메라와 무관한 의미(예: 국제 표준화 기구)는 포함하지 마세요.\"}"
   ]
  },
  {
   "cell_type": "code",
   "execution_count": 10,
   "metadata": {},
   "outputs": [],
   "source": [
    "from tavily import TavilyClient\n",
    "import os\n",
    "\n",
    "tavily_client = TavilyClient(api_key=os.getenv(\"TAVILY_API_KEY\"))"
   ]
  },
  {
   "cell_type": "code",
   "execution_count": null,
   "metadata": {},
   "outputs": [],
   "source": [
    "# Step 5. 사용자 질문 입력 및 응답 생성\n",
    "query = \"카메라에서 조리개 값이 사진에 미치는 영향은?\"  # 예제 질문\n",
    "response = qa_chain.run(query)\n",
    "print(\"AI 응답:\", response)\n",
    "\n",
    "# Step 6. 전문 용어 추출 (정규 표현식 + GPT 활용 가능)\n",
    "def extract_terms(text):\n",
    "    camera_terms = re.findall(r\"\\b(ISO|조리개|셔터 스피드|화이트 밸런스|초점 거리|노출 보정|RAW|JPEG|EVF|광학 줌)\\b\", text, re.IGNORECASE)\n",
    "    return list(set(camera_terms))  # 중복 제거\n",
    "\n",
    "# 추출된 용어 확인\n",
    "extracted_terms = extract_terms(response)\n",
    "print(\"추출된 용어:\", extracted_terms)\n"
   ]
  },
  {
   "cell_type": "code",
   "execution_count": null,
   "metadata": {},
   "outputs": [],
   "source": [
    "from langchain.adapters.openai import convert_openai_messages\n",
    "from langchain_community.chat_models import ChatOpenAI\n",
    "from tavily import TavilyClient"
   ]
  },
  {
   "cell_type": "code",
   "execution_count": 17,
   "metadata": {},
   "outputs": [
    {
     "name": "stdout",
     "output_type": "stream",
     "text": [
      "🔍 용어: 화이트 벨런스\n",
      "설명: 화이트 밸런스는 사진이나 영상에서 색상을 자연스럽고 정확하게 표현하기 위해 사용하는 카메라의 중요한 기능입니다. 이는 특히 조명이 다양한 환경에서 촬영할 때 더욱 중요해요. 예를 들어, 실내 조명은 종종 노란색이나 주황색 빛을 띠고, 야외의 햇빛은 푸르스름할 수 있습니다. 이런 상황에서 화이트 밸런스를 제대로 맞추지 않으면 사진이나 영상의 색상이 왜곡되어 보일 수 있죠.\n",
      "\n",
      "화이트 밸런스는 카메라가 다양한 조명 환경에서 색온도를 감지하여 흰색이 본래의 흰색으로 보이도록 조정하는 과정을 말합니다. 이 과정을 통해 다른 색상도 자연스럽고 현실적인 색으로 표현될 수 있습니다. 사진작가 Adam Long은 이를 \"흰색을 흰색으로 보이도록 만드는 방법\"이라고 설명합니다.\n",
      "\n",
      "또한, 화이트 밸런스를 창의적으로 사용하여 특정 분위기나 느낌을 표현할 수도 있습니다. 예를 들어, 따뜻한 느낌을 주고 싶다면 화이트 밸런스를 조정하여 이미지에 노란색 톤을 더할 수 있습니다. 반대로, 차가운 느낌을 원한다면 푸른색 톤을 강조할 수도 있죠. 따라서, 화이트 밸런스는 단순히 색을 정확히 표현하는 역할을 넘어, 창의적인 연출에도 중요한 도구가 됩니다.\n",
      "\n"
     ]
    }
   ],
   "source": [
    "# Step 7. Tavily를 이용한 용어별 웹 검색 실행\n",
    "def search_term(term):\n",
    "    search_results = tavily_client.search(term, search_depth=\"advanced\")[\"results\"]\n",
    "    return \"\\n\".join([result[\"content\"] for result in search_results[:3]])  # 상위 3개 결과를 반환\n",
    "\n",
    "# Step 8. GPT-4o를 사용한 용어 설명 생성\n",
    "def explain_term(term, search_data):\n",
    "    prompt = [\n",
    "        {\"role\": \"system\", \"content\": \"당신은 카메라 전문 용어를 쉽게 설명하는 전문가입니다.\"},\n",
    "        {\"role\": \"user\", \"content\": f\"다음 정보를 참고하여 '{term}'에 대한 설명을 작성하세요:\\n\\n{search_data}\"}\n",
    "    ]\n",
    "    \n",
    "    lc_messages = convert_openai_messages(prompt)\n",
    "    explanation = ChatOpenAI(model=\"gpt-4o\", openai_api_key=os.getenv(\"OPENAI_API_KEY\")).invoke(lc_messages).content\n",
    "    return explanation\n",
    "extracted_terms = [\"화이트 벨런스\"]\n",
    "# Step 9. 각 용어에 대한 설명 생성\n",
    "term_explanations = {}\n",
    "for term in extracted_terms:\n",
    "    search_data = search_term(term)\n",
    "    explanation = explain_term(term, search_data)\n",
    "    term_explanations[term] = explanation\n",
    "\n",
    "# 결과 출력\n",
    "for term, explanation in term_explanations.items():\n",
    "    print(f\"🔍 용어: {term}\\n설명: {explanation}\\n\")\n"
   ]
  },
  {
   "cell_type": "code",
   "execution_count": null,
   "metadata": {},
   "outputs": [],
   "source": [
    "from pydantic import BaseModel, Field\n",
    "\n",
    "class InputState(BaseModel):\n",
    "    brand: str\n",
    "    model: str\n",
    "    question: str\n",
    "    sessionId: int = Field(default=None, description=\"없으면 새로운 session 생성\")\n",
    "    "
   ]
  }
 ],
 "metadata": {
  "kernelspec": {
   "display_name": "RAGprojects_env",
   "language": "python",
   "name": "python3"
  },
  "language_info": {
   "codemirror_mode": {
    "name": "ipython",
    "version": 3
   },
   "file_extension": ".py",
   "mimetype": "text/x-python",
   "name": "python",
   "nbconvert_exporter": "python",
   "pygments_lexer": "ipython3",
   "version": "3.12.3"
  }
 },
 "nbformat": 4,
 "nbformat_minor": 2
}
