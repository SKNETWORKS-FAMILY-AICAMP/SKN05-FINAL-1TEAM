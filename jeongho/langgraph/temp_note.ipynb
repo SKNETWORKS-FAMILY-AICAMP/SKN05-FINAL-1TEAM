{
 "cells": [
  {
   "cell_type": "code",
   "execution_count": 5,
   "metadata": {},
   "outputs": [],
   "source": [
    "from langgraph.types import Command, interrupt"
   ]
  },
  {
   "cell_type": "code",
   "execution_count": 6,
   "metadata": {},
   "outputs": [],
   "source": [
    "import startup"
   ]
  },
  {
   "cell_type": "code",
   "execution_count": 7,
   "metadata": {},
   "outputs": [
    {
     "name": "stdout",
     "output_type": "stream",
     "text": [
      "{'check_validation_criteria': {'question': 'How to control focus?', 'brand': 'fuji', 'validation_results': {'camera_question': True, 'is_setting': False, 'choose_brand': False}}}\n",
      "\n",
      "\n",
      "{'decide_next_step': {'next_step': 'ask_brand'}}\n",
      "\n",
      "\n",
      "{'__interrupt__': (Interrupt(value='brand입력해라', resumable=True, ns=['human_node:540d247e-b0f1-a8d7-7503-ebcc56c34aad'], when='during'),)}\n",
      "\n",
      "\n"
     ]
    }
   ],
   "source": [
    "from temp_graph import graph\n",
    "\n",
    "# Thread\n",
    "input_dict = {\n",
    "    \"question\": \"How to control focus?\"\n",
    "}\n",
    "thread = {\"configurable\": {\"thread_id\": \"1\"}}\n",
    "for event in graph.stream(input_dict, thread, stream_mode=\"updates\"):\n",
    "    print(event)\n",
    "    print(\"\\n\")"
   ]
  },
  {
   "cell_type": "code",
   "execution_count": 8,
   "metadata": {},
   "outputs": [
    {
     "name": "stdout",
     "output_type": "stream",
     "text": [
      "fuji를 입력 받음\n",
      "{'human_node': {'brand': 'fuji'}}\n",
      "\n",
      "\n",
      "{'generate_answer': {'answer': '후지필름(Fuji)은 일본의 유명한 카메라 및 사진 관련 제품 제조업체로, 특히 미러리스 카메라와 필름 카메라로 잘 알려져 있습니다. 후지필름은 오랜 역사와 전통을 가지고 있으며, 디지털 카메라 시장에서도 독창적인 디자인과 뛰어난 이미지 품질로 많은 사랑을 받고 있습니다.\\n\\n후지필름의 X 시리즈는 APS-C 센서를 기반으로 한 미러리스 카메라 라인업으로, 클래식한 디자인과 직관적인 조작성을 특징으로 합니다. 이 시리즈는 뛰어난 색 재현력과 필름 시뮬레이션 모드를 제공하여, 다양한 촬영 스타일을 지원합니다. 특히, 후지필름의 필름 시뮬레이션 모드는 과거의 유명한 필름의 색감을 디지털로 재현하여, 사진가들에게 다양한 창의적 표현을 가능하게 합니다.\\n\\n또한, 후지필름은 중형 포맷의 GFX 시리즈도 제공하고 있습니다. 이 시리즈는 대형 센서를 탑재하여, 높은 해상도와 뛰어난 이미지 품질을 자랑합니다. GFX 시리즈는 전문 사진가와 스튜디오 촬영에 적합한 카메라로, 풍부한 디테일과 깊이 있는 이미지를 제공합니다.\\n\\n후지필름은 또한 다양한 렌즈 라인업을 보유하고 있어, 사용자들이 다양한 촬영 환경에 맞춰 선택할 수 있는 폭넓은 옵션을 제공합니다. 후지필름의 카메라는 사진 애호가부터 전문 사진가까지 다양한 사용자층에게 인기를 끌고 있으며, 그들의 혁신적인 기술과 디자인은 계속해서 많은 사람들에게 영감을 주고 있습니다.'}}\n",
      "\n",
      "\n"
     ]
    }
   ],
   "source": [
    "for event in graph.stream(\n",
    "    Command(resume=\"fuji\"), thread, stream_mode=\"updates\"\n",
    "):\n",
    "    print(event)\n",
    "    print(\"\\n\")"
   ]
  },
  {
   "cell_type": "code",
   "execution_count": 6,
   "metadata": {},
   "outputs": [
    {
     "data": {
      "image/png": "[encoded data removed]",
      "text/plain": [
       "<langgraph.graph.state.CompiledStateGraph object at 0x7f71a4011df0>"
      ]
     },
     "execution_count": 6,
     "metadata": {},
     "output_type": "execute_result"
    }
   ],
   "source": [
    "graph"
   ]
  },
  {
   "cell_type": "code",
   "execution_count": null,
   "metadata": {},
   "outputs": [],
   "source": []
  },
  {
   "cell_type": "code",
   "execution_count": 5,
   "metadata": {},
   "outputs": [],
   "source": [
    "a = {\"a\":1,\n",
    "     \"b\":2}\n",
    "def test_a(a):\n",
    "    return{**a}"
   ]
  },
  {
   "cell_type": "code",
   "execution_count": 6,
   "metadata": {},
   "outputs": [
    {
     "data": {
      "text/plain": [
       "{'a': 1, 'b': 2}"
      ]
     },
     "execution_count": 6,
     "metadata": {},
     "output_type": "execute_result"
    }
   ],
   "source": [
    "test_a(a)"
   ]
  }
 ],
 "metadata": {
  "kernelspec": {
   "display_name": "RAGprojects_env",
   "language": "python",
   "name": "python3"
  },
  "language_info": {
   "codemirror_mode": {
    "name": "ipython",
    "version": 3
   },
   "file_extension": ".py",
   "mimetype": "text/x-python",
   "name": "python",
   "nbconvert_exporter": "python",
   "pygments_lexer": "ipython3",
   "version": "3.12.3"
  }
 },
 "nbformat": 4,
 "nbformat_minor": 2
}
